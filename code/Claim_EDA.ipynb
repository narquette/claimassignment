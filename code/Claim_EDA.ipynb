{
 "cells": [
  {
   "cell_type": "markdown",
   "metadata": {},
   "source": [
    "# ------ Import Modules ------"
   ]
  },
  {
   "cell_type": "code",
   "execution_count": 2,
   "metadata": {
    "ExecuteTime": {
     "end_time": "2020-07-27T15:51:52.354529Z",
     "start_time": "2020-07-27T15:51:50.278078Z"
    }
   },
   "outputs": [],
   "source": [
    "# import necessary modules\n",
    "import pandas as pd\n",
    "import numpy as np\n",
    "import warnings\n",
    "import seaborn as sns\n",
    "import matplotlib.pyplot as plt\n",
    "import os \n",
    "from pandas_profiling import ProfileReport\n",
    "from helperFile import GetProviderCount, MachineLearning, data_types\n",
    "from IPython.display import HTML, IFrame\n",
    "\n",
    "# suppress warnings\n",
    "warnings.filterwarnings('ignore')"
   ]
  },
  {
   "cell_type": "markdown",
   "metadata": {},
   "source": [
    "# ------ Exploratory Data Analysis ------"
   ]
  },
  {
   "cell_type": "markdown",
   "metadata": {},
   "source": [
    "## Load Data"
   ]
  },
  {
   "cell_type": "code",
   "execution_count": 13,
   "metadata": {
    "ExecuteTime": {
     "end_time": "2020-07-25T22:09:04.329725Z",
     "start_time": "2020-07-25T22:09:01.555043Z"
    }
   },
   "outputs": [
    {
     "data": {
      "text/html": [
       "<div>\n",
       "<style scoped>\n",
       "    .dataframe tbody tr th:only-of-type {\n",
       "        vertical-align: middle;\n",
       "    }\n",
       "\n",
       "    .dataframe tbody tr th {\n",
       "        vertical-align: top;\n",
       "    }\n",
       "\n",
       "    .dataframe thead th {\n",
       "        text-align: right;\n",
       "    }\n",
       "</style>\n",
       "<table border=\"1\" class=\"dataframe\">\n",
       "  <thead>\n",
       "    <tr style=\"text-align: right;\">\n",
       "      <th></th>\n",
       "      <th>Claim.Number</th>\n",
       "      <th>Claim.Line.Number</th>\n",
       "      <th>Member.ID</th>\n",
       "      <th>Provider.ID</th>\n",
       "      <th>Line.Of.Business.ID</th>\n",
       "      <th>Revenue.Code</th>\n",
       "      <th>Service.Code</th>\n",
       "      <th>Place.Of.Service.Code</th>\n",
       "      <th>Procedure.Code</th>\n",
       "      <th>Diagnosis.Code</th>\n",
       "      <th>Claim.Charge.Amount</th>\n",
       "      <th>Denial.Reason.Code</th>\n",
       "      <th>Price.Index</th>\n",
       "      <th>In.Out.Of.Network</th>\n",
       "      <th>Reference.Index</th>\n",
       "      <th>Pricing.Index</th>\n",
       "      <th>Capitation.Index</th>\n",
       "      <th>Subscriber.Payment.Amount</th>\n",
       "      <th>Provider.Payment.Amount</th>\n",
       "      <th>Group.Index</th>\n",
       "      <th>Subscriber.Index</th>\n",
       "      <th>Subgroup.Index</th>\n",
       "      <th>Claim.Type</th>\n",
       "      <th>Claim.Subscriber.Type</th>\n",
       "      <th>Claim.Pre.Prince.Index</th>\n",
       "      <th>Claim.Current.Status</th>\n",
       "      <th>Network.ID</th>\n",
       "      <th>Agreement.ID</th>\n",
       "    </tr>\n",
       "  </thead>\n",
       "  <tbody>\n",
       "    <tr>\n",
       "      <th>472554</th>\n",
       "      <td>895587990.0</td>\n",
       "      <td>17</td>\n",
       "      <td>98799627</td>\n",
       "      <td>FA0001389001</td>\n",
       "      <td></td>\n",
       "      <td>636</td>\n",
       "      <td>OP7O</td>\n",
       "      <td></td>\n",
       "      <td></td>\n",
       "      <td>72930</td>\n",
       "      <td>265.7261</td>\n",
       "      <td></td>\n",
       "      <td></td>\n",
       "      <td></td>\n",
       "      <td></td>\n",
       "      <td></td>\n",
       "      <td></td>\n",
       "      <td>0.0</td>\n",
       "      <td>0.0</td>\n",
       "      <td>48549</td>\n",
       "      <td>80032100</td>\n",
       "      <td>52255</td>\n",
       "      <td>M</td>\n",
       "      <td>H</td>\n",
       "      <td></td>\n",
       "      <td>2</td>\n",
       "      <td></td>\n",
       "      <td></td>\n",
       "    </tr>\n",
       "    <tr>\n",
       "      <th>472555</th>\n",
       "      <td>895587990.0</td>\n",
       "      <td>18</td>\n",
       "      <td>98799627</td>\n",
       "      <td>FA0001389001</td>\n",
       "      <td></td>\n",
       "      <td>636</td>\n",
       "      <td>OP7O</td>\n",
       "      <td></td>\n",
       "      <td></td>\n",
       "      <td>72930</td>\n",
       "      <td>174.5706</td>\n",
       "      <td></td>\n",
       "      <td></td>\n",
       "      <td></td>\n",
       "      <td></td>\n",
       "      <td></td>\n",
       "      <td></td>\n",
       "      <td>0.0</td>\n",
       "      <td>0.0</td>\n",
       "      <td>48549</td>\n",
       "      <td>80032100</td>\n",
       "      <td>52255</td>\n",
       "      <td>M</td>\n",
       "      <td>H</td>\n",
       "      <td></td>\n",
       "      <td>2</td>\n",
       "      <td></td>\n",
       "      <td></td>\n",
       "    </tr>\n",
       "    <tr>\n",
       "      <th>472556</th>\n",
       "      <td>895587990.0</td>\n",
       "      <td>19</td>\n",
       "      <td>98799627</td>\n",
       "      <td>FA0001389001</td>\n",
       "      <td></td>\n",
       "      <td>260</td>\n",
       "      <td>IH7O</td>\n",
       "      <td></td>\n",
       "      <td></td>\n",
       "      <td>72930</td>\n",
       "      <td>317.2665</td>\n",
       "      <td></td>\n",
       "      <td></td>\n",
       "      <td></td>\n",
       "      <td></td>\n",
       "      <td></td>\n",
       "      <td></td>\n",
       "      <td>0.0</td>\n",
       "      <td>0.0</td>\n",
       "      <td>48549</td>\n",
       "      <td>80032100</td>\n",
       "      <td>52255</td>\n",
       "      <td>M</td>\n",
       "      <td>H</td>\n",
       "      <td></td>\n",
       "      <td>2</td>\n",
       "      <td></td>\n",
       "      <td></td>\n",
       "    </tr>\n",
       "    <tr>\n",
       "      <th>472557</th>\n",
       "      <td>895587990.0</td>\n",
       "      <td>1</td>\n",
       "      <td>98799627</td>\n",
       "      <td>FA0001389001</td>\n",
       "      <td></td>\n",
       "      <td>324</td>\n",
       "      <td>RA7O</td>\n",
       "      <td></td>\n",
       "      <td>71020</td>\n",
       "      <td>V7283</td>\n",
       "      <td>358.0050</td>\n",
       "      <td></td>\n",
       "      <td></td>\n",
       "      <td></td>\n",
       "      <td></td>\n",
       "      <td></td>\n",
       "      <td></td>\n",
       "      <td>0.0</td>\n",
       "      <td>0.0</td>\n",
       "      <td>48549</td>\n",
       "      <td>80032100</td>\n",
       "      <td>52255</td>\n",
       "      <td>M</td>\n",
       "      <td>H</td>\n",
       "      <td></td>\n",
       "      <td>2</td>\n",
       "      <td></td>\n",
       "      <td></td>\n",
       "    </tr>\n",
       "    <tr>\n",
       "      <th>472558</th>\n",
       "      <td>231056990.0</td>\n",
       "      <td>1</td>\n",
       "      <td>99975920</td>\n",
       "      <td>FA0001389001</td>\n",
       "      <td></td>\n",
       "      <td>324</td>\n",
       "      <td>RA7O</td>\n",
       "      <td></td>\n",
       "      <td>71020</td>\n",
       "      <td>78607</td>\n",
       "      <td>358.0050</td>\n",
       "      <td></td>\n",
       "      <td></td>\n",
       "      <td></td>\n",
       "      <td></td>\n",
       "      <td></td>\n",
       "      <td></td>\n",
       "      <td>0.0</td>\n",
       "      <td>0.0</td>\n",
       "      <td>48546</td>\n",
       "      <td>80984950</td>\n",
       "      <td>0</td>\n",
       "      <td>M</td>\n",
       "      <td>H</td>\n",
       "      <td></td>\n",
       "      <td>2</td>\n",
       "      <td></td>\n",
       "      <td></td>\n",
       "    </tr>\n",
       "  </tbody>\n",
       "</table>\n",
       "</div>"
      ],
      "text/plain": [
       "        Claim.Number Claim.Line.Number Member.ID   Provider.ID  \\\n",
       "472554   895587990.0                17  98799627  FA0001389001   \n",
       "472555   895587990.0                18  98799627  FA0001389001   \n",
       "472556   895587990.0                19  98799627  FA0001389001   \n",
       "472557   895587990.0                 1  98799627  FA0001389001   \n",
       "472558   231056990.0                 1  99975920  FA0001389001   \n",
       "\n",
       "       Line.Of.Business.ID Revenue.Code Service.Code Place.Of.Service.Code  \\\n",
       "472554                              636         OP7O                         \n",
       "472555                              636         OP7O                         \n",
       "472556                              260         IH7O                         \n",
       "472557                              324         RA7O                         \n",
       "472558                              324         RA7O                         \n",
       "\n",
       "       Procedure.Code Diagnosis.Code  Claim.Charge.Amount Denial.Reason.Code  \\\n",
       "472554                         72930             265.7261                      \n",
       "472555                         72930             174.5706                      \n",
       "472556                         72930             317.2665                      \n",
       "472557          71020          V7283             358.0050                      \n",
       "472558          71020          78607             358.0050                      \n",
       "\n",
       "       Price.Index In.Out.Of.Network Reference.Index Pricing.Index  \\\n",
       "472554                                                               \n",
       "472555                                                               \n",
       "472556                                                               \n",
       "472557                                                               \n",
       "472558                                                               \n",
       "\n",
       "       Capitation.Index  Subscriber.Payment.Amount  Provider.Payment.Amount  \\\n",
       "472554                                         0.0                      0.0   \n",
       "472555                                         0.0                      0.0   \n",
       "472556                                         0.0                      0.0   \n",
       "472557                                         0.0                      0.0   \n",
       "472558                                         0.0                      0.0   \n",
       "\n",
       "       Group.Index Subscriber.Index Subgroup.Index Claim.Type  \\\n",
       "472554       48549         80032100          52255          M   \n",
       "472555       48549         80032100          52255          M   \n",
       "472556       48549         80032100          52255          M   \n",
       "472557       48549         80032100          52255          M   \n",
       "472558       48546         80984950              0          M   \n",
       "\n",
       "       Claim.Subscriber.Type Claim.Pre.Prince.Index Claim.Current.Status  \\\n",
       "472554                     H                                           2   \n",
       "472555                     H                                           2   \n",
       "472556                     H                                           2   \n",
       "472557                     H                                           2   \n",
       "472558                     H                                           2   \n",
       "\n",
       "       Network.ID Agreement.ID  \n",
       "472554                          \n",
       "472555                          \n",
       "472556                          \n",
       "472557                          \n",
       "472558                          "
      ]
     },
     "execution_count": 13,
     "metadata": {},
     "output_type": "execute_result"
    }
   ],
   "source": [
    "# set pandas options\n",
    "pd.set_option('display.max_columns', None)\n",
    "pd.set_option('display.max_rows', 50)\n",
    "\n",
    "# load data\n",
    "claim_data = pd.read_csv(os.path.join('../data','original','claim_sample.tar.gz'), \n",
    "                         compression='gzip', \n",
    "                         dtype=data_types,\n",
    "                         low_memory=False)\n",
    "\n",
    "# drop first column\n",
    "claim_data.drop('claim.sample.csv', axis=1, inplace=True)\n",
    "\n",
    "# drop last row\n",
    "claim_data.dropna(inplace=True)\n",
    "\n",
    "# show last rows to ensure drop last row and first column\n",
    "claim_data.tail()"
   ]
  },
  {
   "cell_type": "code",
   "execution_count": 14,
   "metadata": {
    "ExecuteTime": {
     "end_time": "2020-07-25T22:09:04.658724Z",
     "start_time": "2020-07-25T22:09:04.332096Z"
    }
   },
   "outputs": [
    {
     "name": "stdout",
     "output_type": "stream",
     "text": [
      "<class 'pandas.core.frame.DataFrame'>\n",
      "Int64Index: 472559 entries, 0 to 472558\n",
      "Data columns (total 28 columns):\n",
      " #   Column                     Non-Null Count   Dtype  \n",
      "---  ------                     --------------   -----  \n",
      " 0   Claim.Number               472559 non-null  float64\n",
      " 1   Claim.Line.Number          472559 non-null  object \n",
      " 2   Member.ID                  472559 non-null  object \n",
      " 3   Provider.ID                472559 non-null  object \n",
      " 4   Line.Of.Business.ID        472559 non-null  object \n",
      " 5   Revenue.Code               472559 non-null  object \n",
      " 6   Service.Code               472559 non-null  object \n",
      " 7   Place.Of.Service.Code      472559 non-null  object \n",
      " 8   Procedure.Code             472559 non-null  object \n",
      " 9   Diagnosis.Code             472559 non-null  object \n",
      " 10  Claim.Charge.Amount        472559 non-null  float64\n",
      " 11  Denial.Reason.Code         472559 non-null  object \n",
      " 12  Price.Index                472559 non-null  object \n",
      " 13  In.Out.Of.Network          472559 non-null  object \n",
      " 14  Reference.Index            472559 non-null  object \n",
      " 15  Pricing.Index              472559 non-null  object \n",
      " 16  Capitation.Index           472559 non-null  object \n",
      " 17  Subscriber.Payment.Amount  472559 non-null  float64\n",
      " 18  Provider.Payment.Amount    472559 non-null  float64\n",
      " 19  Group.Index                472559 non-null  object \n",
      " 20  Subscriber.Index           472559 non-null  object \n",
      " 21  Subgroup.Index             472559 non-null  object \n",
      " 22  Claim.Type                 472559 non-null  object \n",
      " 23  Claim.Subscriber.Type      472559 non-null  object \n",
      " 24  Claim.Pre.Prince.Index     472559 non-null  object \n",
      " 25  Claim.Current.Status       472559 non-null  object \n",
      " 26  Network.ID                 472559 non-null  object \n",
      " 27  Agreement.ID               472559 non-null  object \n",
      "dtypes: float64(4), object(24)\n",
      "memory usage: 104.6+ MB\n"
     ]
    }
   ],
   "source": [
    "# show claim data information\n",
    "claim_data.info()"
   ]
  },
  {
   "cell_type": "code",
   "execution_count": 15,
   "metadata": {
    "ExecuteTime": {
     "end_time": "2020-07-25T22:09:08.336603Z",
     "start_time": "2020-07-25T22:09:04.661756Z"
    }
   },
   "outputs": [
    {
     "data": {
      "text/plain": [
       "'The average lines per claim is 5.012449987230783'"
      ]
     },
     "execution_count": 15,
     "metadata": {},
     "output_type": "execute_result"
    }
   ],
   "source": [
    "# get the unique claims\n",
    "averages = claim_data.groupby('Claim.Number')['Claim.Line.Number'].max()\n",
    "average_lines_per_claim = np.average(averages.values.astype('int'))\n",
    "f\"The average lines per claim is {average_lines_per_claim}\""
   ]
  },
  {
   "cell_type": "code",
   "execution_count": 16,
   "metadata": {
    "ExecuteTime": {
     "end_time": "2020-07-25T22:09:08.459561Z",
     "start_time": "2020-07-25T22:09:08.338172Z"
    }
   },
   "outputs": [
    {
     "data": {
      "text/html": [
       "<div>\n",
       "<style scoped>\n",
       "    .dataframe tbody tr th:only-of-type {\n",
       "        vertical-align: middle;\n",
       "    }\n",
       "\n",
       "    .dataframe tbody tr th {\n",
       "        vertical-align: top;\n",
       "    }\n",
       "\n",
       "    .dataframe thead th {\n",
       "        text-align: right;\n",
       "    }\n",
       "</style>\n",
       "<table border=\"1\" class=\"dataframe\">\n",
       "  <thead>\n",
       "    <tr style=\"text-align: right;\">\n",
       "      <th></th>\n",
       "      <th>Claim.Number</th>\n",
       "      <th>Claim.Charge.Amount</th>\n",
       "      <th>Subscriber.Payment.Amount</th>\n",
       "      <th>Provider.Payment.Amount</th>\n",
       "    </tr>\n",
       "  </thead>\n",
       "  <tbody>\n",
       "    <tr>\n",
       "      <th>count</th>\n",
       "      <td>4.725590e+05</td>\n",
       "      <td>472559.000000</td>\n",
       "      <td>472559.000000</td>\n",
       "      <td>472559.000000</td>\n",
       "    </tr>\n",
       "    <tr>\n",
       "      <th>mean</th>\n",
       "      <td>6.876433e+08</td>\n",
       "      <td>1684.487052</td>\n",
       "      <td>0.060524</td>\n",
       "      <td>299.664982</td>\n",
       "    </tr>\n",
       "    <tr>\n",
       "      <th>std</th>\n",
       "      <td>4.631736e+08</td>\n",
       "      <td>6516.274159</td>\n",
       "      <td>14.559293</td>\n",
       "      <td>2651.754216</td>\n",
       "    </tr>\n",
       "    <tr>\n",
       "      <th>min</th>\n",
       "      <td>1.899000e+04</td>\n",
       "      <td>-192496.200000</td>\n",
       "      <td>0.000000</td>\n",
       "      <td>0.000000</td>\n",
       "    </tr>\n",
       "    <tr>\n",
       "      <th>25%</th>\n",
       "      <td>2.554021e+08</td>\n",
       "      <td>141.831700</td>\n",
       "      <td>0.000000</td>\n",
       "      <td>0.000000</td>\n",
       "    </tr>\n",
       "    <tr>\n",
       "      <th>50%</th>\n",
       "      <td>6.453732e+08</td>\n",
       "      <td>327.142500</td>\n",
       "      <td>0.000000</td>\n",
       "      <td>0.000000</td>\n",
       "    </tr>\n",
       "    <tr>\n",
       "      <th>75%</th>\n",
       "      <td>1.060539e+09</td>\n",
       "      <td>1072.781000</td>\n",
       "      <td>0.000000</td>\n",
       "      <td>0.000000</td>\n",
       "    </tr>\n",
       "    <tr>\n",
       "      <th>max</th>\n",
       "      <td>1.541242e+09</td>\n",
       "      <td>756336.700000</td>\n",
       "      <td>7625.259600</td>\n",
       "      <td>491735.200000</td>\n",
       "    </tr>\n",
       "  </tbody>\n",
       "</table>\n",
       "</div>"
      ],
      "text/plain": [
       "       Claim.Number  Claim.Charge.Amount  Subscriber.Payment.Amount  \\\n",
       "count  4.725590e+05        472559.000000              472559.000000   \n",
       "mean   6.876433e+08          1684.487052                   0.060524   \n",
       "std    4.631736e+08          6516.274159                  14.559293   \n",
       "min    1.899000e+04       -192496.200000                   0.000000   \n",
       "25%    2.554021e+08           141.831700                   0.000000   \n",
       "50%    6.453732e+08           327.142500                   0.000000   \n",
       "75%    1.060539e+09          1072.781000                   0.000000   \n",
       "max    1.541242e+09        756336.700000                7625.259600   \n",
       "\n",
       "       Provider.Payment.Amount  \n",
       "count            472559.000000  \n",
       "mean                299.664982  \n",
       "std                2651.754216  \n",
       "min                   0.000000  \n",
       "25%                   0.000000  \n",
       "50%                   0.000000  \n",
       "75%                   0.000000  \n",
       "max              491735.200000  "
      ]
     },
     "execution_count": 16,
     "metadata": {},
     "output_type": "execute_result"
    }
   ],
   "source": [
    "# describe numeric columns\n",
    "claim_data.describe()"
   ]
  },
  {
   "cell_type": "code",
   "execution_count": 17,
   "metadata": {
    "ExecuteTime": {
     "end_time": "2020-07-25T22:09:08.532935Z",
     "start_time": "2020-07-25T22:09:08.461112Z"
    }
   },
   "outputs": [
    {
     "data": {
      "text/html": [
       "<div>\n",
       "<style scoped>\n",
       "    .dataframe tbody tr th:only-of-type {\n",
       "        vertical-align: middle;\n",
       "    }\n",
       "\n",
       "    .dataframe tbody tr th {\n",
       "        vertical-align: top;\n",
       "    }\n",
       "\n",
       "    .dataframe thead th {\n",
       "        text-align: right;\n",
       "    }\n",
       "</style>\n",
       "<table border=\"1\" class=\"dataframe\">\n",
       "  <thead>\n",
       "    <tr style=\"text-align: right;\">\n",
       "      <th></th>\n",
       "      <th>Claim.Number</th>\n",
       "      <th>Claim.Line.Number</th>\n",
       "      <th>Member.ID</th>\n",
       "      <th>Provider.ID</th>\n",
       "      <th>Line.Of.Business.ID</th>\n",
       "      <th>Revenue.Code</th>\n",
       "      <th>Service.Code</th>\n",
       "      <th>Place.Of.Service.Code</th>\n",
       "      <th>Procedure.Code</th>\n",
       "      <th>Diagnosis.Code</th>\n",
       "      <th>Claim.Charge.Amount</th>\n",
       "      <th>Denial.Reason.Code</th>\n",
       "      <th>Price.Index</th>\n",
       "      <th>In.Out.Of.Network</th>\n",
       "      <th>Reference.Index</th>\n",
       "      <th>Pricing.Index</th>\n",
       "      <th>Capitation.Index</th>\n",
       "      <th>Subscriber.Payment.Amount</th>\n",
       "      <th>Provider.Payment.Amount</th>\n",
       "      <th>Group.Index</th>\n",
       "      <th>Subscriber.Index</th>\n",
       "      <th>Subgroup.Index</th>\n",
       "      <th>Claim.Type</th>\n",
       "      <th>Claim.Subscriber.Type</th>\n",
       "      <th>Claim.Pre.Prince.Index</th>\n",
       "      <th>Claim.Current.Status</th>\n",
       "      <th>Network.ID</th>\n",
       "      <th>Agreement.ID</th>\n",
       "    </tr>\n",
       "  </thead>\n",
       "  <tbody>\n",
       "    <tr>\n",
       "      <th>466009</th>\n",
       "      <td>1.389507e+09</td>\n",
       "      <td>5</td>\n",
       "      <td>94431843</td>\n",
       "      <td>FA0001774001</td>\n",
       "      <td></td>\n",
       "      <td>278</td>\n",
       "      <td>AL7I</td>\n",
       "      <td></td>\n",
       "      <td></td>\n",
       "      <td>8052</td>\n",
       "      <td>-192496.2</td>\n",
       "      <td></td>\n",
       "      <td></td>\n",
       "      <td></td>\n",
       "      <td></td>\n",
       "      <td></td>\n",
       "      <td></td>\n",
       "      <td>0.0</td>\n",
       "      <td>0.0</td>\n",
       "      <td>48547</td>\n",
       "      <td>76494000</td>\n",
       "      <td>52030</td>\n",
       "      <td>M</td>\n",
       "      <td>H</td>\n",
       "      <td></td>\n",
       "      <td>99</td>\n",
       "      <td></td>\n",
       "      <td></td>\n",
       "    </tr>\n",
       "    <tr>\n",
       "      <th>466010</th>\n",
       "      <td>1.389507e+09</td>\n",
       "      <td>6</td>\n",
       "      <td>94431843</td>\n",
       "      <td>FA0001774001</td>\n",
       "      <td></td>\n",
       "      <td>278</td>\n",
       "      <td>AL7I</td>\n",
       "      <td></td>\n",
       "      <td></td>\n",
       "      <td>8052</td>\n",
       "      <td>-192496.2</td>\n",
       "      <td></td>\n",
       "      <td></td>\n",
       "      <td></td>\n",
       "      <td></td>\n",
       "      <td></td>\n",
       "      <td></td>\n",
       "      <td>0.0</td>\n",
       "      <td>0.0</td>\n",
       "      <td>48547</td>\n",
       "      <td>76494000</td>\n",
       "      <td>52030</td>\n",
       "      <td>M</td>\n",
       "      <td>H</td>\n",
       "      <td></td>\n",
       "      <td>99</td>\n",
       "      <td></td>\n",
       "      <td></td>\n",
       "    </tr>\n",
       "    <tr>\n",
       "      <th>466049</th>\n",
       "      <td>1.389507e+09</td>\n",
       "      <td>3</td>\n",
       "      <td>94431843</td>\n",
       "      <td>FA0001774001</td>\n",
       "      <td></td>\n",
       "      <td>278</td>\n",
       "      <td>AL7I</td>\n",
       "      <td></td>\n",
       "      <td></td>\n",
       "      <td>8052</td>\n",
       "      <td>-192496.2</td>\n",
       "      <td></td>\n",
       "      <td></td>\n",
       "      <td></td>\n",
       "      <td></td>\n",
       "      <td></td>\n",
       "      <td></td>\n",
       "      <td>0.0</td>\n",
       "      <td>0.0</td>\n",
       "      <td>48547</td>\n",
       "      <td>76494000</td>\n",
       "      <td>52030</td>\n",
       "      <td>M</td>\n",
       "      <td>H</td>\n",
       "      <td></td>\n",
       "      <td>2</td>\n",
       "      <td></td>\n",
       "      <td></td>\n",
       "    </tr>\n",
       "  </tbody>\n",
       "</table>\n",
       "</div>"
      ],
      "text/plain": [
       "        Claim.Number Claim.Line.Number Member.ID   Provider.ID  \\\n",
       "466009  1.389507e+09                 5  94431843  FA0001774001   \n",
       "466010  1.389507e+09                 6  94431843  FA0001774001   \n",
       "466049  1.389507e+09                 3  94431843  FA0001774001   \n",
       "\n",
       "       Line.Of.Business.ID Revenue.Code Service.Code Place.Of.Service.Code  \\\n",
       "466009                              278         AL7I                         \n",
       "466010                              278         AL7I                         \n",
       "466049                              278         AL7I                         \n",
       "\n",
       "       Procedure.Code Diagnosis.Code  Claim.Charge.Amount Denial.Reason.Code  \\\n",
       "466009                          8052            -192496.2                      \n",
       "466010                          8052            -192496.2                      \n",
       "466049                          8052            -192496.2                      \n",
       "\n",
       "       Price.Index In.Out.Of.Network Reference.Index Pricing.Index  \\\n",
       "466009                                                               \n",
       "466010                                                               \n",
       "466049                                                               \n",
       "\n",
       "       Capitation.Index  Subscriber.Payment.Amount  Provider.Payment.Amount  \\\n",
       "466009                                         0.0                      0.0   \n",
       "466010                                         0.0                      0.0   \n",
       "466049                                         0.0                      0.0   \n",
       "\n",
       "       Group.Index Subscriber.Index Subgroup.Index Claim.Type  \\\n",
       "466009       48547         76494000          52030          M   \n",
       "466010       48547         76494000          52030          M   \n",
       "466049       48547         76494000          52030          M   \n",
       "\n",
       "       Claim.Subscriber.Type Claim.Pre.Prince.Index Claim.Current.Status  \\\n",
       "466009                     H                                          99   \n",
       "466010                     H                                          99   \n",
       "466049                     H                                           2   \n",
       "\n",
       "       Network.ID Agreement.ID  \n",
       "466009                          \n",
       "466010                          \n",
       "466049                          "
      ]
     },
     "execution_count": 17,
     "metadata": {},
     "output_type": "execute_result"
    }
   ],
   "source": [
    "# look at the claim with the lowest amount\n",
    "claim_data.loc[claim_data['Claim.Charge.Amount'] == min(claim_data['Claim.Charge.Amount'])]"
   ]
  },
  {
   "cell_type": "code",
   "execution_count": 18,
   "metadata": {
    "ExecuteTime": {
     "end_time": "2020-07-25T22:09:08.582608Z",
     "start_time": "2020-07-25T22:09:08.537147Z"
    }
   },
   "outputs": [
    {
     "data": {
      "text/html": [
       "<div>\n",
       "<style scoped>\n",
       "    .dataframe tbody tr th:only-of-type {\n",
       "        vertical-align: middle;\n",
       "    }\n",
       "\n",
       "    .dataframe tbody tr th {\n",
       "        vertical-align: top;\n",
       "    }\n",
       "\n",
       "    .dataframe thead th {\n",
       "        text-align: right;\n",
       "    }\n",
       "</style>\n",
       "<table border=\"1\" class=\"dataframe\">\n",
       "  <thead>\n",
       "    <tr style=\"text-align: right;\">\n",
       "      <th></th>\n",
       "      <th>Claim.Number</th>\n",
       "      <th>Claim.Line.Number</th>\n",
       "      <th>Member.ID</th>\n",
       "      <th>Provider.ID</th>\n",
       "      <th>Line.Of.Business.ID</th>\n",
       "      <th>Revenue.Code</th>\n",
       "      <th>Service.Code</th>\n",
       "      <th>Place.Of.Service.Code</th>\n",
       "      <th>Procedure.Code</th>\n",
       "      <th>Diagnosis.Code</th>\n",
       "      <th>Claim.Charge.Amount</th>\n",
       "      <th>Denial.Reason.Code</th>\n",
       "      <th>Price.Index</th>\n",
       "      <th>In.Out.Of.Network</th>\n",
       "      <th>Reference.Index</th>\n",
       "      <th>Pricing.Index</th>\n",
       "      <th>Capitation.Index</th>\n",
       "      <th>Subscriber.Payment.Amount</th>\n",
       "      <th>Provider.Payment.Amount</th>\n",
       "      <th>Group.Index</th>\n",
       "      <th>Subscriber.Index</th>\n",
       "      <th>Subgroup.Index</th>\n",
       "      <th>Claim.Type</th>\n",
       "      <th>Claim.Subscriber.Type</th>\n",
       "      <th>Claim.Pre.Prince.Index</th>\n",
       "      <th>Claim.Current.Status</th>\n",
       "      <th>Network.ID</th>\n",
       "      <th>Agreement.ID</th>\n",
       "    </tr>\n",
       "  </thead>\n",
       "  <tbody>\n",
       "    <tr>\n",
       "      <th>466047</th>\n",
       "      <td>1.389507e+09</td>\n",
       "      <td>1</td>\n",
       "      <td>94431843</td>\n",
       "      <td>FA0001774001</td>\n",
       "      <td></td>\n",
       "      <td>278</td>\n",
       "      <td>AL7I</td>\n",
       "      <td></td>\n",
       "      <td></td>\n",
       "      <td>8052</td>\n",
       "      <td>195162.700</td>\n",
       "      <td></td>\n",
       "      <td></td>\n",
       "      <td></td>\n",
       "      <td></td>\n",
       "      <td></td>\n",
       "      <td></td>\n",
       "      <td>0.0</td>\n",
       "      <td>0.0</td>\n",
       "      <td>48547</td>\n",
       "      <td>76494000</td>\n",
       "      <td>52030</td>\n",
       "      <td>M</td>\n",
       "      <td>H</td>\n",
       "      <td></td>\n",
       "      <td>2</td>\n",
       "      <td></td>\n",
       "      <td></td>\n",
       "    </tr>\n",
       "    <tr>\n",
       "      <th>466048</th>\n",
       "      <td>1.389507e+09</td>\n",
       "      <td>2</td>\n",
       "      <td>94431843</td>\n",
       "      <td>FA0001774001</td>\n",
       "      <td></td>\n",
       "      <td>300</td>\n",
       "      <td>AL7I</td>\n",
       "      <td></td>\n",
       "      <td></td>\n",
       "      <td>8052</td>\n",
       "      <td>1380.171</td>\n",
       "      <td></td>\n",
       "      <td></td>\n",
       "      <td></td>\n",
       "      <td></td>\n",
       "      <td></td>\n",
       "      <td></td>\n",
       "      <td>0.0</td>\n",
       "      <td>0.0</td>\n",
       "      <td>48547</td>\n",
       "      <td>76494000</td>\n",
       "      <td>52030</td>\n",
       "      <td>M</td>\n",
       "      <td>H</td>\n",
       "      <td></td>\n",
       "      <td>2</td>\n",
       "      <td></td>\n",
       "      <td></td>\n",
       "    </tr>\n",
       "    <tr>\n",
       "      <th>466049</th>\n",
       "      <td>1.389507e+09</td>\n",
       "      <td>3</td>\n",
       "      <td>94431843</td>\n",
       "      <td>FA0001774001</td>\n",
       "      <td></td>\n",
       "      <td>278</td>\n",
       "      <td>AL7I</td>\n",
       "      <td></td>\n",
       "      <td></td>\n",
       "      <td>8052</td>\n",
       "      <td>-192496.200</td>\n",
       "      <td></td>\n",
       "      <td></td>\n",
       "      <td></td>\n",
       "      <td></td>\n",
       "      <td></td>\n",
       "      <td></td>\n",
       "      <td>0.0</td>\n",
       "      <td>0.0</td>\n",
       "      <td>48547</td>\n",
       "      <td>76494000</td>\n",
       "      <td>52030</td>\n",
       "      <td>M</td>\n",
       "      <td>H</td>\n",
       "      <td></td>\n",
       "      <td>2</td>\n",
       "      <td></td>\n",
       "      <td></td>\n",
       "    </tr>\n",
       "    <tr>\n",
       "      <th>466050</th>\n",
       "      <td>1.389507e+09</td>\n",
       "      <td>4</td>\n",
       "      <td>94431843</td>\n",
       "      <td>FA0001774001</td>\n",
       "      <td></td>\n",
       "      <td>300</td>\n",
       "      <td>AL7I</td>\n",
       "      <td></td>\n",
       "      <td></td>\n",
       "      <td>8052</td>\n",
       "      <td>-138.264</td>\n",
       "      <td></td>\n",
       "      <td></td>\n",
       "      <td></td>\n",
       "      <td></td>\n",
       "      <td></td>\n",
       "      <td></td>\n",
       "      <td>0.0</td>\n",
       "      <td>0.0</td>\n",
       "      <td>48547</td>\n",
       "      <td>76494000</td>\n",
       "      <td>52030</td>\n",
       "      <td>M</td>\n",
       "      <td>H</td>\n",
       "      <td></td>\n",
       "      <td>2</td>\n",
       "      <td></td>\n",
       "      <td></td>\n",
       "    </tr>\n",
       "    <tr>\n",
       "      <th>466051</th>\n",
       "      <td>1.389507e+09</td>\n",
       "      <td>5</td>\n",
       "      <td>94431843</td>\n",
       "      <td>FA0001774001</td>\n",
       "      <td></td>\n",
       "      <td>309</td>\n",
       "      <td>AL7I</td>\n",
       "      <td></td>\n",
       "      <td></td>\n",
       "      <td>8052</td>\n",
       "      <td>-1241.907</td>\n",
       "      <td></td>\n",
       "      <td></td>\n",
       "      <td></td>\n",
       "      <td></td>\n",
       "      <td></td>\n",
       "      <td></td>\n",
       "      <td>0.0</td>\n",
       "      <td>0.0</td>\n",
       "      <td>48547</td>\n",
       "      <td>76494000</td>\n",
       "      <td>52030</td>\n",
       "      <td>M</td>\n",
       "      <td>H</td>\n",
       "      <td></td>\n",
       "      <td>2</td>\n",
       "      <td></td>\n",
       "      <td></td>\n",
       "    </tr>\n",
       "    <tr>\n",
       "      <th>466052</th>\n",
       "      <td>1.389507e+09</td>\n",
       "      <td>6</td>\n",
       "      <td>94431843</td>\n",
       "      <td>FA0001774001</td>\n",
       "      <td></td>\n",
       "      <td>111</td>\n",
       "      <td>RB7I</td>\n",
       "      <td></td>\n",
       "      <td></td>\n",
       "      <td>8052</td>\n",
       "      <td>12988.170</td>\n",
       "      <td></td>\n",
       "      <td></td>\n",
       "      <td></td>\n",
       "      <td></td>\n",
       "      <td></td>\n",
       "      <td></td>\n",
       "      <td>0.0</td>\n",
       "      <td>0.0</td>\n",
       "      <td>48547</td>\n",
       "      <td>76494000</td>\n",
       "      <td>52030</td>\n",
       "      <td>M</td>\n",
       "      <td>H</td>\n",
       "      <td></td>\n",
       "      <td>2</td>\n",
       "      <td></td>\n",
       "      <td></td>\n",
       "    </tr>\n",
       "    <tr>\n",
       "      <th>466053</th>\n",
       "      <td>1.389507e+09</td>\n",
       "      <td>7</td>\n",
       "      <td>94431843</td>\n",
       "      <td>FA0001774001</td>\n",
       "      <td></td>\n",
       "      <td>111</td>\n",
       "      <td>RB7I</td>\n",
       "      <td></td>\n",
       "      <td></td>\n",
       "      <td>8052</td>\n",
       "      <td>-12988.170</td>\n",
       "      <td></td>\n",
       "      <td></td>\n",
       "      <td></td>\n",
       "      <td></td>\n",
       "      <td></td>\n",
       "      <td></td>\n",
       "      <td>0.0</td>\n",
       "      <td>0.0</td>\n",
       "      <td>48547</td>\n",
       "      <td>76494000</td>\n",
       "      <td>52030</td>\n",
       "      <td>M</td>\n",
       "      <td>H</td>\n",
       "      <td></td>\n",
       "      <td>2</td>\n",
       "      <td></td>\n",
       "      <td></td>\n",
       "    </tr>\n",
       "  </tbody>\n",
       "</table>\n",
       "</div>"
      ],
      "text/plain": [
       "        Claim.Number Claim.Line.Number Member.ID   Provider.ID  \\\n",
       "466047  1.389507e+09                 1  94431843  FA0001774001   \n",
       "466048  1.389507e+09                 2  94431843  FA0001774001   \n",
       "466049  1.389507e+09                 3  94431843  FA0001774001   \n",
       "466050  1.389507e+09                 4  94431843  FA0001774001   \n",
       "466051  1.389507e+09                 5  94431843  FA0001774001   \n",
       "466052  1.389507e+09                 6  94431843  FA0001774001   \n",
       "466053  1.389507e+09                 7  94431843  FA0001774001   \n",
       "\n",
       "       Line.Of.Business.ID Revenue.Code Service.Code Place.Of.Service.Code  \\\n",
       "466047                              278         AL7I                         \n",
       "466048                              300         AL7I                         \n",
       "466049                              278         AL7I                         \n",
       "466050                              300         AL7I                         \n",
       "466051                              309         AL7I                         \n",
       "466052                              111         RB7I                         \n",
       "466053                              111         RB7I                         \n",
       "\n",
       "       Procedure.Code Diagnosis.Code  Claim.Charge.Amount Denial.Reason.Code  \\\n",
       "466047                          8052           195162.700                      \n",
       "466048                          8052             1380.171                      \n",
       "466049                          8052          -192496.200                      \n",
       "466050                          8052             -138.264                      \n",
       "466051                          8052            -1241.907                      \n",
       "466052                          8052            12988.170                      \n",
       "466053                          8052           -12988.170                      \n",
       "\n",
       "       Price.Index In.Out.Of.Network Reference.Index Pricing.Index  \\\n",
       "466047                                                               \n",
       "466048                                                               \n",
       "466049                                                               \n",
       "466050                                                               \n",
       "466051                                                               \n",
       "466052                                                               \n",
       "466053                                                               \n",
       "\n",
       "       Capitation.Index  Subscriber.Payment.Amount  Provider.Payment.Amount  \\\n",
       "466047                                         0.0                      0.0   \n",
       "466048                                         0.0                      0.0   \n",
       "466049                                         0.0                      0.0   \n",
       "466050                                         0.0                      0.0   \n",
       "466051                                         0.0                      0.0   \n",
       "466052                                         0.0                      0.0   \n",
       "466053                                         0.0                      0.0   \n",
       "\n",
       "       Group.Index Subscriber.Index Subgroup.Index Claim.Type  \\\n",
       "466047       48547         76494000          52030          M   \n",
       "466048       48547         76494000          52030          M   \n",
       "466049       48547         76494000          52030          M   \n",
       "466050       48547         76494000          52030          M   \n",
       "466051       48547         76494000          52030          M   \n",
       "466052       48547         76494000          52030          M   \n",
       "466053       48547         76494000          52030          M   \n",
       "\n",
       "       Claim.Subscriber.Type Claim.Pre.Prince.Index Claim.Current.Status  \\\n",
       "466047                     H                                           2   \n",
       "466048                     H                                           2   \n",
       "466049                     H                                           2   \n",
       "466050                     H                                           2   \n",
       "466051                     H                                           2   \n",
       "466052                     H                                           2   \n",
       "466053                     H                                           2   \n",
       "\n",
       "       Network.ID Agreement.ID  \n",
       "466047                          \n",
       "466048                          \n",
       "466049                          \n",
       "466050                          \n",
       "466051                          \n",
       "466052                          \n",
       "466053                          "
      ]
     },
     "execution_count": 18,
     "metadata": {},
     "output_type": "execute_result"
    }
   ],
   "source": [
    "# look at all of the claim data\n",
    "claim_data.iloc[466047:466054]"
   ]
  },
  {
   "cell_type": "code",
   "execution_count": 19,
   "metadata": {
    "ExecuteTime": {
     "end_time": "2020-07-25T22:09:08.660126Z",
     "start_time": "2020-07-25T22:09:08.605974Z"
    }
   },
   "outputs": [
    {
     "data": {
      "text/plain": [
       "84.56325       6480\n",
       "0.00000        4598\n",
       "118.51200      4480\n",
       "123.45000      3386\n",
       "248.13450      3014\n",
       "               ... \n",
       "21735.84000       1\n",
       "6623.83320        1\n",
       "404.71848         1\n",
       "554.78430         1\n",
       "2433.17481        1\n",
       "Name: Claim.Charge.Amount, Length: 40448, dtype: int64"
      ]
     },
     "execution_count": 19,
     "metadata": {},
     "output_type": "execute_result"
    }
   ],
   "source": [
    "# show the claim charge amounts \n",
    "claim_data['Claim.Charge.Amount'].value_counts(ascending=False)"
   ]
  },
  {
   "cell_type": "code",
   "execution_count": 20,
   "metadata": {
    "ExecuteTime": {
     "end_time": "2020-07-25T22:09:09.568621Z",
     "start_time": "2020-07-25T22:09:08.663257Z"
    }
   },
   "outputs": [
    {
     "data": {
      "image/png": "[encoded data removed]",
      "text/plain": [
       "<Figure size 1440x864 with 1 Axes>"
      ]
     },
     "metadata": {},
     "output_type": "display_data"
    }
   ],
   "source": [
    "plt.figure(figsize=(20,12))\n",
    "col = 'Claim.Charge.Amount'\n",
    "claim_zero_200 = claim_data.loc[(claim_data[col] >= 0) &  (claim_data[col] <= 200000), col]\n",
    "sns.distplot(claim_zero_200, bins=10);"
   ]
  },
  {
   "cell_type": "code",
   "execution_count": 21,
   "metadata": {
    "ExecuteTime": {
     "end_time": "2020-07-25T22:09:09.782703Z",
     "start_time": "2020-07-25T22:09:09.570346Z"
    }
   },
   "outputs": [
    {
     "data": {
      "text/html": [
       "<div>\n",
       "<style scoped>\n",
       "    .dataframe tbody tr th:only-of-type {\n",
       "        vertical-align: middle;\n",
       "    }\n",
       "\n",
       "    .dataframe tbody tr th {\n",
       "        vertical-align: top;\n",
       "    }\n",
       "\n",
       "    .dataframe thead th {\n",
       "        text-align: right;\n",
       "    }\n",
       "</style>\n",
       "<table border=\"1\" class=\"dataframe\">\n",
       "  <thead>\n",
       "    <tr style=\"text-align: right;\">\n",
       "      <th></th>\n",
       "      <th>Claim.Number</th>\n",
       "      <th>Claim.Line.Number</th>\n",
       "      <th>Member.ID</th>\n",
       "      <th>Provider.ID</th>\n",
       "      <th>Line.Of.Business.ID</th>\n",
       "      <th>Revenue.Code</th>\n",
       "      <th>Service.Code</th>\n",
       "      <th>Place.Of.Service.Code</th>\n",
       "      <th>Procedure.Code</th>\n",
       "      <th>Diagnosis.Code</th>\n",
       "      <th>Claim.Charge.Amount</th>\n",
       "      <th>Denial.Reason.Code</th>\n",
       "      <th>Price.Index</th>\n",
       "      <th>In.Out.Of.Network</th>\n",
       "      <th>Reference.Index</th>\n",
       "      <th>Pricing.Index</th>\n",
       "      <th>Capitation.Index</th>\n",
       "      <th>Subscriber.Payment.Amount</th>\n",
       "      <th>Provider.Payment.Amount</th>\n",
       "      <th>Group.Index</th>\n",
       "      <th>Subscriber.Index</th>\n",
       "      <th>Subgroup.Index</th>\n",
       "      <th>Claim.Type</th>\n",
       "      <th>Claim.Subscriber.Type</th>\n",
       "      <th>Claim.Pre.Prince.Index</th>\n",
       "      <th>Claim.Current.Status</th>\n",
       "      <th>Network.ID</th>\n",
       "      <th>Agreement.ID</th>\n",
       "      <th>IsProcedure</th>\n",
       "    </tr>\n",
       "  </thead>\n",
       "  <tbody>\n",
       "    <tr>\n",
       "      <th>3073</th>\n",
       "      <td>74645490.0</td>\n",
       "      <td>10</td>\n",
       "      <td>1992052</td>\n",
       "      <td>FA0001389001</td>\n",
       "      <td>5</td>\n",
       "      <td>636</td>\n",
       "      <td>OP7O</td>\n",
       "      <td></td>\n",
       "      <td>J1650</td>\n",
       "      <td>4359</td>\n",
       "      <td>592.201995</td>\n",
       "      <td>KAO</td>\n",
       "      <td>A</td>\n",
       "      <td>I</td>\n",
       "      <td>N</td>\n",
       "      <td>N</td>\n",
       "      <td></td>\n",
       "      <td>0.0</td>\n",
       "      <td>0.0</td>\n",
       "      <td>114</td>\n",
       "      <td>1613650</td>\n",
       "      <td>0</td>\n",
       "      <td>M</td>\n",
       "      <td>H</td>\n",
       "      <td>S</td>\n",
       "      <td>91</td>\n",
       "      <td>P00000000001</td>\n",
       "      <td>FH001309QB01</td>\n",
       "      <td>1</td>\n",
       "    </tr>\n",
       "    <tr>\n",
       "      <th>3091</th>\n",
       "      <td>18860690.0</td>\n",
       "      <td>8</td>\n",
       "      <td>22808129</td>\n",
       "      <td>FA0001389001</td>\n",
       "      <td>1</td>\n",
       "      <td>636</td>\n",
       "      <td>OP7O</td>\n",
       "      <td></td>\n",
       "      <td>J2405</td>\n",
       "      <td>64303</td>\n",
       "      <td>118.832970</td>\n",
       "      <td>J2L</td>\n",
       "      <td>A</td>\n",
       "      <td>I</td>\n",
       "      <td>N</td>\n",
       "      <td>N</td>\n",
       "      <td>R</td>\n",
       "      <td>0.0</td>\n",
       "      <td>0.0</td>\n",
       "      <td>275</td>\n",
       "      <td>18475600</td>\n",
       "      <td>483</td>\n",
       "      <td>M</td>\n",
       "      <td>H</td>\n",
       "      <td></td>\n",
       "      <td>2</td>\n",
       "      <td>H00000000001</td>\n",
       "      <td>FH001886QH01</td>\n",
       "      <td>1</td>\n",
       "    </tr>\n",
       "    <tr>\n",
       "      <th>3092</th>\n",
       "      <td>18860690.0</td>\n",
       "      <td>9</td>\n",
       "      <td>22808129</td>\n",
       "      <td>FA0001389001</td>\n",
       "      <td>1</td>\n",
       "      <td>636</td>\n",
       "      <td>OP7O</td>\n",
       "      <td></td>\n",
       "      <td>J7030</td>\n",
       "      <td>64303</td>\n",
       "      <td>196.890405</td>\n",
       "      <td>J2L</td>\n",
       "      <td>A</td>\n",
       "      <td>I</td>\n",
       "      <td>N</td>\n",
       "      <td>N</td>\n",
       "      <td>R</td>\n",
       "      <td>0.0</td>\n",
       "      <td>0.0</td>\n",
       "      <td>275</td>\n",
       "      <td>18475600</td>\n",
       "      <td>483</td>\n",
       "      <td>M</td>\n",
       "      <td>H</td>\n",
       "      <td></td>\n",
       "      <td>2</td>\n",
       "      <td>H00000000001</td>\n",
       "      <td>FH001886QH01</td>\n",
       "      <td>1</td>\n",
       "    </tr>\n",
       "    <tr>\n",
       "      <th>3103</th>\n",
       "      <td>281757390.0</td>\n",
       "      <td>10</td>\n",
       "      <td>1997607</td>\n",
       "      <td>FA0001389001</td>\n",
       "      <td>5</td>\n",
       "      <td>636</td>\n",
       "      <td>OP7O</td>\n",
       "      <td></td>\n",
       "      <td>J1650</td>\n",
       "      <td>4359</td>\n",
       "      <td>592.201995</td>\n",
       "      <td>KDR</td>\n",
       "      <td>A</td>\n",
       "      <td>I</td>\n",
       "      <td>N</td>\n",
       "      <td>N</td>\n",
       "      <td></td>\n",
       "      <td>0.0</td>\n",
       "      <td>0.0</td>\n",
       "      <td>114</td>\n",
       "      <td>1618150</td>\n",
       "      <td>0</td>\n",
       "      <td>M</td>\n",
       "      <td>H</td>\n",
       "      <td>S</td>\n",
       "      <td>91</td>\n",
       "      <td>P00000000001</td>\n",
       "      <td>FH001309QB01</td>\n",
       "      <td>1</td>\n",
       "    </tr>\n",
       "    <tr>\n",
       "      <th>3114</th>\n",
       "      <td>450273590.0</td>\n",
       "      <td>10</td>\n",
       "      <td>1991496</td>\n",
       "      <td>FA0001389001</td>\n",
       "      <td>5</td>\n",
       "      <td>636</td>\n",
       "      <td>OP7O</td>\n",
       "      <td></td>\n",
       "      <td>J1650</td>\n",
       "      <td>4359</td>\n",
       "      <td>592.201995</td>\n",
       "      <td>KAO</td>\n",
       "      <td>A</td>\n",
       "      <td>I</td>\n",
       "      <td>N</td>\n",
       "      <td>N</td>\n",
       "      <td></td>\n",
       "      <td>0.0</td>\n",
       "      <td>0.0</td>\n",
       "      <td>114</td>\n",
       "      <td>1613200</td>\n",
       "      <td>0</td>\n",
       "      <td>M</td>\n",
       "      <td>H</td>\n",
       "      <td>S</td>\n",
       "      <td>2</td>\n",
       "      <td>P00000000001</td>\n",
       "      <td>FH001309QB01</td>\n",
       "      <td>1</td>\n",
       "    </tr>\n",
       "  </tbody>\n",
       "</table>\n",
       "</div>"
      ],
      "text/plain": [
       "      Claim.Number Claim.Line.Number Member.ID   Provider.ID  \\\n",
       "3073    74645490.0                10   1992052  FA0001389001   \n",
       "3091    18860690.0                 8  22808129  FA0001389001   \n",
       "3092    18860690.0                 9  22808129  FA0001389001   \n",
       "3103   281757390.0                10   1997607  FA0001389001   \n",
       "3114   450273590.0                10   1991496  FA0001389001   \n",
       "\n",
       "     Line.Of.Business.ID Revenue.Code Service.Code Place.Of.Service.Code  \\\n",
       "3073                   5          636         OP7O                         \n",
       "3091                   1          636         OP7O                         \n",
       "3092                   1          636         OP7O                         \n",
       "3103                   5          636         OP7O                         \n",
       "3114                   5          636         OP7O                         \n",
       "\n",
       "     Procedure.Code Diagnosis.Code  Claim.Charge.Amount Denial.Reason.Code  \\\n",
       "3073          J1650           4359           592.201995                KAO   \n",
       "3091          J2405          64303           118.832970                J2L   \n",
       "3092          J7030          64303           196.890405                J2L   \n",
       "3103          J1650           4359           592.201995                KDR   \n",
       "3114          J1650           4359           592.201995                KAO   \n",
       "\n",
       "     Price.Index In.Out.Of.Network Reference.Index Pricing.Index  \\\n",
       "3073           A                 I               N             N   \n",
       "3091           A                 I               N             N   \n",
       "3092           A                 I               N             N   \n",
       "3103           A                 I               N             N   \n",
       "3114           A                 I               N             N   \n",
       "\n",
       "     Capitation.Index  Subscriber.Payment.Amount  Provider.Payment.Amount  \\\n",
       "3073                                         0.0                      0.0   \n",
       "3091                R                        0.0                      0.0   \n",
       "3092                R                        0.0                      0.0   \n",
       "3103                                         0.0                      0.0   \n",
       "3114                                         0.0                      0.0   \n",
       "\n",
       "     Group.Index Subscriber.Index Subgroup.Index Claim.Type  \\\n",
       "3073         114          1613650              0          M   \n",
       "3091         275         18475600            483          M   \n",
       "3092         275         18475600            483          M   \n",
       "3103         114          1618150              0          M   \n",
       "3114         114          1613200              0          M   \n",
       "\n",
       "     Claim.Subscriber.Type Claim.Pre.Prince.Index Claim.Current.Status  \\\n",
       "3073                     H                      S                   91   \n",
       "3091                     H                                           2   \n",
       "3092                     H                                           2   \n",
       "3103                     H                      S                   91   \n",
       "3114                     H                      S                    2   \n",
       "\n",
       "        Network.ID  Agreement.ID  IsProcedure  \n",
       "3073  P00000000001  FH001309QB01            1  \n",
       "3091  H00000000001  FH001886QH01            1  \n",
       "3092  H00000000001  FH001886QH01            1  \n",
       "3103  P00000000001  FH001309QB01            1  \n",
       "3114  P00000000001  FH001309QB01            1  "
      ]
     },
     "execution_count": 21,
     "metadata": {},
     "output_type": "execute_result"
    }
   ],
   "source": [
    "# get procedure claims and add them to a list\n",
    "IsProcedure = [ 1 if proc.startswith('J') else 0 for proc in claim_data['Procedure.Code']]\n",
    "\n",
    "# add list as a new column to the dataframe\n",
    "claim_data['IsProcedure'] = IsProcedure\n",
    "\n",
    "# show a sample of the data\n",
    "claim_data.loc[claim_data.IsProcedure == 1].head()"
   ]
  },
  {
   "cell_type": "markdown",
   "metadata": {},
   "source": [
    "# ------ Question 1 (Procedure Analysis) ------"
   ]
  },
  {
   "cell_type": "markdown",
   "metadata": {},
   "source": [
    "## Part A (Find the number of claim lines that have J-codes)"
   ]
  },
  {
   "cell_type": "code",
   "execution_count": 22,
   "metadata": {
    "ExecuteTime": {
     "end_time": "2020-07-25T22:09:09.794401Z",
     "start_time": "2020-07-25T22:09:09.784454Z"
    }
   },
   "outputs": [
    {
     "data": {
      "text/plain": [
       "'The number of unique claims with procedures is 10691'"
      ]
     },
     "execution_count": 22,
     "metadata": {},
     "output_type": "execute_result"
    }
   ],
   "source": [
    "claims_with_procedures = claim_data.loc[claim_data.IsProcedure == 1, 'Claim.Number']\n",
    "f\"The number of unique claims with procedures is {len(np.unique(claims_with_procedures))}\""
   ]
  },
  {
   "cell_type": "markdown",
   "metadata": {},
   "source": [
    "## Part B (How much was paid to providers for In Network Claims?)"
   ]
  },
  {
   "cell_type": "code",
   "execution_count": 23,
   "metadata": {
    "ExecuteTime": {
     "end_time": "2020-07-25T22:09:10.049421Z",
     "start_time": "2020-07-25T22:09:09.814879Z"
    }
   },
   "outputs": [
    {
     "data": {
      "text/plain": [
       "'The sum of payments made to providers for in-network procedures is $2,417,220.96'"
      ]
     },
     "execution_count": 23,
     "metadata": {},
     "output_type": "execute_result"
    }
   ],
   "source": [
    "from babel.numbers import format_currency\n",
    "in_network_claims_with_procedures = claim_data.loc[(claim_data['IsProcedure'] == 1)\n",
    "                                                    & (claim_data['In.Out.Of.Network'] == 'I'), 'Provider.Payment.Amount']\n",
    "paid_amount = round(np.sum(in_network_claims_with_procedures),2)\n",
    "f\"The sum of payments made to providers for in-network procedures is {format_currency(paid_amount, 'USD', locale='en_US')}\"\n"
   ]
  },
  {
   "cell_type": "markdown",
   "metadata": {
    "ExecuteTime": {
     "end_time": "2020-07-10T22:33:09.108823Z",
     "start_time": "2020-07-10T22:33:08.792683Z"
    }
   },
   "source": [
    "## Part C (What are the top five J-codes based on the payment to providers?)\n"
   ]
  },
  {
   "cell_type": "code",
   "execution_count": 24,
   "metadata": {
    "ExecuteTime": {
     "end_time": "2020-07-25T22:09:10.061551Z",
     "start_time": "2020-07-25T22:09:10.051047Z"
    }
   },
   "outputs": [
    {
     "data": {
      "text/plain": [
       "J2405    540\n",
       "J2501    457\n",
       "J7030    387\n",
       "J1170    363\n",
       "J1644    301\n",
       "Name: Procedure.Code, dtype: int64"
      ]
     },
     "execution_count": 24,
     "metadata": {},
     "output_type": "execute_result"
    }
   ],
   "source": [
    "claim_data.loc[(claim_data['IsProcedure'] == 1)\n",
    "               & (claim_data['Provider.Payment.Amount'] > 0), 'Procedure.Code'].value_counts(ascending=False).head()"
   ]
  },
  {
   "cell_type": "code",
   "execution_count": 25,
   "metadata": {
    "ExecuteTime": {
     "end_time": "2020-07-25T22:09:10.472359Z",
     "start_time": "2020-07-25T22:09:10.089679Z"
    }
   },
   "outputs": [
    {
     "data": {
      "image/png": "[encoded data removed]",
      "text/plain": [
       "<Figure size 1296x720 with 1 Axes>"
      ]
     },
     "metadata": {},
     "output_type": "display_data"
    }
   ],
   "source": [
    "plt.figure(figsize=(18,10))\n",
    "procedures = claim_data.loc[(claim_data['IsProcedure'] == 1)\n",
    "               & (claim_data['Provider.Payment.Amount'] > 0), 'Procedure.Code']\n",
    "sns.countplot(y=procedures, order=procedures.value_counts().iloc[:5].index);\n",
    "plt.tight_layout()\n",
    "plt.savefig(os.path.join('../','visualization',f\"PaidProcedures_barchart.png\"))"
   ]
  },
  {
   "cell_type": "markdown",
   "metadata": {},
   "source": [
    "# ------ Question 2 (Provider Analysis) ------"
   ]
  },
  {
   "cell_type": "markdown",
   "metadata": {},
   "source": [
    "## Scatter plot analysis of paid versus unpaid claims"
   ]
  },
  {
   "cell_type": "code",
   "execution_count": 26,
   "metadata": {
    "ExecuteTime": {
     "end_time": "2020-07-25T22:09:10.611116Z",
     "start_time": "2020-07-25T22:09:10.473552Z"
    }
   },
   "outputs": [],
   "source": [
    "# get providers with at least one paid claim\n",
    "providers_with_paid_claims = claim_data.loc[(claim_data['IsProcedure'] == 1) \n",
    "               & (claim_data['Provider.Payment.Amount'] > 0), 'Provider.ID']\n",
    "providers = list(set(providers_with_paid_claims))\n",
    "provider_claims = [1 if prov in providers else 0 for prov in claim_data['Provider.ID']]\n",
    "\n"
   ]
  },
  {
   "cell_type": "code",
   "execution_count": 27,
   "metadata": {
    "ExecuteTime": {
     "end_time": "2020-07-25T22:09:10.641801Z",
     "start_time": "2020-07-25T22:09:10.613228Z"
    }
   },
   "outputs": [],
   "source": [
    "# get upaid claim data and put it into the claim dataframe\n",
    "unpaid_claim_data = claim_data.loc[(claim_data['IsProcedure'] == 1) \n",
    "               & (claim_data['Provider.Payment.Amount'] == 0), 'Claim.Number'].index\n",
    "unpaid_claims = np.zeros(len(claim_data))\n",
    "unpaid_claims[unpaid_claim_data] = 1\n",
    "claim_data['UnpaidClaim'] = unpaid_claims\n",
    "claim_data['UnpaidClaim']  = claim_data['UnpaidClaim'].astype(int)"
   ]
  },
  {
   "cell_type": "code",
   "execution_count": 28,
   "metadata": {
    "ExecuteTime": {
     "end_time": "2020-07-25T22:09:10.671030Z",
     "start_time": "2020-07-25T22:09:10.643757Z"
    }
   },
   "outputs": [],
   "source": [
    "# get paid procedure claim data and put it into the claim dataframe\n",
    "paid_claim_data = claim_data.loc[(claim_data['IsProcedure'] == 1) \n",
    "               & (claim_data['Provider.Payment.Amount'] > 0), 'Claim.Number'].index\n",
    "paid_claims = np.zeros(len(claim_data))\n",
    "paid_claims[paid_claim_data] = 1\n",
    "claim_data['PaidClaim'] = paid_claims\n",
    "claim_data['PaidClaim']  = claim_data['PaidClaim'].astype(int)"
   ]
  },
  {
   "cell_type": "code",
   "execution_count": 29,
   "metadata": {
    "ExecuteTime": {
     "end_time": "2020-07-25T22:09:11.268978Z",
     "start_time": "2020-07-25T22:09:10.690508Z"
    }
   },
   "outputs": [],
   "source": [
    "# produce unpaid and paid claim count by provider and load into a dataframe\n",
    "provider_data = [GetProviderCount(claim_data, provider) for provider in providers]\n",
    "provider_df = pd.DataFrame(provider_data, columns=['ProviderID','PaidCount','UnPaidCount'])"
   ]
  },
  {
   "cell_type": "code",
   "execution_count": 30,
   "metadata": {
    "ExecuteTime": {
     "end_time": "2020-07-25T22:09:11.604203Z",
     "start_time": "2020-07-25T22:09:11.270701Z"
    }
   },
   "outputs": [
    {
     "data": {
      "image/png": "[encoded data removed]",
      "text/plain": [
       "<Figure size 1296x720 with 1 Axes>"
      ]
     },
     "metadata": {},
     "output_type": "display_data"
    }
   ],
   "source": [
    "plt.figure(figsize=(18,10))\n",
    "plt.title(\"Un Paid Claims Versus Paid Claims By Provider\")\n",
    "ax = sns.scatterplot(x='UnPaidCount', y=\"PaidCount\", data=provider_df)\n",
    "plt.savefig(os.path.join('../','visualization',f\"PaidVsUnpaid_Scatterplot.png\"))"
   ]
  },
  {
   "cell_type": "markdown",
   "metadata": {},
   "source": [
    "## Graph Analysis and Concerns"
   ]
  },
  {
   "cell_type": "markdown",
   "metadata": {
    "ExecuteTime": {
     "end_time": "2020-07-12T19:12:57.059104Z",
     "start_time": "2020-07-12T19:12:57.053983Z"
    }
   },
   "source": [
    "As the numbers have stated, the provider paid percentage average is 17.69 while the average unpaid percentage is 82.31 which means that on overage healthcare organization are missing 82.31 of potential revenue. Providers have a paid percentage of anywhere between 1 to 56 percent. I would want to understand how this data relates to time as most claims are not paid until the end of the month. I would also want to understand why there is a wide discrepancy between provider paid percentages.  There is a strong positive correlation between the two variables (Paid Versus Unpaid Counts).\n"
   ]
  },
  {
   "cell_type": "markdown",
   "metadata": {},
   "source": [
    "# ------ Question 3 (Data Analysis) ------ "
   ]
  },
  {
   "cell_type": "markdown",
   "metadata": {},
   "source": [
    "## Provider Paid Versus Unpaid Grid"
   ]
  },
  {
   "cell_type": "code",
   "execution_count": 31,
   "metadata": {
    "ExecuteTime": {
     "end_time": "2020-07-25T22:09:11.621598Z",
     "start_time": "2020-07-25T22:09:11.605882Z"
    }
   },
   "outputs": [
    {
     "data": {
      "text/html": [
       "<div>\n",
       "<style scoped>\n",
       "    .dataframe tbody tr th:only-of-type {\n",
       "        vertical-align: middle;\n",
       "    }\n",
       "\n",
       "    .dataframe tbody tr th {\n",
       "        vertical-align: top;\n",
       "    }\n",
       "\n",
       "    .dataframe thead th {\n",
       "        text-align: right;\n",
       "    }\n",
       "</style>\n",
       "<table border=\"1\" class=\"dataframe\">\n",
       "  <thead>\n",
       "    <tr style=\"text-align: right;\">\n",
       "      <th></th>\n",
       "      <th>ProviderID</th>\n",
       "      <th>PaidCount</th>\n",
       "      <th>UnPaidCount</th>\n",
       "      <th>Total Claims</th>\n",
       "      <th>Paid Percentage</th>\n",
       "      <th>UnPaid Percentage</th>\n",
       "    </tr>\n",
       "  </thead>\n",
       "  <tbody>\n",
       "    <tr>\n",
       "      <th>0</th>\n",
       "      <td>FA1000015002</td>\n",
       "      <td>43</td>\n",
       "      <td>449</td>\n",
       "      <td>492</td>\n",
       "      <td>8.739837</td>\n",
       "      <td>91.260163</td>\n",
       "    </tr>\n",
       "    <tr>\n",
       "      <th>1</th>\n",
       "      <td>FA0001411003</td>\n",
       "      <td>4</td>\n",
       "      <td>67</td>\n",
       "      <td>71</td>\n",
       "      <td>5.633803</td>\n",
       "      <td>94.366197</td>\n",
       "    </tr>\n",
       "    <tr>\n",
       "      <th>2</th>\n",
       "      <td>FA0004551001</td>\n",
       "      <td>415</td>\n",
       "      <td>322</td>\n",
       "      <td>737</td>\n",
       "      <td>56.309362</td>\n",
       "      <td>43.690638</td>\n",
       "    </tr>\n",
       "    <tr>\n",
       "      <th>3</th>\n",
       "      <td>FA0001774001</td>\n",
       "      <td>302</td>\n",
       "      <td>2545</td>\n",
       "      <td>2847</td>\n",
       "      <td>10.607657</td>\n",
       "      <td>89.392343</td>\n",
       "    </tr>\n",
       "    <tr>\n",
       "      <th>4</th>\n",
       "      <td>FA0001389003</td>\n",
       "      <td>8</td>\n",
       "      <td>539</td>\n",
       "      <td>547</td>\n",
       "      <td>1.462523</td>\n",
       "      <td>98.537477</td>\n",
       "    </tr>\n",
       "    <tr>\n",
       "      <th>5</th>\n",
       "      <td>FA1000015001</td>\n",
       "      <td>740</td>\n",
       "      <td>1170</td>\n",
       "      <td>1910</td>\n",
       "      <td>38.743455</td>\n",
       "      <td>61.256545</td>\n",
       "    </tr>\n",
       "    <tr>\n",
       "      <th>6</th>\n",
       "      <td>FA0001387002</td>\n",
       "      <td>1786</td>\n",
       "      <td>9799</td>\n",
       "      <td>11585</td>\n",
       "      <td>15.416487</td>\n",
       "      <td>84.583513</td>\n",
       "    </tr>\n",
       "    <tr>\n",
       "      <th>7</th>\n",
       "      <td>FA1000014002</td>\n",
       "      <td>5</td>\n",
       "      <td>49</td>\n",
       "      <td>54</td>\n",
       "      <td>9.259259</td>\n",
       "      <td>90.740741</td>\n",
       "    </tr>\n",
       "    <tr>\n",
       "      <th>8</th>\n",
       "      <td>FA1000016001</td>\n",
       "      <td>7</td>\n",
       "      <td>46</td>\n",
       "      <td>53</td>\n",
       "      <td>13.207547</td>\n",
       "      <td>86.792453</td>\n",
       "    </tr>\n",
       "    <tr>\n",
       "      <th>9</th>\n",
       "      <td>FA0001387001</td>\n",
       "      <td>74</td>\n",
       "      <td>8710</td>\n",
       "      <td>8784</td>\n",
       "      <td>0.842441</td>\n",
       "      <td>99.157559</td>\n",
       "    </tr>\n",
       "    <tr>\n",
       "      <th>10</th>\n",
       "      <td>FA1000014001</td>\n",
       "      <td>561</td>\n",
       "      <td>601</td>\n",
       "      <td>1162</td>\n",
       "      <td>48.278830</td>\n",
       "      <td>51.721170</td>\n",
       "    </tr>\n",
       "    <tr>\n",
       "      <th>11</th>\n",
       "      <td>FA0001411001</td>\n",
       "      <td>1228</td>\n",
       "      <td>6703</td>\n",
       "      <td>7931</td>\n",
       "      <td>15.483546</td>\n",
       "      <td>84.516454</td>\n",
       "    </tr>\n",
       "    <tr>\n",
       "      <th>12</th>\n",
       "      <td>FA0001389001</td>\n",
       "      <td>895</td>\n",
       "      <td>13947</td>\n",
       "      <td>14842</td>\n",
       "      <td>6.030185</td>\n",
       "      <td>93.969815</td>\n",
       "    </tr>\n",
       "  </tbody>\n",
       "</table>\n",
       "</div>"
      ],
      "text/plain": [
       "      ProviderID  PaidCount  UnPaidCount  Total Claims  Paid Percentage  \\\n",
       "0   FA1000015002         43          449           492         8.739837   \n",
       "1   FA0001411003          4           67            71         5.633803   \n",
       "2   FA0004551001        415          322           737        56.309362   \n",
       "3   FA0001774001        302         2545          2847        10.607657   \n",
       "4   FA0001389003          8          539           547         1.462523   \n",
       "5   FA1000015001        740         1170          1910        38.743455   \n",
       "6   FA0001387002       1786         9799         11585        15.416487   \n",
       "7   FA1000014002          5           49            54         9.259259   \n",
       "8   FA1000016001          7           46            53        13.207547   \n",
       "9   FA0001387001         74         8710          8784         0.842441   \n",
       "10  FA1000014001        561          601          1162        48.278830   \n",
       "11  FA0001411001       1228         6703          7931        15.483546   \n",
       "12  FA0001389001        895        13947         14842         6.030185   \n",
       "\n",
       "    UnPaid Percentage  \n",
       "0           91.260163  \n",
       "1           94.366197  \n",
       "2           43.690638  \n",
       "3           89.392343  \n",
       "4           98.537477  \n",
       "5           61.256545  \n",
       "6           84.583513  \n",
       "7           90.740741  \n",
       "8           86.792453  \n",
       "9           99.157559  \n",
       "10          51.721170  \n",
       "11          84.516454  \n",
       "12          93.969815  "
      ]
     },
     "execution_count": 31,
     "metadata": {},
     "output_type": "execute_result"
    }
   ],
   "source": [
    "# show paid versus upaid claim information with percentages\n",
    "provider_df['Total Claims'] = provider_df['PaidCount'] + provider_df['UnPaidCount']\n",
    "provider_df['Paid Percentage'] = (provider_df['PaidCount'] / provider_df['Total Claims']) * 100\n",
    "provider_df['UnPaid Percentage'] = 100 - provider_df['Paid Percentage']\n",
    "provider_df"
   ]
  },
  {
   "cell_type": "markdown",
   "metadata": {},
   "source": [
    "## Paid Versus Unpaid Percentage Numbers"
   ]
  },
  {
   "cell_type": "code",
   "execution_count": 32,
   "metadata": {
    "ExecuteTime": {
     "end_time": "2020-07-25T22:09:11.687142Z",
     "start_time": "2020-07-25T22:09:11.623947Z"
    }
   },
   "outputs": [
    {
     "data": {
      "text/plain": [
       "'The average paid percentage is 17.693456299234207 while the unpaid percentage is 82.3065437007658'"
      ]
     },
     "execution_count": 32,
     "metadata": {},
     "output_type": "execute_result"
    }
   ],
   "source": [
    "# get the unpaid and paid percentages\n",
    "average_paid_percentage = np.average(provider_df['Paid Percentage'])\n",
    "average_unpaid_percentage = np.average(provider_df['UnPaid Percentage'])\n",
    "f\"The average paid percentage is {average_paid_percentage} while the unpaid percentage is {average_unpaid_percentage}\""
   ]
  },
  {
   "cell_type": "markdown",
   "metadata": {},
   "source": [
    "## Provider Paid Percentages (Grouped Bar Chart)"
   ]
  },
  {
   "cell_type": "code",
   "execution_count": 33,
   "metadata": {
    "ExecuteTime": {
     "end_time": "2020-07-25T22:09:12.162550Z",
     "start_time": "2020-07-25T22:09:11.690888Z"
    }
   },
   "outputs": [
    {
     "data": {
      "image/png": "[encoded data removed]",
      "text/plain": [
       "<Figure size 1296x720 with 1 Axes>"
      ]
     },
     "metadata": {},
     "output_type": "display_data"
    }
   ],
   "source": [
    "import numpy as np\n",
    "import matplotlib.pyplot as plt\n",
    " \n",
    "# set width of bar\n",
    "barWidth = 0.25\n",
    "\n",
    "# sort values before starting\n",
    "provider_df = provider_df.sort_values('UnPaid Percentage', ascending=False)\n",
    "\n",
    "# set height of bar\n",
    "bars1 = provider_df['Paid Percentage'].values\n",
    "bars2 = provider_df['UnPaid Percentage'].values\n",
    "\n",
    "# Set position of bar on X axis\n",
    "r1 = np.arange(len(bars1))\n",
    "r2 = [x + barWidth for x in r1]\n",
    "\n",
    "# set figure size\n",
    "plt.figure(figsize=(18,10))\n",
    "plt.title(\"Paid Percentage Versus UnPaid Percentage\")\n",
    "\n",
    "# Make the plot\n",
    "plt.bar(r1, bars1, color='#7f6d5f', width=barWidth, edgecolor='white', label='Paid Percentage')\n",
    "plt.bar(r2, bars2, color='#557f2d', width=barWidth, edgecolor='white', label='UnPaid Percentage')\n",
    " \n",
    "# Add xticks on the middle of the group bars\n",
    "plt.xlabel('ProviderID', fontweight='bold')\n",
    "plt.xticks([r + barWidth for r in range(len(bars1))], provider_df['ProviderID'].values, rotation=45)\n",
    " \n",
    "# Add a static line for the average paid and unpaid amount\n",
    "plt.axhline(average_unpaid_percentage, color='r', label='Average UnPaid Percentage')\n",
    "plt.axhline(average_paid_percentage, color='b', label='Average Paid Percentage')\n",
    "\n",
    "# Create legend & Show graphic\n",
    "plt.legend()\n",
    "\n",
    "# Save File\n",
    "plt.savefig(os.path.join('../','visualization',f\"PaidVsUnpaid_Percentage.png\"))\n",
    "\n",
    "# Show Image\n",
    "plt.show()\n",
    "\n",
    "\n"
   ]
  },
  {
   "cell_type": "markdown",
   "metadata": {},
   "source": [
    "## Data Prep"
   ]
  },
  {
   "cell_type": "code",
   "execution_count": 47,
   "metadata": {
    "ExecuteTime": {
     "end_time": "2020-07-25T22:14:56.487061Z",
     "start_time": "2020-07-25T22:14:56.475059Z"
    }
   },
   "outputs": [
    {
     "ename": "NameError",
     "evalue": "name 'claim_data' is not defined",
     "output_type": "error",
     "traceback": [
      "\u001b[0;31m---------------------------------------------------------------------------\u001b[0m",
      "\u001b[0;31mNameError\u001b[0m                                 Traceback (most recent call last)",
      "\u001b[0;32m<ipython-input-47-f191dc6c4baf>\u001b[0m in \u001b[0;36m<module>\u001b[0;34m\u001b[0m\n\u001b[1;32m      1\u001b[0m \u001b[0;31m# load procedure data including new columns\u001b[0m\u001b[0;34m\u001b[0m\u001b[0;34m\u001b[0m\u001b[0;34m\u001b[0m\u001b[0m\n\u001b[0;32m----> 2\u001b[0;31m \u001b[0mprocedure_data\u001b[0m \u001b[0;34m=\u001b[0m \u001b[0mclaim_data\u001b[0m\u001b[0;34m.\u001b[0m\u001b[0mloc\u001b[0m\u001b[0;34m[\u001b[0m\u001b[0mclaim_data\u001b[0m\u001b[0;34m.\u001b[0m\u001b[0mIsProcedure\u001b[0m \u001b[0;34m==\u001b[0m \u001b[0;36m1\u001b[0m\u001b[0;34m]\u001b[0m\u001b[0;34m.\u001b[0m\u001b[0mcopy\u001b[0m\u001b[0;34m(\u001b[0m\u001b[0;34m)\u001b[0m\u001b[0;34m\u001b[0m\u001b[0;34m\u001b[0m\u001b[0m\n\u001b[0m\u001b[1;32m      3\u001b[0m \u001b[0;34m\u001b[0m\u001b[0m\n\u001b[1;32m      4\u001b[0m \u001b[0;31m# delete claim data from memory\u001b[0m\u001b[0;34m\u001b[0m\u001b[0;34m\u001b[0m\u001b[0;34m\u001b[0m\u001b[0m\n\u001b[1;32m      5\u001b[0m \u001b[0;32mdel\u001b[0m \u001b[0mclaim_data\u001b[0m\u001b[0;34m\u001b[0m\u001b[0;34m\u001b[0m\u001b[0m\n",
      "\u001b[0;31mNameError\u001b[0m: name 'claim_data' is not defined"
     ]
    }
   ],
   "source": [
    "# load procedure data including new columns \n",
    "procedure_data = claim_data.loc[claim_data.IsProcedure == 1].copy()\n",
    "\n",
    "# delete claim data from memory\n",
    "del claim_data\n",
    "\n",
    "# drop unneccessary columns (IsProcedure and Paid Claim)\n",
    "procedure_data.drop(['IsProcedure', 'PaidClaim'], axis=1, inplace=True)\n",
    "\n",
    "# convert claim number to an integer value\n",
    "procedure_data['Claim.Number'] = procedure_data['Claim.Number'].astype(int)\n"
   ]
  },
  {
   "cell_type": "markdown",
   "metadata": {},
   "source": [
    "## Balance Dataset"
   ]
  },
  {
   "cell_type": "markdown",
   "metadata": {
    "ExecuteTime": {
     "end_time": "2020-07-25T22:11:24.083908Z",
     "start_time": "2020-07-25T22:11:24.080474Z"
    }
   },
   "source": [
    "## Save Data To File"
   ]
  },
  {
   "cell_type": "code",
   "execution_count": 48,
   "metadata": {
    "ExecuteTime": {
     "end_time": "2020-07-25T22:14:59.391878Z",
     "start_time": "2020-07-25T22:14:59.183588Z"
    }
   },
   "outputs": [],
   "source": [
    "from sklearn.utils import resample\n",
    "\n",
    "# Separate majority and minority classes\n",
    "df_majority = procedure_data[procedure_data.UnpaidClaim==1]\n",
    "df_minority = procedure_data[procedure_data.UnpaidClaim==0]\n",
    " \n",
    "# Downsample majority class\n",
    "df_majority_downsampled = resample(df_majority, \n",
    "                                 replace=False,    # sample without replacement\n",
    "                                 n_samples=len(df_minority),     # to match minority class\n",
    "                                 random_state=123) # reproducible results\n",
    " \n",
    "# Combine minority class with downsampled majority class\n",
    "df_downsampled = pd.concat([df_majority_downsampled, df_minority])\n",
    " \n",
    "# Display new class counts\n",
    "df_downsampled.UnpaidClaim.value_counts()\n",
    "\n",
    "# Save Data To File\n",
    "df_downsampled.to_csv(os.path.join('../data','original', 'procedure_data.tar.gz'), compression='gzip', index=False)"
   ]
  },
  {
   "cell_type": "markdown",
   "metadata": {},
   "source": [
    "## Examine Procedure Data Set"
   ]
  },
  {
   "cell_type": "code",
   "execution_count": 3,
   "metadata": {
    "ExecuteTime": {
     "end_time": "2020-07-27T15:52:00.247993Z",
     "start_time": "2020-07-27T15:52:00.113798Z"
    }
   },
   "outputs": [
    {
     "data": {
      "text/html": [
       "<div>\n",
       "<style scoped>\n",
       "    .dataframe tbody tr th:only-of-type {\n",
       "        vertical-align: middle;\n",
       "    }\n",
       "\n",
       "    .dataframe tbody tr th {\n",
       "        vertical-align: top;\n",
       "    }\n",
       "\n",
       "    .dataframe thead th {\n",
       "        text-align: right;\n",
       "    }\n",
       "</style>\n",
       "<table border=\"1\" class=\"dataframe\">\n",
       "  <thead>\n",
       "    <tr style=\"text-align: right;\">\n",
       "      <th></th>\n",
       "      <th>Claim.Number</th>\n",
       "      <th>Claim.Line.Number</th>\n",
       "      <th>Member.ID</th>\n",
       "      <th>Provider.ID</th>\n",
       "      <th>Line.Of.Business.ID</th>\n",
       "      <th>Revenue.Code</th>\n",
       "      <th>Service.Code</th>\n",
       "      <th>Place.Of.Service.Code</th>\n",
       "      <th>Procedure.Code</th>\n",
       "      <th>Diagnosis.Code</th>\n",
       "      <th>...</th>\n",
       "      <th>Group.Index</th>\n",
       "      <th>Subscriber.Index</th>\n",
       "      <th>Subgroup.Index</th>\n",
       "      <th>Claim.Type</th>\n",
       "      <th>Claim.Subscriber.Type</th>\n",
       "      <th>Claim.Pre.Prince.Index</th>\n",
       "      <th>Claim.Current.Status</th>\n",
       "      <th>Network.ID</th>\n",
       "      <th>Agreement.ID</th>\n",
       "      <th>UnpaidClaim</th>\n",
       "    </tr>\n",
       "  </thead>\n",
       "  <tbody>\n",
       "    <tr>\n",
       "      <th>0</th>\n",
       "      <td>120447590</td>\n",
       "      <td>7</td>\n",
       "      <td>17159858</td>\n",
       "      <td>FA0001389001</td>\n",
       "      <td>1</td>\n",
       "      <td>636</td>\n",
       "      <td>SU7A</td>\n",
       "      <td></td>\n",
       "      <td>J3010</td>\n",
       "      <td>78791</td>\n",
       "      <td>...</td>\n",
       "      <td>110</td>\n",
       "      <td>13900250</td>\n",
       "      <td>0</td>\n",
       "      <td>M</td>\n",
       "      <td>H</td>\n",
       "      <td></td>\n",
       "      <td>2</td>\n",
       "      <td>P00000000007</td>\n",
       "      <td>FH001309QB01</td>\n",
       "      <td>1</td>\n",
       "    </tr>\n",
       "    <tr>\n",
       "      <th>1</th>\n",
       "      <td>997645990</td>\n",
       "      <td>14</td>\n",
       "      <td>329796</td>\n",
       "      <td>FA0001774001</td>\n",
       "      <td>1</td>\n",
       "      <td>636</td>\n",
       "      <td>OP7O</td>\n",
       "      <td></td>\n",
       "      <td>J1650</td>\n",
       "      <td>78651</td>\n",
       "      <td>...</td>\n",
       "      <td>61</td>\n",
       "      <td>267150</td>\n",
       "      <td>75</td>\n",
       "      <td>M</td>\n",
       "      <td>H</td>\n",
       "      <td></td>\n",
       "      <td>2</td>\n",
       "      <td>P00000000001</td>\n",
       "      <td>FH000595QB01</td>\n",
       "      <td>1</td>\n",
       "    </tr>\n",
       "    <tr>\n",
       "      <th>2</th>\n",
       "      <td>551558490</td>\n",
       "      <td>12</td>\n",
       "      <td>40200445</td>\n",
       "      <td>FA0001389001</td>\n",
       "      <td>1</td>\n",
       "      <td>636</td>\n",
       "      <td>SU7A</td>\n",
       "      <td></td>\n",
       "      <td>J2765</td>\n",
       "      <td>6851</td>\n",
       "      <td>...</td>\n",
       "      <td>572</td>\n",
       "      <td>32564150</td>\n",
       "      <td>0</td>\n",
       "      <td>M</td>\n",
       "      <td>H</td>\n",
       "      <td></td>\n",
       "      <td>2</td>\n",
       "      <td>P00000000007</td>\n",
       "      <td>FH002454QPD1</td>\n",
       "      <td>1</td>\n",
       "    </tr>\n",
       "    <tr>\n",
       "      <th>3</th>\n",
       "      <td>346912290</td>\n",
       "      <td>12</td>\n",
       "      <td>30203585</td>\n",
       "      <td>FA0001389001</td>\n",
       "      <td>1</td>\n",
       "      <td>636</td>\n",
       "      <td>SU7A</td>\n",
       "      <td></td>\n",
       "      <td>J3010</td>\n",
       "      <td>84201</td>\n",
       "      <td>...</td>\n",
       "      <td>572</td>\n",
       "      <td>24466250</td>\n",
       "      <td>0</td>\n",
       "      <td>M</td>\n",
       "      <td>H</td>\n",
       "      <td></td>\n",
       "      <td>2</td>\n",
       "      <td>P00000000007</td>\n",
       "      <td>FH002454QPD1</td>\n",
       "      <td>1</td>\n",
       "    </tr>\n",
       "    <tr>\n",
       "      <th>4</th>\n",
       "      <td>325425390</td>\n",
       "      <td>15</td>\n",
       "      <td>39116739</td>\n",
       "      <td>FA0001411001</td>\n",
       "      <td>1</td>\n",
       "      <td>636</td>\n",
       "      <td>SU7A</td>\n",
       "      <td></td>\n",
       "      <td>J2250</td>\n",
       "      <td>2189</td>\n",
       "      <td>...</td>\n",
       "      <td>572</td>\n",
       "      <td>31686300</td>\n",
       "      <td>0</td>\n",
       "      <td>M</td>\n",
       "      <td>H</td>\n",
       "      <td></td>\n",
       "      <td>2</td>\n",
       "      <td>P00000000007</td>\n",
       "      <td>FH002451QPD1</td>\n",
       "      <td>1</td>\n",
       "    </tr>\n",
       "  </tbody>\n",
       "</table>\n",
       "<p>5 rows × 29 columns</p>\n",
       "</div>"
      ],
      "text/plain": [
       "   Claim.Number  Claim.Line.Number  Member.ID   Provider.ID  \\\n",
       "0     120447590                  7   17159858  FA0001389001   \n",
       "1     997645990                 14     329796  FA0001774001   \n",
       "2     551558490                 12   40200445  FA0001389001   \n",
       "3     346912290                 12   30203585  FA0001389001   \n",
       "4     325425390                 15   39116739  FA0001411001   \n",
       "\n",
       "  Line.Of.Business.ID  Revenue.Code Service.Code Place.Of.Service.Code  \\\n",
       "0                   1           636         SU7A                         \n",
       "1                   1           636         OP7O                         \n",
       "2                   1           636         SU7A                         \n",
       "3                   1           636         SU7A                         \n",
       "4                   1           636         SU7A                         \n",
       "\n",
       "  Procedure.Code Diagnosis.Code  ...  Group.Index Subscriber.Index  \\\n",
       "0          J3010          78791  ...          110         13900250   \n",
       "1          J1650          78651  ...           61           267150   \n",
       "2          J2765           6851  ...          572         32564150   \n",
       "3          J3010          84201  ...          572         24466250   \n",
       "4          J2250           2189  ...          572         31686300   \n",
       "\n",
       "  Subgroup.Index Claim.Type Claim.Subscriber.Type Claim.Pre.Prince.Index  \\\n",
       "0              0          M                     H                          \n",
       "1             75          M                     H                          \n",
       "2              0          M                     H                          \n",
       "3              0          M                     H                          \n",
       "4              0          M                     H                          \n",
       "\n",
       "  Claim.Current.Status    Network.ID  Agreement.ID  UnpaidClaim  \n",
       "0                    2  P00000000007  FH001309QB01            1  \n",
       "1                    2  P00000000001  FH000595QB01            1  \n",
       "2                    2  P00000000007  FH002454QPD1            1  \n",
       "3                    2  P00000000007  FH002454QPD1            1  \n",
       "4                    2  P00000000007  FH002451QPD1            1  \n",
       "\n",
       "[5 rows x 29 columns]"
      ]
     },
     "execution_count": 3,
     "metadata": {},
     "output_type": "execute_result"
    }
   ],
   "source": [
    "# load data\n",
    "procedure_data = pd.read_csv(os.path.join('../data','original', 'procedure_data.tar.gz'), low_memory=False)\n",
    "\n",
    "# show first few rows\n",
    "procedure_data.head()"
   ]
  },
  {
   "cell_type": "markdown",
   "metadata": {},
   "source": [
    "### Data Overview"
   ]
  },
  {
   "cell_type": "markdown",
   "metadata": {},
   "source": [
    "51029 procedures\n",
    "10691 unique procedure claims\n",
    "6341 unique patients\n",
    "Top Procedures for Member (88514637.0, 306)\n",
    "mostly end stage renal cancer patients\n",
    "top 5 injections are for prepping the patient for infusion (anethesia)\n",
    "healthcare claim code reference (https://www.uhccommunityplan.com/assets/healthcareprofessionals/providerinformation/AZ-Provider-Information/AZ_Health_Care_Status_Codes.pdf)\n"
   ]
  },
  {
   "cell_type": "code",
   "execution_count": 4,
   "metadata": {
    "ExecuteTime": {
     "end_time": "2020-07-27T15:52:02.174822Z",
     "start_time": "2020-07-27T15:52:02.170234Z"
    }
   },
   "outputs": [
    {
     "data": {
      "text/plain": [
       "(12136, 29)"
      ]
     },
     "execution_count": 4,
     "metadata": {},
     "output_type": "execute_result"
    }
   ],
   "source": [
    "procedure_data.shape"
   ]
  },
  {
   "cell_type": "code",
   "execution_count": 5,
   "metadata": {
    "ExecuteTime": {
     "end_time": "2020-07-27T15:52:02.784332Z",
     "start_time": "2020-07-27T15:52:02.778489Z"
    }
   },
   "outputs": [
    {
     "data": {
      "text/plain": [
       "3391"
      ]
     },
     "execution_count": 5,
     "metadata": {},
     "output_type": "execute_result"
    }
   ],
   "source": [
    "procedure_data['Member.ID'].nunique()"
   ]
  },
  {
   "cell_type": "code",
   "execution_count": 6,
   "metadata": {
    "ExecuteTime": {
     "end_time": "2020-07-27T15:52:03.532901Z",
     "start_time": "2020-07-27T15:52:03.520245Z"
    }
   },
   "outputs": [
    {
     "data": {
      "text/plain": [
       "1554235     135\n",
       "25335026     82\n",
       "21880031     80\n",
       "37800513     73\n",
       "94627634     72\n",
       "Name: Member.ID, dtype: int64"
      ]
     },
     "execution_count": 6,
     "metadata": {},
     "output_type": "execute_result"
    }
   ],
   "source": [
    "procedure_data['Member.ID'].value_counts(ascending=False).head()"
   ]
  },
  {
   "cell_type": "code",
   "execution_count": 7,
   "metadata": {
    "ExecuteTime": {
     "end_time": "2020-07-27T15:52:04.150749Z",
     "start_time": "2020-07-27T15:52:04.100219Z"
    }
   },
   "outputs": [
    {
     "data": {
      "text/html": [
       "<div>\n",
       "<style scoped>\n",
       "    .dataframe tbody tr th:only-of-type {\n",
       "        vertical-align: middle;\n",
       "    }\n",
       "\n",
       "    .dataframe tbody tr th {\n",
       "        vertical-align: top;\n",
       "    }\n",
       "\n",
       "    .dataframe thead th {\n",
       "        text-align: right;\n",
       "    }\n",
       "</style>\n",
       "<table border=\"1\" class=\"dataframe\">\n",
       "  <thead>\n",
       "    <tr style=\"text-align: right;\">\n",
       "      <th></th>\n",
       "      <th>Claim.Number</th>\n",
       "      <th>Claim.Line.Number</th>\n",
       "      <th>Member.ID</th>\n",
       "      <th>Provider.ID</th>\n",
       "      <th>Line.Of.Business.ID</th>\n",
       "      <th>Revenue.Code</th>\n",
       "      <th>Service.Code</th>\n",
       "      <th>Place.Of.Service.Code</th>\n",
       "      <th>Procedure.Code</th>\n",
       "      <th>Diagnosis.Code</th>\n",
       "      <th>...</th>\n",
       "      <th>Group.Index</th>\n",
       "      <th>Subscriber.Index</th>\n",
       "      <th>Subgroup.Index</th>\n",
       "      <th>Claim.Type</th>\n",
       "      <th>Claim.Subscriber.Type</th>\n",
       "      <th>Claim.Pre.Prince.Index</th>\n",
       "      <th>Claim.Current.Status</th>\n",
       "      <th>Network.ID</th>\n",
       "      <th>Agreement.ID</th>\n",
       "      <th>UnpaidClaim</th>\n",
       "    </tr>\n",
       "  </thead>\n",
       "  <tbody>\n",
       "    <tr>\n",
       "      <th>453</th>\n",
       "      <td>115273290</td>\n",
       "      <td>19</td>\n",
       "      <td>88514637</td>\n",
       "      <td>FA1000015001</td>\n",
       "      <td>13</td>\n",
       "      <td>636</td>\n",
       "      <td>OP7O</td>\n",
       "      <td></td>\n",
       "      <td>J1644</td>\n",
       "      <td>5856</td>\n",
       "      <td>...</td>\n",
       "      <td>48546</td>\n",
       "      <td>71700800</td>\n",
       "      <td>0</td>\n",
       "      <td>E</td>\n",
       "      <td>H</td>\n",
       "      <td></td>\n",
       "      <td>11</td>\n",
       "      <td>MIMAPD000001</td>\n",
       "      <td>PI003247QM03</td>\n",
       "      <td>1</td>\n",
       "    </tr>\n",
       "    <tr>\n",
       "      <th>508</th>\n",
       "      <td>1003542990</td>\n",
       "      <td>14</td>\n",
       "      <td>88514637</td>\n",
       "      <td>FA0001387001</td>\n",
       "      <td></td>\n",
       "      <td>636</td>\n",
       "      <td>OP7O</td>\n",
       "      <td></td>\n",
       "      <td>J1644</td>\n",
       "      <td>5856</td>\n",
       "      <td>...</td>\n",
       "      <td>48546</td>\n",
       "      <td>71700800</td>\n",
       "      <td>0</td>\n",
       "      <td>M</td>\n",
       "      <td>H</td>\n",
       "      <td></td>\n",
       "      <td>2</td>\n",
       "      <td></td>\n",
       "      <td></td>\n",
       "      <td>1</td>\n",
       "    </tr>\n",
       "    <tr>\n",
       "      <th>572</th>\n",
       "      <td>115282190</td>\n",
       "      <td>35</td>\n",
       "      <td>88514637</td>\n",
       "      <td>FA1000015001</td>\n",
       "      <td>13</td>\n",
       "      <td>636</td>\n",
       "      <td>OP7O</td>\n",
       "      <td></td>\n",
       "      <td>J2501</td>\n",
       "      <td>5856</td>\n",
       "      <td>...</td>\n",
       "      <td>48546</td>\n",
       "      <td>71700800</td>\n",
       "      <td>0</td>\n",
       "      <td>E</td>\n",
       "      <td>H</td>\n",
       "      <td></td>\n",
       "      <td>11</td>\n",
       "      <td>MIMAPD000001</td>\n",
       "      <td>PI003247QM03</td>\n",
       "      <td>1</td>\n",
       "    </tr>\n",
       "    <tr>\n",
       "      <th>721</th>\n",
       "      <td>1003542990</td>\n",
       "      <td>99</td>\n",
       "      <td>88514637</td>\n",
       "      <td>FA0001387001</td>\n",
       "      <td></td>\n",
       "      <td>636</td>\n",
       "      <td>OP7O</td>\n",
       "      <td></td>\n",
       "      <td>J2501</td>\n",
       "      <td>5856</td>\n",
       "      <td>...</td>\n",
       "      <td>48546</td>\n",
       "      <td>71700800</td>\n",
       "      <td>0</td>\n",
       "      <td>M</td>\n",
       "      <td>H</td>\n",
       "      <td></td>\n",
       "      <td>2</td>\n",
       "      <td></td>\n",
       "      <td></td>\n",
       "      <td>1</td>\n",
       "    </tr>\n",
       "    <tr>\n",
       "      <th>775</th>\n",
       "      <td>115282190</td>\n",
       "      <td>4</td>\n",
       "      <td>88514637</td>\n",
       "      <td>FA1000015001</td>\n",
       "      <td>13</td>\n",
       "      <td>636</td>\n",
       "      <td>OP7O</td>\n",
       "      <td></td>\n",
       "      <td>J1644</td>\n",
       "      <td>5856</td>\n",
       "      <td>...</td>\n",
       "      <td>48546</td>\n",
       "      <td>71700800</td>\n",
       "      <td>0</td>\n",
       "      <td>E</td>\n",
       "      <td>H</td>\n",
       "      <td></td>\n",
       "      <td>11</td>\n",
       "      <td>MIMAPD000001</td>\n",
       "      <td>PI003247QM03</td>\n",
       "      <td>1</td>\n",
       "    </tr>\n",
       "    <tr>\n",
       "      <th>1136</th>\n",
       "      <td>115282190</td>\n",
       "      <td>39</td>\n",
       "      <td>88514637</td>\n",
       "      <td>FA1000015001</td>\n",
       "      <td>13</td>\n",
       "      <td>636</td>\n",
       "      <td>OP7O</td>\n",
       "      <td></td>\n",
       "      <td>J2501</td>\n",
       "      <td>5856</td>\n",
       "      <td>...</td>\n",
       "      <td>48546</td>\n",
       "      <td>71700800</td>\n",
       "      <td>0</td>\n",
       "      <td>E</td>\n",
       "      <td>H</td>\n",
       "      <td></td>\n",
       "      <td>11</td>\n",
       "      <td>MIMAPD000001</td>\n",
       "      <td>PI003247QM03</td>\n",
       "      <td>1</td>\n",
       "    </tr>\n",
       "    <tr>\n",
       "      <th>1259</th>\n",
       "      <td>1003542990</td>\n",
       "      <td>41</td>\n",
       "      <td>88514637</td>\n",
       "      <td>FA0001387001</td>\n",
       "      <td></td>\n",
       "      <td>636</td>\n",
       "      <td>OP7O</td>\n",
       "      <td></td>\n",
       "      <td>J2501</td>\n",
       "      <td>5856</td>\n",
       "      <td>...</td>\n",
       "      <td>48546</td>\n",
       "      <td>71700800</td>\n",
       "      <td>0</td>\n",
       "      <td>M</td>\n",
       "      <td>H</td>\n",
       "      <td></td>\n",
       "      <td>2</td>\n",
       "      <td></td>\n",
       "      <td></td>\n",
       "      <td>1</td>\n",
       "    </tr>\n",
       "    <tr>\n",
       "      <th>1327</th>\n",
       "      <td>1003542990</td>\n",
       "      <td>101</td>\n",
       "      <td>88514637</td>\n",
       "      <td>FA0001387001</td>\n",
       "      <td></td>\n",
       "      <td>636</td>\n",
       "      <td>OP7O</td>\n",
       "      <td></td>\n",
       "      <td>J2501</td>\n",
       "      <td>5856</td>\n",
       "      <td>...</td>\n",
       "      <td>48546</td>\n",
       "      <td>71700800</td>\n",
       "      <td>0</td>\n",
       "      <td>M</td>\n",
       "      <td>H</td>\n",
       "      <td></td>\n",
       "      <td>2</td>\n",
       "      <td></td>\n",
       "      <td></td>\n",
       "      <td>1</td>\n",
       "    </tr>\n",
       "    <tr>\n",
       "      <th>1385</th>\n",
       "      <td>1003542990</td>\n",
       "      <td>22</td>\n",
       "      <td>88514637</td>\n",
       "      <td>FA0001387001</td>\n",
       "      <td></td>\n",
       "      <td>636</td>\n",
       "      <td>OP7O</td>\n",
       "      <td></td>\n",
       "      <td>J1644</td>\n",
       "      <td>5856</td>\n",
       "      <td>...</td>\n",
       "      <td>48546</td>\n",
       "      <td>71700800</td>\n",
       "      <td>0</td>\n",
       "      <td>M</td>\n",
       "      <td>H</td>\n",
       "      <td></td>\n",
       "      <td>2</td>\n",
       "      <td></td>\n",
       "      <td></td>\n",
       "      <td>1</td>\n",
       "    </tr>\n",
       "    <tr>\n",
       "      <th>1434</th>\n",
       "      <td>1003542990</td>\n",
       "      <td>35</td>\n",
       "      <td>88514637</td>\n",
       "      <td>FA0001387001</td>\n",
       "      <td></td>\n",
       "      <td>636</td>\n",
       "      <td>OP7O</td>\n",
       "      <td></td>\n",
       "      <td>J1644</td>\n",
       "      <td>5856</td>\n",
       "      <td>...</td>\n",
       "      <td>48546</td>\n",
       "      <td>71700800</td>\n",
       "      <td>0</td>\n",
       "      <td>M</td>\n",
       "      <td>H</td>\n",
       "      <td></td>\n",
       "      <td>2</td>\n",
       "      <td></td>\n",
       "      <td></td>\n",
       "      <td>1</td>\n",
       "    </tr>\n",
       "    <tr>\n",
       "      <th>1460</th>\n",
       "      <td>115273290</td>\n",
       "      <td>31</td>\n",
       "      <td>88514637</td>\n",
       "      <td>FA1000015001</td>\n",
       "      <td>13</td>\n",
       "      <td>636</td>\n",
       "      <td>OP7O</td>\n",
       "      <td></td>\n",
       "      <td>J2501</td>\n",
       "      <td>5856</td>\n",
       "      <td>...</td>\n",
       "      <td>48546</td>\n",
       "      <td>71700800</td>\n",
       "      <td>0</td>\n",
       "      <td>E</td>\n",
       "      <td>H</td>\n",
       "      <td></td>\n",
       "      <td>11</td>\n",
       "      <td>MIMAPD000001</td>\n",
       "      <td>PI003247QM03</td>\n",
       "      <td>1</td>\n",
       "    </tr>\n",
       "    <tr>\n",
       "      <th>1675</th>\n",
       "      <td>1003542990</td>\n",
       "      <td>11</td>\n",
       "      <td>88514637</td>\n",
       "      <td>FA0001387001</td>\n",
       "      <td></td>\n",
       "      <td>636</td>\n",
       "      <td>OP7O</td>\n",
       "      <td></td>\n",
       "      <td>J2501</td>\n",
       "      <td>5856</td>\n",
       "      <td>...</td>\n",
       "      <td>48546</td>\n",
       "      <td>71700800</td>\n",
       "      <td>0</td>\n",
       "      <td>M</td>\n",
       "      <td>H</td>\n",
       "      <td></td>\n",
       "      <td>2</td>\n",
       "      <td></td>\n",
       "      <td></td>\n",
       "      <td>1</td>\n",
       "    </tr>\n",
       "    <tr>\n",
       "      <th>1676</th>\n",
       "      <td>1003542990</td>\n",
       "      <td>29</td>\n",
       "      <td>88514637</td>\n",
       "      <td>FA0001387001</td>\n",
       "      <td></td>\n",
       "      <td>636</td>\n",
       "      <td>OP7O</td>\n",
       "      <td></td>\n",
       "      <td>J7050</td>\n",
       "      <td>5856</td>\n",
       "      <td>...</td>\n",
       "      <td>48546</td>\n",
       "      <td>71700800</td>\n",
       "      <td>0</td>\n",
       "      <td>M</td>\n",
       "      <td>H</td>\n",
       "      <td></td>\n",
       "      <td>2</td>\n",
       "      <td></td>\n",
       "      <td></td>\n",
       "      <td>1</td>\n",
       "    </tr>\n",
       "    <tr>\n",
       "      <th>1717</th>\n",
       "      <td>1003542990</td>\n",
       "      <td>9</td>\n",
       "      <td>88514637</td>\n",
       "      <td>FA0001387001</td>\n",
       "      <td></td>\n",
       "      <td>636</td>\n",
       "      <td>OP7O</td>\n",
       "      <td></td>\n",
       "      <td>J1644</td>\n",
       "      <td>5856</td>\n",
       "      <td>...</td>\n",
       "      <td>48546</td>\n",
       "      <td>71700800</td>\n",
       "      <td>0</td>\n",
       "      <td>M</td>\n",
       "      <td>H</td>\n",
       "      <td></td>\n",
       "      <td>2</td>\n",
       "      <td></td>\n",
       "      <td></td>\n",
       "      <td>1</td>\n",
       "    </tr>\n",
       "    <tr>\n",
       "      <th>2063</th>\n",
       "      <td>1003542990</td>\n",
       "      <td>116</td>\n",
       "      <td>88514637</td>\n",
       "      <td>FA0001387001</td>\n",
       "      <td></td>\n",
       "      <td>636</td>\n",
       "      <td>OP7O</td>\n",
       "      <td></td>\n",
       "      <td>J2501</td>\n",
       "      <td>5856</td>\n",
       "      <td>...</td>\n",
       "      <td>48546</td>\n",
       "      <td>71700800</td>\n",
       "      <td>0</td>\n",
       "      <td>M</td>\n",
       "      <td>H</td>\n",
       "      <td></td>\n",
       "      <td>2</td>\n",
       "      <td></td>\n",
       "      <td></td>\n",
       "      <td>1</td>\n",
       "    </tr>\n",
       "    <tr>\n",
       "      <th>2078</th>\n",
       "      <td>115273290</td>\n",
       "      <td>34</td>\n",
       "      <td>88514637</td>\n",
       "      <td>FA1000015001</td>\n",
       "      <td>13</td>\n",
       "      <td>636</td>\n",
       "      <td>OP7O</td>\n",
       "      <td></td>\n",
       "      <td>J2501</td>\n",
       "      <td>5856</td>\n",
       "      <td>...</td>\n",
       "      <td>48546</td>\n",
       "      <td>71700800</td>\n",
       "      <td>0</td>\n",
       "      <td>E</td>\n",
       "      <td>H</td>\n",
       "      <td></td>\n",
       "      <td>11</td>\n",
       "      <td>MIMAPD000001</td>\n",
       "      <td>PI003247QM03</td>\n",
       "      <td>1</td>\n",
       "    </tr>\n",
       "    <tr>\n",
       "      <th>2088</th>\n",
       "      <td>1003542990</td>\n",
       "      <td>48</td>\n",
       "      <td>88514637</td>\n",
       "      <td>FA0001387001</td>\n",
       "      <td></td>\n",
       "      <td>636</td>\n",
       "      <td>OP7O</td>\n",
       "      <td></td>\n",
       "      <td>J1644</td>\n",
       "      <td>5856</td>\n",
       "      <td>...</td>\n",
       "      <td>48546</td>\n",
       "      <td>71700800</td>\n",
       "      <td>0</td>\n",
       "      <td>M</td>\n",
       "      <td>H</td>\n",
       "      <td></td>\n",
       "      <td>2</td>\n",
       "      <td></td>\n",
       "      <td></td>\n",
       "      <td>1</td>\n",
       "    </tr>\n",
       "    <tr>\n",
       "      <th>2340</th>\n",
       "      <td>1003542990</td>\n",
       "      <td>75</td>\n",
       "      <td>88514637</td>\n",
       "      <td>FA0001387001</td>\n",
       "      <td></td>\n",
       "      <td>636</td>\n",
       "      <td>OP7O</td>\n",
       "      <td></td>\n",
       "      <td>J2501</td>\n",
       "      <td>5856</td>\n",
       "      <td>...</td>\n",
       "      <td>48546</td>\n",
       "      <td>71700800</td>\n",
       "      <td>0</td>\n",
       "      <td>M</td>\n",
       "      <td>H</td>\n",
       "      <td></td>\n",
       "      <td>2</td>\n",
       "      <td></td>\n",
       "      <td></td>\n",
       "      <td>1</td>\n",
       "    </tr>\n",
       "    <tr>\n",
       "      <th>2476</th>\n",
       "      <td>115277690</td>\n",
       "      <td>41</td>\n",
       "      <td>88514637</td>\n",
       "      <td>FA1000015001</td>\n",
       "      <td>13</td>\n",
       "      <td>636</td>\n",
       "      <td>OP7O</td>\n",
       "      <td></td>\n",
       "      <td>J2501</td>\n",
       "      <td>5856</td>\n",
       "      <td>...</td>\n",
       "      <td>48546</td>\n",
       "      <td>71700800</td>\n",
       "      <td>0</td>\n",
       "      <td>E</td>\n",
       "      <td>H</td>\n",
       "      <td></td>\n",
       "      <td>11</td>\n",
       "      <td>MIMAPD000001</td>\n",
       "      <td>PI003247QM03</td>\n",
       "      <td>1</td>\n",
       "    </tr>\n",
       "    <tr>\n",
       "      <th>2497</th>\n",
       "      <td>115277690</td>\n",
       "      <td>22</td>\n",
       "      <td>88514637</td>\n",
       "      <td>FA1000015001</td>\n",
       "      <td>13</td>\n",
       "      <td>636</td>\n",
       "      <td>OP7O</td>\n",
       "      <td></td>\n",
       "      <td>J1644</td>\n",
       "      <td>5856</td>\n",
       "      <td>...</td>\n",
       "      <td>48546</td>\n",
       "      <td>71700800</td>\n",
       "      <td>0</td>\n",
       "      <td>E</td>\n",
       "      <td>H</td>\n",
       "      <td></td>\n",
       "      <td>11</td>\n",
       "      <td>MIMAPD000001</td>\n",
       "      <td>PI003247QM03</td>\n",
       "      <td>1</td>\n",
       "    </tr>\n",
       "    <tr>\n",
       "      <th>2545</th>\n",
       "      <td>1003542990</td>\n",
       "      <td>51</td>\n",
       "      <td>88514637</td>\n",
       "      <td>FA0001387001</td>\n",
       "      <td></td>\n",
       "      <td>636</td>\n",
       "      <td>OP7O</td>\n",
       "      <td></td>\n",
       "      <td>J2501</td>\n",
       "      <td>5856</td>\n",
       "      <td>...</td>\n",
       "      <td>48546</td>\n",
       "      <td>71700800</td>\n",
       "      <td>0</td>\n",
       "      <td>M</td>\n",
       "      <td>H</td>\n",
       "      <td></td>\n",
       "      <td>2</td>\n",
       "      <td></td>\n",
       "      <td></td>\n",
       "      <td>1</td>\n",
       "    </tr>\n",
       "    <tr>\n",
       "      <th>2768</th>\n",
       "      <td>1003542990</td>\n",
       "      <td>86</td>\n",
       "      <td>88514637</td>\n",
       "      <td>FA0001387001</td>\n",
       "      <td></td>\n",
       "      <td>636</td>\n",
       "      <td>OP7O</td>\n",
       "      <td></td>\n",
       "      <td>J1756</td>\n",
       "      <td>5856</td>\n",
       "      <td>...</td>\n",
       "      <td>48546</td>\n",
       "      <td>71700800</td>\n",
       "      <td>0</td>\n",
       "      <td>M</td>\n",
       "      <td>H</td>\n",
       "      <td></td>\n",
       "      <td>2</td>\n",
       "      <td></td>\n",
       "      <td></td>\n",
       "      <td>1</td>\n",
       "    </tr>\n",
       "    <tr>\n",
       "      <th>2801</th>\n",
       "      <td>1003542990</td>\n",
       "      <td>54</td>\n",
       "      <td>88514637</td>\n",
       "      <td>FA0001387001</td>\n",
       "      <td></td>\n",
       "      <td>636</td>\n",
       "      <td>OP7O</td>\n",
       "      <td></td>\n",
       "      <td>J1644</td>\n",
       "      <td>5856</td>\n",
       "      <td>...</td>\n",
       "      <td>48546</td>\n",
       "      <td>71700800</td>\n",
       "      <td>0</td>\n",
       "      <td>M</td>\n",
       "      <td>H</td>\n",
       "      <td></td>\n",
       "      <td>2</td>\n",
       "      <td></td>\n",
       "      <td></td>\n",
       "      <td>1</td>\n",
       "    </tr>\n",
       "    <tr>\n",
       "      <th>2928</th>\n",
       "      <td>1003542990</td>\n",
       "      <td>67</td>\n",
       "      <td>88514637</td>\n",
       "      <td>FA0001387001</td>\n",
       "      <td></td>\n",
       "      <td>636</td>\n",
       "      <td>OP7O</td>\n",
       "      <td></td>\n",
       "      <td>J2501</td>\n",
       "      <td>5856</td>\n",
       "      <td>...</td>\n",
       "      <td>48546</td>\n",
       "      <td>71700800</td>\n",
       "      <td>0</td>\n",
       "      <td>M</td>\n",
       "      <td>H</td>\n",
       "      <td></td>\n",
       "      <td>2</td>\n",
       "      <td></td>\n",
       "      <td></td>\n",
       "      <td>1</td>\n",
       "    </tr>\n",
       "    <tr>\n",
       "      <th>3117</th>\n",
       "      <td>1003542990</td>\n",
       "      <td>62</td>\n",
       "      <td>88514637</td>\n",
       "      <td>FA0001387001</td>\n",
       "      <td></td>\n",
       "      <td>636</td>\n",
       "      <td>OP7O</td>\n",
       "      <td></td>\n",
       "      <td>J2501</td>\n",
       "      <td>5856</td>\n",
       "      <td>...</td>\n",
       "      <td>48546</td>\n",
       "      <td>71700800</td>\n",
       "      <td>0</td>\n",
       "      <td>M</td>\n",
       "      <td>H</td>\n",
       "      <td></td>\n",
       "      <td>2</td>\n",
       "      <td></td>\n",
       "      <td></td>\n",
       "      <td>1</td>\n",
       "    </tr>\n",
       "    <tr>\n",
       "      <th>3148</th>\n",
       "      <td>1003542990</td>\n",
       "      <td>16</td>\n",
       "      <td>88514637</td>\n",
       "      <td>FA0001387001</td>\n",
       "      <td></td>\n",
       "      <td>636</td>\n",
       "      <td>OP7O</td>\n",
       "      <td></td>\n",
       "      <td>J1644</td>\n",
       "      <td>5856</td>\n",
       "      <td>...</td>\n",
       "      <td>48546</td>\n",
       "      <td>71700800</td>\n",
       "      <td>0</td>\n",
       "      <td>M</td>\n",
       "      <td>H</td>\n",
       "      <td></td>\n",
       "      <td>2</td>\n",
       "      <td></td>\n",
       "      <td></td>\n",
       "      <td>1</td>\n",
       "    </tr>\n",
       "    <tr>\n",
       "      <th>3259</th>\n",
       "      <td>1003542990</td>\n",
       "      <td>50</td>\n",
       "      <td>88514637</td>\n",
       "      <td>FA0001387001</td>\n",
       "      <td></td>\n",
       "      <td>636</td>\n",
       "      <td>OP7O</td>\n",
       "      <td></td>\n",
       "      <td>J2501</td>\n",
       "      <td>5856</td>\n",
       "      <td>...</td>\n",
       "      <td>48546</td>\n",
       "      <td>71700800</td>\n",
       "      <td>0</td>\n",
       "      <td>M</td>\n",
       "      <td>H</td>\n",
       "      <td></td>\n",
       "      <td>2</td>\n",
       "      <td></td>\n",
       "      <td></td>\n",
       "      <td>1</td>\n",
       "    </tr>\n",
       "    <tr>\n",
       "      <th>3435</th>\n",
       "      <td>1003542990</td>\n",
       "      <td>44</td>\n",
       "      <td>88514637</td>\n",
       "      <td>FA0001387001</td>\n",
       "      <td></td>\n",
       "      <td>636</td>\n",
       "      <td>OP7O</td>\n",
       "      <td></td>\n",
       "      <td>J2501</td>\n",
       "      <td>5856</td>\n",
       "      <td>...</td>\n",
       "      <td>48546</td>\n",
       "      <td>71700800</td>\n",
       "      <td>0</td>\n",
       "      <td>M</td>\n",
       "      <td>H</td>\n",
       "      <td></td>\n",
       "      <td>2</td>\n",
       "      <td></td>\n",
       "      <td></td>\n",
       "      <td>1</td>\n",
       "    </tr>\n",
       "    <tr>\n",
       "      <th>3535</th>\n",
       "      <td>1003542990</td>\n",
       "      <td>33</td>\n",
       "      <td>88514637</td>\n",
       "      <td>FA0001387001</td>\n",
       "      <td></td>\n",
       "      <td>636</td>\n",
       "      <td>OP7O</td>\n",
       "      <td></td>\n",
       "      <td>J3370</td>\n",
       "      <td>5856</td>\n",
       "      <td>...</td>\n",
       "      <td>48546</td>\n",
       "      <td>71700800</td>\n",
       "      <td>0</td>\n",
       "      <td>M</td>\n",
       "      <td>H</td>\n",
       "      <td></td>\n",
       "      <td>2</td>\n",
       "      <td></td>\n",
       "      <td></td>\n",
       "      <td>1</td>\n",
       "    </tr>\n",
       "    <tr>\n",
       "      <th>3623</th>\n",
       "      <td>1003542990</td>\n",
       "      <td>35</td>\n",
       "      <td>88514637</td>\n",
       "      <td>FA0001387001</td>\n",
       "      <td></td>\n",
       "      <td>636</td>\n",
       "      <td>OP7O</td>\n",
       "      <td></td>\n",
       "      <td>J1644</td>\n",
       "      <td>5856</td>\n",
       "      <td>...</td>\n",
       "      <td>48546</td>\n",
       "      <td>71700800</td>\n",
       "      <td>0</td>\n",
       "      <td>M</td>\n",
       "      <td>H</td>\n",
       "      <td></td>\n",
       "      <td>2</td>\n",
       "      <td></td>\n",
       "      <td></td>\n",
       "      <td>1</td>\n",
       "    </tr>\n",
       "    <tr>\n",
       "      <th>3758</th>\n",
       "      <td>1003542990</td>\n",
       "      <td>53</td>\n",
       "      <td>88514637</td>\n",
       "      <td>FA0001387001</td>\n",
       "      <td></td>\n",
       "      <td>636</td>\n",
       "      <td>OP7O</td>\n",
       "      <td></td>\n",
       "      <td>J2501</td>\n",
       "      <td>5856</td>\n",
       "      <td>...</td>\n",
       "      <td>48546</td>\n",
       "      <td>71700800</td>\n",
       "      <td>0</td>\n",
       "      <td>M</td>\n",
       "      <td>H</td>\n",
       "      <td></td>\n",
       "      <td>2</td>\n",
       "      <td></td>\n",
       "      <td></td>\n",
       "      <td>1</td>\n",
       "    </tr>\n",
       "    <tr>\n",
       "      <th>3987</th>\n",
       "      <td>1003542990</td>\n",
       "      <td>26</td>\n",
       "      <td>88514637</td>\n",
       "      <td>FA0001387001</td>\n",
       "      <td></td>\n",
       "      <td>636</td>\n",
       "      <td>OP7O</td>\n",
       "      <td></td>\n",
       "      <td>J1644</td>\n",
       "      <td>5856</td>\n",
       "      <td>...</td>\n",
       "      <td>48546</td>\n",
       "      <td>71700800</td>\n",
       "      <td>0</td>\n",
       "      <td>M</td>\n",
       "      <td>H</td>\n",
       "      <td></td>\n",
       "      <td>2</td>\n",
       "      <td></td>\n",
       "      <td></td>\n",
       "      <td>1</td>\n",
       "    </tr>\n",
       "    <tr>\n",
       "      <th>4051</th>\n",
       "      <td>1003542990</td>\n",
       "      <td>18</td>\n",
       "      <td>88514637</td>\n",
       "      <td>FA0001387001</td>\n",
       "      <td></td>\n",
       "      <td>636</td>\n",
       "      <td>OP7O</td>\n",
       "      <td></td>\n",
       "      <td>J2501</td>\n",
       "      <td>5856</td>\n",
       "      <td>...</td>\n",
       "      <td>48546</td>\n",
       "      <td>71700800</td>\n",
       "      <td>0</td>\n",
       "      <td>M</td>\n",
       "      <td>H</td>\n",
       "      <td></td>\n",
       "      <td>2</td>\n",
       "      <td></td>\n",
       "      <td></td>\n",
       "      <td>1</td>\n",
       "    </tr>\n",
       "    <tr>\n",
       "      <th>4394</th>\n",
       "      <td>1003542990</td>\n",
       "      <td>60</td>\n",
       "      <td>88514637</td>\n",
       "      <td>FA0001387001</td>\n",
       "      <td></td>\n",
       "      <td>636</td>\n",
       "      <td>OP7O</td>\n",
       "      <td></td>\n",
       "      <td>J3260</td>\n",
       "      <td>5856</td>\n",
       "      <td>...</td>\n",
       "      <td>48546</td>\n",
       "      <td>71700800</td>\n",
       "      <td>0</td>\n",
       "      <td>M</td>\n",
       "      <td>H</td>\n",
       "      <td></td>\n",
       "      <td>2</td>\n",
       "      <td></td>\n",
       "      <td></td>\n",
       "      <td>1</td>\n",
       "    </tr>\n",
       "    <tr>\n",
       "      <th>4462</th>\n",
       "      <td>1003542990</td>\n",
       "      <td>73</td>\n",
       "      <td>88514637</td>\n",
       "      <td>FA0001387001</td>\n",
       "      <td></td>\n",
       "      <td>636</td>\n",
       "      <td>OP7O</td>\n",
       "      <td></td>\n",
       "      <td>J2501</td>\n",
       "      <td>5856</td>\n",
       "      <td>...</td>\n",
       "      <td>48546</td>\n",
       "      <td>71700800</td>\n",
       "      <td>0</td>\n",
       "      <td>M</td>\n",
       "      <td>H</td>\n",
       "      <td></td>\n",
       "      <td>2</td>\n",
       "      <td></td>\n",
       "      <td></td>\n",
       "      <td>1</td>\n",
       "    </tr>\n",
       "    <tr>\n",
       "      <th>4658</th>\n",
       "      <td>115273290</td>\n",
       "      <td>43</td>\n",
       "      <td>88514637</td>\n",
       "      <td>FA1000015001</td>\n",
       "      <td>13</td>\n",
       "      <td>636</td>\n",
       "      <td>OP7O</td>\n",
       "      <td></td>\n",
       "      <td>J2501</td>\n",
       "      <td>5856</td>\n",
       "      <td>...</td>\n",
       "      <td>48546</td>\n",
       "      <td>71700800</td>\n",
       "      <td>0</td>\n",
       "      <td>E</td>\n",
       "      <td>H</td>\n",
       "      <td></td>\n",
       "      <td>11</td>\n",
       "      <td>MIMAPD000001</td>\n",
       "      <td>PI003247QM03</td>\n",
       "      <td>1</td>\n",
       "    </tr>\n",
       "    <tr>\n",
       "      <th>4742</th>\n",
       "      <td>1003542990</td>\n",
       "      <td>13</td>\n",
       "      <td>88514637</td>\n",
       "      <td>FA0001387001</td>\n",
       "      <td></td>\n",
       "      <td>636</td>\n",
       "      <td>OP7O</td>\n",
       "      <td></td>\n",
       "      <td>J0692</td>\n",
       "      <td>5856</td>\n",
       "      <td>...</td>\n",
       "      <td>48546</td>\n",
       "      <td>71700800</td>\n",
       "      <td>0</td>\n",
       "      <td>M</td>\n",
       "      <td>H</td>\n",
       "      <td></td>\n",
       "      <td>2</td>\n",
       "      <td></td>\n",
       "      <td></td>\n",
       "      <td>1</td>\n",
       "    </tr>\n",
       "    <tr>\n",
       "      <th>4877</th>\n",
       "      <td>1003542990</td>\n",
       "      <td>81</td>\n",
       "      <td>88514637</td>\n",
       "      <td>FA0001387001</td>\n",
       "      <td></td>\n",
       "      <td>636</td>\n",
       "      <td>OP7O</td>\n",
       "      <td></td>\n",
       "      <td>J2501</td>\n",
       "      <td>5856</td>\n",
       "      <td>...</td>\n",
       "      <td>48546</td>\n",
       "      <td>71700800</td>\n",
       "      <td>0</td>\n",
       "      <td>M</td>\n",
       "      <td>H</td>\n",
       "      <td></td>\n",
       "      <td>2</td>\n",
       "      <td></td>\n",
       "      <td></td>\n",
       "      <td>1</td>\n",
       "    </tr>\n",
       "    <tr>\n",
       "      <th>5263</th>\n",
       "      <td>1003542990</td>\n",
       "      <td>59</td>\n",
       "      <td>88514637</td>\n",
       "      <td>FA0001387001</td>\n",
       "      <td></td>\n",
       "      <td>636</td>\n",
       "      <td>OP7O</td>\n",
       "      <td></td>\n",
       "      <td>J1756</td>\n",
       "      <td>5856</td>\n",
       "      <td>...</td>\n",
       "      <td>48546</td>\n",
       "      <td>71700800</td>\n",
       "      <td>0</td>\n",
       "      <td>M</td>\n",
       "      <td>H</td>\n",
       "      <td></td>\n",
       "      <td>2</td>\n",
       "      <td></td>\n",
       "      <td></td>\n",
       "      <td>1</td>\n",
       "    </tr>\n",
       "    <tr>\n",
       "      <th>5404</th>\n",
       "      <td>1003542990</td>\n",
       "      <td>1</td>\n",
       "      <td>88514637</td>\n",
       "      <td>FA0001387001</td>\n",
       "      <td></td>\n",
       "      <td>636</td>\n",
       "      <td>OP7O</td>\n",
       "      <td></td>\n",
       "      <td>J1644</td>\n",
       "      <td>5856</td>\n",
       "      <td>...</td>\n",
       "      <td>48546</td>\n",
       "      <td>71700800</td>\n",
       "      <td>0</td>\n",
       "      <td>M</td>\n",
       "      <td>H</td>\n",
       "      <td></td>\n",
       "      <td>2</td>\n",
       "      <td></td>\n",
       "      <td></td>\n",
       "      <td>1</td>\n",
       "    </tr>\n",
       "    <tr>\n",
       "      <th>5479</th>\n",
       "      <td>115273290</td>\n",
       "      <td>44</td>\n",
       "      <td>88514637</td>\n",
       "      <td>FA1000015001</td>\n",
       "      <td>13</td>\n",
       "      <td>636</td>\n",
       "      <td>OP7O</td>\n",
       "      <td></td>\n",
       "      <td>J2501</td>\n",
       "      <td>5856</td>\n",
       "      <td>...</td>\n",
       "      <td>48546</td>\n",
       "      <td>71700800</td>\n",
       "      <td>0</td>\n",
       "      <td>E</td>\n",
       "      <td>H</td>\n",
       "      <td></td>\n",
       "      <td>11</td>\n",
       "      <td>MIMAPD000001</td>\n",
       "      <td>PI003247QM03</td>\n",
       "      <td>1</td>\n",
       "    </tr>\n",
       "    <tr>\n",
       "      <th>5502</th>\n",
       "      <td>1003542990</td>\n",
       "      <td>21</td>\n",
       "      <td>88514637</td>\n",
       "      <td>FA0001387001</td>\n",
       "      <td></td>\n",
       "      <td>636</td>\n",
       "      <td>OP7O</td>\n",
       "      <td></td>\n",
       "      <td>J1644</td>\n",
       "      <td>5856</td>\n",
       "      <td>...</td>\n",
       "      <td>48546</td>\n",
       "      <td>71700800</td>\n",
       "      <td>0</td>\n",
       "      <td>M</td>\n",
       "      <td>H</td>\n",
       "      <td></td>\n",
       "      <td>2</td>\n",
       "      <td></td>\n",
       "      <td></td>\n",
       "      <td>1</td>\n",
       "    </tr>\n",
       "    <tr>\n",
       "      <th>5626</th>\n",
       "      <td>1003542990</td>\n",
       "      <td>98</td>\n",
       "      <td>88514637</td>\n",
       "      <td>FA0001387001</td>\n",
       "      <td></td>\n",
       "      <td>636</td>\n",
       "      <td>OP7O</td>\n",
       "      <td></td>\n",
       "      <td>J2501</td>\n",
       "      <td>5856</td>\n",
       "      <td>...</td>\n",
       "      <td>48546</td>\n",
       "      <td>71700800</td>\n",
       "      <td>0</td>\n",
       "      <td>M</td>\n",
       "      <td>H</td>\n",
       "      <td></td>\n",
       "      <td>2</td>\n",
       "      <td></td>\n",
       "      <td></td>\n",
       "      <td>1</td>\n",
       "    </tr>\n",
       "    <tr>\n",
       "      <th>5683</th>\n",
       "      <td>115277690</td>\n",
       "      <td>7</td>\n",
       "      <td>88514637</td>\n",
       "      <td>FA1000015001</td>\n",
       "      <td>13</td>\n",
       "      <td>636</td>\n",
       "      <td>OP7O</td>\n",
       "      <td></td>\n",
       "      <td>J1644</td>\n",
       "      <td>5856</td>\n",
       "      <td>...</td>\n",
       "      <td>48546</td>\n",
       "      <td>71700800</td>\n",
       "      <td>0</td>\n",
       "      <td>E</td>\n",
       "      <td>H</td>\n",
       "      <td></td>\n",
       "      <td>11</td>\n",
       "      <td>MIMAPD000001</td>\n",
       "      <td>PI003247QM03</td>\n",
       "      <td>1</td>\n",
       "    </tr>\n",
       "    <tr>\n",
       "      <th>5762</th>\n",
       "      <td>1003542990</td>\n",
       "      <td>13</td>\n",
       "      <td>88514637</td>\n",
       "      <td>FA0001387001</td>\n",
       "      <td></td>\n",
       "      <td>636</td>\n",
       "      <td>OP7O</td>\n",
       "      <td></td>\n",
       "      <td>J2501</td>\n",
       "      <td>5856</td>\n",
       "      <td>...</td>\n",
       "      <td>48546</td>\n",
       "      <td>71700800</td>\n",
       "      <td>0</td>\n",
       "      <td>M</td>\n",
       "      <td>H</td>\n",
       "      <td></td>\n",
       "      <td>2</td>\n",
       "      <td></td>\n",
       "      <td></td>\n",
       "      <td>1</td>\n",
       "    </tr>\n",
       "    <tr>\n",
       "      <th>5910</th>\n",
       "      <td>115282190</td>\n",
       "      <td>30</td>\n",
       "      <td>88514637</td>\n",
       "      <td>FA1000015001</td>\n",
       "      <td>13</td>\n",
       "      <td>636</td>\n",
       "      <td>OP7O</td>\n",
       "      <td></td>\n",
       "      <td>J2501</td>\n",
       "      <td>5856</td>\n",
       "      <td>...</td>\n",
       "      <td>48546</td>\n",
       "      <td>71700800</td>\n",
       "      <td>0</td>\n",
       "      <td>E</td>\n",
       "      <td>H</td>\n",
       "      <td></td>\n",
       "      <td>11</td>\n",
       "      <td>MIMAPD000001</td>\n",
       "      <td>PI003247QM03</td>\n",
       "      <td>1</td>\n",
       "    </tr>\n",
       "    <tr>\n",
       "      <th>6035</th>\n",
       "      <td>1003542990</td>\n",
       "      <td>8</td>\n",
       "      <td>88514637</td>\n",
       "      <td>FA0001387001</td>\n",
       "      <td></td>\n",
       "      <td>636</td>\n",
       "      <td>OP7O</td>\n",
       "      <td></td>\n",
       "      <td>J2501</td>\n",
       "      <td>5856</td>\n",
       "      <td>...</td>\n",
       "      <td>48546</td>\n",
       "      <td>71700800</td>\n",
       "      <td>0</td>\n",
       "      <td>M</td>\n",
       "      <td>H</td>\n",
       "      <td></td>\n",
       "      <td>2</td>\n",
       "      <td></td>\n",
       "      <td></td>\n",
       "      <td>1</td>\n",
       "    </tr>\n",
       "  </tbody>\n",
       "</table>\n",
       "<p>47 rows × 29 columns</p>\n",
       "</div>"
      ],
      "text/plain": [
       "      Claim.Number  Claim.Line.Number  Member.ID   Provider.ID  \\\n",
       "453      115273290                 19   88514637  FA1000015001   \n",
       "508     1003542990                 14   88514637  FA0001387001   \n",
       "572      115282190                 35   88514637  FA1000015001   \n",
       "721     1003542990                 99   88514637  FA0001387001   \n",
       "775      115282190                  4   88514637  FA1000015001   \n",
       "1136     115282190                 39   88514637  FA1000015001   \n",
       "1259    1003542990                 41   88514637  FA0001387001   \n",
       "1327    1003542990                101   88514637  FA0001387001   \n",
       "1385    1003542990                 22   88514637  FA0001387001   \n",
       "1434    1003542990                 35   88514637  FA0001387001   \n",
       "1460     115273290                 31   88514637  FA1000015001   \n",
       "1675    1003542990                 11   88514637  FA0001387001   \n",
       "1676    1003542990                 29   88514637  FA0001387001   \n",
       "1717    1003542990                  9   88514637  FA0001387001   \n",
       "2063    1003542990                116   88514637  FA0001387001   \n",
       "2078     115273290                 34   88514637  FA1000015001   \n",
       "2088    1003542990                 48   88514637  FA0001387001   \n",
       "2340    1003542990                 75   88514637  FA0001387001   \n",
       "2476     115277690                 41   88514637  FA1000015001   \n",
       "2497     115277690                 22   88514637  FA1000015001   \n",
       "2545    1003542990                 51   88514637  FA0001387001   \n",
       "2768    1003542990                 86   88514637  FA0001387001   \n",
       "2801    1003542990                 54   88514637  FA0001387001   \n",
       "2928    1003542990                 67   88514637  FA0001387001   \n",
       "3117    1003542990                 62   88514637  FA0001387001   \n",
       "3148    1003542990                 16   88514637  FA0001387001   \n",
       "3259    1003542990                 50   88514637  FA0001387001   \n",
       "3435    1003542990                 44   88514637  FA0001387001   \n",
       "3535    1003542990                 33   88514637  FA0001387001   \n",
       "3623    1003542990                 35   88514637  FA0001387001   \n",
       "3758    1003542990                 53   88514637  FA0001387001   \n",
       "3987    1003542990                 26   88514637  FA0001387001   \n",
       "4051    1003542990                 18   88514637  FA0001387001   \n",
       "4394    1003542990                 60   88514637  FA0001387001   \n",
       "4462    1003542990                 73   88514637  FA0001387001   \n",
       "4658     115273290                 43   88514637  FA1000015001   \n",
       "4742    1003542990                 13   88514637  FA0001387001   \n",
       "4877    1003542990                 81   88514637  FA0001387001   \n",
       "5263    1003542990                 59   88514637  FA0001387001   \n",
       "5404    1003542990                  1   88514637  FA0001387001   \n",
       "5479     115273290                 44   88514637  FA1000015001   \n",
       "5502    1003542990                 21   88514637  FA0001387001   \n",
       "5626    1003542990                 98   88514637  FA0001387001   \n",
       "5683     115277690                  7   88514637  FA1000015001   \n",
       "5762    1003542990                 13   88514637  FA0001387001   \n",
       "5910     115282190                 30   88514637  FA1000015001   \n",
       "6035    1003542990                  8   88514637  FA0001387001   \n",
       "\n",
       "     Line.Of.Business.ID  Revenue.Code Service.Code Place.Of.Service.Code  \\\n",
       "453                   13           636         OP7O                         \n",
       "508                                636         OP7O                         \n",
       "572                   13           636         OP7O                         \n",
       "721                                636         OP7O                         \n",
       "775                   13           636         OP7O                         \n",
       "1136                  13           636         OP7O                         \n",
       "1259                               636         OP7O                         \n",
       "1327                               636         OP7O                         \n",
       "1385                               636         OP7O                         \n",
       "1434                               636         OP7O                         \n",
       "1460                  13           636         OP7O                         \n",
       "1675                               636         OP7O                         \n",
       "1676                               636         OP7O                         \n",
       "1717                               636         OP7O                         \n",
       "2063                               636         OP7O                         \n",
       "2078                  13           636         OP7O                         \n",
       "2088                               636         OP7O                         \n",
       "2340                               636         OP7O                         \n",
       "2476                  13           636         OP7O                         \n",
       "2497                  13           636         OP7O                         \n",
       "2545                               636         OP7O                         \n",
       "2768                               636         OP7O                         \n",
       "2801                               636         OP7O                         \n",
       "2928                               636         OP7O                         \n",
       "3117                               636         OP7O                         \n",
       "3148                               636         OP7O                         \n",
       "3259                               636         OP7O                         \n",
       "3435                               636         OP7O                         \n",
       "3535                               636         OP7O                         \n",
       "3623                               636         OP7O                         \n",
       "3758                               636         OP7O                         \n",
       "3987                               636         OP7O                         \n",
       "4051                               636         OP7O                         \n",
       "4394                               636         OP7O                         \n",
       "4462                               636         OP7O                         \n",
       "4658                  13           636         OP7O                         \n",
       "4742                               636         OP7O                         \n",
       "4877                               636         OP7O                         \n",
       "5263                               636         OP7O                         \n",
       "5404                               636         OP7O                         \n",
       "5479                  13           636         OP7O                         \n",
       "5502                               636         OP7O                         \n",
       "5626                               636         OP7O                         \n",
       "5683                  13           636         OP7O                         \n",
       "5762                               636         OP7O                         \n",
       "5910                  13           636         OP7O                         \n",
       "6035                               636         OP7O                         \n",
       "\n",
       "     Procedure.Code Diagnosis.Code  ...  Group.Index Subscriber.Index  \\\n",
       "453           J1644           5856  ...        48546         71700800   \n",
       "508           J1644           5856  ...        48546         71700800   \n",
       "572           J2501           5856  ...        48546         71700800   \n",
       "721           J2501           5856  ...        48546         71700800   \n",
       "775           J1644           5856  ...        48546         71700800   \n",
       "1136          J2501           5856  ...        48546         71700800   \n",
       "1259          J2501           5856  ...        48546         71700800   \n",
       "1327          J2501           5856  ...        48546         71700800   \n",
       "1385          J1644           5856  ...        48546         71700800   \n",
       "1434          J1644           5856  ...        48546         71700800   \n",
       "1460          J2501           5856  ...        48546         71700800   \n",
       "1675          J2501           5856  ...        48546         71700800   \n",
       "1676          J7050           5856  ...        48546         71700800   \n",
       "1717          J1644           5856  ...        48546         71700800   \n",
       "2063          J2501           5856  ...        48546         71700800   \n",
       "2078          J2501           5856  ...        48546         71700800   \n",
       "2088          J1644           5856  ...        48546         71700800   \n",
       "2340          J2501           5856  ...        48546         71700800   \n",
       "2476          J2501           5856  ...        48546         71700800   \n",
       "2497          J1644           5856  ...        48546         71700800   \n",
       "2545          J2501           5856  ...        48546         71700800   \n",
       "2768          J1756           5856  ...        48546         71700800   \n",
       "2801          J1644           5856  ...        48546         71700800   \n",
       "2928          J2501           5856  ...        48546         71700800   \n",
       "3117          J2501           5856  ...        48546         71700800   \n",
       "3148          J1644           5856  ...        48546         71700800   \n",
       "3259          J2501           5856  ...        48546         71700800   \n",
       "3435          J2501           5856  ...        48546         71700800   \n",
       "3535          J3370           5856  ...        48546         71700800   \n",
       "3623          J1644           5856  ...        48546         71700800   \n",
       "3758          J2501           5856  ...        48546         71700800   \n",
       "3987          J1644           5856  ...        48546         71700800   \n",
       "4051          J2501           5856  ...        48546         71700800   \n",
       "4394          J3260           5856  ...        48546         71700800   \n",
       "4462          J2501           5856  ...        48546         71700800   \n",
       "4658          J2501           5856  ...        48546         71700800   \n",
       "4742          J0692           5856  ...        48546         71700800   \n",
       "4877          J2501           5856  ...        48546         71700800   \n",
       "5263          J1756           5856  ...        48546         71700800   \n",
       "5404          J1644           5856  ...        48546         71700800   \n",
       "5479          J2501           5856  ...        48546         71700800   \n",
       "5502          J1644           5856  ...        48546         71700800   \n",
       "5626          J2501           5856  ...        48546         71700800   \n",
       "5683          J1644           5856  ...        48546         71700800   \n",
       "5762          J2501           5856  ...        48546         71700800   \n",
       "5910          J2501           5856  ...        48546         71700800   \n",
       "6035          J2501           5856  ...        48546         71700800   \n",
       "\n",
       "     Subgroup.Index Claim.Type Claim.Subscriber.Type Claim.Pre.Prince.Index  \\\n",
       "453               0          E                     H                          \n",
       "508               0          M                     H                          \n",
       "572               0          E                     H                          \n",
       "721               0          M                     H                          \n",
       "775               0          E                     H                          \n",
       "1136              0          E                     H                          \n",
       "1259              0          M                     H                          \n",
       "1327              0          M                     H                          \n",
       "1385              0          M                     H                          \n",
       "1434              0          M                     H                          \n",
       "1460              0          E                     H                          \n",
       "1675              0          M                     H                          \n",
       "1676              0          M                     H                          \n",
       "1717              0          M                     H                          \n",
       "2063              0          M                     H                          \n",
       "2078              0          E                     H                          \n",
       "2088              0          M                     H                          \n",
       "2340              0          M                     H                          \n",
       "2476              0          E                     H                          \n",
       "2497              0          E                     H                          \n",
       "2545              0          M                     H                          \n",
       "2768              0          M                     H                          \n",
       "2801              0          M                     H                          \n",
       "2928              0          M                     H                          \n",
       "3117              0          M                     H                          \n",
       "3148              0          M                     H                          \n",
       "3259              0          M                     H                          \n",
       "3435              0          M                     H                          \n",
       "3535              0          M                     H                          \n",
       "3623              0          M                     H                          \n",
       "3758              0          M                     H                          \n",
       "3987              0          M                     H                          \n",
       "4051              0          M                     H                          \n",
       "4394              0          M                     H                          \n",
       "4462              0          M                     H                          \n",
       "4658              0          E                     H                          \n",
       "4742              0          M                     H                          \n",
       "4877              0          M                     H                          \n",
       "5263              0          M                     H                          \n",
       "5404              0          M                     H                          \n",
       "5479              0          E                     H                          \n",
       "5502              0          M                     H                          \n",
       "5626              0          M                     H                          \n",
       "5683              0          E                     H                          \n",
       "5762              0          M                     H                          \n",
       "5910              0          E                     H                          \n",
       "6035              0          M                     H                          \n",
       "\n",
       "     Claim.Current.Status    Network.ID  Agreement.ID  UnpaidClaim  \n",
       "453                    11  MIMAPD000001  PI003247QM03            1  \n",
       "508                     2                                        1  \n",
       "572                    11  MIMAPD000001  PI003247QM03            1  \n",
       "721                     2                                        1  \n",
       "775                    11  MIMAPD000001  PI003247QM03            1  \n",
       "1136                   11  MIMAPD000001  PI003247QM03            1  \n",
       "1259                    2                                        1  \n",
       "1327                    2                                        1  \n",
       "1385                    2                                        1  \n",
       "1434                    2                                        1  \n",
       "1460                   11  MIMAPD000001  PI003247QM03            1  \n",
       "1675                    2                                        1  \n",
       "1676                    2                                        1  \n",
       "1717                    2                                        1  \n",
       "2063                    2                                        1  \n",
       "2078                   11  MIMAPD000001  PI003247QM03            1  \n",
       "2088                    2                                        1  \n",
       "2340                    2                                        1  \n",
       "2476                   11  MIMAPD000001  PI003247QM03            1  \n",
       "2497                   11  MIMAPD000001  PI003247QM03            1  \n",
       "2545                    2                                        1  \n",
       "2768                    2                                        1  \n",
       "2801                    2                                        1  \n",
       "2928                    2                                        1  \n",
       "3117                    2                                        1  \n",
       "3148                    2                                        1  \n",
       "3259                    2                                        1  \n",
       "3435                    2                                        1  \n",
       "3535                    2                                        1  \n",
       "3623                    2                                        1  \n",
       "3758                    2                                        1  \n",
       "3987                    2                                        1  \n",
       "4051                    2                                        1  \n",
       "4394                    2                                        1  \n",
       "4462                    2                                        1  \n",
       "4658                   11  MIMAPD000001  PI003247QM03            1  \n",
       "4742                    2                                        1  \n",
       "4877                    2                                        1  \n",
       "5263                    2                                        1  \n",
       "5404                    2                                        1  \n",
       "5479                   11  MIMAPD000001  PI003247QM03            1  \n",
       "5502                    2                                        1  \n",
       "5626                    2                                        1  \n",
       "5683                   11  MIMAPD000001  PI003247QM03            1  \n",
       "5762                    2                                        1  \n",
       "5910                   11  MIMAPD000001  PI003247QM03            1  \n",
       "6035                    2                                        1  \n",
       "\n",
       "[47 rows x 29 columns]"
      ]
     },
     "execution_count": 7,
     "metadata": {},
     "output_type": "execute_result"
    }
   ],
   "source": [
    "# J1644 == Injection, heparin sodium, per 1000 units\n",
    "procedure_data.loc[procedure_data['Member.ID'] == 88514637.0]                  "
   ]
  },
  {
   "cell_type": "markdown",
   "metadata": {},
   "source": [
    "### UnPaid Claim"
   ]
  },
  {
   "cell_type": "code",
   "execution_count": 8,
   "metadata": {
    "ExecuteTime": {
     "end_time": "2020-07-27T15:52:04.859724Z",
     "start_time": "2020-07-27T15:52:04.570659Z"
    }
   },
   "outputs": [
    {
     "data": {
      "image/png": "[encoded data removed]",
      "text/plain": [
       "<Figure size 576x396 with 1 Axes>"
      ]
     },
     "metadata": {},
     "output_type": "display_data"
    }
   ],
   "source": [
    "# look at values counts for the target\n",
    "col = 'UnpaidClaim'\n",
    "sns.countplot(y=procedure_data[col], order=procedure_data[col].value_counts().iloc[:5].index);\n",
    "plt.savefig(os.path.join('../','visualization',f\"{col}_barchart.png\"))"
   ]
  },
  {
   "cell_type": "code",
   "execution_count": 9,
   "metadata": {
    "ExecuteTime": {
     "end_time": "2020-07-27T15:52:04.869439Z",
     "start_time": "2020-07-27T15:52:04.861624Z"
    }
   },
   "outputs": [
    {
     "data": {
      "text/plain": [
       "1    6068\n",
       "0    6068\n",
       "Name: UnpaidClaim, dtype: int64"
      ]
     },
     "execution_count": 9,
     "metadata": {},
     "output_type": "execute_result"
    }
   ],
   "source": [
    "procedure_data[col].value_counts()"
   ]
  },
  {
   "cell_type": "markdown",
   "metadata": {
    "ExecuteTime": {
     "end_time": "2020-07-15T18:08:51.746356Z",
     "start_time": "2020-07-15T18:08:51.741990Z"
    }
   },
   "source": [
    "### Line.Of.Business.ID"
   ]
  },
  {
   "cell_type": "code",
   "execution_count": 10,
   "metadata": {
    "ExecuteTime": {
     "end_time": "2020-07-27T15:52:05.404801Z",
     "start_time": "2020-07-27T15:52:05.088481Z"
    }
   },
   "outputs": [
    {
     "data": {
      "image/png": "[encoded data removed]",
      "text/plain": [
       "<Figure size 576x396 with 1 Axes>"
      ]
     },
     "metadata": {},
     "output_type": "display_data"
    }
   ],
   "source": [
    "# look at line of business for procedure claims\n",
    "col = 'Line.Of.Business.ID'\n",
    "sns.countplot(y=procedure_data[col], order=procedure_data[col].value_counts().iloc[:5].index);\n",
    "plt.savefig(os.path.join('../','visualization',f\"{col}_barchart.png\"))"
   ]
  },
  {
   "cell_type": "code",
   "execution_count": 11,
   "metadata": {
    "ExecuteTime": {
     "end_time": "2020-07-27T15:52:05.414708Z",
     "start_time": "2020-07-27T15:52:05.407168Z"
    }
   },
   "outputs": [
    {
     "data": {
      "text/plain": [
       "5     3946\n",
       "1     3526\n",
       "      2614\n",
       "13    1530\n",
       "2      519\n",
       "7        1\n",
       "Name: Line.Of.Business.ID, dtype: int64"
      ]
     },
     "execution_count": 11,
     "metadata": {},
     "output_type": "execute_result"
    }
   ],
   "source": [
    "procedure_data[col].value_counts()"
   ]
  },
  {
   "cell_type": "markdown",
   "metadata": {},
   "source": [
    "### Revenue.Code"
   ]
  },
  {
   "cell_type": "code",
   "execution_count": 12,
   "metadata": {
    "ExecuteTime": {
     "end_time": "2020-07-27T15:52:06.772515Z",
     "start_time": "2020-07-27T15:52:06.484378Z"
    }
   },
   "outputs": [
    {
     "data": {
      "image/png": "[encoded data removed]",
      "text/plain": [
       "<Figure size 576x396 with 1 Axes>"
      ]
     },
     "metadata": {},
     "output_type": "display_data"
    }
   ],
   "source": [
    "# look at line of business for procedure claims\n",
    "# 636 drugs requiring detailed coding\n",
    "# 637 self administrable drugs\n",
    "# 710 general recovery room\n",
    "# 250 pharmacy general\n",
    "# 258 iv solutions\n",
    "# https://med.noridianmedicare.com/web/jea/topics/claim-submission/revenue-codes\n",
    "col = 'Revenue.Code'\n",
    "sns.countplot(y=procedure_data[col], order=procedure_data[col].value_counts().iloc[:5].index);\n",
    "plt.savefig(os.path.join('../','visualization',f\"{col}_barchart.png\"))"
   ]
  },
  {
   "cell_type": "code",
   "execution_count": 13,
   "metadata": {
    "ExecuteTime": {
     "end_time": "2020-07-27T15:52:06.781540Z",
     "start_time": "2020-07-27T15:52:06.773929Z"
    }
   },
   "outputs": [
    {
     "data": {
      "text/plain": [
       "636    10939\n",
       "250      419\n",
       "710      368\n",
       "637      365\n",
       "258       27\n",
       "259       16\n",
       "490        1\n",
       "450        1\n",
       "Name: Revenue.Code, dtype: int64"
      ]
     },
     "execution_count": 13,
     "metadata": {},
     "output_type": "execute_result"
    }
   ],
   "source": [
    "procedure_data[col].value_counts()"
   ]
  },
  {
   "cell_type": "markdown",
   "metadata": {},
   "source": [
    "### Service.Code"
   ]
  },
  {
   "cell_type": "code",
   "execution_count": 14,
   "metadata": {
    "ExecuteTime": {
     "end_time": "2020-07-27T15:52:07.294238Z",
     "start_time": "2020-07-27T15:52:06.996766Z"
    }
   },
   "outputs": [
    {
     "data": {
      "image/png": "[encoded data removed]",
      "text/plain": [
       "<Figure size 576x396 with 1 Axes>"
      ]
     },
     "metadata": {},
     "output_type": "display_data"
    }
   ],
   "source": [
    "# look at line of business for procedure claims\n",
    "# op70 collections and bad debt\n",
    "# \n",
    "col = 'Service.Code'\n",
    "sns.countplot(y=procedure_data[col], order=procedure_data[col].value_counts().iloc[:5].index);\n",
    "plt.savefig(os.path.join('../','visualization',f\"{col}_barchart.png\"))"
   ]
  },
  {
   "cell_type": "code",
   "execution_count": 15,
   "metadata": {
    "ExecuteTime": {
     "end_time": "2020-07-27T15:52:07.304042Z",
     "start_time": "2020-07-27T15:52:07.296071Z"
    }
   },
   "outputs": [
    {
     "data": {
      "text/plain": [
       "OP7O    8695\n",
       "SU7A    3307\n",
       "MH7O      71\n",
       "AL7I      42\n",
       "GB7A       9\n",
       "           7\n",
       "SA7A       4\n",
       "ER7O       1\n",
       "Name: Service.Code, dtype: int64"
      ]
     },
     "execution_count": 15,
     "metadata": {},
     "output_type": "execute_result"
    }
   ],
   "source": [
    "procedure_data[col].value_counts()"
   ]
  },
  {
   "cell_type": "markdown",
   "metadata": {},
   "source": [
    "### Place.Of.Service.Code"
   ]
  },
  {
   "cell_type": "code",
   "execution_count": 16,
   "metadata": {
    "ExecuteTime": {
     "end_time": "2020-07-27T15:52:07.839669Z",
     "start_time": "2020-07-27T15:52:07.530432Z"
    }
   },
   "outputs": [
    {
     "data": {
      "image/png": "[encoded data removed]",
      "text/plain": [
       "<Figure size 576x396 with 1 Axes>"
      ]
     },
     "metadata": {},
     "output_type": "display_data"
    }
   ],
   "source": [
    "# look at line of business for procedure claims\n",
    "col = 'Place.Of.Service.Code'\n",
    "sns.countplot(y=procedure_data[col], order=procedure_data[col].value_counts().iloc[:5].index);\n",
    "plt.savefig(os.path.join('../','visualization',f\"{col}_barchart.png\"))"
   ]
  },
  {
   "cell_type": "code",
   "execution_count": 17,
   "metadata": {
    "ExecuteTime": {
     "end_time": "2020-07-27T15:52:07.848900Z",
     "start_time": "2020-07-27T15:52:07.841600Z"
    }
   },
   "outputs": [
    {
     "data": {
      "text/plain": [
       "     12136\n",
       "Name: Place.Of.Service.Code, dtype: int64"
      ]
     },
     "execution_count": 17,
     "metadata": {},
     "output_type": "execute_result"
    }
   ],
   "source": [
    "procedure_data[col].value_counts()"
   ]
  },
  {
   "cell_type": "markdown",
   "metadata": {},
   "source": [
    "### Diagnosis.Code"
   ]
  },
  {
   "cell_type": "code",
   "execution_count": 18,
   "metadata": {
    "ExecuteTime": {
     "end_time": "2020-07-27T15:52:08.420189Z",
     "start_time": "2020-07-27T15:52:08.085365Z"
    }
   },
   "outputs": [
    {
     "data": {
      "image/png": "[encoded data removed]",
      "text/plain": [
       "<Figure size 576x396 with 1 Axes>"
      ]
     },
     "metadata": {},
     "output_type": "display_data"
    }
   ],
   "source": [
    "# 585.6 == End Stage Renal Disease\n",
    "# v765.1 == Special screening for malignant neoplasms of colon\n",
    "# 366.16 == Senile nuclear sclerosis (cataracts)\n",
    "# 366.9 == cataract\n",
    "# 414.01 == Coronary atherosclerosis of native coronary artery\n",
    "# 427.31 == Atrial fibrillation\n",
    "# 574.10 == Calculus of gallbladder with other cholecystitis, without mention of obstruction\n",
    "# 540.9 == Other acute appendicitis\n",
    "# 55090 == Inguinal hernia, without mention of obstruction or gangrene, unilateral or unspecified (not specified as recurrent)\n",
    "# 592.1 == Calculus of ureter\n",
    "\n",
    "# look at Diagnosis.Code for procedure claims\n",
    "col = 'Diagnosis.Code'\n",
    "sns.countplot(y=procedure_data[col], order=procedure_data[col].value_counts().iloc[:10].index);\n",
    "plt.savefig(os.path.join('../','visualization',f\"{col}_barchart.png\"))"
   ]
  },
  {
   "cell_type": "code",
   "execution_count": 19,
   "metadata": {
    "ExecuteTime": {
     "end_time": "2020-07-27T15:52:08.431330Z",
     "start_time": "2020-07-27T15:52:08.421879Z"
    }
   },
   "outputs": [
    {
     "data": {
      "text/plain": [
       "5856     1341\n",
       "V7651     520\n",
       "36616     286\n",
       "3669      261\n",
       "V5811     256\n",
       "         ... \n",
       "463         1\n",
       "1419        1\n",
       "46619       1\n",
       "42833       1\n",
       "61189       1\n",
       "Name: Diagnosis.Code, Length: 1081, dtype: int64"
      ]
     },
     "execution_count": 19,
     "metadata": {},
     "output_type": "execute_result"
    }
   ],
   "source": [
    "procedure_data[col].value_counts()"
   ]
  },
  {
   "cell_type": "markdown",
   "metadata": {},
   "source": [
    "### Claim.Charge.Amount"
   ]
  },
  {
   "cell_type": "code",
   "execution_count": 20,
   "metadata": {
    "ExecuteTime": {
     "end_time": "2020-07-27T15:52:09.102339Z",
     "start_time": "2020-07-27T15:52:08.675588Z"
    }
   },
   "outputs": [
    {
     "data": {
      "image/png": "[encoded data removed]",
      "text/plain": [
       "<Figure size 576x396 with 1 Axes>"
      ]
     },
     "metadata": {},
     "output_type": "display_data"
    }
   ],
   "source": [
    "# look at charge amounts\n",
    "col = 'Claim.Charge.Amount'\n",
    "sns.countplot(y=procedure_data[col], order=procedure_data[col].value_counts().iloc[:10].index);\n",
    "plt.tight_layout()\n",
    "plt.savefig(os.path.join('../','visualization',f\"{col}_barchart.png\"))"
   ]
  },
  {
   "cell_type": "code",
   "execution_count": 21,
   "metadata": {
    "ExecuteTime": {
     "end_time": "2020-07-27T15:52:09.114254Z",
     "start_time": "2020-07-27T15:52:09.104437Z"
    }
   },
   "outputs": [
    {
     "data": {
      "text/plain": [
       "84.563250     1246\n",
       "353.067000     249\n",
       "43.948200      193\n",
       "169.126500     175\n",
       "269.071620     155\n",
       "              ... \n",
       "201.667900       1\n",
       "189.582165       1\n",
       "295.687440       1\n",
       "520.959000       1\n",
       "396.027600       1\n",
       "Name: Claim.Charge.Amount, Length: 1823, dtype: int64"
      ]
     },
     "execution_count": 21,
     "metadata": {},
     "output_type": "execute_result"
    }
   ],
   "source": [
    "procedure_data[col].value_counts()"
   ]
  },
  {
   "cell_type": "markdown",
   "metadata": {},
   "source": [
    "### Denial.Reason.Code"
   ]
  },
  {
   "cell_type": "code",
   "execution_count": 22,
   "metadata": {
    "ExecuteTime": {
     "end_time": "2020-07-27T15:52:09.571649Z",
     "start_time": "2020-07-27T15:52:09.246378Z"
    }
   },
   "outputs": [
    {
     "data": {
      "image/png": "[encoded data removed]",
      "text/plain": [
       "<Figure size 576x396 with 1 Axes>"
      ]
     },
     "metadata": {},
     "output_type": "display_data"
    }
   ],
   "source": [
    "# k62 THIS SERVICE IS NOT PAID. THE PROCEDURE EXCEEDED MAX UNITS ALLOWED PER DATE \n",
    "# OF SERVICE ON THIS CLAIM OR ANOTHER CLAIM FOR SAME DOS.\n",
    "# PDC — Billed amount is higher than the maximum payment insurance allows. The payment is for the allowed amount.\n",
    "col = 'Denial.Reason.Code'\n",
    "sns.countplot(y=procedure_data[col], order=procedure_data[col].value_counts().iloc[:10].index);\n",
    "plt.savefig(os.path.join('../','visualization',f\"{col}_barchart.png\"))"
   ]
  },
  {
   "cell_type": "code",
   "execution_count": 23,
   "metadata": {
    "ExecuteTime": {
     "end_time": "2020-07-27T15:52:09.580341Z",
     "start_time": "2020-07-27T15:52:09.573292Z"
    }
   },
   "outputs": [
    {
     "data": {
      "text/plain": [
       "       6577\n",
       "K62    2538\n",
       "PDC    1819\n",
       "J2M     381\n",
       "J72      91\n",
       "       ... \n",
       "TR2       1\n",
       "KJW       1\n",
       "S1C       1\n",
       "JD3       1\n",
       "JO5       1\n",
       "Name: Denial.Reason.Code, Length: 71, dtype: int64"
      ]
     },
     "execution_count": 23,
     "metadata": {},
     "output_type": "execute_result"
    }
   ],
   "source": [
    "# k62 THIS SERVICE IS NOT PAID. THE PROCEDURE EXCEEDED MAX UNITS ALLOWED PER DATE \n",
    "# OF SERVICE ON THIS CLAIM OR ANOTHER CLAIM FOR SAME DOS.\n",
    "# PDC — Billed amount is higher than the maximum payment insurance allows. The payment is for the allowed amount.\n",
    "procedure_data[col].value_counts()"
   ]
  },
  {
   "cell_type": "markdown",
   "metadata": {},
   "source": [
    "### Price.Index"
   ]
  },
  {
   "cell_type": "code",
   "execution_count": 24,
   "metadata": {
    "ExecuteTime": {
     "end_time": "2020-07-27T15:52:10.057901Z",
     "start_time": "2020-07-27T15:52:09.765447Z"
    }
   },
   "outputs": [
    {
     "data": {
      "image/png": "[encoded data removed]",
      "text/plain": [
       "<Figure size 576x396 with 1 Axes>"
      ]
     },
     "metadata": {},
     "output_type": "display_data"
    }
   ],
   "source": [
    "# look at priced index\n",
    "col = 'Price.Index'\n",
    "sns.countplot(y=procedure_data[col], order=procedure_data[col].value_counts().iloc[:10].index);\n",
    "plt.savefig(os.path.join('../','visualization',f\"{col}_barchart.png\"))"
   ]
  },
  {
   "cell_type": "code",
   "execution_count": 25,
   "metadata": {
    "ExecuteTime": {
     "end_time": "2020-07-27T15:52:10.068692Z",
     "start_time": "2020-07-27T15:52:10.060003Z"
    }
   },
   "outputs": [
    {
     "data": {
      "text/plain": [
       "A    8968\n",
       "     2909\n",
       "E     259\n",
       "Name: Price.Index, dtype: int64"
      ]
     },
     "execution_count": 25,
     "metadata": {},
     "output_type": "execute_result"
    }
   ],
   "source": [
    "procedure_data[col].value_counts().iloc[:10]"
   ]
  },
  {
   "cell_type": "markdown",
   "metadata": {},
   "source": [
    "### In.Out.Of.Network"
   ]
  },
  {
   "cell_type": "code",
   "execution_count": 26,
   "metadata": {
    "ExecuteTime": {
     "end_time": "2020-07-27T15:52:10.554750Z",
     "start_time": "2020-07-27T15:52:10.269273Z"
    }
   },
   "outputs": [
    {
     "data": {
      "image/png": "[encoded data removed]",
      "text/plain": [
       "<Figure size 576x396 with 1 Axes>"
      ]
     },
     "metadata": {},
     "output_type": "display_data"
    }
   ],
   "source": [
    "# look at in versus out of network\n",
    "col = 'In.Out.Of.Network'\n",
    "sns.countplot(y=procedure_data[col], order=procedure_data[col].value_counts().iloc[:10].index);\n",
    "plt.savefig(os.path.join('../','visualization',f\"{col}_barchart.png\"))"
   ]
  },
  {
   "cell_type": "code",
   "execution_count": 27,
   "metadata": {
    "ExecuteTime": {
     "end_time": "2020-07-27T15:52:10.563431Z",
     "start_time": "2020-07-27T15:52:10.556638Z"
    }
   },
   "outputs": [
    {
     "data": {
      "text/plain": [
       "I    9446\n",
       "     2623\n",
       "O      67\n",
       "Name: In.Out.Of.Network, dtype: int64"
      ]
     },
     "execution_count": 27,
     "metadata": {},
     "output_type": "execute_result"
    }
   ],
   "source": [
    "procedure_data[col].value_counts().iloc[:10]"
   ]
  },
  {
   "cell_type": "markdown",
   "metadata": {},
   "source": [
    "### Reference.Index"
   ]
  },
  {
   "cell_type": "code",
   "execution_count": 28,
   "metadata": {
    "ExecuteTime": {
     "end_time": "2020-07-27T15:52:11.076195Z",
     "start_time": "2020-07-27T15:52:10.780490Z"
    }
   },
   "outputs": [
    {
     "data": {
      "image/png": "[encoded data removed]",
      "text/plain": [
       "<Figure size 576x396 with 1 Axes>"
      ]
     },
     "metadata": {},
     "output_type": "display_data"
    }
   ],
   "source": [
    "col = 'Reference.Index'\n",
    "sns.countplot(y=procedure_data[col], order=procedure_data[col].value_counts().iloc[:10].index);\n",
    "plt.savefig(os.path.join('../','visualization',f\"{col}_barchart.png\"))"
   ]
  },
  {
   "cell_type": "code",
   "execution_count": 29,
   "metadata": {
    "ExecuteTime": {
     "end_time": "2020-07-27T15:52:11.085866Z",
     "start_time": "2020-07-27T15:52:11.078219Z"
    }
   },
   "outputs": [
    {
     "data": {
      "text/plain": [
       "N    5928\n",
       "V    3633\n",
       "     2572\n",
       "F       3\n",
       "Name: Reference.Index, dtype: int64"
      ]
     },
     "execution_count": 29,
     "metadata": {},
     "output_type": "execute_result"
    }
   ],
   "source": [
    "# look at reference index\n",
    "col = 'Reference.Index'\n",
    "procedure_data[col].value_counts(ascending=False).head(10)"
   ]
  },
  {
   "cell_type": "markdown",
   "metadata": {},
   "source": [
    "### Pricing.Index"
   ]
  },
  {
   "cell_type": "code",
   "execution_count": 30,
   "metadata": {
    "ExecuteTime": {
     "end_time": "2020-07-27T15:52:11.605135Z",
     "start_time": "2020-07-27T15:52:11.317026Z"
    }
   },
   "outputs": [
    {
     "data": {
      "image/png": "[encoded data removed]",
      "text/plain": [
       "<Figure size 576x396 with 1 Axes>"
      ]
     },
     "metadata": {},
     "output_type": "display_data"
    }
   ],
   "source": [
    "col = 'Pricing.Index'\n",
    "sns.countplot(y=procedure_data[col], order=procedure_data[col].value_counts().iloc[:10].index);\n",
    "plt.savefig(os.path.join('../','visualization',f\"{col}_barchart.png\"))"
   ]
  },
  {
   "cell_type": "code",
   "execution_count": 31,
   "metadata": {
    "ExecuteTime": {
     "end_time": "2020-07-27T15:52:11.614245Z",
     "start_time": "2020-07-27T15:52:11.606971Z"
    }
   },
   "outputs": [
    {
     "data": {
      "text/plain": [
       "N    8595\n",
       "     2572\n",
       "V     930\n",
       "F      39\n",
       "Name: Pricing.Index, dtype: int64"
      ]
     },
     "execution_count": 31,
     "metadata": {},
     "output_type": "execute_result"
    }
   ],
   "source": [
    "# look at pricing index\n",
    "procedure_data[col].value_counts(ascending=False).head(10)"
   ]
  },
  {
   "cell_type": "markdown",
   "metadata": {},
   "source": [
    "### Capitation.Index"
   ]
  },
  {
   "cell_type": "code",
   "execution_count": 32,
   "metadata": {
    "ExecuteTime": {
     "end_time": "2020-07-27T15:52:12.164433Z",
     "start_time": "2020-07-27T15:52:11.853442Z"
    }
   },
   "outputs": [
    {
     "data": {
      "image/png": "[encoded data removed]",
      "text/plain": [
       "<Figure size 576x396 with 1 Axes>"
      ]
     },
     "metadata": {},
     "output_type": "display_data"
    }
   ],
   "source": [
    "col = 'Capitation.Index'\n",
    "sns.countplot(y=procedure_data[col], order=procedure_data[col].value_counts().iloc[:10].index);\n",
    "plt.savefig(os.path.join('../','visualization',f\"{col}_barchart.png\"))"
   ]
  },
  {
   "cell_type": "code",
   "execution_count": 33,
   "metadata": {
    "ExecuteTime": {
     "end_time": "2020-07-27T15:52:12.174575Z",
     "start_time": "2020-07-27T15:52:12.167065Z"
    }
   },
   "outputs": [
    {
     "data": {
      "text/plain": [
       "     8064\n",
       "N    4031\n",
       "R      41\n",
       "Name: Capitation.Index, dtype: int64"
      ]
     },
     "execution_count": 33,
     "metadata": {},
     "output_type": "execute_result"
    }
   ],
   "source": [
    "# look at capitation index\n",
    "procedure_data[col].value_counts(ascending=False).head(10)"
   ]
  },
  {
   "cell_type": "markdown",
   "metadata": {},
   "source": [
    "### Subscriber.Payment.Amount"
   ]
  },
  {
   "cell_type": "code",
   "execution_count": 34,
   "metadata": {
    "ExecuteTime": {
     "end_time": "2020-07-27T15:52:12.722025Z",
     "start_time": "2020-07-27T15:52:12.438540Z"
    }
   },
   "outputs": [
    {
     "data": {
      "image/png": "[encoded data removed]",
      "text/plain": [
       "<Figure size 576x396 with 1 Axes>"
      ]
     },
     "metadata": {},
     "output_type": "display_data"
    }
   ],
   "source": [
    "col = 'Subscriber.Payment.Amount'\n",
    "sns.countplot(y=procedure_data[col], order=procedure_data[col].value_counts().iloc[:10].index);\n",
    "plt.savefig(os.path.join('../','visualization',f\"{col}_barchart.png\"))"
   ]
  },
  {
   "cell_type": "code",
   "execution_count": 35,
   "metadata": {
    "ExecuteTime": {
     "end_time": "2020-07-27T15:52:12.732057Z",
     "start_time": "2020-07-27T15:52:12.724483Z"
    }
   },
   "outputs": [
    {
     "data": {
      "text/plain": [
       "0.0    12136\n",
       "Name: Subscriber.Payment.Amount, dtype: int64"
      ]
     },
     "execution_count": 35,
     "metadata": {},
     "output_type": "execute_result"
    }
   ],
   "source": [
    "# look at subscriber payment amount\n",
    "procedure_data[col].value_counts(ascending=False).head(10)"
   ]
  },
  {
   "cell_type": "markdown",
   "metadata": {},
   "source": [
    "### Provider.Payment.Amount"
   ]
  },
  {
   "cell_type": "code",
   "execution_count": 36,
   "metadata": {
    "ExecuteTime": {
     "end_time": "2020-07-27T15:52:13.421911Z",
     "start_time": "2020-07-27T15:52:13.000940Z"
    }
   },
   "outputs": [
    {
     "data": {
      "image/png": "[encoded data removed]",
      "text/plain": [
       "<Figure size 576x396 with 1 Axes>"
      ]
     },
     "metadata": {},
     "output_type": "display_data"
    }
   ],
   "source": [
    "col ='Provider.Payment.Amount'\n",
    "sns.countplot(y=procedure_data[col], order=procedure_data[col].value_counts().iloc[:10].index);\n",
    "plt.tight_layout()\n",
    "plt.savefig(os.path.join('../','visualization',f\"{col}_barchart.png\"))"
   ]
  },
  {
   "cell_type": "code",
   "execution_count": 37,
   "metadata": {
    "ExecuteTime": {
     "end_time": "2020-07-27T15:52:13.432020Z",
     "start_time": "2020-07-27T15:52:13.424016Z"
    }
   },
   "outputs": [
    {
     "data": {
      "text/plain": [
       "0.000000      6068\n",
       "61.650930      113\n",
       "353.067000     100\n",
       "59.280690       96\n",
       "0.012345        86\n",
       "84.563250       79\n",
       "280.848750      72\n",
       "233.394570      60\n",
       "269.071620      59\n",
       "135.177750      57\n",
       "Name: Provider.Payment.Amount, dtype: int64"
      ]
     },
     "execution_count": 37,
     "metadata": {},
     "output_type": "execute_result"
    }
   ],
   "source": [
    "# look at provider payment amount\n",
    "procedure_data[col].value_counts(ascending=False).head(10)"
   ]
  },
  {
   "cell_type": "markdown",
   "metadata": {},
   "source": [
    "### Group.Index"
   ]
  },
  {
   "cell_type": "code",
   "execution_count": 38,
   "metadata": {
    "ExecuteTime": {
     "end_time": "2020-07-27T15:52:14.006520Z",
     "start_time": "2020-07-27T15:52:13.559169Z"
    }
   },
   "outputs": [
    {
     "data": {
      "image/png": "[encoded data removed]",
      "text/plain": [
       "<Figure size 576x396 with 1 Axes>"
      ]
     },
     "metadata": {},
     "output_type": "display_data"
    }
   ],
   "source": [
    "col ='Group.Index'\n",
    "sns.countplot(y=procedure_data[col], order=procedure_data[col].value_counts().iloc[:10].index);\n",
    "plt.tight_layout()\n",
    "plt.savefig(os.path.join('../','visualization',f\"{col}_barchart.png\"))"
   ]
  },
  {
   "cell_type": "code",
   "execution_count": 39,
   "metadata": {
    "ExecuteTime": {
     "end_time": "2020-07-27T15:52:14.017094Z",
     "start_time": "2020-07-27T15:52:14.008551Z"
    }
   },
   "outputs": [
    {
     "data": {
      "text/plain": [
       "114      3956\n",
       "48546    3215\n",
       "572      2158\n",
       "110      1201\n",
       "48549     445\n",
       "12976      30\n",
       "25509      27\n",
       "109        24\n",
       "31400      24\n",
       "302        20\n",
       "Name: Group.Index, dtype: int64"
      ]
     },
     "execution_count": 39,
     "metadata": {},
     "output_type": "execute_result"
    }
   ],
   "source": [
    "# look at group index\n",
    "procedure_data[col].value_counts(ascending=False).head(10)"
   ]
  },
  {
   "cell_type": "markdown",
   "metadata": {},
   "source": [
    "### Subscriber.Index"
   ]
  },
  {
   "cell_type": "code",
   "execution_count": 40,
   "metadata": {
    "ExecuteTime": {
     "end_time": "2020-07-27T15:52:14.599344Z",
     "start_time": "2020-07-27T15:52:14.081087Z"
    }
   },
   "outputs": [
    {
     "data": {
      "image/png": "[encoded data removed]",
      "text/plain": [
       "<Figure size 576x396 with 1 Axes>"
      ]
     },
     "metadata": {},
     "output_type": "display_data"
    }
   ],
   "source": [
    "col ='Subscriber.Index'\n",
    "sns.countplot(y=procedure_data[col], order=procedure_data[col].value_counts().iloc[:10].index);\n",
    "plt.tight_layout()\n",
    "plt.savefig(os.path.join('../','visualization',f\"{col}_barchart.png\"))"
   ]
  },
  {
   "cell_type": "code",
   "execution_count": 41,
   "metadata": {
    "ExecuteTime": {
     "end_time": "2020-07-27T15:52:17.738032Z",
     "start_time": "2020-07-27T15:52:17.730964Z"
    }
   },
   "outputs": [
    {
     "data": {
      "text/plain": [
       "1259000     135\n",
       "20522500     82\n",
       "17723800     80\n",
       "30620100     73\n",
       "76652600     72\n",
       "1609700      68\n",
       "65653750     66\n",
       "68610700     61\n",
       "1610950      52\n",
       "73037200     52\n",
       "Name: Subscriber.Index, dtype: int64"
      ]
     },
     "execution_count": 41,
     "metadata": {},
     "output_type": "execute_result"
    }
   ],
   "source": [
    "# look at subscriber index\n",
    "procedure_data[col].value_counts(ascending=False).head(10)"
   ]
  },
  {
   "cell_type": "markdown",
   "metadata": {},
   "source": [
    "### Subgroup.Index"
   ]
  },
  {
   "cell_type": "code",
   "execution_count": 42,
   "metadata": {
    "ExecuteTime": {
     "end_time": "2020-07-27T15:52:18.524551Z",
     "start_time": "2020-07-27T15:52:18.138644Z"
    }
   },
   "outputs": [
    {
     "data": {
      "image/png": "[encoded data removed]",
      "text/plain": [
       "<Figure size 576x396 with 1 Axes>"
      ]
     },
     "metadata": {},
     "output_type": "display_data"
    }
   ],
   "source": [
    "col = 'Subgroup.Index'\n",
    "sns.countplot(y=procedure_data[col], order=procedure_data[col].value_counts().iloc[:10].index);\n",
    "plt.tight_layout()\n",
    "plt.savefig(os.path.join('../','visualization',f\"{col}_barchart.png\"))"
   ]
  },
  {
   "cell_type": "code",
   "execution_count": 43,
   "metadata": {
    "ExecuteTime": {
     "end_time": "2020-07-27T15:52:18.534171Z",
     "start_time": "2020-07-27T15:52:18.526783Z"
    }
   },
   "outputs": [
    {
     "data": {
      "text/plain": [
       "0        10559\n",
       "52255      217\n",
       "52245      182\n",
       "52254       41\n",
       "13610       30\n",
       "26881       27\n",
       "33191       24\n",
       "523         20\n",
       "39238       18\n",
       "16270       15\n",
       "Name: Subgroup.Index, dtype: int64"
      ]
     },
     "execution_count": 43,
     "metadata": {},
     "output_type": "execute_result"
    }
   ],
   "source": [
    "# look at sub-group index\n",
    "procedure_data[col].value_counts(ascending=False).head(10)"
   ]
  },
  {
   "cell_type": "markdown",
   "metadata": {},
   "source": [
    "### Claim.Type"
   ]
  },
  {
   "cell_type": "code",
   "execution_count": 44,
   "metadata": {
    "ExecuteTime": {
     "end_time": "2020-07-27T15:52:19.003489Z",
     "start_time": "2020-07-27T15:52:18.709118Z"
    }
   },
   "outputs": [
    {
     "data": {
      "image/png": "[encoded data removed]",
      "text/plain": [
       "<Figure size 576x396 with 1 Axes>"
      ]
     },
     "metadata": {},
     "output_type": "display_data"
    }
   ],
   "source": [
    "col = 'Claim.Type'\n",
    "sns.countplot(y=procedure_data[col], order=procedure_data[col].value_counts().iloc[:10].index);\n",
    "plt.savefig(os.path.join('../','visualization',f\"{col}_barchart.png\"))"
   ]
  },
  {
   "cell_type": "code",
   "execution_count": 45,
   "metadata": {
    "ExecuteTime": {
     "end_time": "2020-07-27T15:52:19.012826Z",
     "start_time": "2020-07-27T15:52:19.004930Z"
    }
   },
   "outputs": [
    {
     "data": {
      "text/plain": [
       "M    10632\n",
       "E     1504\n",
       "Name: Claim.Type, dtype: int64"
      ]
     },
     "execution_count": 45,
     "metadata": {},
     "output_type": "execute_result"
    }
   ],
   "source": [
    "# look at claim type\n",
    "procedure_data[col].value_counts(ascending=False).head(10)"
   ]
  },
  {
   "cell_type": "markdown",
   "metadata": {},
   "source": [
    "### Claim.Subscriber.Type"
   ]
  },
  {
   "cell_type": "code",
   "execution_count": 46,
   "metadata": {
    "ExecuteTime": {
     "end_time": "2020-07-27T15:52:19.552099Z",
     "start_time": "2020-07-27T15:52:19.263308Z"
    }
   },
   "outputs": [
    {
     "data": {
      "image/png": "[encoded data removed]",
      "text/plain": [
       "<Figure size 576x396 with 1 Axes>"
      ]
     },
     "metadata": {},
     "output_type": "display_data"
    }
   ],
   "source": [
    "col = 'Claim.Subscriber.Type'\n",
    "sns.countplot(y=procedure_data[col], order=procedure_data[col].value_counts().iloc[:10].index);\n",
    "plt.savefig(os.path.join('../','visualization',f\"{col}_barchart.png\"))"
   ]
  },
  {
   "cell_type": "code",
   "execution_count": 47,
   "metadata": {
    "ExecuteTime": {
     "end_time": "2020-07-27T15:52:19.561421Z",
     "start_time": "2020-07-27T15:52:19.553883Z"
    }
   },
   "outputs": [
    {
     "data": {
      "text/plain": [
       "H    12136\n",
       "Name: Claim.Subscriber.Type, dtype: int64"
      ]
     },
     "execution_count": 47,
     "metadata": {},
     "output_type": "execute_result"
    }
   ],
   "source": [
    "# look at subsriber type\n",
    "procedure_data[col].value_counts(ascending=False).head(10)"
   ]
  },
  {
   "cell_type": "markdown",
   "metadata": {},
   "source": [
    "### Claim.Pre.Prince.Index"
   ]
  },
  {
   "cell_type": "code",
   "execution_count": 48,
   "metadata": {
    "ExecuteTime": {
     "end_time": "2020-07-27T15:52:20.124247Z",
     "start_time": "2020-07-27T15:52:19.828802Z"
    }
   },
   "outputs": [
    {
     "data": {
      "image/png": "[encoded data removed]",
      "text/plain": [
       "<Figure size 576x396 with 1 Axes>"
      ]
     },
     "metadata": {},
     "output_type": "display_data"
    }
   ],
   "source": [
    "col = 'Claim.Pre.Prince.Index'\n",
    "sns.countplot(y=procedure_data[col], order=procedure_data[col].value_counts().iloc[:10].index);\n",
    "plt.savefig(os.path.join('../','visualization',f\"{col}_barchart.png\"))"
   ]
  },
  {
   "cell_type": "code",
   "execution_count": 49,
   "metadata": {
    "ExecuteTime": {
     "end_time": "2020-07-27T15:52:20.134475Z",
     "start_time": "2020-07-27T15:52:20.125944Z"
    }
   },
   "outputs": [
    {
     "data": {
      "text/plain": [
       "     8180\n",
       "S    3935\n",
       "E      21\n",
       "Name: Claim.Pre.Prince.Index, dtype: int64"
      ]
     },
     "execution_count": 49,
     "metadata": {},
     "output_type": "execute_result"
    }
   ],
   "source": [
    "# look at claim pre price index\n",
    "procedure_data[col].value_counts(ascending=False).head(10)"
   ]
  },
  {
   "cell_type": "markdown",
   "metadata": {},
   "source": [
    "### Claim.Current.Status"
   ]
  },
  {
   "cell_type": "code",
   "execution_count": 50,
   "metadata": {
    "ExecuteTime": {
     "end_time": "2020-07-27T15:52:20.818860Z",
     "start_time": "2020-07-27T15:52:20.517428Z"
    }
   },
   "outputs": [
    {
     "data": {
      "image/png": "[encoded data removed]",
      "text/plain": [
       "<Figure size 576x396 with 1 Axes>"
      ]
     },
     "metadata": {},
     "output_type": "display_data"
    }
   ],
   "source": [
    "col = 'Claim.Current.Status'\n",
    "sns.countplot(y=procedure_data[col], order=procedure_data[col].value_counts().iloc[:10].index);\n",
    "plt.savefig(os.path.join('../','visualization',f\"{col}_barchart.png\"))"
   ]
  },
  {
   "cell_type": "code",
   "execution_count": 51,
   "metadata": {
    "ExecuteTime": {
     "end_time": "2020-07-27T15:52:20.827911Z",
     "start_time": "2020-07-27T15:52:20.820967Z"
    }
   },
   "outputs": [
    {
     "data": {
      "text/plain": [
       "2     9186\n",
       "19     739\n",
       "11     586\n",
       "91     518\n",
       "81     429\n",
       "15     308\n",
       "99     190\n",
       "1      170\n",
       "89      10\n",
       "Name: Claim.Current.Status, dtype: int64"
      ]
     },
     "execution_count": 51,
     "metadata": {},
     "output_type": "execute_result"
    }
   ],
   "source": [
    "# look at claim current status\n",
    "procedure_data[col].value_counts(ascending=False).head(10)"
   ]
  },
  {
   "cell_type": "markdown",
   "metadata": {},
   "source": [
    "### Network.ID"
   ]
  },
  {
   "cell_type": "code",
   "execution_count": 52,
   "metadata": {
    "ExecuteTime": {
     "end_time": "2020-07-27T15:52:21.639146Z",
     "start_time": "2020-07-27T15:52:21.215520Z"
    }
   },
   "outputs": [
    {
     "data": {
      "image/png": "[encoded data removed]",
      "text/plain": [
       "<Figure size 576x396 with 1 Axes>"
      ]
     },
     "metadata": {},
     "output_type": "display_data"
    }
   ],
   "source": [
    "col = 'Network.ID'\n",
    "sns.countplot(y=procedure_data[col], order=procedure_data[col].value_counts().iloc[:10].index);\n",
    "plt.tight_layout()\n",
    "plt.savefig(os.path.join('../','visualization',f\"{col}_barchart.png\"))"
   ]
  },
  {
   "cell_type": "code",
   "execution_count": 53,
   "metadata": {
    "ExecuteTime": {
     "end_time": "2020-07-27T15:52:21.648682Z",
     "start_time": "2020-07-27T15:52:21.640934Z"
    }
   },
   "outputs": [
    {
     "data": {
      "text/plain": [
       "P00000000001    4236\n",
       "P00000000007    3020\n",
       "                2679\n",
       "MIMAPD000002     888\n",
       "P00000000002     516\n",
       "MIMAPD000001     376\n",
       "MGMAPD000001     244\n",
       "H00000000001     113\n",
       "ITS000000004      29\n",
       "H00000000003      13\n",
       "H00000000002      11\n",
       "P00000000003       5\n",
       "H00000000004       4\n",
       "H00000000011       1\n",
       "P00000000009       1\n",
       "Name: Network.ID, dtype: int64"
      ]
     },
     "execution_count": 53,
     "metadata": {},
     "output_type": "execute_result"
    }
   ],
   "source": [
    "# network id\n",
    "procedure_data[col].value_counts(ascending=False).head(20)"
   ]
  },
  {
   "cell_type": "markdown",
   "metadata": {},
   "source": [
    "### Agreement.ID"
   ]
  },
  {
   "cell_type": "code",
   "execution_count": 54,
   "metadata": {
    "ExecuteTime": {
     "end_time": "2020-07-27T15:52:22.954938Z",
     "start_time": "2020-07-27T15:52:22.569449Z"
    }
   },
   "outputs": [
    {
     "data": {
      "image/png": "[encoded data removed]",
      "text/plain": [
       "<Figure size 576x396 with 1 Axes>"
      ]
     },
     "metadata": {},
     "output_type": "display_data"
    }
   ],
   "source": [
    "col = 'Agreement.ID'\n",
    "sns.countplot(y=procedure_data[col], order=procedure_data[col].value_counts().iloc[:10].index);\n",
    "plt.tight_layout()\n",
    "plt.savefig(os.path.join('../','visualization',f\"{col}_barchart.png\"))"
   ]
  },
  {
   "cell_type": "code",
   "execution_count": 55,
   "metadata": {
    "ExecuteTime": {
     "end_time": "2020-07-27T15:52:23.345050Z",
     "start_time": "2020-07-27T15:52:23.337740Z"
    }
   },
   "outputs": [
    {
     "data": {
      "text/plain": [
       "                2612\n",
       "FH001311QB01    1840\n",
       "FH001310QB01    1334\n",
       "A00BLCH0Q001    1296\n",
       "FH002449QPD1    1189\n",
       "FH001309QB01    1101\n",
       "FH002454QPD1     818\n",
       "FH002451QPD1     666\n",
       "FD000001QB01     421\n",
       "FH000595QB01     413\n",
       "Name: Agreement.ID, dtype: int64"
      ]
     },
     "execution_count": 55,
     "metadata": {},
     "output_type": "execute_result"
    }
   ],
   "source": [
    "# agreement id\n",
    "procedure_data[col].value_counts(ascending=False).head(10)"
   ]
  },
  {
   "cell_type": "code",
   "execution_count": null,
   "metadata": {},
   "outputs": [],
   "source": []
  },
  {
   "cell_type": "markdown",
   "metadata": {},
   "source": [
    "## Data Profile"
   ]
  },
  {
   "cell_type": "code",
   "execution_count": 57,
   "metadata": {
    "ExecuteTime": {
     "end_time": "2020-07-27T15:52:58.218364Z",
     "start_time": "2020-07-27T15:52:36.890268Z"
    }
   },
   "outputs": [
    {
     "data": {
      "application/vnd.jupyter.widget-view+json": {
       "model_id": "e19be327edbd444389d071c7124a1765",
       "version_major": 2,
       "version_minor": 0
      },
      "text/plain": [
       "HBox(children=(FloatProgress(value=0.0, description='Summarize dataset', max=38.0, style=ProgressStyle(descrip…"
      ]
     },
     "metadata": {},
     "output_type": "display_data"
    },
    {
     "name": "stdout",
     "output_type": "stream",
     "text": [
      "\n"
     ]
    },
    {
     "data": {
      "application/vnd.jupyter.widget-view+json": {
       "model_id": "c11c0088b3664ce2ad4e052d7f6b2b12",
       "version_major": 2,
       "version_minor": 0
      },
      "text/plain": [
       "HBox(children=(FloatProgress(value=0.0, description='Generate report structure', max=1.0, style=ProgressStyle(…"
      ]
     },
     "metadata": {},
     "output_type": "display_data"
    },
    {
     "name": "stdout",
     "output_type": "stream",
     "text": [
      "\n"
     ]
    },
    {
     "data": {
      "application/vnd.jupyter.widget-view+json": {
       "model_id": "",
       "version_major": 2,
       "version_minor": 0
      },
      "text/plain": [
       "HBox(children=(FloatProgress(value=0.0, description='Render widgets', max=1.0, style=ProgressStyle(description…"
      ]
     },
     "metadata": {},
     "output_type": "display_data"
    },
    {
     "data": {
      "application/vnd.jupyter.widget-view+json": {
       "model_id": "6d43203ac65b461e9c6a70a141489606",
       "version_major": 2,
       "version_minor": 0
      },
      "text/plain": [
       "VBox(children=(Tab(children=(Tab(children=(GridBox(children=(VBox(children=(GridspecLayout(children=(HTML(valu…"
      ]
     },
     "metadata": {},
     "output_type": "display_data"
    },
    {
     "data": {
      "application/vnd.jupyter.widget-view+json": {
       "model_id": "47200187ffd24746a7be098aa38d8797",
       "version_major": 2,
       "version_minor": 0
      },
      "text/plain": [
       "HBox(children=(FloatProgress(value=0.0, description='Render HTML', max=1.0, style=ProgressStyle(description_wi…"
      ]
     },
     "metadata": {},
     "output_type": "display_data"
    },
    {
     "name": "stdout",
     "output_type": "stream",
     "text": [
      "\n"
     ]
    },
    {
     "data": {
      "application/vnd.jupyter.widget-view+json": {
       "model_id": "8296d0d59a684a969bc61db5bb25a476",
       "version_major": 2,
       "version_minor": 0
      },
      "text/plain": [
       "HBox(children=(FloatProgress(value=0.0, description='Export report to file', max=1.0, style=ProgressStyle(desc…"
      ]
     },
     "metadata": {},
     "output_type": "display_data"
    },
    {
     "name": "stdout",
     "output_type": "stream",
     "text": [
      "\n"
     ]
    }
   ],
   "source": [
    "import numpy as np\n",
    "import pandas as pd\n",
    "from pandas_profiling import ProfileReport\n",
    "import os\n",
    "\n",
    "produce_report = True\n",
    "\n",
    "if produce_report:\n",
    "    # produce profile report\n",
    "    profile = ProfileReport(procedure_data, title=\"Procedure Data Report\", minimal=True);\n",
    "\n",
    "    # show profile in notebook\n",
    "    profile.to_widgets();\n",
    "    \n",
    "    # save profile to visalizations folder\n",
    "    profile.to_file(os.path.join('../visualization','Procedure_Data_Report.html'))\n"
   ]
  },
  {
   "cell_type": "code",
   "execution_count": 58,
   "metadata": {
    "ExecuteTime": {
     "end_time": "2020-07-27T15:52:58.228435Z",
     "start_time": "2020-07-27T15:52:58.221234Z"
    }
   },
   "outputs": [
    {
     "data": {
      "text/html": [
       "\n",
       "        <iframe\n",
       "            width=\"950\"\n",
       "            height=\"400\"\n",
       "            src=\"../visualization/Procedure_Data_Report.html\"\n",
       "            frameborder=\"0\"\n",
       "            allowfullscreen\n",
       "        ></iframe>\n",
       "        "
      ],
      "text/plain": [
       "<IPython.lib.display.IFrame at 0x7f951266cdd0>"
      ]
     },
     "execution_count": 58,
     "metadata": {},
     "output_type": "execute_result"
    }
   ],
   "source": [
    "# show saved report\n",
    "IFrame(src=os.path.join('../visualization','Procedure_Data_Report.html'), width=950, height=400)"
   ]
  },
  {
   "cell_type": "markdown",
   "metadata": {},
   "source": [
    "## Drop Columns after EDA"
   ]
  },
  {
   "cell_type": "code",
   "execution_count": 59,
   "metadata": {
    "ExecuteTime": {
     "end_time": "2020-07-27T15:58:26.744979Z",
     "start_time": "2020-07-27T15:58:26.479587Z"
    }
   },
   "outputs": [],
   "source": [
    "# drop columns ['Claim.Subscriber.Type', Subscriber.Payment.Amount', 'Place.Of.Service.Code']\n",
    "procedure_data.drop(['Claim.Number', 'Claim.Line.Number', 'Member.ID',\n",
    "                     'Claim.Subscriber.Type', 'Subscriber.Payment.Amount', \n",
    "                     'Place.Of.Service.Code', 'Denial.Reason.Code', 'Service.Code',\n",
    "                     'In.Out.Of.Network', 'Capitation.Index', 'Subgroup.Index'], inplace=True, axis=1)\n",
    "\n",
    "# replace blank values with NaN\n",
    "procedure_data = procedure_data.applymap(lambda x: np.nan if isinstance(x, str) and x.isspace() else x)\n",
    "\n",
    "# add cleaned file to cleaned folder\n",
    "procedure_data.to_csv(os.path.join('../data','cleaned','procedure_data.tar.gz'), compression='gzip', index=False)"
   ]
  },
  {
   "cell_type": "code",
   "execution_count": 60,
   "metadata": {
    "ExecuteTime": {
     "end_time": "2020-07-27T15:58:27.445261Z",
     "start_time": "2020-07-27T15:58:27.426399Z"
    }
   },
   "outputs": [
    {
     "data": {
      "text/html": [
       "<div>\n",
       "<style scoped>\n",
       "    .dataframe tbody tr th:only-of-type {\n",
       "        vertical-align: middle;\n",
       "    }\n",
       "\n",
       "    .dataframe tbody tr th {\n",
       "        vertical-align: top;\n",
       "    }\n",
       "\n",
       "    .dataframe thead th {\n",
       "        text-align: right;\n",
       "    }\n",
       "</style>\n",
       "<table border=\"1\" class=\"dataframe\">\n",
       "  <thead>\n",
       "    <tr style=\"text-align: right;\">\n",
       "      <th></th>\n",
       "      <th>Provider.ID</th>\n",
       "      <th>Line.Of.Business.ID</th>\n",
       "      <th>Revenue.Code</th>\n",
       "      <th>Procedure.Code</th>\n",
       "      <th>Diagnosis.Code</th>\n",
       "      <th>Claim.Charge.Amount</th>\n",
       "      <th>Price.Index</th>\n",
       "      <th>Reference.Index</th>\n",
       "      <th>Pricing.Index</th>\n",
       "      <th>Provider.Payment.Amount</th>\n",
       "      <th>Group.Index</th>\n",
       "      <th>Subscriber.Index</th>\n",
       "      <th>Claim.Type</th>\n",
       "      <th>Claim.Pre.Prince.Index</th>\n",
       "      <th>Claim.Current.Status</th>\n",
       "      <th>Network.ID</th>\n",
       "      <th>Agreement.ID</th>\n",
       "      <th>UnpaidClaim</th>\n",
       "    </tr>\n",
       "  </thead>\n",
       "  <tbody>\n",
       "    <tr>\n",
       "      <th>0</th>\n",
       "      <td>FA0001389001</td>\n",
       "      <td>1</td>\n",
       "      <td>636</td>\n",
       "      <td>J3010</td>\n",
       "      <td>78791</td>\n",
       "      <td>78.477165</td>\n",
       "      <td>A</td>\n",
       "      <td>V</td>\n",
       "      <td>V</td>\n",
       "      <td>0.0</td>\n",
       "      <td>110</td>\n",
       "      <td>13900250</td>\n",
       "      <td>M</td>\n",
       "      <td>NaN</td>\n",
       "      <td>2</td>\n",
       "      <td>P00000000007</td>\n",
       "      <td>FH001309QB01</td>\n",
       "      <td>1</td>\n",
       "    </tr>\n",
       "    <tr>\n",
       "      <th>1</th>\n",
       "      <td>FA0001774001</td>\n",
       "      <td>1</td>\n",
       "      <td>636</td>\n",
       "      <td>J1650</td>\n",
       "      <td>78651</td>\n",
       "      <td>1580.406900</td>\n",
       "      <td>A</td>\n",
       "      <td>V</td>\n",
       "      <td>V</td>\n",
       "      <td>0.0</td>\n",
       "      <td>61</td>\n",
       "      <td>267150</td>\n",
       "      <td>M</td>\n",
       "      <td>NaN</td>\n",
       "      <td>2</td>\n",
       "      <td>P00000000001</td>\n",
       "      <td>FH000595QB01</td>\n",
       "      <td>1</td>\n",
       "    </tr>\n",
       "    <tr>\n",
       "      <th>2</th>\n",
       "      <td>FA0001389001</td>\n",
       "      <td>1</td>\n",
       "      <td>636</td>\n",
       "      <td>J2765</td>\n",
       "      <td>6851</td>\n",
       "      <td>190.446315</td>\n",
       "      <td>A</td>\n",
       "      <td>V</td>\n",
       "      <td>N</td>\n",
       "      <td>0.0</td>\n",
       "      <td>572</td>\n",
       "      <td>32564150</td>\n",
       "      <td>M</td>\n",
       "      <td>NaN</td>\n",
       "      <td>2</td>\n",
       "      <td>P00000000007</td>\n",
       "      <td>FH002454QPD1</td>\n",
       "      <td>1</td>\n",
       "    </tr>\n",
       "    <tr>\n",
       "      <th>3</th>\n",
       "      <td>FA0001389001</td>\n",
       "      <td>1</td>\n",
       "      <td>636</td>\n",
       "      <td>J3010</td>\n",
       "      <td>84201</td>\n",
       "      <td>96.414450</td>\n",
       "      <td>A</td>\n",
       "      <td>V</td>\n",
       "      <td>V</td>\n",
       "      <td>0.0</td>\n",
       "      <td>572</td>\n",
       "      <td>24466250</td>\n",
       "      <td>M</td>\n",
       "      <td>NaN</td>\n",
       "      <td>2</td>\n",
       "      <td>P00000000007</td>\n",
       "      <td>FH002454QPD1</td>\n",
       "      <td>1</td>\n",
       "    </tr>\n",
       "    <tr>\n",
       "      <th>4</th>\n",
       "      <td>FA0001411001</td>\n",
       "      <td>1</td>\n",
       "      <td>636</td>\n",
       "      <td>J2250</td>\n",
       "      <td>2189</td>\n",
       "      <td>62.403980</td>\n",
       "      <td>A</td>\n",
       "      <td>V</td>\n",
       "      <td>N</td>\n",
       "      <td>0.0</td>\n",
       "      <td>572</td>\n",
       "      <td>31686300</td>\n",
       "      <td>M</td>\n",
       "      <td>NaN</td>\n",
       "      <td>2</td>\n",
       "      <td>P00000000007</td>\n",
       "      <td>FH002451QPD1</td>\n",
       "      <td>1</td>\n",
       "    </tr>\n",
       "  </tbody>\n",
       "</table>\n",
       "</div>"
      ],
      "text/plain": [
       "    Provider.ID Line.Of.Business.ID  Revenue.Code Procedure.Code  \\\n",
       "0  FA0001389001                   1           636          J3010   \n",
       "1  FA0001774001                   1           636          J1650   \n",
       "2  FA0001389001                   1           636          J2765   \n",
       "3  FA0001389001                   1           636          J3010   \n",
       "4  FA0001411001                   1           636          J2250   \n",
       "\n",
       "  Diagnosis.Code  Claim.Charge.Amount Price.Index Reference.Index  \\\n",
       "0          78791            78.477165           A               V   \n",
       "1          78651          1580.406900           A               V   \n",
       "2           6851           190.446315           A               V   \n",
       "3          84201            96.414450           A               V   \n",
       "4           2189            62.403980           A               V   \n",
       "\n",
       "  Pricing.Index  Provider.Payment.Amount  Group.Index  Subscriber.Index  \\\n",
       "0             V                      0.0          110          13900250   \n",
       "1             V                      0.0           61            267150   \n",
       "2             N                      0.0          572          32564150   \n",
       "3             V                      0.0          572          24466250   \n",
       "4             N                      0.0          572          31686300   \n",
       "\n",
       "  Claim.Type Claim.Pre.Prince.Index  Claim.Current.Status    Network.ID  \\\n",
       "0          M                    NaN                     2  P00000000007   \n",
       "1          M                    NaN                     2  P00000000001   \n",
       "2          M                    NaN                     2  P00000000007   \n",
       "3          M                    NaN                     2  P00000000007   \n",
       "4          M                    NaN                     2  P00000000007   \n",
       "\n",
       "   Agreement.ID  UnpaidClaim  \n",
       "0  FH001309QB01            1  \n",
       "1  FH000595QB01            1  \n",
       "2  FH002454QPD1            1  \n",
       "3  FH002454QPD1            1  \n",
       "4  FH002451QPD1            1  "
      ]
     },
     "execution_count": 60,
     "metadata": {},
     "output_type": "execute_result"
    }
   ],
   "source": [
    "# make sure columsn are removed\n",
    "procedure_data.head()"
   ]
  },
  {
   "cell_type": "markdown",
   "metadata": {},
   "source": [
    "# ------ Create Models ------"
   ]
  },
  {
   "cell_type": "markdown",
   "metadata": {},
   "source": [
    "## Base Line Model (Logistic Regression)"
   ]
  },
  {
   "cell_type": "code",
   "execution_count": 1,
   "metadata": {
    "ExecuteTime": {
     "end_time": "2020-07-27T16:00:50.452988Z",
     "start_time": "2020-07-27T16:00:48.717638Z"
    }
   },
   "outputs": [
    {
     "name": "stdout",
     "output_type": "stream",
     "text": [
      "The mean squared error is 0.10461922596754057 and accuracy is 0.8953807740324594\n"
     ]
    }
   ],
   "source": [
    "from helperFile import MachineLearning\n",
    "import os\n",
    "\n",
    "# store name to be use in results\n",
    "model = 'LogisticRegression'\n",
    "\n",
    "machine_learning = MachineLearning(train_data=os.path.join('../data','cleaned','procedure_data.tar.gz'), \n",
    "                                   label='UnpaidClaim',\n",
    "                                   log_file=os.path.join('../logs', f\"{model}\"),\n",
    "                                   imbalance=True)\n",
    "\n",
    "# set up pre-processing\n",
    "preprocessing = machine_learning.PreProcessing()\n",
    "\n",
    "# perform logistic regression\n",
    "# print out mean squared error and accuracy\n",
    "mse, score = machine_learning.LogisticRegression()\n",
    "\n",
    "print(f\"The mean squared error is {mse} and accuracy is {score}\")"
   ]
  },
  {
   "cell_type": "markdown",
   "metadata": {
    "ExecuteTime": {
     "end_time": "2020-07-15T03:38:17.832362Z",
     "start_time": "2020-07-15T03:38:17.830038Z"
    }
   },
   "source": [
    "## Random Forest Classifier Tuning"
   ]
  },
  {
   "cell_type": "code",
   "execution_count": 2,
   "metadata": {
    "ExecuteTime": {
     "end_time": "2020-07-27T16:01:21.913301Z",
     "start_time": "2020-07-27T16:00:53.891482Z"
    }
   },
   "outputs": [
    {
     "name": "stderr",
     "output_type": "stream",
     "text": [
      "/home/narquette/anaconda/envs/claims/lib/python3.7/site-packages/sklearn/ensemble/_forest.py:540: UserWarning: Some inputs do not have OOB scores. This probably means too few trees were used to compute any reliable oob estimates.\n",
      "  warn(\"Some inputs do not have OOB scores. \"\n",
      "/home/narquette/anaconda/envs/claims/lib/python3.7/site-packages/sklearn/ensemble/_forest.py:545: RuntimeWarning: invalid value encountered in true_divide\n",
      "  predictions[k].sum(axis=1)[:, np.newaxis])\n",
      "/home/narquette/anaconda/envs/claims/lib/python3.7/site-packages/sklearn/ensemble/_forest.py:540: UserWarning: Some inputs do not have OOB scores. This probably means too few trees were used to compute any reliable oob estimates.\n",
      "  warn(\"Some inputs do not have OOB scores. \"\n",
      "/home/narquette/anaconda/envs/claims/lib/python3.7/site-packages/sklearn/ensemble/_forest.py:545: RuntimeWarning: invalid value encountered in true_divide\n",
      "  predictions[k].sum(axis=1)[:, np.newaxis])\n",
      "/home/narquette/anaconda/envs/claims/lib/python3.7/site-packages/sklearn/ensemble/_forest.py:540: UserWarning: Some inputs do not have OOB scores. This probably means too few trees were used to compute any reliable oob estimates.\n",
      "  warn(\"Some inputs do not have OOB scores. \"\n",
      "/home/narquette/anaconda/envs/claims/lib/python3.7/site-packages/sklearn/ensemble/_forest.py:545: RuntimeWarning: invalid value encountered in true_divide\n",
      "  predictions[k].sum(axis=1)[:, np.newaxis])\n",
      "/home/narquette/anaconda/envs/claims/lib/python3.7/site-packages/sklearn/ensemble/_forest.py:540: UserWarning: Some inputs do not have OOB scores. This probably means too few trees were used to compute any reliable oob estimates.\n",
      "  warn(\"Some inputs do not have OOB scores. \"\n",
      "/home/narquette/anaconda/envs/claims/lib/python3.7/site-packages/sklearn/ensemble/_forest.py:545: RuntimeWarning: invalid value encountered in true_divide\n",
      "  predictions[k].sum(axis=1)[:, np.newaxis])\n"
     ]
    }
   ],
   "source": [
    "from helperFile import MachineLearning, random_tune\n",
    "import os\n",
    "\n",
    "# store name to be use in results\n",
    "model = 'RandomForest'\n",
    "\n",
    "machine_learning = MachineLearning(train_data=os.path.join('../data','cleaned','procedure_data.tar.gz'), \n",
    "                                   label='UnpaidClaim',\n",
    "                                   log_file=os.path.join('../logs', f\"{model}\"),\n",
    "                                   imbalance=True)\n",
    "\n",
    "# set up pre-processing\n",
    "preprocessing = machine_learning.PreProcessing()\n",
    "\n",
    "# store results as a list of tuples\n",
    "results = []\n",
    "\n",
    "# loop through each paramter and parameter value\n",
    "for key, values in random_tune.items():\n",
    "    # loop through each \n",
    "    for value in values:\n",
    "        \n",
    "        # set parameter and value to tune\n",
    "        parameter = { key : value }\n",
    "        \n",
    "        # perform random forst\n",
    "        score = machine_learning.RandomForest(parameter_dict=parameter, regressor=False)\n",
    "        \n",
    "        results.append((key, value, score))"
   ]
  },
  {
   "cell_type": "markdown",
   "metadata": {},
   "source": [
    "### Show best results"
   ]
  },
  {
   "cell_type": "code",
   "execution_count": 3,
   "metadata": {
    "ExecuteTime": {
     "end_time": "2020-07-27T16:01:21.921759Z",
     "start_time": "2020-07-27T16:01:21.915292Z"
    },
    "scrolled": true
   },
   "outputs": [
    {
     "name": "stdout",
     "output_type": "stream",
     "text": [
      "{'max_depth': 100, 'n_estimators': 70, 'max_features': None, 'min_samples_leaf': 1}\n"
     ]
    }
   ],
   "source": [
    "# store best result to be used as parameter\n",
    "best_results_dict = {}\n",
    "\n",
    "# loop through all parameter keys\n",
    "for key in random_tune.keys():\n",
    "    \n",
    "    # get the values for current key\n",
    "    values = [val for val in results if val[0] == key]\n",
    "    # get the score for current key\n",
    "    scores = [val[2] for val in values]\n",
    "    # get parameter for current key and max score\n",
    "    best_score = [val for val in values if val[2] == min(scores)]\n",
    "    # set diction with best parameter and parameter value\n",
    "    best_results_dict[best_score[0][0]] = best_score[0][1]\n",
    "    \n",
    "# print out results\n",
    "print(best_results_dict)"
   ]
  },
  {
   "cell_type": "markdown",
   "metadata": {
    "ExecuteTime": {
     "end_time": "2020-07-15T03:49:27.925265Z",
     "start_time": "2020-07-15T03:49:27.916470Z"
    }
   },
   "source": [
    "### Final, Tuned, Random Forest"
   ]
  },
  {
   "cell_type": "code",
   "execution_count": 4,
   "metadata": {
    "ExecuteTime": {
     "end_time": "2020-07-27T16:01:22.686516Z",
     "start_time": "2020-07-27T16:01:21.924896Z"
    }
   },
   "outputs": [
    {
     "name": "stdout",
     "output_type": "stream",
     "text": [
      "The mean squared error is 0.10936329588014981 and accuracy is 0.8906367041198502\n"
     ]
    }
   ],
   "source": [
    "import os\n",
    "from helperFile import MachineLearning\n",
    "\n",
    "# store name to be use in results\n",
    "model = 'RandomForest'\n",
    "\n",
    "# call machine learning class\n",
    "machine_learning = MachineLearning(train_data=os.path.join('../data','cleaned','procedure_data.tar.gz'), \n",
    "                                   label='UnpaidClaim',\n",
    "                                   log_file=os.path.join('../logs', f\"{model}\"),\n",
    "                                   imbalance=True)\n",
    "# setup pre processing\n",
    "preprocessing = machine_learning.PreProcessing()\n",
    "\n",
    "# set best_results_dict\n",
    "best_results_dict = {'max_depth': 100, 'n_estimators': 70, 'max_features': None, 'min_samples_leaf': 1}\n",
    "\n",
    "# perform random forest using best parameters\n",
    "mse, score = machine_learning.RandomForest(regressor=False, parameter_dict=best_results_dict)\n",
    "\n",
    "# print final model score\n",
    "print(f\"The mean squared error is {mse} and accuracy is {score}\")"
   ]
  },
  {
   "cell_type": "markdown",
   "metadata": {},
   "source": [
    "## XgBoost Tuning"
   ]
  },
  {
   "cell_type": "code",
   "execution_count": 5,
   "metadata": {
    "ExecuteTime": {
     "end_time": "2020-07-27T16:01:44.890840Z",
     "start_time": "2020-07-27T16:01:22.688894Z"
    }
   },
   "outputs": [
    {
     "name": "stdout",
     "output_type": "stream",
     "text": [
      "[11:01:22] WARNING: /workspace/src/learner.cc:480: \n",
      "Parameters: { silent } might not be used.\n",
      "\n",
      "  This may not be accurate due to some parameters are only used in language bindings but\n",
      "  passed down to XGBoost core.  Or some parameters are not used but slip through this\n",
      "  verification. Please open an issue if you find above cases.\n",
      "\n",
      "\n",
      "[11:01:23] WARNING: /workspace/src/learner.cc:480: \n",
      "Parameters: { silent } might not be used.\n",
      "\n",
      "  This may not be accurate due to some parameters are only used in language bindings but\n",
      "  passed down to XGBoost core.  Or some parameters are not used but slip through this\n",
      "  verification. Please open an issue if you find above cases.\n",
      "\n",
      "\n",
      "[11:01:24] WARNING: /workspace/src/learner.cc:480: \n",
      "Parameters: { silent } might not be used.\n",
      "\n",
      "  This may not be accurate due to some parameters are only used in language bindings but\n",
      "  passed down to XGBoost core.  Or some parameters are not used but slip through this\n",
      "  verification. Please open an issue if you find above cases.\n",
      "\n",
      "\n",
      "[11:01:25] WARNING: /workspace/src/learner.cc:480: \n",
      "Parameters: { silent } might not be used.\n",
      "\n",
      "  This may not be accurate due to some parameters are only used in language bindings but\n",
      "  passed down to XGBoost core.  Or some parameters are not used but slip through this\n",
      "  verification. Please open an issue if you find above cases.\n",
      "\n",
      "\n",
      "[11:01:26] WARNING: /workspace/src/learner.cc:480: \n",
      "Parameters: { silent } might not be used.\n",
      "\n",
      "  This may not be accurate due to some parameters are only used in language bindings but\n",
      "  passed down to XGBoost core.  Or some parameters are not used but slip through this\n",
      "  verification. Please open an issue if you find above cases.\n",
      "\n",
      "\n",
      "[11:01:27] WARNING: /workspace/src/learner.cc:480: \n",
      "Parameters: { silent } might not be used.\n",
      "\n",
      "  This may not be accurate due to some parameters are only used in language bindings but\n",
      "  passed down to XGBoost core.  Or some parameters are not used but slip through this\n",
      "  verification. Please open an issue if you find above cases.\n",
      "\n",
      "\n",
      "[11:01:28] WARNING: /workspace/src/learner.cc:480: \n",
      "Parameters: { silent } might not be used.\n",
      "\n",
      "  This may not be accurate due to some parameters are only used in language bindings but\n",
      "  passed down to XGBoost core.  Or some parameters are not used but slip through this\n",
      "  verification. Please open an issue if you find above cases.\n",
      "\n",
      "\n",
      "[11:01:29] WARNING: /workspace/src/learner.cc:480: \n",
      "Parameters: { silent } might not be used.\n",
      "\n",
      "  This may not be accurate due to some parameters are only used in language bindings but\n",
      "  passed down to XGBoost core.  Or some parameters are not used but slip through this\n",
      "  verification. Please open an issue if you find above cases.\n",
      "\n",
      "\n",
      "[11:01:29] WARNING: /workspace/src/learner.cc:480: \n",
      "Parameters: { silent } might not be used.\n",
      "\n",
      "  This may not be accurate due to some parameters are only used in language bindings but\n",
      "  passed down to XGBoost core.  Or some parameters are not used but slip through this\n",
      "  verification. Please open an issue if you find above cases.\n",
      "\n",
      "\n",
      "[11:01:30] WARNING: /workspace/src/learner.cc:480: \n",
      "Parameters: { silent } might not be used.\n",
      "\n",
      "  This may not be accurate due to some parameters are only used in language bindings but\n",
      "  passed down to XGBoost core.  Or some parameters are not used but slip through this\n",
      "  verification. Please open an issue if you find above cases.\n",
      "\n",
      "\n",
      "[11:01:31] WARNING: /workspace/src/learner.cc:480: \n",
      "Parameters: { silent } might not be used.\n",
      "\n",
      "  This may not be accurate due to some parameters are only used in language bindings but\n",
      "  passed down to XGBoost core.  Or some parameters are not used but slip through this\n",
      "  verification. Please open an issue if you find above cases.\n",
      "\n",
      "\n",
      "[11:01:31] WARNING: /workspace/src/learner.cc:480: \n",
      "Parameters: { silent } might not be used.\n",
      "\n",
      "  This may not be accurate due to some parameters are only used in language bindings but\n",
      "  passed down to XGBoost core.  Or some parameters are not used but slip through this\n",
      "  verification. Please open an issue if you find above cases.\n",
      "\n",
      "\n",
      "[11:01:32] WARNING: /workspace/src/learner.cc:480: \n",
      "Parameters: { silent } might not be used.\n",
      "\n",
      "  This may not be accurate due to some parameters are only used in language bindings but\n",
      "  passed down to XGBoost core.  Or some parameters are not used but slip through this\n",
      "  verification. Please open an issue if you find above cases.\n",
      "\n",
      "\n",
      "[11:01:33] WARNING: /workspace/src/learner.cc:480: \n",
      "Parameters: { silent } might not be used.\n",
      "\n",
      "  This may not be accurate due to some parameters are only used in language bindings but\n",
      "  passed down to XGBoost core.  Or some parameters are not used but slip through this\n",
      "  verification. Please open an issue if you find above cases.\n",
      "\n",
      "\n",
      "[11:01:36] WARNING: /workspace/src/learner.cc:480: \n",
      "Parameters: { silent } might not be used.\n",
      "\n",
      "  This may not be accurate due to some parameters are only used in language bindings but\n",
      "  passed down to XGBoost core.  Or some parameters are not used but slip through this\n",
      "  verification. Please open an issue if you find above cases.\n",
      "\n",
      "\n",
      "[11:01:40] WARNING: /workspace/src/learner.cc:480: \n",
      "Parameters: { silent } might not be used.\n",
      "\n",
      "  This may not be accurate due to some parameters are only used in language bindings but\n",
      "  passed down to XGBoost core.  Or some parameters are not used but slip through this\n",
      "  verification. Please open an issue if you find above cases.\n",
      "\n",
      "\n",
      "[11:01:40] WARNING: /workspace/src/learner.cc:480: \n",
      "Parameters: { silent } might not be used.\n",
      "\n",
      "  This may not be accurate due to some parameters are only used in language bindings but\n",
      "  passed down to XGBoost core.  Or some parameters are not used but slip through this\n",
      "  verification. Please open an issue if you find above cases.\n",
      "\n",
      "\n",
      "[11:01:41] WARNING: /workspace/src/learner.cc:480: \n",
      "Parameters: { silent } might not be used.\n",
      "\n",
      "  This may not be accurate due to some parameters are only used in language bindings but\n",
      "  passed down to XGBoost core.  Or some parameters are not used but slip through this\n",
      "  verification. Please open an issue if you find above cases.\n",
      "\n",
      "\n",
      "[11:01:41] WARNING: /workspace/src/learner.cc:480: \n",
      "Parameters: { silent } might not be used.\n",
      "\n",
      "  This may not be accurate due to some parameters are only used in language bindings but\n",
      "  passed down to XGBoost core.  Or some parameters are not used but slip through this\n",
      "  verification. Please open an issue if you find above cases.\n",
      "\n",
      "\n",
      "[11:01:41] WARNING: /workspace/src/learner.cc:480: \n",
      "Parameters: { silent } might not be used.\n",
      "\n",
      "  This may not be accurate due to some parameters are only used in language bindings but\n",
      "  passed down to XGBoost core.  Or some parameters are not used but slip through this\n",
      "  verification. Please open an issue if you find above cases.\n",
      "\n",
      "\n",
      "[11:01:41] WARNING: /workspace/src/learner.cc:480: \n",
      "Parameters: { silent } might not be used.\n",
      "\n",
      "  This may not be accurate due to some parameters are only used in language bindings but\n",
      "  passed down to XGBoost core.  Or some parameters are not used but slip through this\n",
      "  verification. Please open an issue if you find above cases.\n",
      "\n",
      "\n",
      "[11:01:41] WARNING: /workspace/src/learner.cc:480: \n",
      "Parameters: { silent } might not be used.\n",
      "\n",
      "  This may not be accurate due to some parameters are only used in language bindings but\n",
      "  passed down to XGBoost core.  Or some parameters are not used but slip through this\n",
      "  verification. Please open an issue if you find above cases.\n",
      "\n",
      "\n",
      "[11:01:42] WARNING: /workspace/src/learner.cc:480: \n",
      "Parameters: { silent } might not be used.\n",
      "\n",
      "  This may not be accurate due to some parameters are only used in language bindings but\n",
      "  passed down to XGBoost core.  Or some parameters are not used but slip through this\n",
      "  verification. Please open an issue if you find above cases.\n",
      "\n",
      "\n",
      "[11:01:42] WARNING: /workspace/src/learner.cc:480: \n",
      "Parameters: { silent } might not be used.\n",
      "\n",
      "  This may not be accurate due to some parameters are only used in language bindings but\n",
      "  passed down to XGBoost core.  Or some parameters are not used but slip through this\n",
      "  verification. Please open an issue if you find above cases.\n",
      "\n",
      "\n",
      "[11:01:43] WARNING: /workspace/src/learner.cc:480: \n",
      "Parameters: { silent } might not be used.\n",
      "\n",
      "  This may not be accurate due to some parameters are only used in language bindings but\n",
      "  passed down to XGBoost core.  Or some parameters are not used but slip through this\n",
      "  verification. Please open an issue if you find above cases.\n",
      "\n",
      "\n"
     ]
    },
    {
     "name": "stdout",
     "output_type": "stream",
     "text": [
      "[11:01:43] WARNING: /workspace/src/learner.cc:480: \n",
      "Parameters: { silent } might not be used.\n",
      "\n",
      "  This may not be accurate due to some parameters are only used in language bindings but\n",
      "  passed down to XGBoost core.  Or some parameters are not used but slip through this\n",
      "  verification. Please open an issue if you find above cases.\n",
      "\n",
      "\n",
      "[11:01:44] WARNING: /workspace/src/learner.cc:480: \n",
      "Parameters: { silent } might not be used.\n",
      "\n",
      "  This may not be accurate due to some parameters are only used in language bindings but\n",
      "  passed down to XGBoost core.  Or some parameters are not used but slip through this\n",
      "  verification. Please open an issue if you find above cases.\n",
      "\n",
      "\n"
     ]
    }
   ],
   "source": [
    "# import tuneing parameters\n",
    "import os\n",
    "from helperFile import MachineLearning, xgb_tune\n",
    "\n",
    "# set model name\n",
    "model = 'XGBoost'\n",
    "\n",
    "# call machine learning class\n",
    "machine_learning = MachineLearning(train_data=os.path.join('../data','cleaned','procedure_data.tar.gz'), \n",
    "                                   label='UnpaidClaim',\n",
    "                                   log_file=os.path.join('../logs', f\"{model}\"),\n",
    "                                   imbalance=True)\n",
    "\n",
    "# perform pre-processing\n",
    "preprocessing = machine_learning.PreProcessing()\n",
    "\n",
    "# store results as a list of tuples\n",
    "results = []\n",
    "\n",
    "# loop through each paramter and parameter value\n",
    "for key, values in xgb_tune.items():\n",
    "    # loop through each\n",
    "    for value in values:\n",
    "\n",
    "        # set parameter and value to tune\n",
    "        parameter = {key: value}\n",
    "\n",
    "        # perform random forst\n",
    "        score = machine_learning.XGboost(regressor=False, parameter_dict=parameter)\n",
    "\n",
    "        results.append((key, value, score))"
   ]
  },
  {
   "cell_type": "markdown",
   "metadata": {},
   "source": [
    "### Show best results"
   ]
  },
  {
   "cell_type": "code",
   "execution_count": 6,
   "metadata": {
    "ExecuteTime": {
     "end_time": "2020-07-27T16:01:44.898035Z",
     "start_time": "2020-07-27T16:01:44.892444Z"
    }
   },
   "outputs": [
    {
     "name": "stdout",
     "output_type": "stream",
     "text": [
      "{'learning_rate': 0.8, 'max_depth': 20, 'n_estimators': 100}\n"
     ]
    }
   ],
   "source": [
    "# store best result to be used as parameter\n",
    "best_results_dict = {}\n",
    "\n",
    "# loop through all parameter keys\n",
    "for key in xgb_tune.keys():\n",
    "\n",
    "    # get the values for current key\n",
    "    values = [val for val in results if val[0] == key]\n",
    "    # get the score for current key\n",
    "    scores = [val[2] for val in values]\n",
    "    # get parameter for current key and max score\n",
    "    best_score = [val for val in values if val[2] == min(scores)]\n",
    "    # set diction with best parameter and parameter value\n",
    "    best_results_dict[best_score[0][0]] = best_score[0][1]\n",
    "\n",
    "# print out results\n",
    "print(best_results_dict)"
   ]
  },
  {
   "cell_type": "markdown",
   "metadata": {},
   "source": [
    "### Final, Tuned, XgBoost"
   ]
  },
  {
   "cell_type": "code",
   "execution_count": 7,
   "metadata": {
    "ExecuteTime": {
     "end_time": "2020-07-27T16:01:47.739791Z",
     "start_time": "2020-07-27T16:01:44.901145Z"
    }
   },
   "outputs": [
    {
     "name": "stdout",
     "output_type": "stream",
     "text": [
      "[11:01:45] WARNING: /workspace/src/learner.cc:480: \n",
      "Parameters: { silent } might not be used.\n",
      "\n",
      "  This may not be accurate due to some parameters are only used in language bindings but\n",
      "  passed down to XGBoost core.  Or some parameters are not used but slip through this\n",
      "  verification. Please open an issue if you find above cases.\n",
      "\n",
      "\n",
      "0.09113607990012484 0.9088639200998752\n"
     ]
    }
   ],
   "source": [
    "import os\n",
    "from helperFile import MachineLearning\n",
    "import xgboost as xgb\n",
    "\n",
    "# set model name\n",
    "model = 'XGBoost' \n",
    "\n",
    "# call machine learning class\n",
    "machine_learning = MachineLearning(train_data=os.path.join('../data','cleaned','procedure_data.tar.gz'), \n",
    "                                   label='UnpaidClaim',\n",
    "                                   log_file=os.path.join('../logs', f\"{model}\"),\n",
    "                                   imbalance=True)\n",
    " \n",
    "# setup pre processing\n",
    "preprocessing = machine_learning.PreProcessing()\n",
    "\n",
    "# # set best_results_dict\n",
    "best_results_dict = {'learning_rate': 0.8, 'max_depth': 20, 'n_estimators': 100}\n",
    "\n",
    "# # perform random forest using best parameters\n",
    "mse, score = machine_learning.XGboost(regressor=False, parameter_dict=best_results_dict)\n",
    "        \n",
    "# # print final model score\n",
    "print(mse, score)"
   ]
  },
  {
   "cell_type": "markdown",
   "metadata": {},
   "source": [
    "## LgBoost Tuning"
   ]
  },
  {
   "cell_type": "code",
   "execution_count": 8,
   "metadata": {
    "ExecuteTime": {
     "end_time": "2020-07-27T16:02:03.968026Z",
     "start_time": "2020-07-27T16:01:47.742105Z"
    }
   },
   "outputs": [],
   "source": [
    "# import tuneing parameters\n",
    "import os\n",
    "from helperFile import MachineLearning, lgb_tune\n",
    "\n",
    "# set model name\n",
    "model = 'LGBoost'\n",
    "\n",
    "# call machine learning class\n",
    "machine_learning = MachineLearning(train_data=os.path.join('../data','cleaned','procedure_data.tar.gz'), \n",
    "                                   label='UnpaidClaim',\n",
    "                                   log_file=os.path.join('../logs', f\"{model}\"),\n",
    "                                   imbalance=True)\n",
    " \n",
    "# set columns for preprocessing\n",
    "preprocessing = machine_learning.PreProcessing()\n",
    "\n",
    "# store results as a list of tuples\n",
    "results = []\n",
    "\n",
    "# loop through each paramter and parameter value\n",
    "for key, values in lgb_tune.items():\n",
    "    # loop through each \n",
    "    for value in values:\n",
    "        \n",
    "        # set parameter and value to tune\n",
    "        parameter = { key : value }\n",
    "        \n",
    "        # perform random forst\n",
    "        score = machine_learning.LGboost(regressor=False, parameter_dict=parameter)\n",
    "        \n",
    "        results.append((key, value, score))"
   ]
  },
  {
   "cell_type": "markdown",
   "metadata": {},
   "source": [
    "### Show best results"
   ]
  },
  {
   "cell_type": "code",
   "execution_count": 9,
   "metadata": {
    "ExecuteTime": {
     "end_time": "2020-07-27T16:02:03.981652Z",
     "start_time": "2020-07-27T16:02:03.972051Z"
    }
   },
   "outputs": [
    {
     "name": "stdout",
     "output_type": "stream",
     "text": [
      "{'learning_rate': 0.6, 'max_depth': 15, 'num_leaves': 2020, 'n_estimators': 100, 'min_data_in_leaf': 100}\n"
     ]
    }
   ],
   "source": [
    "# store best result to be used as parameter\n",
    "best_results_dict = {}\n",
    "\n",
    "# loop through all parameter keys\n",
    "for key in lgb_tune.keys():\n",
    "\n",
    "    # get the values for current key\n",
    "    values = [val for val in results if val[0] == key]\n",
    "    # get the score for current key\n",
    "    scores = [val[2] for val in values]\n",
    "    # get parameter for current key and max score\n",
    "    best_score = [val for val in values if val[2] == min(scores)]\n",
    "    # set diction with best parameter and parameter value\n",
    "    best_results_dict[best_score[0][0]] = best_score[0][1]\n",
    "\n",
    "# print out results\n",
    "print(best_results_dict)"
   ]
  },
  {
   "cell_type": "markdown",
   "metadata": {},
   "source": [
    "### Final, Tuned, LgBoost"
   ]
  },
  {
   "cell_type": "code",
   "execution_count": 10,
   "metadata": {
    "ExecuteTime": {
     "end_time": "2020-07-27T16:02:04.694954Z",
     "start_time": "2020-07-27T16:02:03.984921Z"
    }
   },
   "outputs": [
    {
     "name": "stdout",
     "output_type": "stream",
     "text": [
      "0.12034956304619226 0.8796504369538077\n"
     ]
    }
   ],
   "source": [
    "import os\n",
    "from helperFile import MachineLearning\n",
    "import xgboost as xgb\n",
    "\n",
    "# set model name\n",
    "model = 'LGBoost' \n",
    "\n",
    "# call machine learning class\n",
    "machine_learning = MachineLearning(train_data=os.path.join('../data','cleaned','procedure_data.tar.gz'), \n",
    "                                   label='UnpaidClaim',\n",
    "                                   log_file=os.path.join('../logs', f\"{model}\"),\n",
    "                                   imbalance=True)\n",
    " \n",
    "# setup pre processing\n",
    "preprocessing = machine_learning.PreProcessing()\n",
    "\n",
    "# # set best_results_dict\n",
    "best_results_dict = {'learning_rate': 0.6, 'max_depth': 15, 'num_leaves': 2020, 'n_estimators': 100, 'min_data_in_leaf': 100}\n",
    "\n",
    "# # perform random forest using best parameters\n",
    "score, mse = machine_learning.LGboost(regressor=False, parameter_dict=best_results_dict)\n",
    "        \n",
    "# # print final model score\n",
    "print(score, mse)"
   ]
  },
  {
   "cell_type": "markdown",
   "metadata": {},
   "source": [
    "# ------ Test Models ------"
   ]
  },
  {
   "cell_type": "markdown",
   "metadata": {},
   "source": [
    "## Logistic Regression Cross Validation"
   ]
  },
  {
   "cell_type": "code",
   "execution_count": 1,
   "metadata": {
    "ExecuteTime": {
     "end_time": "2020-07-27T17:08:35.544690Z",
     "start_time": "2020-07-27T17:08:32.268142Z"
    }
   },
   "outputs": [],
   "source": [
    "# do 5-fold cross validation on models and measure MSE\n",
    "import os\n",
    "import numpy as np\n",
    "from helperFile import MachineLearning\n",
    "\n",
    "# store name to be use in results\n",
    "model = 'LogisticRegression'\n",
    "\n",
    "# store results for all models\n",
    "cv_results = {}\n",
    "\n",
    "# load data\n",
    "machine_learning = MachineLearning(train_data=os.path.join('../data','cleaned','procedure_data.tar.gz'), \n",
    "                                   label='UnpaidClaim',\n",
    "                                   log_file=os.path.join('../logs', f\"{model}_CrossValidation\"),\n",
    "                                   imbalance=True)\n",
    "\n",
    "# setup pre processing\n",
    "preprocessing=machine_learning.PreProcessing()\n",
    "\n",
    "# perform random forest using best parameters\n",
    "mse = machine_learning.LogisticRegression(cross_validation=True)\n",
    "\n",
    "# get minimum mse value index\n",
    "index = np.argmin(mse[0])\n",
    "\n",
    "# get minimum mse and corresponding accuracy\n",
    "min_mse = mse[0][index]\n",
    "min_accuracy = mse[1][index]\n",
    "\n",
    "# store final model score\n",
    "cv_results[model] = min_mse, min_accuracy"
   ]
  },
  {
   "cell_type": "markdown",
   "metadata": {},
   "source": [
    "## Random Forest Cross Validation"
   ]
  },
  {
   "cell_type": "code",
   "execution_count": 2,
   "metadata": {
    "ExecuteTime": {
     "end_time": "2020-07-27T17:08:45.585037Z",
     "start_time": "2020-07-27T17:08:35.546441Z"
    }
   },
   "outputs": [],
   "source": [
    "import os\n",
    "import numpy as np\n",
    "from helperFile import MachineLearning, randomforest_best_results_dict\n",
    "\n",
    "# store name to be use in results\n",
    "model = 'RandomForest'\n",
    "\n",
    "# load data\n",
    "machine_learning = MachineLearning(train_data=os.path.join('../data','cleaned','procedure_data.tar.gz'), \n",
    "                                   label='UnpaidClaim',\n",
    "                                   log_file=os.path.join('../logs', f\"{model}_CrossValidation\"),\n",
    "                                   imbalance=True)\n",
    "\n",
    "# setup pre processing\n",
    "preprocessing = machine_learning.PreProcessing()\n",
    "\n",
    "# perform random forest using best parameters\n",
    "mse = machine_learning.RandomForest(\n",
    "    parameter_dict=randomforest_best_results_dict, regressor=False, cross_validation=True)\n",
    "\n",
    "# get minimum mse value index\n",
    "index = np.argmin(mse[0])\n",
    "\n",
    "# get minimum mse and corresponding accuracy\n",
    "min_mse = mse[0][index]\n",
    "min_accuracy = mse[1][index]\n",
    "\n",
    "# store final model score\n",
    "cv_results[model] = min_mse, min_accuracy"
   ]
  },
  {
   "cell_type": "markdown",
   "metadata": {
    "ExecuteTime": {
     "end_time": "2020-07-15T04:29:53.743096Z",
     "start_time": "2020-07-15T04:29:53.740031Z"
    }
   },
   "source": [
    "## XgBoost Forest Cross Validation"
   ]
  },
  {
   "cell_type": "code",
   "execution_count": 3,
   "metadata": {
    "ExecuteTime": {
     "end_time": "2020-07-27T17:09:00.268915Z",
     "start_time": "2020-07-27T17:08:45.598020Z"
    }
   },
   "outputs": [
    {
     "name": "stdout",
     "output_type": "stream",
     "text": [
      "[12:08:45] WARNING: /workspace/src/learner.cc:480: \n",
      "Parameters: { silent } might not be used.\n",
      "\n",
      "  This may not be accurate due to some parameters are only used in language bindings but\n",
      "  passed down to XGBoost core.  Or some parameters are not used but slip through this\n",
      "  verification. Please open an issue if you find above cases.\n",
      "\n",
      "\n",
      "[12:08:48] WARNING: /workspace/src/learner.cc:480: \n",
      "Parameters: { silent } might not be used.\n",
      "\n",
      "  This may not be accurate due to some parameters are only used in language bindings but\n",
      "  passed down to XGBoost core.  Or some parameters are not used but slip through this\n",
      "  verification. Please open an issue if you find above cases.\n",
      "\n",
      "\n",
      "[12:08:50] WARNING: /workspace/src/learner.cc:480: \n",
      "Parameters: { silent } might not be used.\n",
      "\n",
      "  This may not be accurate due to some parameters are only used in language bindings but\n",
      "  passed down to XGBoost core.  Or some parameters are not used but slip through this\n",
      "  verification. Please open an issue if you find above cases.\n",
      "\n",
      "\n",
      "[12:08:52] WARNING: /workspace/src/learner.cc:480: \n",
      "Parameters: { silent } might not be used.\n",
      "\n",
      "  This may not be accurate due to some parameters are only used in language bindings but\n",
      "  passed down to XGBoost core.  Or some parameters are not used but slip through this\n",
      "  verification. Please open an issue if you find above cases.\n",
      "\n",
      "\n",
      "[12:08:55] WARNING: /workspace/src/learner.cc:480: \n",
      "Parameters: { silent } might not be used.\n",
      "\n",
      "  This may not be accurate due to some parameters are only used in language bindings but\n",
      "  passed down to XGBoost core.  Or some parameters are not used but slip through this\n",
      "  verification. Please open an issue if you find above cases.\n",
      "\n",
      "\n",
      "[12:08:57] WARNING: /workspace/src/learner.cc:480: \n",
      "Parameters: { silent } might not be used.\n",
      "\n",
      "  This may not be accurate due to some parameters are only used in language bindings but\n",
      "  passed down to XGBoost core.  Or some parameters are not used but slip through this\n",
      "  verification. Please open an issue if you find above cases.\n",
      "\n",
      "\n"
     ]
    }
   ],
   "source": [
    "import os\n",
    "import numpy as np\n",
    "from helperFile import MachineLearning, xgb_best_results_dict\n",
    "\n",
    "# store name to be use in results\n",
    "model = 'XGboost'\n",
    "\n",
    "# load data\n",
    "machine_learning = MachineLearning(train_data=os.path.join('../data','cleaned','procedure_data.tar.gz'), \n",
    "                                   label='UnpaidClaim',\n",
    "                                   log_file=os.path.join('../logs', f\"{model}_CrossValidation\"),\n",
    "                                   imbalance=True)\n",
    "\n",
    "# setup pre processing\n",
    "preprocessing = machine_learning.PreProcessing()\n",
    "\n",
    "# perform random forest using best parameters\n",
    "mse = machine_learning.XGboost(\n",
    "    parameter_dict=xgb_best_results_dict, regressor=False, cross_validation=True)\n",
    "\n",
    "# get minimum mse value index\n",
    "index = np.argmin(mse[0])\n",
    "\n",
    "# get minimum mse and corresponding accuracy\n",
    "min_mse = mse[0][index]\n",
    "min_accuracy = mse[1][index]\n",
    "\n",
    "# store final model score\n",
    "cv_results[model] = min_mse, min_accuracy"
   ]
  },
  {
   "cell_type": "markdown",
   "metadata": {},
   "source": [
    "## LgBoost Forest Cross Validation"
   ]
  },
  {
   "cell_type": "code",
   "execution_count": 4,
   "metadata": {
    "ExecuteTime": {
     "end_time": "2020-07-27T17:09:02.749176Z",
     "start_time": "2020-07-27T17:09:00.271723Z"
    }
   },
   "outputs": [],
   "source": [
    "import os\n",
    "import numpy as np\n",
    "from helperFile import MachineLearning, lgb_best_results_dict\n",
    "\n",
    "# store name to be use in results\n",
    "model = 'LGboost'\n",
    "\n",
    "# load data\n",
    "machine_learning = MachineLearning(train_data=os.path.join('../data','cleaned','procedure_data.tar.gz'), \n",
    "                                   label='UnpaidClaim',\n",
    "                                   log_file=os.path.join('../logs', f\"{model}_CrossValidation\"),\n",
    "                                   imbalance=True)\n",
    "\n",
    "# setup pre processing\n",
    "preprocessing = machine_learning.PreProcessing()\n",
    "\n",
    "# perform random forest using best parameters\n",
    "mse = machine_learning.LGboost(\n",
    "    parameter_dict=lgb_best_results_dict, regressor=False, cross_validation=True)\n",
    "\n",
    "# get minimum mse value index\n",
    "index = np.argmin(mse[0])\n",
    "\n",
    "# get minimum mse and corresponding accuracy\n",
    "min_mse = mse[0][index]\n",
    "min_accuracy = mse[1][index]\n",
    "\n",
    "# store final model score\n",
    "cv_results[model] = min_mse, min_accuracy"
   ]
  },
  {
   "cell_type": "markdown",
   "metadata": {},
   "source": [
    "## Show model results"
   ]
  },
  {
   "cell_type": "code",
   "execution_count": 5,
   "metadata": {
    "ExecuteTime": {
     "end_time": "2020-07-27T17:09:02.799098Z",
     "start_time": "2020-07-27T17:09:02.750914Z"
    }
   },
   "outputs": [
    {
     "data": {
      "text/html": [
       "<div>\n",
       "<style scoped>\n",
       "    .dataframe tbody tr th:only-of-type {\n",
       "        vertical-align: middle;\n",
       "    }\n",
       "\n",
       "    .dataframe tbody tr th {\n",
       "        vertical-align: top;\n",
       "    }\n",
       "\n",
       "    .dataframe thead th {\n",
       "        text-align: right;\n",
       "    }\n",
       "</style>\n",
       "<table border=\"1\" class=\"dataframe\">\n",
       "  <thead>\n",
       "    <tr style=\"text-align: right;\">\n",
       "      <th></th>\n",
       "      <th>Model</th>\n",
       "      <th>MeanSquaredError</th>\n",
       "      <th>Accuracy</th>\n",
       "    </tr>\n",
       "  </thead>\n",
       "  <tbody>\n",
       "    <tr>\n",
       "      <th>0</th>\n",
       "      <td>LogisticRegression</td>\n",
       "      <td>0.214668</td>\n",
       "      <td>0.785332</td>\n",
       "    </tr>\n",
       "    <tr>\n",
       "      <th>1</th>\n",
       "      <td>RandomForest</td>\n",
       "      <td>0.098063</td>\n",
       "      <td>0.901937</td>\n",
       "    </tr>\n",
       "    <tr>\n",
       "      <th>2</th>\n",
       "      <td>XGboost</td>\n",
       "      <td>0.099712</td>\n",
       "      <td>0.900288</td>\n",
       "    </tr>\n",
       "    <tr>\n",
       "      <th>3</th>\n",
       "      <td>LGboost</td>\n",
       "      <td>0.112485</td>\n",
       "      <td>0.887515</td>\n",
       "    </tr>\n",
       "  </tbody>\n",
       "</table>\n",
       "</div>"
      ],
      "text/plain": [
       "                Model  MeanSquaredError  Accuracy\n",
       "0  LogisticRegression          0.214668  0.785332\n",
       "1        RandomForest          0.098063  0.901937\n",
       "2             XGboost          0.099712  0.900288\n",
       "3             LGboost          0.112485  0.887515"
      ]
     },
     "execution_count": 5,
     "metadata": {},
     "output_type": "execute_result"
    }
   ],
   "source": [
    "import pandas as pd\n",
    "model_dataframe = pd.DataFrame()\n",
    "model_dataframe['Model'] = cv_results.keys()\n",
    "model_dataframe['MeanSquaredError'] = [v[0] for v in cv_results.values()]\n",
    "model_dataframe['Accuracy'] = [v[1] for v in cv_results.values()]\n",
    "model_dataframe"
   ]
  },
  {
   "cell_type": "markdown",
   "metadata": {},
   "source": [
    "## Save results to file"
   ]
  },
  {
   "cell_type": "code",
   "execution_count": 6,
   "metadata": {
    "ExecuteTime": {
     "end_time": "2020-07-27T17:09:02.834589Z",
     "start_time": "2020-07-27T17:09:02.801700Z"
    }
   },
   "outputs": [],
   "source": [
    "# write dataframe to file\n",
    "model_dataframe.to_csv(os.path.join('../logs','FinalResults.csv'), index=False)"
   ]
  },
  {
   "cell_type": "markdown",
   "metadata": {
    "ExecuteTime": {
     "end_time": "2020-07-15T04:34:27.756703Z",
     "start_time": "2020-07-15T04:34:27.753878Z"
    }
   },
   "source": [
    "## Select best model"
   ]
  },
  {
   "cell_type": "code",
   "execution_count": 7,
   "metadata": {
    "ExecuteTime": {
     "end_time": "2020-07-27T17:09:02.904696Z",
     "start_time": "2020-07-27T17:09:02.837404Z"
    }
   },
   "outputs": [
    {
     "data": {
      "text/html": [
       "<div>\n",
       "<style scoped>\n",
       "    .dataframe tbody tr th:only-of-type {\n",
       "        vertical-align: middle;\n",
       "    }\n",
       "\n",
       "    .dataframe tbody tr th {\n",
       "        vertical-align: top;\n",
       "    }\n",
       "\n",
       "    .dataframe thead th {\n",
       "        text-align: right;\n",
       "    }\n",
       "</style>\n",
       "<table border=\"1\" class=\"dataframe\">\n",
       "  <thead>\n",
       "    <tr style=\"text-align: right;\">\n",
       "      <th></th>\n",
       "      <th>Model</th>\n",
       "      <th>MeanSquaredError</th>\n",
       "      <th>Accuracy</th>\n",
       "    </tr>\n",
       "  </thead>\n",
       "  <tbody>\n",
       "    <tr>\n",
       "      <th>1</th>\n",
       "      <td>RandomForest</td>\n",
       "      <td>0.098063</td>\n",
       "      <td>0.901937</td>\n",
       "    </tr>\n",
       "  </tbody>\n",
       "</table>\n",
       "</div>"
      ],
      "text/plain": [
       "          Model  MeanSquaredError  Accuracy\n",
       "1  RandomForest          0.098063  0.901937"
      ]
     },
     "execution_count": 7,
     "metadata": {},
     "output_type": "execute_result"
    }
   ],
   "source": [
    "#select the model with the lowest error as your \"production\" model\n",
    "import pandas as pd\n",
    "import os \n",
    "\n",
    "model_dataframe = pd.read_csv(os.path.join('../logs', 'FinalResults.csv'), low_memory=False)\n",
    "best_model = model_dataframe.loc[model_dataframe['MeanSquaredError'] == min(model_dataframe['MeanSquaredError'])]\n",
    "best_model"
   ]
  },
  {
   "cell_type": "markdown",
   "metadata": {},
   "source": [
    "## Save Final Model"
   ]
  },
  {
   "cell_type": "code",
   "execution_count": 38,
   "metadata": {
    "ExecuteTime": {
     "end_time": "2020-07-25T20:20:51.321964Z",
     "start_time": "2020-07-25T20:20:50.780466Z"
    }
   },
   "outputs": [],
   "source": [
    "import os\n",
    "import numpy as np\n",
    "from helperFile import MachineLearning, randomforest_best_results_dict, xgb_best_results_dict, lgb_best_results_dict\n",
    "\n",
    "# store name to be use in results\n",
    "model = best_model['Model'].to_string(index=False).strip()\n",
    "\n",
    "# load data\n",
    "machine_learning = MachineLearning(train_data=os.path.join('../data','cleaned','procedure_data.tar.gz'), \n",
    "                                   label='UnpaidClaim',\n",
    "                                   log_file=os.path.join('../logs', f\"{model}_FinalModel\"),\n",
    "                                   imbalance=True)\n",
    "\n",
    "# setup pre processing\n",
    "preprocessing = machine_learning.PreProcessing()\n",
    "\n",
    "if model == 'LogisticRegression':\n",
    "    machine_learning.LogisticRegression(save_model=True)\n",
    "elif model == 'RandomForest':\n",
    "    machine_learning.RandomForest(\n",
    "        parameter_dict=randomforest_best_results_dict, regressor=False, save_model=True)\n",
    "elif model == 'XGboost':\n",
    "    machine_learning.XGboost(parameter_dict=xgb_best_results_dict, regressor=False, save_model=True)\n",
    "elif model == 'LGboost':\n",
    "    machine_learning.LGboost(parameter_dict=lgb_best_results_dict, regressor=False, save_model=True)\n",
    "else:\n",
    "    print(f'{model} not found')"
   ]
  },
  {
   "cell_type": "markdown",
   "metadata": {},
   "source": [
    "## Feature Importance for Best Model"
   ]
  },
  {
   "cell_type": "code",
   "execution_count": 39,
   "metadata": {
    "ExecuteTime": {
     "end_time": "2020-07-25T20:20:51.539403Z",
     "start_time": "2020-07-25T20:20:51.323862Z"
    }
   },
   "outputs": [
    {
     "data": {
      "image/png": "[encoded data removed]",
      "text/plain": [
       "<Figure size 432x288 with 1 Axes>"
      ]
     },
     "metadata": {
      "needs_background": "light"
     },
     "output_type": "display_data"
    }
   ],
   "source": [
    "from helperFile import FeatureImportance\n",
    "\n",
    "# store name to be use in results\n",
    "model_name = best_model['Model'].to_string(index=False).strip()\n",
    "\n",
    "# plot feature importance for the best model\n",
    "FeatureImportance(model=model_name);\n",
    "\n"
   ]
  },
  {
   "cell_type": "markdown",
   "metadata": {},
   "source": [
    "## h2o Auto ML"
   ]
  },
  {
   "cell_type": "code",
   "execution_count": 100,
   "metadata": {
    "ExecuteTime": {
     "end_time": "2020-07-17T16:46:41.841953Z",
     "start_time": "2020-07-17T16:26:16.532306Z"
    }
   },
   "outputs": [
    {
     "name": "stdout",
     "output_type": "stream",
     "text": [
      "Checking whether there is an H2O instance running at http://localhost:54321 ..... not found.\n",
      "Attempting to start a local H2O server...\n",
      "  Java Version: openjdk version \"11.0.7\" 2020-04-14; OpenJDK Runtime Environment (build 11.0.7+10-post-Ubuntu-3ubuntu1); OpenJDK 64-Bit Server VM (build 11.0.7+10-post-Ubuntu-3ubuntu1, mixed mode, sharing)\n",
      "  Starting server from /home/narquette/anaconda/envs/claims/lib/python3.7/site-packages/h2o/backend/bin/h2o.jar\n",
      "  Ice root: /tmp/tmp2akvx_8q\n",
      "  JVM stdout: /tmp/tmp2akvx_8q/h2o_narquette_started_from_python.out\n",
      "  JVM stderr: /tmp/tmp2akvx_8q/h2o_narquette_started_from_python.err\n",
      "  Server is running at http://127.0.0.1:54361\n",
      "Connecting to H2O server at http://127.0.0.1:54361 ... successful.\n"
     ]
    },
    {
     "data": {
      "text/html": [
       "<div style=\"overflow:auto\"><table style=\"width:50%\"><tr><td>H2O_cluster_uptime:</td>\n",
       "<td>02 secs</td></tr>\n",
       "<tr><td>H2O_cluster_timezone:</td>\n",
       "<td>America/Chicago</td></tr>\n",
       "<tr><td>H2O_data_parsing_timezone:</td>\n",
       "<td>UTC</td></tr>\n",
       "<tr><td>H2O_cluster_version:</td>\n",
       "<td>3.30.0.6</td></tr>\n",
       "<tr><td>H2O_cluster_version_age:</td>\n",
       "<td>16 days </td></tr>\n",
       "<tr><td>H2O_cluster_name:</td>\n",
       "<td>H2O_from_python_narquette_i6mf3a</td></tr>\n",
       "<tr><td>H2O_cluster_total_nodes:</td>\n",
       "<td>1</td></tr>\n",
       "<tr><td>H2O_cluster_free_memory:</td>\n",
       "<td>7.971 Gb</td></tr>\n",
       "<tr><td>H2O_cluster_total_cores:</td>\n",
       "<td>8</td></tr>\n",
       "<tr><td>H2O_cluster_allowed_cores:</td>\n",
       "<td>8</td></tr>\n",
       "<tr><td>H2O_cluster_status:</td>\n",
       "<td>accepting new members, healthy</td></tr>\n",
       "<tr><td>H2O_connection_url:</td>\n",
       "<td>http://127.0.0.1:54361</td></tr>\n",
       "<tr><td>H2O_connection_proxy:</td>\n",
       "<td>{\"http\": null, \"https\": null}</td></tr>\n",
       "<tr><td>H2O_internal_security:</td>\n",
       "<td>False</td></tr>\n",
       "<tr><td>H2O_API_Extensions:</td>\n",
       "<td>Amazon S3, XGBoost, Algos, AutoML, Core V3, TargetEncoder, Core V4</td></tr>\n",
       "<tr><td>Python_version:</td>\n",
       "<td>3.7.7 final</td></tr></table></div>"
      ],
      "text/plain": [
       "--------------------------  ------------------------------------------------------------------\n",
       "H2O_cluster_uptime:         02 secs\n",
       "H2O_cluster_timezone:       America/Chicago\n",
       "H2O_data_parsing_timezone:  UTC\n",
       "H2O_cluster_version:        3.30.0.6\n",
       "H2O_cluster_version_age:    16 days\n",
       "H2O_cluster_name:           H2O_from_python_narquette_i6mf3a\n",
       "H2O_cluster_total_nodes:    1\n",
       "H2O_cluster_free_memory:    7.971 Gb\n",
       "H2O_cluster_total_cores:    8\n",
       "H2O_cluster_allowed_cores:  8\n",
       "H2O_cluster_status:         accepting new members, healthy\n",
       "H2O_connection_url:         http://127.0.0.1:54361\n",
       "H2O_connection_proxy:       {\"http\": null, \"https\": null}\n",
       "H2O_internal_security:      False\n",
       "H2O_API_Extensions:         Amazon S3, XGBoost, Algos, AutoML, Core V3, TargetEncoder, Core V4\n",
       "Python_version:             3.7.7 final\n",
       "--------------------------  ------------------------------------------------------------------"
      ]
     },
     "metadata": {},
     "output_type": "display_data"
    },
    {
     "name": "stdout",
     "output_type": "stream",
     "text": [
      "Parse progress: |█████████████████████████████████████████████████████████| 100%\n",
      "Parse progress: |█████████████████████████████████████████████████████████| 100%\n",
      "AutoML progress: |████████████████████████████████████████████████████████| 100%\n"
     ]
    },
    {
     "data": {
      "text/html": [
       "<table>\n",
       "<thead>\n",
       "<tr><th>model_id                                           </th><th style=\"text-align: right;\">  mean_residual_deviance</th><th style=\"text-align: right;\">     rmse</th><th style=\"text-align: right;\">       mse</th><th style=\"text-align: right;\">      mae</th><th style=\"text-align: right;\">    rmsle</th></tr>\n",
       "</thead>\n",
       "<tbody>\n",
       "<tr><td>XGBoost_1_AutoML_20200717_112631                   </td><td style=\"text-align: right;\">              0.00717847</td><td style=\"text-align: right;\">0.0847259</td><td style=\"text-align: right;\">0.00717847</td><td style=\"text-align: right;\">0.0196729</td><td style=\"text-align: right;\">0.0608463</td></tr>\n",
       "<tr><td>XGBoost_2_AutoML_20200717_112631                   </td><td style=\"text-align: right;\">              0.00718743</td><td style=\"text-align: right;\">0.0847787</td><td style=\"text-align: right;\">0.00718743</td><td style=\"text-align: right;\">0.0227101</td><td style=\"text-align: right;\">0.0613897</td></tr>\n",
       "<tr><td>XGBoost_grid__1_AutoML_20200717_112631_model_4     </td><td style=\"text-align: right;\">              0.00758843</td><td style=\"text-align: right;\">0.0871116</td><td style=\"text-align: right;\">0.00758843</td><td style=\"text-align: right;\">0.0196398</td><td style=\"text-align: right;\">0.061566 </td></tr>\n",
       "<tr><td>XGBoost_grid__1_AutoML_20200717_112631_model_3     </td><td style=\"text-align: right;\">              0.00785248</td><td style=\"text-align: right;\">0.0886142</td><td style=\"text-align: right;\">0.00785248</td><td style=\"text-align: right;\">0.0218579</td><td style=\"text-align: right;\">0.0627011</td></tr>\n",
       "<tr><td>XGBoost_3_AutoML_20200717_112631                   </td><td style=\"text-align: right;\">              0.00789872</td><td style=\"text-align: right;\">0.0888747</td><td style=\"text-align: right;\">0.00789872</td><td style=\"text-align: right;\">0.0201867</td><td style=\"text-align: right;\">0.0626735</td></tr>\n",
       "<tr><td>GBM_1_AutoML_20200717_112631                       </td><td style=\"text-align: right;\">              0.0081679 </td><td style=\"text-align: right;\">0.0903764</td><td style=\"text-align: right;\">0.0081679 </td><td style=\"text-align: right;\">0.0216205</td><td style=\"text-align: right;\">0.0642177</td></tr>\n",
       "<tr><td>XGBoost_grid__1_AutoML_20200717_112631_model_1     </td><td style=\"text-align: right;\">              0.00826934</td><td style=\"text-align: right;\">0.0909359</td><td style=\"text-align: right;\">0.00826934</td><td style=\"text-align: right;\">0.0222785</td><td style=\"text-align: right;\">0.0643073</td></tr>\n",
       "<tr><td>GBM_4_AutoML_20200717_112631                       </td><td style=\"text-align: right;\">              0.0084446 </td><td style=\"text-align: right;\">0.0918945</td><td style=\"text-align: right;\">0.0084446 </td><td style=\"text-align: right;\">0.0219729</td><td style=\"text-align: right;\">0.0655244</td></tr>\n",
       "<tr><td>DRF_1_AutoML_20200717_112631                       </td><td style=\"text-align: right;\">              0.00847688</td><td style=\"text-align: right;\">0.09207  </td><td style=\"text-align: right;\">0.00847688</td><td style=\"text-align: right;\">0.01912  </td><td style=\"text-align: right;\">0.0654083</td></tr>\n",
       "<tr><td>XGBoost_grid__1_AutoML_20200717_112631_model_2     </td><td style=\"text-align: right;\">              0.00856493</td><td style=\"text-align: right;\">0.0925469</td><td style=\"text-align: right;\">0.00856493</td><td style=\"text-align: right;\">0.0178279</td><td style=\"text-align: right;\">0.0667286</td></tr>\n",
       "<tr><td>GBM_2_AutoML_20200717_112631                       </td><td style=\"text-align: right;\">              0.00891274</td><td style=\"text-align: right;\">0.0944073</td><td style=\"text-align: right;\">0.00891274</td><td style=\"text-align: right;\">0.023783 </td><td style=\"text-align: right;\">0.0668978</td></tr>\n",
       "<tr><td>GBM_3_AutoML_20200717_112631                       </td><td style=\"text-align: right;\">              0.00891281</td><td style=\"text-align: right;\">0.0944077</td><td style=\"text-align: right;\">0.00891281</td><td style=\"text-align: right;\">0.0219877</td><td style=\"text-align: right;\">0.0666458</td></tr>\n",
       "<tr><td>GBM_grid__1_AutoML_20200717_112631_model_2         </td><td style=\"text-align: right;\">              0.00912604</td><td style=\"text-align: right;\">0.0955303</td><td style=\"text-align: right;\">0.00912604</td><td style=\"text-align: right;\">0.0293918</td><td style=\"text-align: right;\">0.0674206</td></tr>\n",
       "<tr><td>GBM_grid__1_AutoML_20200717_112631_model_1         </td><td style=\"text-align: right;\">              0.00957972</td><td style=\"text-align: right;\">0.097876 </td><td style=\"text-align: right;\">0.00957972</td><td style=\"text-align: right;\">0.0266127</td><td style=\"text-align: right;\">0.0690153</td></tr>\n",
       "<tr><td>GBM_5_AutoML_20200717_112631                       </td><td style=\"text-align: right;\">              0.0105047 </td><td style=\"text-align: right;\">0.102492 </td><td style=\"text-align: right;\">0.0105047 </td><td style=\"text-align: right;\">0.0280756</td><td style=\"text-align: right;\">0.0722161</td></tr>\n",
       "<tr><td>DeepLearning_grid__1_AutoML_20200717_112631_model_1</td><td style=\"text-align: right;\">              0.0116298 </td><td style=\"text-align: right;\">0.107841 </td><td style=\"text-align: right;\">0.0116298 </td><td style=\"text-align: right;\">0.029648 </td><td style=\"text-align: right;\">0.0778077</td></tr>\n",
       "<tr><td>DeepLearning_1_AutoML_20200717_112631              </td><td style=\"text-align: right;\">              0.0119798 </td><td style=\"text-align: right;\">0.109452 </td><td style=\"text-align: right;\">0.0119798 </td><td style=\"text-align: right;\">0.0308517</td><td style=\"text-align: right;\">0.0773754</td></tr>\n",
       "<tr><td>DeepLearning_grid__2_AutoML_20200717_112631_model_1</td><td style=\"text-align: right;\">              0.0192814 </td><td style=\"text-align: right;\">0.138858 </td><td style=\"text-align: right;\">0.0192814 </td><td style=\"text-align: right;\">0.07939  </td><td style=\"text-align: right;\">0.0984455</td></tr>\n",
       "<tr><td>XRT_1_AutoML_20200717_112631                       </td><td style=\"text-align: right;\">              0.0208505 </td><td style=\"text-align: right;\">0.144397 </td><td style=\"text-align: right;\">0.0208505 </td><td style=\"text-align: right;\">0.0645062</td><td style=\"text-align: right;\">0.11145  </td></tr>\n",
       "<tr><td>GLM_1_AutoML_20200717_112631                       </td><td style=\"text-align: right;\">              0.0331298 </td><td style=\"text-align: right;\">0.182016 </td><td style=\"text-align: right;\">0.0331298 </td><td style=\"text-align: right;\">0.0856365</td><td style=\"text-align: right;\">0.129122 </td></tr>\n",
       "</tbody>\n",
       "</table>"
      ]
     },
     "metadata": {},
     "output_type": "display_data"
    },
    {
     "data": {
      "text/plain": []
     },
     "execution_count": 100,
     "metadata": {},
     "output_type": "execute_result"
    }
   ],
   "source": [
    "import h2o\n",
    "import os\n",
    "from h2o.automl import H2OAutoML\n",
    "\n",
    "# initiate h2o\n",
    "h2o.init()\n",
    "\n",
    "# Import claims data (same split used in above modeling) set into H2O\n",
    "train = h2o.import_file(os.path.join('../data', 'train_test_split', 'procedure_train_data.csv'))\n",
    "test = h2o.import_file(os.path.join('../data', 'train_test_split', 'procedure_test_data.csv'))\n",
    "\n",
    "# Identify predictors and response\n",
    "x = train.columns\n",
    "y = \"UnpaidClaim\"\n",
    "x.remove(y)\n",
    "\n",
    "# Run AutoML for 20 base models (limited to 1 hour max runtime by default)\n",
    "# Exclude Stacked Ensemble models as they will not include Feature Importance\n",
    "aml = H2OAutoML(max_models=20, seed=1, exclude_algos=['StackedEnsemble'])\n",
    "aml.train(x=x, y=y, training_frame=train)\n",
    "\n",
    "# View the AutoML Leaderboard\n",
    "lb = aml.leaderboard\n",
    "lb.head(rows=lb.nrows)  # Print all rows instead of default (10 rows)"
   ]
  },
  {
   "cell_type": "code",
   "execution_count": 101,
   "metadata": {
    "ExecuteTime": {
     "end_time": "2020-07-17T16:46:42.025252Z",
     "start_time": "2020-07-17T16:46:41.844953Z"
    },
    "scrolled": false
   },
   "outputs": [
    {
     "name": "stdout",
     "output_type": "stream",
     "text": [
      "Model Details\n",
      "=============\n",
      "H2OXGBoostEstimator :  XGBoost\n",
      "Model Key:  XGBoost_1_AutoML_20200717_112631\n",
      "\n",
      "\n",
      "Model Summary: \n"
     ]
    },
    {
     "data": {
      "text/html": [
       "<div>\n",
       "<style scoped>\n",
       "    .dataframe tbody tr th:only-of-type {\n",
       "        vertical-align: middle;\n",
       "    }\n",
       "\n",
       "    .dataframe tbody tr th {\n",
       "        vertical-align: top;\n",
       "    }\n",
       "\n",
       "    .dataframe thead th {\n",
       "        text-align: right;\n",
       "    }\n",
       "</style>\n",
       "<table border=\"1\" class=\"dataframe\">\n",
       "  <thead>\n",
       "    <tr style=\"text-align: right;\">\n",
       "      <th></th>\n",
       "      <th></th>\n",
       "      <th>number_of_trees</th>\n",
       "    </tr>\n",
       "  </thead>\n",
       "  <tbody>\n",
       "    <tr>\n",
       "      <th>0</th>\n",
       "      <td></td>\n",
       "      <td>83.0</td>\n",
       "    </tr>\n",
       "  </tbody>\n",
       "</table>\n",
       "</div>"
      ],
      "text/plain": [
       "     number_of_trees\n",
       "0               83.0"
      ]
     },
     "metadata": {},
     "output_type": "display_data"
    },
    {
     "name": "stdout",
     "output_type": "stream",
     "text": [
      "\n",
      "\n",
      "ModelMetricsRegression: xgboost\n",
      "** Reported on train data. **\n",
      "\n",
      "MSE: 0.0023899841685693715\n",
      "RMSE: 0.048887464329512645\n",
      "MAE: 0.011791130904479955\n",
      "RMSLE: 0.03464798972534051\n",
      "Mean Residual Deviance: 0.0023899841685693715\n",
      "\n",
      "ModelMetricsRegression: xgboost\n",
      "** Reported on cross-validation data. **\n",
      "\n",
      "MSE: 0.007178471530284623\n",
      "RMSE: 0.0847258610477617\n",
      "MAE: 0.019672870173988877\n",
      "RMSLE: 0.06084626551020727\n",
      "Mean Residual Deviance: 0.007178471530284623\n",
      "\n",
      "Cross-Validation Metrics Summary: \n"
     ]
    },
    {
     "data": {
      "text/html": [
       "<div>\n",
       "<style scoped>\n",
       "    .dataframe tbody tr th:only-of-type {\n",
       "        vertical-align: middle;\n",
       "    }\n",
       "\n",
       "    .dataframe tbody tr th {\n",
       "        vertical-align: top;\n",
       "    }\n",
       "\n",
       "    .dataframe thead th {\n",
       "        text-align: right;\n",
       "    }\n",
       "</style>\n",
       "<table border=\"1\" class=\"dataframe\">\n",
       "  <thead>\n",
       "    <tr style=\"text-align: right;\">\n",
       "      <th></th>\n",
       "      <th></th>\n",
       "      <th>mean</th>\n",
       "      <th>sd</th>\n",
       "      <th>cv_1_valid</th>\n",
       "      <th>cv_2_valid</th>\n",
       "      <th>cv_3_valid</th>\n",
       "      <th>cv_4_valid</th>\n",
       "      <th>cv_5_valid</th>\n",
       "    </tr>\n",
       "  </thead>\n",
       "  <tbody>\n",
       "    <tr>\n",
       "      <th>0</th>\n",
       "      <td>mae</td>\n",
       "      <td>0.019672872</td>\n",
       "      <td>0.0011787636</td>\n",
       "      <td>0.018562853</td>\n",
       "      <td>0.0191269</td>\n",
       "      <td>0.019293455</td>\n",
       "      <td>0.021642497</td>\n",
       "      <td>0.019738656</td>\n",
       "    </tr>\n",
       "    <tr>\n",
       "      <th>1</th>\n",
       "      <td>mean_residual_deviance</td>\n",
       "      <td>0.0071784933</td>\n",
       "      <td>8.3969167E-4</td>\n",
       "      <td>0.0066521894</td>\n",
       "      <td>0.0062998757</td>\n",
       "      <td>0.006802941</td>\n",
       "      <td>0.008219199</td>\n",
       "      <td>0.00791826</td>\n",
       "    </tr>\n",
       "    <tr>\n",
       "      <th>2</th>\n",
       "      <td>mse</td>\n",
       "      <td>0.0071784933</td>\n",
       "      <td>8.3969167E-4</td>\n",
       "      <td>0.0066521894</td>\n",
       "      <td>0.0062998757</td>\n",
       "      <td>0.006802941</td>\n",
       "      <td>0.008219199</td>\n",
       "      <td>0.00791826</td>\n",
       "    </tr>\n",
       "    <tr>\n",
       "      <th>3</th>\n",
       "      <td>r2</td>\n",
       "      <td>0.9321963</td>\n",
       "      <td>0.0069754682</td>\n",
       "      <td>0.9383273</td>\n",
       "      <td>0.93979883</td>\n",
       "      <td>0.93253124</td>\n",
       "      <td>0.92487186</td>\n",
       "      <td>0.9254523</td>\n",
       "    </tr>\n",
       "    <tr>\n",
       "      <th>4</th>\n",
       "      <td>residual_deviance</td>\n",
       "      <td>0.0071784933</td>\n",
       "      <td>8.3969167E-4</td>\n",
       "      <td>0.0066521894</td>\n",
       "      <td>0.0062998757</td>\n",
       "      <td>0.006802941</td>\n",
       "      <td>0.008219199</td>\n",
       "      <td>0.00791826</td>\n",
       "    </tr>\n",
       "    <tr>\n",
       "      <th>5</th>\n",
       "      <td>rmse</td>\n",
       "      <td>0.084611416</td>\n",
       "      <td>0.00492469</td>\n",
       "      <td>0.081560954</td>\n",
       "      <td>0.07937176</td>\n",
       "      <td>0.08247995</td>\n",
       "      <td>0.0906598</td>\n",
       "      <td>0.08898461</td>\n",
       "    </tr>\n",
       "    <tr>\n",
       "      <th>6</th>\n",
       "      <td>rmsle</td>\n",
       "      <td>0.06079998</td>\n",
       "      <td>0.0026542128</td>\n",
       "      <td>0.05935502</td>\n",
       "      <td>0.058489535</td>\n",
       "      <td>0.059115287</td>\n",
       "      <td>0.0647686</td>\n",
       "      <td>0.062271446</td>\n",
       "    </tr>\n",
       "  </tbody>\n",
       "</table>\n",
       "</div>"
      ],
      "text/plain": [
       "                                   mean            sd    cv_1_valid  \\\n",
       "0                     mae   0.019672872  0.0011787636   0.018562853   \n",
       "1  mean_residual_deviance  0.0071784933  8.3969167E-4  0.0066521894   \n",
       "2                     mse  0.0071784933  8.3969167E-4  0.0066521894   \n",
       "3                      r2     0.9321963  0.0069754682     0.9383273   \n",
       "4       residual_deviance  0.0071784933  8.3969167E-4  0.0066521894   \n",
       "5                    rmse   0.084611416    0.00492469   0.081560954   \n",
       "6                   rmsle    0.06079998  0.0026542128    0.05935502   \n",
       "\n",
       "     cv_2_valid   cv_3_valid   cv_4_valid   cv_5_valid  \n",
       "0     0.0191269  0.019293455  0.021642497  0.019738656  \n",
       "1  0.0062998757  0.006802941  0.008219199   0.00791826  \n",
       "2  0.0062998757  0.006802941  0.008219199   0.00791826  \n",
       "3    0.93979883   0.93253124   0.92487186    0.9254523  \n",
       "4  0.0062998757  0.006802941  0.008219199   0.00791826  \n",
       "5    0.07937176   0.08247995    0.0906598   0.08898461  \n",
       "6   0.058489535  0.059115287    0.0647686  0.062271446  "
      ]
     },
     "metadata": {},
     "output_type": "display_data"
    },
    {
     "name": "stdout",
     "output_type": "stream",
     "text": [
      "\n",
      "Scoring History: \n"
     ]
    },
    {
     "data": {
      "text/html": [
       "<div>\n",
       "<style scoped>\n",
       "    .dataframe tbody tr th:only-of-type {\n",
       "        vertical-align: middle;\n",
       "    }\n",
       "\n",
       "    .dataframe tbody tr th {\n",
       "        vertical-align: top;\n",
       "    }\n",
       "\n",
       "    .dataframe thead th {\n",
       "        text-align: right;\n",
       "    }\n",
       "</style>\n",
       "<table border=\"1\" class=\"dataframe\">\n",
       "  <thead>\n",
       "    <tr style=\"text-align: right;\">\n",
       "      <th></th>\n",
       "      <th></th>\n",
       "      <th>timestamp</th>\n",
       "      <th>duration</th>\n",
       "      <th>number_of_trees</th>\n",
       "      <th>training_rmse</th>\n",
       "      <th>training_mae</th>\n",
       "      <th>training_deviance</th>\n",
       "    </tr>\n",
       "  </thead>\n",
       "  <tbody>\n",
       "    <tr>\n",
       "      <th>0</th>\n",
       "      <td></td>\n",
       "      <td>2020-07-17 11:26:57</td>\n",
       "      <td>26.700 sec</td>\n",
       "      <td>0.0</td>\n",
       "      <td>0.500000</td>\n",
       "      <td>0.500000</td>\n",
       "      <td>0.250000</td>\n",
       "    </tr>\n",
       "    <tr>\n",
       "      <th>1</th>\n",
       "      <td></td>\n",
       "      <td>2020-07-17 11:26:58</td>\n",
       "      <td>27.109 sec</td>\n",
       "      <td>5.0</td>\n",
       "      <td>0.120320</td>\n",
       "      <td>0.099103</td>\n",
       "      <td>0.014477</td>\n",
       "    </tr>\n",
       "    <tr>\n",
       "      <th>2</th>\n",
       "      <td></td>\n",
       "      <td>2020-07-17 11:26:58</td>\n",
       "      <td>27.320 sec</td>\n",
       "      <td>10.0</td>\n",
       "      <td>0.075238</td>\n",
       "      <td>0.028167</td>\n",
       "      <td>0.005661</td>\n",
       "    </tr>\n",
       "    <tr>\n",
       "      <th>3</th>\n",
       "      <td></td>\n",
       "      <td>2020-07-17 11:26:58</td>\n",
       "      <td>27.492 sec</td>\n",
       "      <td>15.0</td>\n",
       "      <td>0.067929</td>\n",
       "      <td>0.015982</td>\n",
       "      <td>0.004614</td>\n",
       "    </tr>\n",
       "    <tr>\n",
       "      <th>4</th>\n",
       "      <td></td>\n",
       "      <td>2020-07-17 11:26:58</td>\n",
       "      <td>27.664 sec</td>\n",
       "      <td>20.0</td>\n",
       "      <td>0.065830</td>\n",
       "      <td>0.014110</td>\n",
       "      <td>0.004334</td>\n",
       "    </tr>\n",
       "    <tr>\n",
       "      <th>5</th>\n",
       "      <td></td>\n",
       "      <td>2020-07-17 11:26:59</td>\n",
       "      <td>27.870 sec</td>\n",
       "      <td>25.0</td>\n",
       "      <td>0.063442</td>\n",
       "      <td>0.013327</td>\n",
       "      <td>0.004025</td>\n",
       "    </tr>\n",
       "    <tr>\n",
       "      <th>6</th>\n",
       "      <td></td>\n",
       "      <td>2020-07-17 11:26:59</td>\n",
       "      <td>28.056 sec</td>\n",
       "      <td>30.0</td>\n",
       "      <td>0.061610</td>\n",
       "      <td>0.013221</td>\n",
       "      <td>0.003796</td>\n",
       "    </tr>\n",
       "    <tr>\n",
       "      <th>7</th>\n",
       "      <td></td>\n",
       "      <td>2020-07-17 11:26:59</td>\n",
       "      <td>28.248 sec</td>\n",
       "      <td>35.0</td>\n",
       "      <td>0.059903</td>\n",
       "      <td>0.012876</td>\n",
       "      <td>0.003588</td>\n",
       "    </tr>\n",
       "    <tr>\n",
       "      <th>8</th>\n",
       "      <td></td>\n",
       "      <td>2020-07-17 11:26:59</td>\n",
       "      <td>28.452 sec</td>\n",
       "      <td>40.0</td>\n",
       "      <td>0.058815</td>\n",
       "      <td>0.012824</td>\n",
       "      <td>0.003459</td>\n",
       "    </tr>\n",
       "    <tr>\n",
       "      <th>9</th>\n",
       "      <td></td>\n",
       "      <td>2020-07-17 11:26:59</td>\n",
       "      <td>28.644 sec</td>\n",
       "      <td>45.0</td>\n",
       "      <td>0.058249</td>\n",
       "      <td>0.012896</td>\n",
       "      <td>0.003393</td>\n",
       "    </tr>\n",
       "    <tr>\n",
       "      <th>10</th>\n",
       "      <td></td>\n",
       "      <td>2020-07-17 11:27:00</td>\n",
       "      <td>29.047 sec</td>\n",
       "      <td>50.0</td>\n",
       "      <td>0.057357</td>\n",
       "      <td>0.012885</td>\n",
       "      <td>0.003290</td>\n",
       "    </tr>\n",
       "    <tr>\n",
       "      <th>11</th>\n",
       "      <td></td>\n",
       "      <td>2020-07-17 11:27:00</td>\n",
       "      <td>29.297 sec</td>\n",
       "      <td>55.0</td>\n",
       "      <td>0.055721</td>\n",
       "      <td>0.012699</td>\n",
       "      <td>0.003105</td>\n",
       "    </tr>\n",
       "    <tr>\n",
       "      <th>12</th>\n",
       "      <td></td>\n",
       "      <td>2020-07-17 11:27:01</td>\n",
       "      <td>29.782 sec</td>\n",
       "      <td>60.0</td>\n",
       "      <td>0.053736</td>\n",
       "      <td>0.012493</td>\n",
       "      <td>0.002888</td>\n",
       "    </tr>\n",
       "    <tr>\n",
       "      <th>13</th>\n",
       "      <td></td>\n",
       "      <td>2020-07-17 11:27:01</td>\n",
       "      <td>30.188 sec</td>\n",
       "      <td>65.0</td>\n",
       "      <td>0.052833</td>\n",
       "      <td>0.012390</td>\n",
       "      <td>0.002791</td>\n",
       "    </tr>\n",
       "    <tr>\n",
       "      <th>14</th>\n",
       "      <td></td>\n",
       "      <td>2020-07-17 11:27:01</td>\n",
       "      <td>30.551 sec</td>\n",
       "      <td>70.0</td>\n",
       "      <td>0.050901</td>\n",
       "      <td>0.012192</td>\n",
       "      <td>0.002591</td>\n",
       "    </tr>\n",
       "    <tr>\n",
       "      <th>15</th>\n",
       "      <td></td>\n",
       "      <td>2020-07-17 11:27:02</td>\n",
       "      <td>30.853 sec</td>\n",
       "      <td>75.0</td>\n",
       "      <td>0.049525</td>\n",
       "      <td>0.011874</td>\n",
       "      <td>0.002453</td>\n",
       "    </tr>\n",
       "    <tr>\n",
       "      <th>16</th>\n",
       "      <td></td>\n",
       "      <td>2020-07-17 11:27:02</td>\n",
       "      <td>31.147 sec</td>\n",
       "      <td>80.0</td>\n",
       "      <td>0.048994</td>\n",
       "      <td>0.011796</td>\n",
       "      <td>0.002400</td>\n",
       "    </tr>\n",
       "    <tr>\n",
       "      <th>17</th>\n",
       "      <td></td>\n",
       "      <td>2020-07-17 11:27:02</td>\n",
       "      <td>31.379 sec</td>\n",
       "      <td>83.0</td>\n",
       "      <td>0.048887</td>\n",
       "      <td>0.011791</td>\n",
       "      <td>0.002390</td>\n",
       "    </tr>\n",
       "  </tbody>\n",
       "</table>\n",
       "</div>"
      ],
      "text/plain": [
       "                timestamp    duration  number_of_trees  training_rmse  \\\n",
       "0     2020-07-17 11:26:57  26.700 sec              0.0       0.500000   \n",
       "1     2020-07-17 11:26:58  27.109 sec              5.0       0.120320   \n",
       "2     2020-07-17 11:26:58  27.320 sec             10.0       0.075238   \n",
       "3     2020-07-17 11:26:58  27.492 sec             15.0       0.067929   \n",
       "4     2020-07-17 11:26:58  27.664 sec             20.0       0.065830   \n",
       "5     2020-07-17 11:26:59  27.870 sec             25.0       0.063442   \n",
       "6     2020-07-17 11:26:59  28.056 sec             30.0       0.061610   \n",
       "7     2020-07-17 11:26:59  28.248 sec             35.0       0.059903   \n",
       "8     2020-07-17 11:26:59  28.452 sec             40.0       0.058815   \n",
       "9     2020-07-17 11:26:59  28.644 sec             45.0       0.058249   \n",
       "10    2020-07-17 11:27:00  29.047 sec             50.0       0.057357   \n",
       "11    2020-07-17 11:27:00  29.297 sec             55.0       0.055721   \n",
       "12    2020-07-17 11:27:01  29.782 sec             60.0       0.053736   \n",
       "13    2020-07-17 11:27:01  30.188 sec             65.0       0.052833   \n",
       "14    2020-07-17 11:27:01  30.551 sec             70.0       0.050901   \n",
       "15    2020-07-17 11:27:02  30.853 sec             75.0       0.049525   \n",
       "16    2020-07-17 11:27:02  31.147 sec             80.0       0.048994   \n",
       "17    2020-07-17 11:27:02  31.379 sec             83.0       0.048887   \n",
       "\n",
       "    training_mae  training_deviance  \n",
       "0       0.500000           0.250000  \n",
       "1       0.099103           0.014477  \n",
       "2       0.028167           0.005661  \n",
       "3       0.015982           0.004614  \n",
       "4       0.014110           0.004334  \n",
       "5       0.013327           0.004025  \n",
       "6       0.013221           0.003796  \n",
       "7       0.012876           0.003588  \n",
       "8       0.012824           0.003459  \n",
       "9       0.012896           0.003393  \n",
       "10      0.012885           0.003290  \n",
       "11      0.012699           0.003105  \n",
       "12      0.012493           0.002888  \n",
       "13      0.012390           0.002791  \n",
       "14      0.012192           0.002591  \n",
       "15      0.011874           0.002453  \n",
       "16      0.011796           0.002400  \n",
       "17      0.011791           0.002390  "
      ]
     },
     "metadata": {},
     "output_type": "display_data"
    },
    {
     "name": "stdout",
     "output_type": "stream",
     "text": [
      "\n",
      "Variable Importances: \n"
     ]
    },
    {
     "data": {
      "text/html": [
       "<div>\n",
       "<style scoped>\n",
       "    .dataframe tbody tr th:only-of-type {\n",
       "        vertical-align: middle;\n",
       "    }\n",
       "\n",
       "    .dataframe tbody tr th {\n",
       "        vertical-align: top;\n",
       "    }\n",
       "\n",
       "    .dataframe thead th {\n",
       "        text-align: right;\n",
       "    }\n",
       "</style>\n",
       "<table border=\"1\" class=\"dataframe\">\n",
       "  <thead>\n",
       "    <tr style=\"text-align: right;\">\n",
       "      <th></th>\n",
       "      <th>variable</th>\n",
       "      <th>relative_importance</th>\n",
       "      <th>scaled_importance</th>\n",
       "      <th>percentage</th>\n",
       "    </tr>\n",
       "  </thead>\n",
       "  <tbody>\n",
       "    <tr>\n",
       "      <th>0</th>\n",
       "      <td>Denial.Reason.Code.K62</td>\n",
       "      <td>1327.771606</td>\n",
       "      <td>1.000000</td>\n",
       "      <td>0.304688</td>\n",
       "    </tr>\n",
       "    <tr>\n",
       "      <th>1</th>\n",
       "      <td>Agreement.ID.A00BLCH0Q001</td>\n",
       "      <td>792.498901</td>\n",
       "      <td>0.596864</td>\n",
       "      <td>0.181857</td>\n",
       "    </tr>\n",
       "    <tr>\n",
       "      <th>2</th>\n",
       "      <td>Denial.Reason.Code.PDC</td>\n",
       "      <td>547.635559</td>\n",
       "      <td>0.412447</td>\n",
       "      <td>0.125668</td>\n",
       "    </tr>\n",
       "    <tr>\n",
       "      <th>3</th>\n",
       "      <td>Denial.Reason.Code.missing(NA)</td>\n",
       "      <td>223.383286</td>\n",
       "      <td>0.168239</td>\n",
       "      <td>0.051260</td>\n",
       "    </tr>\n",
       "    <tr>\n",
       "      <th>4</th>\n",
       "      <td>Group.Index</td>\n",
       "      <td>214.180481</td>\n",
       "      <td>0.161308</td>\n",
       "      <td>0.049149</td>\n",
       "    </tr>\n",
       "    <tr>\n",
       "      <th>5</th>\n",
       "      <td>Subscriber.Index</td>\n",
       "      <td>160.782822</td>\n",
       "      <td>0.121092</td>\n",
       "      <td>0.036895</td>\n",
       "    </tr>\n",
       "    <tr>\n",
       "      <th>6</th>\n",
       "      <td>Price.Index.E</td>\n",
       "      <td>137.110077</td>\n",
       "      <td>0.103263</td>\n",
       "      <td>0.031463</td>\n",
       "    </tr>\n",
       "    <tr>\n",
       "      <th>7</th>\n",
       "      <td>Diagnosis.Code</td>\n",
       "      <td>111.319565</td>\n",
       "      <td>0.083839</td>\n",
       "      <td>0.025545</td>\n",
       "    </tr>\n",
       "    <tr>\n",
       "      <th>8</th>\n",
       "      <td>Service.Code.OP7O</td>\n",
       "      <td>89.390167</td>\n",
       "      <td>0.067323</td>\n",
       "      <td>0.020513</td>\n",
       "    </tr>\n",
       "    <tr>\n",
       "      <th>9</th>\n",
       "      <td>Claim.Type.E</td>\n",
       "      <td>85.738663</td>\n",
       "      <td>0.064573</td>\n",
       "      <td>0.019675</td>\n",
       "    </tr>\n",
       "    <tr>\n",
       "      <th>10</th>\n",
       "      <td>Claim.Charge.Amount</td>\n",
       "      <td>63.144135</td>\n",
       "      <td>0.047556</td>\n",
       "      <td>0.014490</td>\n",
       "    </tr>\n",
       "    <tr>\n",
       "      <th>11</th>\n",
       "      <td>Line.Of.Business.ID</td>\n",
       "      <td>55.791855</td>\n",
       "      <td>0.042019</td>\n",
       "      <td>0.012803</td>\n",
       "    </tr>\n",
       "    <tr>\n",
       "      <th>12</th>\n",
       "      <td>Price.Index.missing(NA)</td>\n",
       "      <td>44.541393</td>\n",
       "      <td>0.033546</td>\n",
       "      <td>0.010221</td>\n",
       "    </tr>\n",
       "    <tr>\n",
       "      <th>13</th>\n",
       "      <td>Network.ID.MGMAPD000001</td>\n",
       "      <td>40.673836</td>\n",
       "      <td>0.030633</td>\n",
       "      <td>0.009334</td>\n",
       "    </tr>\n",
       "    <tr>\n",
       "      <th>14</th>\n",
       "      <td>Denial.Reason.Code.J6T</td>\n",
       "      <td>39.690571</td>\n",
       "      <td>0.029893</td>\n",
       "      <td>0.009108</td>\n",
       "    </tr>\n",
       "    <tr>\n",
       "      <th>15</th>\n",
       "      <td>Reference.Index.N</td>\n",
       "      <td>39.064793</td>\n",
       "      <td>0.029421</td>\n",
       "      <td>0.008964</td>\n",
       "    </tr>\n",
       "    <tr>\n",
       "      <th>16</th>\n",
       "      <td>Denial.Reason.Code.F13</td>\n",
       "      <td>32.193474</td>\n",
       "      <td>0.024246</td>\n",
       "      <td>0.007388</td>\n",
       "    </tr>\n",
       "    <tr>\n",
       "      <th>17</th>\n",
       "      <td>Claim.Current.Status</td>\n",
       "      <td>23.185822</td>\n",
       "      <td>0.017462</td>\n",
       "      <td>0.005321</td>\n",
       "    </tr>\n",
       "    <tr>\n",
       "      <th>18</th>\n",
       "      <td>Denial.Reason.Code.K54</td>\n",
       "      <td>21.330725</td>\n",
       "      <td>0.016065</td>\n",
       "      <td>0.004895</td>\n",
       "    </tr>\n",
       "    <tr>\n",
       "      <th>19</th>\n",
       "      <td>Network.ID.MIMAPD000002</td>\n",
       "      <td>20.026968</td>\n",
       "      <td>0.015083</td>\n",
       "      <td>0.004596</td>\n",
       "    </tr>\n",
       "  </tbody>\n",
       "</table>\n",
       "</div>"
      ],
      "text/plain": [
       "                          variable  relative_importance  scaled_importance  \\\n",
       "0           Denial.Reason.Code.K62          1327.771606           1.000000   \n",
       "1        Agreement.ID.A00BLCH0Q001           792.498901           0.596864   \n",
       "2           Denial.Reason.Code.PDC           547.635559           0.412447   \n",
       "3   Denial.Reason.Code.missing(NA)           223.383286           0.168239   \n",
       "4                      Group.Index           214.180481           0.161308   \n",
       "5                 Subscriber.Index           160.782822           0.121092   \n",
       "6                    Price.Index.E           137.110077           0.103263   \n",
       "7                   Diagnosis.Code           111.319565           0.083839   \n",
       "8                Service.Code.OP7O            89.390167           0.067323   \n",
       "9                     Claim.Type.E            85.738663           0.064573   \n",
       "10             Claim.Charge.Amount            63.144135           0.047556   \n",
       "11             Line.Of.Business.ID            55.791855           0.042019   \n",
       "12         Price.Index.missing(NA)            44.541393           0.033546   \n",
       "13         Network.ID.MGMAPD000001            40.673836           0.030633   \n",
       "14          Denial.Reason.Code.J6T            39.690571           0.029893   \n",
       "15               Reference.Index.N            39.064793           0.029421   \n",
       "16          Denial.Reason.Code.F13            32.193474           0.024246   \n",
       "17            Claim.Current.Status            23.185822           0.017462   \n",
       "18          Denial.Reason.Code.K54            21.330725           0.016065   \n",
       "19         Network.ID.MIMAPD000002            20.026968           0.015083   \n",
       "\n",
       "    percentage  \n",
       "0     0.304688  \n",
       "1     0.181857  \n",
       "2     0.125668  \n",
       "3     0.051260  \n",
       "4     0.049149  \n",
       "5     0.036895  \n",
       "6     0.031463  \n",
       "7     0.025545  \n",
       "8     0.020513  \n",
       "9     0.019675  \n",
       "10    0.014490  \n",
       "11    0.012803  \n",
       "12    0.010221  \n",
       "13    0.009334  \n",
       "14    0.009108  \n",
       "15    0.008964  \n",
       "16    0.007388  \n",
       "17    0.005321  \n",
       "18    0.004895  \n",
       "19    0.004596  "
      ]
     },
     "metadata": {},
     "output_type": "display_data"
    },
    {
     "name": "stdout",
     "output_type": "stream",
     "text": [
      "\n",
      "See the whole table with table.as_data_frame()\n"
     ]
    },
    {
     "data": {
      "text/plain": []
     },
     "execution_count": 101,
     "metadata": {},
     "output_type": "execute_result"
    }
   ],
   "source": [
    "# The leader model is stored here\n",
    "aml.leader"
   ]
  }
 ],
 "metadata": {
  "kernelspec": {
   "display_name": "Python (claims)",
   "language": "python",
   "name": "claims"
  },
  "language_info": {
   "codemirror_mode": {
    "name": "ipython",
    "version": 3
   },
   "file_extension": ".py",
   "mimetype": "text/x-python",
   "name": "python",
   "nbconvert_exporter": "python",
   "pygments_lexer": "ipython3",
   "version": "3.7.7"
  },
  "toc": {
   "base_numbering": 1,
   "nav_menu": {},
   "number_sections": true,
   "sideBar": true,
   "skip_h1_title": false,
   "title_cell": "Table of Contents",
   "title_sidebar": "Contents",
   "toc_cell": false,
   "toc_position": {
    "height": "calc(100% - 180px)",
    "left": "10px",
    "top": "150px",
    "width": "307.594px"
   },
   "toc_section_display": true,
   "toc_window_display": true
  }
 },
 "nbformat": 4,
 "nbformat_minor": 4
}
