{
 "cells": [
  {
   "cell_type": "markdown",
   "metadata": {},
   "source": [
    "# Import modules"
   ]
  },
  {
   "cell_type": "code",
   "execution_count": 6,
   "metadata": {
    "ExecuteTime": {
     "end_time": "2020-07-21T01:24:29.112901Z",
     "start_time": "2020-07-21T01:24:29.110030Z"
    }
   },
   "outputs": [],
   "source": [
    "import os\n",
    "import pandas as pd\n",
    "import numpy as np\n",
    "import pickle\n",
    "from helperFile import dropped_columns"
   ]
  },
  {
   "cell_type": "markdown",
   "metadata": {},
   "source": [
    "# Load model and data"
   ]
  },
  {
   "cell_type": "code",
   "execution_count": 7,
   "metadata": {
    "ExecuteTime": {
     "end_time": "2020-07-21T01:24:30.362889Z",
     "start_time": "2020-07-21T01:24:30.121197Z"
    }
   },
   "outputs": [],
   "source": [
    "# enter model name\n",
    "model = 'RandomForest.sav'\n",
    "\n",
    "# load model\n",
    "load_model = pickle.load(open(os.path.join('../models', model), 'rb'))\n",
    "        \n",
    "# get test data\n",
    "test_data = pd.read_csv(os.path.join('../data','original','procedure_data.tar.gz'), low_memory=False)\n",
    "\n",
    "# copy dataframe\n",
    "pred_data = test_data.copy()\n",
    "\n",
    "# drop columns\n",
    "pred_data.drop(dropped_columns, inplace=True, axis=1)\n",
    "\n"
   ]
  },
  {
   "cell_type": "markdown",
   "metadata": {},
   "source": [
    "# Perform Predictions"
   ]
  },
  {
   "cell_type": "code",
   "execution_count": 8,
   "metadata": {
    "ExecuteTime": {
     "end_time": "2020-07-21T01:24:31.390451Z",
     "start_time": "2020-07-21T01:24:31.039630Z"
    }
   },
   "outputs": [
    {
     "data": {
      "text/html": [
       "<div>\n",
       "<style scoped>\n",
       "    .dataframe tbody tr th:only-of-type {\n",
       "        vertical-align: middle;\n",
       "    }\n",
       "\n",
       "    .dataframe tbody tr th {\n",
       "        vertical-align: top;\n",
       "    }\n",
       "\n",
       "    .dataframe thead th {\n",
       "        text-align: right;\n",
       "    }\n",
       "</style>\n",
       "<table border=\"1\" class=\"dataframe\">\n",
       "  <thead>\n",
       "    <tr style=\"text-align: right;\">\n",
       "      <th></th>\n",
       "      <th>Claim Number</th>\n",
       "      <th>Claim Line Number</th>\n",
       "      <th>Observed UnPaid Status</th>\n",
       "      <th>Predicted UnPaid Status</th>\n",
       "    </tr>\n",
       "  </thead>\n",
       "  <tbody>\n",
       "    <tr>\n",
       "      <th>0</th>\n",
       "      <td>74645490</td>\n",
       "      <td>10</td>\n",
       "      <td>1</td>\n",
       "      <td>1</td>\n",
       "    </tr>\n",
       "    <tr>\n",
       "      <th>1</th>\n",
       "      <td>18860690</td>\n",
       "      <td>8</td>\n",
       "      <td>1</td>\n",
       "      <td>1</td>\n",
       "    </tr>\n",
       "    <tr>\n",
       "      <th>2</th>\n",
       "      <td>18860690</td>\n",
       "      <td>9</td>\n",
       "      <td>1</td>\n",
       "      <td>1</td>\n",
       "    </tr>\n",
       "    <tr>\n",
       "      <th>3</th>\n",
       "      <td>281757390</td>\n",
       "      <td>10</td>\n",
       "      <td>1</td>\n",
       "      <td>1</td>\n",
       "    </tr>\n",
       "    <tr>\n",
       "      <th>4</th>\n",
       "      <td>450273590</td>\n",
       "      <td>10</td>\n",
       "      <td>1</td>\n",
       "      <td>1</td>\n",
       "    </tr>\n",
       "  </tbody>\n",
       "</table>\n",
       "</div>"
      ],
      "text/plain": [
       "   Claim Number  Claim Line Number  Observed UnPaid Status  \\\n",
       "0      74645490                 10                       1   \n",
       "1      18860690                  8                       1   \n",
       "2      18860690                  9                       1   \n",
       "3     281757390                 10                       1   \n",
       "4     450273590                 10                       1   \n",
       "\n",
       "   Predicted UnPaid Status  \n",
       "0                        1  \n",
       "1                        1  \n",
       "2                        1  \n",
       "3                        1  \n",
       "4                        1  "
      ]
     },
     "execution_count": 8,
     "metadata": {},
     "output_type": "execute_result"
    }
   ],
   "source": [
    "# perform predictions                         \n",
    "predictions = load_model.predict(pred_data)\n",
    "        \n",
    "# store results in a dataframe\n",
    "results_df = pd.DataFrame()\n",
    "results_df['Claim Number'] = test_data['Claim.Number']\n",
    "results_df['Claim Line Number'] = test_data['Claim.Line.Number']\n",
    "results_df['Observed UnPaid Status'] = test_data['UnpaidClaim']\n",
    "results_df['Predicted UnPaid Status'] = predictions\n",
    "results_df.head()"
   ]
  },
  {
   "cell_type": "markdown",
   "metadata": {},
   "source": [
    "# Show sample data that was predicted as positive"
   ]
  },
  {
   "cell_type": "code",
   "execution_count": 9,
   "metadata": {
    "ExecuteTime": {
     "end_time": "2020-07-21T01:24:32.329170Z",
     "start_time": "2020-07-21T01:24:32.308284Z"
    }
   },
   "outputs": [
    {
     "data": {
      "text/html": [
       "<div>\n",
       "<style scoped>\n",
       "    .dataframe tbody tr th:only-of-type {\n",
       "        vertical-align: middle;\n",
       "    }\n",
       "\n",
       "    .dataframe tbody tr th {\n",
       "        vertical-align: top;\n",
       "    }\n",
       "\n",
       "    .dataframe thead th {\n",
       "        text-align: right;\n",
       "    }\n",
       "</style>\n",
       "<table border=\"1\" class=\"dataframe\">\n",
       "  <thead>\n",
       "    <tr style=\"text-align: right;\">\n",
       "      <th></th>\n",
       "      <th>Claim.Number</th>\n",
       "      <th>Claim.Line.Number</th>\n",
       "      <th>Member.ID</th>\n",
       "      <th>Provider.ID</th>\n",
       "      <th>Line.Of.Business.ID</th>\n",
       "      <th>Revenue.Code</th>\n",
       "      <th>Service.Code</th>\n",
       "      <th>Place.Of.Service.Code</th>\n",
       "      <th>Procedure.Code</th>\n",
       "      <th>Diagnosis.Code</th>\n",
       "      <th>...</th>\n",
       "      <th>Group.Index</th>\n",
       "      <th>Subscriber.Index</th>\n",
       "      <th>Subgroup.Index</th>\n",
       "      <th>Claim.Type</th>\n",
       "      <th>Claim.Subscriber.Type</th>\n",
       "      <th>Claim.Pre.Prince.Index</th>\n",
       "      <th>Claim.Current.Status</th>\n",
       "      <th>Network.ID</th>\n",
       "      <th>Agreement.ID</th>\n",
       "      <th>UnpaidClaim</th>\n",
       "    </tr>\n",
       "  </thead>\n",
       "  <tbody>\n",
       "    <tr>\n",
       "      <th>1</th>\n",
       "      <td>18860690</td>\n",
       "      <td>8</td>\n",
       "      <td>22808129</td>\n",
       "      <td>FA0001389001</td>\n",
       "      <td>1</td>\n",
       "      <td>636</td>\n",
       "      <td>OP7O</td>\n",
       "      <td></td>\n",
       "      <td>J2405</td>\n",
       "      <td>64303</td>\n",
       "      <td>...</td>\n",
       "      <td>275</td>\n",
       "      <td>18475600</td>\n",
       "      <td>483</td>\n",
       "      <td>M</td>\n",
       "      <td>H</td>\n",
       "      <td></td>\n",
       "      <td>2</td>\n",
       "      <td>H00000000001</td>\n",
       "      <td>FH001886QH01</td>\n",
       "      <td>1</td>\n",
       "    </tr>\n",
       "    <tr>\n",
       "      <th>2</th>\n",
       "      <td>18860690</td>\n",
       "      <td>9</td>\n",
       "      <td>22808129</td>\n",
       "      <td>FA0001389001</td>\n",
       "      <td>1</td>\n",
       "      <td>636</td>\n",
       "      <td>OP7O</td>\n",
       "      <td></td>\n",
       "      <td>J7030</td>\n",
       "      <td>64303</td>\n",
       "      <td>...</td>\n",
       "      <td>275</td>\n",
       "      <td>18475600</td>\n",
       "      <td>483</td>\n",
       "      <td>M</td>\n",
       "      <td>H</td>\n",
       "      <td></td>\n",
       "      <td>2</td>\n",
       "      <td>H00000000001</td>\n",
       "      <td>FH001886QH01</td>\n",
       "      <td>1</td>\n",
       "    </tr>\n",
       "  </tbody>\n",
       "</table>\n",
       "<p>2 rows × 29 columns</p>\n",
       "</div>"
      ],
      "text/plain": [
       "   Claim.Number  Claim.Line.Number  Member.ID   Provider.ID  \\\n",
       "1      18860690                  8   22808129  FA0001389001   \n",
       "2      18860690                  9   22808129  FA0001389001   \n",
       "\n",
       "  Line.Of.Business.ID Revenue.Code Service.Code Place.Of.Service.Code  \\\n",
       "1                   1          636         OP7O                         \n",
       "2                   1          636         OP7O                         \n",
       "\n",
       "  Procedure.Code Diagnosis.Code  ...  Group.Index Subscriber.Index  \\\n",
       "1          J2405          64303  ...          275         18475600   \n",
       "2          J7030          64303  ...          275         18475600   \n",
       "\n",
       "  Subgroup.Index Claim.Type Claim.Subscriber.Type Claim.Pre.Prince.Index  \\\n",
       "1            483          M                     H                          \n",
       "2            483          M                     H                          \n",
       "\n",
       "  Claim.Current.Status    Network.ID  Agreement.ID  UnpaidClaim  \n",
       "1                    2  H00000000001  FH001886QH01            1  \n",
       "2                    2  H00000000001  FH001886QH01            1  \n",
       "\n",
       "[2 rows x 29 columns]"
      ]
     },
     "execution_count": 9,
     "metadata": {},
     "output_type": "execute_result"
    }
   ],
   "source": [
    "# show a full row of data for above samples\n",
    "test_data.loc[test_data['Claim.Number'] == 18860690]"
   ]
  },
  {
   "cell_type": "code",
   "execution_count": null,
   "metadata": {},
   "outputs": [],
   "source": []
  }
 ],
 "metadata": {
  "kernelspec": {
   "display_name": "Python (claims)",
   "language": "python",
   "name": "claims"
  },
  "language_info": {
   "codemirror_mode": {
    "name": "ipython",
    "version": 3
   },
   "file_extension": ".py",
   "mimetype": "text/x-python",
   "name": "python",
   "nbconvert_exporter": "python",
   "pygments_lexer": "ipython3",
   "version": "3.7.7"
  },
  "toc": {
   "base_numbering": 1,
   "nav_menu": {},
   "number_sections": true,
   "sideBar": true,
   "skip_h1_title": false,
   "title_cell": "Table of Contents",
   "title_sidebar": "Contents",
   "toc_cell": false,
   "toc_position": {},
   "toc_section_display": true,
   "toc_window_display": false
  }
 },
 "nbformat": 4,
 "nbformat_minor": 4
}
