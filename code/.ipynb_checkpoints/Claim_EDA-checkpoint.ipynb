{
 "cells": [
  {
   "cell_type": "markdown",
   "metadata": {},
   "source": [
    "# ------ Import Modules ------"
   ]
  },
  {
   "cell_type": "code",
   "execution_count": 1,
   "metadata": {
    "ExecuteTime": {
     "end_time": "2020-07-17T18:09:32.111036Z",
     "start_time": "2020-07-17T18:09:29.274572Z"
    }
   },
   "outputs": [],
   "source": [
    "# import necessary modules\n",
    "import pandas as pd\n",
    "import numpy as np\n",
    "import warnings\n",
    "import seaborn as sns\n",
    "import matplotlib.pyplot as plt\n",
    "import os \n",
    "from pandas_profiling import ProfileReport\n",
    "from helperFile import GetProviderCount, MachineLearning, data_types\n",
    "from IPython.display import HTML, IFrame\n",
    "\n",
    "# suppress warnings\n",
    "warnings.filterwarnings('ignore')"
   ]
  },
  {
   "cell_type": "markdown",
   "metadata": {},
   "source": [
    "# ------ Exploratory Data Analysis ------"
   ]
  },
  {
   "cell_type": "markdown",
   "metadata": {},
   "source": [
    "## Load Data"
   ]
  },
  {
   "cell_type": "code",
   "execution_count": 2,
   "metadata": {
    "ExecuteTime": {
     "end_time": "2020-07-17T18:09:37.722248Z",
     "start_time": "2020-07-17T18:09:33.993548Z"
    }
   },
   "outputs": [
    {
     "data": {
      "text/html": [
       "<div>\n",
       "<style scoped>\n",
       "    .dataframe tbody tr th:only-of-type {\n",
       "        vertical-align: middle;\n",
       "    }\n",
       "\n",
       "    .dataframe tbody tr th {\n",
       "        vertical-align: top;\n",
       "    }\n",
       "\n",
       "    .dataframe thead th {\n",
       "        text-align: right;\n",
       "    }\n",
       "</style>\n",
       "<table border=\"1\" class=\"dataframe\">\n",
       "  <thead>\n",
       "    <tr style=\"text-align: right;\">\n",
       "      <th></th>\n",
       "      <th>Claim.Number</th>\n",
       "      <th>Claim.Line.Number</th>\n",
       "      <th>Member.ID</th>\n",
       "      <th>Provider.ID</th>\n",
       "      <th>Line.Of.Business.ID</th>\n",
       "      <th>Revenue.Code</th>\n",
       "      <th>Service.Code</th>\n",
       "      <th>Place.Of.Service.Code</th>\n",
       "      <th>Procedure.Code</th>\n",
       "      <th>Diagnosis.Code</th>\n",
       "      <th>Claim.Charge.Amount</th>\n",
       "      <th>Denial.Reason.Code</th>\n",
       "      <th>Price.Index</th>\n",
       "      <th>In.Out.Of.Network</th>\n",
       "      <th>Reference.Index</th>\n",
       "      <th>Pricing.Index</th>\n",
       "      <th>Capitation.Index</th>\n",
       "      <th>Subscriber.Payment.Amount</th>\n",
       "      <th>Provider.Payment.Amount</th>\n",
       "      <th>Group.Index</th>\n",
       "      <th>Subscriber.Index</th>\n",
       "      <th>Subgroup.Index</th>\n",
       "      <th>Claim.Type</th>\n",
       "      <th>Claim.Subscriber.Type</th>\n",
       "      <th>Claim.Pre.Prince.Index</th>\n",
       "      <th>Claim.Current.Status</th>\n",
       "      <th>Network.ID</th>\n",
       "      <th>Agreement.ID</th>\n",
       "    </tr>\n",
       "  </thead>\n",
       "  <tbody>\n",
       "    <tr>\n",
       "      <th>472554</th>\n",
       "      <td>895587990.0</td>\n",
       "      <td>17</td>\n",
       "      <td>98799627</td>\n",
       "      <td>FA0001389001</td>\n",
       "      <td></td>\n",
       "      <td>636</td>\n",
       "      <td>OP7O</td>\n",
       "      <td></td>\n",
       "      <td></td>\n",
       "      <td>72930</td>\n",
       "      <td>265.7261</td>\n",
       "      <td></td>\n",
       "      <td></td>\n",
       "      <td></td>\n",
       "      <td></td>\n",
       "      <td></td>\n",
       "      <td></td>\n",
       "      <td>0.0</td>\n",
       "      <td>0.0</td>\n",
       "      <td>48549</td>\n",
       "      <td>80032100</td>\n",
       "      <td>52255</td>\n",
       "      <td>M</td>\n",
       "      <td>H</td>\n",
       "      <td></td>\n",
       "      <td>2</td>\n",
       "      <td></td>\n",
       "      <td></td>\n",
       "    </tr>\n",
       "    <tr>\n",
       "      <th>472555</th>\n",
       "      <td>895587990.0</td>\n",
       "      <td>18</td>\n",
       "      <td>98799627</td>\n",
       "      <td>FA0001389001</td>\n",
       "      <td></td>\n",
       "      <td>636</td>\n",
       "      <td>OP7O</td>\n",
       "      <td></td>\n",
       "      <td></td>\n",
       "      <td>72930</td>\n",
       "      <td>174.5706</td>\n",
       "      <td></td>\n",
       "      <td></td>\n",
       "      <td></td>\n",
       "      <td></td>\n",
       "      <td></td>\n",
       "      <td></td>\n",
       "      <td>0.0</td>\n",
       "      <td>0.0</td>\n",
       "      <td>48549</td>\n",
       "      <td>80032100</td>\n",
       "      <td>52255</td>\n",
       "      <td>M</td>\n",
       "      <td>H</td>\n",
       "      <td></td>\n",
       "      <td>2</td>\n",
       "      <td></td>\n",
       "      <td></td>\n",
       "    </tr>\n",
       "    <tr>\n",
       "      <th>472556</th>\n",
       "      <td>895587990.0</td>\n",
       "      <td>19</td>\n",
       "      <td>98799627</td>\n",
       "      <td>FA0001389001</td>\n",
       "      <td></td>\n",
       "      <td>260</td>\n",
       "      <td>IH7O</td>\n",
       "      <td></td>\n",
       "      <td></td>\n",
       "      <td>72930</td>\n",
       "      <td>317.2665</td>\n",
       "      <td></td>\n",
       "      <td></td>\n",
       "      <td></td>\n",
       "      <td></td>\n",
       "      <td></td>\n",
       "      <td></td>\n",
       "      <td>0.0</td>\n",
       "      <td>0.0</td>\n",
       "      <td>48549</td>\n",
       "      <td>80032100</td>\n",
       "      <td>52255</td>\n",
       "      <td>M</td>\n",
       "      <td>H</td>\n",
       "      <td></td>\n",
       "      <td>2</td>\n",
       "      <td></td>\n",
       "      <td></td>\n",
       "    </tr>\n",
       "    <tr>\n",
       "      <th>472557</th>\n",
       "      <td>895587990.0</td>\n",
       "      <td>1</td>\n",
       "      <td>98799627</td>\n",
       "      <td>FA0001389001</td>\n",
       "      <td></td>\n",
       "      <td>324</td>\n",
       "      <td>RA7O</td>\n",
       "      <td></td>\n",
       "      <td>71020</td>\n",
       "      <td>V7283</td>\n",
       "      <td>358.0050</td>\n",
       "      <td></td>\n",
       "      <td></td>\n",
       "      <td></td>\n",
       "      <td></td>\n",
       "      <td></td>\n",
       "      <td></td>\n",
       "      <td>0.0</td>\n",
       "      <td>0.0</td>\n",
       "      <td>48549</td>\n",
       "      <td>80032100</td>\n",
       "      <td>52255</td>\n",
       "      <td>M</td>\n",
       "      <td>H</td>\n",
       "      <td></td>\n",
       "      <td>2</td>\n",
       "      <td></td>\n",
       "      <td></td>\n",
       "    </tr>\n",
       "    <tr>\n",
       "      <th>472558</th>\n",
       "      <td>231056990.0</td>\n",
       "      <td>1</td>\n",
       "      <td>99975920</td>\n",
       "      <td>FA0001389001</td>\n",
       "      <td></td>\n",
       "      <td>324</td>\n",
       "      <td>RA7O</td>\n",
       "      <td></td>\n",
       "      <td>71020</td>\n",
       "      <td>78607</td>\n",
       "      <td>358.0050</td>\n",
       "      <td></td>\n",
       "      <td></td>\n",
       "      <td></td>\n",
       "      <td></td>\n",
       "      <td></td>\n",
       "      <td></td>\n",
       "      <td>0.0</td>\n",
       "      <td>0.0</td>\n",
       "      <td>48546</td>\n",
       "      <td>80984950</td>\n",
       "      <td>0</td>\n",
       "      <td>M</td>\n",
       "      <td>H</td>\n",
       "      <td></td>\n",
       "      <td>2</td>\n",
       "      <td></td>\n",
       "      <td></td>\n",
       "    </tr>\n",
       "  </tbody>\n",
       "</table>\n",
       "</div>"
      ],
      "text/plain": [
       "        Claim.Number Claim.Line.Number Member.ID   Provider.ID  \\\n",
       "472554   895587990.0                17  98799627  FA0001389001   \n",
       "472555   895587990.0                18  98799627  FA0001389001   \n",
       "472556   895587990.0                19  98799627  FA0001389001   \n",
       "472557   895587990.0                 1  98799627  FA0001389001   \n",
       "472558   231056990.0                 1  99975920  FA0001389001   \n",
       "\n",
       "       Line.Of.Business.ID Revenue.Code Service.Code Place.Of.Service.Code  \\\n",
       "472554                              636         OP7O                         \n",
       "472555                              636         OP7O                         \n",
       "472556                              260         IH7O                         \n",
       "472557                              324         RA7O                         \n",
       "472558                              324         RA7O                         \n",
       "\n",
       "       Procedure.Code Diagnosis.Code  Claim.Charge.Amount Denial.Reason.Code  \\\n",
       "472554                         72930             265.7261                      \n",
       "472555                         72930             174.5706                      \n",
       "472556                         72930             317.2665                      \n",
       "472557          71020          V7283             358.0050                      \n",
       "472558          71020          78607             358.0050                      \n",
       "\n",
       "       Price.Index In.Out.Of.Network Reference.Index Pricing.Index  \\\n",
       "472554                                                               \n",
       "472555                                                               \n",
       "472556                                                               \n",
       "472557                                                               \n",
       "472558                                                               \n",
       "\n",
       "       Capitation.Index  Subscriber.Payment.Amount  Provider.Payment.Amount  \\\n",
       "472554                                         0.0                      0.0   \n",
       "472555                                         0.0                      0.0   \n",
       "472556                                         0.0                      0.0   \n",
       "472557                                         0.0                      0.0   \n",
       "472558                                         0.0                      0.0   \n",
       "\n",
       "       Group.Index Subscriber.Index Subgroup.Index Claim.Type  \\\n",
       "472554       48549         80032100          52255          M   \n",
       "472555       48549         80032100          52255          M   \n",
       "472556       48549         80032100          52255          M   \n",
       "472557       48549         80032100          52255          M   \n",
       "472558       48546         80984950              0          M   \n",
       "\n",
       "       Claim.Subscriber.Type Claim.Pre.Prince.Index Claim.Current.Status  \\\n",
       "472554                     H                                           2   \n",
       "472555                     H                                           2   \n",
       "472556                     H                                           2   \n",
       "472557                     H                                           2   \n",
       "472558                     H                                           2   \n",
       "\n",
       "       Network.ID Agreement.ID  \n",
       "472554                          \n",
       "472555                          \n",
       "472556                          \n",
       "472557                          \n",
       "472558                          "
      ]
     },
     "execution_count": 2,
     "metadata": {},
     "output_type": "execute_result"
    }
   ],
   "source": [
    "# set pandas options\n",
    "pd.set_option('display.max_columns', None)\n",
    "pd.set_option('display.max_rows', 50)\n",
    "\n",
    "# load data\n",
    "claim_data = pd.read_csv(os.path.join('../data','original','claim_sample.tar.gz'), \n",
    "                         compression='gzip', \n",
    "                         dtype=data_types,\n",
    "                         low_memory=False)\n",
    "\n",
    "# drop first column\n",
    "claim_data.drop('claim.sample.csv', axis=1, inplace=True)\n",
    "\n",
    "# drop last row\n",
    "claim_data.dropna(inplace=True)\n",
    "\n",
    "# show last rows to ensure drop last row and first column\n",
    "claim_data.tail()"
   ]
  },
  {
   "cell_type": "code",
   "execution_count": 3,
   "metadata": {
    "ExecuteTime": {
     "end_time": "2020-07-17T18:09:38.208178Z",
     "start_time": "2020-07-17T18:09:37.724750Z"
    }
   },
   "outputs": [
    {
     "name": "stdout",
     "output_type": "stream",
     "text": [
      "<class 'pandas.core.frame.DataFrame'>\n",
      "Int64Index: 472559 entries, 0 to 472558\n",
      "Data columns (total 28 columns):\n",
      " #   Column                     Non-Null Count   Dtype  \n",
      "---  ------                     --------------   -----  \n",
      " 0   Claim.Number               472559 non-null  float64\n",
      " 1   Claim.Line.Number          472559 non-null  object \n",
      " 2   Member.ID                  472559 non-null  object \n",
      " 3   Provider.ID                472559 non-null  object \n",
      " 4   Line.Of.Business.ID        472559 non-null  object \n",
      " 5   Revenue.Code               472559 non-null  object \n",
      " 6   Service.Code               472559 non-null  object \n",
      " 7   Place.Of.Service.Code      472559 non-null  object \n",
      " 8   Procedure.Code             472559 non-null  object \n",
      " 9   Diagnosis.Code             472559 non-null  object \n",
      " 10  Claim.Charge.Amount        472559 non-null  float64\n",
      " 11  Denial.Reason.Code         472559 non-null  object \n",
      " 12  Price.Index                472559 non-null  object \n",
      " 13  In.Out.Of.Network          472559 non-null  object \n",
      " 14  Reference.Index            472559 non-null  object \n",
      " 15  Pricing.Index              472559 non-null  object \n",
      " 16  Capitation.Index           472559 non-null  object \n",
      " 17  Subscriber.Payment.Amount  472559 non-null  float64\n",
      " 18  Provider.Payment.Amount    472559 non-null  float64\n",
      " 19  Group.Index                472559 non-null  object \n",
      " 20  Subscriber.Index           472559 non-null  object \n",
      " 21  Subgroup.Index             472559 non-null  object \n",
      " 22  Claim.Type                 472559 non-null  object \n",
      " 23  Claim.Subscriber.Type      472559 non-null  object \n",
      " 24  Claim.Pre.Prince.Index     472559 non-null  object \n",
      " 25  Claim.Current.Status       472559 non-null  object \n",
      " 26  Network.ID                 472559 non-null  object \n",
      " 27  Agreement.ID               472559 non-null  object \n",
      "dtypes: float64(4), object(24)\n",
      "memory usage: 104.6+ MB\n"
     ]
    }
   ],
   "source": [
    "# show claim data information\n",
    "claim_data.info()"
   ]
  },
  {
   "cell_type": "code",
   "execution_count": 4,
   "metadata": {
    "ExecuteTime": {
     "end_time": "2020-07-17T18:09:43.885244Z",
     "start_time": "2020-07-17T18:09:38.211525Z"
    }
   },
   "outputs": [
    {
     "data": {
      "text/plain": [
       "'The average lines per claim is 5.012449987230783'"
      ]
     },
     "execution_count": 4,
     "metadata": {},
     "output_type": "execute_result"
    }
   ],
   "source": [
    "# get the unique claims\n",
    "averages = claim_data.groupby('Claim.Number')['Claim.Line.Number'].max()\n",
    "average_lines_per_claim = np.average(averages.values.astype('int'))\n",
    "f\"The average lines per claim is {average_lines_per_claim}\""
   ]
  },
  {
   "cell_type": "code",
   "execution_count": 5,
   "metadata": {
    "ExecuteTime": {
     "end_time": "2020-07-17T18:09:44.004568Z",
     "start_time": "2020-07-17T18:09:43.887702Z"
    }
   },
   "outputs": [
    {
     "data": {
      "text/html": [
       "<div>\n",
       "<style scoped>\n",
       "    .dataframe tbody tr th:only-of-type {\n",
       "        vertical-align: middle;\n",
       "    }\n",
       "\n",
       "    .dataframe tbody tr th {\n",
       "        vertical-align: top;\n",
       "    }\n",
       "\n",
       "    .dataframe thead th {\n",
       "        text-align: right;\n",
       "    }\n",
       "</style>\n",
       "<table border=\"1\" class=\"dataframe\">\n",
       "  <thead>\n",
       "    <tr style=\"text-align: right;\">\n",
       "      <th></th>\n",
       "      <th>Claim.Number</th>\n",
       "      <th>Claim.Charge.Amount</th>\n",
       "      <th>Subscriber.Payment.Amount</th>\n",
       "      <th>Provider.Payment.Amount</th>\n",
       "    </tr>\n",
       "  </thead>\n",
       "  <tbody>\n",
       "    <tr>\n",
       "      <th>count</th>\n",
       "      <td>4.725590e+05</td>\n",
       "      <td>472559.000000</td>\n",
       "      <td>472559.000000</td>\n",
       "      <td>472559.000000</td>\n",
       "    </tr>\n",
       "    <tr>\n",
       "      <th>mean</th>\n",
       "      <td>6.876433e+08</td>\n",
       "      <td>1684.487052</td>\n",
       "      <td>0.060524</td>\n",
       "      <td>299.664982</td>\n",
       "    </tr>\n",
       "    <tr>\n",
       "      <th>std</th>\n",
       "      <td>4.631736e+08</td>\n",
       "      <td>6516.274159</td>\n",
       "      <td>14.559293</td>\n",
       "      <td>2651.754216</td>\n",
       "    </tr>\n",
       "    <tr>\n",
       "      <th>min</th>\n",
       "      <td>1.899000e+04</td>\n",
       "      <td>-192496.200000</td>\n",
       "      <td>0.000000</td>\n",
       "      <td>0.000000</td>\n",
       "    </tr>\n",
       "    <tr>\n",
       "      <th>25%</th>\n",
       "      <td>2.554021e+08</td>\n",
       "      <td>141.831700</td>\n",
       "      <td>0.000000</td>\n",
       "      <td>0.000000</td>\n",
       "    </tr>\n",
       "    <tr>\n",
       "      <th>50%</th>\n",
       "      <td>6.453732e+08</td>\n",
       "      <td>327.142500</td>\n",
       "      <td>0.000000</td>\n",
       "      <td>0.000000</td>\n",
       "    </tr>\n",
       "    <tr>\n",
       "      <th>75%</th>\n",
       "      <td>1.060539e+09</td>\n",
       "      <td>1072.781000</td>\n",
       "      <td>0.000000</td>\n",
       "      <td>0.000000</td>\n",
       "    </tr>\n",
       "    <tr>\n",
       "      <th>max</th>\n",
       "      <td>1.541242e+09</td>\n",
       "      <td>756336.700000</td>\n",
       "      <td>7625.259600</td>\n",
       "      <td>491735.200000</td>\n",
       "    </tr>\n",
       "  </tbody>\n",
       "</table>\n",
       "</div>"
      ],
      "text/plain": [
       "       Claim.Number  Claim.Charge.Amount  Subscriber.Payment.Amount  \\\n",
       "count  4.725590e+05        472559.000000              472559.000000   \n",
       "mean   6.876433e+08          1684.487052                   0.060524   \n",
       "std    4.631736e+08          6516.274159                  14.559293   \n",
       "min    1.899000e+04       -192496.200000                   0.000000   \n",
       "25%    2.554021e+08           141.831700                   0.000000   \n",
       "50%    6.453732e+08           327.142500                   0.000000   \n",
       "75%    1.060539e+09          1072.781000                   0.000000   \n",
       "max    1.541242e+09        756336.700000                7625.259600   \n",
       "\n",
       "       Provider.Payment.Amount  \n",
       "count            472559.000000  \n",
       "mean                299.664982  \n",
       "std                2651.754216  \n",
       "min                   0.000000  \n",
       "25%                   0.000000  \n",
       "50%                   0.000000  \n",
       "75%                   0.000000  \n",
       "max              491735.200000  "
      ]
     },
     "execution_count": 5,
     "metadata": {},
     "output_type": "execute_result"
    }
   ],
   "source": [
    "# describe numeric columns\n",
    "claim_data.describe()"
   ]
  },
  {
   "cell_type": "code",
   "execution_count": 6,
   "metadata": {
    "ExecuteTime": {
     "end_time": "2020-07-17T18:09:44.129691Z",
     "start_time": "2020-07-17T18:09:44.007691Z"
    }
   },
   "outputs": [
    {
     "data": {
      "text/html": [
       "<div>\n",
       "<style scoped>\n",
       "    .dataframe tbody tr th:only-of-type {\n",
       "        vertical-align: middle;\n",
       "    }\n",
       "\n",
       "    .dataframe tbody tr th {\n",
       "        vertical-align: top;\n",
       "    }\n",
       "\n",
       "    .dataframe thead th {\n",
       "        text-align: right;\n",
       "    }\n",
       "</style>\n",
       "<table border=\"1\" class=\"dataframe\">\n",
       "  <thead>\n",
       "    <tr style=\"text-align: right;\">\n",
       "      <th></th>\n",
       "      <th>Claim.Number</th>\n",
       "      <th>Claim.Line.Number</th>\n",
       "      <th>Member.ID</th>\n",
       "      <th>Provider.ID</th>\n",
       "      <th>Line.Of.Business.ID</th>\n",
       "      <th>Revenue.Code</th>\n",
       "      <th>Service.Code</th>\n",
       "      <th>Place.Of.Service.Code</th>\n",
       "      <th>Procedure.Code</th>\n",
       "      <th>Diagnosis.Code</th>\n",
       "      <th>Claim.Charge.Amount</th>\n",
       "      <th>Denial.Reason.Code</th>\n",
       "      <th>Price.Index</th>\n",
       "      <th>In.Out.Of.Network</th>\n",
       "      <th>Reference.Index</th>\n",
       "      <th>Pricing.Index</th>\n",
       "      <th>Capitation.Index</th>\n",
       "      <th>Subscriber.Payment.Amount</th>\n",
       "      <th>Provider.Payment.Amount</th>\n",
       "      <th>Group.Index</th>\n",
       "      <th>Subscriber.Index</th>\n",
       "      <th>Subgroup.Index</th>\n",
       "      <th>Claim.Type</th>\n",
       "      <th>Claim.Subscriber.Type</th>\n",
       "      <th>Claim.Pre.Prince.Index</th>\n",
       "      <th>Claim.Current.Status</th>\n",
       "      <th>Network.ID</th>\n",
       "      <th>Agreement.ID</th>\n",
       "    </tr>\n",
       "  </thead>\n",
       "  <tbody>\n",
       "    <tr>\n",
       "      <th>466009</th>\n",
       "      <td>1.389507e+09</td>\n",
       "      <td>5</td>\n",
       "      <td>94431843</td>\n",
       "      <td>FA0001774001</td>\n",
       "      <td></td>\n",
       "      <td>278</td>\n",
       "      <td>AL7I</td>\n",
       "      <td></td>\n",
       "      <td></td>\n",
       "      <td>8052</td>\n",
       "      <td>-192496.2</td>\n",
       "      <td></td>\n",
       "      <td></td>\n",
       "      <td></td>\n",
       "      <td></td>\n",
       "      <td></td>\n",
       "      <td></td>\n",
       "      <td>0.0</td>\n",
       "      <td>0.0</td>\n",
       "      <td>48547</td>\n",
       "      <td>76494000</td>\n",
       "      <td>52030</td>\n",
       "      <td>M</td>\n",
       "      <td>H</td>\n",
       "      <td></td>\n",
       "      <td>99</td>\n",
       "      <td></td>\n",
       "      <td></td>\n",
       "    </tr>\n",
       "    <tr>\n",
       "      <th>466010</th>\n",
       "      <td>1.389507e+09</td>\n",
       "      <td>6</td>\n",
       "      <td>94431843</td>\n",
       "      <td>FA0001774001</td>\n",
       "      <td></td>\n",
       "      <td>278</td>\n",
       "      <td>AL7I</td>\n",
       "      <td></td>\n",
       "      <td></td>\n",
       "      <td>8052</td>\n",
       "      <td>-192496.2</td>\n",
       "      <td></td>\n",
       "      <td></td>\n",
       "      <td></td>\n",
       "      <td></td>\n",
       "      <td></td>\n",
       "      <td></td>\n",
       "      <td>0.0</td>\n",
       "      <td>0.0</td>\n",
       "      <td>48547</td>\n",
       "      <td>76494000</td>\n",
       "      <td>52030</td>\n",
       "      <td>M</td>\n",
       "      <td>H</td>\n",
       "      <td></td>\n",
       "      <td>99</td>\n",
       "      <td></td>\n",
       "      <td></td>\n",
       "    </tr>\n",
       "    <tr>\n",
       "      <th>466049</th>\n",
       "      <td>1.389507e+09</td>\n",
       "      <td>3</td>\n",
       "      <td>94431843</td>\n",
       "      <td>FA0001774001</td>\n",
       "      <td></td>\n",
       "      <td>278</td>\n",
       "      <td>AL7I</td>\n",
       "      <td></td>\n",
       "      <td></td>\n",
       "      <td>8052</td>\n",
       "      <td>-192496.2</td>\n",
       "      <td></td>\n",
       "      <td></td>\n",
       "      <td></td>\n",
       "      <td></td>\n",
       "      <td></td>\n",
       "      <td></td>\n",
       "      <td>0.0</td>\n",
       "      <td>0.0</td>\n",
       "      <td>48547</td>\n",
       "      <td>76494000</td>\n",
       "      <td>52030</td>\n",
       "      <td>M</td>\n",
       "      <td>H</td>\n",
       "      <td></td>\n",
       "      <td>2</td>\n",
       "      <td></td>\n",
       "      <td></td>\n",
       "    </tr>\n",
       "  </tbody>\n",
       "</table>\n",
       "</div>"
      ],
      "text/plain": [
       "        Claim.Number Claim.Line.Number Member.ID   Provider.ID  \\\n",
       "466009  1.389507e+09                 5  94431843  FA0001774001   \n",
       "466010  1.389507e+09                 6  94431843  FA0001774001   \n",
       "466049  1.389507e+09                 3  94431843  FA0001774001   \n",
       "\n",
       "       Line.Of.Business.ID Revenue.Code Service.Code Place.Of.Service.Code  \\\n",
       "466009                              278         AL7I                         \n",
       "466010                              278         AL7I                         \n",
       "466049                              278         AL7I                         \n",
       "\n",
       "       Procedure.Code Diagnosis.Code  Claim.Charge.Amount Denial.Reason.Code  \\\n",
       "466009                          8052            -192496.2                      \n",
       "466010                          8052            -192496.2                      \n",
       "466049                          8052            -192496.2                      \n",
       "\n",
       "       Price.Index In.Out.Of.Network Reference.Index Pricing.Index  \\\n",
       "466009                                                               \n",
       "466010                                                               \n",
       "466049                                                               \n",
       "\n",
       "       Capitation.Index  Subscriber.Payment.Amount  Provider.Payment.Amount  \\\n",
       "466009                                         0.0                      0.0   \n",
       "466010                                         0.0                      0.0   \n",
       "466049                                         0.0                      0.0   \n",
       "\n",
       "       Group.Index Subscriber.Index Subgroup.Index Claim.Type  \\\n",
       "466009       48547         76494000          52030          M   \n",
       "466010       48547         76494000          52030          M   \n",
       "466049       48547         76494000          52030          M   \n",
       "\n",
       "       Claim.Subscriber.Type Claim.Pre.Prince.Index Claim.Current.Status  \\\n",
       "466009                     H                                          99   \n",
       "466010                     H                                          99   \n",
       "466049                     H                                           2   \n",
       "\n",
       "       Network.ID Agreement.ID  \n",
       "466009                          \n",
       "466010                          \n",
       "466049                          "
      ]
     },
     "execution_count": 6,
     "metadata": {},
     "output_type": "execute_result"
    }
   ],
   "source": [
    "# look at the claim with the lowest amount\n",
    "claim_data.loc[claim_data['Claim.Charge.Amount'] == min(claim_data['Claim.Charge.Amount'])]"
   ]
  },
  {
   "cell_type": "code",
   "execution_count": 7,
   "metadata": {
    "ExecuteTime": {
     "end_time": "2020-07-17T18:09:44.203000Z",
     "start_time": "2020-07-17T18:09:44.132977Z"
    }
   },
   "outputs": [
    {
     "data": {
      "text/html": [
       "<div>\n",
       "<style scoped>\n",
       "    .dataframe tbody tr th:only-of-type {\n",
       "        vertical-align: middle;\n",
       "    }\n",
       "\n",
       "    .dataframe tbody tr th {\n",
       "        vertical-align: top;\n",
       "    }\n",
       "\n",
       "    .dataframe thead th {\n",
       "        text-align: right;\n",
       "    }\n",
       "</style>\n",
       "<table border=\"1\" class=\"dataframe\">\n",
       "  <thead>\n",
       "    <tr style=\"text-align: right;\">\n",
       "      <th></th>\n",
       "      <th>Claim.Number</th>\n",
       "      <th>Claim.Line.Number</th>\n",
       "      <th>Member.ID</th>\n",
       "      <th>Provider.ID</th>\n",
       "      <th>Line.Of.Business.ID</th>\n",
       "      <th>Revenue.Code</th>\n",
       "      <th>Service.Code</th>\n",
       "      <th>Place.Of.Service.Code</th>\n",
       "      <th>Procedure.Code</th>\n",
       "      <th>Diagnosis.Code</th>\n",
       "      <th>Claim.Charge.Amount</th>\n",
       "      <th>Denial.Reason.Code</th>\n",
       "      <th>Price.Index</th>\n",
       "      <th>In.Out.Of.Network</th>\n",
       "      <th>Reference.Index</th>\n",
       "      <th>Pricing.Index</th>\n",
       "      <th>Capitation.Index</th>\n",
       "      <th>Subscriber.Payment.Amount</th>\n",
       "      <th>Provider.Payment.Amount</th>\n",
       "      <th>Group.Index</th>\n",
       "      <th>Subscriber.Index</th>\n",
       "      <th>Subgroup.Index</th>\n",
       "      <th>Claim.Type</th>\n",
       "      <th>Claim.Subscriber.Type</th>\n",
       "      <th>Claim.Pre.Prince.Index</th>\n",
       "      <th>Claim.Current.Status</th>\n",
       "      <th>Network.ID</th>\n",
       "      <th>Agreement.ID</th>\n",
       "    </tr>\n",
       "  </thead>\n",
       "  <tbody>\n",
       "    <tr>\n",
       "      <th>466047</th>\n",
       "      <td>1.389507e+09</td>\n",
       "      <td>1</td>\n",
       "      <td>94431843</td>\n",
       "      <td>FA0001774001</td>\n",
       "      <td></td>\n",
       "      <td>278</td>\n",
       "      <td>AL7I</td>\n",
       "      <td></td>\n",
       "      <td></td>\n",
       "      <td>8052</td>\n",
       "      <td>195162.700</td>\n",
       "      <td></td>\n",
       "      <td></td>\n",
       "      <td></td>\n",
       "      <td></td>\n",
       "      <td></td>\n",
       "      <td></td>\n",
       "      <td>0.0</td>\n",
       "      <td>0.0</td>\n",
       "      <td>48547</td>\n",
       "      <td>76494000</td>\n",
       "      <td>52030</td>\n",
       "      <td>M</td>\n",
       "      <td>H</td>\n",
       "      <td></td>\n",
       "      <td>2</td>\n",
       "      <td></td>\n",
       "      <td></td>\n",
       "    </tr>\n",
       "    <tr>\n",
       "      <th>466048</th>\n",
       "      <td>1.389507e+09</td>\n",
       "      <td>2</td>\n",
       "      <td>94431843</td>\n",
       "      <td>FA0001774001</td>\n",
       "      <td></td>\n",
       "      <td>300</td>\n",
       "      <td>AL7I</td>\n",
       "      <td></td>\n",
       "      <td></td>\n",
       "      <td>8052</td>\n",
       "      <td>1380.171</td>\n",
       "      <td></td>\n",
       "      <td></td>\n",
       "      <td></td>\n",
       "      <td></td>\n",
       "      <td></td>\n",
       "      <td></td>\n",
       "      <td>0.0</td>\n",
       "      <td>0.0</td>\n",
       "      <td>48547</td>\n",
       "      <td>76494000</td>\n",
       "      <td>52030</td>\n",
       "      <td>M</td>\n",
       "      <td>H</td>\n",
       "      <td></td>\n",
       "      <td>2</td>\n",
       "      <td></td>\n",
       "      <td></td>\n",
       "    </tr>\n",
       "    <tr>\n",
       "      <th>466049</th>\n",
       "      <td>1.389507e+09</td>\n",
       "      <td>3</td>\n",
       "      <td>94431843</td>\n",
       "      <td>FA0001774001</td>\n",
       "      <td></td>\n",
       "      <td>278</td>\n",
       "      <td>AL7I</td>\n",
       "      <td></td>\n",
       "      <td></td>\n",
       "      <td>8052</td>\n",
       "      <td>-192496.200</td>\n",
       "      <td></td>\n",
       "      <td></td>\n",
       "      <td></td>\n",
       "      <td></td>\n",
       "      <td></td>\n",
       "      <td></td>\n",
       "      <td>0.0</td>\n",
       "      <td>0.0</td>\n",
       "      <td>48547</td>\n",
       "      <td>76494000</td>\n",
       "      <td>52030</td>\n",
       "      <td>M</td>\n",
       "      <td>H</td>\n",
       "      <td></td>\n",
       "      <td>2</td>\n",
       "      <td></td>\n",
       "      <td></td>\n",
       "    </tr>\n",
       "    <tr>\n",
       "      <th>466050</th>\n",
       "      <td>1.389507e+09</td>\n",
       "      <td>4</td>\n",
       "      <td>94431843</td>\n",
       "      <td>FA0001774001</td>\n",
       "      <td></td>\n",
       "      <td>300</td>\n",
       "      <td>AL7I</td>\n",
       "      <td></td>\n",
       "      <td></td>\n",
       "      <td>8052</td>\n",
       "      <td>-138.264</td>\n",
       "      <td></td>\n",
       "      <td></td>\n",
       "      <td></td>\n",
       "      <td></td>\n",
       "      <td></td>\n",
       "      <td></td>\n",
       "      <td>0.0</td>\n",
       "      <td>0.0</td>\n",
       "      <td>48547</td>\n",
       "      <td>76494000</td>\n",
       "      <td>52030</td>\n",
       "      <td>M</td>\n",
       "      <td>H</td>\n",
       "      <td></td>\n",
       "      <td>2</td>\n",
       "      <td></td>\n",
       "      <td></td>\n",
       "    </tr>\n",
       "    <tr>\n",
       "      <th>466051</th>\n",
       "      <td>1.389507e+09</td>\n",
       "      <td>5</td>\n",
       "      <td>94431843</td>\n",
       "      <td>FA0001774001</td>\n",
       "      <td></td>\n",
       "      <td>309</td>\n",
       "      <td>AL7I</td>\n",
       "      <td></td>\n",
       "      <td></td>\n",
       "      <td>8052</td>\n",
       "      <td>-1241.907</td>\n",
       "      <td></td>\n",
       "      <td></td>\n",
       "      <td></td>\n",
       "      <td></td>\n",
       "      <td></td>\n",
       "      <td></td>\n",
       "      <td>0.0</td>\n",
       "      <td>0.0</td>\n",
       "      <td>48547</td>\n",
       "      <td>76494000</td>\n",
       "      <td>52030</td>\n",
       "      <td>M</td>\n",
       "      <td>H</td>\n",
       "      <td></td>\n",
       "      <td>2</td>\n",
       "      <td></td>\n",
       "      <td></td>\n",
       "    </tr>\n",
       "    <tr>\n",
       "      <th>466052</th>\n",
       "      <td>1.389507e+09</td>\n",
       "      <td>6</td>\n",
       "      <td>94431843</td>\n",
       "      <td>FA0001774001</td>\n",
       "      <td></td>\n",
       "      <td>111</td>\n",
       "      <td>RB7I</td>\n",
       "      <td></td>\n",
       "      <td></td>\n",
       "      <td>8052</td>\n",
       "      <td>12988.170</td>\n",
       "      <td></td>\n",
       "      <td></td>\n",
       "      <td></td>\n",
       "      <td></td>\n",
       "      <td></td>\n",
       "      <td></td>\n",
       "      <td>0.0</td>\n",
       "      <td>0.0</td>\n",
       "      <td>48547</td>\n",
       "      <td>76494000</td>\n",
       "      <td>52030</td>\n",
       "      <td>M</td>\n",
       "      <td>H</td>\n",
       "      <td></td>\n",
       "      <td>2</td>\n",
       "      <td></td>\n",
       "      <td></td>\n",
       "    </tr>\n",
       "    <tr>\n",
       "      <th>466053</th>\n",
       "      <td>1.389507e+09</td>\n",
       "      <td>7</td>\n",
       "      <td>94431843</td>\n",
       "      <td>FA0001774001</td>\n",
       "      <td></td>\n",
       "      <td>111</td>\n",
       "      <td>RB7I</td>\n",
       "      <td></td>\n",
       "      <td></td>\n",
       "      <td>8052</td>\n",
       "      <td>-12988.170</td>\n",
       "      <td></td>\n",
       "      <td></td>\n",
       "      <td></td>\n",
       "      <td></td>\n",
       "      <td></td>\n",
       "      <td></td>\n",
       "      <td>0.0</td>\n",
       "      <td>0.0</td>\n",
       "      <td>48547</td>\n",
       "      <td>76494000</td>\n",
       "      <td>52030</td>\n",
       "      <td>M</td>\n",
       "      <td>H</td>\n",
       "      <td></td>\n",
       "      <td>2</td>\n",
       "      <td></td>\n",
       "      <td></td>\n",
       "    </tr>\n",
       "  </tbody>\n",
       "</table>\n",
       "</div>"
      ],
      "text/plain": [
       "        Claim.Number Claim.Line.Number Member.ID   Provider.ID  \\\n",
       "466047  1.389507e+09                 1  94431843  FA0001774001   \n",
       "466048  1.389507e+09                 2  94431843  FA0001774001   \n",
       "466049  1.389507e+09                 3  94431843  FA0001774001   \n",
       "466050  1.389507e+09                 4  94431843  FA0001774001   \n",
       "466051  1.389507e+09                 5  94431843  FA0001774001   \n",
       "466052  1.389507e+09                 6  94431843  FA0001774001   \n",
       "466053  1.389507e+09                 7  94431843  FA0001774001   \n",
       "\n",
       "       Line.Of.Business.ID Revenue.Code Service.Code Place.Of.Service.Code  \\\n",
       "466047                              278         AL7I                         \n",
       "466048                              300         AL7I                         \n",
       "466049                              278         AL7I                         \n",
       "466050                              300         AL7I                         \n",
       "466051                              309         AL7I                         \n",
       "466052                              111         RB7I                         \n",
       "466053                              111         RB7I                         \n",
       "\n",
       "       Procedure.Code Diagnosis.Code  Claim.Charge.Amount Denial.Reason.Code  \\\n",
       "466047                          8052           195162.700                      \n",
       "466048                          8052             1380.171                      \n",
       "466049                          8052          -192496.200                      \n",
       "466050                          8052             -138.264                      \n",
       "466051                          8052            -1241.907                      \n",
       "466052                          8052            12988.170                      \n",
       "466053                          8052           -12988.170                      \n",
       "\n",
       "       Price.Index In.Out.Of.Network Reference.Index Pricing.Index  \\\n",
       "466047                                                               \n",
       "466048                                                               \n",
       "466049                                                               \n",
       "466050                                                               \n",
       "466051                                                               \n",
       "466052                                                               \n",
       "466053                                                               \n",
       "\n",
       "       Capitation.Index  Subscriber.Payment.Amount  Provider.Payment.Amount  \\\n",
       "466047                                         0.0                      0.0   \n",
       "466048                                         0.0                      0.0   \n",
       "466049                                         0.0                      0.0   \n",
       "466050                                         0.0                      0.0   \n",
       "466051                                         0.0                      0.0   \n",
       "466052                                         0.0                      0.0   \n",
       "466053                                         0.0                      0.0   \n",
       "\n",
       "       Group.Index Subscriber.Index Subgroup.Index Claim.Type  \\\n",
       "466047       48547         76494000          52030          M   \n",
       "466048       48547         76494000          52030          M   \n",
       "466049       48547         76494000          52030          M   \n",
       "466050       48547         76494000          52030          M   \n",
       "466051       48547         76494000          52030          M   \n",
       "466052       48547         76494000          52030          M   \n",
       "466053       48547         76494000          52030          M   \n",
       "\n",
       "       Claim.Subscriber.Type Claim.Pre.Prince.Index Claim.Current.Status  \\\n",
       "466047                     H                                           2   \n",
       "466048                     H                                           2   \n",
       "466049                     H                                           2   \n",
       "466050                     H                                           2   \n",
       "466051                     H                                           2   \n",
       "466052                     H                                           2   \n",
       "466053                     H                                           2   \n",
       "\n",
       "       Network.ID Agreement.ID  \n",
       "466047                          \n",
       "466048                          \n",
       "466049                          \n",
       "466050                          \n",
       "466051                          \n",
       "466052                          \n",
       "466053                          "
      ]
     },
     "execution_count": 7,
     "metadata": {},
     "output_type": "execute_result"
    }
   ],
   "source": [
    "# look at all of the claim data\n",
    "claim_data.iloc[466047:466054]"
   ]
  },
  {
   "cell_type": "code",
   "execution_count": 8,
   "metadata": {
    "ExecuteTime": {
     "end_time": "2020-07-17T18:09:44.316339Z",
     "start_time": "2020-07-17T18:09:44.205684Z"
    }
   },
   "outputs": [
    {
     "data": {
      "text/plain": [
       "84.56325       6480\n",
       "0.00000        4598\n",
       "118.51200      4480\n",
       "123.45000      3386\n",
       "248.13450      3014\n",
       "               ... \n",
       "21735.84000       1\n",
       "6623.83320        1\n",
       "404.71848         1\n",
       "554.78430         1\n",
       "2433.17481        1\n",
       "Name: Claim.Charge.Amount, Length: 40448, dtype: int64"
      ]
     },
     "execution_count": 8,
     "metadata": {},
     "output_type": "execute_result"
    }
   ],
   "source": [
    "# show the claim charge amounts \n",
    "claim_data['Claim.Charge.Amount'].value_counts(ascending=False)"
   ]
  },
  {
   "cell_type": "code",
   "execution_count": 9,
   "metadata": {
    "ExecuteTime": {
     "end_time": "2020-07-17T18:09:59.362631Z",
     "start_time": "2020-07-17T18:09:58.419333Z"
    }
   },
   "outputs": [
    {
     "data": {
      "image/png": "[encoded data removed]",
      "text/plain": [
       "<Figure size 1440x864 with 1 Axes>"
      ]
     },
     "metadata": {},
     "output_type": "display_data"
    }
   ],
   "source": [
    "plt.figure(figsize=(20,12))\n",
    "col = 'Claim.Charge.Amount'\n",
    "claim_zero_200 = claim_data.loc[(claim_data[col] >= 0) &  (claim_data[col] <= 200000), col]\n",
    "sns.distplot(claim_zero_200, bins=10);"
   ]
  },
  {
   "cell_type": "code",
   "execution_count": 10,
   "metadata": {
    "ExecuteTime": {
     "end_time": "2020-07-17T18:09:59.605589Z",
     "start_time": "2020-07-17T18:09:59.364901Z"
    }
   },
   "outputs": [
    {
     "data": {
      "text/html": [
       "<div>\n",
       "<style scoped>\n",
       "    .dataframe tbody tr th:only-of-type {\n",
       "        vertical-align: middle;\n",
       "    }\n",
       "\n",
       "    .dataframe tbody tr th {\n",
       "        vertical-align: top;\n",
       "    }\n",
       "\n",
       "    .dataframe thead th {\n",
       "        text-align: right;\n",
       "    }\n",
       "</style>\n",
       "<table border=\"1\" class=\"dataframe\">\n",
       "  <thead>\n",
       "    <tr style=\"text-align: right;\">\n",
       "      <th></th>\n",
       "      <th>Claim.Number</th>\n",
       "      <th>Claim.Line.Number</th>\n",
       "      <th>Member.ID</th>\n",
       "      <th>Provider.ID</th>\n",
       "      <th>Line.Of.Business.ID</th>\n",
       "      <th>Revenue.Code</th>\n",
       "      <th>Service.Code</th>\n",
       "      <th>Place.Of.Service.Code</th>\n",
       "      <th>Procedure.Code</th>\n",
       "      <th>Diagnosis.Code</th>\n",
       "      <th>Claim.Charge.Amount</th>\n",
       "      <th>Denial.Reason.Code</th>\n",
       "      <th>Price.Index</th>\n",
       "      <th>In.Out.Of.Network</th>\n",
       "      <th>Reference.Index</th>\n",
       "      <th>Pricing.Index</th>\n",
       "      <th>Capitation.Index</th>\n",
       "      <th>Subscriber.Payment.Amount</th>\n",
       "      <th>Provider.Payment.Amount</th>\n",
       "      <th>Group.Index</th>\n",
       "      <th>Subscriber.Index</th>\n",
       "      <th>Subgroup.Index</th>\n",
       "      <th>Claim.Type</th>\n",
       "      <th>Claim.Subscriber.Type</th>\n",
       "      <th>Claim.Pre.Prince.Index</th>\n",
       "      <th>Claim.Current.Status</th>\n",
       "      <th>Network.ID</th>\n",
       "      <th>Agreement.ID</th>\n",
       "      <th>IsProcedure</th>\n",
       "    </tr>\n",
       "  </thead>\n",
       "  <tbody>\n",
       "    <tr>\n",
       "      <th>3073</th>\n",
       "      <td>74645490.0</td>\n",
       "      <td>10</td>\n",
       "      <td>1992052</td>\n",
       "      <td>FA0001389001</td>\n",
       "      <td>5</td>\n",
       "      <td>636</td>\n",
       "      <td>OP7O</td>\n",
       "      <td></td>\n",
       "      <td>J1650</td>\n",
       "      <td>4359</td>\n",
       "      <td>592.201995</td>\n",
       "      <td>KAO</td>\n",
       "      <td>A</td>\n",
       "      <td>I</td>\n",
       "      <td>N</td>\n",
       "      <td>N</td>\n",
       "      <td></td>\n",
       "      <td>0.0</td>\n",
       "      <td>0.0</td>\n",
       "      <td>114</td>\n",
       "      <td>1613650</td>\n",
       "      <td>0</td>\n",
       "      <td>M</td>\n",
       "      <td>H</td>\n",
       "      <td>S</td>\n",
       "      <td>91</td>\n",
       "      <td>P00000000001</td>\n",
       "      <td>FH001309QB01</td>\n",
       "      <td>1</td>\n",
       "    </tr>\n",
       "    <tr>\n",
       "      <th>3091</th>\n",
       "      <td>18860690.0</td>\n",
       "      <td>8</td>\n",
       "      <td>22808129</td>\n",
       "      <td>FA0001389001</td>\n",
       "      <td>1</td>\n",
       "      <td>636</td>\n",
       "      <td>OP7O</td>\n",
       "      <td></td>\n",
       "      <td>J2405</td>\n",
       "      <td>64303</td>\n",
       "      <td>118.832970</td>\n",
       "      <td>J2L</td>\n",
       "      <td>A</td>\n",
       "      <td>I</td>\n",
       "      <td>N</td>\n",
       "      <td>N</td>\n",
       "      <td>R</td>\n",
       "      <td>0.0</td>\n",
       "      <td>0.0</td>\n",
       "      <td>275</td>\n",
       "      <td>18475600</td>\n",
       "      <td>483</td>\n",
       "      <td>M</td>\n",
       "      <td>H</td>\n",
       "      <td></td>\n",
       "      <td>2</td>\n",
       "      <td>H00000000001</td>\n",
       "      <td>FH001886QH01</td>\n",
       "      <td>1</td>\n",
       "    </tr>\n",
       "    <tr>\n",
       "      <th>3092</th>\n",
       "      <td>18860690.0</td>\n",
       "      <td>9</td>\n",
       "      <td>22808129</td>\n",
       "      <td>FA0001389001</td>\n",
       "      <td>1</td>\n",
       "      <td>636</td>\n",
       "      <td>OP7O</td>\n",
       "      <td></td>\n",
       "      <td>J7030</td>\n",
       "      <td>64303</td>\n",
       "      <td>196.890405</td>\n",
       "      <td>J2L</td>\n",
       "      <td>A</td>\n",
       "      <td>I</td>\n",
       "      <td>N</td>\n",
       "      <td>N</td>\n",
       "      <td>R</td>\n",
       "      <td>0.0</td>\n",
       "      <td>0.0</td>\n",
       "      <td>275</td>\n",
       "      <td>18475600</td>\n",
       "      <td>483</td>\n",
       "      <td>M</td>\n",
       "      <td>H</td>\n",
       "      <td></td>\n",
       "      <td>2</td>\n",
       "      <td>H00000000001</td>\n",
       "      <td>FH001886QH01</td>\n",
       "      <td>1</td>\n",
       "    </tr>\n",
       "    <tr>\n",
       "      <th>3103</th>\n",
       "      <td>281757390.0</td>\n",
       "      <td>10</td>\n",
       "      <td>1997607</td>\n",
       "      <td>FA0001389001</td>\n",
       "      <td>5</td>\n",
       "      <td>636</td>\n",
       "      <td>OP7O</td>\n",
       "      <td></td>\n",
       "      <td>J1650</td>\n",
       "      <td>4359</td>\n",
       "      <td>592.201995</td>\n",
       "      <td>KDR</td>\n",
       "      <td>A</td>\n",
       "      <td>I</td>\n",
       "      <td>N</td>\n",
       "      <td>N</td>\n",
       "      <td></td>\n",
       "      <td>0.0</td>\n",
       "      <td>0.0</td>\n",
       "      <td>114</td>\n",
       "      <td>1618150</td>\n",
       "      <td>0</td>\n",
       "      <td>M</td>\n",
       "      <td>H</td>\n",
       "      <td>S</td>\n",
       "      <td>91</td>\n",
       "      <td>P00000000001</td>\n",
       "      <td>FH001309QB01</td>\n",
       "      <td>1</td>\n",
       "    </tr>\n",
       "    <tr>\n",
       "      <th>3114</th>\n",
       "      <td>450273590.0</td>\n",
       "      <td>10</td>\n",
       "      <td>1991496</td>\n",
       "      <td>FA0001389001</td>\n",
       "      <td>5</td>\n",
       "      <td>636</td>\n",
       "      <td>OP7O</td>\n",
       "      <td></td>\n",
       "      <td>J1650</td>\n",
       "      <td>4359</td>\n",
       "      <td>592.201995</td>\n",
       "      <td>KAO</td>\n",
       "      <td>A</td>\n",
       "      <td>I</td>\n",
       "      <td>N</td>\n",
       "      <td>N</td>\n",
       "      <td></td>\n",
       "      <td>0.0</td>\n",
       "      <td>0.0</td>\n",
       "      <td>114</td>\n",
       "      <td>1613200</td>\n",
       "      <td>0</td>\n",
       "      <td>M</td>\n",
       "      <td>H</td>\n",
       "      <td>S</td>\n",
       "      <td>2</td>\n",
       "      <td>P00000000001</td>\n",
       "      <td>FH001309QB01</td>\n",
       "      <td>1</td>\n",
       "    </tr>\n",
       "  </tbody>\n",
       "</table>\n",
       "</div>"
      ],
      "text/plain": [
       "      Claim.Number Claim.Line.Number Member.ID   Provider.ID  \\\n",
       "3073    74645490.0                10   1992052  FA0001389001   \n",
       "3091    18860690.0                 8  22808129  FA0001389001   \n",
       "3092    18860690.0                 9  22808129  FA0001389001   \n",
       "3103   281757390.0                10   1997607  FA0001389001   \n",
       "3114   450273590.0                10   1991496  FA0001389001   \n",
       "\n",
       "     Line.Of.Business.ID Revenue.Code Service.Code Place.Of.Service.Code  \\\n",
       "3073                   5          636         OP7O                         \n",
       "3091                   1          636         OP7O                         \n",
       "3092                   1          636         OP7O                         \n",
       "3103                   5          636         OP7O                         \n",
       "3114                   5          636         OP7O                         \n",
       "\n",
       "     Procedure.Code Diagnosis.Code  Claim.Charge.Amount Denial.Reason.Code  \\\n",
       "3073          J1650           4359           592.201995                KAO   \n",
       "3091          J2405          64303           118.832970                J2L   \n",
       "3092          J7030          64303           196.890405                J2L   \n",
       "3103          J1650           4359           592.201995                KDR   \n",
       "3114          J1650           4359           592.201995                KAO   \n",
       "\n",
       "     Price.Index In.Out.Of.Network Reference.Index Pricing.Index  \\\n",
       "3073           A                 I               N             N   \n",
       "3091           A                 I               N             N   \n",
       "3092           A                 I               N             N   \n",
       "3103           A                 I               N             N   \n",
       "3114           A                 I               N             N   \n",
       "\n",
       "     Capitation.Index  Subscriber.Payment.Amount  Provider.Payment.Amount  \\\n",
       "3073                                         0.0                      0.0   \n",
       "3091                R                        0.0                      0.0   \n",
       "3092                R                        0.0                      0.0   \n",
       "3103                                         0.0                      0.0   \n",
       "3114                                         0.0                      0.0   \n",
       "\n",
       "     Group.Index Subscriber.Index Subgroup.Index Claim.Type  \\\n",
       "3073         114          1613650              0          M   \n",
       "3091         275         18475600            483          M   \n",
       "3092         275         18475600            483          M   \n",
       "3103         114          1618150              0          M   \n",
       "3114         114          1613200              0          M   \n",
       "\n",
       "     Claim.Subscriber.Type Claim.Pre.Prince.Index Claim.Current.Status  \\\n",
       "3073                     H                      S                   91   \n",
       "3091                     H                                           2   \n",
       "3092                     H                                           2   \n",
       "3103                     H                      S                   91   \n",
       "3114                     H                      S                    2   \n",
       "\n",
       "        Network.ID  Agreement.ID  IsProcedure  \n",
       "3073  P00000000001  FH001309QB01            1  \n",
       "3091  H00000000001  FH001886QH01            1  \n",
       "3092  H00000000001  FH001886QH01            1  \n",
       "3103  P00000000001  FH001309QB01            1  \n",
       "3114  P00000000001  FH001309QB01            1  "
      ]
     },
     "execution_count": 10,
     "metadata": {},
     "output_type": "execute_result"
    }
   ],
   "source": [
    "# get procedure claims and add them to a list\n",
    "IsProcedure = [ 1 if proc.startswith('J') else 0 for proc in claim_data['Procedure.Code']]\n",
    "\n",
    "# add list as a new column to the dataframe\n",
    "claim_data['IsProcedure'] = IsProcedure\n",
    "\n",
    "# show a sample of the data\n",
    "claim_data.loc[claim_data.IsProcedure == 1].head()"
   ]
  },
  {
   "cell_type": "markdown",
   "metadata": {},
   "source": [
    "# ------ Question 1 (Procedure Analysis) ------"
   ]
  },
  {
   "cell_type": "markdown",
   "metadata": {},
   "source": [
    "## Part A (Find the number of claim lines that have J-codes)"
   ]
  },
  {
   "cell_type": "code",
   "execution_count": 11,
   "metadata": {
    "ExecuteTime": {
     "end_time": "2020-07-17T18:10:01.064582Z",
     "start_time": "2020-07-17T18:10:01.020238Z"
    }
   },
   "outputs": [
    {
     "data": {
      "text/plain": [
       "'The number of unique claims with procedures is 10691'"
      ]
     },
     "execution_count": 11,
     "metadata": {},
     "output_type": "execute_result"
    }
   ],
   "source": [
    "claims_with_procedures = claim_data.loc[claim_data.IsProcedure == 1, 'Claim.Number']\n",
    "f\"The number of unique claims with procedures is {len(np.unique(claims_with_procedures))}\""
   ]
  },
  {
   "cell_type": "markdown",
   "metadata": {},
   "source": [
    "## Part B (How much was paid to providers for In Network Claims?)"
   ]
  },
  {
   "cell_type": "code",
   "execution_count": 12,
   "metadata": {
    "ExecuteTime": {
     "end_time": "2020-07-17T18:10:02.219980Z",
     "start_time": "2020-07-17T18:10:01.821550Z"
    }
   },
   "outputs": [
    {
     "data": {
      "text/plain": [
       "'The sum of payments made to providers for in-network procedures is $2,417,220.96'"
      ]
     },
     "execution_count": 12,
     "metadata": {},
     "output_type": "execute_result"
    }
   ],
   "source": [
    "from babel.numbers import format_currency\n",
    "in_network_claims_with_procedures = claim_data.loc[(claim_data['IsProcedure'] == 1)\n",
    "                                                    & (claim_data['In.Out.Of.Network'] == 'I'), 'Provider.Payment.Amount']\n",
    "paid_amount = round(np.sum(in_network_claims_with_procedures),2)\n",
    "f\"The sum of payments made to providers for in-network procedures is {format_currency(paid_amount, 'USD', locale='en_US')}\"\n"
   ]
  },
  {
   "cell_type": "markdown",
   "metadata": {
    "ExecuteTime": {
     "end_time": "2020-07-10T22:33:09.108823Z",
     "start_time": "2020-07-10T22:33:08.792683Z"
    }
   },
   "source": [
    "## Part C (What are the top five J-codes based on the payment to providers?)\n"
   ]
  },
  {
   "cell_type": "code",
   "execution_count": 13,
   "metadata": {
    "ExecuteTime": {
     "end_time": "2020-07-17T18:10:02.533202Z",
     "start_time": "2020-07-17T18:10:02.490166Z"
    }
   },
   "outputs": [
    {
     "data": {
      "text/plain": [
       "J2405    540\n",
       "J2501    457\n",
       "J7030    387\n",
       "J1170    363\n",
       "J1644    301\n",
       "Name: Procedure.Code, dtype: int64"
      ]
     },
     "execution_count": 13,
     "metadata": {},
     "output_type": "execute_result"
    }
   ],
   "source": [
    "claim_data.loc[(claim_data['IsProcedure'] == 1)\n",
    "               & (claim_data['Provider.Payment.Amount'] > 0), 'Procedure.Code'].value_counts(ascending=False).head()"
   ]
  },
  {
   "cell_type": "code",
   "execution_count": 14,
   "metadata": {
    "ExecuteTime": {
     "end_time": "2020-07-17T18:10:03.234487Z",
     "start_time": "2020-07-17T18:10:02.697828Z"
    }
   },
   "outputs": [
    {
     "data": {
      "image/png": "[encoded data removed]",
      "text/plain": [
       "<Figure size 1296x720 with 1 Axes>"
      ]
     },
     "metadata": {},
     "output_type": "display_data"
    }
   ],
   "source": [
    "plt.figure(figsize=(18,10))\n",
    "procedures = claim_data.loc[(claim_data['IsProcedure'] == 1)\n",
    "               & (claim_data['Provider.Payment.Amount'] > 0), 'Procedure.Code']\n",
    "sns.countplot(y=procedures, order=procedures.value_counts().iloc[:5].index);\n",
    "plt.tight_layout()\n",
    "plt.savefig(os.path.join('../','visualization',f\"PaidProcedures_barchart.png\"))"
   ]
  },
  {
   "cell_type": "markdown",
   "metadata": {},
   "source": [
    "# ------ Question 2 (Provider Analysis) ------"
   ]
  },
  {
   "cell_type": "markdown",
   "metadata": {},
   "source": [
    "## Scatter plot analysis of paid versus unpaid claims"
   ]
  },
  {
   "cell_type": "code",
   "execution_count": 15,
   "metadata": {
    "ExecuteTime": {
     "end_time": "2020-07-17T18:10:03.433517Z",
     "start_time": "2020-07-17T18:10:03.236743Z"
    }
   },
   "outputs": [],
   "source": [
    "# get providers with at least one paid claim\n",
    "providers_with_paid_claims = claim_data.loc[(claim_data['IsProcedure'] == 1) \n",
    "               & (claim_data['Provider.Payment.Amount'] > 0), 'Provider.ID']\n",
    "providers = list(set(providers_with_paid_claims))\n",
    "provider_claims = [1 if prov in providers else 0 for prov in claim_data['Provider.ID']]\n",
    "\n"
   ]
  },
  {
   "cell_type": "code",
   "execution_count": 16,
   "metadata": {
    "ExecuteTime": {
     "end_time": "2020-07-17T18:10:03.496498Z",
     "start_time": "2020-07-17T18:10:03.436755Z"
    }
   },
   "outputs": [],
   "source": [
    "# get upaid claim data and put it into the claim dataframe\n",
    "unpaid_claim_data = claim_data.loc[(claim_data['IsProcedure'] == 1) \n",
    "               & (claim_data['Provider.Payment.Amount'] == 0), 'Claim.Number'].index\n",
    "unpaid_claims = np.zeros(len(claim_data))\n",
    "unpaid_claims[unpaid_claim_data] = 1\n",
    "claim_data['UnpaidClaim'] = unpaid_claims\n",
    "claim_data['UnpaidClaim']  = claim_data['UnpaidClaim'].astype(int)"
   ]
  },
  {
   "cell_type": "code",
   "execution_count": 17,
   "metadata": {
    "ExecuteTime": {
     "end_time": "2020-07-17T18:10:03.614759Z",
     "start_time": "2020-07-17T18:10:03.572143Z"
    }
   },
   "outputs": [],
   "source": [
    "# get paid procedure claim data and put it into the claim dataframe\n",
    "paid_claim_data = claim_data.loc[(claim_data['IsProcedure'] == 1) \n",
    "               & (claim_data['Provider.Payment.Amount'] > 0), 'Claim.Number'].index\n",
    "paid_claims = np.zeros(len(claim_data))\n",
    "paid_claims[paid_claim_data] = 1\n",
    "claim_data['PaidClaim'] = paid_claims\n",
    "claim_data['PaidClaim']  = claim_data['PaidClaim'].astype(int)"
   ]
  },
  {
   "cell_type": "code",
   "execution_count": 18,
   "metadata": {
    "ExecuteTime": {
     "end_time": "2020-07-17T18:10:04.700948Z",
     "start_time": "2020-07-17T18:10:03.738159Z"
    }
   },
   "outputs": [],
   "source": [
    "# produce unpaid and paid claim count by provider and load into a dataframe\n",
    "provider_data = [GetProviderCount(claim_data, provider) for provider in providers]\n",
    "provider_df = pd.DataFrame(provider_data, columns=['ProviderID','PaidCount','UnPaidCount'])"
   ]
  },
  {
   "cell_type": "code",
   "execution_count": 19,
   "metadata": {
    "ExecuteTime": {
     "end_time": "2020-07-17T18:10:05.295409Z",
     "start_time": "2020-07-17T18:10:04.703384Z"
    }
   },
   "outputs": [
    {
     "data": {
      "image/png": "[encoded data removed]",
      "text/plain": [
       "<Figure size 1296x720 with 1 Axes>"
      ]
     },
     "metadata": {},
     "output_type": "display_data"
    }
   ],
   "source": [
    "plt.figure(figsize=(18,10))\n",
    "plt.title(\"Un Paid Claims Versus Paid Claims By Provider\")\n",
    "ax = sns.scatterplot(x='UnPaidCount', y=\"PaidCount\", data=provider_df)\n",
    "plt.savefig(os.path.join('../','visualization',f\"PaidVsUnpaid_Scatterplot.png\"))"
   ]
  },
  {
   "cell_type": "markdown",
   "metadata": {},
   "source": [
    "## Graph Analysis and Concerns"
   ]
  },
  {
   "cell_type": "markdown",
   "metadata": {
    "ExecuteTime": {
     "end_time": "2020-07-12T19:12:57.059104Z",
     "start_time": "2020-07-12T19:12:57.053983Z"
    }
   },
   "source": [
    "As the numbers have stated, the provider paid percentage average is 17.69 while the average unpaid percentage is 82.31 which means that on overage healthcare organization are missing 82.31 of potential revenue. Providers have a paid percentage of anywhere between 1 to 56 percent. I would want to understand how this data relates to time as most claims are not paid until the end of the month. I would also want to understand why there is a wide discrepancy between provider paid percentages.  There is a strong positive correlation between the two variables (Paid Versus Unpaid Counts).\n"
   ]
  },
  {
   "cell_type": "markdown",
   "metadata": {},
   "source": [
    "# ------ Question 3 (Data Analysis) ------ "
   ]
  },
  {
   "cell_type": "markdown",
   "metadata": {},
   "source": [
    "## Provider Paid Versus Unpaid Grid"
   ]
  },
  {
   "cell_type": "code",
   "execution_count": 20,
   "metadata": {
    "ExecuteTime": {
     "end_time": "2020-07-17T18:10:05.362687Z",
     "start_time": "2020-07-17T18:10:05.299404Z"
    }
   },
   "outputs": [
    {
     "data": {
      "text/html": [
       "<div>\n",
       "<style scoped>\n",
       "    .dataframe tbody tr th:only-of-type {\n",
       "        vertical-align: middle;\n",
       "    }\n",
       "\n",
       "    .dataframe tbody tr th {\n",
       "        vertical-align: top;\n",
       "    }\n",
       "\n",
       "    .dataframe thead th {\n",
       "        text-align: right;\n",
       "    }\n",
       "</style>\n",
       "<table border=\"1\" class=\"dataframe\">\n",
       "  <thead>\n",
       "    <tr style=\"text-align: right;\">\n",
       "      <th></th>\n",
       "      <th>ProviderID</th>\n",
       "      <th>PaidCount</th>\n",
       "      <th>UnPaidCount</th>\n",
       "      <th>Total Claims</th>\n",
       "      <th>Paid Percentage</th>\n",
       "      <th>UnPaid Percentage</th>\n",
       "    </tr>\n",
       "  </thead>\n",
       "  <tbody>\n",
       "    <tr>\n",
       "      <th>0</th>\n",
       "      <td>FA0001389001</td>\n",
       "      <td>895</td>\n",
       "      <td>13947</td>\n",
       "      <td>14842</td>\n",
       "      <td>6.030185</td>\n",
       "      <td>93.969815</td>\n",
       "    </tr>\n",
       "    <tr>\n",
       "      <th>1</th>\n",
       "      <td>FA0004551001</td>\n",
       "      <td>415</td>\n",
       "      <td>322</td>\n",
       "      <td>737</td>\n",
       "      <td>56.309362</td>\n",
       "      <td>43.690638</td>\n",
       "    </tr>\n",
       "    <tr>\n",
       "      <th>2</th>\n",
       "      <td>FA1000015001</td>\n",
       "      <td>740</td>\n",
       "      <td>1170</td>\n",
       "      <td>1910</td>\n",
       "      <td>38.743455</td>\n",
       "      <td>61.256545</td>\n",
       "    </tr>\n",
       "    <tr>\n",
       "      <th>3</th>\n",
       "      <td>FA0001389003</td>\n",
       "      <td>8</td>\n",
       "      <td>539</td>\n",
       "      <td>547</td>\n",
       "      <td>1.462523</td>\n",
       "      <td>98.537477</td>\n",
       "    </tr>\n",
       "    <tr>\n",
       "      <th>4</th>\n",
       "      <td>FA0001411003</td>\n",
       "      <td>4</td>\n",
       "      <td>67</td>\n",
       "      <td>71</td>\n",
       "      <td>5.633803</td>\n",
       "      <td>94.366197</td>\n",
       "    </tr>\n",
       "    <tr>\n",
       "      <th>5</th>\n",
       "      <td>FA1000014002</td>\n",
       "      <td>5</td>\n",
       "      <td>49</td>\n",
       "      <td>54</td>\n",
       "      <td>9.259259</td>\n",
       "      <td>90.740741</td>\n",
       "    </tr>\n",
       "    <tr>\n",
       "      <th>6</th>\n",
       "      <td>FA1000016001</td>\n",
       "      <td>7</td>\n",
       "      <td>46</td>\n",
       "      <td>53</td>\n",
       "      <td>13.207547</td>\n",
       "      <td>86.792453</td>\n",
       "    </tr>\n",
       "    <tr>\n",
       "      <th>7</th>\n",
       "      <td>FA0001774001</td>\n",
       "      <td>302</td>\n",
       "      <td>2545</td>\n",
       "      <td>2847</td>\n",
       "      <td>10.607657</td>\n",
       "      <td>89.392343</td>\n",
       "    </tr>\n",
       "    <tr>\n",
       "      <th>8</th>\n",
       "      <td>FA0001387002</td>\n",
       "      <td>1786</td>\n",
       "      <td>9799</td>\n",
       "      <td>11585</td>\n",
       "      <td>15.416487</td>\n",
       "      <td>84.583513</td>\n",
       "    </tr>\n",
       "    <tr>\n",
       "      <th>9</th>\n",
       "      <td>FA1000014001</td>\n",
       "      <td>561</td>\n",
       "      <td>601</td>\n",
       "      <td>1162</td>\n",
       "      <td>48.278830</td>\n",
       "      <td>51.721170</td>\n",
       "    </tr>\n",
       "    <tr>\n",
       "      <th>10</th>\n",
       "      <td>FA0001411001</td>\n",
       "      <td>1228</td>\n",
       "      <td>6703</td>\n",
       "      <td>7931</td>\n",
       "      <td>15.483546</td>\n",
       "      <td>84.516454</td>\n",
       "    </tr>\n",
       "    <tr>\n",
       "      <th>11</th>\n",
       "      <td>FA0001387001</td>\n",
       "      <td>74</td>\n",
       "      <td>8710</td>\n",
       "      <td>8784</td>\n",
       "      <td>0.842441</td>\n",
       "      <td>99.157559</td>\n",
       "    </tr>\n",
       "    <tr>\n",
       "      <th>12</th>\n",
       "      <td>FA1000015002</td>\n",
       "      <td>43</td>\n",
       "      <td>449</td>\n",
       "      <td>492</td>\n",
       "      <td>8.739837</td>\n",
       "      <td>91.260163</td>\n",
       "    </tr>\n",
       "  </tbody>\n",
       "</table>\n",
       "</div>"
      ],
      "text/plain": [
       "      ProviderID  PaidCount  UnPaidCount  Total Claims  Paid Percentage  \\\n",
       "0   FA0001389001        895        13947         14842         6.030185   \n",
       "1   FA0004551001        415          322           737        56.309362   \n",
       "2   FA1000015001        740         1170          1910        38.743455   \n",
       "3   FA0001389003          8          539           547         1.462523   \n",
       "4   FA0001411003          4           67            71         5.633803   \n",
       "5   FA1000014002          5           49            54         9.259259   \n",
       "6   FA1000016001          7           46            53        13.207547   \n",
       "7   FA0001774001        302         2545          2847        10.607657   \n",
       "8   FA0001387002       1786         9799         11585        15.416487   \n",
       "9   FA1000014001        561          601          1162        48.278830   \n",
       "10  FA0001411001       1228         6703          7931        15.483546   \n",
       "11  FA0001387001         74         8710          8784         0.842441   \n",
       "12  FA1000015002         43          449           492         8.739837   \n",
       "\n",
       "    UnPaid Percentage  \n",
       "0           93.969815  \n",
       "1           43.690638  \n",
       "2           61.256545  \n",
       "3           98.537477  \n",
       "4           94.366197  \n",
       "5           90.740741  \n",
       "6           86.792453  \n",
       "7           89.392343  \n",
       "8           84.583513  \n",
       "9           51.721170  \n",
       "10          84.516454  \n",
       "11          99.157559  \n",
       "12          91.260163  "
      ]
     },
     "execution_count": 20,
     "metadata": {},
     "output_type": "execute_result"
    }
   ],
   "source": [
    "# show paid versus upaid claim information with percentages\n",
    "provider_df['Total Claims'] = provider_df['PaidCount'] + provider_df['UnPaidCount']\n",
    "provider_df['Paid Percentage'] = (provider_df['PaidCount'] / provider_df['Total Claims']) * 100\n",
    "provider_df['UnPaid Percentage'] = 100 - provider_df['Paid Percentage']\n",
    "provider_df"
   ]
  },
  {
   "cell_type": "markdown",
   "metadata": {},
   "source": [
    "## Paid Versus Unpaid Percentage Numbers"
   ]
  },
  {
   "cell_type": "code",
   "execution_count": 21,
   "metadata": {
    "ExecuteTime": {
     "end_time": "2020-07-17T18:10:07.225818Z",
     "start_time": "2020-07-17T18:10:07.219268Z"
    }
   },
   "outputs": [
    {
     "data": {
      "text/plain": [
       "'The average paid percentage is 17.693456299234207 while the unpaid percentage is 82.3065437007658'"
      ]
     },
     "execution_count": 21,
     "metadata": {},
     "output_type": "execute_result"
    }
   ],
   "source": [
    "# get the unpaid and paid percentages\n",
    "average_paid_percentage = np.average(provider_df['Paid Percentage'])\n",
    "average_unpaid_percentage = np.average(provider_df['UnPaid Percentage'])\n",
    "f\"The average paid percentage is {average_paid_percentage} while the unpaid percentage is {average_unpaid_percentage}\""
   ]
  },
  {
   "cell_type": "markdown",
   "metadata": {},
   "source": [
    "## Provider Paid Percentages (Grouped Bar Chart)"
   ]
  },
  {
   "cell_type": "code",
   "execution_count": 22,
   "metadata": {
    "ExecuteTime": {
     "end_time": "2020-07-17T18:10:08.619553Z",
     "start_time": "2020-07-17T18:10:07.943001Z"
    }
   },
   "outputs": [
    {
     "data": {
      "image/png": "[encoded data removed]",
      "text/plain": [
       "<Figure size 1296x720 with 1 Axes>"
      ]
     },
     "metadata": {},
     "output_type": "display_data"
    }
   ],
   "source": [
    "import numpy as np\n",
    "import matplotlib.pyplot as plt\n",
    " \n",
    "# set width of bar\n",
    "barWidth = 0.25\n",
    "\n",
    "# sort values before starting\n",
    "provider_df = provider_df.sort_values('UnPaid Percentage', ascending=False)\n",
    "\n",
    "# set height of bar\n",
    "bars1 = provider_df['Paid Percentage'].values\n",
    "bars2 = provider_df['UnPaid Percentage'].values\n",
    "\n",
    "# Set position of bar on X axis\n",
    "r1 = np.arange(len(bars1))\n",
    "r2 = [x + barWidth for x in r1]\n",
    "\n",
    "# set figure size\n",
    "plt.figure(figsize=(18,10))\n",
    "plt.title(\"Paid Percentage Versus UnPaid Percentage\")\n",
    "\n",
    "# Make the plot\n",
    "plt.bar(r1, bars1, color='#7f6d5f', width=barWidth, edgecolor='white', label='Paid Percentage')\n",
    "plt.bar(r2, bars2, color='#557f2d', width=barWidth, edgecolor='white', label='UnPaid Percentage')\n",
    " \n",
    "# Add xticks on the middle of the group bars\n",
    "plt.xlabel('ProviderID', fontweight='bold')\n",
    "plt.xticks([r + barWidth for r in range(len(bars1))], provider_df['ProviderID'].values, rotation=45)\n",
    " \n",
    "# Add a static line for the average paid and unpaid amount\n",
    "plt.axhline(average_unpaid_percentage, color='r', label='Average UnPaid Percentage')\n",
    "plt.axhline(average_paid_percentage, color='b', label='Average Paid Percentage')\n",
    "\n",
    "# Create legend & Show graphic\n",
    "plt.legend()\n",
    "\n",
    "# Save File\n",
    "plt.savefig(os.path.join('../','visualization',f\"PaidVsUnpaid_Percentage.png\"))\n",
    "\n",
    "# Show Image\n",
    "plt.show()\n",
    "\n",
    "\n"
   ]
  },
  {
   "cell_type": "markdown",
   "metadata": {},
   "source": [
    "## Data Prep"
   ]
  },
  {
   "cell_type": "code",
   "execution_count": 23,
   "metadata": {
    "ExecuteTime": {
     "end_time": "2020-07-17T18:10:10.314646Z",
     "start_time": "2020-07-17T18:10:09.290030Z"
    }
   },
   "outputs": [],
   "source": [
    "# load procedure data including new columns \n",
    "procedure_data = claim_data.loc[claim_data.IsProcedure == 1].copy()\n",
    "\n",
    "# delete claim data from memory\n",
    "del claim_data\n",
    "\n",
    "# drop unneccessary columns (IsProcedure and Paid Claim)\n",
    "procedure_data.drop(['IsProcedure', 'PaidClaim'], axis=1, inplace=True)\n",
    "\n",
    "# convert claim number to an integer value\n",
    "procedure_data['Claim.Number'] = procedure_data['Claim.Number'].astype(int)\n",
    "\n",
    "# save data to file for future usage\n",
    "procedure_data.to_csv(os.path.join('../data','original', 'procedure_data.tar.gz'), compression='gzip', index=False)"
   ]
  },
  {
   "cell_type": "markdown",
   "metadata": {},
   "source": [
    "## Examine Procedure Data Set"
   ]
  },
  {
   "cell_type": "code",
   "execution_count": 24,
   "metadata": {
    "ExecuteTime": {
     "end_time": "2020-07-17T18:10:10.680116Z",
     "start_time": "2020-07-17T18:10:10.317455Z"
    }
   },
   "outputs": [
    {
     "data": {
      "text/html": [
       "<div>\n",
       "<style scoped>\n",
       "    .dataframe tbody tr th:only-of-type {\n",
       "        vertical-align: middle;\n",
       "    }\n",
       "\n",
       "    .dataframe tbody tr th {\n",
       "        vertical-align: top;\n",
       "    }\n",
       "\n",
       "    .dataframe thead th {\n",
       "        text-align: right;\n",
       "    }\n",
       "</style>\n",
       "<table border=\"1\" class=\"dataframe\">\n",
       "  <thead>\n",
       "    <tr style=\"text-align: right;\">\n",
       "      <th></th>\n",
       "      <th>Claim.Number</th>\n",
       "      <th>Claim.Line.Number</th>\n",
       "      <th>Member.ID</th>\n",
       "      <th>Provider.ID</th>\n",
       "      <th>Line.Of.Business.ID</th>\n",
       "      <th>Revenue.Code</th>\n",
       "      <th>Service.Code</th>\n",
       "      <th>Place.Of.Service.Code</th>\n",
       "      <th>Procedure.Code</th>\n",
       "      <th>Diagnosis.Code</th>\n",
       "      <th>Claim.Charge.Amount</th>\n",
       "      <th>Denial.Reason.Code</th>\n",
       "      <th>Price.Index</th>\n",
       "      <th>In.Out.Of.Network</th>\n",
       "      <th>Reference.Index</th>\n",
       "      <th>Pricing.Index</th>\n",
       "      <th>Capitation.Index</th>\n",
       "      <th>Subscriber.Payment.Amount</th>\n",
       "      <th>Provider.Payment.Amount</th>\n",
       "      <th>Group.Index</th>\n",
       "      <th>Subscriber.Index</th>\n",
       "      <th>Subgroup.Index</th>\n",
       "      <th>Claim.Type</th>\n",
       "      <th>Claim.Subscriber.Type</th>\n",
       "      <th>Claim.Pre.Prince.Index</th>\n",
       "      <th>Claim.Current.Status</th>\n",
       "      <th>Network.ID</th>\n",
       "      <th>Agreement.ID</th>\n",
       "      <th>UnpaidClaim</th>\n",
       "    </tr>\n",
       "  </thead>\n",
       "  <tbody>\n",
       "    <tr>\n",
       "      <th>0</th>\n",
       "      <td>74645490</td>\n",
       "      <td>10</td>\n",
       "      <td>1992052</td>\n",
       "      <td>FA0001389001</td>\n",
       "      <td>5</td>\n",
       "      <td>636</td>\n",
       "      <td>OP7O</td>\n",
       "      <td></td>\n",
       "      <td>J1650</td>\n",
       "      <td>4359</td>\n",
       "      <td>592.201995</td>\n",
       "      <td>KAO</td>\n",
       "      <td>A</td>\n",
       "      <td>I</td>\n",
       "      <td>N</td>\n",
       "      <td>N</td>\n",
       "      <td></td>\n",
       "      <td>0.0</td>\n",
       "      <td>0.0</td>\n",
       "      <td>114</td>\n",
       "      <td>1613650</td>\n",
       "      <td>0</td>\n",
       "      <td>M</td>\n",
       "      <td>H</td>\n",
       "      <td>S</td>\n",
       "      <td>91</td>\n",
       "      <td>P00000000001</td>\n",
       "      <td>FH001309QB01</td>\n",
       "      <td>1</td>\n",
       "    </tr>\n",
       "    <tr>\n",
       "      <th>1</th>\n",
       "      <td>18860690</td>\n",
       "      <td>8</td>\n",
       "      <td>22808129</td>\n",
       "      <td>FA0001389001</td>\n",
       "      <td>1</td>\n",
       "      <td>636</td>\n",
       "      <td>OP7O</td>\n",
       "      <td></td>\n",
       "      <td>J2405</td>\n",
       "      <td>64303</td>\n",
       "      <td>118.832970</td>\n",
       "      <td>J2L</td>\n",
       "      <td>A</td>\n",
       "      <td>I</td>\n",
       "      <td>N</td>\n",
       "      <td>N</td>\n",
       "      <td>R</td>\n",
       "      <td>0.0</td>\n",
       "      <td>0.0</td>\n",
       "      <td>275</td>\n",
       "      <td>18475600</td>\n",
       "      <td>483</td>\n",
       "      <td>M</td>\n",
       "      <td>H</td>\n",
       "      <td></td>\n",
       "      <td>2</td>\n",
       "      <td>H00000000001</td>\n",
       "      <td>FH001886QH01</td>\n",
       "      <td>1</td>\n",
       "    </tr>\n",
       "    <tr>\n",
       "      <th>2</th>\n",
       "      <td>18860690</td>\n",
       "      <td>9</td>\n",
       "      <td>22808129</td>\n",
       "      <td>FA0001389001</td>\n",
       "      <td>1</td>\n",
       "      <td>636</td>\n",
       "      <td>OP7O</td>\n",
       "      <td></td>\n",
       "      <td>J7030</td>\n",
       "      <td>64303</td>\n",
       "      <td>196.890405</td>\n",
       "      <td>J2L</td>\n",
       "      <td>A</td>\n",
       "      <td>I</td>\n",
       "      <td>N</td>\n",
       "      <td>N</td>\n",
       "      <td>R</td>\n",
       "      <td>0.0</td>\n",
       "      <td>0.0</td>\n",
       "      <td>275</td>\n",
       "      <td>18475600</td>\n",
       "      <td>483</td>\n",
       "      <td>M</td>\n",
       "      <td>H</td>\n",
       "      <td></td>\n",
       "      <td>2</td>\n",
       "      <td>H00000000001</td>\n",
       "      <td>FH001886QH01</td>\n",
       "      <td>1</td>\n",
       "    </tr>\n",
       "    <tr>\n",
       "      <th>3</th>\n",
       "      <td>281757390</td>\n",
       "      <td>10</td>\n",
       "      <td>1997607</td>\n",
       "      <td>FA0001389001</td>\n",
       "      <td>5</td>\n",
       "      <td>636</td>\n",
       "      <td>OP7O</td>\n",
       "      <td></td>\n",
       "      <td>J1650</td>\n",
       "      <td>4359</td>\n",
       "      <td>592.201995</td>\n",
       "      <td>KDR</td>\n",
       "      <td>A</td>\n",
       "      <td>I</td>\n",
       "      <td>N</td>\n",
       "      <td>N</td>\n",
       "      <td></td>\n",
       "      <td>0.0</td>\n",
       "      <td>0.0</td>\n",
       "      <td>114</td>\n",
       "      <td>1618150</td>\n",
       "      <td>0</td>\n",
       "      <td>M</td>\n",
       "      <td>H</td>\n",
       "      <td>S</td>\n",
       "      <td>91</td>\n",
       "      <td>P00000000001</td>\n",
       "      <td>FH001309QB01</td>\n",
       "      <td>1</td>\n",
       "    </tr>\n",
       "    <tr>\n",
       "      <th>4</th>\n",
       "      <td>450273590</td>\n",
       "      <td>10</td>\n",
       "      <td>1991496</td>\n",
       "      <td>FA0001389001</td>\n",
       "      <td>5</td>\n",
       "      <td>636</td>\n",
       "      <td>OP7O</td>\n",
       "      <td></td>\n",
       "      <td>J1650</td>\n",
       "      <td>4359</td>\n",
       "      <td>592.201995</td>\n",
       "      <td>KAO</td>\n",
       "      <td>A</td>\n",
       "      <td>I</td>\n",
       "      <td>N</td>\n",
       "      <td>N</td>\n",
       "      <td></td>\n",
       "      <td>0.0</td>\n",
       "      <td>0.0</td>\n",
       "      <td>114</td>\n",
       "      <td>1613200</td>\n",
       "      <td>0</td>\n",
       "      <td>M</td>\n",
       "      <td>H</td>\n",
       "      <td>S</td>\n",
       "      <td>2</td>\n",
       "      <td>P00000000001</td>\n",
       "      <td>FH001309QB01</td>\n",
       "      <td>1</td>\n",
       "    </tr>\n",
       "  </tbody>\n",
       "</table>\n",
       "</div>"
      ],
      "text/plain": [
       "   Claim.Number  Claim.Line.Number  Member.ID   Provider.ID  \\\n",
       "0      74645490                 10    1992052  FA0001389001   \n",
       "1      18860690                  8   22808129  FA0001389001   \n",
       "2      18860690                  9   22808129  FA0001389001   \n",
       "3     281757390                 10    1997607  FA0001389001   \n",
       "4     450273590                 10    1991496  FA0001389001   \n",
       "\n",
       "  Line.Of.Business.ID Revenue.Code Service.Code Place.Of.Service.Code  \\\n",
       "0                   5          636         OP7O                         \n",
       "1                   1          636         OP7O                         \n",
       "2                   1          636         OP7O                         \n",
       "3                   5          636         OP7O                         \n",
       "4                   5          636         OP7O                         \n",
       "\n",
       "  Procedure.Code Diagnosis.Code  Claim.Charge.Amount Denial.Reason.Code  \\\n",
       "0          J1650           4359           592.201995                KAO   \n",
       "1          J2405          64303           118.832970                J2L   \n",
       "2          J7030          64303           196.890405                J2L   \n",
       "3          J1650           4359           592.201995                KDR   \n",
       "4          J1650           4359           592.201995                KAO   \n",
       "\n",
       "  Price.Index In.Out.Of.Network Reference.Index Pricing.Index  \\\n",
       "0           A                 I               N             N   \n",
       "1           A                 I               N             N   \n",
       "2           A                 I               N             N   \n",
       "3           A                 I               N             N   \n",
       "4           A                 I               N             N   \n",
       "\n",
       "  Capitation.Index  Subscriber.Payment.Amount  Provider.Payment.Amount  \\\n",
       "0                                         0.0                      0.0   \n",
       "1                R                        0.0                      0.0   \n",
       "2                R                        0.0                      0.0   \n",
       "3                                         0.0                      0.0   \n",
       "4                                         0.0                      0.0   \n",
       "\n",
       "   Group.Index  Subscriber.Index  Subgroup.Index Claim.Type  \\\n",
       "0          114           1613650               0          M   \n",
       "1          275          18475600             483          M   \n",
       "2          275          18475600             483          M   \n",
       "3          114           1618150               0          M   \n",
       "4          114           1613200               0          M   \n",
       "\n",
       "  Claim.Subscriber.Type Claim.Pre.Prince.Index  Claim.Current.Status  \\\n",
       "0                     H                      S                    91   \n",
       "1                     H                                            2   \n",
       "2                     H                                            2   \n",
       "3                     H                      S                    91   \n",
       "4                     H                      S                     2   \n",
       "\n",
       "     Network.ID  Agreement.ID  UnpaidClaim  \n",
       "0  P00000000001  FH001309QB01            1  \n",
       "1  H00000000001  FH001886QH01            1  \n",
       "2  H00000000001  FH001886QH01            1  \n",
       "3  P00000000001  FH001309QB01            1  \n",
       "4  P00000000001  FH001309QB01            1  "
      ]
     },
     "execution_count": 24,
     "metadata": {},
     "output_type": "execute_result"
    }
   ],
   "source": [
    "# load data\n",
    "procedure_data = pd.read_csv(os.path.join('../data','original', 'procedure_data.tar.gz'), low_memory=False)\n",
    "\n",
    "# show first few rows\n",
    "procedure_data.head()"
   ]
  },
  {
   "cell_type": "markdown",
   "metadata": {},
   "source": [
    "### Data Overview"
   ]
  },
  {
   "cell_type": "markdown",
   "metadata": {},
   "source": [
    "51029 procedures\n",
    "10691 unique procedure claims\n",
    "6341 unique patients\n",
    "Top Procedures for Member (88514637.0, 306)\n",
    "mostly end stage renal cancer patients\n",
    "top 5 injections are for prepping the patient for infusion (anethesia)\n",
    "healthcare claim code reference (https://www.uhccommunityplan.com/assets/healthcareprofessionals/providerinformation/AZ-Provider-Information/AZ_Health_Care_Status_Codes.pdf)\n"
   ]
  },
  {
   "cell_type": "code",
   "execution_count": 25,
   "metadata": {
    "ExecuteTime": {
     "end_time": "2020-07-17T18:10:10.703283Z",
     "start_time": "2020-07-17T18:10:10.697661Z"
    }
   },
   "outputs": [
    {
     "data": {
      "text/plain": [
       "(51029, 29)"
      ]
     },
     "execution_count": 25,
     "metadata": {},
     "output_type": "execute_result"
    }
   ],
   "source": [
    "procedure_data.shape"
   ]
  },
  {
   "cell_type": "code",
   "execution_count": 26,
   "metadata": {
    "ExecuteTime": {
     "end_time": "2020-07-17T18:10:10.909935Z",
     "start_time": "2020-07-17T18:10:10.901390Z"
    }
   },
   "outputs": [
    {
     "data": {
      "text/plain": [
       "6341"
      ]
     },
     "execution_count": 26,
     "metadata": {},
     "output_type": "execute_result"
    }
   ],
   "source": [
    "procedure_data['Member.ID'].nunique()"
   ]
  },
  {
   "cell_type": "code",
   "execution_count": 27,
   "metadata": {
    "ExecuteTime": {
     "end_time": "2020-07-17T18:10:11.174990Z",
     "start_time": "2020-07-17T18:10:11.162381Z"
    }
   },
   "outputs": [
    {
     "data": {
      "text/plain": [
       "88514637    306\n",
       "85733741    305\n",
       "89405761    247\n",
       "94627634    176\n",
       "90164423    173\n",
       "Name: Member.ID, dtype: int64"
      ]
     },
     "execution_count": 27,
     "metadata": {},
     "output_type": "execute_result"
    }
   ],
   "source": [
    "procedure_data['Member.ID'].value_counts(ascending=False).head()"
   ]
  },
  {
   "cell_type": "code",
   "execution_count": 28,
   "metadata": {
    "ExecuteTime": {
     "end_time": "2020-07-17T18:10:11.647346Z",
     "start_time": "2020-07-17T18:10:11.586043Z"
    }
   },
   "outputs": [
    {
     "data": {
      "text/html": [
       "<div>\n",
       "<style scoped>\n",
       "    .dataframe tbody tr th:only-of-type {\n",
       "        vertical-align: middle;\n",
       "    }\n",
       "\n",
       "    .dataframe tbody tr th {\n",
       "        vertical-align: top;\n",
       "    }\n",
       "\n",
       "    .dataframe thead th {\n",
       "        text-align: right;\n",
       "    }\n",
       "</style>\n",
       "<table border=\"1\" class=\"dataframe\">\n",
       "  <thead>\n",
       "    <tr style=\"text-align: right;\">\n",
       "      <th></th>\n",
       "      <th>Claim.Number</th>\n",
       "      <th>Claim.Line.Number</th>\n",
       "      <th>Member.ID</th>\n",
       "      <th>Provider.ID</th>\n",
       "      <th>Line.Of.Business.ID</th>\n",
       "      <th>Revenue.Code</th>\n",
       "      <th>Service.Code</th>\n",
       "      <th>Place.Of.Service.Code</th>\n",
       "      <th>Procedure.Code</th>\n",
       "      <th>Diagnosis.Code</th>\n",
       "      <th>Claim.Charge.Amount</th>\n",
       "      <th>Denial.Reason.Code</th>\n",
       "      <th>Price.Index</th>\n",
       "      <th>In.Out.Of.Network</th>\n",
       "      <th>Reference.Index</th>\n",
       "      <th>Pricing.Index</th>\n",
       "      <th>Capitation.Index</th>\n",
       "      <th>Subscriber.Payment.Amount</th>\n",
       "      <th>Provider.Payment.Amount</th>\n",
       "      <th>Group.Index</th>\n",
       "      <th>Subscriber.Index</th>\n",
       "      <th>Subgroup.Index</th>\n",
       "      <th>Claim.Type</th>\n",
       "      <th>Claim.Subscriber.Type</th>\n",
       "      <th>Claim.Pre.Prince.Index</th>\n",
       "      <th>Claim.Current.Status</th>\n",
       "      <th>Network.ID</th>\n",
       "      <th>Agreement.ID</th>\n",
       "      <th>UnpaidClaim</th>\n",
       "    </tr>\n",
       "  </thead>\n",
       "  <tbody>\n",
       "    <tr>\n",
       "      <th>26060</th>\n",
       "      <td>115277690</td>\n",
       "      <td>4</td>\n",
       "      <td>88514637</td>\n",
       "      <td>FA1000015001</td>\n",
       "      <td>13</td>\n",
       "      <td>636</td>\n",
       "      <td>OP7O</td>\n",
       "      <td></td>\n",
       "      <td>J1644</td>\n",
       "      <td>5856</td>\n",
       "      <td>353.067</td>\n",
       "      <td>PDC</td>\n",
       "      <td>A</td>\n",
       "      <td>I</td>\n",
       "      <td>N</td>\n",
       "      <td>N</td>\n",
       "      <td></td>\n",
       "      <td>0.0</td>\n",
       "      <td>0.0</td>\n",
       "      <td>48546</td>\n",
       "      <td>71700800</td>\n",
       "      <td>0</td>\n",
       "      <td>E</td>\n",
       "      <td>H</td>\n",
       "      <td></td>\n",
       "      <td>11</td>\n",
       "      <td>MIMAPD000001</td>\n",
       "      <td>PI003247QM03</td>\n",
       "      <td>1</td>\n",
       "    </tr>\n",
       "    <tr>\n",
       "      <th>26061</th>\n",
       "      <td>115277690</td>\n",
       "      <td>1</td>\n",
       "      <td>88514637</td>\n",
       "      <td>FA1000015001</td>\n",
       "      <td>13</td>\n",
       "      <td>636</td>\n",
       "      <td>OP7O</td>\n",
       "      <td></td>\n",
       "      <td>J1644</td>\n",
       "      <td>5856</td>\n",
       "      <td>353.067</td>\n",
       "      <td>PDC</td>\n",
       "      <td>A</td>\n",
       "      <td>I</td>\n",
       "      <td>N</td>\n",
       "      <td>N</td>\n",
       "      <td></td>\n",
       "      <td>0.0</td>\n",
       "      <td>0.0</td>\n",
       "      <td>48546</td>\n",
       "      <td>71700800</td>\n",
       "      <td>0</td>\n",
       "      <td>E</td>\n",
       "      <td>H</td>\n",
       "      <td></td>\n",
       "      <td>11</td>\n",
       "      <td>MIMAPD000001</td>\n",
       "      <td>PI003247QM03</td>\n",
       "      <td>1</td>\n",
       "    </tr>\n",
       "    <tr>\n",
       "      <th>26062</th>\n",
       "      <td>115277690</td>\n",
       "      <td>3</td>\n",
       "      <td>88514637</td>\n",
       "      <td>FA1000015001</td>\n",
       "      <td>13</td>\n",
       "      <td>636</td>\n",
       "      <td>OP7O</td>\n",
       "      <td></td>\n",
       "      <td>J1644</td>\n",
       "      <td>5856</td>\n",
       "      <td>353.067</td>\n",
       "      <td>PDC</td>\n",
       "      <td>A</td>\n",
       "      <td>I</td>\n",
       "      <td>N</td>\n",
       "      <td>N</td>\n",
       "      <td></td>\n",
       "      <td>0.0</td>\n",
       "      <td>0.0</td>\n",
       "      <td>48546</td>\n",
       "      <td>71700800</td>\n",
       "      <td>0</td>\n",
       "      <td>E</td>\n",
       "      <td>H</td>\n",
       "      <td></td>\n",
       "      <td>11</td>\n",
       "      <td>MIMAPD000001</td>\n",
       "      <td>PI003247QM03</td>\n",
       "      <td>1</td>\n",
       "    </tr>\n",
       "    <tr>\n",
       "      <th>26063</th>\n",
       "      <td>115277690</td>\n",
       "      <td>5</td>\n",
       "      <td>88514637</td>\n",
       "      <td>FA1000015001</td>\n",
       "      <td>13</td>\n",
       "      <td>636</td>\n",
       "      <td>OP7O</td>\n",
       "      <td></td>\n",
       "      <td>J1644</td>\n",
       "      <td>5856</td>\n",
       "      <td>353.067</td>\n",
       "      <td>PDC</td>\n",
       "      <td>A</td>\n",
       "      <td>I</td>\n",
       "      <td>N</td>\n",
       "      <td>N</td>\n",
       "      <td></td>\n",
       "      <td>0.0</td>\n",
       "      <td>0.0</td>\n",
       "      <td>48546</td>\n",
       "      <td>71700800</td>\n",
       "      <td>0</td>\n",
       "      <td>E</td>\n",
       "      <td>H</td>\n",
       "      <td></td>\n",
       "      <td>11</td>\n",
       "      <td>MIMAPD000001</td>\n",
       "      <td>PI003247QM03</td>\n",
       "      <td>1</td>\n",
       "    </tr>\n",
       "    <tr>\n",
       "      <th>26064</th>\n",
       "      <td>115277690</td>\n",
       "      <td>7</td>\n",
       "      <td>88514637</td>\n",
       "      <td>FA1000015001</td>\n",
       "      <td>13</td>\n",
       "      <td>636</td>\n",
       "      <td>OP7O</td>\n",
       "      <td></td>\n",
       "      <td>J1644</td>\n",
       "      <td>5856</td>\n",
       "      <td>353.067</td>\n",
       "      <td>PDC</td>\n",
       "      <td>A</td>\n",
       "      <td>I</td>\n",
       "      <td>N</td>\n",
       "      <td>N</td>\n",
       "      <td></td>\n",
       "      <td>0.0</td>\n",
       "      <td>0.0</td>\n",
       "      <td>48546</td>\n",
       "      <td>71700800</td>\n",
       "      <td>0</td>\n",
       "      <td>E</td>\n",
       "      <td>H</td>\n",
       "      <td></td>\n",
       "      <td>11</td>\n",
       "      <td>MIMAPD000001</td>\n",
       "      <td>PI003247QM03</td>\n",
       "      <td>1</td>\n",
       "    </tr>\n",
       "    <tr>\n",
       "      <th>...</th>\n",
       "      <td>...</td>\n",
       "      <td>...</td>\n",
       "      <td>...</td>\n",
       "      <td>...</td>\n",
       "      <td>...</td>\n",
       "      <td>...</td>\n",
       "      <td>...</td>\n",
       "      <td>...</td>\n",
       "      <td>...</td>\n",
       "      <td>...</td>\n",
       "      <td>...</td>\n",
       "      <td>...</td>\n",
       "      <td>...</td>\n",
       "      <td>...</td>\n",
       "      <td>...</td>\n",
       "      <td>...</td>\n",
       "      <td>...</td>\n",
       "      <td>...</td>\n",
       "      <td>...</td>\n",
       "      <td>...</td>\n",
       "      <td>...</td>\n",
       "      <td>...</td>\n",
       "      <td>...</td>\n",
       "      <td>...</td>\n",
       "      <td>...</td>\n",
       "      <td>...</td>\n",
       "      <td>...</td>\n",
       "      <td>...</td>\n",
       "      <td>...</td>\n",
       "    </tr>\n",
       "    <tr>\n",
       "      <th>44003</th>\n",
       "      <td>1003542990</td>\n",
       "      <td>44</td>\n",
       "      <td>88514637</td>\n",
       "      <td>FA0001387001</td>\n",
       "      <td></td>\n",
       "      <td>636</td>\n",
       "      <td>OP7O</td>\n",
       "      <td></td>\n",
       "      <td>J1644</td>\n",
       "      <td>5856</td>\n",
       "      <td>353.067</td>\n",
       "      <td></td>\n",
       "      <td></td>\n",
       "      <td></td>\n",
       "      <td></td>\n",
       "      <td></td>\n",
       "      <td></td>\n",
       "      <td>0.0</td>\n",
       "      <td>0.0</td>\n",
       "      <td>48546</td>\n",
       "      <td>71700800</td>\n",
       "      <td>0</td>\n",
       "      <td>M</td>\n",
       "      <td>H</td>\n",
       "      <td></td>\n",
       "      <td>2</td>\n",
       "      <td></td>\n",
       "      <td></td>\n",
       "      <td>1</td>\n",
       "    </tr>\n",
       "    <tr>\n",
       "      <th>44004</th>\n",
       "      <td>1003542990</td>\n",
       "      <td>45</td>\n",
       "      <td>88514637</td>\n",
       "      <td>FA0001387001</td>\n",
       "      <td></td>\n",
       "      <td>636</td>\n",
       "      <td>OP7O</td>\n",
       "      <td></td>\n",
       "      <td>J1644</td>\n",
       "      <td>5856</td>\n",
       "      <td>353.067</td>\n",
       "      <td></td>\n",
       "      <td></td>\n",
       "      <td></td>\n",
       "      <td></td>\n",
       "      <td></td>\n",
       "      <td></td>\n",
       "      <td>0.0</td>\n",
       "      <td>0.0</td>\n",
       "      <td>48546</td>\n",
       "      <td>71700800</td>\n",
       "      <td>0</td>\n",
       "      <td>M</td>\n",
       "      <td>H</td>\n",
       "      <td></td>\n",
       "      <td>2</td>\n",
       "      <td></td>\n",
       "      <td></td>\n",
       "      <td>1</td>\n",
       "    </tr>\n",
       "    <tr>\n",
       "      <th>44005</th>\n",
       "      <td>1003542990</td>\n",
       "      <td>50</td>\n",
       "      <td>88514637</td>\n",
       "      <td>FA0001387001</td>\n",
       "      <td></td>\n",
       "      <td>636</td>\n",
       "      <td>OP7O</td>\n",
       "      <td></td>\n",
       "      <td>J1644</td>\n",
       "      <td>5856</td>\n",
       "      <td>353.067</td>\n",
       "      <td></td>\n",
       "      <td></td>\n",
       "      <td></td>\n",
       "      <td></td>\n",
       "      <td></td>\n",
       "      <td></td>\n",
       "      <td>0.0</td>\n",
       "      <td>0.0</td>\n",
       "      <td>48546</td>\n",
       "      <td>71700800</td>\n",
       "      <td>0</td>\n",
       "      <td>M</td>\n",
       "      <td>H</td>\n",
       "      <td></td>\n",
       "      <td>2</td>\n",
       "      <td></td>\n",
       "      <td></td>\n",
       "      <td>1</td>\n",
       "    </tr>\n",
       "    <tr>\n",
       "      <th>44006</th>\n",
       "      <td>1003542990</td>\n",
       "      <td>61</td>\n",
       "      <td>88514637</td>\n",
       "      <td>FA0001387001</td>\n",
       "      <td></td>\n",
       "      <td>636</td>\n",
       "      <td>OP7O</td>\n",
       "      <td></td>\n",
       "      <td>J1644</td>\n",
       "      <td>5856</td>\n",
       "      <td>353.067</td>\n",
       "      <td></td>\n",
       "      <td></td>\n",
       "      <td></td>\n",
       "      <td></td>\n",
       "      <td></td>\n",
       "      <td></td>\n",
       "      <td>0.0</td>\n",
       "      <td>0.0</td>\n",
       "      <td>48546</td>\n",
       "      <td>71700800</td>\n",
       "      <td>0</td>\n",
       "      <td>M</td>\n",
       "      <td>H</td>\n",
       "      <td></td>\n",
       "      <td>2</td>\n",
       "      <td></td>\n",
       "      <td></td>\n",
       "      <td>1</td>\n",
       "    </tr>\n",
       "    <tr>\n",
       "      <th>44007</th>\n",
       "      <td>1003542990</td>\n",
       "      <td>71</td>\n",
       "      <td>88514637</td>\n",
       "      <td>FA0001387001</td>\n",
       "      <td></td>\n",
       "      <td>636</td>\n",
       "      <td>OP7O</td>\n",
       "      <td></td>\n",
       "      <td>J1644</td>\n",
       "      <td>5856</td>\n",
       "      <td>353.067</td>\n",
       "      <td></td>\n",
       "      <td></td>\n",
       "      <td></td>\n",
       "      <td></td>\n",
       "      <td></td>\n",
       "      <td></td>\n",
       "      <td>0.0</td>\n",
       "      <td>0.0</td>\n",
       "      <td>48546</td>\n",
       "      <td>71700800</td>\n",
       "      <td>0</td>\n",
       "      <td>M</td>\n",
       "      <td>H</td>\n",
       "      <td></td>\n",
       "      <td>2</td>\n",
       "      <td></td>\n",
       "      <td></td>\n",
       "      <td>1</td>\n",
       "    </tr>\n",
       "  </tbody>\n",
       "</table>\n",
       "<p>306 rows × 29 columns</p>\n",
       "</div>"
      ],
      "text/plain": [
       "       Claim.Number  Claim.Line.Number  Member.ID   Provider.ID  \\\n",
       "26060     115277690                  4   88514637  FA1000015001   \n",
       "26061     115277690                  1   88514637  FA1000015001   \n",
       "26062     115277690                  3   88514637  FA1000015001   \n",
       "26063     115277690                  5   88514637  FA1000015001   \n",
       "26064     115277690                  7   88514637  FA1000015001   \n",
       "...             ...                ...        ...           ...   \n",
       "44003    1003542990                 44   88514637  FA0001387001   \n",
       "44004    1003542990                 45   88514637  FA0001387001   \n",
       "44005    1003542990                 50   88514637  FA0001387001   \n",
       "44006    1003542990                 61   88514637  FA0001387001   \n",
       "44007    1003542990                 71   88514637  FA0001387001   \n",
       "\n",
       "      Line.Of.Business.ID Revenue.Code Service.Code Place.Of.Service.Code  \\\n",
       "26060                  13          636         OP7O                         \n",
       "26061                  13          636         OP7O                         \n",
       "26062                  13          636         OP7O                         \n",
       "26063                  13          636         OP7O                         \n",
       "26064                  13          636         OP7O                         \n",
       "...                   ...          ...          ...                   ...   \n",
       "44003                              636         OP7O                         \n",
       "44004                              636         OP7O                         \n",
       "44005                              636         OP7O                         \n",
       "44006                              636         OP7O                         \n",
       "44007                              636         OP7O                         \n",
       "\n",
       "      Procedure.Code Diagnosis.Code  Claim.Charge.Amount Denial.Reason.Code  \\\n",
       "26060          J1644           5856              353.067                PDC   \n",
       "26061          J1644           5856              353.067                PDC   \n",
       "26062          J1644           5856              353.067                PDC   \n",
       "26063          J1644           5856              353.067                PDC   \n",
       "26064          J1644           5856              353.067                PDC   \n",
       "...              ...            ...                  ...                ...   \n",
       "44003          J1644           5856              353.067                      \n",
       "44004          J1644           5856              353.067                      \n",
       "44005          J1644           5856              353.067                      \n",
       "44006          J1644           5856              353.067                      \n",
       "44007          J1644           5856              353.067                      \n",
       "\n",
       "      Price.Index In.Out.Of.Network Reference.Index Pricing.Index  \\\n",
       "26060           A                 I               N             N   \n",
       "26061           A                 I               N             N   \n",
       "26062           A                 I               N             N   \n",
       "26063           A                 I               N             N   \n",
       "26064           A                 I               N             N   \n",
       "...           ...               ...             ...           ...   \n",
       "44003                                                               \n",
       "44004                                                               \n",
       "44005                                                               \n",
       "44006                                                               \n",
       "44007                                                               \n",
       "\n",
       "      Capitation.Index  Subscriber.Payment.Amount  Provider.Payment.Amount  \\\n",
       "26060                                         0.0                      0.0   \n",
       "26061                                         0.0                      0.0   \n",
       "26062                                         0.0                      0.0   \n",
       "26063                                         0.0                      0.0   \n",
       "26064                                         0.0                      0.0   \n",
       "...                ...                        ...                      ...   \n",
       "44003                                         0.0                      0.0   \n",
       "44004                                         0.0                      0.0   \n",
       "44005                                         0.0                      0.0   \n",
       "44006                                         0.0                      0.0   \n",
       "44007                                         0.0                      0.0   \n",
       "\n",
       "       Group.Index  Subscriber.Index  Subgroup.Index Claim.Type  \\\n",
       "26060        48546          71700800               0          E   \n",
       "26061        48546          71700800               0          E   \n",
       "26062        48546          71700800               0          E   \n",
       "26063        48546          71700800               0          E   \n",
       "26064        48546          71700800               0          E   \n",
       "...            ...               ...             ...        ...   \n",
       "44003        48546          71700800               0          M   \n",
       "44004        48546          71700800               0          M   \n",
       "44005        48546          71700800               0          M   \n",
       "44006        48546          71700800               0          M   \n",
       "44007        48546          71700800               0          M   \n",
       "\n",
       "      Claim.Subscriber.Type Claim.Pre.Prince.Index  Claim.Current.Status  \\\n",
       "26060                     H                                           11   \n",
       "26061                     H                                           11   \n",
       "26062                     H                                           11   \n",
       "26063                     H                                           11   \n",
       "26064                     H                                           11   \n",
       "...                     ...                    ...                   ...   \n",
       "44003                     H                                            2   \n",
       "44004                     H                                            2   \n",
       "44005                     H                                            2   \n",
       "44006                     H                                            2   \n",
       "44007                     H                                            2   \n",
       "\n",
       "         Network.ID  Agreement.ID  UnpaidClaim  \n",
       "26060  MIMAPD000001  PI003247QM03            1  \n",
       "26061  MIMAPD000001  PI003247QM03            1  \n",
       "26062  MIMAPD000001  PI003247QM03            1  \n",
       "26063  MIMAPD000001  PI003247QM03            1  \n",
       "26064  MIMAPD000001  PI003247QM03            1  \n",
       "...             ...           ...          ...  \n",
       "44003                                        1  \n",
       "44004                                        1  \n",
       "44005                                        1  \n",
       "44006                                        1  \n",
       "44007                                        1  \n",
       "\n",
       "[306 rows x 29 columns]"
      ]
     },
     "execution_count": 28,
     "metadata": {},
     "output_type": "execute_result"
    }
   ],
   "source": [
    "# J1644 == Injection, heparin sodium, per 1000 units\n",
    "procedure_data.loc[procedure_data['Member.ID'] == 88514637.0]                  "
   ]
  },
  {
   "cell_type": "markdown",
   "metadata": {},
   "source": [
    "### UnPaid Claim"
   ]
  },
  {
   "cell_type": "code",
   "execution_count": 29,
   "metadata": {
    "ExecuteTime": {
     "end_time": "2020-07-17T18:10:12.160760Z",
     "start_time": "2020-07-17T18:10:11.855540Z"
    }
   },
   "outputs": [
    {
     "data": {
      "image/png": "[encoded data removed]",
      "text/plain": [
       "<Figure size 576x396 with 1 Axes>"
      ]
     },
     "metadata": {},
     "output_type": "display_data"
    }
   ],
   "source": [
    "# look at values counts for the target\n",
    "col = 'UnpaidClaim'\n",
    "sns.countplot(y=procedure_data[col], order=procedure_data[col].value_counts().iloc[:5].index);\n",
    "plt.savefig(os.path.join('../','visualization',f\"{col}_barchart.png\"))"
   ]
  },
  {
   "cell_type": "code",
   "execution_count": 30,
   "metadata": {
    "ExecuteTime": {
     "end_time": "2020-07-17T18:10:12.172772Z",
     "start_time": "2020-07-17T18:10:12.163256Z"
    }
   },
   "outputs": [
    {
     "data": {
      "text/plain": [
       "1    44961\n",
       "0     6068\n",
       "Name: UnpaidClaim, dtype: int64"
      ]
     },
     "execution_count": 30,
     "metadata": {},
     "output_type": "execute_result"
    }
   ],
   "source": [
    "procedure_data[col].value_counts()"
   ]
  },
  {
   "cell_type": "markdown",
   "metadata": {
    "ExecuteTime": {
     "end_time": "2020-07-15T18:08:51.746356Z",
     "start_time": "2020-07-15T18:08:51.741990Z"
    }
   },
   "source": [
    "### Line.Of.Business.ID"
   ]
  },
  {
   "cell_type": "code",
   "execution_count": 31,
   "metadata": {
    "ExecuteTime": {
     "end_time": "2020-07-17T18:10:12.662089Z",
     "start_time": "2020-07-17T18:10:12.259438Z"
    }
   },
   "outputs": [
    {
     "data": {
      "image/png": "[encoded data removed]",
      "text/plain": [
       "<Figure size 576x396 with 1 Axes>"
      ]
     },
     "metadata": {},
     "output_type": "display_data"
    }
   ],
   "source": [
    "# look at line of business for procedure claims\n",
    "col = 'Line.Of.Business.ID'\n",
    "sns.countplot(y=procedure_data[col], order=procedure_data[col].value_counts().iloc[:5].index);\n",
    "plt.savefig(os.path.join('../','visualization',f\"{col}_barchart.png\"))"
   ]
  },
  {
   "cell_type": "code",
   "execution_count": 32,
   "metadata": {
    "ExecuteTime": {
     "end_time": "2020-07-17T18:10:12.676201Z",
     "start_time": "2020-07-17T18:10:12.664655Z"
    }
   },
   "outputs": [
    {
     "data": {
      "text/plain": [
       "      18962\n",
       "1     16858\n",
       "5     10946\n",
       "13     2346\n",
       "2      1906\n",
       "7        11\n",
       "Name: Line.Of.Business.ID, dtype: int64"
      ]
     },
     "execution_count": 32,
     "metadata": {},
     "output_type": "execute_result"
    }
   ],
   "source": [
    "procedure_data[col].value_counts()"
   ]
  },
  {
   "cell_type": "markdown",
   "metadata": {},
   "source": [
    "### Revenue.Code"
   ]
  },
  {
   "cell_type": "code",
   "execution_count": 33,
   "metadata": {
    "ExecuteTime": {
     "end_time": "2020-07-17T18:10:14.900023Z",
     "start_time": "2020-07-17T18:10:14.618564Z"
    }
   },
   "outputs": [
    {
     "data": {
      "image/png": "[encoded data removed]",
      "text/plain": [
       "<Figure size 576x396 with 1 Axes>"
      ]
     },
     "metadata": {},
     "output_type": "display_data"
    }
   ],
   "source": [
    "# look at line of business for procedure claims\n",
    "# 636 drugs requiring detailed coding\n",
    "# 637 self administrable drugs\n",
    "# 710 general recovery room\n",
    "# 250 pharmacy general\n",
    "# 258 iv solutions\n",
    "# https://med.noridianmedicare.com/web/jea/topics/claim-submission/revenue-codes\n",
    "col = 'Revenue.Code'\n",
    "sns.countplot(y=procedure_data[col], order=procedure_data[col].value_counts().iloc[:5].index);\n",
    "plt.savefig(os.path.join('../','visualization',f\"{col}_barchart.png\"))"
   ]
  },
  {
   "cell_type": "code",
   "execution_count": 34,
   "metadata": {
    "ExecuteTime": {
     "end_time": "2020-07-17T18:10:14.912927Z",
     "start_time": "2020-07-17T18:10:14.902253Z"
    }
   },
   "outputs": [
    {
     "data": {
      "text/plain": [
       "636    45594\n",
       "637     1869\n",
       "710     1808\n",
       "250     1573\n",
       "258       98\n",
       "259       78\n",
       "490        3\n",
       "450        2\n",
       "           2\n",
       "272        1\n",
       "635        1\n",
       "Name: Revenue.Code, dtype: int64"
      ]
     },
     "execution_count": 34,
     "metadata": {},
     "output_type": "execute_result"
    }
   ],
   "source": [
    "procedure_data[col].value_counts()"
   ]
  },
  {
   "cell_type": "markdown",
   "metadata": {},
   "source": [
    "### Service.Code"
   ]
  },
  {
   "cell_type": "code",
   "execution_count": 35,
   "metadata": {
    "ExecuteTime": {
     "end_time": "2020-07-17T18:10:15.552931Z",
     "start_time": "2020-07-17T18:10:15.181607Z"
    }
   },
   "outputs": [
    {
     "data": {
      "image/png": "[encoded data removed]",
      "text/plain": [
       "<Figure size 576x396 with 1 Axes>"
      ]
     },
     "metadata": {},
     "output_type": "display_data"
    }
   ],
   "source": [
    "# look at line of business for procedure claims\n",
    "# op70 collections and bad debt\n",
    "# \n",
    "col = 'Service.Code'\n",
    "sns.countplot(y=procedure_data[col], order=procedure_data[col].value_counts().iloc[:5].index);\n",
    "plt.savefig(os.path.join('../','visualization',f\"{col}_barchart.png\"))"
   ]
  },
  {
   "cell_type": "code",
   "execution_count": 36,
   "metadata": {
    "ExecuteTime": {
     "end_time": "2020-07-17T18:10:15.566308Z",
     "start_time": "2020-07-17T18:10:15.555928Z"
    }
   },
   "outputs": [
    {
     "data": {
      "text/plain": [
       "OP7O    33185\n",
       "SU7A    17288\n",
       "MH7O      250\n",
       "AL7I      121\n",
       "GB7A       69\n",
       "           59\n",
       "SA7A       39\n",
       "CC8A       11\n",
       "IJV         2\n",
       "ER7O        2\n",
       "SU7O        2\n",
       "DI7O        1\n",
       "Name: Service.Code, dtype: int64"
      ]
     },
     "execution_count": 36,
     "metadata": {},
     "output_type": "execute_result"
    }
   ],
   "source": [
    "procedure_data[col].value_counts()"
   ]
  },
  {
   "cell_type": "markdown",
   "metadata": {},
   "source": [
    "### Place.Of.Service.Code"
   ]
  },
  {
   "cell_type": "code",
   "execution_count": 37,
   "metadata": {
    "ExecuteTime": {
     "end_time": "2020-07-17T18:10:16.180214Z",
     "start_time": "2020-07-17T18:10:15.846409Z"
    }
   },
   "outputs": [
    {
     "data": {
      "image/png": "[encoded data removed]",
      "text/plain": [
       "<Figure size 576x396 with 1 Axes>"
      ]
     },
     "metadata": {},
     "output_type": "display_data"
    }
   ],
   "source": [
    "# look at line of business for procedure claims\n",
    "col = 'Place.Of.Service.Code'\n",
    "sns.countplot(y=procedure_data[col], order=procedure_data[col].value_counts().iloc[:5].index);\n",
    "plt.savefig(os.path.join('../','visualization',f\"{col}_barchart.png\"))"
   ]
  },
  {
   "cell_type": "code",
   "execution_count": 38,
   "metadata": {
    "ExecuteTime": {
     "end_time": "2020-07-17T18:10:16.194314Z",
     "start_time": "2020-07-17T18:10:16.182704Z"
    }
   },
   "outputs": [
    {
     "data": {
      "text/plain": [
       "      51027\n",
       "11        2\n",
       "Name: Place.Of.Service.Code, dtype: int64"
      ]
     },
     "execution_count": 38,
     "metadata": {},
     "output_type": "execute_result"
    }
   ],
   "source": [
    "procedure_data[col].value_counts()"
   ]
  },
  {
   "cell_type": "markdown",
   "metadata": {},
   "source": [
    "### Diagnosis.Code"
   ]
  },
  {
   "cell_type": "code",
   "execution_count": 39,
   "metadata": {
    "ExecuteTime": {
     "end_time": "2020-07-17T18:10:16.752672Z",
     "start_time": "2020-07-17T18:10:16.301667Z"
    }
   },
   "outputs": [
    {
     "data": {
      "image/png": "[encoded data removed]",
      "text/plain": [
       "<Figure size 576x396 with 1 Axes>"
      ]
     },
     "metadata": {},
     "output_type": "display_data"
    }
   ],
   "source": [
    "# 585.6 == End Stage Renal Disease\n",
    "# v765.1 == Special screening for malignant neoplasms of colon\n",
    "# 366.16 == Senile nuclear sclerosis (cataracts)\n",
    "# 366.9 == cataract\n",
    "# 414.01 == Coronary atherosclerosis of native coronary artery\n",
    "# 427.31 == Atrial fibrillation\n",
    "# 574.10 == Calculus of gallbladder with other cholecystitis, without mention of obstruction\n",
    "# 540.9 == Other acute appendicitis\n",
    "# 55090 == Inguinal hernia, without mention of obstruction or gangrene, unilateral or unspecified (not specified as recurrent)\n",
    "# 592.1 == Calculus of ureter\n",
    "\n",
    "# look at Diagnosis.Code for procedure claims\n",
    "col = 'Diagnosis.Code'\n",
    "sns.countplot(y=procedure_data[col], order=procedure_data[col].value_counts().iloc[:10].index);\n",
    "plt.savefig(os.path.join('../','visualization',f\"{col}_barchart.png\"))"
   ]
  },
  {
   "cell_type": "code",
   "execution_count": 40,
   "metadata": {
    "ExecuteTime": {
     "end_time": "2020-07-17T18:10:16.768660Z",
     "start_time": "2020-07-17T18:10:16.754562Z"
    }
   },
   "outputs": [
    {
     "data": {
      "text/plain": [
       "5856     4245\n",
       "V7651    2540\n",
       "36616    1451\n",
       "3669     1403\n",
       "41401    1013\n",
       "         ... \n",
       "75733       1\n",
       "70705       1\n",
       "7335        1\n",
       "38001       1\n",
       "683         1\n",
       "Name: Diagnosis.Code, Length: 1436, dtype: int64"
      ]
     },
     "execution_count": 40,
     "metadata": {},
     "output_type": "execute_result"
    }
   ],
   "source": [
    "procedure_data[col].value_counts()"
   ]
  },
  {
   "cell_type": "markdown",
   "metadata": {},
   "source": [
    "### Claim.Charge.Amount"
   ]
  },
  {
   "cell_type": "code",
   "execution_count": 41,
   "metadata": {
    "ExecuteTime": {
     "end_time": "2020-07-17T18:10:17.611714Z",
     "start_time": "2020-07-17T18:10:17.124991Z"
    }
   },
   "outputs": [
    {
     "data": {
      "image/png": "[encoded data removed]",
      "text/plain": [
       "<Figure size 576x396 with 1 Axes>"
      ]
     },
     "metadata": {},
     "output_type": "display_data"
    }
   ],
   "source": [
    "# look at charge amounts\n",
    "col = 'Claim.Charge.Amount'\n",
    "sns.countplot(y=procedure_data[col], order=procedure_data[col].value_counts().iloc[:10].index);\n",
    "plt.tight_layout()\n",
    "plt.savefig(os.path.join('../','visualization',f\"{col}_barchart.png\"))"
   ]
  },
  {
   "cell_type": "code",
   "execution_count": 42,
   "metadata": {
    "ExecuteTime": {
     "end_time": "2020-07-17T18:10:17.626416Z",
     "start_time": "2020-07-17T18:10:17.614933Z"
    }
   },
   "outputs": [
    {
     "data": {
      "text/plain": [
       "84.56325     5426\n",
       "169.12650     722\n",
       "353.06700     671\n",
       "52.21935      664\n",
       "43.94820      662\n",
       "             ... \n",
       "722.05900       1\n",
       "91.50114        1\n",
       "346.62290       1\n",
       "145.07844       1\n",
       "0.00000         1\n",
       "Name: Claim.Charge.Amount, Length: 3634, dtype: int64"
      ]
     },
     "execution_count": 42,
     "metadata": {},
     "output_type": "execute_result"
    }
   ],
   "source": [
    "procedure_data[col].value_counts()"
   ]
  },
  {
   "cell_type": "markdown",
   "metadata": {},
   "source": [
    "### Denial.Reason.Code"
   ]
  },
  {
   "cell_type": "code",
   "execution_count": 43,
   "metadata": {
    "ExecuteTime": {
     "end_time": "2020-07-17T18:10:18.223934Z",
     "start_time": "2020-07-17T18:10:17.673071Z"
    }
   },
   "outputs": [
    {
     "data": {
      "image/png": "[encoded data removed]",
      "text/plain": [
       "<Figure size 576x396 with 1 Axes>"
      ]
     },
     "metadata": {},
     "output_type": "display_data"
    }
   ],
   "source": [
    "# k62 THIS SERVICE IS NOT PAID. THE PROCEDURE EXCEEDED MAX UNITS ALLOWED PER DATE \n",
    "# OF SERVICE ON THIS CLAIM OR ANOTHER CLAIM FOR SAME DOS.\n",
    "# PDC — Billed amount is higher than the maximum payment insurance allows. The payment is for the allowed amount.\n",
    "col = 'Denial.Reason.Code'\n",
    "sns.countplot(y=procedure_data[col], order=procedure_data[col].value_counts().iloc[:10].index);\n",
    "plt.savefig(os.path.join('../','visualization',f\"{col}_barchart.png\"))"
   ]
  },
  {
   "cell_type": "code",
   "execution_count": 44,
   "metadata": {
    "ExecuteTime": {
     "end_time": "2020-07-17T18:10:18.238458Z",
     "start_time": "2020-07-17T18:10:18.226016Z"
    }
   },
   "outputs": [
    {
     "data": {
      "text/plain": [
       "       40417\n",
       "PDC     2824\n",
       "K62     2691\n",
       "J2M      803\n",
       "J72      705\n",
       "       ...  \n",
       "KHB        1\n",
       "JC7        1\n",
       "JU1        1\n",
       "J57        1\n",
       "JE1        1\n",
       "Name: Denial.Reason.Code, Length: 100, dtype: int64"
      ]
     },
     "execution_count": 44,
     "metadata": {},
     "output_type": "execute_result"
    }
   ],
   "source": [
    "# k62 THIS SERVICE IS NOT PAID. THE PROCEDURE EXCEEDED MAX UNITS ALLOWED PER DATE \n",
    "# OF SERVICE ON THIS CLAIM OR ANOTHER CLAIM FOR SAME DOS.\n",
    "# PDC — Billed amount is higher than the maximum payment insurance allows. The payment is for the allowed amount.\n",
    "procedure_data[col].value_counts()"
   ]
  },
  {
   "cell_type": "markdown",
   "metadata": {},
   "source": [
    "### Price.Index"
   ]
  },
  {
   "cell_type": "code",
   "execution_count": 45,
   "metadata": {
    "ExecuteTime": {
     "end_time": "2020-07-17T18:10:18.686245Z",
     "start_time": "2020-07-17T18:10:18.242171Z"
    }
   },
   "outputs": [
    {
     "data": {
      "image/png": "[encoded data removed]",
      "text/plain": [
       "<Figure size 576x396 with 1 Axes>"
      ]
     },
     "metadata": {},
     "output_type": "display_data"
    }
   ],
   "source": [
    "# look at priced index\n",
    "col = 'Price.Index'\n",
    "sns.countplot(y=procedure_data[col], order=procedure_data[col].value_counts().iloc[:10].index);\n",
    "plt.savefig(os.path.join('../','visualization',f\"{col}_barchart.png\"))"
   ]
  },
  {
   "cell_type": "code",
   "execution_count": 46,
   "metadata": {
    "ExecuteTime": {
     "end_time": "2020-07-17T18:10:18.705320Z",
     "start_time": "2020-07-17T18:10:18.688985Z"
    }
   },
   "outputs": [
    {
     "data": {
      "text/plain": [
       "A    29547\n",
       "     21170\n",
       "E      312\n",
       "Name: Price.Index, dtype: int64"
      ]
     },
     "execution_count": 46,
     "metadata": {},
     "output_type": "execute_result"
    }
   ],
   "source": [
    "procedure_data[col].value_counts().iloc[:10]"
   ]
  },
  {
   "cell_type": "markdown",
   "metadata": {},
   "source": [
    "### In.Out.Of.Network"
   ]
  },
  {
   "cell_type": "code",
   "execution_count": 47,
   "metadata": {
    "ExecuteTime": {
     "end_time": "2020-07-17T18:10:19.504112Z",
     "start_time": "2020-07-17T18:10:19.058866Z"
    }
   },
   "outputs": [
    {
     "data": {
      "image/png": "[encoded data removed]",
      "text/plain": [
       "<Figure size 576x396 with 1 Axes>"
      ]
     },
     "metadata": {},
     "output_type": "display_data"
    }
   ],
   "source": [
    "# look at in versus out of network\n",
    "col = 'In.Out.Of.Network'\n",
    "sns.countplot(y=procedure_data[col], order=procedure_data[col].value_counts().iloc[:10].index);\n",
    "plt.savefig(os.path.join('../','visualization',f\"{col}_barchart.png\"))"
   ]
  },
  {
   "cell_type": "code",
   "execution_count": 48,
   "metadata": {
    "ExecuteTime": {
     "end_time": "2020-07-17T18:10:19.520136Z",
     "start_time": "2020-07-17T18:10:19.506097Z"
    }
   },
   "outputs": [
    {
     "data": {
      "text/plain": [
       "I    31890\n",
       "     18980\n",
       "O      159\n",
       "Name: In.Out.Of.Network, dtype: int64"
      ]
     },
     "execution_count": 48,
     "metadata": {},
     "output_type": "execute_result"
    }
   ],
   "source": [
    "procedure_data[col].value_counts().iloc[:10]"
   ]
  },
  {
   "cell_type": "markdown",
   "metadata": {},
   "source": [
    "### Reference.Index"
   ]
  },
  {
   "cell_type": "code",
   "execution_count": 49,
   "metadata": {
    "ExecuteTime": {
     "end_time": "2020-07-17T18:10:19.957166Z",
     "start_time": "2020-07-17T18:10:19.524376Z"
    }
   },
   "outputs": [
    {
     "data": {
      "image/png": "[encoded data removed]",
      "text/plain": [
       "<Figure size 576x396 with 1 Axes>"
      ]
     },
     "metadata": {},
     "output_type": "display_data"
    }
   ],
   "source": [
    "col = 'Reference.Index'\n",
    "sns.countplot(y=procedure_data[col], order=procedure_data[col].value_counts().iloc[:10].index);\n",
    "plt.savefig(os.path.join('../','visualization',f\"{col}_barchart.png\"))"
   ]
  },
  {
   "cell_type": "code",
   "execution_count": 50,
   "metadata": {
    "ExecuteTime": {
     "end_time": "2020-07-17T18:10:19.970590Z",
     "start_time": "2020-07-17T18:10:19.959124Z"
    }
   },
   "outputs": [
    {
     "data": {
      "text/plain": [
       "     18666\n",
       "N    16473\n",
       "V    15879\n",
       "F       11\n",
       "Name: Reference.Index, dtype: int64"
      ]
     },
     "execution_count": 50,
     "metadata": {},
     "output_type": "execute_result"
    }
   ],
   "source": [
    "# look at reference index\n",
    "col = 'Reference.Index'\n",
    "procedure_data[col].value_counts(ascending=False).head(10)"
   ]
  },
  {
   "cell_type": "markdown",
   "metadata": {},
   "source": [
    "### Pricing.Index"
   ]
  },
  {
   "cell_type": "code",
   "execution_count": 51,
   "metadata": {
    "ExecuteTime": {
     "end_time": "2020-07-17T18:10:20.648098Z",
     "start_time": "2020-07-17T18:10:20.331805Z"
    }
   },
   "outputs": [
    {
     "data": {
      "image/png": "[encoded data removed]",
      "text/plain": [
       "<Figure size 576x396 with 1 Axes>"
      ]
     },
     "metadata": {},
     "output_type": "display_data"
    }
   ],
   "source": [
    "col = 'Pricing.Index'\n",
    "sns.countplot(y=procedure_data[col], order=procedure_data[col].value_counts().iloc[:10].index);\n",
    "plt.savefig(os.path.join('../','visualization',f\"{col}_barchart.png\"))"
   ]
  },
  {
   "cell_type": "code",
   "execution_count": 52,
   "metadata": {
    "ExecuteTime": {
     "end_time": "2020-07-17T18:10:20.661779Z",
     "start_time": "2020-07-17T18:10:20.651026Z"
    }
   },
   "outputs": [
    {
     "data": {
      "text/plain": [
       "N    28056\n",
       "     18666\n",
       "V     4194\n",
       "F      113\n",
       "Name: Pricing.Index, dtype: int64"
      ]
     },
     "execution_count": 52,
     "metadata": {},
     "output_type": "execute_result"
    }
   ],
   "source": [
    "# look at pricing index\n",
    "procedure_data[col].value_counts(ascending=False).head(10)"
   ]
  },
  {
   "cell_type": "markdown",
   "metadata": {},
   "source": [
    "### Capitation.Index"
   ]
  },
  {
   "cell_type": "code",
   "execution_count": 53,
   "metadata": {
    "ExecuteTime": {
     "end_time": "2020-07-17T18:10:21.077902Z",
     "start_time": "2020-07-17T18:10:20.720572Z"
    }
   },
   "outputs": [
    {
     "data": {
      "image/png": "[encoded data removed]",
      "text/plain": [
       "<Figure size 576x396 with 1 Axes>"
      ]
     },
     "metadata": {},
     "output_type": "display_data"
    }
   ],
   "source": [
    "col = 'Capitation.Index'\n",
    "sns.countplot(y=procedure_data[col], order=procedure_data[col].value_counts().iloc[:10].index);\n",
    "plt.savefig(os.path.join('../','visualization',f\"{col}_barchart.png\"))"
   ]
  },
  {
   "cell_type": "code",
   "execution_count": 54,
   "metadata": {
    "ExecuteTime": {
     "end_time": "2020-07-17T18:10:21.092421Z",
     "start_time": "2020-07-17T18:10:21.079961Z"
    }
   },
   "outputs": [
    {
     "data": {
      "text/plain": [
       "     32331\n",
       "N    18296\n",
       "R      402\n",
       "Name: Capitation.Index, dtype: int64"
      ]
     },
     "execution_count": 54,
     "metadata": {},
     "output_type": "execute_result"
    }
   ],
   "source": [
    "# look at capitation index\n",
    "procedure_data[col].value_counts(ascending=False).head(10)"
   ]
  },
  {
   "cell_type": "markdown",
   "metadata": {},
   "source": [
    "### Subscriber.Payment.Amount"
   ]
  },
  {
   "cell_type": "code",
   "execution_count": 55,
   "metadata": {
    "ExecuteTime": {
     "end_time": "2020-07-17T18:10:21.566451Z",
     "start_time": "2020-07-17T18:10:21.220930Z"
    }
   },
   "outputs": [
    {
     "data": {
      "image/png": "[encoded data removed]",
      "text/plain": [
       "<Figure size 576x396 with 1 Axes>"
      ]
     },
     "metadata": {},
     "output_type": "display_data"
    }
   ],
   "source": [
    "col = 'Subscriber.Payment.Amount'\n",
    "sns.countplot(y=procedure_data[col], order=procedure_data[col].value_counts().iloc[:10].index);\n",
    "plt.savefig(os.path.join('../','visualization',f\"{col}_barchart.png\"))"
   ]
  },
  {
   "cell_type": "code",
   "execution_count": 56,
   "metadata": {
    "ExecuteTime": {
     "end_time": "2020-07-17T18:10:21.577673Z",
     "start_time": "2020-07-17T18:10:21.569173Z"
    }
   },
   "outputs": [
    {
     "data": {
      "text/plain": [
       "0.0000      51028\n",
       "174.1139        1\n",
       "Name: Subscriber.Payment.Amount, dtype: int64"
      ]
     },
     "execution_count": 56,
     "metadata": {},
     "output_type": "execute_result"
    }
   ],
   "source": [
    "# look at subscriber payment amount\n",
    "procedure_data[col].value_counts(ascending=False).head(10)"
   ]
  },
  {
   "cell_type": "markdown",
   "metadata": {},
   "source": [
    "### Provider.Payment.Amount"
   ]
  },
  {
   "cell_type": "code",
   "execution_count": 57,
   "metadata": {
    "ExecuteTime": {
     "end_time": "2020-07-17T18:10:22.555118Z",
     "start_time": "2020-07-17T18:10:22.097702Z"
    }
   },
   "outputs": [
    {
     "data": {
      "image/png": "[encoded data removed]",
      "text/plain": [
       "<Figure size 576x396 with 1 Axes>"
      ]
     },
     "metadata": {},
     "output_type": "display_data"
    }
   ],
   "source": [
    "col ='Provider.Payment.Amount'\n",
    "sns.countplot(y=procedure_data[col], order=procedure_data[col].value_counts().iloc[:10].index);\n",
    "plt.tight_layout()\n",
    "plt.savefig(os.path.join('../','visualization',f\"{col}_barchart.png\"))"
   ]
  },
  {
   "cell_type": "code",
   "execution_count": 58,
   "metadata": {
    "ExecuteTime": {
     "end_time": "2020-07-17T18:10:22.569180Z",
     "start_time": "2020-07-17T18:10:22.557988Z"
    }
   },
   "outputs": [
    {
     "data": {
      "text/plain": [
       "0.000000      44961\n",
       "61.650930       113\n",
       "353.067000      100\n",
       "59.280690        96\n",
       "0.012345         86\n",
       "84.563250        79\n",
       "280.848750       72\n",
       "233.394570       60\n",
       "269.071620       59\n",
       "135.177750       57\n",
       "Name: Provider.Payment.Amount, dtype: int64"
      ]
     },
     "execution_count": 58,
     "metadata": {},
     "output_type": "execute_result"
    }
   ],
   "source": [
    "# look at provider payment amount\n",
    "procedure_data[col].value_counts(ascending=False).head(10)"
   ]
  },
  {
   "cell_type": "markdown",
   "metadata": {},
   "source": [
    "### Group.Index"
   ]
  },
  {
   "cell_type": "code",
   "execution_count": 59,
   "metadata": {
    "ExecuteTime": {
     "end_time": "2020-07-17T18:10:23.163805Z",
     "start_time": "2020-07-17T18:10:22.604254Z"
    }
   },
   "outputs": [
    {
     "data": {
      "image/png": "[encoded data removed]",
      "text/plain": [
       "<Figure size 576x396 with 1 Axes>"
      ]
     },
     "metadata": {},
     "output_type": "display_data"
    }
   ],
   "source": [
    "col ='Group.Index'\n",
    "sns.countplot(y=procedure_data[col], order=procedure_data[col].value_counts().iloc[:10].index);\n",
    "plt.tight_layout()\n",
    "plt.savefig(os.path.join('../','visualization',f\"{col}_barchart.png\"))"
   ]
  },
  {
   "cell_type": "code",
   "execution_count": 60,
   "metadata": {
    "ExecuteTime": {
     "end_time": "2020-07-17T18:10:23.175800Z",
     "start_time": "2020-07-17T18:10:23.166565Z"
    }
   },
   "outputs": [
    {
     "data": {
      "text/plain": [
       "48546    16297\n",
       "114      11033\n",
       "572       9905\n",
       "110       5474\n",
       "48549     1599\n",
       "47656      160\n",
       "12976      118\n",
       "22368       98\n",
       "25509       87\n",
       "18106       86\n",
       "Name: Group.Index, dtype: int64"
      ]
     },
     "execution_count": 60,
     "metadata": {},
     "output_type": "execute_result"
    }
   ],
   "source": [
    "# look at group index\n",
    "procedure_data[col].value_counts(ascending=False).head(10)"
   ]
  },
  {
   "cell_type": "markdown",
   "metadata": {},
   "source": [
    "### Subscriber.Index"
   ]
  },
  {
   "cell_type": "code",
   "execution_count": 61,
   "metadata": {
    "ExecuteTime": {
     "end_time": "2020-07-17T18:10:23.884596Z",
     "start_time": "2020-07-17T18:10:23.375268Z"
    }
   },
   "outputs": [
    {
     "data": {
      "image/png": "[encoded data removed]",
      "text/plain": [
       "<Figure size 576x396 with 1 Axes>"
      ]
     },
     "metadata": {},
     "output_type": "display_data"
    }
   ],
   "source": [
    "col ='Subscriber.Index'\n",
    "sns.countplot(y=procedure_data[col], order=procedure_data[col].value_counts().iloc[:10].index);\n",
    "plt.tight_layout()\n",
    "plt.savefig(os.path.join('../','visualization',f\"{col}_barchart.png\"))"
   ]
  },
  {
   "cell_type": "code",
   "execution_count": 62,
   "metadata": {
    "ExecuteTime": {
     "end_time": "2020-07-17T18:10:26.820752Z",
     "start_time": "2020-07-17T18:10:26.813383Z"
    }
   },
   "outputs": [
    {
     "data": {
      "text/plain": [
       "71700800    306\n",
       "69448150    305\n",
       "72422650    247\n",
       "76652600    176\n",
       "73037200    173\n",
       "17723800    159\n",
       "67552000    155\n",
       "69861400    154\n",
       "1609700     142\n",
       "1610950     141\n",
       "Name: Subscriber.Index, dtype: int64"
      ]
     },
     "execution_count": 62,
     "metadata": {},
     "output_type": "execute_result"
    }
   ],
   "source": [
    "# look at subscriber index\n",
    "procedure_data[col].value_counts(ascending=False).head(10)"
   ]
  },
  {
   "cell_type": "markdown",
   "metadata": {},
   "source": [
    "### Subgroup.Index"
   ]
  },
  {
   "cell_type": "code",
   "execution_count": 63,
   "metadata": {
    "ExecuteTime": {
     "end_time": "2020-07-17T18:10:27.636808Z",
     "start_time": "2020-07-17T18:10:27.240231Z"
    }
   },
   "outputs": [
    {
     "data": {
      "image/png": "[encoded data removed]",
      "text/plain": [
       "<Figure size 576x396 with 1 Axes>"
      ]
     },
     "metadata": {},
     "output_type": "display_data"
    }
   ],
   "source": [
    "col = 'Subgroup.Index'\n",
    "sns.countplot(y=procedure_data[col], order=procedure_data[col].value_counts().iloc[:10].index);\n",
    "plt.tight_layout()\n",
    "plt.savefig(os.path.join('../','visualization',f\"{col}_barchart.png\"))"
   ]
  },
  {
   "cell_type": "code",
   "execution_count": 64,
   "metadata": {
    "ExecuteTime": {
     "end_time": "2020-07-17T18:10:27.645987Z",
     "start_time": "2020-07-17T18:10:27.638662Z"
    }
   },
   "outputs": [
    {
     "data": {
      "text/plain": [
       "0        42797\n",
       "52255      800\n",
       "52245      619\n",
       "52254      153\n",
       "13610      118\n",
       "23592       98\n",
       "26881       87\n",
       "19011       86\n",
       "30537       85\n",
       "27826       78\n",
       "Name: Subgroup.Index, dtype: int64"
      ]
     },
     "execution_count": 64,
     "metadata": {},
     "output_type": "execute_result"
    }
   ],
   "source": [
    "# look at sub-group index\n",
    "procedure_data[col].value_counts(ascending=False).head(10)"
   ]
  },
  {
   "cell_type": "markdown",
   "metadata": {},
   "source": [
    "### Claim.Type"
   ]
  },
  {
   "cell_type": "code",
   "execution_count": 65,
   "metadata": {
    "ExecuteTime": {
     "end_time": "2020-07-17T18:10:28.244966Z",
     "start_time": "2020-07-17T18:10:27.918792Z"
    }
   },
   "outputs": [
    {
     "data": {
      "image/png": "[encoded data removed]",
      "text/plain": [
       "<Figure size 576x396 with 1 Axes>"
      ]
     },
     "metadata": {},
     "output_type": "display_data"
    }
   ],
   "source": [
    "col = 'Claim.Type'\n",
    "sns.countplot(y=procedure_data[col], order=procedure_data[col].value_counts().iloc[:10].index);\n",
    "plt.savefig(os.path.join('../','visualization',f\"{col}_barchart.png\"))"
   ]
  },
  {
   "cell_type": "code",
   "execution_count": 66,
   "metadata": {
    "ExecuteTime": {
     "end_time": "2020-07-17T18:10:28.259839Z",
     "start_time": "2020-07-17T18:10:28.247581Z"
    }
   },
   "outputs": [
    {
     "data": {
      "text/plain": [
       "M    48612\n",
       "E     2417\n",
       "Name: Claim.Type, dtype: int64"
      ]
     },
     "execution_count": 66,
     "metadata": {},
     "output_type": "execute_result"
    }
   ],
   "source": [
    "# look at claim type\n",
    "procedure_data[col].value_counts(ascending=False).head(10)"
   ]
  },
  {
   "cell_type": "markdown",
   "metadata": {},
   "source": [
    "### Claim.Subscriber.Type"
   ]
  },
  {
   "cell_type": "code",
   "execution_count": 67,
   "metadata": {
    "ExecuteTime": {
     "end_time": "2020-07-17T18:10:28.953334Z",
     "start_time": "2020-07-17T18:10:28.640061Z"
    }
   },
   "outputs": [
    {
     "data": {
      "image/png": "[encoded data removed]",
      "text/plain": [
       "<Figure size 576x396 with 1 Axes>"
      ]
     },
     "metadata": {},
     "output_type": "display_data"
    }
   ],
   "source": [
    "col = 'Claim.Subscriber.Type'\n",
    "sns.countplot(y=procedure_data[col], order=procedure_data[col].value_counts().iloc[:10].index);\n",
    "plt.savefig(os.path.join('../','visualization',f\"{col}_barchart.png\"))"
   ]
  },
  {
   "cell_type": "code",
   "execution_count": 68,
   "metadata": {
    "ExecuteTime": {
     "end_time": "2020-07-17T18:10:28.967791Z",
     "start_time": "2020-07-17T18:10:28.955695Z"
    }
   },
   "outputs": [
    {
     "data": {
      "text/plain": [
       "H    51027\n",
       "M        2\n",
       "Name: Claim.Subscriber.Type, dtype: int64"
      ]
     },
     "execution_count": 68,
     "metadata": {},
     "output_type": "execute_result"
    }
   ],
   "source": [
    "# look at subsriber type\n",
    "procedure_data[col].value_counts(ascending=False).head(10)"
   ]
  },
  {
   "cell_type": "markdown",
   "metadata": {},
   "source": [
    "### Claim.Pre.Prince.Index"
   ]
  },
  {
   "cell_type": "code",
   "execution_count": 69,
   "metadata": {
    "ExecuteTime": {
     "end_time": "2020-07-17T18:10:33.040224Z",
     "start_time": "2020-07-17T18:10:32.737783Z"
    }
   },
   "outputs": [
    {
     "data": {
      "image/png": "[encoded data removed]",
      "text/plain": [
       "<Figure size 576x396 with 1 Axes>"
      ]
     },
     "metadata": {},
     "output_type": "display_data"
    }
   ],
   "source": [
    "col = 'Claim.Pre.Prince.Index'\n",
    "sns.countplot(y=procedure_data[col], order=procedure_data[col].value_counts().iloc[:10].index);\n",
    "plt.savefig(os.path.join('../','visualization',f\"{col}_barchart.png\"))"
   ]
  },
  {
   "cell_type": "code",
   "execution_count": 70,
   "metadata": {
    "ExecuteTime": {
     "end_time": "2020-07-17T18:10:33.506577Z",
     "start_time": "2020-07-17T18:10:33.496774Z"
    }
   },
   "outputs": [
    {
     "data": {
      "text/plain": [
       "     39996\n",
       "S    10959\n",
       "E       74\n",
       "Name: Claim.Pre.Prince.Index, dtype: int64"
      ]
     },
     "execution_count": 70,
     "metadata": {},
     "output_type": "execute_result"
    }
   ],
   "source": [
    "# look at claim pre price index\n",
    "procedure_data[col].value_counts(ascending=False).head(10)"
   ]
  },
  {
   "cell_type": "markdown",
   "metadata": {},
   "source": [
    "### Claim.Current.Status"
   ]
  },
  {
   "cell_type": "code",
   "execution_count": 71,
   "metadata": {
    "ExecuteTime": {
     "end_time": "2020-07-17T18:10:34.585669Z",
     "start_time": "2020-07-17T18:10:34.241804Z"
    }
   },
   "outputs": [
    {
     "data": {
      "image/png": "[encoded data removed]",
      "text/plain": [
       "<Figure size 576x396 with 1 Axes>"
      ]
     },
     "metadata": {},
     "output_type": "display_data"
    }
   ],
   "source": [
    "col = 'Claim.Current.Status'\n",
    "sns.countplot(y=procedure_data[col], order=procedure_data[col].value_counts().iloc[:10].index);\n",
    "plt.savefig(os.path.join('../','visualization',f\"{col}_barchart.png\"))"
   ]
  },
  {
   "cell_type": "code",
   "execution_count": 72,
   "metadata": {
    "ExecuteTime": {
     "end_time": "2020-07-17T18:10:34.963168Z",
     "start_time": "2020-07-17T18:10:34.955261Z"
    }
   },
   "outputs": [
    {
     "data": {
      "text/plain": [
       "2     41391\n",
       "81     3001\n",
       "91     2032\n",
       "11     1498\n",
       "19      955\n",
       "99      915\n",
       "1       657\n",
       "15      520\n",
       "89       60\n",
       "Name: Claim.Current.Status, dtype: int64"
      ]
     },
     "execution_count": 72,
     "metadata": {},
     "output_type": "execute_result"
    }
   ],
   "source": [
    "# look at claim current status\n",
    "procedure_data[col].value_counts(ascending=False).head(10)"
   ]
  },
  {
   "cell_type": "markdown",
   "metadata": {},
   "source": [
    "### Network.ID"
   ]
  },
  {
   "cell_type": "code",
   "execution_count": 73,
   "metadata": {
    "ExecuteTime": {
     "end_time": "2020-07-17T18:10:36.906714Z",
     "start_time": "2020-07-17T18:10:36.463319Z"
    }
   },
   "outputs": [
    {
     "data": {
      "image/png": "[encoded data removed]",
      "text/plain": [
       "<Figure size 576x396 with 1 Axes>"
      ]
     },
     "metadata": {},
     "output_type": "display_data"
    }
   ],
   "source": [
    "col = 'Network.ID'\n",
    "sns.countplot(y=procedure_data[col], order=procedure_data[col].value_counts().iloc[:10].index);\n",
    "plt.tight_layout()\n",
    "plt.savefig(os.path.join('../','visualization',f\"{col}_barchart.png\"))"
   ]
  },
  {
   "cell_type": "code",
   "execution_count": 74,
   "metadata": {
    "ExecuteTime": {
     "end_time": "2020-07-17T18:10:39.569833Z",
     "start_time": "2020-07-17T18:10:39.561073Z"
    }
   },
   "outputs": [
    {
     "data": {
      "text/plain": [
       "                19063\n",
       "P00000000007    14270\n",
       "P00000000001    12405\n",
       "P00000000002     1883\n",
       "MIMAPD000002     1273\n",
       "MIMAPD000001      879\n",
       "H00000000001      669\n",
       "MGMAPD000001      257\n",
       "ITS000000004      101\n",
       "H00000000003       88\n",
       "H00000000002       72\n",
       "P00000000003       37\n",
       "H00000000004       16\n",
       "H00000000011        9\n",
       "P00000000009        7\n",
       "Name: Network.ID, dtype: int64"
      ]
     },
     "execution_count": 74,
     "metadata": {},
     "output_type": "execute_result"
    }
   ],
   "source": [
    "# network id\n",
    "procedure_data[col].value_counts(ascending=False).head(20)"
   ]
  },
  {
   "cell_type": "markdown",
   "metadata": {},
   "source": [
    "### Agreement.ID"
   ]
  },
  {
   "cell_type": "code",
   "execution_count": 75,
   "metadata": {
    "ExecuteTime": {
     "end_time": "2020-07-17T16:20:34.419308Z",
     "start_time": "2020-07-17T16:20:33.048240Z"
    }
   },
   "outputs": [
    {
     "data": {
      "image/png": "[encoded data removed]",
      "text/plain": [
       "<Figure size 576x396 with 1 Axes>"
      ]
     },
     "metadata": {},
     "output_type": "display_data"
    }
   ],
   "source": [
    "col = 'Agreement.ID'\n",
    "sns.countplot(y=procedure_data[col], order=procedure_data[col].value_counts().iloc[:10].index);\n",
    "plt.tight_layout()\n",
    "plt.savefig(os.path.join('../','visualization',f\"{col}_barchart.png\"))"
   ]
  },
  {
   "cell_type": "code",
   "execution_count": 76,
   "metadata": {
    "ExecuteTime": {
     "end_time": "2020-07-17T16:20:34.435377Z",
     "start_time": "2020-07-17T16:20:34.421802Z"
    }
   },
   "outputs": [
    {
     "data": {
      "text/plain": [
       "                18905\n",
       "FH001311QB01     5586\n",
       "FH002449QPD1     5155\n",
       "FH002454QPD1     4571\n",
       "FH001309QB01     4409\n",
       "FH001310QB01     3777\n",
       "FH002451QPD1     3048\n",
       "A00BLCH0Q001     1374\n",
       "FH000595QB01     1302\n",
       "FH002441QPD1      681\n",
       "Name: Agreement.ID, dtype: int64"
      ]
     },
     "execution_count": 76,
     "metadata": {},
     "output_type": "execute_result"
    }
   ],
   "source": [
    "# agreement id\n",
    "procedure_data[col].value_counts(ascending=False).head(10)"
   ]
  },
  {
   "cell_type": "markdown",
   "metadata": {},
   "source": [
    "## Data Profile"
   ]
  },
  {
   "cell_type": "code",
   "execution_count": 77,
   "metadata": {
    "ExecuteTime": {
     "end_time": "2020-07-17T16:20:34.515389Z",
     "start_time": "2020-07-17T16:20:34.438305Z"
    }
   },
   "outputs": [],
   "source": [
    "import numpy as np\n",
    "import pandas as pd\n",
    "from pandas_profiling import ProfileReport\n",
    "import os\n",
    "\n",
    "produce_report = False\n",
    "\n",
    "if produce_report:\n",
    "    # produce profile report\n",
    "    profile = ProfileReport(procedure_data, title=\"Procedure Data Report\", minimal=True);\n",
    "\n",
    "    # show profile in notebook\n",
    "    profile.to_widgets();\n",
    "    \n",
    "    # save profile to visalizations folder\n",
    "    profile.to_file(os.path.join('../visualization','Procedure_Data_Report.html'))\n"
   ]
  },
  {
   "cell_type": "code",
   "execution_count": 78,
   "metadata": {
    "ExecuteTime": {
     "end_time": "2020-07-17T16:20:34.592426Z",
     "start_time": "2020-07-17T16:20:34.518663Z"
    }
   },
   "outputs": [
    {
     "data": {
      "text/html": [
       "\n",
       "        <iframe\n",
       "            width=\"950\"\n",
       "            height=\"400\"\n",
       "            src=\"../visualization/Procedure_Data_Report.html\"\n",
       "            frameborder=\"0\"\n",
       "            allowfullscreen\n",
       "        ></iframe>\n",
       "        "
      ],
      "text/plain": [
       "<IPython.lib.display.IFrame at 0x7f2c31b73650>"
      ]
     },
     "execution_count": 78,
     "metadata": {},
     "output_type": "execute_result"
    }
   ],
   "source": [
    "# show saved report\n",
    "IFrame(src=os.path.join('../visualization','Procedure_Data_Report.html'), width=950, height=400)"
   ]
  },
  {
   "cell_type": "markdown",
   "metadata": {},
   "source": [
    "## Drop Columns after EDA"
   ]
  },
  {
   "cell_type": "code",
   "execution_count": 79,
   "metadata": {
    "ExecuteTime": {
     "end_time": "2020-07-17T16:20:35.804366Z",
     "start_time": "2020-07-17T16:20:34.595828Z"
    }
   },
   "outputs": [],
   "source": [
    "# drop columns ['Claim.Subscriber.Type', Subscriber.Payment.Amount', 'Place.Of.Service.Code']\n",
    "procedure_data.drop(['Claim.Number', 'Claim.Line.Number', 'Member.ID',\n",
    "                     'Claim.Subscriber.Type', 'Subscriber.Payment.Amount', 'Place.Of.Service.Code'], inplace=True, axis=1)\n",
    "\n",
    "# replace blank values with NaN\n",
    "procedure_data = procedure_data.applymap(lambda x: np.nan if isinstance(x, str) and x.isspace() else x)\n",
    "\n",
    "# add cleaned file to cleaned folder\n",
    "procedure_data.to_csv(os.path.join('../data','cleaned','procedure_data.tar.gz'), compression='gzip', index=False)"
   ]
  },
  {
   "cell_type": "code",
   "execution_count": 80,
   "metadata": {
    "ExecuteTime": {
     "end_time": "2020-07-17T16:20:35.840386Z",
     "start_time": "2020-07-17T16:20:35.806946Z"
    }
   },
   "outputs": [
    {
     "data": {
      "text/html": [
       "<div>\n",
       "<style scoped>\n",
       "    .dataframe tbody tr th:only-of-type {\n",
       "        vertical-align: middle;\n",
       "    }\n",
       "\n",
       "    .dataframe tbody tr th {\n",
       "        vertical-align: top;\n",
       "    }\n",
       "\n",
       "    .dataframe thead th {\n",
       "        text-align: right;\n",
       "    }\n",
       "</style>\n",
       "<table border=\"1\" class=\"dataframe\">\n",
       "  <thead>\n",
       "    <tr style=\"text-align: right;\">\n",
       "      <th></th>\n",
       "      <th>Provider.ID</th>\n",
       "      <th>Line.Of.Business.ID</th>\n",
       "      <th>Revenue.Code</th>\n",
       "      <th>Service.Code</th>\n",
       "      <th>Procedure.Code</th>\n",
       "      <th>Diagnosis.Code</th>\n",
       "      <th>Claim.Charge.Amount</th>\n",
       "      <th>Denial.Reason.Code</th>\n",
       "      <th>Price.Index</th>\n",
       "      <th>In.Out.Of.Network</th>\n",
       "      <th>Reference.Index</th>\n",
       "      <th>Pricing.Index</th>\n",
       "      <th>Capitation.Index</th>\n",
       "      <th>Provider.Payment.Amount</th>\n",
       "      <th>Group.Index</th>\n",
       "      <th>Subscriber.Index</th>\n",
       "      <th>Subgroup.Index</th>\n",
       "      <th>Claim.Type</th>\n",
       "      <th>Claim.Pre.Prince.Index</th>\n",
       "      <th>Claim.Current.Status</th>\n",
       "      <th>Network.ID</th>\n",
       "      <th>Agreement.ID</th>\n",
       "      <th>UnpaidClaim</th>\n",
       "    </tr>\n",
       "  </thead>\n",
       "  <tbody>\n",
       "    <tr>\n",
       "      <th>0</th>\n",
       "      <td>FA0001389001</td>\n",
       "      <td>5</td>\n",
       "      <td>636</td>\n",
       "      <td>OP7O</td>\n",
       "      <td>J1650</td>\n",
       "      <td>4359</td>\n",
       "      <td>592.201995</td>\n",
       "      <td>KAO</td>\n",
       "      <td>A</td>\n",
       "      <td>I</td>\n",
       "      <td>N</td>\n",
       "      <td>N</td>\n",
       "      <td>NaN</td>\n",
       "      <td>0.0</td>\n",
       "      <td>114</td>\n",
       "      <td>1613650</td>\n",
       "      <td>0</td>\n",
       "      <td>M</td>\n",
       "      <td>S</td>\n",
       "      <td>91</td>\n",
       "      <td>P00000000001</td>\n",
       "      <td>FH001309QB01</td>\n",
       "      <td>1</td>\n",
       "    </tr>\n",
       "    <tr>\n",
       "      <th>1</th>\n",
       "      <td>FA0001389001</td>\n",
       "      <td>1</td>\n",
       "      <td>636</td>\n",
       "      <td>OP7O</td>\n",
       "      <td>J2405</td>\n",
       "      <td>64303</td>\n",
       "      <td>118.832970</td>\n",
       "      <td>J2L</td>\n",
       "      <td>A</td>\n",
       "      <td>I</td>\n",
       "      <td>N</td>\n",
       "      <td>N</td>\n",
       "      <td>R</td>\n",
       "      <td>0.0</td>\n",
       "      <td>275</td>\n",
       "      <td>18475600</td>\n",
       "      <td>483</td>\n",
       "      <td>M</td>\n",
       "      <td>NaN</td>\n",
       "      <td>2</td>\n",
       "      <td>H00000000001</td>\n",
       "      <td>FH001886QH01</td>\n",
       "      <td>1</td>\n",
       "    </tr>\n",
       "    <tr>\n",
       "      <th>2</th>\n",
       "      <td>FA0001389001</td>\n",
       "      <td>1</td>\n",
       "      <td>636</td>\n",
       "      <td>OP7O</td>\n",
       "      <td>J7030</td>\n",
       "      <td>64303</td>\n",
       "      <td>196.890405</td>\n",
       "      <td>J2L</td>\n",
       "      <td>A</td>\n",
       "      <td>I</td>\n",
       "      <td>N</td>\n",
       "      <td>N</td>\n",
       "      <td>R</td>\n",
       "      <td>0.0</td>\n",
       "      <td>275</td>\n",
       "      <td>18475600</td>\n",
       "      <td>483</td>\n",
       "      <td>M</td>\n",
       "      <td>NaN</td>\n",
       "      <td>2</td>\n",
       "      <td>H00000000001</td>\n",
       "      <td>FH001886QH01</td>\n",
       "      <td>1</td>\n",
       "    </tr>\n",
       "    <tr>\n",
       "      <th>3</th>\n",
       "      <td>FA0001389001</td>\n",
       "      <td>5</td>\n",
       "      <td>636</td>\n",
       "      <td>OP7O</td>\n",
       "      <td>J1650</td>\n",
       "      <td>4359</td>\n",
       "      <td>592.201995</td>\n",
       "      <td>KDR</td>\n",
       "      <td>A</td>\n",
       "      <td>I</td>\n",
       "      <td>N</td>\n",
       "      <td>N</td>\n",
       "      <td>NaN</td>\n",
       "      <td>0.0</td>\n",
       "      <td>114</td>\n",
       "      <td>1618150</td>\n",
       "      <td>0</td>\n",
       "      <td>M</td>\n",
       "      <td>S</td>\n",
       "      <td>91</td>\n",
       "      <td>P00000000001</td>\n",
       "      <td>FH001309QB01</td>\n",
       "      <td>1</td>\n",
       "    </tr>\n",
       "    <tr>\n",
       "      <th>4</th>\n",
       "      <td>FA0001389001</td>\n",
       "      <td>5</td>\n",
       "      <td>636</td>\n",
       "      <td>OP7O</td>\n",
       "      <td>J1650</td>\n",
       "      <td>4359</td>\n",
       "      <td>592.201995</td>\n",
       "      <td>KAO</td>\n",
       "      <td>A</td>\n",
       "      <td>I</td>\n",
       "      <td>N</td>\n",
       "      <td>N</td>\n",
       "      <td>NaN</td>\n",
       "      <td>0.0</td>\n",
       "      <td>114</td>\n",
       "      <td>1613200</td>\n",
       "      <td>0</td>\n",
       "      <td>M</td>\n",
       "      <td>S</td>\n",
       "      <td>2</td>\n",
       "      <td>P00000000001</td>\n",
       "      <td>FH001309QB01</td>\n",
       "      <td>1</td>\n",
       "    </tr>\n",
       "  </tbody>\n",
       "</table>\n",
       "</div>"
      ],
      "text/plain": [
       "    Provider.ID Line.Of.Business.ID Revenue.Code Service.Code Procedure.Code  \\\n",
       "0  FA0001389001                   5          636         OP7O          J1650   \n",
       "1  FA0001389001                   1          636         OP7O          J2405   \n",
       "2  FA0001389001                   1          636         OP7O          J7030   \n",
       "3  FA0001389001                   5          636         OP7O          J1650   \n",
       "4  FA0001389001                   5          636         OP7O          J1650   \n",
       "\n",
       "  Diagnosis.Code  Claim.Charge.Amount Denial.Reason.Code Price.Index  \\\n",
       "0           4359           592.201995                KAO           A   \n",
       "1          64303           118.832970                J2L           A   \n",
       "2          64303           196.890405                J2L           A   \n",
       "3           4359           592.201995                KDR           A   \n",
       "4           4359           592.201995                KAO           A   \n",
       "\n",
       "  In.Out.Of.Network Reference.Index Pricing.Index Capitation.Index  \\\n",
       "0                 I               N             N              NaN   \n",
       "1                 I               N             N                R   \n",
       "2                 I               N             N                R   \n",
       "3                 I               N             N              NaN   \n",
       "4                 I               N             N              NaN   \n",
       "\n",
       "   Provider.Payment.Amount  Group.Index  Subscriber.Index  Subgroup.Index  \\\n",
       "0                      0.0          114           1613650               0   \n",
       "1                      0.0          275          18475600             483   \n",
       "2                      0.0          275          18475600             483   \n",
       "3                      0.0          114           1618150               0   \n",
       "4                      0.0          114           1613200               0   \n",
       "\n",
       "  Claim.Type Claim.Pre.Prince.Index  Claim.Current.Status    Network.ID  \\\n",
       "0          M                      S                    91  P00000000001   \n",
       "1          M                    NaN                     2  H00000000001   \n",
       "2          M                    NaN                     2  H00000000001   \n",
       "3          M                      S                    91  P00000000001   \n",
       "4          M                      S                     2  P00000000001   \n",
       "\n",
       "   Agreement.ID  UnpaidClaim  \n",
       "0  FH001309QB01            1  \n",
       "1  FH001886QH01            1  \n",
       "2  FH001886QH01            1  \n",
       "3  FH001309QB01            1  \n",
       "4  FH001309QB01            1  "
      ]
     },
     "execution_count": 80,
     "metadata": {},
     "output_type": "execute_result"
    }
   ],
   "source": [
    "# make sure columsn are removed\n",
    "procedure_data.head()"
   ]
  },
  {
   "cell_type": "markdown",
   "metadata": {},
   "source": [
    "# ------ Create Models ------"
   ]
  },
  {
   "cell_type": "markdown",
   "metadata": {},
   "source": [
    "## Base Line Model (Logistic Regression)"
   ]
  },
  {
   "cell_type": "code",
   "execution_count": 81,
   "metadata": {
    "ExecuteTime": {
     "end_time": "2020-07-17T16:20:37.884954Z",
     "start_time": "2020-07-17T16:20:35.844487Z"
    }
   },
   "outputs": [
    {
     "name": "stdout",
     "output_type": "stream",
     "text": [
      "The mean squared error is 0.01152019002375297 and accuracy is 0.9884798099762471\n"
     ]
    }
   ],
   "source": [
    "from helperFile import MachineLearning\n",
    "import os\n",
    "\n",
    "# store name to be use in results\n",
    "model = 'LogisticRegression'\n",
    "\n",
    "machine_learning = MachineLearning(train_data=os.path.join('../data','cleaned','procedure_data.tar.gz'), \n",
    "                                   label='UnpaidClaim',\n",
    "                                   log_file=os.path.join('../logs', f\"{model}\"))\n",
    "\n",
    "# set up pre-processing\n",
    "preprocessing = machine_learning.PreProcessing()\n",
    "\n",
    "# perform logistic regression\n",
    "# print out mean squared error and accuracy\n",
    "mse, score = machine_learning.LogisticRegression()\n",
    "\n",
    "print(f\"The mean squared error is {mse} and accuracy is {score}\")"
   ]
  },
  {
   "cell_type": "markdown",
   "metadata": {
    "ExecuteTime": {
     "end_time": "2020-07-15T03:38:17.832362Z",
     "start_time": "2020-07-15T03:38:17.830038Z"
    }
   },
   "source": [
    "## Random Forest Classifier Tuning"
   ]
  },
  {
   "cell_type": "code",
   "execution_count": 82,
   "metadata": {
    "ExecuteTime": {
     "end_time": "2020-07-17T16:21:37.329915Z",
     "start_time": "2020-07-17T16:20:37.888063Z"
    }
   },
   "outputs": [],
   "source": [
    "from helperFile import MachineLearning, random_tune\n",
    "import os\n",
    "\n",
    "# store name to be use in results\n",
    "model = 'RandomForest'\n",
    "\n",
    "machine_learning = MachineLearning(train_data=os.path.join('../data','cleaned','procedure_data.tar.gz'), \n",
    "                                   label='UnpaidClaim',\n",
    "                                   log_file=os.path.join('../logs', f\"{model}\"))\n",
    "\n",
    "# set up pre-processing\n",
    "preprocessing = machine_learning.PreProcessing()\n",
    "\n",
    "# store results as a list of tuples\n",
    "results = []\n",
    "\n",
    "# loop through each paramter and parameter value\n",
    "for key, values in random_tune.items():\n",
    "    # loop through each \n",
    "    for value in values:\n",
    "        \n",
    "        # set parameter and value to tune\n",
    "        parameter = { key : value }\n",
    "        \n",
    "        # perform random forst\n",
    "        score = machine_learning.RandomForest(parameter_dict=parameter, regressor=False)\n",
    "        \n",
    "        results.append((key, value, score))"
   ]
  },
  {
   "cell_type": "markdown",
   "metadata": {},
   "source": [
    "### Show best results"
   ]
  },
  {
   "cell_type": "code",
   "execution_count": 83,
   "metadata": {
    "ExecuteTime": {
     "end_time": "2020-07-17T16:21:37.337346Z",
     "start_time": "2020-07-17T16:21:37.331506Z"
    },
    "scrolled": true
   },
   "outputs": [
    {
     "name": "stdout",
     "output_type": "stream",
     "text": [
      "{'max_depth': 100, 'n_estimators': 70, 'max_features': None, 'min_samples_leaf': 1}\n"
     ]
    }
   ],
   "source": [
    "# store best result to be used as parameter\n",
    "best_results_dict = {}\n",
    "\n",
    "# loop through all parameter keys\n",
    "for key in random_tune.keys():\n",
    "    \n",
    "    # get the values for current key\n",
    "    values = [val for val in results if val[0] == key]\n",
    "    # get the score for current key\n",
    "    scores = [val[2] for val in values]\n",
    "    # get parameter for current key and max score\n",
    "    best_score = [val for val in values if val[2] == min(scores)]\n",
    "    # set diction with best parameter and parameter value\n",
    "    best_results_dict[best_score[0][0]] = best_score[0][1]\n",
    "    \n",
    "# print out results\n",
    "print(best_results_dict)"
   ]
  },
  {
   "cell_type": "markdown",
   "metadata": {
    "ExecuteTime": {
     "end_time": "2020-07-15T03:49:27.925265Z",
     "start_time": "2020-07-15T03:49:27.916470Z"
    }
   },
   "source": [
    "### Final, Tuned, Random Forest"
   ]
  },
  {
   "cell_type": "code",
   "execution_count": 84,
   "metadata": {
    "ExecuteTime": {
     "end_time": "2020-07-17T16:21:41.214143Z",
     "start_time": "2020-07-17T16:21:37.339813Z"
    }
   },
   "outputs": [
    {
     "name": "stdout",
     "output_type": "stream",
     "text": [
      "The mean squared error is 0.007660332541567696 and accuracy is 0.9923396674584323\n"
     ]
    }
   ],
   "source": [
    "import os\n",
    "from helperFile import MachineLearning\n",
    "\n",
    "# store name to be use in results\n",
    "model = 'RandomForest'\n",
    "\n",
    "# call machine learning class\n",
    "machine_learning = MachineLearning(train_data=os.path.join('../data','cleaned','procedure_data.tar.gz'), \n",
    "                                   label='UnpaidClaim',\n",
    "                                   log_file=os.path.join('../logs', f\"{model}\"))\n",
    "# setup pre processing\n",
    "preprocessing = machine_learning.PreProcessing()\n",
    "\n",
    "# set best_results_dict\n",
    "best_results_dict = {'max_depth': 100, 'n_estimators': 70, 'max_features': None, 'min_samples_leaf': 1}\n",
    "\n",
    "# perform random forest using best parameters\n",
    "mse, score = machine_learning.RandomForest(regressor=False, parameter_dict=best_results_dict)\n",
    "\n",
    "# print final model score\n",
    "print(f\"The mean squared error is {mse} and accuracy is {score}\")"
   ]
  },
  {
   "cell_type": "markdown",
   "metadata": {},
   "source": [
    "## XgBoost Tuning"
   ]
  },
  {
   "cell_type": "code",
   "execution_count": 85,
   "metadata": {
    "ExecuteTime": {
     "end_time": "2020-07-17T16:23:12.353853Z",
     "start_time": "2020-07-17T16:21:41.216532Z"
    }
   },
   "outputs": [
    {
     "name": "stdout",
     "output_type": "stream",
     "text": [
      "[11:21:41] WARNING: /workspace/src/learner.cc:480: \n",
      "Parameters: { silent } might not be used.\n",
      "\n",
      "  This may not be accurate due to some parameters are only used in language bindings but\n",
      "  passed down to XGBoost core.  Or some parameters are not used but slip through this\n",
      "  verification. Please open an issue if you find above cases.\n",
      "\n",
      "\n",
      "[11:21:45] WARNING: /workspace/src/learner.cc:480: \n",
      "Parameters: { silent } might not be used.\n",
      "\n",
      "  This may not be accurate due to some parameters are only used in language bindings but\n",
      "  passed down to XGBoost core.  Or some parameters are not used but slip through this\n",
      "  verification. Please open an issue if you find above cases.\n",
      "\n",
      "\n",
      "[11:21:50] WARNING: /workspace/src/learner.cc:480: \n",
      "Parameters: { silent } might not be used.\n",
      "\n",
      "  This may not be accurate due to some parameters are only used in language bindings but\n",
      "  passed down to XGBoost core.  Or some parameters are not used but slip through this\n",
      "  verification. Please open an issue if you find above cases.\n",
      "\n",
      "\n",
      "[11:21:53] WARNING: /workspace/src/learner.cc:480: \n",
      "Parameters: { silent } might not be used.\n",
      "\n",
      "  This may not be accurate due to some parameters are only used in language bindings but\n",
      "  passed down to XGBoost core.  Or some parameters are not used but slip through this\n",
      "  verification. Please open an issue if you find above cases.\n",
      "\n",
      "\n",
      "[11:21:57] WARNING: /workspace/src/learner.cc:480: \n",
      "Parameters: { silent } might not be used.\n",
      "\n",
      "  This may not be accurate due to some parameters are only used in language bindings but\n",
      "  passed down to XGBoost core.  Or some parameters are not used but slip through this\n",
      "  verification. Please open an issue if you find above cases.\n",
      "\n",
      "\n",
      "[11:22:02] WARNING: /workspace/src/learner.cc:480: \n",
      "Parameters: { silent } might not be used.\n",
      "\n",
      "  This may not be accurate due to some parameters are only used in language bindings but\n",
      "  passed down to XGBoost core.  Or some parameters are not used but slip through this\n",
      "  verification. Please open an issue if you find above cases.\n",
      "\n",
      "\n",
      "[11:22:06] WARNING: /workspace/src/learner.cc:480: \n",
      "Parameters: { silent } might not be used.\n",
      "\n",
      "  This may not be accurate due to some parameters are only used in language bindings but\n",
      "  passed down to XGBoost core.  Or some parameters are not used but slip through this\n",
      "  verification. Please open an issue if you find above cases.\n",
      "\n",
      "\n",
      "[11:22:10] WARNING: /workspace/src/learner.cc:480: \n",
      "Parameters: { silent } might not be used.\n",
      "\n",
      "  This may not be accurate due to some parameters are only used in language bindings but\n",
      "  passed down to XGBoost core.  Or some parameters are not used but slip through this\n",
      "  verification. Please open an issue if you find above cases.\n",
      "\n",
      "\n",
      "[11:22:12] WARNING: /workspace/src/learner.cc:480: \n",
      "Parameters: { silent } might not be used.\n",
      "\n",
      "  This may not be accurate due to some parameters are only used in language bindings but\n",
      "  passed down to XGBoost core.  Or some parameters are not used but slip through this\n",
      "  verification. Please open an issue if you find above cases.\n",
      "\n",
      "\n",
      "[11:22:15] WARNING: /workspace/src/learner.cc:480: \n",
      "Parameters: { silent } might not be used.\n",
      "\n",
      "  This may not be accurate due to some parameters are only used in language bindings but\n",
      "  passed down to XGBoost core.  Or some parameters are not used but slip through this\n",
      "  verification. Please open an issue if you find above cases.\n",
      "\n",
      "\n",
      "[11:22:18] WARNING: /workspace/src/learner.cc:480: \n",
      "Parameters: { silent } might not be used.\n",
      "\n",
      "  This may not be accurate due to some parameters are only used in language bindings but\n",
      "  passed down to XGBoost core.  Or some parameters are not used but slip through this\n",
      "  verification. Please open an issue if you find above cases.\n",
      "\n",
      "\n",
      "[11:22:21] WARNING: /workspace/src/learner.cc:480: \n",
      "Parameters: { silent } might not be used.\n",
      "\n",
      "  This may not be accurate due to some parameters are only used in language bindings but\n",
      "  passed down to XGBoost core.  Or some parameters are not used but slip through this\n",
      "  verification. Please open an issue if you find above cases.\n",
      "\n",
      "\n",
      "[11:22:25] WARNING: /workspace/src/learner.cc:480: \n",
      "Parameters: { silent } might not be used.\n",
      "\n",
      "  This may not be accurate due to some parameters are only used in language bindings but\n",
      "  passed down to XGBoost core.  Or some parameters are not used but slip through this\n",
      "  verification. Please open an issue if you find above cases.\n",
      "\n",
      "\n",
      "[11:22:31] WARNING: /workspace/src/learner.cc:480: \n",
      "Parameters: { silent } might not be used.\n",
      "\n",
      "  This may not be accurate due to some parameters are only used in language bindings but\n",
      "  passed down to XGBoost core.  Or some parameters are not used but slip through this\n",
      "  verification. Please open an issue if you find above cases.\n",
      "\n",
      "\n",
      "[11:22:41] WARNING: /workspace/src/learner.cc:480: \n",
      "Parameters: { silent } might not be used.\n",
      "\n",
      "  This may not be accurate due to some parameters are only used in language bindings but\n",
      "  passed down to XGBoost core.  Or some parameters are not used but slip through this\n",
      "  verification. Please open an issue if you find above cases.\n",
      "\n",
      "\n",
      "[11:22:52] WARNING: /workspace/src/learner.cc:480: \n",
      "Parameters: { silent } might not be used.\n",
      "\n",
      "  This may not be accurate due to some parameters are only used in language bindings but\n",
      "  passed down to XGBoost core.  Or some parameters are not used but slip through this\n",
      "  verification. Please open an issue if you find above cases.\n",
      "\n",
      "\n",
      "[11:22:52] WARNING: /workspace/src/learner.cc:480: \n",
      "Parameters: { silent } might not be used.\n",
      "\n",
      "  This may not be accurate due to some parameters are only used in language bindings but\n",
      "  passed down to XGBoost core.  Or some parameters are not used but slip through this\n",
      "  verification. Please open an issue if you find above cases.\n",
      "\n",
      "\n",
      "[11:22:53] WARNING: /workspace/src/learner.cc:480: \n",
      "Parameters: { silent } might not be used.\n",
      "\n",
      "  This may not be accurate due to some parameters are only used in language bindings but\n",
      "  passed down to XGBoost core.  Or some parameters are not used but slip through this\n",
      "  verification. Please open an issue if you find above cases.\n",
      "\n",
      "\n",
      "[11:22:54] WARNING: /workspace/src/learner.cc:480: \n",
      "Parameters: { silent } might not be used.\n",
      "\n",
      "  This may not be accurate due to some parameters are only used in language bindings but\n",
      "  passed down to XGBoost core.  Or some parameters are not used but slip through this\n",
      "  verification. Please open an issue if you find above cases.\n",
      "\n",
      "\n",
      "[11:22:55] WARNING: /workspace/src/learner.cc:480: \n",
      "Parameters: { silent } might not be used.\n",
      "\n",
      "  This may not be accurate due to some parameters are only used in language bindings but\n",
      "  passed down to XGBoost core.  Or some parameters are not used but slip through this\n",
      "  verification. Please open an issue if you find above cases.\n",
      "\n",
      "\n",
      "[11:22:56] WARNING: /workspace/src/learner.cc:480: \n",
      "Parameters: { silent } might not be used.\n",
      "\n",
      "  This may not be accurate due to some parameters are only used in language bindings but\n",
      "  passed down to XGBoost core.  Or some parameters are not used but slip through this\n",
      "  verification. Please open an issue if you find above cases.\n",
      "\n",
      "\n",
      "[11:22:57] WARNING: /workspace/src/learner.cc:480: \n",
      "Parameters: { silent } might not be used.\n",
      "\n",
      "  This may not be accurate due to some parameters are only used in language bindings but\n",
      "  passed down to XGBoost core.  Or some parameters are not used but slip through this\n",
      "  verification. Please open an issue if you find above cases.\n",
      "\n",
      "\n",
      "[11:22:59] WARNING: /workspace/src/learner.cc:480: \n",
      "Parameters: { silent } might not be used.\n",
      "\n",
      "  This may not be accurate due to some parameters are only used in language bindings but\n",
      "  passed down to XGBoost core.  Or some parameters are not used but slip through this\n",
      "  verification. Please open an issue if you find above cases.\n",
      "\n",
      "\n",
      "[11:23:00] WARNING: /workspace/src/learner.cc:480: \n",
      "Parameters: { silent } might not be used.\n",
      "\n",
      "  This may not be accurate due to some parameters are only used in language bindings but\n",
      "  passed down to XGBoost core.  Or some parameters are not used but slip through this\n",
      "  verification. Please open an issue if you find above cases.\n",
      "\n",
      "\n",
      "[11:23:02] WARNING: /workspace/src/learner.cc:480: \n",
      "Parameters: { silent } might not be used.\n",
      "\n",
      "  This may not be accurate due to some parameters are only used in language bindings but\n",
      "  passed down to XGBoost core.  Or some parameters are not used but slip through this\n",
      "  verification. Please open an issue if you find above cases.\n",
      "\n",
      "\n"
     ]
    },
    {
     "name": "stdout",
     "output_type": "stream",
     "text": [
      "[11:23:05] WARNING: /workspace/src/learner.cc:480: \n",
      "Parameters: { silent } might not be used.\n",
      "\n",
      "  This may not be accurate due to some parameters are only used in language bindings but\n",
      "  passed down to XGBoost core.  Or some parameters are not used but slip through this\n",
      "  verification. Please open an issue if you find above cases.\n",
      "\n",
      "\n",
      "[11:23:08] WARNING: /workspace/src/learner.cc:480: \n",
      "Parameters: { silent } might not be used.\n",
      "\n",
      "  This may not be accurate due to some parameters are only used in language bindings but\n",
      "  passed down to XGBoost core.  Or some parameters are not used but slip through this\n",
      "  verification. Please open an issue if you find above cases.\n",
      "\n",
      "\n"
     ]
    }
   ],
   "source": [
    "# import tuneing parameters\n",
    "import os\n",
    "from helperFile import MachineLearning, xgb_tune\n",
    "\n",
    "# set model name\n",
    "model = 'XGBoost'\n",
    "\n",
    "# call machine learning class\n",
    "machine_learning = MachineLearning(train_data=os.path.join('../data','cleaned','procedure_data.tar.gz'), \n",
    "                                   label='UnpaidClaim',\n",
    "                                   log_file=os.path.join('../logs', f\"{model}\"))\n",
    "\n",
    "# perform pre-processing\n",
    "preprocessing = machine_learning.PreProcessing()\n",
    "\n",
    "# store results as a list of tuples\n",
    "results = []\n",
    "\n",
    "# loop through each paramter and parameter value\n",
    "for key, values in xgb_tune.items():\n",
    "    # loop through each\n",
    "    for value in values:\n",
    "\n",
    "        # set parameter and value to tune\n",
    "        parameter = {key: value}\n",
    "\n",
    "        # perform random forst\n",
    "        score = machine_learning.XGboost(regressor=False, parameter_dict=parameter)\n",
    "\n",
    "        results.append((key, value, score))"
   ]
  },
  {
   "cell_type": "markdown",
   "metadata": {},
   "source": [
    "### Show best results"
   ]
  },
  {
   "cell_type": "code",
   "execution_count": 86,
   "metadata": {
    "ExecuteTime": {
     "end_time": "2020-07-17T16:23:12.361924Z",
     "start_time": "2020-07-17T16:23:12.355750Z"
    }
   },
   "outputs": [
    {
     "name": "stdout",
     "output_type": "stream",
     "text": [
      "{'learning_rate': 0.6, 'max_depth': 20, 'n_estimators': 100}\n"
     ]
    }
   ],
   "source": [
    "# store best result to be used as parameter\n",
    "best_results_dict = {}\n",
    "\n",
    "# loop through all parameter keys\n",
    "for key in xgb_tune.keys():\n",
    "\n",
    "    # get the values for current key\n",
    "    values = [val for val in results if val[0] == key]\n",
    "    # get the score for current key\n",
    "    scores = [val[2] for val in values]\n",
    "    # get parameter for current key and max score\n",
    "    best_score = [val for val in values if val[2] == min(scores)]\n",
    "    # set diction with best parameter and parameter value\n",
    "    best_results_dict[best_score[0][0]] = best_score[0][1]\n",
    "\n",
    "# print out results\n",
    "print(best_results_dict)"
   ]
  },
  {
   "cell_type": "markdown",
   "metadata": {},
   "source": [
    "### Final, Tuned, XgBoost"
   ]
  },
  {
   "cell_type": "code",
   "execution_count": 87,
   "metadata": {
    "ExecuteTime": {
     "end_time": "2020-07-17T16:23:22.109803Z",
     "start_time": "2020-07-17T16:23:12.364668Z"
    }
   },
   "outputs": [
    {
     "name": "stdout",
     "output_type": "stream",
     "text": [
      "[11:23:13] WARNING: /workspace/src/learner.cc:480: \n",
      "Parameters: { silent } might not be used.\n",
      "\n",
      "  This may not be accurate due to some parameters are only used in language bindings but\n",
      "  passed down to XGBoost core.  Or some parameters are not used but slip through this\n",
      "  verification. Please open an issue if you find above cases.\n",
      "\n",
      "\n",
      "0.006413301662707839 0.9935866983372922\n"
     ]
    }
   ],
   "source": [
    "import os\n",
    "from helperFile import MachineLearning\n",
    "import xgboost as xgb\n",
    "\n",
    "# set model name\n",
    "model = 'XGBoost' \n",
    "\n",
    "# call machine learning class\n",
    "machine_learning = MachineLearning(train_data=os.path.join('../data','cleaned','procedure_data.tar.gz'), \n",
    "                                   label='UnpaidClaim',\n",
    "                                   log_file=os.path.join('../logs', f\"{model}\"))\n",
    " \n",
    "# setup pre processing\n",
    "preprocessing = machine_learning.PreProcessing()\n",
    "\n",
    "# # set best_results_dict\n",
    "best_results_dict = {'learning_rate': 0.6, 'max_depth': 20, 'n_estimators': 100}\n",
    "\n",
    "# # perform random forest using best parameters\n",
    "mse, score = machine_learning.XGboost(regressor=False, parameter_dict=best_results_dict)\n",
    "        \n",
    "# # print final model score\n",
    "print(mse, score)"
   ]
  },
  {
   "cell_type": "markdown",
   "metadata": {},
   "source": [
    "## LgBoost Tuning"
   ]
  },
  {
   "cell_type": "code",
   "execution_count": 88,
   "metadata": {
    "ExecuteTime": {
     "end_time": "2020-07-17T16:24:26.273471Z",
     "start_time": "2020-07-17T16:23:22.112315Z"
    }
   },
   "outputs": [],
   "source": [
    "# import tuneing parameters\n",
    "import os\n",
    "from helperFile import MachineLearning, lgb_tune\n",
    "\n",
    "# set model name\n",
    "model = 'LGBoost'\n",
    "\n",
    "# call machine learning class\n",
    "machine_learning = MachineLearning(train_data=os.path.join('../data','cleaned','procedure_data.tar.gz'), \n",
    "                                   label='UnpaidClaim',\n",
    "                                   log_file=os.path.join('../logs', f\"{model}\"))\n",
    " \n",
    "# set columns for preprocessing\n",
    "preprocessing = machine_learning.PreProcessing()\n",
    "\n",
    "# store results as a list of tuples\n",
    "results = []\n",
    "\n",
    "# loop through each paramter and parameter value\n",
    "for key, values in lgb_tune.items():\n",
    "    # loop through each \n",
    "    for value in values:\n",
    "        \n",
    "        # set parameter and value to tune\n",
    "        parameter = { key : value }\n",
    "        \n",
    "        # perform random forst\n",
    "        score = machine_learning.LGboost(regressor=False, parameter_dict=parameter)\n",
    "        \n",
    "        results.append((key, value, score))"
   ]
  },
  {
   "cell_type": "markdown",
   "metadata": {},
   "source": [
    "### Show best results"
   ]
  },
  {
   "cell_type": "code",
   "execution_count": 89,
   "metadata": {
    "ExecuteTime": {
     "end_time": "2020-07-17T16:24:26.282461Z",
     "start_time": "2020-07-17T16:24:26.275379Z"
    }
   },
   "outputs": [
    {
     "name": "stdout",
     "output_type": "stream",
     "text": [
      "{'learning_rate': 0.4, 'max_depth': 13, 'num_leaves': 126, 'n_estimators': 100, 'min_data_in_leaf': 100}\n"
     ]
    }
   ],
   "source": [
    "# store best result to be used as parameter\n",
    "best_results_dict = {}\n",
    "\n",
    "# loop through all parameter keys\n",
    "for key in lgb_tune.keys():\n",
    "\n",
    "    # get the values for current key\n",
    "    values = [val for val in results if val[0] == key]\n",
    "    # get the score for current key\n",
    "    scores = [val[2] for val in values]\n",
    "    # get parameter for current key and max score\n",
    "    best_score = [val for val in values if val[2] == min(scores)]\n",
    "    # set diction with best parameter and parameter value\n",
    "    best_results_dict[best_score[0][0]] = best_score[0][1]\n",
    "\n",
    "# print out results\n",
    "print(best_results_dict)"
   ]
  },
  {
   "cell_type": "markdown",
   "metadata": {},
   "source": [
    "### Final, Tuned, LgBoost"
   ]
  },
  {
   "cell_type": "code",
   "execution_count": 90,
   "metadata": {
    "ExecuteTime": {
     "end_time": "2020-07-17T16:24:28.336283Z",
     "start_time": "2020-07-17T16:24:26.285056Z"
    }
   },
   "outputs": [
    {
     "name": "stdout",
     "output_type": "stream",
     "text": [
      "0.007897862232779097 0.9921021377672209\n"
     ]
    }
   ],
   "source": [
    "import os\n",
    "from helperFile import MachineLearning\n",
    "import xgboost as xgb\n",
    "\n",
    "# set model name\n",
    "model = 'LGBoost' \n",
    "\n",
    "# call machine learning class\n",
    "machine_learning = MachineLearning(train_data=os.path.join('../data','cleaned','procedure_data.tar.gz'), \n",
    "                                   label='UnpaidClaim',\n",
    "                                   log_file=os.path.join('../logs', f\"{model}\"))\n",
    " \n",
    "# setup pre processing\n",
    "preprocessing = machine_learning.PreProcessing()\n",
    "\n",
    "# # set best_results_dict\n",
    "best_results_dict = {'learning_rate': 0.4, 'max_depth': 13, 'num_leaves': 126, 'n_estimators': 100, 'min_data_in_leaf': 100}\n",
    "\n",
    "# # perform random forest using best parameters\n",
    "score, mse = machine_learning.LGboost(regressor=False, parameter_dict=best_results_dict)\n",
    "        \n",
    "# # print final model score\n",
    "print(score, mse)"
   ]
  },
  {
   "cell_type": "markdown",
   "metadata": {},
   "source": [
    "# ------ Test Models ------"
   ]
  },
  {
   "cell_type": "markdown",
   "metadata": {},
   "source": [
    "## Logistic Regression Cross Validation"
   ]
  },
  {
   "cell_type": "code",
   "execution_count": 91,
   "metadata": {
    "ExecuteTime": {
     "end_time": "2020-07-17T16:24:36.439410Z",
     "start_time": "2020-07-17T16:24:28.338357Z"
    }
   },
   "outputs": [],
   "source": [
    "# do 5-fold cross validation on models and measure MSE\n",
    "import os\n",
    "import numpy as np\n",
    "from helperFile import MachineLearning\n",
    "\n",
    "# store name to be use in results\n",
    "model = 'LogisticRegression'\n",
    "\n",
    "# store results for all models\n",
    "cv_results = {}\n",
    "\n",
    "# load data\n",
    "machine_learning = MachineLearning(train_data=os.path.join('../data','cleaned','procedure_data.tar.gz'), \n",
    "                                   label='UnpaidClaim',\n",
    "                                   log_file=os.path.join('../logs', f\"{model}_CrossValidation\"))\n",
    "\n",
    "# setup pre processing\n",
    "preprocessing=machine_learning.PreProcessing()\n",
    "\n",
    "# perform random forest using best parameters\n",
    "mse = machine_learning.LogisticRegression(cross_validation=True)\n",
    "\n",
    "# get minimum mse value index\n",
    "index = np.argmin(mse[0])\n",
    "\n",
    "# get minimum mse and corresponding accuracy\n",
    "min_mse = mse[0][index]\n",
    "min_accuracy = mse[1][index]\n",
    "\n",
    "# store final model score\n",
    "cv_results[model] = min_mse, min_accuracy"
   ]
  },
  {
   "cell_type": "markdown",
   "metadata": {},
   "source": [
    "## Random Forest Cross Validation"
   ]
  },
  {
   "cell_type": "code",
   "execution_count": 92,
   "metadata": {
    "ExecuteTime": {
     "end_time": "2020-07-17T16:25:07.473252Z",
     "start_time": "2020-07-17T16:24:36.441494Z"
    }
   },
   "outputs": [],
   "source": [
    "import os\n",
    "import numpy as np\n",
    "from helperFile import MachineLearning, randomforest_best_results_dict\n",
    "\n",
    "# store name to be use in results\n",
    "model = 'RandomForest'\n",
    "\n",
    "# load data\n",
    "machine_learning = MachineLearning(train_data=os.path.join('../data','cleaned','procedure_data.tar.gz'), \n",
    "                                   label='UnpaidClaim',\n",
    "                                   log_file=os.path.join('../logs', f\"{model}_CrossValidation\"))\n",
    "\n",
    "# setup pre processing\n",
    "preprocessing = machine_learning.PreProcessing()\n",
    "\n",
    "# perform random forest using best parameters\n",
    "mse = machine_learning.RandomForest(\n",
    "    parameter_dict=randomforest_best_results_dict, regressor=False, cross_validation=True)\n",
    "\n",
    "# get minimum mse value index\n",
    "index = np.argmin(mse[0])\n",
    "\n",
    "# get minimum mse and corresponding accuracy\n",
    "min_mse = mse[0][index]\n",
    "min_accuracy = mse[1][index]\n",
    "\n",
    "# store final model score\n",
    "cv_results[model] = min_mse, min_accuracy"
   ]
  },
  {
   "cell_type": "markdown",
   "metadata": {
    "ExecuteTime": {
     "end_time": "2020-07-15T04:29:53.743096Z",
     "start_time": "2020-07-15T04:29:53.740031Z"
    }
   },
   "source": [
    "## XgBoost Forest Cross Validation"
   ]
  },
  {
   "cell_type": "code",
   "execution_count": 93,
   "metadata": {
    "ExecuteTime": {
     "end_time": "2020-07-17T16:26:03.942162Z",
     "start_time": "2020-07-17T16:25:07.477660Z"
    }
   },
   "outputs": [
    {
     "name": "stdout",
     "output_type": "stream",
     "text": [
      "[11:25:08] WARNING: /workspace/src/learner.cc:480: \n",
      "Parameters: { silent } might not be used.\n",
      "\n",
      "  This may not be accurate due to some parameters are only used in language bindings but\n",
      "  passed down to XGBoost core.  Or some parameters are not used but slip through this\n",
      "  verification. Please open an issue if you find above cases.\n",
      "\n",
      "\n",
      "[11:25:16] WARNING: /workspace/src/learner.cc:480: \n",
      "Parameters: { silent } might not be used.\n",
      "\n",
      "  This may not be accurate due to some parameters are only used in language bindings but\n",
      "  passed down to XGBoost core.  Or some parameters are not used but slip through this\n",
      "  verification. Please open an issue if you find above cases.\n",
      "\n",
      "\n",
      "[11:25:25] WARNING: /workspace/src/learner.cc:480: \n",
      "Parameters: { silent } might not be used.\n",
      "\n",
      "  This may not be accurate due to some parameters are only used in language bindings but\n",
      "  passed down to XGBoost core.  Or some parameters are not used but slip through this\n",
      "  verification. Please open an issue if you find above cases.\n",
      "\n",
      "\n",
      "[11:25:35] WARNING: /workspace/src/learner.cc:480: \n",
      "Parameters: { silent } might not be used.\n",
      "\n",
      "  This may not be accurate due to some parameters are only used in language bindings but\n",
      "  passed down to XGBoost core.  Or some parameters are not used but slip through this\n",
      "  verification. Please open an issue if you find above cases.\n",
      "\n",
      "\n",
      "[11:25:44] WARNING: /workspace/src/learner.cc:480: \n",
      "Parameters: { silent } might not be used.\n",
      "\n",
      "  This may not be accurate due to some parameters are only used in language bindings but\n",
      "  passed down to XGBoost core.  Or some parameters are not used but slip through this\n",
      "  verification. Please open an issue if you find above cases.\n",
      "\n",
      "\n",
      "[11:25:54] WARNING: /workspace/src/learner.cc:480: \n",
      "Parameters: { silent } might not be used.\n",
      "\n",
      "  This may not be accurate due to some parameters are only used in language bindings but\n",
      "  passed down to XGBoost core.  Or some parameters are not used but slip through this\n",
      "  verification. Please open an issue if you find above cases.\n",
      "\n",
      "\n"
     ]
    }
   ],
   "source": [
    "import os\n",
    "import numpy as np\n",
    "from helperFile import MachineLearning, xgb_best_results_dict\n",
    "\n",
    "# store name to be use in results\n",
    "model = 'XGboost'\n",
    "\n",
    "# load data\n",
    "machine_learning = MachineLearning(train_data=os.path.join('../data','cleaned','procedure_data.tar.gz'), \n",
    "                                   label='UnpaidClaim',\n",
    "                                   log_file=os.path.join('../logs', f\"{model}_CrossValidation\"))\n",
    "\n",
    "# setup pre processing\n",
    "preprocessing = machine_learning.PreProcessing()\n",
    "\n",
    "# perform random forest using best parameters\n",
    "mse = machine_learning.XGboost(\n",
    "    parameter_dict=xgb_best_results_dict, regressor=False, cross_validation=True)\n",
    "\n",
    "# get minimum mse value index\n",
    "index = np.argmin(mse[0])\n",
    "\n",
    "# get minimum mse and corresponding accuracy\n",
    "min_mse = mse[0][index]\n",
    "min_accuracy = mse[1][index]\n",
    "\n",
    "# store final model score\n",
    "cv_results[model] = min_mse, min_accuracy"
   ]
  },
  {
   "cell_type": "markdown",
   "metadata": {},
   "source": [
    "## LgBoost Forest Cross Validation"
   ]
  },
  {
   "cell_type": "code",
   "execution_count": 94,
   "metadata": {
    "ExecuteTime": {
     "end_time": "2020-07-17T16:26:11.925516Z",
     "start_time": "2020-07-17T16:26:03.944363Z"
    }
   },
   "outputs": [],
   "source": [
    "import os\n",
    "import numpy as np\n",
    "from helperFile import MachineLearning, lgb_best_results_dict\n",
    "\n",
    "# store name to be use in results\n",
    "model = 'LGboost'\n",
    "\n",
    "# load data\n",
    "machine_learning = MachineLearning(train_data=os.path.join('../data','cleaned','procedure_data.tar.gz'), \n",
    "                                   label='UnpaidClaim',\n",
    "                                   log_file=os.path.join('../logs', f\"{model}_CrossValidation\"))\n",
    "\n",
    "# setup pre processing\n",
    "preprocessing = machine_learning.PreProcessing()\n",
    "\n",
    "# perform random forest using best parameters\n",
    "mse = machine_learning.LGboost(\n",
    "    parameter_dict=lgb_best_results_dict, regressor=False, cross_validation=True)\n",
    "\n",
    "# get minimum mse value index\n",
    "index = np.argmin(mse[0])\n",
    "\n",
    "# get minimum mse and corresponding accuracy\n",
    "min_mse = mse[0][index]\n",
    "min_accuracy = mse[1][index]\n",
    "\n",
    "# store final model score\n",
    "cv_results[model] = min_mse, min_accuracy"
   ]
  },
  {
   "cell_type": "markdown",
   "metadata": {},
   "source": [
    "## Show model results"
   ]
  },
  {
   "cell_type": "code",
   "execution_count": 95,
   "metadata": {
    "ExecuteTime": {
     "end_time": "2020-07-17T16:26:11.943198Z",
     "start_time": "2020-07-17T16:26:11.927726Z"
    }
   },
   "outputs": [
    {
     "data": {
      "text/html": [
       "<div>\n",
       "<style scoped>\n",
       "    .dataframe tbody tr th:only-of-type {\n",
       "        vertical-align: middle;\n",
       "    }\n",
       "\n",
       "    .dataframe tbody tr th {\n",
       "        vertical-align: top;\n",
       "    }\n",
       "\n",
       "    .dataframe thead th {\n",
       "        text-align: right;\n",
       "    }\n",
       "</style>\n",
       "<table border=\"1\" class=\"dataframe\">\n",
       "  <thead>\n",
       "    <tr style=\"text-align: right;\">\n",
       "      <th></th>\n",
       "      <th>Model</th>\n",
       "      <th>MeanSquaredError</th>\n",
       "      <th>Accuracy</th>\n",
       "    </tr>\n",
       "  </thead>\n",
       "  <tbody>\n",
       "    <tr>\n",
       "      <th>0</th>\n",
       "      <td>LogisticRegression</td>\n",
       "      <td>0.024887</td>\n",
       "      <td>0.975113</td>\n",
       "    </tr>\n",
       "    <tr>\n",
       "      <th>1</th>\n",
       "      <td>RandomForest</td>\n",
       "      <td>0.022536</td>\n",
       "      <td>0.977464</td>\n",
       "    </tr>\n",
       "    <tr>\n",
       "      <th>2</th>\n",
       "      <td>XGboost</td>\n",
       "      <td>0.024299</td>\n",
       "      <td>0.975701</td>\n",
       "    </tr>\n",
       "    <tr>\n",
       "      <th>3</th>\n",
       "      <td>LGboost</td>\n",
       "      <td>0.031942</td>\n",
       "      <td>0.968058</td>\n",
       "    </tr>\n",
       "  </tbody>\n",
       "</table>\n",
       "</div>"
      ],
      "text/plain": [
       "                Model  MeanSquaredError  Accuracy\n",
       "0  LogisticRegression          0.024887  0.975113\n",
       "1        RandomForest          0.022536  0.977464\n",
       "2             XGboost          0.024299  0.975701\n",
       "3             LGboost          0.031942  0.968058"
      ]
     },
     "execution_count": 95,
     "metadata": {},
     "output_type": "execute_result"
    }
   ],
   "source": [
    "import pandas as pd\n",
    "model_dataframe = pd.DataFrame()\n",
    "model_dataframe['Model'] = cv_results.keys()\n",
    "model_dataframe['MeanSquaredError'] = [v[0] for v in cv_results.values()]\n",
    "model_dataframe['Accuracy'] = [v[1] for v in cv_results.values()]\n",
    "model_dataframe"
   ]
  },
  {
   "cell_type": "markdown",
   "metadata": {},
   "source": [
    "## Save results to file"
   ]
  },
  {
   "cell_type": "code",
   "execution_count": 96,
   "metadata": {
    "ExecuteTime": {
     "end_time": "2020-07-17T16:26:12.046891Z",
     "start_time": "2020-07-17T16:26:11.946067Z"
    }
   },
   "outputs": [],
   "source": [
    "# write dataframe to file\n",
    "model_dataframe.to_csv(os.path.join('../logs','FinalResults.csv'), index=False)"
   ]
  },
  {
   "cell_type": "markdown",
   "metadata": {
    "ExecuteTime": {
     "end_time": "2020-07-15T04:34:27.756703Z",
     "start_time": "2020-07-15T04:34:27.753878Z"
    }
   },
   "source": [
    "## Select best model"
   ]
  },
  {
   "cell_type": "code",
   "execution_count": 97,
   "metadata": {
    "ExecuteTime": {
     "end_time": "2020-07-17T16:26:12.128173Z",
     "start_time": "2020-07-17T16:26:12.049647Z"
    }
   },
   "outputs": [
    {
     "data": {
      "text/html": [
       "<div>\n",
       "<style scoped>\n",
       "    .dataframe tbody tr th:only-of-type {\n",
       "        vertical-align: middle;\n",
       "    }\n",
       "\n",
       "    .dataframe tbody tr th {\n",
       "        vertical-align: top;\n",
       "    }\n",
       "\n",
       "    .dataframe thead th {\n",
       "        text-align: right;\n",
       "    }\n",
       "</style>\n",
       "<table border=\"1\" class=\"dataframe\">\n",
       "  <thead>\n",
       "    <tr style=\"text-align: right;\">\n",
       "      <th></th>\n",
       "      <th>Model</th>\n",
       "      <th>MeanSquaredError</th>\n",
       "      <th>Accuracy</th>\n",
       "    </tr>\n",
       "  </thead>\n",
       "  <tbody>\n",
       "    <tr>\n",
       "      <th>1</th>\n",
       "      <td>RandomForest</td>\n",
       "      <td>0.022536</td>\n",
       "      <td>0.977464</td>\n",
       "    </tr>\n",
       "  </tbody>\n",
       "</table>\n",
       "</div>"
      ],
      "text/plain": [
       "          Model  MeanSquaredError  Accuracy\n",
       "1  RandomForest          0.022536  0.977464"
      ]
     },
     "execution_count": 97,
     "metadata": {},
     "output_type": "execute_result"
    }
   ],
   "source": [
    "#select the model with the lowest error as your \"production\" model\n",
    "import pandas as pd\n",
    "import os \n",
    "\n",
    "model_dataframe = pd.read_csv(os.path.join('../logs', 'FinalResults.csv'), low_memory=False)\n",
    "best_model = model_dataframe.loc[model_dataframe['MeanSquaredError'] == min(model_dataframe['MeanSquaredError'])]\n",
    "best_model"
   ]
  },
  {
   "cell_type": "markdown",
   "metadata": {},
   "source": [
    "## Save Final Model"
   ]
  },
  {
   "cell_type": "code",
   "execution_count": 98,
   "metadata": {
    "ExecuteTime": {
     "end_time": "2020-07-17T16:26:16.002379Z",
     "start_time": "2020-07-17T16:26:12.131353Z"
    }
   },
   "outputs": [],
   "source": [
    "import os\n",
    "import numpy as np\n",
    "from helperFile import MachineLearning, randomforest_best_results_dict, xgb_best_results_dict, lgb_best_results_dict\n",
    "\n",
    "# store name to be use in results\n",
    "model = best_model['Model'].to_string(index=False).strip()\n",
    "\n",
    "# load data\n",
    "machine_learning = MachineLearning(train_data=os.path.join('../data','cleaned','procedure_data.tar.gz'), \n",
    "                                   label='UnpaidClaim',\n",
    "                                   log_file=os.path.join('../logs', f\"{model}_FinalModel\"))\n",
    "\n",
    "# setup pre processing\n",
    "preprocessing = machine_learning.PreProcessing()\n",
    "\n",
    "if model == 'LogisticRegression':\n",
    "    machine_learning.LogisticRegression(save_model=True)\n",
    "elif model == 'RandomForest':\n",
    "    machine_learning.RandomForest(\n",
    "        parameter_dict=randomforest_best_results_dict, regressor=False, save_model=True)\n",
    "elif model == 'XGboost':\n",
    "    machine_learning.XGboost(parameter_dict=xgb_best_results_dict, regressor=False, save_model=True)\n",
    "elif model == 'LGboost':\n",
    "    machine_learning.LGboost(parameter_dict=lgb_best_results_dict, regressor=False, save_model=True)\n",
    "else:\n",
    "    print(f'{model} not found')"
   ]
  },
  {
   "cell_type": "markdown",
   "metadata": {},
   "source": [
    "## Feature Importance for Best Model"
   ]
  },
  {
   "cell_type": "code",
   "execution_count": 99,
   "metadata": {
    "ExecuteTime": {
     "end_time": "2020-07-17T16:26:16.529533Z",
     "start_time": "2020-07-17T16:26:16.005340Z"
    }
   },
   "outputs": [
    {
     "data": {
      "image/png": "[encoded data removed]",
      "text/plain": [
       "<Figure size 576x396 with 1 Axes>"
      ]
     },
     "metadata": {},
     "output_type": "display_data"
    }
   ],
   "source": [
    "from helperFile import FeatureImportance\n",
    "\n",
    "# store name to be use in results\n",
    "model_name = best_model['Model'].to_string(index=False).strip()\n",
    "\n",
    "# plot feature importance for the best model\n",
    "FeatureImportance(model=model_name);\n",
    "\n"
   ]
  },
  {
   "cell_type": "markdown",
   "metadata": {},
   "source": [
    "## h2o Auto ML"
   ]
  },
  {
   "cell_type": "code",
   "execution_count": 100,
   "metadata": {
    "ExecuteTime": {
     "end_time": "2020-07-17T16:46:41.841953Z",
     "start_time": "2020-07-17T16:26:16.532306Z"
    }
   },
   "outputs": [
    {
     "name": "stdout",
     "output_type": "stream",
     "text": [
      "Checking whether there is an H2O instance running at http://localhost:54321 ..... not found.\n",
      "Attempting to start a local H2O server...\n",
      "  Java Version: openjdk version \"11.0.7\" 2020-04-14; OpenJDK Runtime Environment (build 11.0.7+10-post-Ubuntu-3ubuntu1); OpenJDK 64-Bit Server VM (build 11.0.7+10-post-Ubuntu-3ubuntu1, mixed mode, sharing)\n",
      "  Starting server from /home/narquette/anaconda/envs/claims/lib/python3.7/site-packages/h2o/backend/bin/h2o.jar\n",
      "  Ice root: /tmp/tmp2akvx_8q\n",
      "  JVM stdout: /tmp/tmp2akvx_8q/h2o_narquette_started_from_python.out\n",
      "  JVM stderr: /tmp/tmp2akvx_8q/h2o_narquette_started_from_python.err\n",
      "  Server is running at http://127.0.0.1:54361\n",
      "Connecting to H2O server at http://127.0.0.1:54361 ... successful.\n"
     ]
    },
    {
     "data": {
      "text/html": [
       "<div style=\"overflow:auto\"><table style=\"width:50%\"><tr><td>H2O_cluster_uptime:</td>\n",
       "<td>02 secs</td></tr>\n",
       "<tr><td>H2O_cluster_timezone:</td>\n",
       "<td>America/Chicago</td></tr>\n",
       "<tr><td>H2O_data_parsing_timezone:</td>\n",
       "<td>UTC</td></tr>\n",
       "<tr><td>H2O_cluster_version:</td>\n",
       "<td>3.30.0.6</td></tr>\n",
       "<tr><td>H2O_cluster_version_age:</td>\n",
       "<td>16 days </td></tr>\n",
       "<tr><td>H2O_cluster_name:</td>\n",
       "<td>H2O_from_python_narquette_i6mf3a</td></tr>\n",
       "<tr><td>H2O_cluster_total_nodes:</td>\n",
       "<td>1</td></tr>\n",
       "<tr><td>H2O_cluster_free_memory:</td>\n",
       "<td>7.971 Gb</td></tr>\n",
       "<tr><td>H2O_cluster_total_cores:</td>\n",
       "<td>8</td></tr>\n",
       "<tr><td>H2O_cluster_allowed_cores:</td>\n",
       "<td>8</td></tr>\n",
       "<tr><td>H2O_cluster_status:</td>\n",
       "<td>accepting new members, healthy</td></tr>\n",
       "<tr><td>H2O_connection_url:</td>\n",
       "<td>http://127.0.0.1:54361</td></tr>\n",
       "<tr><td>H2O_connection_proxy:</td>\n",
       "<td>{\"http\": null, \"https\": null}</td></tr>\n",
       "<tr><td>H2O_internal_security:</td>\n",
       "<td>False</td></tr>\n",
       "<tr><td>H2O_API_Extensions:</td>\n",
       "<td>Amazon S3, XGBoost, Algos, AutoML, Core V3, TargetEncoder, Core V4</td></tr>\n",
       "<tr><td>Python_version:</td>\n",
       "<td>3.7.7 final</td></tr></table></div>"
      ],
      "text/plain": [
       "--------------------------  ------------------------------------------------------------------\n",
       "H2O_cluster_uptime:         02 secs\n",
       "H2O_cluster_timezone:       America/Chicago\n",
       "H2O_data_parsing_timezone:  UTC\n",
       "H2O_cluster_version:        3.30.0.6\n",
       "H2O_cluster_version_age:    16 days\n",
       "H2O_cluster_name:           H2O_from_python_narquette_i6mf3a\n",
       "H2O_cluster_total_nodes:    1\n",
       "H2O_cluster_free_memory:    7.971 Gb\n",
       "H2O_cluster_total_cores:    8\n",
       "H2O_cluster_allowed_cores:  8\n",
       "H2O_cluster_status:         accepting new members, healthy\n",
       "H2O_connection_url:         http://127.0.0.1:54361\n",
       "H2O_connection_proxy:       {\"http\": null, \"https\": null}\n",
       "H2O_internal_security:      False\n",
       "H2O_API_Extensions:         Amazon S3, XGBoost, Algos, AutoML, Core V3, TargetEncoder, Core V4\n",
       "Python_version:             3.7.7 final\n",
       "--------------------------  ------------------------------------------------------------------"
      ]
     },
     "metadata": {},
     "output_type": "display_data"
    },
    {
     "name": "stdout",
     "output_type": "stream",
     "text": [
      "Parse progress: |█████████████████████████████████████████████████████████| 100%\n",
      "Parse progress: |█████████████████████████████████████████████████████████| 100%\n",
      "AutoML progress: |████████████████████████████████████████████████████████| 100%\n"
     ]
    },
    {
     "data": {
      "text/html": [
       "<table>\n",
       "<thead>\n",
       "<tr><th>model_id                                           </th><th style=\"text-align: right;\">  mean_residual_deviance</th><th style=\"text-align: right;\">     rmse</th><th style=\"text-align: right;\">       mse</th><th style=\"text-align: right;\">      mae</th><th style=\"text-align: right;\">    rmsle</th></tr>\n",
       "</thead>\n",
       "<tbody>\n",
       "<tr><td>XGBoost_1_AutoML_20200717_112631                   </td><td style=\"text-align: right;\">              0.00717847</td><td style=\"text-align: right;\">0.0847259</td><td style=\"text-align: right;\">0.00717847</td><td style=\"text-align: right;\">0.0196729</td><td style=\"text-align: right;\">0.0608463</td></tr>\n",
       "<tr><td>XGBoost_2_AutoML_20200717_112631                   </td><td style=\"text-align: right;\">              0.00718743</td><td style=\"text-align: right;\">0.0847787</td><td style=\"text-align: right;\">0.00718743</td><td style=\"text-align: right;\">0.0227101</td><td style=\"text-align: right;\">0.0613897</td></tr>\n",
       "<tr><td>XGBoost_grid__1_AutoML_20200717_112631_model_4     </td><td style=\"text-align: right;\">              0.00758843</td><td style=\"text-align: right;\">0.0871116</td><td style=\"text-align: right;\">0.00758843</td><td style=\"text-align: right;\">0.0196398</td><td style=\"text-align: right;\">0.061566 </td></tr>\n",
       "<tr><td>XGBoost_grid__1_AutoML_20200717_112631_model_3     </td><td style=\"text-align: right;\">              0.00785248</td><td style=\"text-align: right;\">0.0886142</td><td style=\"text-align: right;\">0.00785248</td><td style=\"text-align: right;\">0.0218579</td><td style=\"text-align: right;\">0.0627011</td></tr>\n",
       "<tr><td>XGBoost_3_AutoML_20200717_112631                   </td><td style=\"text-align: right;\">              0.00789872</td><td style=\"text-align: right;\">0.0888747</td><td style=\"text-align: right;\">0.00789872</td><td style=\"text-align: right;\">0.0201867</td><td style=\"text-align: right;\">0.0626735</td></tr>\n",
       "<tr><td>GBM_1_AutoML_20200717_112631                       </td><td style=\"text-align: right;\">              0.0081679 </td><td style=\"text-align: right;\">0.0903764</td><td style=\"text-align: right;\">0.0081679 </td><td style=\"text-align: right;\">0.0216205</td><td style=\"text-align: right;\">0.0642177</td></tr>\n",
       "<tr><td>XGBoost_grid__1_AutoML_20200717_112631_model_1     </td><td style=\"text-align: right;\">              0.00826934</td><td style=\"text-align: right;\">0.0909359</td><td style=\"text-align: right;\">0.00826934</td><td style=\"text-align: right;\">0.0222785</td><td style=\"text-align: right;\">0.0643073</td></tr>\n",
       "<tr><td>GBM_4_AutoML_20200717_112631                       </td><td style=\"text-align: right;\">              0.0084446 </td><td style=\"text-align: right;\">0.0918945</td><td style=\"text-align: right;\">0.0084446 </td><td style=\"text-align: right;\">0.0219729</td><td style=\"text-align: right;\">0.0655244</td></tr>\n",
       "<tr><td>DRF_1_AutoML_20200717_112631                       </td><td style=\"text-align: right;\">              0.00847688</td><td style=\"text-align: right;\">0.09207  </td><td style=\"text-align: right;\">0.00847688</td><td style=\"text-align: right;\">0.01912  </td><td style=\"text-align: right;\">0.0654083</td></tr>\n",
       "<tr><td>XGBoost_grid__1_AutoML_20200717_112631_model_2     </td><td style=\"text-align: right;\">              0.00856493</td><td style=\"text-align: right;\">0.0925469</td><td style=\"text-align: right;\">0.00856493</td><td style=\"text-align: right;\">0.0178279</td><td style=\"text-align: right;\">0.0667286</td></tr>\n",
       "<tr><td>GBM_2_AutoML_20200717_112631                       </td><td style=\"text-align: right;\">              0.00891274</td><td style=\"text-align: right;\">0.0944073</td><td style=\"text-align: right;\">0.00891274</td><td style=\"text-align: right;\">0.023783 </td><td style=\"text-align: right;\">0.0668978</td></tr>\n",
       "<tr><td>GBM_3_AutoML_20200717_112631                       </td><td style=\"text-align: right;\">              0.00891281</td><td style=\"text-align: right;\">0.0944077</td><td style=\"text-align: right;\">0.00891281</td><td style=\"text-align: right;\">0.0219877</td><td style=\"text-align: right;\">0.0666458</td></tr>\n",
       "<tr><td>GBM_grid__1_AutoML_20200717_112631_model_2         </td><td style=\"text-align: right;\">              0.00912604</td><td style=\"text-align: right;\">0.0955303</td><td style=\"text-align: right;\">0.00912604</td><td style=\"text-align: right;\">0.0293918</td><td style=\"text-align: right;\">0.0674206</td></tr>\n",
       "<tr><td>GBM_grid__1_AutoML_20200717_112631_model_1         </td><td style=\"text-align: right;\">              0.00957972</td><td style=\"text-align: right;\">0.097876 </td><td style=\"text-align: right;\">0.00957972</td><td style=\"text-align: right;\">0.0266127</td><td style=\"text-align: right;\">0.0690153</td></tr>\n",
       "<tr><td>GBM_5_AutoML_20200717_112631                       </td><td style=\"text-align: right;\">              0.0105047 </td><td style=\"text-align: right;\">0.102492 </td><td style=\"text-align: right;\">0.0105047 </td><td style=\"text-align: right;\">0.0280756</td><td style=\"text-align: right;\">0.0722161</td></tr>\n",
       "<tr><td>DeepLearning_grid__1_AutoML_20200717_112631_model_1</td><td style=\"text-align: right;\">              0.0116298 </td><td style=\"text-align: right;\">0.107841 </td><td style=\"text-align: right;\">0.0116298 </td><td style=\"text-align: right;\">0.029648 </td><td style=\"text-align: right;\">0.0778077</td></tr>\n",
       "<tr><td>DeepLearning_1_AutoML_20200717_112631              </td><td style=\"text-align: right;\">              0.0119798 </td><td style=\"text-align: right;\">0.109452 </td><td style=\"text-align: right;\">0.0119798 </td><td style=\"text-align: right;\">0.0308517</td><td style=\"text-align: right;\">0.0773754</td></tr>\n",
       "<tr><td>DeepLearning_grid__2_AutoML_20200717_112631_model_1</td><td style=\"text-align: right;\">              0.0192814 </td><td style=\"text-align: right;\">0.138858 </td><td style=\"text-align: right;\">0.0192814 </td><td style=\"text-align: right;\">0.07939  </td><td style=\"text-align: right;\">0.0984455</td></tr>\n",
       "<tr><td>XRT_1_AutoML_20200717_112631                       </td><td style=\"text-align: right;\">              0.0208505 </td><td style=\"text-align: right;\">0.144397 </td><td style=\"text-align: right;\">0.0208505 </td><td style=\"text-align: right;\">0.0645062</td><td style=\"text-align: right;\">0.11145  </td></tr>\n",
       "<tr><td>GLM_1_AutoML_20200717_112631                       </td><td style=\"text-align: right;\">              0.0331298 </td><td style=\"text-align: right;\">0.182016 </td><td style=\"text-align: right;\">0.0331298 </td><td style=\"text-align: right;\">0.0856365</td><td style=\"text-align: right;\">0.129122 </td></tr>\n",
       "</tbody>\n",
       "</table>"
      ]
     },
     "metadata": {},
     "output_type": "display_data"
    },
    {
     "data": {
      "text/plain": []
     },
     "execution_count": 100,
     "metadata": {},
     "output_type": "execute_result"
    }
   ],
   "source": [
    "import h2o\n",
    "import os\n",
    "from h2o.automl import H2OAutoML\n",
    "\n",
    "# initiate h2o\n",
    "h2o.init()\n",
    "\n",
    "# Import claims data (same split used in above modeling) set into H2O\n",
    "train = h2o.import_file(os.path.join('../data', 'train_test_split', 'procedure_train_data.csv'))\n",
    "test = h2o.import_file(os.path.join('../data', 'train_test_split', 'procedure_test_data.csv'))\n",
    "\n",
    "# Identify predictors and response\n",
    "x = train.columns\n",
    "y = \"UnpaidClaim\"\n",
    "x.remove(y)\n",
    "\n",
    "# Run AutoML for 20 base models (limited to 1 hour max runtime by default)\n",
    "# Exclude Stacked Ensemble models as they will not include Feature Importance\n",
    "aml = H2OAutoML(max_models=20, seed=1, exclude_algos=['StackedEnsemble'])\n",
    "aml.train(x=x, y=y, training_frame=train)\n",
    "\n",
    "# View the AutoML Leaderboard\n",
    "lb = aml.leaderboard\n",
    "lb.head(rows=lb.nrows)  # Print all rows instead of default (10 rows)"
   ]
  },
  {
   "cell_type": "code",
   "execution_count": 101,
   "metadata": {
    "ExecuteTime": {
     "end_time": "2020-07-17T16:46:42.025252Z",
     "start_time": "2020-07-17T16:46:41.844953Z"
    },
    "scrolled": false
   },
   "outputs": [
    {
     "name": "stdout",
     "output_type": "stream",
     "text": [
      "Model Details\n",
      "=============\n",
      "H2OXGBoostEstimator :  XGBoost\n",
      "Model Key:  XGBoost_1_AutoML_20200717_112631\n",
      "\n",
      "\n",
      "Model Summary: \n"
     ]
    },
    {
     "data": {
      "text/html": [
       "<div>\n",
       "<style scoped>\n",
       "    .dataframe tbody tr th:only-of-type {\n",
       "        vertical-align: middle;\n",
       "    }\n",
       "\n",
       "    .dataframe tbody tr th {\n",
       "        vertical-align: top;\n",
       "    }\n",
       "\n",
       "    .dataframe thead th {\n",
       "        text-align: right;\n",
       "    }\n",
       "</style>\n",
       "<table border=\"1\" class=\"dataframe\">\n",
       "  <thead>\n",
       "    <tr style=\"text-align: right;\">\n",
       "      <th></th>\n",
       "      <th></th>\n",
       "      <th>number_of_trees</th>\n",
       "    </tr>\n",
       "  </thead>\n",
       "  <tbody>\n",
       "    <tr>\n",
       "      <th>0</th>\n",
       "      <td></td>\n",
       "      <td>83.0</td>\n",
       "    </tr>\n",
       "  </tbody>\n",
       "</table>\n",
       "</div>"
      ],
      "text/plain": [
       "     number_of_trees\n",
       "0               83.0"
      ]
     },
     "metadata": {},
     "output_type": "display_data"
    },
    {
     "name": "stdout",
     "output_type": "stream",
     "text": [
      "\n",
      "\n",
      "ModelMetricsRegression: xgboost\n",
      "** Reported on train data. **\n",
      "\n",
      "MSE: 0.0023899841685693715\n",
      "RMSE: 0.048887464329512645\n",
      "MAE: 0.011791130904479955\n",
      "RMSLE: 0.03464798972534051\n",
      "Mean Residual Deviance: 0.0023899841685693715\n",
      "\n",
      "ModelMetricsRegression: xgboost\n",
      "** Reported on cross-validation data. **\n",
      "\n",
      "MSE: 0.007178471530284623\n",
      "RMSE: 0.0847258610477617\n",
      "MAE: 0.019672870173988877\n",
      "RMSLE: 0.06084626551020727\n",
      "Mean Residual Deviance: 0.007178471530284623\n",
      "\n",
      "Cross-Validation Metrics Summary: \n"
     ]
    },
    {
     "data": {
      "text/html": [
       "<div>\n",
       "<style scoped>\n",
       "    .dataframe tbody tr th:only-of-type {\n",
       "        vertical-align: middle;\n",
       "    }\n",
       "\n",
       "    .dataframe tbody tr th {\n",
       "        vertical-align: top;\n",
       "    }\n",
       "\n",
       "    .dataframe thead th {\n",
       "        text-align: right;\n",
       "    }\n",
       "</style>\n",
       "<table border=\"1\" class=\"dataframe\">\n",
       "  <thead>\n",
       "    <tr style=\"text-align: right;\">\n",
       "      <th></th>\n",
       "      <th></th>\n",
       "      <th>mean</th>\n",
       "      <th>sd</th>\n",
       "      <th>cv_1_valid</th>\n",
       "      <th>cv_2_valid</th>\n",
       "      <th>cv_3_valid</th>\n",
       "      <th>cv_4_valid</th>\n",
       "      <th>cv_5_valid</th>\n",
       "    </tr>\n",
       "  </thead>\n",
       "  <tbody>\n",
       "    <tr>\n",
       "      <th>0</th>\n",
       "      <td>mae</td>\n",
       "      <td>0.019672872</td>\n",
       "      <td>0.0011787636</td>\n",
       "      <td>0.018562853</td>\n",
       "      <td>0.0191269</td>\n",
       "      <td>0.019293455</td>\n",
       "      <td>0.021642497</td>\n",
       "      <td>0.019738656</td>\n",
       "    </tr>\n",
       "    <tr>\n",
       "      <th>1</th>\n",
       "      <td>mean_residual_deviance</td>\n",
       "      <td>0.0071784933</td>\n",
       "      <td>8.3969167E-4</td>\n",
       "      <td>0.0066521894</td>\n",
       "      <td>0.0062998757</td>\n",
       "      <td>0.006802941</td>\n",
       "      <td>0.008219199</td>\n",
       "      <td>0.00791826</td>\n",
       "    </tr>\n",
       "    <tr>\n",
       "      <th>2</th>\n",
       "      <td>mse</td>\n",
       "      <td>0.0071784933</td>\n",
       "      <td>8.3969167E-4</td>\n",
       "      <td>0.0066521894</td>\n",
       "      <td>0.0062998757</td>\n",
       "      <td>0.006802941</td>\n",
       "      <td>0.008219199</td>\n",
       "      <td>0.00791826</td>\n",
       "    </tr>\n",
       "    <tr>\n",
       "      <th>3</th>\n",
       "      <td>r2</td>\n",
       "      <td>0.9321963</td>\n",
       "      <td>0.0069754682</td>\n",
       "      <td>0.9383273</td>\n",
       "      <td>0.93979883</td>\n",
       "      <td>0.93253124</td>\n",
       "      <td>0.92487186</td>\n",
       "      <td>0.9254523</td>\n",
       "    </tr>\n",
       "    <tr>\n",
       "      <th>4</th>\n",
       "      <td>residual_deviance</td>\n",
       "      <td>0.0071784933</td>\n",
       "      <td>8.3969167E-4</td>\n",
       "      <td>0.0066521894</td>\n",
       "      <td>0.0062998757</td>\n",
       "      <td>0.006802941</td>\n",
       "      <td>0.008219199</td>\n",
       "      <td>0.00791826</td>\n",
       "    </tr>\n",
       "    <tr>\n",
       "      <th>5</th>\n",
       "      <td>rmse</td>\n",
       "      <td>0.084611416</td>\n",
       "      <td>0.00492469</td>\n",
       "      <td>0.081560954</td>\n",
       "      <td>0.07937176</td>\n",
       "      <td>0.08247995</td>\n",
       "      <td>0.0906598</td>\n",
       "      <td>0.08898461</td>\n",
       "    </tr>\n",
       "    <tr>\n",
       "      <th>6</th>\n",
       "      <td>rmsle</td>\n",
       "      <td>0.06079998</td>\n",
       "      <td>0.0026542128</td>\n",
       "      <td>0.05935502</td>\n",
       "      <td>0.058489535</td>\n",
       "      <td>0.059115287</td>\n",
       "      <td>0.0647686</td>\n",
       "      <td>0.062271446</td>\n",
       "    </tr>\n",
       "  </tbody>\n",
       "</table>\n",
       "</div>"
      ],
      "text/plain": [
       "                                   mean            sd    cv_1_valid  \\\n",
       "0                     mae   0.019672872  0.0011787636   0.018562853   \n",
       "1  mean_residual_deviance  0.0071784933  8.3969167E-4  0.0066521894   \n",
       "2                     mse  0.0071784933  8.3969167E-4  0.0066521894   \n",
       "3                      r2     0.9321963  0.0069754682     0.9383273   \n",
       "4       residual_deviance  0.0071784933  8.3969167E-4  0.0066521894   \n",
       "5                    rmse   0.084611416    0.00492469   0.081560954   \n",
       "6                   rmsle    0.06079998  0.0026542128    0.05935502   \n",
       "\n",
       "     cv_2_valid   cv_3_valid   cv_4_valid   cv_5_valid  \n",
       "0     0.0191269  0.019293455  0.021642497  0.019738656  \n",
       "1  0.0062998757  0.006802941  0.008219199   0.00791826  \n",
       "2  0.0062998757  0.006802941  0.008219199   0.00791826  \n",
       "3    0.93979883   0.93253124   0.92487186    0.9254523  \n",
       "4  0.0062998757  0.006802941  0.008219199   0.00791826  \n",
       "5    0.07937176   0.08247995    0.0906598   0.08898461  \n",
       "6   0.058489535  0.059115287    0.0647686  0.062271446  "
      ]
     },
     "metadata": {},
     "output_type": "display_data"
    },
    {
     "name": "stdout",
     "output_type": "stream",
     "text": [
      "\n",
      "Scoring History: \n"
     ]
    },
    {
     "data": {
      "text/html": [
       "<div>\n",
       "<style scoped>\n",
       "    .dataframe tbody tr th:only-of-type {\n",
       "        vertical-align: middle;\n",
       "    }\n",
       "\n",
       "    .dataframe tbody tr th {\n",
       "        vertical-align: top;\n",
       "    }\n",
       "\n",
       "    .dataframe thead th {\n",
       "        text-align: right;\n",
       "    }\n",
       "</style>\n",
       "<table border=\"1\" class=\"dataframe\">\n",
       "  <thead>\n",
       "    <tr style=\"text-align: right;\">\n",
       "      <th></th>\n",
       "      <th></th>\n",
       "      <th>timestamp</th>\n",
       "      <th>duration</th>\n",
       "      <th>number_of_trees</th>\n",
       "      <th>training_rmse</th>\n",
       "      <th>training_mae</th>\n",
       "      <th>training_deviance</th>\n",
       "    </tr>\n",
       "  </thead>\n",
       "  <tbody>\n",
       "    <tr>\n",
       "      <th>0</th>\n",
       "      <td></td>\n",
       "      <td>2020-07-17 11:26:57</td>\n",
       "      <td>26.700 sec</td>\n",
       "      <td>0.0</td>\n",
       "      <td>0.500000</td>\n",
       "      <td>0.500000</td>\n",
       "      <td>0.250000</td>\n",
       "    </tr>\n",
       "    <tr>\n",
       "      <th>1</th>\n",
       "      <td></td>\n",
       "      <td>2020-07-17 11:26:58</td>\n",
       "      <td>27.109 sec</td>\n",
       "      <td>5.0</td>\n",
       "      <td>0.120320</td>\n",
       "      <td>0.099103</td>\n",
       "      <td>0.014477</td>\n",
       "    </tr>\n",
       "    <tr>\n",
       "      <th>2</th>\n",
       "      <td></td>\n",
       "      <td>2020-07-17 11:26:58</td>\n",
       "      <td>27.320 sec</td>\n",
       "      <td>10.0</td>\n",
       "      <td>0.075238</td>\n",
       "      <td>0.028167</td>\n",
       "      <td>0.005661</td>\n",
       "    </tr>\n",
       "    <tr>\n",
       "      <th>3</th>\n",
       "      <td></td>\n",
       "      <td>2020-07-17 11:26:58</td>\n",
       "      <td>27.492 sec</td>\n",
       "      <td>15.0</td>\n",
       "      <td>0.067929</td>\n",
       "      <td>0.015982</td>\n",
       "      <td>0.004614</td>\n",
       "    </tr>\n",
       "    <tr>\n",
       "      <th>4</th>\n",
       "      <td></td>\n",
       "      <td>2020-07-17 11:26:58</td>\n",
       "      <td>27.664 sec</td>\n",
       "      <td>20.0</td>\n",
       "      <td>0.065830</td>\n",
       "      <td>0.014110</td>\n",
       "      <td>0.004334</td>\n",
       "    </tr>\n",
       "    <tr>\n",
       "      <th>5</th>\n",
       "      <td></td>\n",
       "      <td>2020-07-17 11:26:59</td>\n",
       "      <td>27.870 sec</td>\n",
       "      <td>25.0</td>\n",
       "      <td>0.063442</td>\n",
       "      <td>0.013327</td>\n",
       "      <td>0.004025</td>\n",
       "    </tr>\n",
       "    <tr>\n",
       "      <th>6</th>\n",
       "      <td></td>\n",
       "      <td>2020-07-17 11:26:59</td>\n",
       "      <td>28.056 sec</td>\n",
       "      <td>30.0</td>\n",
       "      <td>0.061610</td>\n",
       "      <td>0.013221</td>\n",
       "      <td>0.003796</td>\n",
       "    </tr>\n",
       "    <tr>\n",
       "      <th>7</th>\n",
       "      <td></td>\n",
       "      <td>2020-07-17 11:26:59</td>\n",
       "      <td>28.248 sec</td>\n",
       "      <td>35.0</td>\n",
       "      <td>0.059903</td>\n",
       "      <td>0.012876</td>\n",
       "      <td>0.003588</td>\n",
       "    </tr>\n",
       "    <tr>\n",
       "      <th>8</th>\n",
       "      <td></td>\n",
       "      <td>2020-07-17 11:26:59</td>\n",
       "      <td>28.452 sec</td>\n",
       "      <td>40.0</td>\n",
       "      <td>0.058815</td>\n",
       "      <td>0.012824</td>\n",
       "      <td>0.003459</td>\n",
       "    </tr>\n",
       "    <tr>\n",
       "      <th>9</th>\n",
       "      <td></td>\n",
       "      <td>2020-07-17 11:26:59</td>\n",
       "      <td>28.644 sec</td>\n",
       "      <td>45.0</td>\n",
       "      <td>0.058249</td>\n",
       "      <td>0.012896</td>\n",
       "      <td>0.003393</td>\n",
       "    </tr>\n",
       "    <tr>\n",
       "      <th>10</th>\n",
       "      <td></td>\n",
       "      <td>2020-07-17 11:27:00</td>\n",
       "      <td>29.047 sec</td>\n",
       "      <td>50.0</td>\n",
       "      <td>0.057357</td>\n",
       "      <td>0.012885</td>\n",
       "      <td>0.003290</td>\n",
       "    </tr>\n",
       "    <tr>\n",
       "      <th>11</th>\n",
       "      <td></td>\n",
       "      <td>2020-07-17 11:27:00</td>\n",
       "      <td>29.297 sec</td>\n",
       "      <td>55.0</td>\n",
       "      <td>0.055721</td>\n",
       "      <td>0.012699</td>\n",
       "      <td>0.003105</td>\n",
       "    </tr>\n",
       "    <tr>\n",
       "      <th>12</th>\n",
       "      <td></td>\n",
       "      <td>2020-07-17 11:27:01</td>\n",
       "      <td>29.782 sec</td>\n",
       "      <td>60.0</td>\n",
       "      <td>0.053736</td>\n",
       "      <td>0.012493</td>\n",
       "      <td>0.002888</td>\n",
       "    </tr>\n",
       "    <tr>\n",
       "      <th>13</th>\n",
       "      <td></td>\n",
       "      <td>2020-07-17 11:27:01</td>\n",
       "      <td>30.188 sec</td>\n",
       "      <td>65.0</td>\n",
       "      <td>0.052833</td>\n",
       "      <td>0.012390</td>\n",
       "      <td>0.002791</td>\n",
       "    </tr>\n",
       "    <tr>\n",
       "      <th>14</th>\n",
       "      <td></td>\n",
       "      <td>2020-07-17 11:27:01</td>\n",
       "      <td>30.551 sec</td>\n",
       "      <td>70.0</td>\n",
       "      <td>0.050901</td>\n",
       "      <td>0.012192</td>\n",
       "      <td>0.002591</td>\n",
       "    </tr>\n",
       "    <tr>\n",
       "      <th>15</th>\n",
       "      <td></td>\n",
       "      <td>2020-07-17 11:27:02</td>\n",
       "      <td>30.853 sec</td>\n",
       "      <td>75.0</td>\n",
       "      <td>0.049525</td>\n",
       "      <td>0.011874</td>\n",
       "      <td>0.002453</td>\n",
       "    </tr>\n",
       "    <tr>\n",
       "      <th>16</th>\n",
       "      <td></td>\n",
       "      <td>2020-07-17 11:27:02</td>\n",
       "      <td>31.147 sec</td>\n",
       "      <td>80.0</td>\n",
       "      <td>0.048994</td>\n",
       "      <td>0.011796</td>\n",
       "      <td>0.002400</td>\n",
       "    </tr>\n",
       "    <tr>\n",
       "      <th>17</th>\n",
       "      <td></td>\n",
       "      <td>2020-07-17 11:27:02</td>\n",
       "      <td>31.379 sec</td>\n",
       "      <td>83.0</td>\n",
       "      <td>0.048887</td>\n",
       "      <td>0.011791</td>\n",
       "      <td>0.002390</td>\n",
       "    </tr>\n",
       "  </tbody>\n",
       "</table>\n",
       "</div>"
      ],
      "text/plain": [
       "                timestamp    duration  number_of_trees  training_rmse  \\\n",
       "0     2020-07-17 11:26:57  26.700 sec              0.0       0.500000   \n",
       "1     2020-07-17 11:26:58  27.109 sec              5.0       0.120320   \n",
       "2     2020-07-17 11:26:58  27.320 sec             10.0       0.075238   \n",
       "3     2020-07-17 11:26:58  27.492 sec             15.0       0.067929   \n",
       "4     2020-07-17 11:26:58  27.664 sec             20.0       0.065830   \n",
       "5     2020-07-17 11:26:59  27.870 sec             25.0       0.063442   \n",
       "6     2020-07-17 11:26:59  28.056 sec             30.0       0.061610   \n",
       "7     2020-07-17 11:26:59  28.248 sec             35.0       0.059903   \n",
       "8     2020-07-17 11:26:59  28.452 sec             40.0       0.058815   \n",
       "9     2020-07-17 11:26:59  28.644 sec             45.0       0.058249   \n",
       "10    2020-07-17 11:27:00  29.047 sec             50.0       0.057357   \n",
       "11    2020-07-17 11:27:00  29.297 sec             55.0       0.055721   \n",
       "12    2020-07-17 11:27:01  29.782 sec             60.0       0.053736   \n",
       "13    2020-07-17 11:27:01  30.188 sec             65.0       0.052833   \n",
       "14    2020-07-17 11:27:01  30.551 sec             70.0       0.050901   \n",
       "15    2020-07-17 11:27:02  30.853 sec             75.0       0.049525   \n",
       "16    2020-07-17 11:27:02  31.147 sec             80.0       0.048994   \n",
       "17    2020-07-17 11:27:02  31.379 sec             83.0       0.048887   \n",
       "\n",
       "    training_mae  training_deviance  \n",
       "0       0.500000           0.250000  \n",
       "1       0.099103           0.014477  \n",
       "2       0.028167           0.005661  \n",
       "3       0.015982           0.004614  \n",
       "4       0.014110           0.004334  \n",
       "5       0.013327           0.004025  \n",
       "6       0.013221           0.003796  \n",
       "7       0.012876           0.003588  \n",
       "8       0.012824           0.003459  \n",
       "9       0.012896           0.003393  \n",
       "10      0.012885           0.003290  \n",
       "11      0.012699           0.003105  \n",
       "12      0.012493           0.002888  \n",
       "13      0.012390           0.002791  \n",
       "14      0.012192           0.002591  \n",
       "15      0.011874           0.002453  \n",
       "16      0.011796           0.002400  \n",
       "17      0.011791           0.002390  "
      ]
     },
     "metadata": {},
     "output_type": "display_data"
    },
    {
     "name": "stdout",
     "output_type": "stream",
     "text": [
      "\n",
      "Variable Importances: \n"
     ]
    },
    {
     "data": {
      "text/html": [
       "<div>\n",
       "<style scoped>\n",
       "    .dataframe tbody tr th:only-of-type {\n",
       "        vertical-align: middle;\n",
       "    }\n",
       "\n",
       "    .dataframe tbody tr th {\n",
       "        vertical-align: top;\n",
       "    }\n",
       "\n",
       "    .dataframe thead th {\n",
       "        text-align: right;\n",
       "    }\n",
       "</style>\n",
       "<table border=\"1\" class=\"dataframe\">\n",
       "  <thead>\n",
       "    <tr style=\"text-align: right;\">\n",
       "      <th></th>\n",
       "      <th>variable</th>\n",
       "      <th>relative_importance</th>\n",
       "      <th>scaled_importance</th>\n",
       "      <th>percentage</th>\n",
       "    </tr>\n",
       "  </thead>\n",
       "  <tbody>\n",
       "    <tr>\n",
       "      <th>0</th>\n",
       "      <td>Denial.Reason.Code.K62</td>\n",
       "      <td>1327.771606</td>\n",
       "      <td>1.000000</td>\n",
       "      <td>0.304688</td>\n",
       "    </tr>\n",
       "    <tr>\n",
       "      <th>1</th>\n",
       "      <td>Agreement.ID.A00BLCH0Q001</td>\n",
       "      <td>792.498901</td>\n",
       "      <td>0.596864</td>\n",
       "      <td>0.181857</td>\n",
       "    </tr>\n",
       "    <tr>\n",
       "      <th>2</th>\n",
       "      <td>Denial.Reason.Code.PDC</td>\n",
       "      <td>547.635559</td>\n",
       "      <td>0.412447</td>\n",
       "      <td>0.125668</td>\n",
       "    </tr>\n",
       "    <tr>\n",
       "      <th>3</th>\n",
       "      <td>Denial.Reason.Code.missing(NA)</td>\n",
       "      <td>223.383286</td>\n",
       "      <td>0.168239</td>\n",
       "      <td>0.051260</td>\n",
       "    </tr>\n",
       "    <tr>\n",
       "      <th>4</th>\n",
       "      <td>Group.Index</td>\n",
       "      <td>214.180481</td>\n",
       "      <td>0.161308</td>\n",
       "      <td>0.049149</td>\n",
       "    </tr>\n",
       "    <tr>\n",
       "      <th>5</th>\n",
       "      <td>Subscriber.Index</td>\n",
       "      <td>160.782822</td>\n",
       "      <td>0.121092</td>\n",
       "      <td>0.036895</td>\n",
       "    </tr>\n",
       "    <tr>\n",
       "      <th>6</th>\n",
       "      <td>Price.Index.E</td>\n",
       "      <td>137.110077</td>\n",
       "      <td>0.103263</td>\n",
       "      <td>0.031463</td>\n",
       "    </tr>\n",
       "    <tr>\n",
       "      <th>7</th>\n",
       "      <td>Diagnosis.Code</td>\n",
       "      <td>111.319565</td>\n",
       "      <td>0.083839</td>\n",
       "      <td>0.025545</td>\n",
       "    </tr>\n",
       "    <tr>\n",
       "      <th>8</th>\n",
       "      <td>Service.Code.OP7O</td>\n",
       "      <td>89.390167</td>\n",
       "      <td>0.067323</td>\n",
       "      <td>0.020513</td>\n",
       "    </tr>\n",
       "    <tr>\n",
       "      <th>9</th>\n",
       "      <td>Claim.Type.E</td>\n",
       "      <td>85.738663</td>\n",
       "      <td>0.064573</td>\n",
       "      <td>0.019675</td>\n",
       "    </tr>\n",
       "    <tr>\n",
       "      <th>10</th>\n",
       "      <td>Claim.Charge.Amount</td>\n",
       "      <td>63.144135</td>\n",
       "      <td>0.047556</td>\n",
       "      <td>0.014490</td>\n",
       "    </tr>\n",
       "    <tr>\n",
       "      <th>11</th>\n",
       "      <td>Line.Of.Business.ID</td>\n",
       "      <td>55.791855</td>\n",
       "      <td>0.042019</td>\n",
       "      <td>0.012803</td>\n",
       "    </tr>\n",
       "    <tr>\n",
       "      <th>12</th>\n",
       "      <td>Price.Index.missing(NA)</td>\n",
       "      <td>44.541393</td>\n",
       "      <td>0.033546</td>\n",
       "      <td>0.010221</td>\n",
       "    </tr>\n",
       "    <tr>\n",
       "      <th>13</th>\n",
       "      <td>Network.ID.MGMAPD000001</td>\n",
       "      <td>40.673836</td>\n",
       "      <td>0.030633</td>\n",
       "      <td>0.009334</td>\n",
       "    </tr>\n",
       "    <tr>\n",
       "      <th>14</th>\n",
       "      <td>Denial.Reason.Code.J6T</td>\n",
       "      <td>39.690571</td>\n",
       "      <td>0.029893</td>\n",
       "      <td>0.009108</td>\n",
       "    </tr>\n",
       "    <tr>\n",
       "      <th>15</th>\n",
       "      <td>Reference.Index.N</td>\n",
       "      <td>39.064793</td>\n",
       "      <td>0.029421</td>\n",
       "      <td>0.008964</td>\n",
       "    </tr>\n",
       "    <tr>\n",
       "      <th>16</th>\n",
       "      <td>Denial.Reason.Code.F13</td>\n",
       "      <td>32.193474</td>\n",
       "      <td>0.024246</td>\n",
       "      <td>0.007388</td>\n",
       "    </tr>\n",
       "    <tr>\n",
       "      <th>17</th>\n",
       "      <td>Claim.Current.Status</td>\n",
       "      <td>23.185822</td>\n",
       "      <td>0.017462</td>\n",
       "      <td>0.005321</td>\n",
       "    </tr>\n",
       "    <tr>\n",
       "      <th>18</th>\n",
       "      <td>Denial.Reason.Code.K54</td>\n",
       "      <td>21.330725</td>\n",
       "      <td>0.016065</td>\n",
       "      <td>0.004895</td>\n",
       "    </tr>\n",
       "    <tr>\n",
       "      <th>19</th>\n",
       "      <td>Network.ID.MIMAPD000002</td>\n",
       "      <td>20.026968</td>\n",
       "      <td>0.015083</td>\n",
       "      <td>0.004596</td>\n",
       "    </tr>\n",
       "  </tbody>\n",
       "</table>\n",
       "</div>"
      ],
      "text/plain": [
       "                          variable  relative_importance  scaled_importance  \\\n",
       "0           Denial.Reason.Code.K62          1327.771606           1.000000   \n",
       "1        Agreement.ID.A00BLCH0Q001           792.498901           0.596864   \n",
       "2           Denial.Reason.Code.PDC           547.635559           0.412447   \n",
       "3   Denial.Reason.Code.missing(NA)           223.383286           0.168239   \n",
       "4                      Group.Index           214.180481           0.161308   \n",
       "5                 Subscriber.Index           160.782822           0.121092   \n",
       "6                    Price.Index.E           137.110077           0.103263   \n",
       "7                   Diagnosis.Code           111.319565           0.083839   \n",
       "8                Service.Code.OP7O            89.390167           0.067323   \n",
       "9                     Claim.Type.E            85.738663           0.064573   \n",
       "10             Claim.Charge.Amount            63.144135           0.047556   \n",
       "11             Line.Of.Business.ID            55.791855           0.042019   \n",
       "12         Price.Index.missing(NA)            44.541393           0.033546   \n",
       "13         Network.ID.MGMAPD000001            40.673836           0.030633   \n",
       "14          Denial.Reason.Code.J6T            39.690571           0.029893   \n",
       "15               Reference.Index.N            39.064793           0.029421   \n",
       "16          Denial.Reason.Code.F13            32.193474           0.024246   \n",
       "17            Claim.Current.Status            23.185822           0.017462   \n",
       "18          Denial.Reason.Code.K54            21.330725           0.016065   \n",
       "19         Network.ID.MIMAPD000002            20.026968           0.015083   \n",
       "\n",
       "    percentage  \n",
       "0     0.304688  \n",
       "1     0.181857  \n",
       "2     0.125668  \n",
       "3     0.051260  \n",
       "4     0.049149  \n",
       "5     0.036895  \n",
       "6     0.031463  \n",
       "7     0.025545  \n",
       "8     0.020513  \n",
       "9     0.019675  \n",
       "10    0.014490  \n",
       "11    0.012803  \n",
       "12    0.010221  \n",
       "13    0.009334  \n",
       "14    0.009108  \n",
       "15    0.008964  \n",
       "16    0.007388  \n",
       "17    0.005321  \n",
       "18    0.004895  \n",
       "19    0.004596  "
      ]
     },
     "metadata": {},
     "output_type": "display_data"
    },
    {
     "name": "stdout",
     "output_type": "stream",
     "text": [
      "\n",
      "See the whole table with table.as_data_frame()\n"
     ]
    },
    {
     "data": {
      "text/plain": []
     },
     "execution_count": 101,
     "metadata": {},
     "output_type": "execute_result"
    }
   ],
   "source": [
    "# The leader model is stored here\n",
    "aml.leader"
   ]
  }
 ],
 "metadata": {
  "kernelspec": {
   "display_name": "Python (claims)",
   "language": "python",
   "name": "claims"
  },
  "language_info": {
   "codemirror_mode": {
    "name": "ipython",
    "version": 3
   },
   "file_extension": ".py",
   "mimetype": "text/x-python",
   "name": "python",
   "nbconvert_exporter": "python",
   "pygments_lexer": "ipython3",
   "version": "3.7.7"
  },
  "toc": {
   "base_numbering": 1,
   "nav_menu": {},
   "number_sections": true,
   "sideBar": true,
   "skip_h1_title": false,
   "title_cell": "Table of Contents",
   "title_sidebar": "Contents",
   "toc_cell": false,
   "toc_position": {
    "height": "calc(100% - 180px)",
    "left": "10px",
    "top": "150px",
    "width": "307.594px"
   },
   "toc_section_display": true,
   "toc_window_display": true
  }
 },
 "nbformat": 4,
 "nbformat_minor": 4
}
