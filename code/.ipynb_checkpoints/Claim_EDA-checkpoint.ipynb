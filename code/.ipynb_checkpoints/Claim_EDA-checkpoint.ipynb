{
 "cells": [
  {
   "cell_type": "markdown",
   "metadata": {},
   "source": [
    "# ------ Import Modules ------"
   ]
  },
  {
   "cell_type": "code",
   "execution_count": 1,
   "metadata": {
    "ExecuteTime": {
     "end_time": "2020-08-03T17:11:09.631121Z",
     "start_time": "2020-08-03T17:11:07.549792Z"
    }
   },
   "outputs": [],
   "source": [
    "# import necessary modules\n",
    "import pandas as pd\n",
    "import numpy as np\n",
    "import warnings\n",
    "import seaborn as sns\n",
    "import matplotlib.pyplot as plt\n",
    "import os \n",
    "from pandas_profiling import ProfileReport\n",
    "from machine_learning import MachineLearning, data_types\n",
    "from config import GetDict\n",
    "from eda_functions import GetProviderCount\n",
    "from sklearn.utils import resample\n",
    "from IPython.display import HTML, IFrame\n",
    "\n",
    "# suppress warnings\n",
    "warnings.filterwarnings('ignore')"
   ]
  },
  {
   "cell_type": "markdown",
   "metadata": {},
   "source": [
    "# ------ Exploratory Data Analysis ------"
   ]
  },
  {
   "cell_type": "markdown",
   "metadata": {},
   "source": [
    "## Load Data"
   ]
  },
  {
   "cell_type": "code",
   "execution_count": 2,
   "metadata": {
    "ExecuteTime": {
     "end_time": "2020-08-03T17:11:12.393255Z",
     "start_time": "2020-08-03T17:11:09.633162Z"
    }
   },
   "outputs": [],
   "source": [
    "# set pandas options\n",
    "pd.set_option('display.max_columns', None)\n",
    "pd.set_option('display.max_rows', 50)\n",
    "\n",
    "# load data\n",
    "claim_data = pd.read_csv(os.path.join('../data','original','claim_sample.tar.gz'), \n",
    "                         compression='gzip', \n",
    "                         dtype=data_types,\n",
    "                         low_memory=False)\n",
    "\n",
    "# drop first column\n",
    "claim_data.drop('claim.sample.csv', axis=1, inplace=True)\n",
    "\n",
    "# drop last row\n",
    "claim_data.dropna(inplace=True)"
   ]
  },
  {
   "cell_type": "code",
   "execution_count": 3,
   "metadata": {
    "ExecuteTime": {
     "end_time": "2020-08-03T17:11:12.727793Z",
     "start_time": "2020-08-03T17:11:12.394801Z"
    }
   },
   "outputs": [
    {
     "name": "stdout",
     "output_type": "stream",
     "text": [
      "<class 'pandas.core.frame.DataFrame'>\n",
      "Int64Index: 472559 entries, 0 to 472558\n",
      "Data columns (total 28 columns):\n",
      " #   Column                     Non-Null Count   Dtype  \n",
      "---  ------                     --------------   -----  \n",
      " 0   Claim.Number               472559 non-null  float64\n",
      " 1   Claim.Line.Number          472559 non-null  object \n",
      " 2   Member.ID                  472559 non-null  object \n",
      " 3   Provider.ID                472559 non-null  object \n",
      " 4   Line.Of.Business.ID        472559 non-null  object \n",
      " 5   Revenue.Code               472559 non-null  object \n",
      " 6   Service.Code               472559 non-null  object \n",
      " 7   Place.Of.Service.Code      472559 non-null  object \n",
      " 8   Procedure.Code             472559 non-null  object \n",
      " 9   Diagnosis.Code             472559 non-null  object \n",
      " 10  Claim.Charge.Amount        472559 non-null  float64\n",
      " 11  Denial.Reason.Code         472559 non-null  object \n",
      " 12  Price.Index                472559 non-null  object \n",
      " 13  In.Out.Of.Network          472559 non-null  object \n",
      " 14  Reference.Index            472559 non-null  object \n",
      " 15  Pricing.Index              472559 non-null  object \n",
      " 16  Capitation.Index           472559 non-null  object \n",
      " 17  Subscriber.Payment.Amount  472559 non-null  float64\n",
      " 18  Provider.Payment.Amount    472559 non-null  float64\n",
      " 19  Group.Index                472559 non-null  object \n",
      " 20  Subscriber.Index           472559 non-null  object \n",
      " 21  Subgroup.Index             472559 non-null  object \n",
      " 22  Claim.Type                 472559 non-null  object \n",
      " 23  Claim.Subscriber.Type      472559 non-null  object \n",
      " 24  Claim.Pre.Prince.Index     472559 non-null  object \n",
      " 25  Claim.Current.Status       472559 non-null  object \n",
      " 26  Network.ID                 472559 non-null  object \n",
      " 27  Agreement.ID               472559 non-null  object \n",
      "dtypes: float64(4), object(24)\n",
      "memory usage: 104.6+ MB\n"
     ]
    }
   ],
   "source": [
    "# show claim data information\n",
    "claim_data.info()"
   ]
  },
  {
   "cell_type": "code",
   "execution_count": 4,
   "metadata": {
    "ExecuteTime": {
     "end_time": "2020-08-03T17:11:16.485999Z",
     "start_time": "2020-08-03T17:11:12.729641Z"
    }
   },
   "outputs": [
    {
     "data": {
      "text/plain": [
       "'The average lines per claim is 5.012449987230783'"
      ]
     },
     "execution_count": 4,
     "metadata": {},
     "output_type": "execute_result"
    }
   ],
   "source": [
    "# get the unique claims\n",
    "averages = claim_data.groupby('Claim.Number')['Claim.Line.Number'].max()\n",
    "average_lines_per_claim = np.average(averages.values.astype('int'))\n",
    "f\"The average lines per claim is {average_lines_per_claim}\""
   ]
  },
  {
   "cell_type": "code",
   "execution_count": 5,
   "metadata": {
    "ExecuteTime": {
     "end_time": "2020-08-03T17:11:16.584175Z",
     "start_time": "2020-08-03T17:11:16.489182Z"
    }
   },
   "outputs": [
    {
     "data": {
      "text/html": [
       "<div>\n",
       "<style scoped>\n",
       "    .dataframe tbody tr th:only-of-type {\n",
       "        vertical-align: middle;\n",
       "    }\n",
       "\n",
       "    .dataframe tbody tr th {\n",
       "        vertical-align: top;\n",
       "    }\n",
       "\n",
       "    .dataframe thead th {\n",
       "        text-align: right;\n",
       "    }\n",
       "</style>\n",
       "<table border=\"1\" class=\"dataframe\">\n",
       "  <thead>\n",
       "    <tr style=\"text-align: right;\">\n",
       "      <th></th>\n",
       "      <th>Claim.Number</th>\n",
       "      <th>Claim.Charge.Amount</th>\n",
       "      <th>Subscriber.Payment.Amount</th>\n",
       "      <th>Provider.Payment.Amount</th>\n",
       "    </tr>\n",
       "  </thead>\n",
       "  <tbody>\n",
       "    <tr>\n",
       "      <th>count</th>\n",
       "      <td>4.725590e+05</td>\n",
       "      <td>472559.000000</td>\n",
       "      <td>472559.000000</td>\n",
       "      <td>472559.000000</td>\n",
       "    </tr>\n",
       "    <tr>\n",
       "      <th>mean</th>\n",
       "      <td>6.876433e+08</td>\n",
       "      <td>1684.487052</td>\n",
       "      <td>0.060524</td>\n",
       "      <td>299.664982</td>\n",
       "    </tr>\n",
       "    <tr>\n",
       "      <th>std</th>\n",
       "      <td>4.631736e+08</td>\n",
       "      <td>6516.274159</td>\n",
       "      <td>14.559293</td>\n",
       "      <td>2651.754216</td>\n",
       "    </tr>\n",
       "    <tr>\n",
       "      <th>min</th>\n",
       "      <td>1.899000e+04</td>\n",
       "      <td>-192496.200000</td>\n",
       "      <td>0.000000</td>\n",
       "      <td>0.000000</td>\n",
       "    </tr>\n",
       "    <tr>\n",
       "      <th>25%</th>\n",
       "      <td>2.554021e+08</td>\n",
       "      <td>141.831700</td>\n",
       "      <td>0.000000</td>\n",
       "      <td>0.000000</td>\n",
       "    </tr>\n",
       "    <tr>\n",
       "      <th>50%</th>\n",
       "      <td>6.453732e+08</td>\n",
       "      <td>327.142500</td>\n",
       "      <td>0.000000</td>\n",
       "      <td>0.000000</td>\n",
       "    </tr>\n",
       "    <tr>\n",
       "      <th>75%</th>\n",
       "      <td>1.060539e+09</td>\n",
       "      <td>1072.781000</td>\n",
       "      <td>0.000000</td>\n",
       "      <td>0.000000</td>\n",
       "    </tr>\n",
       "    <tr>\n",
       "      <th>max</th>\n",
       "      <td>1.541242e+09</td>\n",
       "      <td>756336.700000</td>\n",
       "      <td>7625.259600</td>\n",
       "      <td>491735.200000</td>\n",
       "    </tr>\n",
       "  </tbody>\n",
       "</table>\n",
       "</div>"
      ],
      "text/plain": [
       "       Claim.Number  Claim.Charge.Amount  Subscriber.Payment.Amount  \\\n",
       "count  4.725590e+05        472559.000000              472559.000000   \n",
       "mean   6.876433e+08          1684.487052                   0.060524   \n",
       "std    4.631736e+08          6516.274159                  14.559293   \n",
       "min    1.899000e+04       -192496.200000                   0.000000   \n",
       "25%    2.554021e+08           141.831700                   0.000000   \n",
       "50%    6.453732e+08           327.142500                   0.000000   \n",
       "75%    1.060539e+09          1072.781000                   0.000000   \n",
       "max    1.541242e+09        756336.700000                7625.259600   \n",
       "\n",
       "       Provider.Payment.Amount  \n",
       "count            472559.000000  \n",
       "mean                299.664982  \n",
       "std                2651.754216  \n",
       "min                   0.000000  \n",
       "25%                   0.000000  \n",
       "50%                   0.000000  \n",
       "75%                   0.000000  \n",
       "max              491735.200000  "
      ]
     },
     "execution_count": 5,
     "metadata": {},
     "output_type": "execute_result"
    }
   ],
   "source": [
    "# describe numeric columns\n",
    "claim_data.describe()"
   ]
  },
  {
   "cell_type": "code",
   "execution_count": 6,
   "metadata": {
    "ExecuteTime": {
     "end_time": "2020-08-03T17:11:16.663194Z",
     "start_time": "2020-08-03T17:11:16.587174Z"
    }
   },
   "outputs": [
    {
     "data": {
      "text/html": [
       "<div>\n",
       "<style scoped>\n",
       "    .dataframe tbody tr th:only-of-type {\n",
       "        vertical-align: middle;\n",
       "    }\n",
       "\n",
       "    .dataframe tbody tr th {\n",
       "        vertical-align: top;\n",
       "    }\n",
       "\n",
       "    .dataframe thead th {\n",
       "        text-align: right;\n",
       "    }\n",
       "</style>\n",
       "<table border=\"1\" class=\"dataframe\">\n",
       "  <thead>\n",
       "    <tr style=\"text-align: right;\">\n",
       "      <th></th>\n",
       "      <th>Claim.Number</th>\n",
       "      <th>Claim.Line.Number</th>\n",
       "      <th>Member.ID</th>\n",
       "      <th>Provider.ID</th>\n",
       "      <th>Line.Of.Business.ID</th>\n",
       "      <th>Revenue.Code</th>\n",
       "      <th>Service.Code</th>\n",
       "      <th>Place.Of.Service.Code</th>\n",
       "      <th>Procedure.Code</th>\n",
       "      <th>Diagnosis.Code</th>\n",
       "      <th>Claim.Charge.Amount</th>\n",
       "      <th>Denial.Reason.Code</th>\n",
       "      <th>Price.Index</th>\n",
       "      <th>In.Out.Of.Network</th>\n",
       "      <th>Reference.Index</th>\n",
       "      <th>Pricing.Index</th>\n",
       "      <th>Capitation.Index</th>\n",
       "      <th>Subscriber.Payment.Amount</th>\n",
       "      <th>Provider.Payment.Amount</th>\n",
       "      <th>Group.Index</th>\n",
       "      <th>Subscriber.Index</th>\n",
       "      <th>Subgroup.Index</th>\n",
       "      <th>Claim.Type</th>\n",
       "      <th>Claim.Subscriber.Type</th>\n",
       "      <th>Claim.Pre.Prince.Index</th>\n",
       "      <th>Claim.Current.Status</th>\n",
       "      <th>Network.ID</th>\n",
       "      <th>Agreement.ID</th>\n",
       "    </tr>\n",
       "  </thead>\n",
       "  <tbody>\n",
       "    <tr>\n",
       "      <th>466009</th>\n",
       "      <td>1.389507e+09</td>\n",
       "      <td>5</td>\n",
       "      <td>94431843</td>\n",
       "      <td>FA0001774001</td>\n",
       "      <td></td>\n",
       "      <td>278</td>\n",
       "      <td>AL7I</td>\n",
       "      <td></td>\n",
       "      <td></td>\n",
       "      <td>8052</td>\n",
       "      <td>-192496.2</td>\n",
       "      <td></td>\n",
       "      <td></td>\n",
       "      <td></td>\n",
       "      <td></td>\n",
       "      <td></td>\n",
       "      <td></td>\n",
       "      <td>0.0</td>\n",
       "      <td>0.0</td>\n",
       "      <td>48547</td>\n",
       "      <td>76494000</td>\n",
       "      <td>52030</td>\n",
       "      <td>M</td>\n",
       "      <td>H</td>\n",
       "      <td></td>\n",
       "      <td>99</td>\n",
       "      <td></td>\n",
       "      <td></td>\n",
       "    </tr>\n",
       "    <tr>\n",
       "      <th>466010</th>\n",
       "      <td>1.389507e+09</td>\n",
       "      <td>6</td>\n",
       "      <td>94431843</td>\n",
       "      <td>FA0001774001</td>\n",
       "      <td></td>\n",
       "      <td>278</td>\n",
       "      <td>AL7I</td>\n",
       "      <td></td>\n",
       "      <td></td>\n",
       "      <td>8052</td>\n",
       "      <td>-192496.2</td>\n",
       "      <td></td>\n",
       "      <td></td>\n",
       "      <td></td>\n",
       "      <td></td>\n",
       "      <td></td>\n",
       "      <td></td>\n",
       "      <td>0.0</td>\n",
       "      <td>0.0</td>\n",
       "      <td>48547</td>\n",
       "      <td>76494000</td>\n",
       "      <td>52030</td>\n",
       "      <td>M</td>\n",
       "      <td>H</td>\n",
       "      <td></td>\n",
       "      <td>99</td>\n",
       "      <td></td>\n",
       "      <td></td>\n",
       "    </tr>\n",
       "    <tr>\n",
       "      <th>466049</th>\n",
       "      <td>1.389507e+09</td>\n",
       "      <td>3</td>\n",
       "      <td>94431843</td>\n",
       "      <td>FA0001774001</td>\n",
       "      <td></td>\n",
       "      <td>278</td>\n",
       "      <td>AL7I</td>\n",
       "      <td></td>\n",
       "      <td></td>\n",
       "      <td>8052</td>\n",
       "      <td>-192496.2</td>\n",
       "      <td></td>\n",
       "      <td></td>\n",
       "      <td></td>\n",
       "      <td></td>\n",
       "      <td></td>\n",
       "      <td></td>\n",
       "      <td>0.0</td>\n",
       "      <td>0.0</td>\n",
       "      <td>48547</td>\n",
       "      <td>76494000</td>\n",
       "      <td>52030</td>\n",
       "      <td>M</td>\n",
       "      <td>H</td>\n",
       "      <td></td>\n",
       "      <td>2</td>\n",
       "      <td></td>\n",
       "      <td></td>\n",
       "    </tr>\n",
       "  </tbody>\n",
       "</table>\n",
       "</div>"
      ],
      "text/plain": [
       "        Claim.Number Claim.Line.Number Member.ID   Provider.ID  \\\n",
       "466009  1.389507e+09                 5  94431843  FA0001774001   \n",
       "466010  1.389507e+09                 6  94431843  FA0001774001   \n",
       "466049  1.389507e+09                 3  94431843  FA0001774001   \n",
       "\n",
       "       Line.Of.Business.ID Revenue.Code Service.Code Place.Of.Service.Code  \\\n",
       "466009                              278         AL7I                         \n",
       "466010                              278         AL7I                         \n",
       "466049                              278         AL7I                         \n",
       "\n",
       "       Procedure.Code Diagnosis.Code  Claim.Charge.Amount Denial.Reason.Code  \\\n",
       "466009                          8052            -192496.2                      \n",
       "466010                          8052            -192496.2                      \n",
       "466049                          8052            -192496.2                      \n",
       "\n",
       "       Price.Index In.Out.Of.Network Reference.Index Pricing.Index  \\\n",
       "466009                                                               \n",
       "466010                                                               \n",
       "466049                                                               \n",
       "\n",
       "       Capitation.Index  Subscriber.Payment.Amount  Provider.Payment.Amount  \\\n",
       "466009                                         0.0                      0.0   \n",
       "466010                                         0.0                      0.0   \n",
       "466049                                         0.0                      0.0   \n",
       "\n",
       "       Group.Index Subscriber.Index Subgroup.Index Claim.Type  \\\n",
       "466009       48547         76494000          52030          M   \n",
       "466010       48547         76494000          52030          M   \n",
       "466049       48547         76494000          52030          M   \n",
       "\n",
       "       Claim.Subscriber.Type Claim.Pre.Prince.Index Claim.Current.Status  \\\n",
       "466009                     H                                          99   \n",
       "466010                     H                                          99   \n",
       "466049                     H                                           2   \n",
       "\n",
       "       Network.ID Agreement.ID  \n",
       "466009                          \n",
       "466010                          \n",
       "466049                          "
      ]
     },
     "execution_count": 6,
     "metadata": {},
     "output_type": "execute_result"
    }
   ],
   "source": [
    "# look at the claim with the lowest amount\n",
    "claim_data.loc[claim_data['Claim.Charge.Amount'] == min(claim_data['Claim.Charge.Amount'])]"
   ]
  },
  {
   "cell_type": "code",
   "execution_count": 7,
   "metadata": {
    "ExecuteTime": {
     "end_time": "2020-08-03T17:11:16.714108Z",
     "start_time": "2020-08-03T17:11:16.666285Z"
    }
   },
   "outputs": [
    {
     "data": {
      "text/html": [
       "<div>\n",
       "<style scoped>\n",
       "    .dataframe tbody tr th:only-of-type {\n",
       "        vertical-align: middle;\n",
       "    }\n",
       "\n",
       "    .dataframe tbody tr th {\n",
       "        vertical-align: top;\n",
       "    }\n",
       "\n",
       "    .dataframe thead th {\n",
       "        text-align: right;\n",
       "    }\n",
       "</style>\n",
       "<table border=\"1\" class=\"dataframe\">\n",
       "  <thead>\n",
       "    <tr style=\"text-align: right;\">\n",
       "      <th></th>\n",
       "      <th>Claim.Number</th>\n",
       "      <th>Claim.Line.Number</th>\n",
       "      <th>Member.ID</th>\n",
       "      <th>Provider.ID</th>\n",
       "      <th>Line.Of.Business.ID</th>\n",
       "      <th>Revenue.Code</th>\n",
       "      <th>Service.Code</th>\n",
       "      <th>Place.Of.Service.Code</th>\n",
       "      <th>Procedure.Code</th>\n",
       "      <th>Diagnosis.Code</th>\n",
       "      <th>Claim.Charge.Amount</th>\n",
       "      <th>Denial.Reason.Code</th>\n",
       "      <th>Price.Index</th>\n",
       "      <th>In.Out.Of.Network</th>\n",
       "      <th>Reference.Index</th>\n",
       "      <th>Pricing.Index</th>\n",
       "      <th>Capitation.Index</th>\n",
       "      <th>Subscriber.Payment.Amount</th>\n",
       "      <th>Provider.Payment.Amount</th>\n",
       "      <th>Group.Index</th>\n",
       "      <th>Subscriber.Index</th>\n",
       "      <th>Subgroup.Index</th>\n",
       "      <th>Claim.Type</th>\n",
       "      <th>Claim.Subscriber.Type</th>\n",
       "      <th>Claim.Pre.Prince.Index</th>\n",
       "      <th>Claim.Current.Status</th>\n",
       "      <th>Network.ID</th>\n",
       "      <th>Agreement.ID</th>\n",
       "    </tr>\n",
       "  </thead>\n",
       "  <tbody>\n",
       "    <tr>\n",
       "      <th>466047</th>\n",
       "      <td>1.389507e+09</td>\n",
       "      <td>1</td>\n",
       "      <td>94431843</td>\n",
       "      <td>FA0001774001</td>\n",
       "      <td></td>\n",
       "      <td>278</td>\n",
       "      <td>AL7I</td>\n",
       "      <td></td>\n",
       "      <td></td>\n",
       "      <td>8052</td>\n",
       "      <td>195162.700</td>\n",
       "      <td></td>\n",
       "      <td></td>\n",
       "      <td></td>\n",
       "      <td></td>\n",
       "      <td></td>\n",
       "      <td></td>\n",
       "      <td>0.0</td>\n",
       "      <td>0.0</td>\n",
       "      <td>48547</td>\n",
       "      <td>76494000</td>\n",
       "      <td>52030</td>\n",
       "      <td>M</td>\n",
       "      <td>H</td>\n",
       "      <td></td>\n",
       "      <td>2</td>\n",
       "      <td></td>\n",
       "      <td></td>\n",
       "    </tr>\n",
       "    <tr>\n",
       "      <th>466048</th>\n",
       "      <td>1.389507e+09</td>\n",
       "      <td>2</td>\n",
       "      <td>94431843</td>\n",
       "      <td>FA0001774001</td>\n",
       "      <td></td>\n",
       "      <td>300</td>\n",
       "      <td>AL7I</td>\n",
       "      <td></td>\n",
       "      <td></td>\n",
       "      <td>8052</td>\n",
       "      <td>1380.171</td>\n",
       "      <td></td>\n",
       "      <td></td>\n",
       "      <td></td>\n",
       "      <td></td>\n",
       "      <td></td>\n",
       "      <td></td>\n",
       "      <td>0.0</td>\n",
       "      <td>0.0</td>\n",
       "      <td>48547</td>\n",
       "      <td>76494000</td>\n",
       "      <td>52030</td>\n",
       "      <td>M</td>\n",
       "      <td>H</td>\n",
       "      <td></td>\n",
       "      <td>2</td>\n",
       "      <td></td>\n",
       "      <td></td>\n",
       "    </tr>\n",
       "    <tr>\n",
       "      <th>466049</th>\n",
       "      <td>1.389507e+09</td>\n",
       "      <td>3</td>\n",
       "      <td>94431843</td>\n",
       "      <td>FA0001774001</td>\n",
       "      <td></td>\n",
       "      <td>278</td>\n",
       "      <td>AL7I</td>\n",
       "      <td></td>\n",
       "      <td></td>\n",
       "      <td>8052</td>\n",
       "      <td>-192496.200</td>\n",
       "      <td></td>\n",
       "      <td></td>\n",
       "      <td></td>\n",
       "      <td></td>\n",
       "      <td></td>\n",
       "      <td></td>\n",
       "      <td>0.0</td>\n",
       "      <td>0.0</td>\n",
       "      <td>48547</td>\n",
       "      <td>76494000</td>\n",
       "      <td>52030</td>\n",
       "      <td>M</td>\n",
       "      <td>H</td>\n",
       "      <td></td>\n",
       "      <td>2</td>\n",
       "      <td></td>\n",
       "      <td></td>\n",
       "    </tr>\n",
       "    <tr>\n",
       "      <th>466050</th>\n",
       "      <td>1.389507e+09</td>\n",
       "      <td>4</td>\n",
       "      <td>94431843</td>\n",
       "      <td>FA0001774001</td>\n",
       "      <td></td>\n",
       "      <td>300</td>\n",
       "      <td>AL7I</td>\n",
       "      <td></td>\n",
       "      <td></td>\n",
       "      <td>8052</td>\n",
       "      <td>-138.264</td>\n",
       "      <td></td>\n",
       "      <td></td>\n",
       "      <td></td>\n",
       "      <td></td>\n",
       "      <td></td>\n",
       "      <td></td>\n",
       "      <td>0.0</td>\n",
       "      <td>0.0</td>\n",
       "      <td>48547</td>\n",
       "      <td>76494000</td>\n",
       "      <td>52030</td>\n",
       "      <td>M</td>\n",
       "      <td>H</td>\n",
       "      <td></td>\n",
       "      <td>2</td>\n",
       "      <td></td>\n",
       "      <td></td>\n",
       "    </tr>\n",
       "    <tr>\n",
       "      <th>466051</th>\n",
       "      <td>1.389507e+09</td>\n",
       "      <td>5</td>\n",
       "      <td>94431843</td>\n",
       "      <td>FA0001774001</td>\n",
       "      <td></td>\n",
       "      <td>309</td>\n",
       "      <td>AL7I</td>\n",
       "      <td></td>\n",
       "      <td></td>\n",
       "      <td>8052</td>\n",
       "      <td>-1241.907</td>\n",
       "      <td></td>\n",
       "      <td></td>\n",
       "      <td></td>\n",
       "      <td></td>\n",
       "      <td></td>\n",
       "      <td></td>\n",
       "      <td>0.0</td>\n",
       "      <td>0.0</td>\n",
       "      <td>48547</td>\n",
       "      <td>76494000</td>\n",
       "      <td>52030</td>\n",
       "      <td>M</td>\n",
       "      <td>H</td>\n",
       "      <td></td>\n",
       "      <td>2</td>\n",
       "      <td></td>\n",
       "      <td></td>\n",
       "    </tr>\n",
       "    <tr>\n",
       "      <th>466052</th>\n",
       "      <td>1.389507e+09</td>\n",
       "      <td>6</td>\n",
       "      <td>94431843</td>\n",
       "      <td>FA0001774001</td>\n",
       "      <td></td>\n",
       "      <td>111</td>\n",
       "      <td>RB7I</td>\n",
       "      <td></td>\n",
       "      <td></td>\n",
       "      <td>8052</td>\n",
       "      <td>12988.170</td>\n",
       "      <td></td>\n",
       "      <td></td>\n",
       "      <td></td>\n",
       "      <td></td>\n",
       "      <td></td>\n",
       "      <td></td>\n",
       "      <td>0.0</td>\n",
       "      <td>0.0</td>\n",
       "      <td>48547</td>\n",
       "      <td>76494000</td>\n",
       "      <td>52030</td>\n",
       "      <td>M</td>\n",
       "      <td>H</td>\n",
       "      <td></td>\n",
       "      <td>2</td>\n",
       "      <td></td>\n",
       "      <td></td>\n",
       "    </tr>\n",
       "    <tr>\n",
       "      <th>466053</th>\n",
       "      <td>1.389507e+09</td>\n",
       "      <td>7</td>\n",
       "      <td>94431843</td>\n",
       "      <td>FA0001774001</td>\n",
       "      <td></td>\n",
       "      <td>111</td>\n",
       "      <td>RB7I</td>\n",
       "      <td></td>\n",
       "      <td></td>\n",
       "      <td>8052</td>\n",
       "      <td>-12988.170</td>\n",
       "      <td></td>\n",
       "      <td></td>\n",
       "      <td></td>\n",
       "      <td></td>\n",
       "      <td></td>\n",
       "      <td></td>\n",
       "      <td>0.0</td>\n",
       "      <td>0.0</td>\n",
       "      <td>48547</td>\n",
       "      <td>76494000</td>\n",
       "      <td>52030</td>\n",
       "      <td>M</td>\n",
       "      <td>H</td>\n",
       "      <td></td>\n",
       "      <td>2</td>\n",
       "      <td></td>\n",
       "      <td></td>\n",
       "    </tr>\n",
       "  </tbody>\n",
       "</table>\n",
       "</div>"
      ],
      "text/plain": [
       "        Claim.Number Claim.Line.Number Member.ID   Provider.ID  \\\n",
       "466047  1.389507e+09                 1  94431843  FA0001774001   \n",
       "466048  1.389507e+09                 2  94431843  FA0001774001   \n",
       "466049  1.389507e+09                 3  94431843  FA0001774001   \n",
       "466050  1.389507e+09                 4  94431843  FA0001774001   \n",
       "466051  1.389507e+09                 5  94431843  FA0001774001   \n",
       "466052  1.389507e+09                 6  94431843  FA0001774001   \n",
       "466053  1.389507e+09                 7  94431843  FA0001774001   \n",
       "\n",
       "       Line.Of.Business.ID Revenue.Code Service.Code Place.Of.Service.Code  \\\n",
       "466047                              278         AL7I                         \n",
       "466048                              300         AL7I                         \n",
       "466049                              278         AL7I                         \n",
       "466050                              300         AL7I                         \n",
       "466051                              309         AL7I                         \n",
       "466052                              111         RB7I                         \n",
       "466053                              111         RB7I                         \n",
       "\n",
       "       Procedure.Code Diagnosis.Code  Claim.Charge.Amount Denial.Reason.Code  \\\n",
       "466047                          8052           195162.700                      \n",
       "466048                          8052             1380.171                      \n",
       "466049                          8052          -192496.200                      \n",
       "466050                          8052             -138.264                      \n",
       "466051                          8052            -1241.907                      \n",
       "466052                          8052            12988.170                      \n",
       "466053                          8052           -12988.170                      \n",
       "\n",
       "       Price.Index In.Out.Of.Network Reference.Index Pricing.Index  \\\n",
       "466047                                                               \n",
       "466048                                                               \n",
       "466049                                                               \n",
       "466050                                                               \n",
       "466051                                                               \n",
       "466052                                                               \n",
       "466053                                                               \n",
       "\n",
       "       Capitation.Index  Subscriber.Payment.Amount  Provider.Payment.Amount  \\\n",
       "466047                                         0.0                      0.0   \n",
       "466048                                         0.0                      0.0   \n",
       "466049                                         0.0                      0.0   \n",
       "466050                                         0.0                      0.0   \n",
       "466051                                         0.0                      0.0   \n",
       "466052                                         0.0                      0.0   \n",
       "466053                                         0.0                      0.0   \n",
       "\n",
       "       Group.Index Subscriber.Index Subgroup.Index Claim.Type  \\\n",
       "466047       48547         76494000          52030          M   \n",
       "466048       48547         76494000          52030          M   \n",
       "466049       48547         76494000          52030          M   \n",
       "466050       48547         76494000          52030          M   \n",
       "466051       48547         76494000          52030          M   \n",
       "466052       48547         76494000          52030          M   \n",
       "466053       48547         76494000          52030          M   \n",
       "\n",
       "       Claim.Subscriber.Type Claim.Pre.Prince.Index Claim.Current.Status  \\\n",
       "466047                     H                                           2   \n",
       "466048                     H                                           2   \n",
       "466049                     H                                           2   \n",
       "466050                     H                                           2   \n",
       "466051                     H                                           2   \n",
       "466052                     H                                           2   \n",
       "466053                     H                                           2   \n",
       "\n",
       "       Network.ID Agreement.ID  \n",
       "466047                          \n",
       "466048                          \n",
       "466049                          \n",
       "466050                          \n",
       "466051                          \n",
       "466052                          \n",
       "466053                          "
      ]
     },
     "execution_count": 7,
     "metadata": {},
     "output_type": "execute_result"
    }
   ],
   "source": [
    "# look at all of the claim data\n",
    "claim_data.iloc[466047:466054]"
   ]
  },
  {
   "cell_type": "code",
   "execution_count": 8,
   "metadata": {
    "ExecuteTime": {
     "end_time": "2020-08-03T17:11:16.807743Z",
     "start_time": "2020-08-03T17:11:16.716950Z"
    }
   },
   "outputs": [
    {
     "data": {
      "text/plain": [
       "84.56325       6480\n",
       "0.00000        4598\n",
       "118.51200      4480\n",
       "123.45000      3386\n",
       "248.13450      3014\n",
       "               ... \n",
       "21735.84000       1\n",
       "6623.83320        1\n",
       "404.71848         1\n",
       "554.78430         1\n",
       "2433.17481        1\n",
       "Name: Claim.Charge.Amount, Length: 40448, dtype: int64"
      ]
     },
     "execution_count": 8,
     "metadata": {},
     "output_type": "execute_result"
    }
   ],
   "source": [
    "# show the claim charge amounts \n",
    "claim_data['Claim.Charge.Amount'].value_counts(ascending=False)"
   ]
  },
  {
   "cell_type": "code",
   "execution_count": 9,
   "metadata": {
    "ExecuteTime": {
     "end_time": "2020-08-03T17:11:17.910906Z",
     "start_time": "2020-08-03T17:11:16.810267Z"
    }
   },
   "outputs": [
    {
     "data": {
      "image/png": "[encoded data removed]",
      "text/plain": [
       "<Figure size 1440x864 with 1 Axes>"
      ]
     },
     "metadata": {},
     "output_type": "display_data"
    }
   ],
   "source": [
    "plt.figure(figsize=(20,12))\n",
    "col = 'Claim.Charge.Amount'\n",
    "claim_zero_200 = claim_data.loc[(claim_data[col] >= 0) &  (claim_data[col] <= 200000), col]\n",
    "sns.distplot(claim_zero_200, bins=10);"
   ]
  },
  {
   "cell_type": "code",
   "execution_count": 10,
   "metadata": {
    "ExecuteTime": {
     "end_time": "2020-08-03T17:11:18.165137Z",
     "start_time": "2020-08-03T17:11:17.912290Z"
    }
   },
   "outputs": [
    {
     "data": {
      "text/html": [
       "<div>\n",
       "<style scoped>\n",
       "    .dataframe tbody tr th:only-of-type {\n",
       "        vertical-align: middle;\n",
       "    }\n",
       "\n",
       "    .dataframe tbody tr th {\n",
       "        vertical-align: top;\n",
       "    }\n",
       "\n",
       "    .dataframe thead th {\n",
       "        text-align: right;\n",
       "    }\n",
       "</style>\n",
       "<table border=\"1\" class=\"dataframe\">\n",
       "  <thead>\n",
       "    <tr style=\"text-align: right;\">\n",
       "      <th></th>\n",
       "      <th>Claim.Number</th>\n",
       "      <th>Claim.Line.Number</th>\n",
       "      <th>Member.ID</th>\n",
       "      <th>Provider.ID</th>\n",
       "      <th>Line.Of.Business.ID</th>\n",
       "      <th>Revenue.Code</th>\n",
       "      <th>Service.Code</th>\n",
       "      <th>Place.Of.Service.Code</th>\n",
       "      <th>Procedure.Code</th>\n",
       "      <th>Diagnosis.Code</th>\n",
       "      <th>Claim.Charge.Amount</th>\n",
       "      <th>Denial.Reason.Code</th>\n",
       "      <th>Price.Index</th>\n",
       "      <th>In.Out.Of.Network</th>\n",
       "      <th>Reference.Index</th>\n",
       "      <th>Pricing.Index</th>\n",
       "      <th>Capitation.Index</th>\n",
       "      <th>Subscriber.Payment.Amount</th>\n",
       "      <th>Provider.Payment.Amount</th>\n",
       "      <th>Group.Index</th>\n",
       "      <th>Subscriber.Index</th>\n",
       "      <th>Subgroup.Index</th>\n",
       "      <th>Claim.Type</th>\n",
       "      <th>Claim.Subscriber.Type</th>\n",
       "      <th>Claim.Pre.Prince.Index</th>\n",
       "      <th>Claim.Current.Status</th>\n",
       "      <th>Network.ID</th>\n",
       "      <th>Agreement.ID</th>\n",
       "      <th>IsProcedure</th>\n",
       "    </tr>\n",
       "  </thead>\n",
       "  <tbody>\n",
       "    <tr>\n",
       "      <th>3073</th>\n",
       "      <td>74645490.0</td>\n",
       "      <td>10</td>\n",
       "      <td>1992052</td>\n",
       "      <td>FA0001389001</td>\n",
       "      <td>5</td>\n",
       "      <td>636</td>\n",
       "      <td>OP7O</td>\n",
       "      <td></td>\n",
       "      <td>J1650</td>\n",
       "      <td>4359</td>\n",
       "      <td>592.201995</td>\n",
       "      <td>KAO</td>\n",
       "      <td>A</td>\n",
       "      <td>I</td>\n",
       "      <td>N</td>\n",
       "      <td>N</td>\n",
       "      <td></td>\n",
       "      <td>0.0</td>\n",
       "      <td>0.0</td>\n",
       "      <td>114</td>\n",
       "      <td>1613650</td>\n",
       "      <td>0</td>\n",
       "      <td>M</td>\n",
       "      <td>H</td>\n",
       "      <td>S</td>\n",
       "      <td>91</td>\n",
       "      <td>P00000000001</td>\n",
       "      <td>FH001309QB01</td>\n",
       "      <td>1</td>\n",
       "    </tr>\n",
       "    <tr>\n",
       "      <th>3091</th>\n",
       "      <td>18860690.0</td>\n",
       "      <td>8</td>\n",
       "      <td>22808129</td>\n",
       "      <td>FA0001389001</td>\n",
       "      <td>1</td>\n",
       "      <td>636</td>\n",
       "      <td>OP7O</td>\n",
       "      <td></td>\n",
       "      <td>J2405</td>\n",
       "      <td>64303</td>\n",
       "      <td>118.832970</td>\n",
       "      <td>J2L</td>\n",
       "      <td>A</td>\n",
       "      <td>I</td>\n",
       "      <td>N</td>\n",
       "      <td>N</td>\n",
       "      <td>R</td>\n",
       "      <td>0.0</td>\n",
       "      <td>0.0</td>\n",
       "      <td>275</td>\n",
       "      <td>18475600</td>\n",
       "      <td>483</td>\n",
       "      <td>M</td>\n",
       "      <td>H</td>\n",
       "      <td></td>\n",
       "      <td>2</td>\n",
       "      <td>H00000000001</td>\n",
       "      <td>FH001886QH01</td>\n",
       "      <td>1</td>\n",
       "    </tr>\n",
       "    <tr>\n",
       "      <th>3092</th>\n",
       "      <td>18860690.0</td>\n",
       "      <td>9</td>\n",
       "      <td>22808129</td>\n",
       "      <td>FA0001389001</td>\n",
       "      <td>1</td>\n",
       "      <td>636</td>\n",
       "      <td>OP7O</td>\n",
       "      <td></td>\n",
       "      <td>J7030</td>\n",
       "      <td>64303</td>\n",
       "      <td>196.890405</td>\n",
       "      <td>J2L</td>\n",
       "      <td>A</td>\n",
       "      <td>I</td>\n",
       "      <td>N</td>\n",
       "      <td>N</td>\n",
       "      <td>R</td>\n",
       "      <td>0.0</td>\n",
       "      <td>0.0</td>\n",
       "      <td>275</td>\n",
       "      <td>18475600</td>\n",
       "      <td>483</td>\n",
       "      <td>M</td>\n",
       "      <td>H</td>\n",
       "      <td></td>\n",
       "      <td>2</td>\n",
       "      <td>H00000000001</td>\n",
       "      <td>FH001886QH01</td>\n",
       "      <td>1</td>\n",
       "    </tr>\n",
       "    <tr>\n",
       "      <th>3103</th>\n",
       "      <td>281757390.0</td>\n",
       "      <td>10</td>\n",
       "      <td>1997607</td>\n",
       "      <td>FA0001389001</td>\n",
       "      <td>5</td>\n",
       "      <td>636</td>\n",
       "      <td>OP7O</td>\n",
       "      <td></td>\n",
       "      <td>J1650</td>\n",
       "      <td>4359</td>\n",
       "      <td>592.201995</td>\n",
       "      <td>KDR</td>\n",
       "      <td>A</td>\n",
       "      <td>I</td>\n",
       "      <td>N</td>\n",
       "      <td>N</td>\n",
       "      <td></td>\n",
       "      <td>0.0</td>\n",
       "      <td>0.0</td>\n",
       "      <td>114</td>\n",
       "      <td>1618150</td>\n",
       "      <td>0</td>\n",
       "      <td>M</td>\n",
       "      <td>H</td>\n",
       "      <td>S</td>\n",
       "      <td>91</td>\n",
       "      <td>P00000000001</td>\n",
       "      <td>FH001309QB01</td>\n",
       "      <td>1</td>\n",
       "    </tr>\n",
       "    <tr>\n",
       "      <th>3114</th>\n",
       "      <td>450273590.0</td>\n",
       "      <td>10</td>\n",
       "      <td>1991496</td>\n",
       "      <td>FA0001389001</td>\n",
       "      <td>5</td>\n",
       "      <td>636</td>\n",
       "      <td>OP7O</td>\n",
       "      <td></td>\n",
       "      <td>J1650</td>\n",
       "      <td>4359</td>\n",
       "      <td>592.201995</td>\n",
       "      <td>KAO</td>\n",
       "      <td>A</td>\n",
       "      <td>I</td>\n",
       "      <td>N</td>\n",
       "      <td>N</td>\n",
       "      <td></td>\n",
       "      <td>0.0</td>\n",
       "      <td>0.0</td>\n",
       "      <td>114</td>\n",
       "      <td>1613200</td>\n",
       "      <td>0</td>\n",
       "      <td>M</td>\n",
       "      <td>H</td>\n",
       "      <td>S</td>\n",
       "      <td>2</td>\n",
       "      <td>P00000000001</td>\n",
       "      <td>FH001309QB01</td>\n",
       "      <td>1</td>\n",
       "    </tr>\n",
       "  </tbody>\n",
       "</table>\n",
       "</div>"
      ],
      "text/plain": [
       "      Claim.Number Claim.Line.Number Member.ID   Provider.ID  \\\n",
       "3073    74645490.0                10   1992052  FA0001389001   \n",
       "3091    18860690.0                 8  22808129  FA0001389001   \n",
       "3092    18860690.0                 9  22808129  FA0001389001   \n",
       "3103   281757390.0                10   1997607  FA0001389001   \n",
       "3114   450273590.0                10   1991496  FA0001389001   \n",
       "\n",
       "     Line.Of.Business.ID Revenue.Code Service.Code Place.Of.Service.Code  \\\n",
       "3073                   5          636         OP7O                         \n",
       "3091                   1          636         OP7O                         \n",
       "3092                   1          636         OP7O                         \n",
       "3103                   5          636         OP7O                         \n",
       "3114                   5          636         OP7O                         \n",
       "\n",
       "     Procedure.Code Diagnosis.Code  Claim.Charge.Amount Denial.Reason.Code  \\\n",
       "3073          J1650           4359           592.201995                KAO   \n",
       "3091          J2405          64303           118.832970                J2L   \n",
       "3092          J7030          64303           196.890405                J2L   \n",
       "3103          J1650           4359           592.201995                KDR   \n",
       "3114          J1650           4359           592.201995                KAO   \n",
       "\n",
       "     Price.Index In.Out.Of.Network Reference.Index Pricing.Index  \\\n",
       "3073           A                 I               N             N   \n",
       "3091           A                 I               N             N   \n",
       "3092           A                 I               N             N   \n",
       "3103           A                 I               N             N   \n",
       "3114           A                 I               N             N   \n",
       "\n",
       "     Capitation.Index  Subscriber.Payment.Amount  Provider.Payment.Amount  \\\n",
       "3073                                         0.0                      0.0   \n",
       "3091                R                        0.0                      0.0   \n",
       "3092                R                        0.0                      0.0   \n",
       "3103                                         0.0                      0.0   \n",
       "3114                                         0.0                      0.0   \n",
       "\n",
       "     Group.Index Subscriber.Index Subgroup.Index Claim.Type  \\\n",
       "3073         114          1613650              0          M   \n",
       "3091         275         18475600            483          M   \n",
       "3092         275         18475600            483          M   \n",
       "3103         114          1618150              0          M   \n",
       "3114         114          1613200              0          M   \n",
       "\n",
       "     Claim.Subscriber.Type Claim.Pre.Prince.Index Claim.Current.Status  \\\n",
       "3073                     H                      S                   91   \n",
       "3091                     H                                           2   \n",
       "3092                     H                                           2   \n",
       "3103                     H                      S                   91   \n",
       "3114                     H                      S                    2   \n",
       "\n",
       "        Network.ID  Agreement.ID  IsProcedure  \n",
       "3073  P00000000001  FH001309QB01            1  \n",
       "3091  H00000000001  FH001886QH01            1  \n",
       "3092  H00000000001  FH001886QH01            1  \n",
       "3103  P00000000001  FH001309QB01            1  \n",
       "3114  P00000000001  FH001309QB01            1  "
      ]
     },
     "execution_count": 10,
     "metadata": {},
     "output_type": "execute_result"
    }
   ],
   "source": [
    "# get procedure claims and add them to a list\n",
    "IsProcedure = [ 1 if proc.startswith('J') else 0 for proc in claim_data['Procedure.Code']]\n",
    "\n",
    "# add list as a new column to the dataframe\n",
    "claim_data['IsProcedure'] = IsProcedure\n",
    "\n",
    "# show a sample of the data\n",
    "claim_data.loc[claim_data.IsProcedure == 1].head()"
   ]
  },
  {
   "cell_type": "markdown",
   "metadata": {},
   "source": [
    "# ------ Question 1 (Procedure Analysis) ------"
   ]
  },
  {
   "cell_type": "markdown",
   "metadata": {},
   "source": [
    "## Part A (Find the number of claim lines that have J-codes)"
   ]
  },
  {
   "cell_type": "code",
   "execution_count": 11,
   "metadata": {
    "ExecuteTime": {
     "end_time": "2020-08-03T17:11:18.245725Z",
     "start_time": "2020-08-03T17:11:18.166995Z"
    }
   },
   "outputs": [
    {
     "data": {
      "text/plain": [
       "'The number of unique claims with procedures is 10691'"
      ]
     },
     "execution_count": 11,
     "metadata": {},
     "output_type": "execute_result"
    }
   ],
   "source": [
    "claims_with_procedures = claim_data.loc[claim_data.IsProcedure == 1, 'Claim.Number']\n",
    "f\"The number of unique claims with procedures is {len(np.unique(claims_with_procedures))}\""
   ]
  },
  {
   "cell_type": "markdown",
   "metadata": {},
   "source": [
    "## Part B (How much was paid to providers for In Network Claims?)"
   ]
  },
  {
   "cell_type": "code",
   "execution_count": 12,
   "metadata": {
    "ExecuteTime": {
     "end_time": "2020-08-03T17:11:18.474752Z",
     "start_time": "2020-08-03T17:11:18.248218Z"
    }
   },
   "outputs": [
    {
     "data": {
      "text/plain": [
       "'The sum of payments made to providers for in-network procedures is $2,417,220.96'"
      ]
     },
     "execution_count": 12,
     "metadata": {},
     "output_type": "execute_result"
    }
   ],
   "source": [
    "from babel.numbers import format_currency\n",
    "in_network_claims_with_procedures = claim_data.loc[(claim_data['IsProcedure'] == 1)\n",
    "                                                    & (claim_data['In.Out.Of.Network'] == 'I'), 'Provider.Payment.Amount']\n",
    "paid_amount = round(np.sum(in_network_claims_with_procedures),2)\n",
    "f\"The sum of payments made to providers for in-network procedures is {format_currency(paid_amount, 'USD', locale='en_US')}\"\n"
   ]
  },
  {
   "cell_type": "markdown",
   "metadata": {
    "ExecuteTime": {
     "end_time": "2020-07-10T22:33:09.108823Z",
     "start_time": "2020-07-10T22:33:08.792683Z"
    }
   },
   "source": [
    "## Part C (What are the top five J-codes based on the payment to providers?)\n"
   ]
  },
  {
   "cell_type": "code",
   "execution_count": 13,
   "metadata": {
    "ExecuteTime": {
     "end_time": "2020-08-03T17:11:18.513194Z",
     "start_time": "2020-08-03T17:11:18.476446Z"
    }
   },
   "outputs": [
    {
     "data": {
      "text/plain": [
       "J2405    540\n",
       "J2501    457\n",
       "J7030    387\n",
       "J1170    363\n",
       "J1644    301\n",
       "Name: Procedure.Code, dtype: int64"
      ]
     },
     "execution_count": 13,
     "metadata": {},
     "output_type": "execute_result"
    }
   ],
   "source": [
    "claim_data.loc[(claim_data['IsProcedure'] == 1)\n",
    "               & (claim_data['Provider.Payment.Amount'] > 0), 'Procedure.Code'].value_counts(ascending=False).head()"
   ]
  },
  {
   "cell_type": "code",
   "execution_count": 14,
   "metadata": {
    "ExecuteTime": {
     "end_time": "2020-08-03T17:11:18.923766Z",
     "start_time": "2020-08-03T17:11:18.515716Z"
    }
   },
   "outputs": [
    {
     "data": {
      "image/png": "[encoded data removed]",
      "text/plain": [
       "<Figure size 1296x720 with 1 Axes>"
      ]
     },
     "metadata": {},
     "output_type": "display_data"
    }
   ],
   "source": [
    "plt.figure(figsize=(18,10))\n",
    "procedures = claim_data.loc[(claim_data['IsProcedure'] == 1)\n",
    "               & (claim_data['Provider.Payment.Amount'] > 0), 'Procedure.Code']\n",
    "sns.countplot(y=procedures, order=procedures.value_counts().iloc[:5].index);\n",
    "plt.tight_layout()\n",
    "plt.savefig(os.path.join('../','visualization',f\"PaidProcedures_barchart.png\"))"
   ]
  },
  {
   "cell_type": "markdown",
   "metadata": {},
   "source": [
    "# ------ Question 2 (Provider Analysis) ------"
   ]
  },
  {
   "cell_type": "markdown",
   "metadata": {},
   "source": [
    "## Scatter plot analysis of paid versus unpaid claims"
   ]
  },
  {
   "cell_type": "code",
   "execution_count": 15,
   "metadata": {
    "ExecuteTime": {
     "end_time": "2020-08-03T17:11:19.024265Z",
     "start_time": "2020-08-03T17:11:18.925717Z"
    }
   },
   "outputs": [],
   "source": [
    "# get providers with at least one paid claim\n",
    "providers_with_paid_claims = claim_data.loc[(claim_data['IsProcedure'] == 1) \n",
    "               & (claim_data['Provider.Payment.Amount'] > 0), 'Provider.ID']\n",
    "providers = list(set(providers_with_paid_claims))\n",
    "provider_claims = [1 if prov in providers else 0 for prov in claim_data['Provider.ID']]\n",
    "\n"
   ]
  },
  {
   "cell_type": "code",
   "execution_count": 16,
   "metadata": {
    "ExecuteTime": {
     "end_time": "2020-08-03T17:11:19.038599Z",
     "start_time": "2020-08-03T17:11:19.028250Z"
    }
   },
   "outputs": [],
   "source": [
    "# get upaid claim data and put it into the claim dataframe\n",
    "unpaid_claim_data = claim_data.loc[(claim_data['IsProcedure'] == 1) \n",
    "               & (claim_data['Provider.Payment.Amount'] == 0), 'Claim.Number'].index\n",
    "unpaid_claims = np.zeros(len(claim_data))\n",
    "unpaid_claims[unpaid_claim_data] = 1\n",
    "claim_data['UnpaidClaim'] = unpaid_claims\n",
    "claim_data['UnpaidClaim']  = claim_data['UnpaidClaim'].astype(int)"
   ]
  },
  {
   "cell_type": "code",
   "execution_count": 17,
   "metadata": {
    "ExecuteTime": {
     "end_time": "2020-08-03T17:11:19.123356Z",
     "start_time": "2020-08-03T17:11:19.072329Z"
    }
   },
   "outputs": [],
   "source": [
    "# get paid procedure claim data and put it into the claim dataframe\n",
    "paid_claim_data = claim_data.loc[(claim_data['IsProcedure'] == 1) \n",
    "               & (claim_data['Provider.Payment.Amount'] > 0), 'Claim.Number'].index\n",
    "paid_claims = np.zeros(len(claim_data))\n",
    "paid_claims[paid_claim_data] = 1\n",
    "claim_data['PaidClaim'] = paid_claims\n",
    "claim_data['PaidClaim']  = claim_data['PaidClaim'].astype(int)"
   ]
  },
  {
   "cell_type": "code",
   "execution_count": 18,
   "metadata": {
    "ExecuteTime": {
     "end_time": "2020-08-03T17:11:19.730268Z",
     "start_time": "2020-08-03T17:11:19.125467Z"
    }
   },
   "outputs": [],
   "source": [
    "# produce unpaid and paid claim count by provider and load into a dataframe\n",
    "provider_data = [GetProviderCount(claim_data, provider) for provider in providers]\n",
    "provider_df = pd.DataFrame(provider_data, columns=['ProviderID','PaidCount','UnPaidCount'])"
   ]
  },
  {
   "cell_type": "code",
   "execution_count": 19,
   "metadata": {
    "ExecuteTime": {
     "end_time": "2020-08-03T17:11:20.064032Z",
     "start_time": "2020-08-03T17:11:19.731758Z"
    }
   },
   "outputs": [
    {
     "data": {
      "image/png": "[encoded data removed]",
      "text/plain": [
       "<Figure size 1296x720 with 1 Axes>"
      ]
     },
     "metadata": {},
     "output_type": "display_data"
    }
   ],
   "source": [
    "plt.figure(figsize=(18,10))\n",
    "plt.title(\"Un Paid Claims Versus Paid Claims By Provider\")\n",
    "ax = sns.scatterplot(x='UnPaidCount', y=\"PaidCount\", data=provider_df)\n",
    "plt.savefig(os.path.join('../','visualization',f\"PaidVsUnpaid_Scatterplot.png\"))"
   ]
  },
  {
   "cell_type": "markdown",
   "metadata": {},
   "source": [
    "## Graph Analysis and Concerns"
   ]
  },
  {
   "cell_type": "markdown",
   "metadata": {
    "ExecuteTime": {
     "end_time": "2020-07-12T19:12:57.059104Z",
     "start_time": "2020-07-12T19:12:57.053983Z"
    }
   },
   "source": [
    "As the numbers have stated, the provider paid percentage average is 17.69 while the average unpaid percentage is 82.31 which means that on overage healthcare organization are missing 82.31 of potential revenue. Providers have a paid percentage of anywhere between 1 to 56 percent. I would want to understand how this data relates to time as most claims are not paid until the end of the month. I would also want to understand why there is a wide discrepancy between provider paid percentages.  There is a strong positive correlation between the two variables (Paid Versus Unpaid Counts).\n"
   ]
  },
  {
   "cell_type": "markdown",
   "metadata": {},
   "source": [
    "# ------ Question 3 (Data Analysis) ------ "
   ]
  },
  {
   "cell_type": "markdown",
   "metadata": {},
   "source": [
    "## Provider Paid Versus Unpaid Grid"
   ]
  },
  {
   "cell_type": "code",
   "execution_count": 20,
   "metadata": {
    "ExecuteTime": {
     "end_time": "2020-08-03T17:11:20.084050Z",
     "start_time": "2020-08-03T17:11:20.065874Z"
    }
   },
   "outputs": [
    {
     "data": {
      "text/html": [
       "<div>\n",
       "<style scoped>\n",
       "    .dataframe tbody tr th:only-of-type {\n",
       "        vertical-align: middle;\n",
       "    }\n",
       "\n",
       "    .dataframe tbody tr th {\n",
       "        vertical-align: top;\n",
       "    }\n",
       "\n",
       "    .dataframe thead th {\n",
       "        text-align: right;\n",
       "    }\n",
       "</style>\n",
       "<table border=\"1\" class=\"dataframe\">\n",
       "  <thead>\n",
       "    <tr style=\"text-align: right;\">\n",
       "      <th></th>\n",
       "      <th>ProviderID</th>\n",
       "      <th>PaidCount</th>\n",
       "      <th>UnPaidCount</th>\n",
       "      <th>Total Claims</th>\n",
       "      <th>Paid Percentage</th>\n",
       "      <th>UnPaid Percentage</th>\n",
       "    </tr>\n",
       "  </thead>\n",
       "  <tbody>\n",
       "    <tr>\n",
       "      <th>0</th>\n",
       "      <td>FA0001389001</td>\n",
       "      <td>895</td>\n",
       "      <td>13947</td>\n",
       "      <td>14842</td>\n",
       "      <td>6.030185</td>\n",
       "      <td>93.969815</td>\n",
       "    </tr>\n",
       "    <tr>\n",
       "      <th>1</th>\n",
       "      <td>FA0001387001</td>\n",
       "      <td>74</td>\n",
       "      <td>8710</td>\n",
       "      <td>8784</td>\n",
       "      <td>0.842441</td>\n",
       "      <td>99.157559</td>\n",
       "    </tr>\n",
       "    <tr>\n",
       "      <th>2</th>\n",
       "      <td>FA0004551001</td>\n",
       "      <td>415</td>\n",
       "      <td>322</td>\n",
       "      <td>737</td>\n",
       "      <td>56.309362</td>\n",
       "      <td>43.690638</td>\n",
       "    </tr>\n",
       "    <tr>\n",
       "      <th>3</th>\n",
       "      <td>FA1000014002</td>\n",
       "      <td>5</td>\n",
       "      <td>49</td>\n",
       "      <td>54</td>\n",
       "      <td>9.259259</td>\n",
       "      <td>90.740741</td>\n",
       "    </tr>\n",
       "    <tr>\n",
       "      <th>4</th>\n",
       "      <td>FA1000015002</td>\n",
       "      <td>43</td>\n",
       "      <td>449</td>\n",
       "      <td>492</td>\n",
       "      <td>8.739837</td>\n",
       "      <td>91.260163</td>\n",
       "    </tr>\n",
       "    <tr>\n",
       "      <th>5</th>\n",
       "      <td>FA0001411001</td>\n",
       "      <td>1228</td>\n",
       "      <td>6703</td>\n",
       "      <td>7931</td>\n",
       "      <td>15.483546</td>\n",
       "      <td>84.516454</td>\n",
       "    </tr>\n",
       "    <tr>\n",
       "      <th>6</th>\n",
       "      <td>FA1000014001</td>\n",
       "      <td>561</td>\n",
       "      <td>601</td>\n",
       "      <td>1162</td>\n",
       "      <td>48.278830</td>\n",
       "      <td>51.721170</td>\n",
       "    </tr>\n",
       "    <tr>\n",
       "      <th>7</th>\n",
       "      <td>FA0001774001</td>\n",
       "      <td>302</td>\n",
       "      <td>2545</td>\n",
       "      <td>2847</td>\n",
       "      <td>10.607657</td>\n",
       "      <td>89.392343</td>\n",
       "    </tr>\n",
       "    <tr>\n",
       "      <th>8</th>\n",
       "      <td>FA1000015001</td>\n",
       "      <td>740</td>\n",
       "      <td>1170</td>\n",
       "      <td>1910</td>\n",
       "      <td>38.743455</td>\n",
       "      <td>61.256545</td>\n",
       "    </tr>\n",
       "    <tr>\n",
       "      <th>9</th>\n",
       "      <td>FA0001389003</td>\n",
       "      <td>8</td>\n",
       "      <td>539</td>\n",
       "      <td>547</td>\n",
       "      <td>1.462523</td>\n",
       "      <td>98.537477</td>\n",
       "    </tr>\n",
       "    <tr>\n",
       "      <th>10</th>\n",
       "      <td>FA0001387002</td>\n",
       "      <td>1786</td>\n",
       "      <td>9799</td>\n",
       "      <td>11585</td>\n",
       "      <td>15.416487</td>\n",
       "      <td>84.583513</td>\n",
       "    </tr>\n",
       "    <tr>\n",
       "      <th>11</th>\n",
       "      <td>FA0001411003</td>\n",
       "      <td>4</td>\n",
       "      <td>67</td>\n",
       "      <td>71</td>\n",
       "      <td>5.633803</td>\n",
       "      <td>94.366197</td>\n",
       "    </tr>\n",
       "    <tr>\n",
       "      <th>12</th>\n",
       "      <td>FA1000016001</td>\n",
       "      <td>7</td>\n",
       "      <td>46</td>\n",
       "      <td>53</td>\n",
       "      <td>13.207547</td>\n",
       "      <td>86.792453</td>\n",
       "    </tr>\n",
       "  </tbody>\n",
       "</table>\n",
       "</div>"
      ],
      "text/plain": [
       "      ProviderID  PaidCount  UnPaidCount  Total Claims  Paid Percentage  \\\n",
       "0   FA0001389001        895        13947         14842         6.030185   \n",
       "1   FA0001387001         74         8710          8784         0.842441   \n",
       "2   FA0004551001        415          322           737        56.309362   \n",
       "3   FA1000014002          5           49            54         9.259259   \n",
       "4   FA1000015002         43          449           492         8.739837   \n",
       "5   FA0001411001       1228         6703          7931        15.483546   \n",
       "6   FA1000014001        561          601          1162        48.278830   \n",
       "7   FA0001774001        302         2545          2847        10.607657   \n",
       "8   FA1000015001        740         1170          1910        38.743455   \n",
       "9   FA0001389003          8          539           547         1.462523   \n",
       "10  FA0001387002       1786         9799         11585        15.416487   \n",
       "11  FA0001411003          4           67            71         5.633803   \n",
       "12  FA1000016001          7           46            53        13.207547   \n",
       "\n",
       "    UnPaid Percentage  \n",
       "0           93.969815  \n",
       "1           99.157559  \n",
       "2           43.690638  \n",
       "3           90.740741  \n",
       "4           91.260163  \n",
       "5           84.516454  \n",
       "6           51.721170  \n",
       "7           89.392343  \n",
       "8           61.256545  \n",
       "9           98.537477  \n",
       "10          84.583513  \n",
       "11          94.366197  \n",
       "12          86.792453  "
      ]
     },
     "execution_count": 20,
     "metadata": {},
     "output_type": "execute_result"
    }
   ],
   "source": [
    "# show paid versus upaid claim information with percentages\n",
    "provider_df['Total Claims'] = provider_df['PaidCount'] + provider_df['UnPaidCount']\n",
    "provider_df['Paid Percentage'] = (provider_df['PaidCount'] / provider_df['Total Claims']) * 100\n",
    "provider_df['UnPaid Percentage'] = 100 - provider_df['Paid Percentage']\n",
    "provider_df"
   ]
  },
  {
   "cell_type": "markdown",
   "metadata": {},
   "source": [
    "## Paid Versus Unpaid Percentage Numbers"
   ]
  },
  {
   "cell_type": "code",
   "execution_count": 21,
   "metadata": {
    "ExecuteTime": {
     "end_time": "2020-08-03T17:11:20.152876Z",
     "start_time": "2020-08-03T17:11:20.086145Z"
    }
   },
   "outputs": [
    {
     "data": {
      "text/plain": [
       "'The average paid percentage is 17.693456299234203 while the unpaid percentage is 82.3065437007658'"
      ]
     },
     "execution_count": 21,
     "metadata": {},
     "output_type": "execute_result"
    }
   ],
   "source": [
    "# get the unpaid and paid percentages\n",
    "average_paid_percentage = np.average(provider_df['Paid Percentage'])\n",
    "average_unpaid_percentage = np.average(provider_df['UnPaid Percentage'])\n",
    "f\"The average paid percentage is {average_paid_percentage} while the unpaid percentage is {average_unpaid_percentage}\""
   ]
  },
  {
   "cell_type": "markdown",
   "metadata": {},
   "source": [
    "## Provider Paid Percentages (Grouped Bar Chart)"
   ]
  },
  {
   "cell_type": "code",
   "execution_count": 22,
   "metadata": {
    "ExecuteTime": {
     "end_time": "2020-08-03T17:11:20.626533Z",
     "start_time": "2020-08-03T17:11:20.155230Z"
    }
   },
   "outputs": [
    {
     "data": {
      "image/png": "[encoded data removed]",
      "text/plain": [
       "<Figure size 1296x720 with 1 Axes>"
      ]
     },
     "metadata": {},
     "output_type": "display_data"
    }
   ],
   "source": [
    "import numpy as np\n",
    "import matplotlib.pyplot as plt\n",
    " \n",
    "# set width of bar\n",
    "barWidth = 0.25\n",
    "\n",
    "# sort values before starting\n",
    "provider_df = provider_df.sort_values('UnPaid Percentage', ascending=False)\n",
    "\n",
    "# set height of bar\n",
    "bars1 = provider_df['Paid Percentage'].values\n",
    "bars2 = provider_df['UnPaid Percentage'].values\n",
    "\n",
    "# Set position of bar on X axis\n",
    "r1 = np.arange(len(bars1))\n",
    "r2 = [x + barWidth for x in r1]\n",
    "\n",
    "# set figure size\n",
    "plt.figure(figsize=(18,10))\n",
    "plt.title(\"Paid Percentage Versus UnPaid Percentage\")\n",
    "\n",
    "# Make the plot\n",
    "plt.bar(r1, bars1, color='#7f6d5f', width=barWidth, edgecolor='white', label='Paid Percentage')\n",
    "plt.bar(r2, bars2, color='#557f2d', width=barWidth, edgecolor='white', label='UnPaid Percentage')\n",
    " \n",
    "# Add xticks on the middle of the group bars\n",
    "plt.xlabel('ProviderID', fontweight='bold')\n",
    "plt.xticks([r + barWidth for r in range(len(bars1))], provider_df['ProviderID'].values, rotation=45)\n",
    " \n",
    "# Add a static line for the average paid and unpaid amount\n",
    "plt.axhline(average_unpaid_percentage, color='r', label='Average UnPaid Percentage')\n",
    "plt.axhline(average_paid_percentage, color='b', label='Average Paid Percentage')\n",
    "\n",
    "# Create legend & Show graphic\n",
    "plt.legend()\n",
    "\n",
    "# Save File\n",
    "plt.savefig(os.path.join('../','visualization',f\"PaidVsUnpaid_Percentage.png\"))\n",
    "\n",
    "# Show Image\n",
    "plt.show()\n",
    "\n",
    "\n"
   ]
  },
  {
   "cell_type": "markdown",
   "metadata": {},
   "source": [
    "## Data Prep"
   ]
  },
  {
   "cell_type": "code",
   "execution_count": 23,
   "metadata": {
    "ExecuteTime": {
     "end_time": "2020-08-03T17:11:20.692568Z",
     "start_time": "2020-08-03T17:11:20.627987Z"
    }
   },
   "outputs": [],
   "source": [
    "# determine lower and upper quantile for claim.charge.amount\n",
    "upper_lim = claim_data['Claim.Charge.Amount'].quantile(.95)\n",
    "lower_lim = claim_data['Claim.Charge.Amount'].quantile(.05)\n",
    "\n",
    "# load procedure data including new columns \n",
    "\n",
    "procedure_data = claim_data.loc[(claim_data.IsProcedure == 1) &\n",
    "                                (claim_data['Claim.Charge.Amount'] > lower_lim) &\n",
    "                                (claim_data['Claim.Charge.Amount'] < upper_lim)].copy()\n",
    "\n",
    "# delete claim data from memory\n",
    "del claim_data\n",
    "\n",
    "# drop unneccessary columns (IsProcedure and Paid Claim)\n",
    "procedure_data.drop(['IsProcedure', 'PaidClaim'], axis=1, inplace=True)\n",
    "\n",
    "# convert claim number to an integer value\n",
    "procedure_data['Claim.Number'] = procedure_data['Claim.Number'].astype(int)\n",
    "\n",
    "# convert Line.of.Business.ID and Group.Index to an object an set NaN values to missing\n",
    "procedure_data['Line.Of.Business.ID'] = procedure_data['Line.Of.Business.ID'].fillna('missing')\n",
    "procedure_data['Group.Index'] = procedure_data['Group.Index'].fillna('missing')\n"
   ]
  },
  {
   "cell_type": "markdown",
   "metadata": {
    "ExecuteTime": {
     "end_time": "2020-07-25T22:11:24.083908Z",
     "start_time": "2020-07-25T22:11:24.080474Z"
    }
   },
   "source": [
    "## Balance & Save Data Set"
   ]
  },
  {
   "cell_type": "code",
   "execution_count": 24,
   "metadata": {
    "ExecuteTime": {
     "end_time": "2020-08-03T17:11:20.908220Z",
     "start_time": "2020-08-03T17:11:20.695056Z"
    }
   },
   "outputs": [],
   "source": [
    "# Separate majority and minority classes\n",
    "df_majority = procedure_data[procedure_data.UnpaidClaim==1]\n",
    "df_minority = procedure_data[procedure_data.UnpaidClaim==0]\n",
    " \n",
    "# Downsample majority class\n",
    "df_majority_downsampled = resample(df_majority, \n",
    "                                 replace=False,    # sample without replacement\n",
    "                                 n_samples=len(df_minority),     # to match minority class\n",
    "                                 random_state=123) # reproducible results\n",
    " \n",
    "# Combine minority class with downsampled majority class\n",
    "df_downsampled = pd.concat([df_majority_downsampled, df_minority])\n",
    " \n",
    "# Display new class counts\n",
    "df_downsampled.UnpaidClaim.value_counts()\n",
    "\n",
    "# Save Data To File\n",
    "df_downsampled.to_csv(os.path.join('../data','original', 'procedure_data.tar.gz'), compression='gzip', index=False)"
   ]
  },
  {
   "cell_type": "markdown",
   "metadata": {},
   "source": [
    "## Examine Procedure Data Set"
   ]
  },
  {
   "cell_type": "code",
   "execution_count": 25,
   "metadata": {
    "ExecuteTime": {
     "end_time": "2020-08-03T17:11:20.995053Z",
     "start_time": "2020-08-03T17:11:20.910213Z"
    }
   },
   "outputs": [
    {
     "data": {
      "text/html": [
       "<div>\n",
       "<style scoped>\n",
       "    .dataframe tbody tr th:only-of-type {\n",
       "        vertical-align: middle;\n",
       "    }\n",
       "\n",
       "    .dataframe tbody tr th {\n",
       "        vertical-align: top;\n",
       "    }\n",
       "\n",
       "    .dataframe thead th {\n",
       "        text-align: right;\n",
       "    }\n",
       "</style>\n",
       "<table border=\"1\" class=\"dataframe\">\n",
       "  <thead>\n",
       "    <tr style=\"text-align: right;\">\n",
       "      <th></th>\n",
       "      <th>Claim.Number</th>\n",
       "      <th>Claim.Line.Number</th>\n",
       "      <th>Member.ID</th>\n",
       "      <th>Provider.ID</th>\n",
       "      <th>Line.Of.Business.ID</th>\n",
       "      <th>Revenue.Code</th>\n",
       "      <th>Service.Code</th>\n",
       "      <th>Place.Of.Service.Code</th>\n",
       "      <th>Procedure.Code</th>\n",
       "      <th>Diagnosis.Code</th>\n",
       "      <th>Claim.Charge.Amount</th>\n",
       "      <th>Denial.Reason.Code</th>\n",
       "      <th>Price.Index</th>\n",
       "      <th>In.Out.Of.Network</th>\n",
       "      <th>Reference.Index</th>\n",
       "      <th>Pricing.Index</th>\n",
       "      <th>Capitation.Index</th>\n",
       "      <th>Subscriber.Payment.Amount</th>\n",
       "      <th>Provider.Payment.Amount</th>\n",
       "      <th>Group.Index</th>\n",
       "      <th>Subscriber.Index</th>\n",
       "      <th>Subgroup.Index</th>\n",
       "      <th>Claim.Type</th>\n",
       "      <th>Claim.Subscriber.Type</th>\n",
       "      <th>Claim.Pre.Prince.Index</th>\n",
       "      <th>Claim.Current.Status</th>\n",
       "      <th>Network.ID</th>\n",
       "      <th>Agreement.ID</th>\n",
       "      <th>UnpaidClaim</th>\n",
       "    </tr>\n",
       "  </thead>\n",
       "  <tbody>\n",
       "    <tr>\n",
       "      <th>0</th>\n",
       "      <td>1540827490</td>\n",
       "      <td>6</td>\n",
       "      <td>46351586</td>\n",
       "      <td>FA0001774001</td>\n",
       "      <td>1</td>\n",
       "      <td>636</td>\n",
       "      <td>SU7A</td>\n",
       "      <td></td>\n",
       "      <td>J1100</td>\n",
       "      <td>7350</td>\n",
       "      <td>87.896400</td>\n",
       "      <td></td>\n",
       "      <td>A</td>\n",
       "      <td>I</td>\n",
       "      <td>V</td>\n",
       "      <td>N</td>\n",
       "      <td>N</td>\n",
       "      <td>0.0</td>\n",
       "      <td>0.0</td>\n",
       "      <td>572</td>\n",
       "      <td>37546850</td>\n",
       "      <td>0</td>\n",
       "      <td>M</td>\n",
       "      <td>H</td>\n",
       "      <td></td>\n",
       "      <td>2</td>\n",
       "      <td>P00000000007</td>\n",
       "      <td>FH002441QPD1</td>\n",
       "      <td>1</td>\n",
       "    </tr>\n",
       "    <tr>\n",
       "      <th>1</th>\n",
       "      <td>941098590</td>\n",
       "      <td>59</td>\n",
       "      <td>1987175</td>\n",
       "      <td>FA0001411001</td>\n",
       "      <td>5</td>\n",
       "      <td>636</td>\n",
       "      <td>SU7A</td>\n",
       "      <td></td>\n",
       "      <td>J7030</td>\n",
       "      <td>8248</td>\n",
       "      <td>200.482800</td>\n",
       "      <td>KKE</td>\n",
       "      <td>A</td>\n",
       "      <td>I</td>\n",
       "      <td>N</td>\n",
       "      <td>N</td>\n",
       "      <td></td>\n",
       "      <td>0.0</td>\n",
       "      <td>0.0</td>\n",
       "      <td>114</td>\n",
       "      <td>1609700</td>\n",
       "      <td>0</td>\n",
       "      <td>M</td>\n",
       "      <td>H</td>\n",
       "      <td>S</td>\n",
       "      <td>2</td>\n",
       "      <td>P00000000001</td>\n",
       "      <td>FH001310QB01</td>\n",
       "      <td>1</td>\n",
       "    </tr>\n",
       "    <tr>\n",
       "      <th>2</th>\n",
       "      <td>1497570090</td>\n",
       "      <td>4</td>\n",
       "      <td>31681899</td>\n",
       "      <td>FA0001387002</td>\n",
       "      <td>1</td>\n",
       "      <td>636</td>\n",
       "      <td>OP7O</td>\n",
       "      <td></td>\n",
       "      <td>J2250</td>\n",
       "      <td>V7651</td>\n",
       "      <td>84.563250</td>\n",
       "      <td>TF1</td>\n",
       "      <td></td>\n",
       "      <td>I</td>\n",
       "      <td>N</td>\n",
       "      <td>N</td>\n",
       "      <td>N</td>\n",
       "      <td>0.0</td>\n",
       "      <td>0.0</td>\n",
       "      <td>572</td>\n",
       "      <td>25663750</td>\n",
       "      <td>0</td>\n",
       "      <td>M</td>\n",
       "      <td>H</td>\n",
       "      <td></td>\n",
       "      <td>2</td>\n",
       "      <td>P00000000007</td>\n",
       "      <td>FH002449QPD1</td>\n",
       "      <td>1</td>\n",
       "    </tr>\n",
       "    <tr>\n",
       "      <th>3</th>\n",
       "      <td>81408290</td>\n",
       "      <td>7</td>\n",
       "      <td>27319917</td>\n",
       "      <td>FA0001389001</td>\n",
       "      <td>1</td>\n",
       "      <td>636</td>\n",
       "      <td>SU7A</td>\n",
       "      <td></td>\n",
       "      <td>J1100</td>\n",
       "      <td>17351</td>\n",
       "      <td>210.889635</td>\n",
       "      <td></td>\n",
       "      <td>A</td>\n",
       "      <td>I</td>\n",
       "      <td>V</td>\n",
       "      <td>N</td>\n",
       "      <td>N</td>\n",
       "      <td>0.0</td>\n",
       "      <td>0.0</td>\n",
       "      <td>572</td>\n",
       "      <td>22130350</td>\n",
       "      <td>0</td>\n",
       "      <td>M</td>\n",
       "      <td>H</td>\n",
       "      <td></td>\n",
       "      <td>2</td>\n",
       "      <td>P00000000007</td>\n",
       "      <td>FH001309QB01</td>\n",
       "      <td>1</td>\n",
       "    </tr>\n",
       "    <tr>\n",
       "      <th>4</th>\n",
       "      <td>120298090</td>\n",
       "      <td>23</td>\n",
       "      <td>92139870</td>\n",
       "      <td>FA1000015001</td>\n",
       "      <td></td>\n",
       "      <td>636</td>\n",
       "      <td>OP7O</td>\n",
       "      <td></td>\n",
       "      <td>J1644</td>\n",
       "      <td>5856</td>\n",
       "      <td>353.067000</td>\n",
       "      <td>S5</td>\n",
       "      <td></td>\n",
       "      <td></td>\n",
       "      <td>N</td>\n",
       "      <td>N</td>\n",
       "      <td></td>\n",
       "      <td>0.0</td>\n",
       "      <td>0.0</td>\n",
       "      <td>48549</td>\n",
       "      <td>74637400</td>\n",
       "      <td>52163</td>\n",
       "      <td>E</td>\n",
       "      <td>H</td>\n",
       "      <td></td>\n",
       "      <td>15</td>\n",
       "      <td></td>\n",
       "      <td></td>\n",
       "      <td>1</td>\n",
       "    </tr>\n",
       "  </tbody>\n",
       "</table>\n",
       "</div>"
      ],
      "text/plain": [
       "   Claim.Number  Claim.Line.Number  Member.ID   Provider.ID  \\\n",
       "0    1540827490                  6   46351586  FA0001774001   \n",
       "1     941098590                 59    1987175  FA0001411001   \n",
       "2    1497570090                  4   31681899  FA0001387002   \n",
       "3      81408290                  7   27319917  FA0001389001   \n",
       "4     120298090                 23   92139870  FA1000015001   \n",
       "\n",
       "  Line.Of.Business.ID  Revenue.Code Service.Code Place.Of.Service.Code  \\\n",
       "0                   1           636         SU7A                         \n",
       "1                   5           636         SU7A                         \n",
       "2                   1           636         OP7O                         \n",
       "3                   1           636         SU7A                         \n",
       "4                               636         OP7O                         \n",
       "\n",
       "  Procedure.Code Diagnosis.Code  Claim.Charge.Amount Denial.Reason.Code  \\\n",
       "0          J1100           7350            87.896400                      \n",
       "1          J7030           8248           200.482800                KKE   \n",
       "2          J2250          V7651            84.563250                TF1   \n",
       "3          J1100          17351           210.889635                      \n",
       "4          J1644           5856           353.067000                 S5   \n",
       "\n",
       "  Price.Index In.Out.Of.Network Reference.Index Pricing.Index  \\\n",
       "0           A                 I               V             N   \n",
       "1           A                 I               N             N   \n",
       "2                             I               N             N   \n",
       "3           A                 I               V             N   \n",
       "4                                             N             N   \n",
       "\n",
       "  Capitation.Index  Subscriber.Payment.Amount  Provider.Payment.Amount  \\\n",
       "0                N                        0.0                      0.0   \n",
       "1                                         0.0                      0.0   \n",
       "2                N                        0.0                      0.0   \n",
       "3                N                        0.0                      0.0   \n",
       "4                                         0.0                      0.0   \n",
       "\n",
       "   Group.Index  Subscriber.Index  Subgroup.Index Claim.Type  \\\n",
       "0          572          37546850               0          M   \n",
       "1          114           1609700               0          M   \n",
       "2          572          25663750               0          M   \n",
       "3          572          22130350               0          M   \n",
       "4        48549          74637400           52163          E   \n",
       "\n",
       "  Claim.Subscriber.Type Claim.Pre.Prince.Index  Claim.Current.Status  \\\n",
       "0                     H                                            2   \n",
       "1                     H                      S                     2   \n",
       "2                     H                                            2   \n",
       "3                     H                                            2   \n",
       "4                     H                                           15   \n",
       "\n",
       "     Network.ID  Agreement.ID  UnpaidClaim  \n",
       "0  P00000000007  FH002441QPD1            1  \n",
       "1  P00000000001  FH001310QB01            1  \n",
       "2  P00000000007  FH002449QPD1            1  \n",
       "3  P00000000007  FH001309QB01            1  \n",
       "4                                        1  "
      ]
     },
     "execution_count": 25,
     "metadata": {},
     "output_type": "execute_result"
    }
   ],
   "source": [
    "# load data\n",
    "procedure_data = pd.read_csv(os.path.join('../data','original', 'procedure_data.tar.gz'), low_memory=False)\n",
    "\n",
    "# show first few rows\n",
    "procedure_data.head()"
   ]
  },
  {
   "cell_type": "code",
   "execution_count": 26,
   "metadata": {
    "ExecuteTime": {
     "end_time": "2020-08-03T17:11:21.033377Z",
     "start_time": "2020-08-03T17:11:20.996613Z"
    }
   },
   "outputs": [
    {
     "name": "stdout",
     "output_type": "stream",
     "text": [
      "<class 'pandas.core.frame.DataFrame'>\n",
      "RangeIndex: 11778 entries, 0 to 11777\n",
      "Data columns (total 29 columns):\n",
      " #   Column                     Non-Null Count  Dtype  \n",
      "---  ------                     --------------  -----  \n",
      " 0   Claim.Number               11778 non-null  int64  \n",
      " 1   Claim.Line.Number          11778 non-null  int64  \n",
      " 2   Member.ID                  11778 non-null  int64  \n",
      " 3   Provider.ID                11778 non-null  object \n",
      " 4   Line.Of.Business.ID        11778 non-null  object \n",
      " 5   Revenue.Code               11778 non-null  int64  \n",
      " 6   Service.Code               11778 non-null  object \n",
      " 7   Place.Of.Service.Code      11778 non-null  object \n",
      " 8   Procedure.Code             11778 non-null  object \n",
      " 9   Diagnosis.Code             11778 non-null  object \n",
      " 10  Claim.Charge.Amount        11778 non-null  float64\n",
      " 11  Denial.Reason.Code         11778 non-null  object \n",
      " 12  Price.Index                11778 non-null  object \n",
      " 13  In.Out.Of.Network          11778 non-null  object \n",
      " 14  Reference.Index            11778 non-null  object \n",
      " 15  Pricing.Index              11778 non-null  object \n",
      " 16  Capitation.Index           11778 non-null  object \n",
      " 17  Subscriber.Payment.Amount  11778 non-null  float64\n",
      " 18  Provider.Payment.Amount    11778 non-null  float64\n",
      " 19  Group.Index                11778 non-null  int64  \n",
      " 20  Subscriber.Index           11778 non-null  int64  \n",
      " 21  Subgroup.Index             11778 non-null  int64  \n",
      " 22  Claim.Type                 11778 non-null  object \n",
      " 23  Claim.Subscriber.Type      11778 non-null  object \n",
      " 24  Claim.Pre.Prince.Index     11778 non-null  object \n",
      " 25  Claim.Current.Status       11778 non-null  int64  \n",
      " 26  Network.ID                 11778 non-null  object \n",
      " 27  Agreement.ID               11778 non-null  object \n",
      " 28  UnpaidClaim                11778 non-null  int64  \n",
      "dtypes: float64(3), int64(9), object(17)\n",
      "memory usage: 2.6+ MB\n"
     ]
    }
   ],
   "source": [
    "procedure_data.info()"
   ]
  },
  {
   "cell_type": "markdown",
   "metadata": {},
   "source": [
    "### Data Overview"
   ]
  },
  {
   "cell_type": "markdown",
   "metadata": {},
   "source": [
    "51029 procedures\n",
    "10691 unique procedure claims\n",
    "6341 unique patients\n",
    "Top Procedures for Member (88514637.0, 306)\n",
    "mostly end stage renal cancer patients\n",
    "top 5 injections are for prepping the patient for infusion (anethesia)\n",
    "healthcare claim code reference (https://www.uhccommunityplan.com/assets/healthcareprofessionals/providerinformation/AZ-Provider-Information/AZ_Health_Care_Status_Codes.pdf)\n"
   ]
  },
  {
   "cell_type": "code",
   "execution_count": 27,
   "metadata": {
    "ExecuteTime": {
     "end_time": "2020-08-03T17:11:21.059765Z",
     "start_time": "2020-08-03T17:11:21.035797Z"
    }
   },
   "outputs": [
    {
     "data": {
      "text/plain": [
       "(11778, 29)"
      ]
     },
     "execution_count": 27,
     "metadata": {},
     "output_type": "execute_result"
    }
   ],
   "source": [
    "procedure_data.shape"
   ]
  },
  {
   "cell_type": "code",
   "execution_count": 28,
   "metadata": {
    "ExecuteTime": {
     "end_time": "2020-08-03T17:11:21.123336Z",
     "start_time": "2020-08-03T17:11:21.062255Z"
    }
   },
   "outputs": [
    {
     "data": {
      "text/plain": [
       "3296"
      ]
     },
     "execution_count": 28,
     "metadata": {},
     "output_type": "execute_result"
    }
   ],
   "source": [
    "procedure_data['Member.ID'].nunique()"
   ]
  },
  {
   "cell_type": "code",
   "execution_count": 29,
   "metadata": {
    "ExecuteTime": {
     "end_time": "2020-08-03T17:11:21.185655Z",
     "start_time": "2020-08-03T17:11:21.125942Z"
    }
   },
   "outputs": [
    {
     "data": {
      "text/plain": [
       "1554235     135\n",
       "21880031     83\n",
       "25335026     76\n",
       "1987175      74\n",
       "37800513     74\n",
       "Name: Member.ID, dtype: int64"
      ]
     },
     "execution_count": 29,
     "metadata": {},
     "output_type": "execute_result"
    }
   ],
   "source": [
    "procedure_data['Member.ID'].value_counts(ascending=False).head()"
   ]
  },
  {
   "cell_type": "code",
   "execution_count": 30,
   "metadata": {
    "ExecuteTime": {
     "end_time": "2020-08-03T17:11:21.288487Z",
     "start_time": "2020-08-03T17:11:21.188004Z"
    }
   },
   "outputs": [
    {
     "data": {
      "text/html": [
       "<div>\n",
       "<style scoped>\n",
       "    .dataframe tbody tr th:only-of-type {\n",
       "        vertical-align: middle;\n",
       "    }\n",
       "\n",
       "    .dataframe tbody tr th {\n",
       "        vertical-align: top;\n",
       "    }\n",
       "\n",
       "    .dataframe thead th {\n",
       "        text-align: right;\n",
       "    }\n",
       "</style>\n",
       "<table border=\"1\" class=\"dataframe\">\n",
       "  <thead>\n",
       "    <tr style=\"text-align: right;\">\n",
       "      <th></th>\n",
       "      <th>Claim.Number</th>\n",
       "      <th>Claim.Line.Number</th>\n",
       "      <th>Member.ID</th>\n",
       "      <th>Provider.ID</th>\n",
       "      <th>Line.Of.Business.ID</th>\n",
       "      <th>Revenue.Code</th>\n",
       "      <th>Service.Code</th>\n",
       "      <th>Place.Of.Service.Code</th>\n",
       "      <th>Procedure.Code</th>\n",
       "      <th>Diagnosis.Code</th>\n",
       "      <th>Claim.Charge.Amount</th>\n",
       "      <th>Denial.Reason.Code</th>\n",
       "      <th>Price.Index</th>\n",
       "      <th>In.Out.Of.Network</th>\n",
       "      <th>Reference.Index</th>\n",
       "      <th>Pricing.Index</th>\n",
       "      <th>Capitation.Index</th>\n",
       "      <th>Subscriber.Payment.Amount</th>\n",
       "      <th>Provider.Payment.Amount</th>\n",
       "      <th>Group.Index</th>\n",
       "      <th>Subscriber.Index</th>\n",
       "      <th>Subgroup.Index</th>\n",
       "      <th>Claim.Type</th>\n",
       "      <th>Claim.Subscriber.Type</th>\n",
       "      <th>Claim.Pre.Prince.Index</th>\n",
       "      <th>Claim.Current.Status</th>\n",
       "      <th>Network.ID</th>\n",
       "      <th>Agreement.ID</th>\n",
       "      <th>UnpaidClaim</th>\n",
       "    </tr>\n",
       "  </thead>\n",
       "  <tbody>\n",
       "    <tr>\n",
       "      <th>126</th>\n",
       "      <td>1003542990</td>\n",
       "      <td>24</td>\n",
       "      <td>88514637</td>\n",
       "      <td>FA0001387001</td>\n",
       "      <td></td>\n",
       "      <td>636</td>\n",
       "      <td>OP7O</td>\n",
       "      <td></td>\n",
       "      <td>J1644</td>\n",
       "      <td>5856</td>\n",
       "      <td>353.06700</td>\n",
       "      <td></td>\n",
       "      <td></td>\n",
       "      <td></td>\n",
       "      <td></td>\n",
       "      <td></td>\n",
       "      <td></td>\n",
       "      <td>0.0</td>\n",
       "      <td>0.0</td>\n",
       "      <td>48546</td>\n",
       "      <td>71700800</td>\n",
       "      <td>0</td>\n",
       "      <td>M</td>\n",
       "      <td>H</td>\n",
       "      <td></td>\n",
       "      <td>2</td>\n",
       "      <td></td>\n",
       "      <td></td>\n",
       "      <td>1</td>\n",
       "    </tr>\n",
       "    <tr>\n",
       "      <th>210</th>\n",
       "      <td>1003542990</td>\n",
       "      <td>44</td>\n",
       "      <td>88514637</td>\n",
       "      <td>FA0001387001</td>\n",
       "      <td></td>\n",
       "      <td>636</td>\n",
       "      <td>OP7O</td>\n",
       "      <td></td>\n",
       "      <td>J1644</td>\n",
       "      <td>5856</td>\n",
       "      <td>338.25300</td>\n",
       "      <td></td>\n",
       "      <td></td>\n",
       "      <td></td>\n",
       "      <td></td>\n",
       "      <td></td>\n",
       "      <td></td>\n",
       "      <td>0.0</td>\n",
       "      <td>0.0</td>\n",
       "      <td>48546</td>\n",
       "      <td>71700800</td>\n",
       "      <td>0</td>\n",
       "      <td>M</td>\n",
       "      <td>H</td>\n",
       "      <td></td>\n",
       "      <td>2</td>\n",
       "      <td></td>\n",
       "      <td></td>\n",
       "      <td>1</td>\n",
       "    </tr>\n",
       "    <tr>\n",
       "      <th>220</th>\n",
       "      <td>1003542990</td>\n",
       "      <td>37</td>\n",
       "      <td>88514637</td>\n",
       "      <td>FA0001387001</td>\n",
       "      <td></td>\n",
       "      <td>636</td>\n",
       "      <td>OP7O</td>\n",
       "      <td></td>\n",
       "      <td>J1644</td>\n",
       "      <td>5856</td>\n",
       "      <td>338.25300</td>\n",
       "      <td></td>\n",
       "      <td></td>\n",
       "      <td></td>\n",
       "      <td></td>\n",
       "      <td></td>\n",
       "      <td></td>\n",
       "      <td>0.0</td>\n",
       "      <td>0.0</td>\n",
       "      <td>48546</td>\n",
       "      <td>71700800</td>\n",
       "      <td>0</td>\n",
       "      <td>M</td>\n",
       "      <td>H</td>\n",
       "      <td></td>\n",
       "      <td>2</td>\n",
       "      <td></td>\n",
       "      <td></td>\n",
       "      <td>1</td>\n",
       "    </tr>\n",
       "    <tr>\n",
       "      <th>270</th>\n",
       "      <td>1003542990</td>\n",
       "      <td>34</td>\n",
       "      <td>88514637</td>\n",
       "      <td>FA0001387001</td>\n",
       "      <td></td>\n",
       "      <td>636</td>\n",
       "      <td>OP7O</td>\n",
       "      <td></td>\n",
       "      <td>J1644</td>\n",
       "      <td>5856</td>\n",
       "      <td>338.25300</td>\n",
       "      <td></td>\n",
       "      <td></td>\n",
       "      <td></td>\n",
       "      <td></td>\n",
       "      <td></td>\n",
       "      <td></td>\n",
       "      <td>0.0</td>\n",
       "      <td>0.0</td>\n",
       "      <td>48546</td>\n",
       "      <td>71700800</td>\n",
       "      <td>0</td>\n",
       "      <td>M</td>\n",
       "      <td>H</td>\n",
       "      <td></td>\n",
       "      <td>2</td>\n",
       "      <td></td>\n",
       "      <td></td>\n",
       "      <td>1</td>\n",
       "    </tr>\n",
       "    <tr>\n",
       "      <th>281</th>\n",
       "      <td>1003542990</td>\n",
       "      <td>21</td>\n",
       "      <td>88514637</td>\n",
       "      <td>FA0001387001</td>\n",
       "      <td></td>\n",
       "      <td>636</td>\n",
       "      <td>OP7O</td>\n",
       "      <td></td>\n",
       "      <td>J1644</td>\n",
       "      <td>5856</td>\n",
       "      <td>338.25300</td>\n",
       "      <td></td>\n",
       "      <td></td>\n",
       "      <td></td>\n",
       "      <td></td>\n",
       "      <td></td>\n",
       "      <td></td>\n",
       "      <td>0.0</td>\n",
       "      <td>0.0</td>\n",
       "      <td>48546</td>\n",
       "      <td>71700800</td>\n",
       "      <td>0</td>\n",
       "      <td>M</td>\n",
       "      <td>H</td>\n",
       "      <td></td>\n",
       "      <td>2</td>\n",
       "      <td></td>\n",
       "      <td></td>\n",
       "      <td>1</td>\n",
       "    </tr>\n",
       "    <tr>\n",
       "      <th>516</th>\n",
       "      <td>1003542990</td>\n",
       "      <td>22</td>\n",
       "      <td>88514637</td>\n",
       "      <td>FA0001387001</td>\n",
       "      <td></td>\n",
       "      <td>636</td>\n",
       "      <td>OP7O</td>\n",
       "      <td></td>\n",
       "      <td>J1644</td>\n",
       "      <td>5856</td>\n",
       "      <td>338.25300</td>\n",
       "      <td></td>\n",
       "      <td></td>\n",
       "      <td></td>\n",
       "      <td></td>\n",
       "      <td></td>\n",
       "      <td></td>\n",
       "      <td>0.0</td>\n",
       "      <td>0.0</td>\n",
       "      <td>48546</td>\n",
       "      <td>71700800</td>\n",
       "      <td>0</td>\n",
       "      <td>M</td>\n",
       "      <td>H</td>\n",
       "      <td></td>\n",
       "      <td>2</td>\n",
       "      <td></td>\n",
       "      <td></td>\n",
       "      <td>1</td>\n",
       "    </tr>\n",
       "    <tr>\n",
       "      <th>634</th>\n",
       "      <td>1003542990</td>\n",
       "      <td>65</td>\n",
       "      <td>88514637</td>\n",
       "      <td>FA0001387001</td>\n",
       "      <td></td>\n",
       "      <td>636</td>\n",
       "      <td>OP7O</td>\n",
       "      <td></td>\n",
       "      <td>J2501</td>\n",
       "      <td>5856</td>\n",
       "      <td>203.69250</td>\n",
       "      <td></td>\n",
       "      <td></td>\n",
       "      <td></td>\n",
       "      <td></td>\n",
       "      <td></td>\n",
       "      <td></td>\n",
       "      <td>0.0</td>\n",
       "      <td>0.0</td>\n",
       "      <td>48546</td>\n",
       "      <td>71700800</td>\n",
       "      <td>0</td>\n",
       "      <td>M</td>\n",
       "      <td>H</td>\n",
       "      <td></td>\n",
       "      <td>2</td>\n",
       "      <td></td>\n",
       "      <td></td>\n",
       "      <td>1</td>\n",
       "    </tr>\n",
       "    <tr>\n",
       "      <th>835</th>\n",
       "      <td>1003542990</td>\n",
       "      <td>16</td>\n",
       "      <td>88514637</td>\n",
       "      <td>FA0001387001</td>\n",
       "      <td></td>\n",
       "      <td>636</td>\n",
       "      <td>OP7O</td>\n",
       "      <td></td>\n",
       "      <td>J1644</td>\n",
       "      <td>5856</td>\n",
       "      <td>353.06700</td>\n",
       "      <td></td>\n",
       "      <td></td>\n",
       "      <td></td>\n",
       "      <td></td>\n",
       "      <td></td>\n",
       "      <td></td>\n",
       "      <td>0.0</td>\n",
       "      <td>0.0</td>\n",
       "      <td>48546</td>\n",
       "      <td>71700800</td>\n",
       "      <td>0</td>\n",
       "      <td>M</td>\n",
       "      <td>H</td>\n",
       "      <td></td>\n",
       "      <td>2</td>\n",
       "      <td></td>\n",
       "      <td></td>\n",
       "      <td>1</td>\n",
       "    </tr>\n",
       "    <tr>\n",
       "      <th>962</th>\n",
       "      <td>1003542990</td>\n",
       "      <td>47</td>\n",
       "      <td>88514637</td>\n",
       "      <td>FA0001387001</td>\n",
       "      <td></td>\n",
       "      <td>636</td>\n",
       "      <td>OP7O</td>\n",
       "      <td></td>\n",
       "      <td>J1644</td>\n",
       "      <td>5856</td>\n",
       "      <td>338.25300</td>\n",
       "      <td></td>\n",
       "      <td></td>\n",
       "      <td></td>\n",
       "      <td></td>\n",
       "      <td></td>\n",
       "      <td></td>\n",
       "      <td>0.0</td>\n",
       "      <td>0.0</td>\n",
       "      <td>48546</td>\n",
       "      <td>71700800</td>\n",
       "      <td>0</td>\n",
       "      <td>M</td>\n",
       "      <td>H</td>\n",
       "      <td></td>\n",
       "      <td>2</td>\n",
       "      <td></td>\n",
       "      <td></td>\n",
       "      <td>1</td>\n",
       "    </tr>\n",
       "    <tr>\n",
       "      <th>1127</th>\n",
       "      <td>1003542990</td>\n",
       "      <td>13</td>\n",
       "      <td>88514637</td>\n",
       "      <td>FA0001387001</td>\n",
       "      <td></td>\n",
       "      <td>636</td>\n",
       "      <td>OP7O</td>\n",
       "      <td></td>\n",
       "      <td>J1644</td>\n",
       "      <td>5856</td>\n",
       "      <td>338.25300</td>\n",
       "      <td></td>\n",
       "      <td></td>\n",
       "      <td></td>\n",
       "      <td></td>\n",
       "      <td></td>\n",
       "      <td></td>\n",
       "      <td>0.0</td>\n",
       "      <td>0.0</td>\n",
       "      <td>48546</td>\n",
       "      <td>71700800</td>\n",
       "      <td>0</td>\n",
       "      <td>M</td>\n",
       "      <td>H</td>\n",
       "      <td></td>\n",
       "      <td>2</td>\n",
       "      <td></td>\n",
       "      <td></td>\n",
       "      <td>1</td>\n",
       "    </tr>\n",
       "    <tr>\n",
       "      <th>1467</th>\n",
       "      <td>1003542990</td>\n",
       "      <td>34</td>\n",
       "      <td>88514637</td>\n",
       "      <td>FA0001387001</td>\n",
       "      <td></td>\n",
       "      <td>636</td>\n",
       "      <td>OP7O</td>\n",
       "      <td></td>\n",
       "      <td>J2501</td>\n",
       "      <td>5856</td>\n",
       "      <td>207.39600</td>\n",
       "      <td></td>\n",
       "      <td></td>\n",
       "      <td></td>\n",
       "      <td></td>\n",
       "      <td></td>\n",
       "      <td></td>\n",
       "      <td>0.0</td>\n",
       "      <td>0.0</td>\n",
       "      <td>48546</td>\n",
       "      <td>71700800</td>\n",
       "      <td>0</td>\n",
       "      <td>M</td>\n",
       "      <td>H</td>\n",
       "      <td></td>\n",
       "      <td>2</td>\n",
       "      <td></td>\n",
       "      <td></td>\n",
       "      <td>1</td>\n",
       "    </tr>\n",
       "    <tr>\n",
       "      <th>1494</th>\n",
       "      <td>1003542990</td>\n",
       "      <td>10</td>\n",
       "      <td>88514637</td>\n",
       "      <td>FA0001387001</td>\n",
       "      <td></td>\n",
       "      <td>636</td>\n",
       "      <td>OP7O</td>\n",
       "      <td></td>\n",
       "      <td>J0692</td>\n",
       "      <td>5856</td>\n",
       "      <td>117.38860</td>\n",
       "      <td></td>\n",
       "      <td></td>\n",
       "      <td></td>\n",
       "      <td></td>\n",
       "      <td></td>\n",
       "      <td></td>\n",
       "      <td>0.0</td>\n",
       "      <td>0.0</td>\n",
       "      <td>48546</td>\n",
       "      <td>71700800</td>\n",
       "      <td>0</td>\n",
       "      <td>M</td>\n",
       "      <td>H</td>\n",
       "      <td></td>\n",
       "      <td>2</td>\n",
       "      <td></td>\n",
       "      <td></td>\n",
       "      <td>1</td>\n",
       "    </tr>\n",
       "    <tr>\n",
       "      <th>1547</th>\n",
       "      <td>115282190</td>\n",
       "      <td>39</td>\n",
       "      <td>88514637</td>\n",
       "      <td>FA1000015001</td>\n",
       "      <td>13</td>\n",
       "      <td>636</td>\n",
       "      <td>OP7O</td>\n",
       "      <td></td>\n",
       "      <td>J2501</td>\n",
       "      <td>5856</td>\n",
       "      <td>207.39600</td>\n",
       "      <td>PDC</td>\n",
       "      <td>A</td>\n",
       "      <td>I</td>\n",
       "      <td>N</td>\n",
       "      <td>N</td>\n",
       "      <td></td>\n",
       "      <td>0.0</td>\n",
       "      <td>0.0</td>\n",
       "      <td>48546</td>\n",
       "      <td>71700800</td>\n",
       "      <td>0</td>\n",
       "      <td>E</td>\n",
       "      <td>H</td>\n",
       "      <td></td>\n",
       "      <td>11</td>\n",
       "      <td>MIMAPD000001</td>\n",
       "      <td>PI003247QM03</td>\n",
       "      <td>1</td>\n",
       "    </tr>\n",
       "    <tr>\n",
       "      <th>1833</th>\n",
       "      <td>115277690</td>\n",
       "      <td>7</td>\n",
       "      <td>88514637</td>\n",
       "      <td>FA1000015001</td>\n",
       "      <td>13</td>\n",
       "      <td>636</td>\n",
       "      <td>OP7O</td>\n",
       "      <td></td>\n",
       "      <td>J1644</td>\n",
       "      <td>5856</td>\n",
       "      <td>353.06700</td>\n",
       "      <td>PDC</td>\n",
       "      <td>A</td>\n",
       "      <td>I</td>\n",
       "      <td>N</td>\n",
       "      <td>N</td>\n",
       "      <td></td>\n",
       "      <td>0.0</td>\n",
       "      <td>0.0</td>\n",
       "      <td>48546</td>\n",
       "      <td>71700800</td>\n",
       "      <td>0</td>\n",
       "      <td>E</td>\n",
       "      <td>H</td>\n",
       "      <td></td>\n",
       "      <td>11</td>\n",
       "      <td>MIMAPD000001</td>\n",
       "      <td>PI003247QM03</td>\n",
       "      <td>1</td>\n",
       "    </tr>\n",
       "    <tr>\n",
       "      <th>2128</th>\n",
       "      <td>115277690</td>\n",
       "      <td>38</td>\n",
       "      <td>88514637</td>\n",
       "      <td>FA1000015001</td>\n",
       "      <td>13</td>\n",
       "      <td>636</td>\n",
       "      <td>OP7O</td>\n",
       "      <td></td>\n",
       "      <td>J2501</td>\n",
       "      <td>5856</td>\n",
       "      <td>207.39600</td>\n",
       "      <td>PDC</td>\n",
       "      <td>A</td>\n",
       "      <td>I</td>\n",
       "      <td>N</td>\n",
       "      <td>N</td>\n",
       "      <td></td>\n",
       "      <td>0.0</td>\n",
       "      <td>0.0</td>\n",
       "      <td>48546</td>\n",
       "      <td>71700800</td>\n",
       "      <td>0</td>\n",
       "      <td>E</td>\n",
       "      <td>H</td>\n",
       "      <td></td>\n",
       "      <td>11</td>\n",
       "      <td>MIMAPD000001</td>\n",
       "      <td>PI003247QM03</td>\n",
       "      <td>1</td>\n",
       "    </tr>\n",
       "    <tr>\n",
       "      <th>2165</th>\n",
       "      <td>1003542990</td>\n",
       "      <td>55</td>\n",
       "      <td>88514637</td>\n",
       "      <td>FA0001387001</td>\n",
       "      <td></td>\n",
       "      <td>636</td>\n",
       "      <td>OP7O</td>\n",
       "      <td></td>\n",
       "      <td>J1644</td>\n",
       "      <td>5856</td>\n",
       "      <td>338.25300</td>\n",
       "      <td></td>\n",
       "      <td></td>\n",
       "      <td></td>\n",
       "      <td></td>\n",
       "      <td></td>\n",
       "      <td></td>\n",
       "      <td>0.0</td>\n",
       "      <td>0.0</td>\n",
       "      <td>48546</td>\n",
       "      <td>71700800</td>\n",
       "      <td>0</td>\n",
       "      <td>M</td>\n",
       "      <td>H</td>\n",
       "      <td></td>\n",
       "      <td>2</td>\n",
       "      <td></td>\n",
       "      <td></td>\n",
       "      <td>1</td>\n",
       "    </tr>\n",
       "    <tr>\n",
       "      <th>2254</th>\n",
       "      <td>1003542990</td>\n",
       "      <td>35</td>\n",
       "      <td>88514637</td>\n",
       "      <td>FA0001387001</td>\n",
       "      <td></td>\n",
       "      <td>636</td>\n",
       "      <td>OP7O</td>\n",
       "      <td></td>\n",
       "      <td>J1644</td>\n",
       "      <td>5856</td>\n",
       "      <td>353.06700</td>\n",
       "      <td></td>\n",
       "      <td></td>\n",
       "      <td></td>\n",
       "      <td></td>\n",
       "      <td></td>\n",
       "      <td></td>\n",
       "      <td>0.0</td>\n",
       "      <td>0.0</td>\n",
       "      <td>48546</td>\n",
       "      <td>71700800</td>\n",
       "      <td>0</td>\n",
       "      <td>M</td>\n",
       "      <td>H</td>\n",
       "      <td></td>\n",
       "      <td>2</td>\n",
       "      <td></td>\n",
       "      <td></td>\n",
       "      <td>1</td>\n",
       "    </tr>\n",
       "    <tr>\n",
       "      <th>2265</th>\n",
       "      <td>1003542990</td>\n",
       "      <td>3</td>\n",
       "      <td>88514637</td>\n",
       "      <td>FA0001387001</td>\n",
       "      <td></td>\n",
       "      <td>636</td>\n",
       "      <td>OP7O</td>\n",
       "      <td></td>\n",
       "      <td>J2501</td>\n",
       "      <td>5856</td>\n",
       "      <td>207.39600</td>\n",
       "      <td></td>\n",
       "      <td></td>\n",
       "      <td></td>\n",
       "      <td></td>\n",
       "      <td></td>\n",
       "      <td></td>\n",
       "      <td>0.0</td>\n",
       "      <td>0.0</td>\n",
       "      <td>48546</td>\n",
       "      <td>71700800</td>\n",
       "      <td>0</td>\n",
       "      <td>M</td>\n",
       "      <td>H</td>\n",
       "      <td></td>\n",
       "      <td>2</td>\n",
       "      <td></td>\n",
       "      <td></td>\n",
       "      <td>1</td>\n",
       "    </tr>\n",
       "    <tr>\n",
       "      <th>2277</th>\n",
       "      <td>1003542990</td>\n",
       "      <td>25</td>\n",
       "      <td>88514637</td>\n",
       "      <td>FA0001387001</td>\n",
       "      <td></td>\n",
       "      <td>636</td>\n",
       "      <td>OP7O</td>\n",
       "      <td></td>\n",
       "      <td>J2501</td>\n",
       "      <td>5856</td>\n",
       "      <td>103.69800</td>\n",
       "      <td></td>\n",
       "      <td></td>\n",
       "      <td></td>\n",
       "      <td></td>\n",
       "      <td></td>\n",
       "      <td></td>\n",
       "      <td>0.0</td>\n",
       "      <td>0.0</td>\n",
       "      <td>48546</td>\n",
       "      <td>71700800</td>\n",
       "      <td>0</td>\n",
       "      <td>M</td>\n",
       "      <td>H</td>\n",
       "      <td></td>\n",
       "      <td>2</td>\n",
       "      <td></td>\n",
       "      <td></td>\n",
       "      <td>1</td>\n",
       "    </tr>\n",
       "    <tr>\n",
       "      <th>2483</th>\n",
       "      <td>1003542990</td>\n",
       "      <td>28</td>\n",
       "      <td>88514637</td>\n",
       "      <td>FA0001387001</td>\n",
       "      <td></td>\n",
       "      <td>636</td>\n",
       "      <td>OP7O</td>\n",
       "      <td></td>\n",
       "      <td>J7050</td>\n",
       "      <td>5856</td>\n",
       "      <td>209.24770</td>\n",
       "      <td></td>\n",
       "      <td></td>\n",
       "      <td></td>\n",
       "      <td></td>\n",
       "      <td></td>\n",
       "      <td></td>\n",
       "      <td>0.0</td>\n",
       "      <td>0.0</td>\n",
       "      <td>48546</td>\n",
       "      <td>71700800</td>\n",
       "      <td>0</td>\n",
       "      <td>M</td>\n",
       "      <td>H</td>\n",
       "      <td></td>\n",
       "      <td>2</td>\n",
       "      <td></td>\n",
       "      <td></td>\n",
       "      <td>1</td>\n",
       "    </tr>\n",
       "    <tr>\n",
       "      <th>2607</th>\n",
       "      <td>1003542990</td>\n",
       "      <td>56</td>\n",
       "      <td>88514637</td>\n",
       "      <td>FA0001387001</td>\n",
       "      <td></td>\n",
       "      <td>636</td>\n",
       "      <td>OP7O</td>\n",
       "      <td></td>\n",
       "      <td>J1644</td>\n",
       "      <td>5856</td>\n",
       "      <td>338.25300</td>\n",
       "      <td></td>\n",
       "      <td></td>\n",
       "      <td></td>\n",
       "      <td></td>\n",
       "      <td></td>\n",
       "      <td></td>\n",
       "      <td>0.0</td>\n",
       "      <td>0.0</td>\n",
       "      <td>48546</td>\n",
       "      <td>71700800</td>\n",
       "      <td>0</td>\n",
       "      <td>M</td>\n",
       "      <td>H</td>\n",
       "      <td></td>\n",
       "      <td>2</td>\n",
       "      <td></td>\n",
       "      <td></td>\n",
       "      <td>1</td>\n",
       "    </tr>\n",
       "    <tr>\n",
       "      <th>2643</th>\n",
       "      <td>1003542990</td>\n",
       "      <td>29</td>\n",
       "      <td>88514637</td>\n",
       "      <td>FA0001387001</td>\n",
       "      <td></td>\n",
       "      <td>636</td>\n",
       "      <td>OP7O</td>\n",
       "      <td></td>\n",
       "      <td>J7050</td>\n",
       "      <td>5856</td>\n",
       "      <td>190.01420</td>\n",
       "      <td></td>\n",
       "      <td></td>\n",
       "      <td></td>\n",
       "      <td></td>\n",
       "      <td></td>\n",
       "      <td></td>\n",
       "      <td>0.0</td>\n",
       "      <td>0.0</td>\n",
       "      <td>48546</td>\n",
       "      <td>71700800</td>\n",
       "      <td>0</td>\n",
       "      <td>M</td>\n",
       "      <td>H</td>\n",
       "      <td></td>\n",
       "      <td>2</td>\n",
       "      <td></td>\n",
       "      <td></td>\n",
       "      <td>1</td>\n",
       "    </tr>\n",
       "    <tr>\n",
       "      <th>2655</th>\n",
       "      <td>1003542990</td>\n",
       "      <td>106</td>\n",
       "      <td>88514637</td>\n",
       "      <td>FA0001387001</td>\n",
       "      <td></td>\n",
       "      <td>636</td>\n",
       "      <td>OP7O</td>\n",
       "      <td></td>\n",
       "      <td>J2501</td>\n",
       "      <td>5856</td>\n",
       "      <td>240.11030</td>\n",
       "      <td></td>\n",
       "      <td></td>\n",
       "      <td></td>\n",
       "      <td></td>\n",
       "      <td></td>\n",
       "      <td></td>\n",
       "      <td>0.0</td>\n",
       "      <td>0.0</td>\n",
       "      <td>48546</td>\n",
       "      <td>71700800</td>\n",
       "      <td>0</td>\n",
       "      <td>M</td>\n",
       "      <td>H</td>\n",
       "      <td></td>\n",
       "      <td>2</td>\n",
       "      <td></td>\n",
       "      <td></td>\n",
       "      <td>1</td>\n",
       "    </tr>\n",
       "    <tr>\n",
       "      <th>2858</th>\n",
       "      <td>1003542990</td>\n",
       "      <td>97</td>\n",
       "      <td>88514637</td>\n",
       "      <td>FA0001387001</td>\n",
       "      <td></td>\n",
       "      <td>636</td>\n",
       "      <td>OP7O</td>\n",
       "      <td></td>\n",
       "      <td>J2501</td>\n",
       "      <td>5856</td>\n",
       "      <td>240.11030</td>\n",
       "      <td></td>\n",
       "      <td></td>\n",
       "      <td></td>\n",
       "      <td></td>\n",
       "      <td></td>\n",
       "      <td></td>\n",
       "      <td>0.0</td>\n",
       "      <td>0.0</td>\n",
       "      <td>48546</td>\n",
       "      <td>71700800</td>\n",
       "      <td>0</td>\n",
       "      <td>M</td>\n",
       "      <td>H</td>\n",
       "      <td></td>\n",
       "      <td>2</td>\n",
       "      <td></td>\n",
       "      <td></td>\n",
       "      <td>1</td>\n",
       "    </tr>\n",
       "    <tr>\n",
       "      <th>2960</th>\n",
       "      <td>115282190</td>\n",
       "      <td>44</td>\n",
       "      <td>88514637</td>\n",
       "      <td>FA1000015001</td>\n",
       "      <td>13</td>\n",
       "      <td>636</td>\n",
       "      <td>OP7O</td>\n",
       "      <td></td>\n",
       "      <td>J2501</td>\n",
       "      <td>5856</td>\n",
       "      <td>207.39600</td>\n",
       "      <td>PDC</td>\n",
       "      <td>A</td>\n",
       "      <td>I</td>\n",
       "      <td>N</td>\n",
       "      <td>N</td>\n",
       "      <td></td>\n",
       "      <td>0.0</td>\n",
       "      <td>0.0</td>\n",
       "      <td>48546</td>\n",
       "      <td>71700800</td>\n",
       "      <td>0</td>\n",
       "      <td>E</td>\n",
       "      <td>H</td>\n",
       "      <td></td>\n",
       "      <td>11</td>\n",
       "      <td>MIMAPD000001</td>\n",
       "      <td>PI003247QM03</td>\n",
       "      <td>1</td>\n",
       "    </tr>\n",
       "    <tr>\n",
       "      <th>2967</th>\n",
       "      <td>1003542990</td>\n",
       "      <td>29</td>\n",
       "      <td>88514637</td>\n",
       "      <td>FA0001387001</td>\n",
       "      <td></td>\n",
       "      <td>636</td>\n",
       "      <td>OP7O</td>\n",
       "      <td></td>\n",
       "      <td>J2501</td>\n",
       "      <td>5856</td>\n",
       "      <td>207.39600</td>\n",
       "      <td></td>\n",
       "      <td></td>\n",
       "      <td></td>\n",
       "      <td></td>\n",
       "      <td></td>\n",
       "      <td></td>\n",
       "      <td>0.0</td>\n",
       "      <td>0.0</td>\n",
       "      <td>48546</td>\n",
       "      <td>71700800</td>\n",
       "      <td>0</td>\n",
       "      <td>M</td>\n",
       "      <td>H</td>\n",
       "      <td></td>\n",
       "      <td>2</td>\n",
       "      <td></td>\n",
       "      <td></td>\n",
       "      <td>1</td>\n",
       "    </tr>\n",
       "    <tr>\n",
       "      <th>3058</th>\n",
       "      <td>1003542990</td>\n",
       "      <td>53</td>\n",
       "      <td>88514637</td>\n",
       "      <td>FA0001387001</td>\n",
       "      <td></td>\n",
       "      <td>636</td>\n",
       "      <td>OP7O</td>\n",
       "      <td></td>\n",
       "      <td>J2501</td>\n",
       "      <td>5856</td>\n",
       "      <td>240.11030</td>\n",
       "      <td></td>\n",
       "      <td></td>\n",
       "      <td></td>\n",
       "      <td></td>\n",
       "      <td></td>\n",
       "      <td></td>\n",
       "      <td>0.0</td>\n",
       "      <td>0.0</td>\n",
       "      <td>48546</td>\n",
       "      <td>71700800</td>\n",
       "      <td>0</td>\n",
       "      <td>M</td>\n",
       "      <td>H</td>\n",
       "      <td></td>\n",
       "      <td>2</td>\n",
       "      <td></td>\n",
       "      <td></td>\n",
       "      <td>1</td>\n",
       "    </tr>\n",
       "    <tr>\n",
       "      <th>3209</th>\n",
       "      <td>1003542990</td>\n",
       "      <td>42</td>\n",
       "      <td>88514637</td>\n",
       "      <td>FA0001387001</td>\n",
       "      <td></td>\n",
       "      <td>636</td>\n",
       "      <td>OP7O</td>\n",
       "      <td></td>\n",
       "      <td>J1644</td>\n",
       "      <td>5856</td>\n",
       "      <td>353.06700</td>\n",
       "      <td></td>\n",
       "      <td></td>\n",
       "      <td></td>\n",
       "      <td></td>\n",
       "      <td></td>\n",
       "      <td></td>\n",
       "      <td>0.0</td>\n",
       "      <td>0.0</td>\n",
       "      <td>48546</td>\n",
       "      <td>71700800</td>\n",
       "      <td>0</td>\n",
       "      <td>M</td>\n",
       "      <td>H</td>\n",
       "      <td></td>\n",
       "      <td>2</td>\n",
       "      <td></td>\n",
       "      <td></td>\n",
       "      <td>1</td>\n",
       "    </tr>\n",
       "    <tr>\n",
       "      <th>3228</th>\n",
       "      <td>1003542990</td>\n",
       "      <td>21</td>\n",
       "      <td>88514637</td>\n",
       "      <td>FA0001387001</td>\n",
       "      <td></td>\n",
       "      <td>636</td>\n",
       "      <td>OP7O</td>\n",
       "      <td></td>\n",
       "      <td>J1644</td>\n",
       "      <td>5856</td>\n",
       "      <td>353.06700</td>\n",
       "      <td></td>\n",
       "      <td></td>\n",
       "      <td></td>\n",
       "      <td></td>\n",
       "      <td></td>\n",
       "      <td></td>\n",
       "      <td>0.0</td>\n",
       "      <td>0.0</td>\n",
       "      <td>48546</td>\n",
       "      <td>71700800</td>\n",
       "      <td>0</td>\n",
       "      <td>M</td>\n",
       "      <td>H</td>\n",
       "      <td></td>\n",
       "      <td>2</td>\n",
       "      <td></td>\n",
       "      <td></td>\n",
       "      <td>1</td>\n",
       "    </tr>\n",
       "    <tr>\n",
       "      <th>3239</th>\n",
       "      <td>1003542990</td>\n",
       "      <td>31</td>\n",
       "      <td>88514637</td>\n",
       "      <td>FA0001387001</td>\n",
       "      <td></td>\n",
       "      <td>636</td>\n",
       "      <td>OP7O</td>\n",
       "      <td></td>\n",
       "      <td>J1644</td>\n",
       "      <td>5856</td>\n",
       "      <td>338.25300</td>\n",
       "      <td></td>\n",
       "      <td></td>\n",
       "      <td></td>\n",
       "      <td></td>\n",
       "      <td></td>\n",
       "      <td></td>\n",
       "      <td>0.0</td>\n",
       "      <td>0.0</td>\n",
       "      <td>48546</td>\n",
       "      <td>71700800</td>\n",
       "      <td>0</td>\n",
       "      <td>M</td>\n",
       "      <td>H</td>\n",
       "      <td></td>\n",
       "      <td>2</td>\n",
       "      <td></td>\n",
       "      <td></td>\n",
       "      <td>1</td>\n",
       "    </tr>\n",
       "    <tr>\n",
       "      <th>3259</th>\n",
       "      <td>1003542990</td>\n",
       "      <td>61</td>\n",
       "      <td>88514637</td>\n",
       "      <td>FA0001387001</td>\n",
       "      <td></td>\n",
       "      <td>636</td>\n",
       "      <td>OP7O</td>\n",
       "      <td></td>\n",
       "      <td>J2501</td>\n",
       "      <td>5856</td>\n",
       "      <td>138.26400</td>\n",
       "      <td></td>\n",
       "      <td></td>\n",
       "      <td></td>\n",
       "      <td></td>\n",
       "      <td></td>\n",
       "      <td></td>\n",
       "      <td>0.0</td>\n",
       "      <td>0.0</td>\n",
       "      <td>48546</td>\n",
       "      <td>71700800</td>\n",
       "      <td>0</td>\n",
       "      <td>M</td>\n",
       "      <td>H</td>\n",
       "      <td></td>\n",
       "      <td>2</td>\n",
       "      <td></td>\n",
       "      <td></td>\n",
       "      <td>1</td>\n",
       "    </tr>\n",
       "    <tr>\n",
       "      <th>3303</th>\n",
       "      <td>115277690</td>\n",
       "      <td>16</td>\n",
       "      <td>88514637</td>\n",
       "      <td>FA1000015001</td>\n",
       "      <td>13</td>\n",
       "      <td>636</td>\n",
       "      <td>OP7O</td>\n",
       "      <td></td>\n",
       "      <td>J1644</td>\n",
       "      <td>5856</td>\n",
       "      <td>353.06700</td>\n",
       "      <td>PDC</td>\n",
       "      <td>A</td>\n",
       "      <td>I</td>\n",
       "      <td>N</td>\n",
       "      <td>N</td>\n",
       "      <td></td>\n",
       "      <td>0.0</td>\n",
       "      <td>0.0</td>\n",
       "      <td>48546</td>\n",
       "      <td>71700800</td>\n",
       "      <td>0</td>\n",
       "      <td>E</td>\n",
       "      <td>H</td>\n",
       "      <td></td>\n",
       "      <td>11</td>\n",
       "      <td>MIMAPD000001</td>\n",
       "      <td>PI003247QM03</td>\n",
       "      <td>1</td>\n",
       "    </tr>\n",
       "    <tr>\n",
       "      <th>3392</th>\n",
       "      <td>115273290</td>\n",
       "      <td>36</td>\n",
       "      <td>88514637</td>\n",
       "      <td>FA1000015001</td>\n",
       "      <td>13</td>\n",
       "      <td>636</td>\n",
       "      <td>OP7O</td>\n",
       "      <td></td>\n",
       "      <td>J2501</td>\n",
       "      <td>5856</td>\n",
       "      <td>207.39600</td>\n",
       "      <td>PDC</td>\n",
       "      <td>A</td>\n",
       "      <td>I</td>\n",
       "      <td>N</td>\n",
       "      <td>N</td>\n",
       "      <td></td>\n",
       "      <td>0.0</td>\n",
       "      <td>0.0</td>\n",
       "      <td>48546</td>\n",
       "      <td>71700800</td>\n",
       "      <td>0</td>\n",
       "      <td>E</td>\n",
       "      <td>H</td>\n",
       "      <td></td>\n",
       "      <td>11</td>\n",
       "      <td>MIMAPD000001</td>\n",
       "      <td>PI003247QM03</td>\n",
       "      <td>1</td>\n",
       "    </tr>\n",
       "    <tr>\n",
       "      <th>3457</th>\n",
       "      <td>1003542990</td>\n",
       "      <td>19</td>\n",
       "      <td>88514637</td>\n",
       "      <td>FA0001387001</td>\n",
       "      <td></td>\n",
       "      <td>636</td>\n",
       "      <td>OP7O</td>\n",
       "      <td></td>\n",
       "      <td>J1644</td>\n",
       "      <td>5856</td>\n",
       "      <td>338.25300</td>\n",
       "      <td></td>\n",
       "      <td></td>\n",
       "      <td></td>\n",
       "      <td></td>\n",
       "      <td></td>\n",
       "      <td></td>\n",
       "      <td>0.0</td>\n",
       "      <td>0.0</td>\n",
       "      <td>48546</td>\n",
       "      <td>71700800</td>\n",
       "      <td>0</td>\n",
       "      <td>M</td>\n",
       "      <td>H</td>\n",
       "      <td></td>\n",
       "      <td>2</td>\n",
       "      <td></td>\n",
       "      <td></td>\n",
       "      <td>1</td>\n",
       "    </tr>\n",
       "    <tr>\n",
       "      <th>3534</th>\n",
       "      <td>1003542990</td>\n",
       "      <td>40</td>\n",
       "      <td>88514637</td>\n",
       "      <td>FA0001387001</td>\n",
       "      <td></td>\n",
       "      <td>636</td>\n",
       "      <td>OP7O</td>\n",
       "      <td></td>\n",
       "      <td>J1644</td>\n",
       "      <td>5856</td>\n",
       "      <td>353.06700</td>\n",
       "      <td></td>\n",
       "      <td></td>\n",
       "      <td></td>\n",
       "      <td></td>\n",
       "      <td></td>\n",
       "      <td></td>\n",
       "      <td>0.0</td>\n",
       "      <td>0.0</td>\n",
       "      <td>48546</td>\n",
       "      <td>71700800</td>\n",
       "      <td>0</td>\n",
       "      <td>M</td>\n",
       "      <td>H</td>\n",
       "      <td></td>\n",
       "      <td>2</td>\n",
       "      <td></td>\n",
       "      <td></td>\n",
       "      <td>1</td>\n",
       "    </tr>\n",
       "    <tr>\n",
       "      <th>3653</th>\n",
       "      <td>115282190</td>\n",
       "      <td>13</td>\n",
       "      <td>88514637</td>\n",
       "      <td>FA1000015001</td>\n",
       "      <td>13</td>\n",
       "      <td>636</td>\n",
       "      <td>OP7O</td>\n",
       "      <td></td>\n",
       "      <td>J1644</td>\n",
       "      <td>5856</td>\n",
       "      <td>353.06700</td>\n",
       "      <td>PDC</td>\n",
       "      <td>A</td>\n",
       "      <td>I</td>\n",
       "      <td>N</td>\n",
       "      <td>N</td>\n",
       "      <td></td>\n",
       "      <td>0.0</td>\n",
       "      <td>0.0</td>\n",
       "      <td>48546</td>\n",
       "      <td>71700800</td>\n",
       "      <td>0</td>\n",
       "      <td>E</td>\n",
       "      <td>H</td>\n",
       "      <td></td>\n",
       "      <td>11</td>\n",
       "      <td>MIMAPD000001</td>\n",
       "      <td>PI003247QM03</td>\n",
       "      <td>1</td>\n",
       "    </tr>\n",
       "    <tr>\n",
       "      <th>3760</th>\n",
       "      <td>1003542990</td>\n",
       "      <td>59</td>\n",
       "      <td>88514637</td>\n",
       "      <td>FA0001387001</td>\n",
       "      <td></td>\n",
       "      <td>636</td>\n",
       "      <td>OP7O</td>\n",
       "      <td></td>\n",
       "      <td>J3260</td>\n",
       "      <td>5856</td>\n",
       "      <td>84.94594</td>\n",
       "      <td></td>\n",
       "      <td></td>\n",
       "      <td></td>\n",
       "      <td></td>\n",
       "      <td></td>\n",
       "      <td></td>\n",
       "      <td>0.0</td>\n",
       "      <td>0.0</td>\n",
       "      <td>48546</td>\n",
       "      <td>71700800</td>\n",
       "      <td>0</td>\n",
       "      <td>M</td>\n",
       "      <td>H</td>\n",
       "      <td></td>\n",
       "      <td>2</td>\n",
       "      <td></td>\n",
       "      <td></td>\n",
       "      <td>1</td>\n",
       "    </tr>\n",
       "    <tr>\n",
       "      <th>4182</th>\n",
       "      <td>1003542990</td>\n",
       "      <td>33</td>\n",
       "      <td>88514637</td>\n",
       "      <td>FA0001387001</td>\n",
       "      <td></td>\n",
       "      <td>636</td>\n",
       "      <td>OP7O</td>\n",
       "      <td></td>\n",
       "      <td>J1644</td>\n",
       "      <td>5856</td>\n",
       "      <td>353.06700</td>\n",
       "      <td></td>\n",
       "      <td></td>\n",
       "      <td></td>\n",
       "      <td></td>\n",
       "      <td></td>\n",
       "      <td></td>\n",
       "      <td>0.0</td>\n",
       "      <td>0.0</td>\n",
       "      <td>48546</td>\n",
       "      <td>71700800</td>\n",
       "      <td>0</td>\n",
       "      <td>M</td>\n",
       "      <td>H</td>\n",
       "      <td></td>\n",
       "      <td>2</td>\n",
       "      <td></td>\n",
       "      <td></td>\n",
       "      <td>1</td>\n",
       "    </tr>\n",
       "    <tr>\n",
       "      <th>4374</th>\n",
       "      <td>1003542990</td>\n",
       "      <td>29</td>\n",
       "      <td>88514637</td>\n",
       "      <td>FA0001387001</td>\n",
       "      <td></td>\n",
       "      <td>636</td>\n",
       "      <td>OP7O</td>\n",
       "      <td></td>\n",
       "      <td>J1644</td>\n",
       "      <td>5856</td>\n",
       "      <td>338.25300</td>\n",
       "      <td></td>\n",
       "      <td></td>\n",
       "      <td></td>\n",
       "      <td></td>\n",
       "      <td></td>\n",
       "      <td></td>\n",
       "      <td>0.0</td>\n",
       "      <td>0.0</td>\n",
       "      <td>48546</td>\n",
       "      <td>71700800</td>\n",
       "      <td>0</td>\n",
       "      <td>M</td>\n",
       "      <td>H</td>\n",
       "      <td></td>\n",
       "      <td>2</td>\n",
       "      <td></td>\n",
       "      <td></td>\n",
       "      <td>1</td>\n",
       "    </tr>\n",
       "    <tr>\n",
       "      <th>4494</th>\n",
       "      <td>1003542990</td>\n",
       "      <td>43</td>\n",
       "      <td>88514637</td>\n",
       "      <td>FA0001387001</td>\n",
       "      <td></td>\n",
       "      <td>636</td>\n",
       "      <td>OP7O</td>\n",
       "      <td></td>\n",
       "      <td>J1644</td>\n",
       "      <td>5856</td>\n",
       "      <td>338.25300</td>\n",
       "      <td></td>\n",
       "      <td></td>\n",
       "      <td></td>\n",
       "      <td></td>\n",
       "      <td></td>\n",
       "      <td></td>\n",
       "      <td>0.0</td>\n",
       "      <td>0.0</td>\n",
       "      <td>48546</td>\n",
       "      <td>71700800</td>\n",
       "      <td>0</td>\n",
       "      <td>M</td>\n",
       "      <td>H</td>\n",
       "      <td></td>\n",
       "      <td>2</td>\n",
       "      <td></td>\n",
       "      <td></td>\n",
       "      <td>1</td>\n",
       "    </tr>\n",
       "    <tr>\n",
       "      <th>4694</th>\n",
       "      <td>115277690</td>\n",
       "      <td>9</td>\n",
       "      <td>88514637</td>\n",
       "      <td>FA1000015001</td>\n",
       "      <td>13</td>\n",
       "      <td>636</td>\n",
       "      <td>OP7O</td>\n",
       "      <td></td>\n",
       "      <td>J1644</td>\n",
       "      <td>5856</td>\n",
       "      <td>353.06700</td>\n",
       "      <td>PDC</td>\n",
       "      <td>A</td>\n",
       "      <td>I</td>\n",
       "      <td>N</td>\n",
       "      <td>N</td>\n",
       "      <td></td>\n",
       "      <td>0.0</td>\n",
       "      <td>0.0</td>\n",
       "      <td>48546</td>\n",
       "      <td>71700800</td>\n",
       "      <td>0</td>\n",
       "      <td>E</td>\n",
       "      <td>H</td>\n",
       "      <td></td>\n",
       "      <td>11</td>\n",
       "      <td>MIMAPD000001</td>\n",
       "      <td>PI003247QM03</td>\n",
       "      <td>1</td>\n",
       "    </tr>\n",
       "    <tr>\n",
       "      <th>4854</th>\n",
       "      <td>1003542990</td>\n",
       "      <td>30</td>\n",
       "      <td>88514637</td>\n",
       "      <td>FA0001387001</td>\n",
       "      <td></td>\n",
       "      <td>636</td>\n",
       "      <td>OP7O</td>\n",
       "      <td></td>\n",
       "      <td>J1644</td>\n",
       "      <td>5856</td>\n",
       "      <td>338.25300</td>\n",
       "      <td></td>\n",
       "      <td></td>\n",
       "      <td></td>\n",
       "      <td></td>\n",
       "      <td></td>\n",
       "      <td></td>\n",
       "      <td>0.0</td>\n",
       "      <td>0.0</td>\n",
       "      <td>48546</td>\n",
       "      <td>71700800</td>\n",
       "      <td>0</td>\n",
       "      <td>M</td>\n",
       "      <td>H</td>\n",
       "      <td></td>\n",
       "      <td>2</td>\n",
       "      <td></td>\n",
       "      <td></td>\n",
       "      <td>1</td>\n",
       "    </tr>\n",
       "    <tr>\n",
       "      <th>4925</th>\n",
       "      <td>1003542990</td>\n",
       "      <td>61</td>\n",
       "      <td>88514637</td>\n",
       "      <td>FA0001387001</td>\n",
       "      <td></td>\n",
       "      <td>636</td>\n",
       "      <td>OP7O</td>\n",
       "      <td></td>\n",
       "      <td>J1644</td>\n",
       "      <td>5856</td>\n",
       "      <td>338.25300</td>\n",
       "      <td></td>\n",
       "      <td></td>\n",
       "      <td></td>\n",
       "      <td></td>\n",
       "      <td></td>\n",
       "      <td></td>\n",
       "      <td>0.0</td>\n",
       "      <td>0.0</td>\n",
       "      <td>48546</td>\n",
       "      <td>71700800</td>\n",
       "      <td>0</td>\n",
       "      <td>M</td>\n",
       "      <td>H</td>\n",
       "      <td></td>\n",
       "      <td>2</td>\n",
       "      <td></td>\n",
       "      <td></td>\n",
       "      <td>1</td>\n",
       "    </tr>\n",
       "    <tr>\n",
       "      <th>4959</th>\n",
       "      <td>1003542990</td>\n",
       "      <td>20</td>\n",
       "      <td>88514637</td>\n",
       "      <td>FA0001387001</td>\n",
       "      <td></td>\n",
       "      <td>636</td>\n",
       "      <td>OP7O</td>\n",
       "      <td></td>\n",
       "      <td>J1644</td>\n",
       "      <td>5856</td>\n",
       "      <td>353.06700</td>\n",
       "      <td></td>\n",
       "      <td></td>\n",
       "      <td></td>\n",
       "      <td></td>\n",
       "      <td></td>\n",
       "      <td></td>\n",
       "      <td>0.0</td>\n",
       "      <td>0.0</td>\n",
       "      <td>48546</td>\n",
       "      <td>71700800</td>\n",
       "      <td>0</td>\n",
       "      <td>M</td>\n",
       "      <td>H</td>\n",
       "      <td></td>\n",
       "      <td>2</td>\n",
       "      <td></td>\n",
       "      <td></td>\n",
       "      <td>1</td>\n",
       "    </tr>\n",
       "    <tr>\n",
       "      <th>5111</th>\n",
       "      <td>1003542990</td>\n",
       "      <td>41</td>\n",
       "      <td>88514637</td>\n",
       "      <td>FA0001387001</td>\n",
       "      <td></td>\n",
       "      <td>636</td>\n",
       "      <td>OP7O</td>\n",
       "      <td></td>\n",
       "      <td>J2501</td>\n",
       "      <td>5856</td>\n",
       "      <td>103.69800</td>\n",
       "      <td></td>\n",
       "      <td></td>\n",
       "      <td></td>\n",
       "      <td></td>\n",
       "      <td></td>\n",
       "      <td></td>\n",
       "      <td>0.0</td>\n",
       "      <td>0.0</td>\n",
       "      <td>48546</td>\n",
       "      <td>71700800</td>\n",
       "      <td>0</td>\n",
       "      <td>M</td>\n",
       "      <td>H</td>\n",
       "      <td></td>\n",
       "      <td>2</td>\n",
       "      <td></td>\n",
       "      <td></td>\n",
       "      <td>1</td>\n",
       "    </tr>\n",
       "    <tr>\n",
       "      <th>5415</th>\n",
       "      <td>115277690</td>\n",
       "      <td>18</td>\n",
       "      <td>88514637</td>\n",
       "      <td>FA1000015001</td>\n",
       "      <td>13</td>\n",
       "      <td>636</td>\n",
       "      <td>OP7O</td>\n",
       "      <td></td>\n",
       "      <td>J1644</td>\n",
       "      <td>5856</td>\n",
       "      <td>353.06700</td>\n",
       "      <td>PDC</td>\n",
       "      <td>A</td>\n",
       "      <td>I</td>\n",
       "      <td>N</td>\n",
       "      <td>N</td>\n",
       "      <td></td>\n",
       "      <td>0.0</td>\n",
       "      <td>0.0</td>\n",
       "      <td>48546</td>\n",
       "      <td>71700800</td>\n",
       "      <td>0</td>\n",
       "      <td>E</td>\n",
       "      <td>H</td>\n",
       "      <td></td>\n",
       "      <td>11</td>\n",
       "      <td>MIMAPD000001</td>\n",
       "      <td>PI003247QM03</td>\n",
       "      <td>1</td>\n",
       "    </tr>\n",
       "    <tr>\n",
       "      <th>5427</th>\n",
       "      <td>1003542990</td>\n",
       "      <td>50</td>\n",
       "      <td>88514637</td>\n",
       "      <td>FA0001387001</td>\n",
       "      <td></td>\n",
       "      <td>636</td>\n",
       "      <td>OP7O</td>\n",
       "      <td></td>\n",
       "      <td>J1644</td>\n",
       "      <td>5856</td>\n",
       "      <td>353.06700</td>\n",
       "      <td></td>\n",
       "      <td></td>\n",
       "      <td></td>\n",
       "      <td></td>\n",
       "      <td></td>\n",
       "      <td></td>\n",
       "      <td>0.0</td>\n",
       "      <td>0.0</td>\n",
       "      <td>48546</td>\n",
       "      <td>71700800</td>\n",
       "      <td>0</td>\n",
       "      <td>M</td>\n",
       "      <td>H</td>\n",
       "      <td></td>\n",
       "      <td>2</td>\n",
       "      <td></td>\n",
       "      <td></td>\n",
       "      <td>1</td>\n",
       "    </tr>\n",
       "    <tr>\n",
       "      <th>5432</th>\n",
       "      <td>1003542990</td>\n",
       "      <td>31</td>\n",
       "      <td>88514637</td>\n",
       "      <td>FA0001387001</td>\n",
       "      <td></td>\n",
       "      <td>636</td>\n",
       "      <td>OP7O</td>\n",
       "      <td></td>\n",
       "      <td>J3260</td>\n",
       "      <td>5856</td>\n",
       "      <td>84.94594</td>\n",
       "      <td></td>\n",
       "      <td></td>\n",
       "      <td></td>\n",
       "      <td></td>\n",
       "      <td></td>\n",
       "      <td></td>\n",
       "      <td>0.0</td>\n",
       "      <td>0.0</td>\n",
       "      <td>48546</td>\n",
       "      <td>71700800</td>\n",
       "      <td>0</td>\n",
       "      <td>M</td>\n",
       "      <td>H</td>\n",
       "      <td></td>\n",
       "      <td>2</td>\n",
       "      <td></td>\n",
       "      <td></td>\n",
       "      <td>1</td>\n",
       "    </tr>\n",
       "    <tr>\n",
       "      <th>5565</th>\n",
       "      <td>1003542990</td>\n",
       "      <td>15</td>\n",
       "      <td>88514637</td>\n",
       "      <td>FA0001387001</td>\n",
       "      <td></td>\n",
       "      <td>636</td>\n",
       "      <td>OP7O</td>\n",
       "      <td></td>\n",
       "      <td>J1644</td>\n",
       "      <td>5856</td>\n",
       "      <td>353.06700</td>\n",
       "      <td></td>\n",
       "      <td></td>\n",
       "      <td></td>\n",
       "      <td></td>\n",
       "      <td></td>\n",
       "      <td></td>\n",
       "      <td>0.0</td>\n",
       "      <td>0.0</td>\n",
       "      <td>48546</td>\n",
       "      <td>71700800</td>\n",
       "      <td>0</td>\n",
       "      <td>M</td>\n",
       "      <td>H</td>\n",
       "      <td></td>\n",
       "      <td>2</td>\n",
       "      <td></td>\n",
       "      <td></td>\n",
       "      <td>1</td>\n",
       "    </tr>\n",
       "  </tbody>\n",
       "</table>\n",
       "</div>"
      ],
      "text/plain": [
       "      Claim.Number  Claim.Line.Number  Member.ID   Provider.ID  \\\n",
       "126     1003542990                 24   88514637  FA0001387001   \n",
       "210     1003542990                 44   88514637  FA0001387001   \n",
       "220     1003542990                 37   88514637  FA0001387001   \n",
       "270     1003542990                 34   88514637  FA0001387001   \n",
       "281     1003542990                 21   88514637  FA0001387001   \n",
       "516     1003542990                 22   88514637  FA0001387001   \n",
       "634     1003542990                 65   88514637  FA0001387001   \n",
       "835     1003542990                 16   88514637  FA0001387001   \n",
       "962     1003542990                 47   88514637  FA0001387001   \n",
       "1127    1003542990                 13   88514637  FA0001387001   \n",
       "1467    1003542990                 34   88514637  FA0001387001   \n",
       "1494    1003542990                 10   88514637  FA0001387001   \n",
       "1547     115282190                 39   88514637  FA1000015001   \n",
       "1833     115277690                  7   88514637  FA1000015001   \n",
       "2128     115277690                 38   88514637  FA1000015001   \n",
       "2165    1003542990                 55   88514637  FA0001387001   \n",
       "2254    1003542990                 35   88514637  FA0001387001   \n",
       "2265    1003542990                  3   88514637  FA0001387001   \n",
       "2277    1003542990                 25   88514637  FA0001387001   \n",
       "2483    1003542990                 28   88514637  FA0001387001   \n",
       "2607    1003542990                 56   88514637  FA0001387001   \n",
       "2643    1003542990                 29   88514637  FA0001387001   \n",
       "2655    1003542990                106   88514637  FA0001387001   \n",
       "2858    1003542990                 97   88514637  FA0001387001   \n",
       "2960     115282190                 44   88514637  FA1000015001   \n",
       "2967    1003542990                 29   88514637  FA0001387001   \n",
       "3058    1003542990                 53   88514637  FA0001387001   \n",
       "3209    1003542990                 42   88514637  FA0001387001   \n",
       "3228    1003542990                 21   88514637  FA0001387001   \n",
       "3239    1003542990                 31   88514637  FA0001387001   \n",
       "3259    1003542990                 61   88514637  FA0001387001   \n",
       "3303     115277690                 16   88514637  FA1000015001   \n",
       "3392     115273290                 36   88514637  FA1000015001   \n",
       "3457    1003542990                 19   88514637  FA0001387001   \n",
       "3534    1003542990                 40   88514637  FA0001387001   \n",
       "3653     115282190                 13   88514637  FA1000015001   \n",
       "3760    1003542990                 59   88514637  FA0001387001   \n",
       "4182    1003542990                 33   88514637  FA0001387001   \n",
       "4374    1003542990                 29   88514637  FA0001387001   \n",
       "4494    1003542990                 43   88514637  FA0001387001   \n",
       "4694     115277690                  9   88514637  FA1000015001   \n",
       "4854    1003542990                 30   88514637  FA0001387001   \n",
       "4925    1003542990                 61   88514637  FA0001387001   \n",
       "4959    1003542990                 20   88514637  FA0001387001   \n",
       "5111    1003542990                 41   88514637  FA0001387001   \n",
       "5415     115277690                 18   88514637  FA1000015001   \n",
       "5427    1003542990                 50   88514637  FA0001387001   \n",
       "5432    1003542990                 31   88514637  FA0001387001   \n",
       "5565    1003542990                 15   88514637  FA0001387001   \n",
       "\n",
       "     Line.Of.Business.ID  Revenue.Code Service.Code Place.Of.Service.Code  \\\n",
       "126                                636         OP7O                         \n",
       "210                                636         OP7O                         \n",
       "220                                636         OP7O                         \n",
       "270                                636         OP7O                         \n",
       "281                                636         OP7O                         \n",
       "516                                636         OP7O                         \n",
       "634                                636         OP7O                         \n",
       "835                                636         OP7O                         \n",
       "962                                636         OP7O                         \n",
       "1127                               636         OP7O                         \n",
       "1467                               636         OP7O                         \n",
       "1494                               636         OP7O                         \n",
       "1547                  13           636         OP7O                         \n",
       "1833                  13           636         OP7O                         \n",
       "2128                  13           636         OP7O                         \n",
       "2165                               636         OP7O                         \n",
       "2254                               636         OP7O                         \n",
       "2265                               636         OP7O                         \n",
       "2277                               636         OP7O                         \n",
       "2483                               636         OP7O                         \n",
       "2607                               636         OP7O                         \n",
       "2643                               636         OP7O                         \n",
       "2655                               636         OP7O                         \n",
       "2858                               636         OP7O                         \n",
       "2960                  13           636         OP7O                         \n",
       "2967                               636         OP7O                         \n",
       "3058                               636         OP7O                         \n",
       "3209                               636         OP7O                         \n",
       "3228                               636         OP7O                         \n",
       "3239                               636         OP7O                         \n",
       "3259                               636         OP7O                         \n",
       "3303                  13           636         OP7O                         \n",
       "3392                  13           636         OP7O                         \n",
       "3457                               636         OP7O                         \n",
       "3534                               636         OP7O                         \n",
       "3653                  13           636         OP7O                         \n",
       "3760                               636         OP7O                         \n",
       "4182                               636         OP7O                         \n",
       "4374                               636         OP7O                         \n",
       "4494                               636         OP7O                         \n",
       "4694                  13           636         OP7O                         \n",
       "4854                               636         OP7O                         \n",
       "4925                               636         OP7O                         \n",
       "4959                               636         OP7O                         \n",
       "5111                               636         OP7O                         \n",
       "5415                  13           636         OP7O                         \n",
       "5427                               636         OP7O                         \n",
       "5432                               636         OP7O                         \n",
       "5565                               636         OP7O                         \n",
       "\n",
       "     Procedure.Code Diagnosis.Code  Claim.Charge.Amount Denial.Reason.Code  \\\n",
       "126           J1644           5856            353.06700                      \n",
       "210           J1644           5856            338.25300                      \n",
       "220           J1644           5856            338.25300                      \n",
       "270           J1644           5856            338.25300                      \n",
       "281           J1644           5856            338.25300                      \n",
       "516           J1644           5856            338.25300                      \n",
       "634           J2501           5856            203.69250                      \n",
       "835           J1644           5856            353.06700                      \n",
       "962           J1644           5856            338.25300                      \n",
       "1127          J1644           5856            338.25300                      \n",
       "1467          J2501           5856            207.39600                      \n",
       "1494          J0692           5856            117.38860                      \n",
       "1547          J2501           5856            207.39600                PDC   \n",
       "1833          J1644           5856            353.06700                PDC   \n",
       "2128          J2501           5856            207.39600                PDC   \n",
       "2165          J1644           5856            338.25300                      \n",
       "2254          J1644           5856            353.06700                      \n",
       "2265          J2501           5856            207.39600                      \n",
       "2277          J2501           5856            103.69800                      \n",
       "2483          J7050           5856            209.24770                      \n",
       "2607          J1644           5856            338.25300                      \n",
       "2643          J7050           5856            190.01420                      \n",
       "2655          J2501           5856            240.11030                      \n",
       "2858          J2501           5856            240.11030                      \n",
       "2960          J2501           5856            207.39600                PDC   \n",
       "2967          J2501           5856            207.39600                      \n",
       "3058          J2501           5856            240.11030                      \n",
       "3209          J1644           5856            353.06700                      \n",
       "3228          J1644           5856            353.06700                      \n",
       "3239          J1644           5856            338.25300                      \n",
       "3259          J2501           5856            138.26400                      \n",
       "3303          J1644           5856            353.06700                PDC   \n",
       "3392          J2501           5856            207.39600                PDC   \n",
       "3457          J1644           5856            338.25300                      \n",
       "3534          J1644           5856            353.06700                      \n",
       "3653          J1644           5856            353.06700                PDC   \n",
       "3760          J3260           5856             84.94594                      \n",
       "4182          J1644           5856            353.06700                      \n",
       "4374          J1644           5856            338.25300                      \n",
       "4494          J1644           5856            338.25300                      \n",
       "4694          J1644           5856            353.06700                PDC   \n",
       "4854          J1644           5856            338.25300                      \n",
       "4925          J1644           5856            338.25300                      \n",
       "4959          J1644           5856            353.06700                      \n",
       "5111          J2501           5856            103.69800                      \n",
       "5415          J1644           5856            353.06700                PDC   \n",
       "5427          J1644           5856            353.06700                      \n",
       "5432          J3260           5856             84.94594                      \n",
       "5565          J1644           5856            353.06700                      \n",
       "\n",
       "     Price.Index In.Out.Of.Network Reference.Index Pricing.Index  \\\n",
       "126                                                                \n",
       "210                                                                \n",
       "220                                                                \n",
       "270                                                                \n",
       "281                                                                \n",
       "516                                                                \n",
       "634                                                                \n",
       "835                                                                \n",
       "962                                                                \n",
       "1127                                                               \n",
       "1467                                                               \n",
       "1494                                                               \n",
       "1547           A                 I               N             N   \n",
       "1833           A                 I               N             N   \n",
       "2128           A                 I               N             N   \n",
       "2165                                                               \n",
       "2254                                                               \n",
       "2265                                                               \n",
       "2277                                                               \n",
       "2483                                                               \n",
       "2607                                                               \n",
       "2643                                                               \n",
       "2655                                                               \n",
       "2858                                                               \n",
       "2960           A                 I               N             N   \n",
       "2967                                                               \n",
       "3058                                                               \n",
       "3209                                                               \n",
       "3228                                                               \n",
       "3239                                                               \n",
       "3259                                                               \n",
       "3303           A                 I               N             N   \n",
       "3392           A                 I               N             N   \n",
       "3457                                                               \n",
       "3534                                                               \n",
       "3653           A                 I               N             N   \n",
       "3760                                                               \n",
       "4182                                                               \n",
       "4374                                                               \n",
       "4494                                                               \n",
       "4694           A                 I               N             N   \n",
       "4854                                                               \n",
       "4925                                                               \n",
       "4959                                                               \n",
       "5111                                                               \n",
       "5415           A                 I               N             N   \n",
       "5427                                                               \n",
       "5432                                                               \n",
       "5565                                                               \n",
       "\n",
       "     Capitation.Index  Subscriber.Payment.Amount  Provider.Payment.Amount  \\\n",
       "126                                          0.0                      0.0   \n",
       "210                                          0.0                      0.0   \n",
       "220                                          0.0                      0.0   \n",
       "270                                          0.0                      0.0   \n",
       "281                                          0.0                      0.0   \n",
       "516                                          0.0                      0.0   \n",
       "634                                          0.0                      0.0   \n",
       "835                                          0.0                      0.0   \n",
       "962                                          0.0                      0.0   \n",
       "1127                                         0.0                      0.0   \n",
       "1467                                         0.0                      0.0   \n",
       "1494                                         0.0                      0.0   \n",
       "1547                                         0.0                      0.0   \n",
       "1833                                         0.0                      0.0   \n",
       "2128                                         0.0                      0.0   \n",
       "2165                                         0.0                      0.0   \n",
       "2254                                         0.0                      0.0   \n",
       "2265                                         0.0                      0.0   \n",
       "2277                                         0.0                      0.0   \n",
       "2483                                         0.0                      0.0   \n",
       "2607                                         0.0                      0.0   \n",
       "2643                                         0.0                      0.0   \n",
       "2655                                         0.0                      0.0   \n",
       "2858                                         0.0                      0.0   \n",
       "2960                                         0.0                      0.0   \n",
       "2967                                         0.0                      0.0   \n",
       "3058                                         0.0                      0.0   \n",
       "3209                                         0.0                      0.0   \n",
       "3228                                         0.0                      0.0   \n",
       "3239                                         0.0                      0.0   \n",
       "3259                                         0.0                      0.0   \n",
       "3303                                         0.0                      0.0   \n",
       "3392                                         0.0                      0.0   \n",
       "3457                                         0.0                      0.0   \n",
       "3534                                         0.0                      0.0   \n",
       "3653                                         0.0                      0.0   \n",
       "3760                                         0.0                      0.0   \n",
       "4182                                         0.0                      0.0   \n",
       "4374                                         0.0                      0.0   \n",
       "4494                                         0.0                      0.0   \n",
       "4694                                         0.0                      0.0   \n",
       "4854                                         0.0                      0.0   \n",
       "4925                                         0.0                      0.0   \n",
       "4959                                         0.0                      0.0   \n",
       "5111                                         0.0                      0.0   \n",
       "5415                                         0.0                      0.0   \n",
       "5427                                         0.0                      0.0   \n",
       "5432                                         0.0                      0.0   \n",
       "5565                                         0.0                      0.0   \n",
       "\n",
       "      Group.Index  Subscriber.Index  Subgroup.Index Claim.Type  \\\n",
       "126         48546          71700800               0          M   \n",
       "210         48546          71700800               0          M   \n",
       "220         48546          71700800               0          M   \n",
       "270         48546          71700800               0          M   \n",
       "281         48546          71700800               0          M   \n",
       "516         48546          71700800               0          M   \n",
       "634         48546          71700800               0          M   \n",
       "835         48546          71700800               0          M   \n",
       "962         48546          71700800               0          M   \n",
       "1127        48546          71700800               0          M   \n",
       "1467        48546          71700800               0          M   \n",
       "1494        48546          71700800               0          M   \n",
       "1547        48546          71700800               0          E   \n",
       "1833        48546          71700800               0          E   \n",
       "2128        48546          71700800               0          E   \n",
       "2165        48546          71700800               0          M   \n",
       "2254        48546          71700800               0          M   \n",
       "2265        48546          71700800               0          M   \n",
       "2277        48546          71700800               0          M   \n",
       "2483        48546          71700800               0          M   \n",
       "2607        48546          71700800               0          M   \n",
       "2643        48546          71700800               0          M   \n",
       "2655        48546          71700800               0          M   \n",
       "2858        48546          71700800               0          M   \n",
       "2960        48546          71700800               0          E   \n",
       "2967        48546          71700800               0          M   \n",
       "3058        48546          71700800               0          M   \n",
       "3209        48546          71700800               0          M   \n",
       "3228        48546          71700800               0          M   \n",
       "3239        48546          71700800               0          M   \n",
       "3259        48546          71700800               0          M   \n",
       "3303        48546          71700800               0          E   \n",
       "3392        48546          71700800               0          E   \n",
       "3457        48546          71700800               0          M   \n",
       "3534        48546          71700800               0          M   \n",
       "3653        48546          71700800               0          E   \n",
       "3760        48546          71700800               0          M   \n",
       "4182        48546          71700800               0          M   \n",
       "4374        48546          71700800               0          M   \n",
       "4494        48546          71700800               0          M   \n",
       "4694        48546          71700800               0          E   \n",
       "4854        48546          71700800               0          M   \n",
       "4925        48546          71700800               0          M   \n",
       "4959        48546          71700800               0          M   \n",
       "5111        48546          71700800               0          M   \n",
       "5415        48546          71700800               0          E   \n",
       "5427        48546          71700800               0          M   \n",
       "5432        48546          71700800               0          M   \n",
       "5565        48546          71700800               0          M   \n",
       "\n",
       "     Claim.Subscriber.Type Claim.Pre.Prince.Index  Claim.Current.Status  \\\n",
       "126                      H                                            2   \n",
       "210                      H                                            2   \n",
       "220                      H                                            2   \n",
       "270                      H                                            2   \n",
       "281                      H                                            2   \n",
       "516                      H                                            2   \n",
       "634                      H                                            2   \n",
       "835                      H                                            2   \n",
       "962                      H                                            2   \n",
       "1127                     H                                            2   \n",
       "1467                     H                                            2   \n",
       "1494                     H                                            2   \n",
       "1547                     H                                           11   \n",
       "1833                     H                                           11   \n",
       "2128                     H                                           11   \n",
       "2165                     H                                            2   \n",
       "2254                     H                                            2   \n",
       "2265                     H                                            2   \n",
       "2277                     H                                            2   \n",
       "2483                     H                                            2   \n",
       "2607                     H                                            2   \n",
       "2643                     H                                            2   \n",
       "2655                     H                                            2   \n",
       "2858                     H                                            2   \n",
       "2960                     H                                           11   \n",
       "2967                     H                                            2   \n",
       "3058                     H                                            2   \n",
       "3209                     H                                            2   \n",
       "3228                     H                                            2   \n",
       "3239                     H                                            2   \n",
       "3259                     H                                            2   \n",
       "3303                     H                                           11   \n",
       "3392                     H                                           11   \n",
       "3457                     H                                            2   \n",
       "3534                     H                                            2   \n",
       "3653                     H                                           11   \n",
       "3760                     H                                            2   \n",
       "4182                     H                                            2   \n",
       "4374                     H                                            2   \n",
       "4494                     H                                            2   \n",
       "4694                     H                                           11   \n",
       "4854                     H                                            2   \n",
       "4925                     H                                            2   \n",
       "4959                     H                                            2   \n",
       "5111                     H                                            2   \n",
       "5415                     H                                           11   \n",
       "5427                     H                                            2   \n",
       "5432                     H                                            2   \n",
       "5565                     H                                            2   \n",
       "\n",
       "        Network.ID  Agreement.ID  UnpaidClaim  \n",
       "126                                         1  \n",
       "210                                         1  \n",
       "220                                         1  \n",
       "270                                         1  \n",
       "281                                         1  \n",
       "516                                         1  \n",
       "634                                         1  \n",
       "835                                         1  \n",
       "962                                         1  \n",
       "1127                                        1  \n",
       "1467                                        1  \n",
       "1494                                        1  \n",
       "1547  MIMAPD000001  PI003247QM03            1  \n",
       "1833  MIMAPD000001  PI003247QM03            1  \n",
       "2128  MIMAPD000001  PI003247QM03            1  \n",
       "2165                                        1  \n",
       "2254                                        1  \n",
       "2265                                        1  \n",
       "2277                                        1  \n",
       "2483                                        1  \n",
       "2607                                        1  \n",
       "2643                                        1  \n",
       "2655                                        1  \n",
       "2858                                        1  \n",
       "2960  MIMAPD000001  PI003247QM03            1  \n",
       "2967                                        1  \n",
       "3058                                        1  \n",
       "3209                                        1  \n",
       "3228                                        1  \n",
       "3239                                        1  \n",
       "3259                                        1  \n",
       "3303  MIMAPD000001  PI003247QM03            1  \n",
       "3392  MIMAPD000001  PI003247QM03            1  \n",
       "3457                                        1  \n",
       "3534                                        1  \n",
       "3653  MIMAPD000001  PI003247QM03            1  \n",
       "3760                                        1  \n",
       "4182                                        1  \n",
       "4374                                        1  \n",
       "4494                                        1  \n",
       "4694  MIMAPD000001  PI003247QM03            1  \n",
       "4854                                        1  \n",
       "4925                                        1  \n",
       "4959                                        1  \n",
       "5111                                        1  \n",
       "5415  MIMAPD000001  PI003247QM03            1  \n",
       "5427                                        1  \n",
       "5432                                        1  \n",
       "5565                                        1  "
      ]
     },
     "execution_count": 30,
     "metadata": {},
     "output_type": "execute_result"
    }
   ],
   "source": [
    "# J1644 == Injection, heparin sodium, per 1000 units\n",
    "procedure_data.loc[procedure_data['Member.ID'] == 88514637.0]                  "
   ]
  },
  {
   "cell_type": "markdown",
   "metadata": {},
   "source": [
    "### UnPaid Claim"
   ]
  },
  {
   "cell_type": "code",
   "execution_count": 31,
   "metadata": {
    "ExecuteTime": {
     "end_time": "2020-08-03T17:11:21.555911Z",
     "start_time": "2020-08-03T17:11:21.290600Z"
    }
   },
   "outputs": [
    {
     "data": {
      "image/png": "[encoded data removed]",
      "text/plain": [
       "<Figure size 576x396 with 1 Axes>"
      ]
     },
     "metadata": {},
     "output_type": "display_data"
    }
   ],
   "source": [
    "# look at values counts for the target\n",
    "col = 'UnpaidClaim'\n",
    "sns.countplot(y=procedure_data[col], order=procedure_data[col].value_counts().iloc[:5].index);\n",
    "plt.savefig(os.path.join('../','visualization',f\"{col}_barchart.png\"))"
   ]
  },
  {
   "cell_type": "code",
   "execution_count": 32,
   "metadata": {
    "ExecuteTime": {
     "end_time": "2020-08-03T17:11:21.567035Z",
     "start_time": "2020-08-03T17:11:21.558334Z"
    }
   },
   "outputs": [
    {
     "data": {
      "text/plain": [
       "1    5889\n",
       "0    5889\n",
       "Name: UnpaidClaim, dtype: int64"
      ]
     },
     "execution_count": 32,
     "metadata": {},
     "output_type": "execute_result"
    }
   ],
   "source": [
    "procedure_data[col].value_counts()"
   ]
  },
  {
   "cell_type": "markdown",
   "metadata": {
    "ExecuteTime": {
     "end_time": "2020-07-15T18:08:51.746356Z",
     "start_time": "2020-07-15T18:08:51.741990Z"
    }
   },
   "source": [
    "### Line.Of.Business.ID"
   ]
  },
  {
   "cell_type": "code",
   "execution_count": 33,
   "metadata": {
    "ExecuteTime": {
     "end_time": "2020-08-03T17:11:21.884723Z",
     "start_time": "2020-08-03T17:11:21.570329Z"
    }
   },
   "outputs": [
    {
     "data": {
      "image/png": "[encoded data removed]",
      "text/plain": [
       "<Figure size 576x396 with 1 Axes>"
      ]
     },
     "metadata": {},
     "output_type": "display_data"
    }
   ],
   "source": [
    "# look at line of business for procedure claims\n",
    "col = 'Line.Of.Business.ID'\n",
    "sns.countplot(y=procedure_data[col], order=procedure_data[col].value_counts().iloc[:5].index);\n",
    "plt.savefig(os.path.join('../','visualization',f\"{col}_barchart.png\"))"
   ]
  },
  {
   "cell_type": "code",
   "execution_count": 34,
   "metadata": {
    "ExecuteTime": {
     "end_time": "2020-08-03T17:11:21.893845Z",
     "start_time": "2020-08-03T17:11:21.886230Z"
    }
   },
   "outputs": [
    {
     "data": {
      "text/plain": [
       "5     3846\n",
       "1     3387\n",
       "      2527\n",
       "13    1512\n",
       "2      506\n",
       "Name: Line.Of.Business.ID, dtype: int64"
      ]
     },
     "execution_count": 34,
     "metadata": {},
     "output_type": "execute_result"
    }
   ],
   "source": [
    "procedure_data[col].value_counts()"
   ]
  },
  {
   "cell_type": "raw",
   "metadata": {},
   "source": [
    "### Revenue.Code"
   ]
  },
  {
   "cell_type": "code",
   "execution_count": 35,
   "metadata": {
    "ExecuteTime": {
     "end_time": "2020-08-03T17:11:22.196093Z",
     "start_time": "2020-08-03T17:11:21.896189Z"
    }
   },
   "outputs": [
    {
     "data": {
      "image/png": "[encoded data removed]",
      "text/plain": [
       "<Figure size 576x396 with 1 Axes>"
      ]
     },
     "metadata": {},
     "output_type": "display_data"
    }
   ],
   "source": [
    "# look at line of business for procedure claims\n",
    "# 636 drugs requiring detailed coding\n",
    "# 637 self administrable drugs\n",
    "# 710 general recovery room\n",
    "# 250 pharmacy general\n",
    "# 258 iv solutions\n",
    "# https://med.noridianmedicare.com/web/jea/topics/claim-submission/revenue-codes\n",
    "col = 'Revenue.Code'\n",
    "sns.countplot(y=procedure_data[col], order=procedure_data[col].value_counts().iloc[:5].index);\n",
    "plt.savefig(os.path.join('../','visualization',f\"{col}_barchart.png\"))"
   ]
  },
  {
   "cell_type": "code",
   "execution_count": 36,
   "metadata": {
    "ExecuteTime": {
     "end_time": "2020-08-03T17:11:22.203178Z",
     "start_time": "2020-08-03T17:11:22.197546Z"
    }
   },
   "outputs": [
    {
     "data": {
      "text/plain": [
       "636    10666\n",
       "250      368\n",
       "710      366\n",
       "637      346\n",
       "258       24\n",
       "259        7\n",
       "490        1\n",
       "Name: Revenue.Code, dtype: int64"
      ]
     },
     "execution_count": 36,
     "metadata": {},
     "output_type": "execute_result"
    }
   ],
   "source": [
    "procedure_data[col].value_counts()"
   ]
  },
  {
   "cell_type": "markdown",
   "metadata": {},
   "source": [
    "### Service.Code"
   ]
  },
  {
   "cell_type": "code",
   "execution_count": 37,
   "metadata": {
    "ExecuteTime": {
     "end_time": "2020-08-03T17:11:22.549052Z",
     "start_time": "2020-08-03T17:11:22.205555Z"
    }
   },
   "outputs": [
    {
     "data": {
      "image/png": "[encoded data removed]",
      "text/plain": [
       "<Figure size 576x396 with 1 Axes>"
      ]
     },
     "metadata": {},
     "output_type": "display_data"
    }
   ],
   "source": [
    "# look at line of business for procedure claims\n",
    "# op70 collections and bad debt\n",
    "# \n",
    "col = 'Service.Code'\n",
    "sns.countplot(y=procedure_data[col], order=procedure_data[col].value_counts().iloc[:5].index);\n",
    "plt.savefig(os.path.join('../','visualization',f\"{col}_barchart.png\"))"
   ]
  },
  {
   "cell_type": "code",
   "execution_count": 38,
   "metadata": {
    "ExecuteTime": {
     "end_time": "2020-08-03T17:11:22.557262Z",
     "start_time": "2020-08-03T17:11:22.550843Z"
    }
   },
   "outputs": [
    {
     "data": {
      "text/plain": [
       "OP7O    8418\n",
       "SU7A    3219\n",
       "MH7O      74\n",
       "AL7I      45\n",
       "GB7A       8\n",
       "           7\n",
       "SA7A       6\n",
       "CC8A       1\n",
       "Name: Service.Code, dtype: int64"
      ]
     },
     "execution_count": 38,
     "metadata": {},
     "output_type": "execute_result"
    }
   ],
   "source": [
    "procedure_data[col].value_counts()"
   ]
  },
  {
   "cell_type": "markdown",
   "metadata": {},
   "source": [
    "### Place.Of.Service.Code"
   ]
  },
  {
   "cell_type": "code",
   "execution_count": 39,
   "metadata": {
    "ExecuteTime": {
     "end_time": "2020-08-03T17:11:22.855023Z",
     "start_time": "2020-08-03T17:11:22.559880Z"
    }
   },
   "outputs": [
    {
     "data": {
      "image/png": "[encoded data removed]",
      "text/plain": [
       "<Figure size 576x396 with 1 Axes>"
      ]
     },
     "metadata": {},
     "output_type": "display_data"
    }
   ],
   "source": [
    "# look at line of business for procedure claims\n",
    "col = 'Place.Of.Service.Code'\n",
    "sns.countplot(y=procedure_data[col], order=procedure_data[col].value_counts().iloc[:5].index);\n",
    "plt.savefig(os.path.join('../','visualization',f\"{col}_barchart.png\"))"
   ]
  },
  {
   "cell_type": "code",
   "execution_count": 40,
   "metadata": {
    "ExecuteTime": {
     "end_time": "2020-08-03T17:11:22.864057Z",
     "start_time": "2020-08-03T17:11:22.856753Z"
    }
   },
   "outputs": [
    {
     "data": {
      "text/plain": [
       "     11778\n",
       "Name: Place.Of.Service.Code, dtype: int64"
      ]
     },
     "execution_count": 40,
     "metadata": {},
     "output_type": "execute_result"
    }
   ],
   "source": [
    "procedure_data[col].value_counts()"
   ]
  },
  {
   "cell_type": "markdown",
   "metadata": {},
   "source": [
    "### Diagnosis.Code"
   ]
  },
  {
   "cell_type": "code",
   "execution_count": 41,
   "metadata": {
    "ExecuteTime": {
     "end_time": "2020-08-03T17:11:23.189048Z",
     "start_time": "2020-08-03T17:11:22.866360Z"
    }
   },
   "outputs": [
    {
     "data": {
      "image/png": "[encoded data removed]",
      "text/plain": [
       "<Figure size 576x396 with 1 Axes>"
      ]
     },
     "metadata": {},
     "output_type": "display_data"
    }
   ],
   "source": [
    "# 585.6 == End Stage Renal Disease\n",
    "# v765.1 == Special screening for malignant neoplasms of colon\n",
    "# 366.16 == Senile nuclear sclerosis (cataracts)\n",
    "# 366.9 == cataract\n",
    "# 414.01 == Coronary atherosclerosis of native coronary artery\n",
    "# 427.31 == Atrial fibrillation\n",
    "# 574.10 == Calculus of gallbladder with other cholecystitis, without mention of obstruction\n",
    "# 540.9 == Other acute appendicitis\n",
    "# 55090 == Inguinal hernia, without mention of obstruction or gangrene, unilateral or unspecified (not specified as recurrent)\n",
    "# 592.1 == Calculus of ureter\n",
    "\n",
    "# look at Diagnosis.Code for procedure claims\n",
    "col = 'Diagnosis.Code'\n",
    "sns.countplot(y=procedure_data[col], order=procedure_data[col].value_counts().iloc[:10].index);\n",
    "plt.savefig(os.path.join('../','visualization',f\"{col}_barchart.png\"))"
   ]
  },
  {
   "cell_type": "code",
   "execution_count": 42,
   "metadata": {
    "ExecuteTime": {
     "end_time": "2020-08-03T17:11:23.198181Z",
     "start_time": "2020-08-03T17:11:23.190799Z"
    }
   },
   "outputs": [
    {
     "data": {
      "text/plain": [
       "5856     1335\n",
       "V7651     436\n",
       "36616     292\n",
       "V5811     245\n",
       "3669      243\n",
       "         ... \n",
       "6828        1\n",
       "5695        1\n",
       "78492       1\n",
       "8860        1\n",
       "5756        1\n",
       "Name: Diagnosis.Code, Length: 1060, dtype: int64"
      ]
     },
     "execution_count": 42,
     "metadata": {},
     "output_type": "execute_result"
    }
   ],
   "source": [
    "procedure_data[col].value_counts()"
   ]
  },
  {
   "cell_type": "markdown",
   "metadata": {},
   "source": [
    "### Claim.Charge.Amount"
   ]
  },
  {
   "cell_type": "code",
   "execution_count": 43,
   "metadata": {
    "ExecuteTime": {
     "end_time": "2020-08-03T17:11:23.618825Z",
     "start_time": "2020-08-03T17:11:23.200686Z"
    }
   },
   "outputs": [
    {
     "data": {
      "image/png": "[encoded data removed]",
      "text/plain": [
       "<Figure size 576x396 with 1 Axes>"
      ]
     },
     "metadata": {},
     "output_type": "display_data"
    }
   ],
   "source": [
    "# look at charge amounts\n",
    "col = 'Claim.Charge.Amount'\n",
    "sns.countplot(y=procedure_data[col], order=procedure_data[col].value_counts().iloc[:10].index);\n",
    "plt.tight_layout()\n",
    "plt.savefig(os.path.join('../','visualization',f\"{col}_barchart.png\"))"
   ]
  },
  {
   "cell_type": "code",
   "execution_count": 44,
   "metadata": {
    "ExecuteTime": {
     "end_time": "2020-08-03T17:11:23.628869Z",
     "start_time": "2020-08-03T17:11:23.620384Z"
    }
   },
   "outputs": [
    {
     "data": {
      "text/plain": [
       "84.563250     1202\n",
       "353.067000     263\n",
       "43.948200      194\n",
       "103.698000     166\n",
       "169.126500     154\n",
       "              ... \n",
       "477.751500       1\n",
       "111.845700       1\n",
       "452.209700       1\n",
       "101.204310       1\n",
       "368.732805       1\n",
       "Name: Claim.Charge.Amount, Length: 1742, dtype: int64"
      ]
     },
     "execution_count": 44,
     "metadata": {},
     "output_type": "execute_result"
    }
   ],
   "source": [
    "procedure_data[col].value_counts()"
   ]
  },
  {
   "cell_type": "code",
   "execution_count": 45,
   "metadata": {
    "ExecuteTime": {
     "end_time": "2020-08-03T17:11:23.688080Z",
     "start_time": "2020-08-03T17:11:23.630778Z"
    }
   },
   "outputs": [
    {
     "data": {
      "text/plain": [
       "count    11778.000000\n",
       "mean       220.167682\n",
       "std        323.830611\n",
       "min         31.109400\n",
       "25%         86.415000\n",
       "50%        147.843720\n",
       "75%        261.244890\n",
       "max       5845.357500\n",
       "Name: Claim.Charge.Amount, dtype: float64"
      ]
     },
     "execution_count": 45,
     "metadata": {},
     "output_type": "execute_result"
    }
   ],
   "source": [
    "procedure_data[col].describe()"
   ]
  },
  {
   "cell_type": "code",
   "execution_count": 46,
   "metadata": {
    "ExecuteTime": {
     "end_time": "2020-08-03T17:11:23.798333Z",
     "start_time": "2020-08-03T17:11:23.735598Z"
    }
   },
   "outputs": [
    {
     "data": {
      "text/html": [
       "<div>\n",
       "<style scoped>\n",
       "    .dataframe tbody tr th:only-of-type {\n",
       "        vertical-align: middle;\n",
       "    }\n",
       "\n",
       "    .dataframe tbody tr th {\n",
       "        vertical-align: top;\n",
       "    }\n",
       "\n",
       "    .dataframe thead th {\n",
       "        text-align: right;\n",
       "    }\n",
       "</style>\n",
       "<table border=\"1\" class=\"dataframe\">\n",
       "  <thead>\n",
       "    <tr style=\"text-align: right;\">\n",
       "      <th></th>\n",
       "      <th>Claim.Number</th>\n",
       "      <th>Claim.Line.Number</th>\n",
       "      <th>Member.ID</th>\n",
       "      <th>Provider.ID</th>\n",
       "      <th>Line.Of.Business.ID</th>\n",
       "      <th>Revenue.Code</th>\n",
       "      <th>Service.Code</th>\n",
       "      <th>Place.Of.Service.Code</th>\n",
       "      <th>Procedure.Code</th>\n",
       "      <th>Diagnosis.Code</th>\n",
       "      <th>Claim.Charge.Amount</th>\n",
       "      <th>Denial.Reason.Code</th>\n",
       "      <th>Price.Index</th>\n",
       "      <th>In.Out.Of.Network</th>\n",
       "      <th>Reference.Index</th>\n",
       "      <th>Pricing.Index</th>\n",
       "      <th>Capitation.Index</th>\n",
       "      <th>Subscriber.Payment.Amount</th>\n",
       "      <th>Provider.Payment.Amount</th>\n",
       "      <th>Group.Index</th>\n",
       "      <th>Subscriber.Index</th>\n",
       "      <th>Subgroup.Index</th>\n",
       "      <th>Claim.Type</th>\n",
       "      <th>Claim.Subscriber.Type</th>\n",
       "      <th>Claim.Pre.Prince.Index</th>\n",
       "      <th>Claim.Current.Status</th>\n",
       "      <th>Network.ID</th>\n",
       "      <th>Agreement.ID</th>\n",
       "      <th>UnpaidClaim</th>\n",
       "    </tr>\n",
       "  </thead>\n",
       "  <tbody>\n",
       "    <tr>\n",
       "      <th>8150</th>\n",
       "      <td>1285255990</td>\n",
       "      <td>13</td>\n",
       "      <td>45729090</td>\n",
       "      <td>FA0001387002</td>\n",
       "      <td>1</td>\n",
       "      <td>636</td>\n",
       "      <td>OP7O</td>\n",
       "      <td></td>\n",
       "      <td>J9045</td>\n",
       "      <td>V7283</td>\n",
       "      <td>5845.3575</td>\n",
       "      <td>PDC</td>\n",
       "      <td>A</td>\n",
       "      <td>I</td>\n",
       "      <td>V</td>\n",
       "      <td>N</td>\n",
       "      <td>N</td>\n",
       "      <td>0.0</td>\n",
       "      <td>2630.410875</td>\n",
       "      <td>572</td>\n",
       "      <td>37042600</td>\n",
       "      <td>0</td>\n",
       "      <td>M</td>\n",
       "      <td>H</td>\n",
       "      <td></td>\n",
       "      <td>2</td>\n",
       "      <td>P00000000007</td>\n",
       "      <td>FH002449QPD1</td>\n",
       "      <td>0</td>\n",
       "    </tr>\n",
       "    <tr>\n",
       "      <th>8212</th>\n",
       "      <td>1440478790</td>\n",
       "      <td>19</td>\n",
       "      <td>45729090</td>\n",
       "      <td>FA0001387002</td>\n",
       "      <td>1</td>\n",
       "      <td>636</td>\n",
       "      <td>OP7O</td>\n",
       "      <td></td>\n",
       "      <td>J9045</td>\n",
       "      <td>1820</td>\n",
       "      <td>5845.3575</td>\n",
       "      <td>PDC</td>\n",
       "      <td>A</td>\n",
       "      <td>I</td>\n",
       "      <td>V</td>\n",
       "      <td>N</td>\n",
       "      <td>N</td>\n",
       "      <td>0.0</td>\n",
       "      <td>2877.039285</td>\n",
       "      <td>572</td>\n",
       "      <td>37042600</td>\n",
       "      <td>0</td>\n",
       "      <td>M</td>\n",
       "      <td>H</td>\n",
       "      <td></td>\n",
       "      <td>2</td>\n",
       "      <td>P00000000007</td>\n",
       "      <td>FH002449QPD1</td>\n",
       "      <td>0</td>\n",
       "    </tr>\n",
       "    <tr>\n",
       "      <th>8311</th>\n",
       "      <td>23437890</td>\n",
       "      <td>27</td>\n",
       "      <td>45729090</td>\n",
       "      <td>FA0001387002</td>\n",
       "      <td>1</td>\n",
       "      <td>636</td>\n",
       "      <td>OP7O</td>\n",
       "      <td></td>\n",
       "      <td>J9045</td>\n",
       "      <td>1820</td>\n",
       "      <td>5845.3575</td>\n",
       "      <td>PDC</td>\n",
       "      <td>A</td>\n",
       "      <td>I</td>\n",
       "      <td>V</td>\n",
       "      <td>N</td>\n",
       "      <td>N</td>\n",
       "      <td>0.0</td>\n",
       "      <td>2922.678750</td>\n",
       "      <td>572</td>\n",
       "      <td>37042600</td>\n",
       "      <td>0</td>\n",
       "      <td>M</td>\n",
       "      <td>H</td>\n",
       "      <td></td>\n",
       "      <td>2</td>\n",
       "      <td>P00000000007</td>\n",
       "      <td>FH002449QPD1</td>\n",
       "      <td>0</td>\n",
       "    </tr>\n",
       "    <tr>\n",
       "      <th>9863</th>\n",
       "      <td>120317190</td>\n",
       "      <td>2</td>\n",
       "      <td>89445574</td>\n",
       "      <td>FA1000015001</td>\n",
       "      <td>13</td>\n",
       "      <td>636</td>\n",
       "      <td>OP7O</td>\n",
       "      <td></td>\n",
       "      <td>J9045</td>\n",
       "      <td>V5811</td>\n",
       "      <td>5845.3575</td>\n",
       "      <td></td>\n",
       "      <td>A</td>\n",
       "      <td>I</td>\n",
       "      <td>N</td>\n",
       "      <td>N</td>\n",
       "      <td></td>\n",
       "      <td>0.0</td>\n",
       "      <td>5845.357500</td>\n",
       "      <td>48546</td>\n",
       "      <td>72454900</td>\n",
       "      <td>0</td>\n",
       "      <td>E</td>\n",
       "      <td>H</td>\n",
       "      <td></td>\n",
       "      <td>15</td>\n",
       "      <td>MIMAPD000002</td>\n",
       "      <td>A00BLCH0Q001</td>\n",
       "      <td>0</td>\n",
       "    </tr>\n",
       "    <tr>\n",
       "      <th>10122</th>\n",
       "      <td>120385690</td>\n",
       "      <td>5</td>\n",
       "      <td>89445574</td>\n",
       "      <td>FA1000015001</td>\n",
       "      <td>13</td>\n",
       "      <td>636</td>\n",
       "      <td>OP7O</td>\n",
       "      <td></td>\n",
       "      <td>J9045</td>\n",
       "      <td>V5811</td>\n",
       "      <td>5845.3575</td>\n",
       "      <td></td>\n",
       "      <td>A</td>\n",
       "      <td>I</td>\n",
       "      <td>N</td>\n",
       "      <td>N</td>\n",
       "      <td></td>\n",
       "      <td>0.0</td>\n",
       "      <td>5845.357500</td>\n",
       "      <td>48546</td>\n",
       "      <td>72454900</td>\n",
       "      <td>0</td>\n",
       "      <td>E</td>\n",
       "      <td>H</td>\n",
       "      <td></td>\n",
       "      <td>15</td>\n",
       "      <td>MIMAPD000002</td>\n",
       "      <td>A00BLCH0Q001</td>\n",
       "      <td>0</td>\n",
       "    </tr>\n",
       "    <tr>\n",
       "      <th>10123</th>\n",
       "      <td>120385690</td>\n",
       "      <td>6</td>\n",
       "      <td>89445574</td>\n",
       "      <td>FA1000015001</td>\n",
       "      <td>13</td>\n",
       "      <td>636</td>\n",
       "      <td>OP7O</td>\n",
       "      <td></td>\n",
       "      <td>J9045</td>\n",
       "      <td>V5811</td>\n",
       "      <td>5845.3575</td>\n",
       "      <td></td>\n",
       "      <td>A</td>\n",
       "      <td>I</td>\n",
       "      <td>N</td>\n",
       "      <td>N</td>\n",
       "      <td></td>\n",
       "      <td>0.0</td>\n",
       "      <td>5845.357500</td>\n",
       "      <td>48546</td>\n",
       "      <td>72454900</td>\n",
       "      <td>0</td>\n",
       "      <td>E</td>\n",
       "      <td>H</td>\n",
       "      <td></td>\n",
       "      <td>15</td>\n",
       "      <td>MIMAPD000002</td>\n",
       "      <td>A00BLCH0Q001</td>\n",
       "      <td>0</td>\n",
       "    </tr>\n",
       "    <tr>\n",
       "      <th>10439</th>\n",
       "      <td>120330090</td>\n",
       "      <td>4</td>\n",
       "      <td>89445574</td>\n",
       "      <td>FA1000015001</td>\n",
       "      <td>13</td>\n",
       "      <td>636</td>\n",
       "      <td>OP7O</td>\n",
       "      <td></td>\n",
       "      <td>J9045</td>\n",
       "      <td>V5811</td>\n",
       "      <td>5845.3575</td>\n",
       "      <td></td>\n",
       "      <td>A</td>\n",
       "      <td>I</td>\n",
       "      <td>N</td>\n",
       "      <td>N</td>\n",
       "      <td></td>\n",
       "      <td>0.0</td>\n",
       "      <td>5845.357500</td>\n",
       "      <td>48546</td>\n",
       "      <td>72454900</td>\n",
       "      <td>0</td>\n",
       "      <td>E</td>\n",
       "      <td>H</td>\n",
       "      <td></td>\n",
       "      <td>15</td>\n",
       "      <td>MIMAPD000002</td>\n",
       "      <td>A00BLCH0Q001</td>\n",
       "      <td>0</td>\n",
       "    </tr>\n",
       "  </tbody>\n",
       "</table>\n",
       "</div>"
      ],
      "text/plain": [
       "       Claim.Number  Claim.Line.Number  Member.ID   Provider.ID  \\\n",
       "8150     1285255990                 13   45729090  FA0001387002   \n",
       "8212     1440478790                 19   45729090  FA0001387002   \n",
       "8311       23437890                 27   45729090  FA0001387002   \n",
       "9863      120317190                  2   89445574  FA1000015001   \n",
       "10122     120385690                  5   89445574  FA1000015001   \n",
       "10123     120385690                  6   89445574  FA1000015001   \n",
       "10439     120330090                  4   89445574  FA1000015001   \n",
       "\n",
       "      Line.Of.Business.ID  Revenue.Code Service.Code Place.Of.Service.Code  \\\n",
       "8150                    1           636         OP7O                         \n",
       "8212                    1           636         OP7O                         \n",
       "8311                    1           636         OP7O                         \n",
       "9863                   13           636         OP7O                         \n",
       "10122                  13           636         OP7O                         \n",
       "10123                  13           636         OP7O                         \n",
       "10439                  13           636         OP7O                         \n",
       "\n",
       "      Procedure.Code Diagnosis.Code  Claim.Charge.Amount Denial.Reason.Code  \\\n",
       "8150           J9045          V7283            5845.3575                PDC   \n",
       "8212           J9045           1820            5845.3575                PDC   \n",
       "8311           J9045           1820            5845.3575                PDC   \n",
       "9863           J9045          V5811            5845.3575                      \n",
       "10122          J9045          V5811            5845.3575                      \n",
       "10123          J9045          V5811            5845.3575                      \n",
       "10439          J9045          V5811            5845.3575                      \n",
       "\n",
       "      Price.Index In.Out.Of.Network Reference.Index Pricing.Index  \\\n",
       "8150            A                 I               V             N   \n",
       "8212            A                 I               V             N   \n",
       "8311            A                 I               V             N   \n",
       "9863            A                 I               N             N   \n",
       "10122           A                 I               N             N   \n",
       "10123           A                 I               N             N   \n",
       "10439           A                 I               N             N   \n",
       "\n",
       "      Capitation.Index  Subscriber.Payment.Amount  Provider.Payment.Amount  \\\n",
       "8150                 N                        0.0              2630.410875   \n",
       "8212                 N                        0.0              2877.039285   \n",
       "8311                 N                        0.0              2922.678750   \n",
       "9863                                          0.0              5845.357500   \n",
       "10122                                         0.0              5845.357500   \n",
       "10123                                         0.0              5845.357500   \n",
       "10439                                         0.0              5845.357500   \n",
       "\n",
       "       Group.Index  Subscriber.Index  Subgroup.Index Claim.Type  \\\n",
       "8150           572          37042600               0          M   \n",
       "8212           572          37042600               0          M   \n",
       "8311           572          37042600               0          M   \n",
       "9863         48546          72454900               0          E   \n",
       "10122        48546          72454900               0          E   \n",
       "10123        48546          72454900               0          E   \n",
       "10439        48546          72454900               0          E   \n",
       "\n",
       "      Claim.Subscriber.Type Claim.Pre.Prince.Index  Claim.Current.Status  \\\n",
       "8150                      H                                            2   \n",
       "8212                      H                                            2   \n",
       "8311                      H                                            2   \n",
       "9863                      H                                           15   \n",
       "10122                     H                                           15   \n",
       "10123                     H                                           15   \n",
       "10439                     H                                           15   \n",
       "\n",
       "         Network.ID  Agreement.ID  UnpaidClaim  \n",
       "8150   P00000000007  FH002449QPD1            0  \n",
       "8212   P00000000007  FH002449QPD1            0  \n",
       "8311   P00000000007  FH002449QPD1            0  \n",
       "9863   MIMAPD000002  A00BLCH0Q001            0  \n",
       "10122  MIMAPD000002  A00BLCH0Q001            0  \n",
       "10123  MIMAPD000002  A00BLCH0Q001            0  \n",
       "10439  MIMAPD000002  A00BLCH0Q001            0  "
      ]
     },
     "execution_count": 46,
     "metadata": {},
     "output_type": "execute_result"
    }
   ],
   "source": [
    "procedure_data.loc[procedure_data[col] == max(procedure_data[col])]"
   ]
  },
  {
   "cell_type": "code",
   "execution_count": 47,
   "metadata": {
    "ExecuteTime": {
     "end_time": "2020-08-03T17:11:23.852927Z",
     "start_time": "2020-08-03T17:11:23.800953Z"
    }
   },
   "outputs": [
    {
     "data": {
      "text/html": [
       "<div>\n",
       "<style scoped>\n",
       "    .dataframe tbody tr th:only-of-type {\n",
       "        vertical-align: middle;\n",
       "    }\n",
       "\n",
       "    .dataframe tbody tr th {\n",
       "        vertical-align: top;\n",
       "    }\n",
       "\n",
       "    .dataframe thead th {\n",
       "        text-align: right;\n",
       "    }\n",
       "</style>\n",
       "<table border=\"1\" class=\"dataframe\">\n",
       "  <thead>\n",
       "    <tr style=\"text-align: right;\">\n",
       "      <th></th>\n",
       "      <th>Claim.Number</th>\n",
       "      <th>Claim.Line.Number</th>\n",
       "      <th>Member.ID</th>\n",
       "      <th>Provider.ID</th>\n",
       "      <th>Line.Of.Business.ID</th>\n",
       "      <th>Revenue.Code</th>\n",
       "      <th>Service.Code</th>\n",
       "      <th>Place.Of.Service.Code</th>\n",
       "      <th>Procedure.Code</th>\n",
       "      <th>Diagnosis.Code</th>\n",
       "      <th>Claim.Charge.Amount</th>\n",
       "      <th>Denial.Reason.Code</th>\n",
       "      <th>Price.Index</th>\n",
       "      <th>In.Out.Of.Network</th>\n",
       "      <th>Reference.Index</th>\n",
       "      <th>Pricing.Index</th>\n",
       "      <th>Capitation.Index</th>\n",
       "      <th>Subscriber.Payment.Amount</th>\n",
       "      <th>Provider.Payment.Amount</th>\n",
       "      <th>Group.Index</th>\n",
       "      <th>Subscriber.Index</th>\n",
       "      <th>Subgroup.Index</th>\n",
       "      <th>Claim.Type</th>\n",
       "      <th>Claim.Subscriber.Type</th>\n",
       "      <th>Claim.Pre.Prince.Index</th>\n",
       "      <th>Claim.Current.Status</th>\n",
       "      <th>Network.ID</th>\n",
       "      <th>Agreement.ID</th>\n",
       "      <th>UnpaidClaim</th>\n",
       "    </tr>\n",
       "  </thead>\n",
       "  <tbody>\n",
       "  </tbody>\n",
       "</table>\n",
       "</div>"
      ],
      "text/plain": [
       "Empty DataFrame\n",
       "Columns: [Claim.Number, Claim.Line.Number, Member.ID, Provider.ID, Line.Of.Business.ID, Revenue.Code, Service.Code, Place.Of.Service.Code, Procedure.Code, Diagnosis.Code, Claim.Charge.Amount, Denial.Reason.Code, Price.Index, In.Out.Of.Network, Reference.Index, Pricing.Index, Capitation.Index, Subscriber.Payment.Amount, Provider.Payment.Amount, Group.Index, Subscriber.Index, Subgroup.Index, Claim.Type, Claim.Subscriber.Type, Claim.Pre.Prince.Index, Claim.Current.Status, Network.ID, Agreement.ID, UnpaidClaim]\n",
       "Index: []"
      ]
     },
     "execution_count": 47,
     "metadata": {},
     "output_type": "execute_result"
    }
   ],
   "source": [
    "procedure_data.loc[procedure_data['Procedure.Code'] == 'J0180']"
   ]
  },
  {
   "cell_type": "code",
   "execution_count": 48,
   "metadata": {
    "ExecuteTime": {
     "end_time": "2020-08-03T17:11:23.927793Z",
     "start_time": "2020-08-03T17:11:23.855207Z"
    }
   },
   "outputs": [
    {
     "data": {
      "text/html": [
       "<div>\n",
       "<style scoped>\n",
       "    .dataframe tbody tr th:only-of-type {\n",
       "        vertical-align: middle;\n",
       "    }\n",
       "\n",
       "    .dataframe tbody tr th {\n",
       "        vertical-align: top;\n",
       "    }\n",
       "\n",
       "    .dataframe thead th {\n",
       "        text-align: right;\n",
       "    }\n",
       "</style>\n",
       "<table border=\"1\" class=\"dataframe\">\n",
       "  <thead>\n",
       "    <tr style=\"text-align: right;\">\n",
       "      <th></th>\n",
       "      <th>Claim.Number</th>\n",
       "      <th>Claim.Line.Number</th>\n",
       "      <th>Member.ID</th>\n",
       "      <th>Provider.ID</th>\n",
       "      <th>Line.Of.Business.ID</th>\n",
       "      <th>Revenue.Code</th>\n",
       "      <th>Service.Code</th>\n",
       "      <th>Place.Of.Service.Code</th>\n",
       "      <th>Procedure.Code</th>\n",
       "      <th>Diagnosis.Code</th>\n",
       "      <th>Claim.Charge.Amount</th>\n",
       "      <th>Denial.Reason.Code</th>\n",
       "      <th>Price.Index</th>\n",
       "      <th>In.Out.Of.Network</th>\n",
       "      <th>Reference.Index</th>\n",
       "      <th>Pricing.Index</th>\n",
       "      <th>Capitation.Index</th>\n",
       "      <th>Subscriber.Payment.Amount</th>\n",
       "      <th>Provider.Payment.Amount</th>\n",
       "      <th>Group.Index</th>\n",
       "      <th>Subscriber.Index</th>\n",
       "      <th>Subgroup.Index</th>\n",
       "      <th>Claim.Type</th>\n",
       "      <th>Claim.Subscriber.Type</th>\n",
       "      <th>Claim.Pre.Prince.Index</th>\n",
       "      <th>Claim.Current.Status</th>\n",
       "      <th>Network.ID</th>\n",
       "      <th>Agreement.ID</th>\n",
       "      <th>UnpaidClaim</th>\n",
       "    </tr>\n",
       "  </thead>\n",
       "  <tbody>\n",
       "    <tr>\n",
       "      <th>7571</th>\n",
       "      <td>570847790</td>\n",
       "      <td>1</td>\n",
       "      <td>37576081</td>\n",
       "      <td>FA0001387002</td>\n",
       "      <td>1</td>\n",
       "      <td>250</td>\n",
       "      <td>OP7O</td>\n",
       "      <td></td>\n",
       "      <td>J7050</td>\n",
       "      <td>2727</td>\n",
       "      <td>287.63850</td>\n",
       "      <td>PDC</td>\n",
       "      <td>A</td>\n",
       "      <td>I</td>\n",
       "      <td>V</td>\n",
       "      <td>N</td>\n",
       "      <td>N</td>\n",
       "      <td>0.0</td>\n",
       "      <td>149.572020</td>\n",
       "      <td>572</td>\n",
       "      <td>30438300</td>\n",
       "      <td>0</td>\n",
       "      <td>M</td>\n",
       "      <td>H</td>\n",
       "      <td></td>\n",
       "      <td>2</td>\n",
       "      <td>P00000000007</td>\n",
       "      <td>FH002449QPD1</td>\n",
       "      <td>0</td>\n",
       "    </tr>\n",
       "    <tr>\n",
       "      <th>7572</th>\n",
       "      <td>570847790</td>\n",
       "      <td>2</td>\n",
       "      <td>37576081</td>\n",
       "      <td>FA0001387002</td>\n",
       "      <td>1</td>\n",
       "      <td>250</td>\n",
       "      <td>OP7O</td>\n",
       "      <td></td>\n",
       "      <td>J7050</td>\n",
       "      <td>2727</td>\n",
       "      <td>209.24775</td>\n",
       "      <td>PDC</td>\n",
       "      <td>A</td>\n",
       "      <td>I</td>\n",
       "      <td>V</td>\n",
       "      <td>N</td>\n",
       "      <td>N</td>\n",
       "      <td>0.0</td>\n",
       "      <td>108.808830</td>\n",
       "      <td>572</td>\n",
       "      <td>30438300</td>\n",
       "      <td>0</td>\n",
       "      <td>M</td>\n",
       "      <td>H</td>\n",
       "      <td></td>\n",
       "      <td>2</td>\n",
       "      <td>P00000000007</td>\n",
       "      <td>FH002449QPD1</td>\n",
       "      <td>0</td>\n",
       "    </tr>\n",
       "    <tr>\n",
       "      <th>7668</th>\n",
       "      <td>657244990</td>\n",
       "      <td>1</td>\n",
       "      <td>37576081</td>\n",
       "      <td>FA0001387002</td>\n",
       "      <td>1</td>\n",
       "      <td>250</td>\n",
       "      <td>OP7O</td>\n",
       "      <td></td>\n",
       "      <td>J7050</td>\n",
       "      <td>2727</td>\n",
       "      <td>209.24775</td>\n",
       "      <td>PDC</td>\n",
       "      <td>A</td>\n",
       "      <td>I</td>\n",
       "      <td>V</td>\n",
       "      <td>N</td>\n",
       "      <td>N</td>\n",
       "      <td>0.0</td>\n",
       "      <td>104.623875</td>\n",
       "      <td>572</td>\n",
       "      <td>30438300</td>\n",
       "      <td>0</td>\n",
       "      <td>M</td>\n",
       "      <td>H</td>\n",
       "      <td></td>\n",
       "      <td>2</td>\n",
       "      <td>P00000000007</td>\n",
       "      <td>FH002449QPD1</td>\n",
       "      <td>0</td>\n",
       "    </tr>\n",
       "    <tr>\n",
       "      <th>7669</th>\n",
       "      <td>657244990</td>\n",
       "      <td>2</td>\n",
       "      <td>37576081</td>\n",
       "      <td>FA0001387002</td>\n",
       "      <td>1</td>\n",
       "      <td>250</td>\n",
       "      <td>OP7O</td>\n",
       "      <td></td>\n",
       "      <td>J7050</td>\n",
       "      <td>2727</td>\n",
       "      <td>209.24775</td>\n",
       "      <td>PDC</td>\n",
       "      <td>A</td>\n",
       "      <td>I</td>\n",
       "      <td>V</td>\n",
       "      <td>N</td>\n",
       "      <td>N</td>\n",
       "      <td>0.0</td>\n",
       "      <td>104.623875</td>\n",
       "      <td>572</td>\n",
       "      <td>30438300</td>\n",
       "      <td>0</td>\n",
       "      <td>M</td>\n",
       "      <td>H</td>\n",
       "      <td></td>\n",
       "      <td>2</td>\n",
       "      <td>P00000000007</td>\n",
       "      <td>FH002449QPD1</td>\n",
       "      <td>0</td>\n",
       "    </tr>\n",
       "  </tbody>\n",
       "</table>\n",
       "</div>"
      ],
      "text/plain": [
       "      Claim.Number  Claim.Line.Number  Member.ID   Provider.ID  \\\n",
       "7571     570847790                  1   37576081  FA0001387002   \n",
       "7572     570847790                  2   37576081  FA0001387002   \n",
       "7668     657244990                  1   37576081  FA0001387002   \n",
       "7669     657244990                  2   37576081  FA0001387002   \n",
       "\n",
       "     Line.Of.Business.ID  Revenue.Code Service.Code Place.Of.Service.Code  \\\n",
       "7571                   1           250         OP7O                         \n",
       "7572                   1           250         OP7O                         \n",
       "7668                   1           250         OP7O                         \n",
       "7669                   1           250         OP7O                         \n",
       "\n",
       "     Procedure.Code Diagnosis.Code  Claim.Charge.Amount Denial.Reason.Code  \\\n",
       "7571          J7050           2727            287.63850                PDC   \n",
       "7572          J7050           2727            209.24775                PDC   \n",
       "7668          J7050           2727            209.24775                PDC   \n",
       "7669          J7050           2727            209.24775                PDC   \n",
       "\n",
       "     Price.Index In.Out.Of.Network Reference.Index Pricing.Index  \\\n",
       "7571           A                 I               V             N   \n",
       "7572           A                 I               V             N   \n",
       "7668           A                 I               V             N   \n",
       "7669           A                 I               V             N   \n",
       "\n",
       "     Capitation.Index  Subscriber.Payment.Amount  Provider.Payment.Amount  \\\n",
       "7571                N                        0.0               149.572020   \n",
       "7572                N                        0.0               108.808830   \n",
       "7668                N                        0.0               104.623875   \n",
       "7669                N                        0.0               104.623875   \n",
       "\n",
       "      Group.Index  Subscriber.Index  Subgroup.Index Claim.Type  \\\n",
       "7571          572          30438300               0          M   \n",
       "7572          572          30438300               0          M   \n",
       "7668          572          30438300               0          M   \n",
       "7669          572          30438300               0          M   \n",
       "\n",
       "     Claim.Subscriber.Type Claim.Pre.Prince.Index  Claim.Current.Status  \\\n",
       "7571                     H                                            2   \n",
       "7572                     H                                            2   \n",
       "7668                     H                                            2   \n",
       "7669                     H                                            2   \n",
       "\n",
       "        Network.ID  Agreement.ID  UnpaidClaim  \n",
       "7571  P00000000007  FH002449QPD1            0  \n",
       "7572  P00000000007  FH002449QPD1            0  \n",
       "7668  P00000000007  FH002449QPD1            0  \n",
       "7669  P00000000007  FH002449QPD1            0  "
      ]
     },
     "execution_count": 48,
     "metadata": {},
     "output_type": "execute_result"
    }
   ],
   "source": [
    "procedure_data.loc[procedure_data['Member.ID'] == 37576081]"
   ]
  },
  {
   "cell_type": "code",
   "execution_count": 49,
   "metadata": {
    "ExecuteTime": {
     "end_time": "2020-08-03T17:11:24.012560Z",
     "start_time": "2020-08-03T17:11:23.953221Z"
    }
   },
   "outputs": [
    {
     "data": {
      "text/html": [
       "<div>\n",
       "<style scoped>\n",
       "    .dataframe tbody tr th:only-of-type {\n",
       "        vertical-align: middle;\n",
       "    }\n",
       "\n",
       "    .dataframe tbody tr th {\n",
       "        vertical-align: top;\n",
       "    }\n",
       "\n",
       "    .dataframe thead th {\n",
       "        text-align: right;\n",
       "    }\n",
       "</style>\n",
       "<table border=\"1\" class=\"dataframe\">\n",
       "  <thead>\n",
       "    <tr style=\"text-align: right;\">\n",
       "      <th></th>\n",
       "      <th>Claim.Number</th>\n",
       "      <th>Claim.Line.Number</th>\n",
       "      <th>Member.ID</th>\n",
       "      <th>Provider.ID</th>\n",
       "      <th>Line.Of.Business.ID</th>\n",
       "      <th>Revenue.Code</th>\n",
       "      <th>Service.Code</th>\n",
       "      <th>Place.Of.Service.Code</th>\n",
       "      <th>Procedure.Code</th>\n",
       "      <th>Diagnosis.Code</th>\n",
       "      <th>Claim.Charge.Amount</th>\n",
       "      <th>Denial.Reason.Code</th>\n",
       "      <th>Price.Index</th>\n",
       "      <th>In.Out.Of.Network</th>\n",
       "      <th>Reference.Index</th>\n",
       "      <th>Pricing.Index</th>\n",
       "      <th>Capitation.Index</th>\n",
       "      <th>Subscriber.Payment.Amount</th>\n",
       "      <th>Provider.Payment.Amount</th>\n",
       "      <th>Group.Index</th>\n",
       "      <th>Subscriber.Index</th>\n",
       "      <th>Subgroup.Index</th>\n",
       "      <th>Claim.Type</th>\n",
       "      <th>Claim.Subscriber.Type</th>\n",
       "      <th>Claim.Pre.Prince.Index</th>\n",
       "      <th>Claim.Current.Status</th>\n",
       "      <th>Network.ID</th>\n",
       "      <th>Agreement.ID</th>\n",
       "      <th>UnpaidClaim</th>\n",
       "    </tr>\n",
       "  </thead>\n",
       "  <tbody>\n",
       "    <tr>\n",
       "      <th>7188</th>\n",
       "      <td>239180990</td>\n",
       "      <td>3</td>\n",
       "      <td>1988595</td>\n",
       "      <td>FA0001387002</td>\n",
       "      <td>5</td>\n",
       "      <td>636</td>\n",
       "      <td>OP7O</td>\n",
       "      <td></td>\n",
       "      <td>J7506</td>\n",
       "      <td>6930</td>\n",
       "      <td>31.1094</td>\n",
       "      <td>K62</td>\n",
       "      <td>A</td>\n",
       "      <td>I</td>\n",
       "      <td>N</td>\n",
       "      <td>N</td>\n",
       "      <td></td>\n",
       "      <td>0.0</td>\n",
       "      <td>22.677765</td>\n",
       "      <td>114</td>\n",
       "      <td>1610850</td>\n",
       "      <td>0</td>\n",
       "      <td>M</td>\n",
       "      <td>H</td>\n",
       "      <td>S</td>\n",
       "      <td>2</td>\n",
       "      <td>P00000000001</td>\n",
       "      <td>FH001311QB01</td>\n",
       "      <td>0</td>\n",
       "    </tr>\n",
       "    <tr>\n",
       "      <th>7417</th>\n",
       "      <td>355922490</td>\n",
       "      <td>7</td>\n",
       "      <td>1990817</td>\n",
       "      <td>FA0001387002</td>\n",
       "      <td>5</td>\n",
       "      <td>636</td>\n",
       "      <td>OP7O</td>\n",
       "      <td></td>\n",
       "      <td>J7506</td>\n",
       "      <td>9953</td>\n",
       "      <td>31.1094</td>\n",
       "      <td>K54</td>\n",
       "      <td>A</td>\n",
       "      <td>I</td>\n",
       "      <td>N</td>\n",
       "      <td>N</td>\n",
       "      <td></td>\n",
       "      <td>0.0</td>\n",
       "      <td>22.677765</td>\n",
       "      <td>114</td>\n",
       "      <td>1612650</td>\n",
       "      <td>0</td>\n",
       "      <td>M</td>\n",
       "      <td>H</td>\n",
       "      <td>S</td>\n",
       "      <td>2</td>\n",
       "      <td>P00000000001</td>\n",
       "      <td>FH001311QB01</td>\n",
       "      <td>0</td>\n",
       "    </tr>\n",
       "    <tr>\n",
       "      <th>7435</th>\n",
       "      <td>364717090</td>\n",
       "      <td>5</td>\n",
       "      <td>1990076</td>\n",
       "      <td>FA0001387002</td>\n",
       "      <td>5</td>\n",
       "      <td>636</td>\n",
       "      <td>OP7O</td>\n",
       "      <td></td>\n",
       "      <td>J7506</td>\n",
       "      <td>5693</td>\n",
       "      <td>31.1094</td>\n",
       "      <td>K62</td>\n",
       "      <td>A</td>\n",
       "      <td>I</td>\n",
       "      <td>N</td>\n",
       "      <td>N</td>\n",
       "      <td></td>\n",
       "      <td>0.0</td>\n",
       "      <td>22.677765</td>\n",
       "      <td>114</td>\n",
       "      <td>1612050</td>\n",
       "      <td>0</td>\n",
       "      <td>M</td>\n",
       "      <td>H</td>\n",
       "      <td>S</td>\n",
       "      <td>2</td>\n",
       "      <td>P00000000001</td>\n",
       "      <td>FH001311QB01</td>\n",
       "      <td>0</td>\n",
       "    </tr>\n",
       "    <tr>\n",
       "      <th>7515</th>\n",
       "      <td>462150690</td>\n",
       "      <td>10</td>\n",
       "      <td>1992978</td>\n",
       "      <td>FA0001387002</td>\n",
       "      <td>5</td>\n",
       "      <td>636</td>\n",
       "      <td>OP7O</td>\n",
       "      <td></td>\n",
       "      <td>J7506</td>\n",
       "      <td>9951</td>\n",
       "      <td>31.1094</td>\n",
       "      <td>K62</td>\n",
       "      <td>A</td>\n",
       "      <td>I</td>\n",
       "      <td>N</td>\n",
       "      <td>N</td>\n",
       "      <td></td>\n",
       "      <td>0.0</td>\n",
       "      <td>18.147150</td>\n",
       "      <td>114</td>\n",
       "      <td>1614400</td>\n",
       "      <td>0</td>\n",
       "      <td>M</td>\n",
       "      <td>H</td>\n",
       "      <td>S</td>\n",
       "      <td>2</td>\n",
       "      <td>P00000000001</td>\n",
       "      <td>FH001311QB01</td>\n",
       "      <td>0</td>\n",
       "    </tr>\n",
       "  </tbody>\n",
       "</table>\n",
       "</div>"
      ],
      "text/plain": [
       "      Claim.Number  Claim.Line.Number  Member.ID   Provider.ID  \\\n",
       "7188     239180990                  3    1988595  FA0001387002   \n",
       "7417     355922490                  7    1990817  FA0001387002   \n",
       "7435     364717090                  5    1990076  FA0001387002   \n",
       "7515     462150690                 10    1992978  FA0001387002   \n",
       "\n",
       "     Line.Of.Business.ID  Revenue.Code Service.Code Place.Of.Service.Code  \\\n",
       "7188                   5           636         OP7O                         \n",
       "7417                   5           636         OP7O                         \n",
       "7435                   5           636         OP7O                         \n",
       "7515                   5           636         OP7O                         \n",
       "\n",
       "     Procedure.Code Diagnosis.Code  Claim.Charge.Amount Denial.Reason.Code  \\\n",
       "7188          J7506           6930              31.1094                K62   \n",
       "7417          J7506           9953              31.1094                K54   \n",
       "7435          J7506           5693              31.1094                K62   \n",
       "7515          J7506           9951              31.1094                K62   \n",
       "\n",
       "     Price.Index In.Out.Of.Network Reference.Index Pricing.Index  \\\n",
       "7188           A                 I               N             N   \n",
       "7417           A                 I               N             N   \n",
       "7435           A                 I               N             N   \n",
       "7515           A                 I               N             N   \n",
       "\n",
       "     Capitation.Index  Subscriber.Payment.Amount  Provider.Payment.Amount  \\\n",
       "7188                                         0.0                22.677765   \n",
       "7417                                         0.0                22.677765   \n",
       "7435                                         0.0                22.677765   \n",
       "7515                                         0.0                18.147150   \n",
       "\n",
       "      Group.Index  Subscriber.Index  Subgroup.Index Claim.Type  \\\n",
       "7188          114           1610850               0          M   \n",
       "7417          114           1612650               0          M   \n",
       "7435          114           1612050               0          M   \n",
       "7515          114           1614400               0          M   \n",
       "\n",
       "     Claim.Subscriber.Type Claim.Pre.Prince.Index  Claim.Current.Status  \\\n",
       "7188                     H                      S                     2   \n",
       "7417                     H                      S                     2   \n",
       "7435                     H                      S                     2   \n",
       "7515                     H                      S                     2   \n",
       "\n",
       "        Network.ID  Agreement.ID  UnpaidClaim  \n",
       "7188  P00000000001  FH001311QB01            0  \n",
       "7417  P00000000001  FH001311QB01            0  \n",
       "7435  P00000000001  FH001311QB01            0  \n",
       "7515  P00000000001  FH001311QB01            0  "
      ]
     },
     "execution_count": 49,
     "metadata": {},
     "output_type": "execute_result"
    }
   ],
   "source": [
    "procedure_data.loc[procedure_data[col] == min(procedure_data[col])]"
   ]
  },
  {
   "cell_type": "markdown",
   "metadata": {},
   "source": [
    "### Denial.Reason.Code"
   ]
  },
  {
   "cell_type": "code",
   "execution_count": 50,
   "metadata": {
    "ExecuteTime": {
     "end_time": "2020-08-03T17:11:24.410341Z",
     "start_time": "2020-08-03T17:11:24.016554Z"
    }
   },
   "outputs": [
    {
     "data": {
      "image/png": "[encoded data removed]",
      "text/plain": [
       "<Figure size 576x396 with 1 Axes>"
      ]
     },
     "metadata": {},
     "output_type": "display_data"
    }
   ],
   "source": [
    "# k62 THIS SERVICE IS NOT PAID. THE PROCEDURE EXCEEDED MAX UNITS ALLOWED PER DATE \n",
    "# OF SERVICE ON THIS CLAIM OR ANOTHER CLAIM FOR SAME DOS.\n",
    "# PDC — Billed amount is higher than the maximum payment insurance allows. The payment is for the allowed amount.\n",
    "col = 'Denial.Reason.Code'\n",
    "sns.countplot(y=procedure_data[col], order=procedure_data[col].value_counts().iloc[:10].index);\n",
    "plt.savefig(os.path.join('../','visualization',f\"{col}_barchart.png\"))"
   ]
  },
  {
   "cell_type": "code",
   "execution_count": 51,
   "metadata": {
    "ExecuteTime": {
     "end_time": "2020-08-03T17:11:24.420444Z",
     "start_time": "2020-08-03T17:11:24.412760Z"
    }
   },
   "outputs": [
    {
     "data": {
      "text/plain": [
       "       6416\n",
       "K62    2479\n",
       "PDC    1684\n",
       "J2M     368\n",
       "J72      96\n",
       "       ... \n",
       "TR2       1\n",
       "K95       1\n",
       "JC9       1\n",
       "JZB       1\n",
       "JSJ       1\n",
       "Name: Denial.Reason.Code, Length: 72, dtype: int64"
      ]
     },
     "execution_count": 51,
     "metadata": {},
     "output_type": "execute_result"
    }
   ],
   "source": [
    "# k62 THIS SERVICE IS NOT PAID. THE PROCEDURE EXCEEDED MAX UNITS ALLOWED PER DATE \n",
    "# OF SERVICE ON THIS CLAIM OR ANOTHER CLAIM FOR SAME DOS.\n",
    "# PDC — Billed amount is higher than the maximum payment insurance allows. The payment is for the allowed amount.\n",
    "procedure_data[col].value_counts()"
   ]
  },
  {
   "cell_type": "markdown",
   "metadata": {},
   "source": [
    "### Price.Index"
   ]
  },
  {
   "cell_type": "code",
   "execution_count": 52,
   "metadata": {
    "ExecuteTime": {
     "end_time": "2020-08-03T17:11:24.819731Z",
     "start_time": "2020-08-03T17:11:24.422711Z"
    }
   },
   "outputs": [
    {
     "data": {
      "image/png": "[encoded data removed]",
      "text/plain": [
       "<Figure size 576x396 with 1 Axes>"
      ]
     },
     "metadata": {},
     "output_type": "display_data"
    }
   ],
   "source": [
    "# look at priced index\n",
    "col = 'Price.Index'\n",
    "sns.countplot(y=procedure_data[col], order=procedure_data[col].value_counts().iloc[:10].index);\n",
    "plt.savefig(os.path.join('../','visualization',f\"{col}_barchart.png\"))"
   ]
  },
  {
   "cell_type": "code",
   "execution_count": 53,
   "metadata": {
    "ExecuteTime": {
     "end_time": "2020-08-03T17:11:24.830335Z",
     "start_time": "2020-08-03T17:11:24.821293Z"
    }
   },
   "outputs": [
    {
     "data": {
      "text/plain": [
       "A    8682\n",
       "     2838\n",
       "E     258\n",
       "Name: Price.Index, dtype: int64"
      ]
     },
     "execution_count": 53,
     "metadata": {},
     "output_type": "execute_result"
    }
   ],
   "source": [
    "procedure_data[col].value_counts().iloc[:10]"
   ]
  },
  {
   "cell_type": "markdown",
   "metadata": {},
   "source": [
    "### In.Out.Of.Network"
   ]
  },
  {
   "cell_type": "code",
   "execution_count": 54,
   "metadata": {
    "ExecuteTime": {
     "end_time": "2020-08-03T17:11:25.211545Z",
     "start_time": "2020-08-03T17:11:24.832972Z"
    }
   },
   "outputs": [
    {
     "data": {
      "image/png": "[encoded data removed]",
      "text/plain": [
       "<Figure size 576x396 with 1 Axes>"
      ]
     },
     "metadata": {},
     "output_type": "display_data"
    }
   ],
   "source": [
    "# look at in versus out of network\n",
    "col = 'In.Out.Of.Network'\n",
    "sns.countplot(y=procedure_data[col], order=procedure_data[col].value_counts().iloc[:10].index);\n",
    "plt.savefig(os.path.join('../','visualization',f\"{col}_barchart.png\"))"
   ]
  },
  {
   "cell_type": "code",
   "execution_count": 55,
   "metadata": {
    "ExecuteTime": {
     "end_time": "2020-08-03T17:11:25.222405Z",
     "start_time": "2020-08-03T17:11:25.213606Z"
    }
   },
   "outputs": [
    {
     "data": {
      "text/plain": [
       "I    9190\n",
       "     2523\n",
       "O      65\n",
       "Name: In.Out.Of.Network, dtype: int64"
      ]
     },
     "execution_count": 55,
     "metadata": {},
     "output_type": "execute_result"
    }
   ],
   "source": [
    "procedure_data[col].value_counts().iloc[:10]"
   ]
  },
  {
   "cell_type": "markdown",
   "metadata": {},
   "source": [
    "### Reference.Index"
   ]
  },
  {
   "cell_type": "code",
   "execution_count": 56,
   "metadata": {
    "ExecuteTime": {
     "end_time": "2020-08-03T17:11:25.539942Z",
     "start_time": "2020-08-03T17:11:25.224995Z"
    }
   },
   "outputs": [
    {
     "data": {
      "image/png": "[encoded data removed]",
      "text/plain": [
       "<Figure size 576x396 with 1 Axes>"
      ]
     },
     "metadata": {},
     "output_type": "display_data"
    }
   ],
   "source": [
    "col = 'Reference.Index'\n",
    "sns.countplot(y=procedure_data[col], order=procedure_data[col].value_counts().iloc[:10].index);\n",
    "plt.savefig(os.path.join('../','visualization',f\"{col}_barchart.png\"))"
   ]
  },
  {
   "cell_type": "code",
   "execution_count": 57,
   "metadata": {
    "ExecuteTime": {
     "end_time": "2020-08-03T17:11:25.550081Z",
     "start_time": "2020-08-03T17:11:25.541588Z"
    }
   },
   "outputs": [
    {
     "data": {
      "text/plain": [
       "N    5808\n",
       "V    3476\n",
       "     2490\n",
       "F       4\n",
       "Name: Reference.Index, dtype: int64"
      ]
     },
     "execution_count": 57,
     "metadata": {},
     "output_type": "execute_result"
    }
   ],
   "source": [
    "# look at reference index\n",
    "col = 'Reference.Index'\n",
    "procedure_data[col].value_counts(ascending=False).head(10)"
   ]
  },
  {
   "cell_type": "markdown",
   "metadata": {},
   "source": [
    "### Pricing.Index"
   ]
  },
  {
   "cell_type": "code",
   "execution_count": 58,
   "metadata": {
    "ExecuteTime": {
     "end_time": "2020-08-03T17:11:25.896760Z",
     "start_time": "2020-08-03T17:11:25.552415Z"
    }
   },
   "outputs": [
    {
     "data": {
      "image/png": "[encoded data removed]",
      "text/plain": [
       "<Figure size 576x396 with 1 Axes>"
      ]
     },
     "metadata": {},
     "output_type": "display_data"
    }
   ],
   "source": [
    "col = 'Pricing.Index'\n",
    "sns.countplot(y=procedure_data[col], order=procedure_data[col].value_counts().iloc[:10].index);\n",
    "plt.savefig(os.path.join('../','visualization',f\"{col}_barchart.png\"))"
   ]
  },
  {
   "cell_type": "code",
   "execution_count": 59,
   "metadata": {
    "ExecuteTime": {
     "end_time": "2020-08-03T17:11:25.908377Z",
     "start_time": "2020-08-03T17:11:25.899205Z"
    }
   },
   "outputs": [
    {
     "data": {
      "text/plain": [
       "N    8422\n",
       "     2490\n",
       "V     830\n",
       "F      36\n",
       "Name: Pricing.Index, dtype: int64"
      ]
     },
     "execution_count": 59,
     "metadata": {},
     "output_type": "execute_result"
    }
   ],
   "source": [
    "# look at pricing index\n",
    "procedure_data[col].value_counts(ascending=False).head(10)"
   ]
  },
  {
   "cell_type": "markdown",
   "metadata": {},
   "source": [
    "### Capitation.Index"
   ]
  },
  {
   "cell_type": "code",
   "execution_count": 60,
   "metadata": {
    "ExecuteTime": {
     "end_time": "2020-08-03T17:11:26.239511Z",
     "start_time": "2020-08-03T17:11:25.911009Z"
    }
   },
   "outputs": [
    {
     "data": {
      "image/png": "[encoded data removed]",
      "text/plain": [
       "<Figure size 576x396 with 1 Axes>"
      ]
     },
     "metadata": {},
     "output_type": "display_data"
    }
   ],
   "source": [
    "col = 'Capitation.Index'\n",
    "sns.countplot(y=procedure_data[col], order=procedure_data[col].value_counts().iloc[:10].index);\n",
    "plt.savefig(os.path.join('../','visualization',f\"{col}_barchart.png\"))"
   ]
  },
  {
   "cell_type": "code",
   "execution_count": 61,
   "metadata": {
    "ExecuteTime": {
     "end_time": "2020-08-03T17:11:26.249541Z",
     "start_time": "2020-08-03T17:11:26.241224Z"
    }
   },
   "outputs": [
    {
     "data": {
      "text/plain": [
       "     7843\n",
       "N    3888\n",
       "R      47\n",
       "Name: Capitation.Index, dtype: int64"
      ]
     },
     "execution_count": 61,
     "metadata": {},
     "output_type": "execute_result"
    }
   ],
   "source": [
    "# look at capitation index\n",
    "procedure_data[col].value_counts(ascending=False).head(10)"
   ]
  },
  {
   "cell_type": "markdown",
   "metadata": {},
   "source": [
    "### Subscriber.Payment.Amount"
   ]
  },
  {
   "cell_type": "code",
   "execution_count": 62,
   "metadata": {
    "ExecuteTime": {
     "end_time": "2020-08-03T17:11:26.556273Z",
     "start_time": "2020-08-03T17:11:26.251839Z"
    }
   },
   "outputs": [
    {
     "data": {
      "image/png": "[encoded data removed]",
      "text/plain": [
       "<Figure size 576x396 with 1 Axes>"
      ]
     },
     "metadata": {},
     "output_type": "display_data"
    }
   ],
   "source": [
    "col = 'Subscriber.Payment.Amount'\n",
    "sns.countplot(y=procedure_data[col], order=procedure_data[col].value_counts().iloc[:10].index);\n",
    "plt.savefig(os.path.join('../','visualization',f\"{col}_barchart.png\"))"
   ]
  },
  {
   "cell_type": "code",
   "execution_count": 63,
   "metadata": {
    "ExecuteTime": {
     "end_time": "2020-08-03T17:11:26.566336Z",
     "start_time": "2020-08-03T17:11:26.558096Z"
    }
   },
   "outputs": [
    {
     "data": {
      "text/plain": [
       "0.0    11778\n",
       "Name: Subscriber.Payment.Amount, dtype: int64"
      ]
     },
     "execution_count": 63,
     "metadata": {},
     "output_type": "execute_result"
    }
   ],
   "source": [
    "# look at subscriber payment amount\n",
    "procedure_data[col].value_counts(ascending=False).head(10)"
   ]
  },
  {
   "cell_type": "markdown",
   "metadata": {},
   "source": [
    "### Provider.Payment.Amount"
   ]
  },
  {
   "cell_type": "code",
   "execution_count": 64,
   "metadata": {
    "ExecuteTime": {
     "end_time": "2020-08-03T17:11:27.016234Z",
     "start_time": "2020-08-03T17:11:26.568457Z"
    }
   },
   "outputs": [
    {
     "data": {
      "image/png": "[encoded data removed]",
      "text/plain": [
       "<Figure size 576x396 with 1 Axes>"
      ]
     },
     "metadata": {},
     "output_type": "display_data"
    }
   ],
   "source": [
    "col ='Provider.Payment.Amount'\n",
    "sns.countplot(y=procedure_data[col], order=procedure_data[col].value_counts().iloc[:10].index);\n",
    "plt.tight_layout()\n",
    "plt.savefig(os.path.join('../','visualization',f\"{col}_barchart.png\"))"
   ]
  },
  {
   "cell_type": "code",
   "execution_count": 65,
   "metadata": {
    "ExecuteTime": {
     "end_time": "2020-08-03T17:11:27.026494Z",
     "start_time": "2020-08-03T17:11:27.017910Z"
    }
   },
   "outputs": [
    {
     "data": {
      "text/plain": [
       "0.000000      5889\n",
       "61.650930      113\n",
       "353.067000     100\n",
       "59.280690       96\n",
       "0.012345        85\n",
       "84.563250       79\n",
       "280.848750      72\n",
       "233.394570      60\n",
       "269.071620      59\n",
       "135.177750      57\n",
       "Name: Provider.Payment.Amount, dtype: int64"
      ]
     },
     "execution_count": 65,
     "metadata": {},
     "output_type": "execute_result"
    }
   ],
   "source": [
    "# look at provider payment amount\n",
    "procedure_data[col].value_counts(ascending=False).head(10)"
   ]
  },
  {
   "cell_type": "markdown",
   "metadata": {},
   "source": [
    "### Group.Index"
   ]
  },
  {
   "cell_type": "code",
   "execution_count": 66,
   "metadata": {
    "ExecuteTime": {
     "end_time": "2020-08-03T17:11:27.493438Z",
     "start_time": "2020-08-03T17:11:27.049305Z"
    }
   },
   "outputs": [
    {
     "data": {
      "image/png": "[encoded data removed]",
      "text/plain": [
       "<Figure size 576x396 with 1 Axes>"
      ]
     },
     "metadata": {},
     "output_type": "display_data"
    }
   ],
   "source": [
    "col ='Group.Index'\n",
    "sns.countplot(y=procedure_data[col], order=procedure_data[col].value_counts().iloc[:10].index);\n",
    "plt.tight_layout()\n",
    "plt.savefig(os.path.join('../','visualization',f\"{col}_barchart.png\"))"
   ]
  },
  {
   "cell_type": "code",
   "execution_count": 67,
   "metadata": {
    "ExecuteTime": {
     "end_time": "2020-08-03T17:11:27.505368Z",
     "start_time": "2020-08-03T17:11:27.495787Z"
    }
   },
   "outputs": [
    {
     "data": {
      "text/plain": [
       "114      3861\n",
       "48546    3156\n",
       "572      2036\n",
       "110      1179\n",
       "48549     443\n",
       "12976      26\n",
       "31400      24\n",
       "47656      22\n",
       "25509      21\n",
       "302        21\n",
       "Name: Group.Index, dtype: int64"
      ]
     },
     "execution_count": 67,
     "metadata": {},
     "output_type": "execute_result"
    }
   ],
   "source": [
    "# look at group index\n",
    "procedure_data[col].value_counts(ascending=False).head(10)"
   ]
  },
  {
   "cell_type": "markdown",
   "metadata": {},
   "source": [
    "### Subscriber.Index"
   ]
  },
  {
   "cell_type": "code",
   "execution_count": 68,
   "metadata": {
    "ExecuteTime": {
     "end_time": "2020-08-03T17:11:28.005046Z",
     "start_time": "2020-08-03T17:11:27.508022Z"
    }
   },
   "outputs": [
    {
     "data": {
      "image/png": "[encoded data removed]",
      "text/plain": [
       "<Figure size 576x396 with 1 Axes>"
      ]
     },
     "metadata": {},
     "output_type": "display_data"
    }
   ],
   "source": [
    "col ='Subscriber.Index'\n",
    "sns.countplot(y=procedure_data[col], order=procedure_data[col].value_counts().iloc[:10].index);\n",
    "plt.tight_layout()\n",
    "plt.savefig(os.path.join('../','visualization',f\"{col}_barchart.png\"))"
   ]
  },
  {
   "cell_type": "code",
   "execution_count": 69,
   "metadata": {
    "ExecuteTime": {
     "end_time": "2020-08-03T17:11:28.015240Z",
     "start_time": "2020-08-03T17:11:28.006882Z"
    }
   },
   "outputs": [
    {
     "data": {
      "text/plain": [
       "1259000     135\n",
       "17723800     83\n",
       "20522500     76\n",
       "30620100     74\n",
       "1609700      74\n",
       "76652600     73\n",
       "65653750     66\n",
       "68610700     60\n",
       "73037200     50\n",
       "1617050      49\n",
       "Name: Subscriber.Index, dtype: int64"
      ]
     },
     "execution_count": 69,
     "metadata": {},
     "output_type": "execute_result"
    }
   ],
   "source": [
    "# look at subscriber index\n",
    "procedure_data[col].value_counts(ascending=False).head(10)"
   ]
  },
  {
   "cell_type": "code",
   "execution_count": 70,
   "metadata": {
    "ExecuteTime": {
     "end_time": "2020-08-03T17:11:28.073019Z",
     "start_time": "2020-08-03T17:11:28.017578Z"
    }
   },
   "outputs": [
    {
     "data": {
      "text/html": [
       "<div>\n",
       "<style scoped>\n",
       "    .dataframe tbody tr th:only-of-type {\n",
       "        vertical-align: middle;\n",
       "    }\n",
       "\n",
       "    .dataframe tbody tr th {\n",
       "        vertical-align: top;\n",
       "    }\n",
       "\n",
       "    .dataframe thead th {\n",
       "        text-align: right;\n",
       "    }\n",
       "</style>\n",
       "<table border=\"1\" class=\"dataframe\">\n",
       "  <thead>\n",
       "    <tr style=\"text-align: right;\">\n",
       "      <th></th>\n",
       "      <th>Subscriber.Index</th>\n",
       "    </tr>\n",
       "  </thead>\n",
       "  <tbody>\n",
       "    <tr>\n",
       "      <th>2769</th>\n",
       "      <td>1259000</td>\n",
       "    </tr>\n",
       "    <tr>\n",
       "      <th>6786</th>\n",
       "      <td>1259000</td>\n",
       "    </tr>\n",
       "    <tr>\n",
       "      <th>6787</th>\n",
       "      <td>1259000</td>\n",
       "    </tr>\n",
       "    <tr>\n",
       "      <th>6788</th>\n",
       "      <td>1259000</td>\n",
       "    </tr>\n",
       "    <tr>\n",
       "      <th>6789</th>\n",
       "      <td>1259000</td>\n",
       "    </tr>\n",
       "    <tr>\n",
       "      <th>...</th>\n",
       "      <td>...</td>\n",
       "    </tr>\n",
       "    <tr>\n",
       "      <th>7244</th>\n",
       "      <td>1259000</td>\n",
       "    </tr>\n",
       "    <tr>\n",
       "      <th>7550</th>\n",
       "      <td>1259000</td>\n",
       "    </tr>\n",
       "    <tr>\n",
       "      <th>7796</th>\n",
       "      <td>1259000</td>\n",
       "    </tr>\n",
       "    <tr>\n",
       "      <th>8037</th>\n",
       "      <td>1259000</td>\n",
       "    </tr>\n",
       "    <tr>\n",
       "      <th>8342</th>\n",
       "      <td>1259000</td>\n",
       "    </tr>\n",
       "  </tbody>\n",
       "</table>\n",
       "<p>135 rows × 1 columns</p>\n",
       "</div>"
      ],
      "text/plain": [
       "      Subscriber.Index\n",
       "2769           1259000\n",
       "6786           1259000\n",
       "6787           1259000\n",
       "6788           1259000\n",
       "6789           1259000\n",
       "...                ...\n",
       "7244           1259000\n",
       "7550           1259000\n",
       "7796           1259000\n",
       "8037           1259000\n",
       "8342           1259000\n",
       "\n",
       "[135 rows x 1 columns]"
      ]
     },
     "execution_count": 70,
     "metadata": {},
     "output_type": "execute_result"
    }
   ],
   "source": [
    "procedure_data.loc[procedure_data['Subscriber.Index'] == 1259000, ['Subscriber.Index']]"
   ]
  },
  {
   "cell_type": "markdown",
   "metadata": {},
   "source": [
    "### Subgroup.Index"
   ]
  },
  {
   "cell_type": "code",
   "execution_count": 71,
   "metadata": {
    "ExecuteTime": {
     "end_time": "2020-08-03T17:11:28.508330Z",
     "start_time": "2020-08-03T17:11:28.075564Z"
    }
   },
   "outputs": [
    {
     "data": {
      "image/png": "[encoded data removed]",
      "text/plain": [
       "<Figure size 576x396 with 1 Axes>"
      ]
     },
     "metadata": {},
     "output_type": "display_data"
    }
   ],
   "source": [
    "col = 'Subgroup.Index'\n",
    "sns.countplot(y=procedure_data[col], order=procedure_data[col].value_counts().iloc[:10].index);\n",
    "plt.tight_layout()\n",
    "plt.savefig(os.path.join('../','visualization',f\"{col}_barchart.png\"))"
   ]
  },
  {
   "cell_type": "code",
   "execution_count": 72,
   "metadata": {
    "ExecuteTime": {
     "end_time": "2020-08-03T17:11:28.517825Z",
     "start_time": "2020-08-03T17:11:28.510197Z"
    }
   },
   "outputs": [
    {
     "data": {
      "text/plain": [
       "0        10254\n",
       "52255      230\n",
       "52245      162\n",
       "52254       46\n",
       "13610       26\n",
       "33191       24\n",
       "39238       21\n",
       "523         21\n",
       "26881       21\n",
       "907         20\n",
       "Name: Subgroup.Index, dtype: int64"
      ]
     },
     "execution_count": 72,
     "metadata": {},
     "output_type": "execute_result"
    }
   ],
   "source": [
    "# look at sub-group index\n",
    "procedure_data[col].value_counts(ascending=False).head(10)"
   ]
  },
  {
   "cell_type": "markdown",
   "metadata": {},
   "source": [
    "### Claim.Type"
   ]
  },
  {
   "cell_type": "code",
   "execution_count": 73,
   "metadata": {
    "ExecuteTime": {
     "end_time": "2020-08-03T17:11:28.810355Z",
     "start_time": "2020-08-03T17:11:28.520011Z"
    }
   },
   "outputs": [
    {
     "data": {
      "image/png": "[encoded data removed]",
      "text/plain": [
       "<Figure size 576x396 with 1 Axes>"
      ]
     },
     "metadata": {},
     "output_type": "display_data"
    }
   ],
   "source": [
    "col = 'Claim.Type'\n",
    "sns.countplot(y=procedure_data[col], order=procedure_data[col].value_counts().iloc[:10].index);\n",
    "plt.savefig(os.path.join('../','visualization',f\"{col}_barchart.png\"))"
   ]
  },
  {
   "cell_type": "code",
   "execution_count": 74,
   "metadata": {
    "ExecuteTime": {
     "end_time": "2020-08-03T17:11:28.820502Z",
     "start_time": "2020-08-03T17:11:28.812394Z"
    }
   },
   "outputs": [
    {
     "data": {
      "text/plain": [
       "M    10308\n",
       "E     1470\n",
       "Name: Claim.Type, dtype: int64"
      ]
     },
     "execution_count": 74,
     "metadata": {},
     "output_type": "execute_result"
    }
   ],
   "source": [
    "# look at claim type\n",
    "procedure_data[col].value_counts(ascending=False).head(10)"
   ]
  },
  {
   "cell_type": "markdown",
   "metadata": {},
   "source": [
    "### Claim.Subscriber.Type"
   ]
  },
  {
   "cell_type": "code",
   "execution_count": 75,
   "metadata": {
    "ExecuteTime": {
     "end_time": "2020-08-03T17:11:29.148751Z",
     "start_time": "2020-08-03T17:11:28.823465Z"
    }
   },
   "outputs": [
    {
     "data": {
      "image/png": "[encoded data removed]",
      "text/plain": [
       "<Figure size 576x396 with 1 Axes>"
      ]
     },
     "metadata": {},
     "output_type": "display_data"
    }
   ],
   "source": [
    "col = 'Claim.Subscriber.Type'\n",
    "sns.countplot(y=procedure_data[col], order=procedure_data[col].value_counts().iloc[:10].index);\n",
    "plt.savefig(os.path.join('../','visualization',f\"{col}_barchart.png\"))"
   ]
  },
  {
   "cell_type": "code",
   "execution_count": 76,
   "metadata": {
    "ExecuteTime": {
     "end_time": "2020-08-03T17:11:29.158026Z",
     "start_time": "2020-08-03T17:11:29.150886Z"
    }
   },
   "outputs": [
    {
     "data": {
      "text/plain": [
       "H    11778\n",
       "Name: Claim.Subscriber.Type, dtype: int64"
      ]
     },
     "execution_count": 76,
     "metadata": {},
     "output_type": "execute_result"
    }
   ],
   "source": [
    "# look at subsriber type\n",
    "procedure_data[col].value_counts(ascending=False).head(10)"
   ]
  },
  {
   "cell_type": "markdown",
   "metadata": {},
   "source": [
    "### Claim.Pre.Prince.Index"
   ]
  },
  {
   "cell_type": "code",
   "execution_count": 77,
   "metadata": {
    "ExecuteTime": {
     "end_time": "2020-08-03T17:11:29.485084Z",
     "start_time": "2020-08-03T17:11:29.160423Z"
    }
   },
   "outputs": [
    {
     "data": {
      "image/png": "[encoded data removed]",
      "text/plain": [
       "<Figure size 576x396 with 1 Axes>"
      ]
     },
     "metadata": {},
     "output_type": "display_data"
    }
   ],
   "source": [
    "col = 'Claim.Pre.Prince.Index'\n",
    "sns.countplot(y=procedure_data[col], order=procedure_data[col].value_counts().iloc[:10].index);\n",
    "plt.savefig(os.path.join('../','visualization',f\"{col}_barchart.png\"))"
   ]
  },
  {
   "cell_type": "code",
   "execution_count": 78,
   "metadata": {
    "ExecuteTime": {
     "end_time": "2020-08-03T17:11:29.493586Z",
     "start_time": "2020-08-03T17:11:29.486654Z"
    }
   },
   "outputs": [
    {
     "data": {
      "text/plain": [
       "     7917\n",
       "S    3846\n",
       "E      15\n",
       "Name: Claim.Pre.Prince.Index, dtype: int64"
      ]
     },
     "execution_count": 78,
     "metadata": {},
     "output_type": "execute_result"
    }
   ],
   "source": [
    "# look at claim pre price index\n",
    "procedure_data[col].value_counts(ascending=False).head(10)"
   ]
  },
  {
   "cell_type": "markdown",
   "metadata": {},
   "source": [
    "### Claim.Current.Status"
   ]
  },
  {
   "cell_type": "code",
   "execution_count": 79,
   "metadata": {
    "ExecuteTime": {
     "end_time": "2020-08-03T17:11:29.830738Z",
     "start_time": "2020-08-03T17:11:29.495729Z"
    }
   },
   "outputs": [
    {
     "data": {
      "image/png": "[encoded data removed]",
      "text/plain": [
       "<Figure size 576x396 with 1 Axes>"
      ]
     },
     "metadata": {},
     "output_type": "display_data"
    }
   ],
   "source": [
    "col = 'Claim.Current.Status'\n",
    "sns.countplot(y=procedure_data[col], order=procedure_data[col].value_counts().iloc[:10].index);\n",
    "plt.savefig(os.path.join('../','visualization',f\"{col}_barchart.png\"))"
   ]
  },
  {
   "cell_type": "code",
   "execution_count": 80,
   "metadata": {
    "ExecuteTime": {
     "end_time": "2020-08-03T17:11:29.843614Z",
     "start_time": "2020-08-03T17:11:29.832688Z"
    }
   },
   "outputs": [
    {
     "data": {
      "text/plain": [
       "2     8892\n",
       "19     730\n",
       "11     581\n",
       "91     537\n",
       "81     394\n",
       "15     303\n",
       "1      175\n",
       "99     164\n",
       "89       2\n",
       "Name: Claim.Current.Status, dtype: int64"
      ]
     },
     "execution_count": 80,
     "metadata": {},
     "output_type": "execute_result"
    }
   ],
   "source": [
    "# look at claim current status\n",
    "procedure_data[col].value_counts(ascending=False).head(10)"
   ]
  },
  {
   "cell_type": "markdown",
   "metadata": {},
   "source": [
    "### Network.ID"
   ]
  },
  {
   "cell_type": "code",
   "execution_count": 81,
   "metadata": {
    "ExecuteTime": {
     "end_time": "2020-08-03T17:11:30.410209Z",
     "start_time": "2020-08-03T17:11:29.845458Z"
    }
   },
   "outputs": [
    {
     "data": {
      "image/png": "[encoded data removed]",
      "text/plain": [
       "<Figure size 576x396 with 1 Axes>"
      ]
     },
     "metadata": {},
     "output_type": "display_data"
    }
   ],
   "source": [
    "col = 'Network.ID'\n",
    "sns.countplot(y=procedure_data[col], order=procedure_data[col].value_counts().iloc[:10].index);\n",
    "plt.tight_layout()\n",
    "plt.savefig(os.path.join('../','visualization',f\"{col}_barchart.png\"))"
   ]
  },
  {
   "cell_type": "code",
   "execution_count": 82,
   "metadata": {
    "ExecuteTime": {
     "end_time": "2020-08-03T17:11:30.421534Z",
     "start_time": "2020-08-03T17:11:30.412728Z"
    }
   },
   "outputs": [
    {
     "data": {
      "text/plain": [
       "P00000000001    4129\n",
       "P00000000007    2907\n",
       "                2579\n",
       "MIMAPD000002     882\n",
       "P00000000002     502\n",
       "MIMAPD000001     364\n",
       "MGMAPD000001     241\n",
       "H00000000001     121\n",
       "ITS000000004      20\n",
       "H00000000003      13\n",
       "H00000000002      11\n",
       "H00000000004       4\n",
       "P00000000003       3\n",
       "P00000000009       2\n",
       "Name: Network.ID, dtype: int64"
      ]
     },
     "execution_count": 82,
     "metadata": {},
     "output_type": "execute_result"
    }
   ],
   "source": [
    "# network id\n",
    "procedure_data[col].value_counts(ascending=False).head(20)"
   ]
  },
  {
   "cell_type": "markdown",
   "metadata": {},
   "source": [
    "### Agreement.ID"
   ]
  },
  {
   "cell_type": "code",
   "execution_count": 83,
   "metadata": {
    "ExecuteTime": {
     "end_time": "2020-08-03T17:11:30.961421Z",
     "start_time": "2020-08-03T17:11:30.424332Z"
    }
   },
   "outputs": [
    {
     "data": {
      "image/png": "[encoded data removed]",
      "text/plain": [
       "<Figure size 576x396 with 1 Axes>"
      ]
     },
     "metadata": {},
     "output_type": "display_data"
    }
   ],
   "source": [
    "col = 'Agreement.ID'\n",
    "sns.countplot(y=procedure_data[col], order=procedure_data[col].value_counts().iloc[:10].index);\n",
    "plt.tight_layout()\n",
    "plt.savefig(os.path.join('../','visualization',f\"{col}_barchart.png\"))"
   ]
  },
  {
   "cell_type": "code",
   "execution_count": 84,
   "metadata": {
    "ExecuteTime": {
     "end_time": "2020-08-03T17:11:30.972470Z",
     "start_time": "2020-08-03T17:11:30.963555Z"
    }
   },
   "outputs": [
    {
     "data": {
      "text/plain": [
       "                2514\n",
       "FH001311QB01    1834\n",
       "FH001310QB01    1289\n",
       "A00BLCH0Q001    1283\n",
       "FH002449QPD1    1115\n",
       "FH001309QB01    1028\n",
       "FH002454QPD1     815\n",
       "FH002451QPD1     642\n",
       "FD000001QB01     429\n",
       "FH000595QB01     410\n",
       "PI003247QM03     131\n",
       "FH002441QPD1      91\n",
       "A00MANL0QM01      42\n",
       "PI003241QM01      40\n",
       "LH000595QM01      24\n",
       "FH001885QH01      23\n",
       "A00ITS01Q001      20\n",
       "PI003241QM03      19\n",
       "PI003247QM01      15\n",
       "FH001886QH01       6\n",
       "FH001884QH01       5\n",
       "FH000000Q001       3\n",
       "Name: Agreement.ID, dtype: int64"
      ]
     },
     "execution_count": 84,
     "metadata": {},
     "output_type": "execute_result"
    }
   ],
   "source": [
    "# agreement id\n",
    "procedure_data[col].value_counts(ascending=False)"
   ]
  },
  {
   "cell_type": "markdown",
   "metadata": {},
   "source": [
    "### Provider.ID"
   ]
  },
  {
   "cell_type": "code",
   "execution_count": 85,
   "metadata": {
    "ExecuteTime": {
     "end_time": "2020-08-03T17:11:31.559442Z",
     "start_time": "2020-08-03T17:11:30.975433Z"
    }
   },
   "outputs": [
    {
     "data": {
      "image/png": "[encoded data removed]",
      "text/plain": [
       "<Figure size 576x396 with 1 Axes>"
      ]
     },
     "metadata": {},
     "output_type": "display_data"
    }
   ],
   "source": [
    "col = 'Provider.ID'\n",
    "sns.countplot(y=procedure_data[col], order=procedure_data[col].value_counts().iloc[:10].index);\n",
    "plt.tight_layout()\n",
    "plt.savefig(os.path.join('../','visualization',f\"{col}_barchart.png\"))"
   ]
  },
  {
   "cell_type": "code",
   "execution_count": 86,
   "metadata": {
    "ExecuteTime": {
     "end_time": "2020-08-03T17:11:31.569841Z",
     "start_time": "2020-08-03T17:11:31.561673Z"
    }
   },
   "outputs": [
    {
     "data": {
      "text/plain": [
       "FA0001387002    2981\n",
       "FA0001389001    2636\n",
       "FA0001411001    2089\n",
       "FA0001387001    1258\n",
       "FA1000015001     884\n",
       "FA1000014001     631\n",
       "FA0001774001     627\n",
       "FA0004551001     458\n",
       "FA1000015002     107\n",
       "FA0001389003      71\n",
       "Name: Provider.ID, dtype: int64"
      ]
     },
     "execution_count": 86,
     "metadata": {},
     "output_type": "execute_result"
    }
   ],
   "source": [
    "# agreement id\n",
    "procedure_data[col].value_counts(ascending=False).head(10)"
   ]
  },
  {
   "cell_type": "markdown",
   "metadata": {},
   "source": [
    "## Data Profile"
   ]
  },
  {
   "cell_type": "code",
   "execution_count": 87,
   "metadata": {
    "ExecuteTime": {
     "end_time": "2020-08-03T17:11:55.469546Z",
     "start_time": "2020-08-03T17:11:31.573204Z"
    }
   },
   "outputs": [
    {
     "data": {
      "application/vnd.jupyter.widget-view+json": {
       "model_id": "0be359fef542489a8a69231ca87f123a",
       "version_major": 2,
       "version_minor": 0
      },
      "text/plain": [
       "HBox(children=(FloatProgress(value=0.0, description='Summarize dataset', max=38.0, style=ProgressStyle(descrip…"
      ]
     },
     "metadata": {},
     "output_type": "display_data"
    },
    {
     "name": "stdout",
     "output_type": "stream",
     "text": [
      "\n"
     ]
    },
    {
     "data": {
      "application/vnd.jupyter.widget-view+json": {
       "model_id": "4acccf98dc884122a3269a97f187df03",
       "version_major": 2,
       "version_minor": 0
      },
      "text/plain": [
       "HBox(children=(FloatProgress(value=0.0, description='Generate report structure', max=1.0, style=ProgressStyle(…"
      ]
     },
     "metadata": {},
     "output_type": "display_data"
    },
    {
     "name": "stdout",
     "output_type": "stream",
     "text": [
      "\n"
     ]
    },
    {
     "data": {
      "application/vnd.jupyter.widget-view+json": {
       "model_id": "",
       "version_major": 2,
       "version_minor": 0
      },
      "text/plain": [
       "HBox(children=(FloatProgress(value=0.0, description='Render widgets', max=1.0, style=ProgressStyle(description…"
      ]
     },
     "metadata": {},
     "output_type": "display_data"
    },
    {
     "data": {
      "application/vnd.jupyter.widget-view+json": {
       "model_id": "7e8daa6af9f54b6dbadeae3d4b8876e5",
       "version_major": 2,
       "version_minor": 0
      },
      "text/plain": [
       "VBox(children=(Tab(children=(Tab(children=(GridBox(children=(VBox(children=(GridspecLayout(children=(HTML(valu…"
      ]
     },
     "metadata": {},
     "output_type": "display_data"
    },
    {
     "data": {
      "application/vnd.jupyter.widget-view+json": {
       "model_id": "c6fd6f2ee99c4d56a7c1987a30e8c707",
       "version_major": 2,
       "version_minor": 0
      },
      "text/plain": [
       "HBox(children=(FloatProgress(value=0.0, description='Render HTML', max=1.0, style=ProgressStyle(description_wi…"
      ]
     },
     "metadata": {},
     "output_type": "display_data"
    },
    {
     "name": "stdout",
     "output_type": "stream",
     "text": [
      "\n"
     ]
    },
    {
     "data": {
      "application/vnd.jupyter.widget-view+json": {
       "model_id": "09db2402b3394551a1e3822860b9c42d",
       "version_major": 2,
       "version_minor": 0
      },
      "text/plain": [
       "HBox(children=(FloatProgress(value=0.0, description='Export report to file', max=1.0, style=ProgressStyle(desc…"
      ]
     },
     "metadata": {},
     "output_type": "display_data"
    },
    {
     "name": "stdout",
     "output_type": "stream",
     "text": [
      "\n"
     ]
    }
   ],
   "source": [
    "import numpy as np\n",
    "import pandas as pd\n",
    "from pandas_profiling import ProfileReport\n",
    "import os\n",
    "\n",
    "produce_report = True\n",
    "\n",
    "if produce_report:\n",
    "    # produce profile report\n",
    "    profile = ProfileReport(procedure_data, title=\"Procedure Data Report\", minimal=True);\n",
    "\n",
    "    # show profile in notebook\n",
    "    profile.to_widgets();\n",
    "    \n",
    "    # save profile to visalizations folder\n",
    "    profile.to_file(os.path.join('../visualization','Procedure_Data_Report.html'))\n"
   ]
  },
  {
   "cell_type": "code",
   "execution_count": 88,
   "metadata": {
    "ExecuteTime": {
     "end_time": "2020-08-03T17:11:55.478618Z",
     "start_time": "2020-08-03T17:11:55.472382Z"
    }
   },
   "outputs": [
    {
     "data": {
      "text/html": [
       "\n",
       "        <iframe\n",
       "            width=\"950\"\n",
       "            height=\"400\"\n",
       "            src=\"../visualization/Procedure_Data_Report.html\"\n",
       "            frameborder=\"0\"\n",
       "            allowfullscreen\n",
       "        ></iframe>\n",
       "        "
      ],
      "text/plain": [
       "<IPython.lib.display.IFrame at 0x7f992705f050>"
      ]
     },
     "execution_count": 88,
     "metadata": {},
     "output_type": "execute_result"
    }
   ],
   "source": [
    "# show saved report\n",
    "IFrame(src=os.path.join('../visualization','Procedure_Data_Report.html'), width=950, height=400)"
   ]
  },
  {
   "cell_type": "markdown",
   "metadata": {},
   "source": [
    "## Drop Columns after EDA"
   ]
  },
  {
   "cell_type": "code",
   "execution_count": 89,
   "metadata": {
    "ExecuteTime": {
     "end_time": "2020-08-03T17:11:55.781776Z",
     "start_time": "2020-08-03T17:11:55.481779Z"
    }
   },
   "outputs": [],
   "source": [
    "# drop columns ['Claim.Subscriber.Type', Subscriber.Payment.Amount', 'Place.Of.Service.Code']\n",
    "procedure_data.drop(GetDict('feature_info.json')['dropped_columns'], \n",
    "                    inplace=True, axis=1)\n",
    "\n",
    "# replace blank values with NaN\n",
    "procedure_data = procedure_data.applymap(lambda x: np.nan if isinstance(x, str) and x.isspace() else x)\n",
    "\n",
    "# convert Line.of.Business.ID and Group.Index to an object an set NaN values to missing\n",
    "procedure_data['Line.Of.Business.ID'] = procedure_data['Line.Of.Business.ID'].fillna('missing')\n",
    "procedure_data['Group.Index'] = procedure_data['Group.Index'].fillna('missing')\n",
    "\n",
    "# add cleaned file to cleaned folder\n",
    "procedure_data.to_csv(os.path.join('../data','cleaned','procedure_data.tar.gz'), compression='gzip', index=False)"
   ]
  },
  {
   "cell_type": "code",
   "execution_count": 90,
   "metadata": {
    "ExecuteTime": {
     "end_time": "2020-08-03T17:11:55.808265Z",
     "start_time": "2020-08-03T17:11:55.785468Z"
    }
   },
   "outputs": [
    {
     "data": {
      "text/html": [
       "<div>\n",
       "<style scoped>\n",
       "    .dataframe tbody tr th:only-of-type {\n",
       "        vertical-align: middle;\n",
       "    }\n",
       "\n",
       "    .dataframe tbody tr th {\n",
       "        vertical-align: top;\n",
       "    }\n",
       "\n",
       "    .dataframe thead th {\n",
       "        text-align: right;\n",
       "    }\n",
       "</style>\n",
       "<table border=\"1\" class=\"dataframe\">\n",
       "  <thead>\n",
       "    <tr style=\"text-align: right;\">\n",
       "      <th></th>\n",
       "      <th>Provider.ID</th>\n",
       "      <th>Line.Of.Business.ID</th>\n",
       "      <th>Service.Code</th>\n",
       "      <th>Procedure.Code</th>\n",
       "      <th>Diagnosis.Code</th>\n",
       "      <th>Claim.Charge.Amount</th>\n",
       "      <th>Price.Index</th>\n",
       "      <th>Reference.Index</th>\n",
       "      <th>Pricing.Index</th>\n",
       "      <th>Group.Index</th>\n",
       "      <th>Claim.Type</th>\n",
       "      <th>Network.ID</th>\n",
       "      <th>Agreement.ID</th>\n",
       "      <th>UnpaidClaim</th>\n",
       "    </tr>\n",
       "  </thead>\n",
       "  <tbody>\n",
       "    <tr>\n",
       "      <th>0</th>\n",
       "      <td>FA0001774001</td>\n",
       "      <td>1</td>\n",
       "      <td>SU7A</td>\n",
       "      <td>J1100</td>\n",
       "      <td>7350</td>\n",
       "      <td>87.896400</td>\n",
       "      <td>A</td>\n",
       "      <td>V</td>\n",
       "      <td>N</td>\n",
       "      <td>572</td>\n",
       "      <td>M</td>\n",
       "      <td>P00000000007</td>\n",
       "      <td>FH002441QPD1</td>\n",
       "      <td>1</td>\n",
       "    </tr>\n",
       "    <tr>\n",
       "      <th>1</th>\n",
       "      <td>FA0001411001</td>\n",
       "      <td>5</td>\n",
       "      <td>SU7A</td>\n",
       "      <td>J7030</td>\n",
       "      <td>8248</td>\n",
       "      <td>200.482800</td>\n",
       "      <td>A</td>\n",
       "      <td>N</td>\n",
       "      <td>N</td>\n",
       "      <td>114</td>\n",
       "      <td>M</td>\n",
       "      <td>P00000000001</td>\n",
       "      <td>FH001310QB01</td>\n",
       "      <td>1</td>\n",
       "    </tr>\n",
       "    <tr>\n",
       "      <th>2</th>\n",
       "      <td>FA0001387002</td>\n",
       "      <td>1</td>\n",
       "      <td>OP7O</td>\n",
       "      <td>J2250</td>\n",
       "      <td>V7651</td>\n",
       "      <td>84.563250</td>\n",
       "      <td>NaN</td>\n",
       "      <td>N</td>\n",
       "      <td>N</td>\n",
       "      <td>572</td>\n",
       "      <td>M</td>\n",
       "      <td>P00000000007</td>\n",
       "      <td>FH002449QPD1</td>\n",
       "      <td>1</td>\n",
       "    </tr>\n",
       "    <tr>\n",
       "      <th>3</th>\n",
       "      <td>FA0001389001</td>\n",
       "      <td>1</td>\n",
       "      <td>SU7A</td>\n",
       "      <td>J1100</td>\n",
       "      <td>17351</td>\n",
       "      <td>210.889635</td>\n",
       "      <td>A</td>\n",
       "      <td>V</td>\n",
       "      <td>N</td>\n",
       "      <td>572</td>\n",
       "      <td>M</td>\n",
       "      <td>P00000000007</td>\n",
       "      <td>FH001309QB01</td>\n",
       "      <td>1</td>\n",
       "    </tr>\n",
       "    <tr>\n",
       "      <th>4</th>\n",
       "      <td>FA1000015001</td>\n",
       "      <td>missing</td>\n",
       "      <td>OP7O</td>\n",
       "      <td>J1644</td>\n",
       "      <td>5856</td>\n",
       "      <td>353.067000</td>\n",
       "      <td>NaN</td>\n",
       "      <td>N</td>\n",
       "      <td>N</td>\n",
       "      <td>48549</td>\n",
       "      <td>E</td>\n",
       "      <td>NaN</td>\n",
       "      <td>NaN</td>\n",
       "      <td>1</td>\n",
       "    </tr>\n",
       "  </tbody>\n",
       "</table>\n",
       "</div>"
      ],
      "text/plain": [
       "    Provider.ID Line.Of.Business.ID Service.Code Procedure.Code  \\\n",
       "0  FA0001774001                   1         SU7A          J1100   \n",
       "1  FA0001411001                   5         SU7A          J7030   \n",
       "2  FA0001387002                   1         OP7O          J2250   \n",
       "3  FA0001389001                   1         SU7A          J1100   \n",
       "4  FA1000015001             missing         OP7O          J1644   \n",
       "\n",
       "  Diagnosis.Code  Claim.Charge.Amount Price.Index Reference.Index  \\\n",
       "0           7350            87.896400           A               V   \n",
       "1           8248           200.482800           A               N   \n",
       "2          V7651            84.563250         NaN               N   \n",
       "3          17351           210.889635           A               V   \n",
       "4           5856           353.067000         NaN               N   \n",
       "\n",
       "  Pricing.Index  Group.Index Claim.Type    Network.ID  Agreement.ID  \\\n",
       "0             N          572          M  P00000000007  FH002441QPD1   \n",
       "1             N          114          M  P00000000001  FH001310QB01   \n",
       "2             N          572          M  P00000000007  FH002449QPD1   \n",
       "3             N          572          M  P00000000007  FH001309QB01   \n",
       "4             N        48549          E           NaN           NaN   \n",
       "\n",
       "   UnpaidClaim  \n",
       "0            1  \n",
       "1            1  \n",
       "2            1  \n",
       "3            1  \n",
       "4            1  "
      ]
     },
     "execution_count": 90,
     "metadata": {},
     "output_type": "execute_result"
    }
   ],
   "source": [
    "# make sure columns are removed\n",
    "procedure_data.head()"
   ]
  },
  {
   "cell_type": "code",
   "execution_count": 91,
   "metadata": {
    "ExecuteTime": {
     "end_time": "2020-08-03T17:11:55.891114Z",
     "start_time": "2020-08-03T17:11:55.811577Z"
    }
   },
   "outputs": [
    {
     "name": "stdout",
     "output_type": "stream",
     "text": [
      "<class 'pandas.core.frame.DataFrame'>\n",
      "RangeIndex: 11778 entries, 0 to 11777\n",
      "Data columns (total 14 columns):\n",
      " #   Column               Non-Null Count  Dtype  \n",
      "---  ------               --------------  -----  \n",
      " 0   Provider.ID          11778 non-null  object \n",
      " 1   Line.Of.Business.ID  11778 non-null  object \n",
      " 2   Service.Code         11771 non-null  object \n",
      " 3   Procedure.Code       11778 non-null  object \n",
      " 4   Diagnosis.Code       11778 non-null  object \n",
      " 5   Claim.Charge.Amount  11778 non-null  float64\n",
      " 6   Price.Index          8940 non-null   object \n",
      " 7   Reference.Index      9288 non-null   object \n",
      " 8   Pricing.Index        9288 non-null   object \n",
      " 9   Group.Index          11778 non-null  int64  \n",
      " 10  Claim.Type           11778 non-null  object \n",
      " 11  Network.ID           9199 non-null   object \n",
      " 12  Agreement.ID         9264 non-null   object \n",
      " 13  UnpaidClaim          11778 non-null  int64  \n",
      "dtypes: float64(1), int64(2), object(11)\n",
      "memory usage: 1.3+ MB\n"
     ]
    }
   ],
   "source": [
    "# show data set information\n",
    "procedure_data.info()"
   ]
  }
 ],
 "metadata": {
  "kernelspec": {
   "display_name": "Python (claims)",
   "language": "python",
   "name": "claims"
  },
  "language_info": {
   "codemirror_mode": {
    "name": "ipython",
    "version": 3
   },
   "file_extension": ".py",
   "mimetype": "text/x-python",
   "name": "python",
   "nbconvert_exporter": "python",
   "pygments_lexer": "ipython3",
   "version": "3.7.7"
  },
  "toc": {
   "base_numbering": 1,
   "nav_menu": {},
   "number_sections": true,
   "sideBar": true,
   "skip_h1_title": false,
   "title_cell": "Table of Contents",
   "title_sidebar": "Contents",
   "toc_cell": false,
   "toc_position": {
    "height": "calc(100% - 180px)",
    "left": "10px",
    "top": "150px",
    "width": "307.594px"
   },
   "toc_section_display": true,
   "toc_window_display": true
  }
 },
 "nbformat": 4,
 "nbformat_minor": 4
}
