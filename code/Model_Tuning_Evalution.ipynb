{
 "cells": [
  {
   "cell_type": "markdown",
   "metadata": {},
   "source": [
    "# ------ Import Modules ------"
   ]
  },
  {
   "cell_type": "code",
   "execution_count": 1,
   "metadata": {
    "ExecuteTime": {
     "end_time": "2020-09-02T00:09:16.082246Z",
     "start_time": "2020-09-02T00:09:14.926809Z"
    }
   },
   "outputs": [],
   "source": [
    "# import necessary modules\n",
    "import os\n",
    "import pandas as pd\n",
    "import numpy as np\n",
    "import warnings\n",
    "import json\n",
    "from machine_learning import MachineLearning, random_tune, xgb_tune, lgb_tune, xgb, lgb\n",
    "from config import GetDict, SetDict\n",
    "from feature_importance import FeatureImportance\n",
    "import h2o\n",
    "from h2o.automl import H2OAutoML\n",
    "\n",
    "# suppress warnings\n",
    "warnings.filterwarnings('ignore')"
   ]
  },
  {
   "cell_type": "markdown",
   "metadata": {},
   "source": [
    "# ------ Create Models ------"
   ]
  },
  {
   "cell_type": "markdown",
   "metadata": {},
   "source": [
    "## Base Line Model (Logistic Regression)"
   ]
  },
  {
   "cell_type": "code",
   "execution_count": 2,
   "metadata": {
    "ExecuteTime": {
     "end_time": "2020-09-02T00:09:16.832698Z",
     "start_time": "2020-09-02T00:09:16.084566Z"
    },
    "scrolled": true
   },
   "outputs": [
    {
     "name": "stdout",
     "output_type": "stream",
     "text": [
      "The accuracy is 0.913558013892462 and precision is 0.9388312397596942 and recall is 0.8847143592382913 and f1 is 0.9109697933227344\n"
     ]
    }
   ],
   "source": [
    "# store name to be use in results\n",
    "model = 'LogisticRegression'\n",
    "\n",
    "machine_learning = MachineLearning(train_data=os.path.join('../data','cleaned','procedure_data.tar.gz'), \n",
    "                                   label='UnpaidClaim',\n",
    "                                   log_file=os.path.join('../logs', f\"{model}\"),\n",
    "                                   imbalance=True)\n",
    "\n",
    "# set up pre-processing\n",
    "preprocessing = machine_learning.PreProcessing()\n",
    "\n",
    "# perform logistic regression\n",
    "# print out mean squared error and accuracy\n",
    "mse, score, report = machine_learning.LogisticRegression()\n",
    "\n",
    "print(f\"The accuracy is {report['accuracy']} and precision is {report['1']['precision']} and recall is {report['1']['recall']} and f1 is {report['1']['f1-score']}\")"
   ]
  },
  {
   "cell_type": "markdown",
   "metadata": {
    "ExecuteTime": {
     "end_time": "2020-07-15T03:38:17.832362Z",
     "start_time": "2020-07-15T03:38:17.830038Z"
    }
   },
   "source": [
    "## Random Forest Classifier Tuning"
   ]
  },
  {
   "cell_type": "code",
   "execution_count": 3,
   "metadata": {
    "ExecuteTime": {
     "end_time": "2020-09-02T00:09:58.510520Z",
     "start_time": "2020-09-02T00:09:16.840187Z"
    }
   },
   "outputs": [],
   "source": [
    "# store name to be use in results\n",
    "model = 'RandomForest'\n",
    "\n",
    "machine_learning = MachineLearning(train_data=os.path.join('../data','cleaned','procedure_data.tar.gz'), \n",
    "                                   label='UnpaidClaim',\n",
    "                                   log_file=os.path.join('../logs', f\"{model}\"),\n",
    "                                   imbalance=True)\n",
    "\n",
    "# set up pre-processing\n",
    "preprocessing = machine_learning.PreProcessing()\n",
    "\n",
    "# store results as a list of tuples\n",
    "results = []\n",
    "\n",
    "# loop through each paramter and parameter value\n",
    "for key, values in random_tune.items():\n",
    "    # loop through each \n",
    "    for value in values:\n",
    "        \n",
    "        # set parameter and value to tune\n",
    "        parameter = { key : value }\n",
    "        \n",
    "        # perform random forest\n",
    "        mse, score, report = machine_learning.RandomForest(parameter_dict=parameter, regressor=False)\n",
    "        \n",
    "        results.append((key, value, report['accuracy'], report['1']['precision'], \n",
    "                        report['1']['recall'], report['1']['f1-score']))"
   ]
  },
  {
   "cell_type": "markdown",
   "metadata": {},
   "source": [
    "### Show best results"
   ]
  },
  {
   "cell_type": "code",
   "execution_count": 4,
   "metadata": {
    "ExecuteTime": {
     "end_time": "2020-09-02T00:09:58.528514Z",
     "start_time": "2020-09-02T00:09:58.512709Z"
    },
    "scrolled": true
   },
   "outputs": [
    {
     "name": "stdout",
     "output_type": "stream",
     "text": [
      "{'max_depth': 50, 'n_estimators': 20, 'max_features': 0.2, 'min_samples_leaf': 1}\n"
     ]
    }
   ],
   "source": [
    "# store best result to be used as parameter\n",
    "best_results_dict = {}\n",
    "\n",
    "# loop through all parameter keys\n",
    "for key in random_tune.keys():\n",
    "    \n",
    "    # get the values for current key\n",
    "    values = [val for val in results if val[0] == key]\n",
    "    \n",
    "    # get the score for current key\n",
    "    scores = [val[5] for val in values]\n",
    "    \n",
    "    # get parameter for current key and max score\n",
    "    best_score = [val for val in values if val[5] == max(scores)]\n",
    "    \n",
    "    # set diction with best parameter and parameter value\n",
    "    best_results_dict[best_score[0][0]] = best_score[0][1]\n",
    "    \n",
    "# print best result\n",
    "print(best_results_dict)\n",
    "    \n",
    "# write results to file\n",
    "file_name = f\"{model}_best_results_dict.json\"\n",
    "json_data = json.dumps(best_results_dict)\n",
    "SetDict(file_name,json_data)"
   ]
  },
  {
   "cell_type": "markdown",
   "metadata": {
    "ExecuteTime": {
     "end_time": "2020-07-15T03:49:27.925265Z",
     "start_time": "2020-07-15T03:49:27.916470Z"
    }
   },
   "source": [
    "### Final, Tuned, Random Forest"
   ]
  },
  {
   "cell_type": "code",
   "execution_count": 5,
   "metadata": {
    "ExecuteTime": {
     "end_time": "2020-09-02T00:09:59.281865Z",
     "start_time": "2020-09-02T00:09:58.530619Z"
    }
   },
   "outputs": [
    {
     "name": "stdout",
     "output_type": "stream",
     "text": [
      "The accuracy is 0.9256496012348855 and precision is 0.9475108225108225 and         recall is 0.9475108225108225 and f1 is 0.9237668161434978\n"
     ]
    }
   ],
   "source": [
    "# store name to be use in results\n",
    "model = 'RandomForest'\n",
    "\n",
    "# call machine learning class\n",
    "machine_learning = MachineLearning(train_data=os.path.join('../data','cleaned','procedure_data.tar.gz'), \n",
    "                                   label='UnpaidClaim',\n",
    "                                   log_file=os.path.join('../logs', f\"{model}\"),\n",
    "                                   imbalance=True)\n",
    "# setup pre processing\n",
    "preprocessing = machine_learning.PreProcessing()\n",
    "\n",
    "# get best_results_dict\n",
    "best_results_dict = GetDict(f\"{model}_best_results_dict.json\")  \n",
    "\n",
    "# perform random forest using best parameters\n",
    "mse, score, report = machine_learning.RandomForest(regressor=False, parameter_dict=best_results_dict)\n",
    "\n",
    "# print final model score\n",
    "print(f\"The accuracy is {report['accuracy']} and precision is {report['1']['precision']} and \\\n",
    "        recall is {report['1']['precision']} and f1 is {report['1']['f1-score']}\")"
   ]
  },
  {
   "cell_type": "markdown",
   "metadata": {},
   "source": [
    "## XgBoost Tuning"
   ]
  },
  {
   "cell_type": "code",
   "execution_count": 6,
   "metadata": {
    "ExecuteTime": {
     "end_time": "2020-09-02T00:10:25.579116Z",
     "start_time": "2020-09-02T00:09:59.284263Z"
    }
   },
   "outputs": [
    {
     "name": "stdout",
     "output_type": "stream",
     "text": [
      "[00:09:59] WARNING: /workspace/src/learner.cc:480: \n",
      "Parameters: { silent } might not be used.\n",
      "\n",
      "  This may not be accurate due to some parameters are only used in language bindings but\n",
      "  passed down to XGBoost core.  Or some parameters are not used but slip through this\n",
      "  verification. Please open an issue if you find above cases.\n",
      "\n",
      "\n",
      "[00:10:00] WARNING: /workspace/src/learner.cc:480: \n",
      "Parameters: { silent } might not be used.\n",
      "\n",
      "  This may not be accurate due to some parameters are only used in language bindings but\n",
      "  passed down to XGBoost core.  Or some parameters are not used but slip through this\n",
      "  verification. Please open an issue if you find above cases.\n",
      "\n",
      "\n",
      "[00:10:01] WARNING: /workspace/src/learner.cc:480: \n",
      "Parameters: { silent } might not be used.\n",
      "\n",
      "  This may not be accurate due to some parameters are only used in language bindings but\n",
      "  passed down to XGBoost core.  Or some parameters are not used but slip through this\n",
      "  verification. Please open an issue if you find above cases.\n",
      "\n",
      "\n",
      "[00:10:02] WARNING: /workspace/src/learner.cc:480: \n",
      "Parameters: { silent } might not be used.\n",
      "\n",
      "  This may not be accurate due to some parameters are only used in language bindings but\n",
      "  passed down to XGBoost core.  Or some parameters are not used but slip through this\n",
      "  verification. Please open an issue if you find above cases.\n",
      "\n",
      "\n",
      "[00:10:03] WARNING: /workspace/src/learner.cc:480: \n",
      "Parameters: { silent } might not be used.\n",
      "\n",
      "  This may not be accurate due to some parameters are only used in language bindings but\n",
      "  passed down to XGBoost core.  Or some parameters are not used but slip through this\n",
      "  verification. Please open an issue if you find above cases.\n",
      "\n",
      "\n",
      "[00:10:04] WARNING: /workspace/src/learner.cc:480: \n",
      "Parameters: { silent } might not be used.\n",
      "\n",
      "  This may not be accurate due to some parameters are only used in language bindings but\n",
      "  passed down to XGBoost core.  Or some parameters are not used but slip through this\n",
      "  verification. Please open an issue if you find above cases.\n",
      "\n",
      "\n",
      "[00:10:05] WARNING: /workspace/src/learner.cc:480: \n",
      "Parameters: { silent } might not be used.\n",
      "\n",
      "  This may not be accurate due to some parameters are only used in language bindings but\n",
      "  passed down to XGBoost core.  Or some parameters are not used but slip through this\n",
      "  verification. Please open an issue if you find above cases.\n",
      "\n",
      "\n",
      "[00:10:07] WARNING: /workspace/src/learner.cc:480: \n",
      "Parameters: { silent } might not be used.\n",
      "\n",
      "  This may not be accurate due to some parameters are only used in language bindings but\n",
      "  passed down to XGBoost core.  Or some parameters are not used but slip through this\n",
      "  verification. Please open an issue if you find above cases.\n",
      "\n",
      "\n",
      "[00:10:07] WARNING: /workspace/src/learner.cc:480: \n",
      "Parameters: { silent } might not be used.\n",
      "\n",
      "  This may not be accurate due to some parameters are only used in language bindings but\n",
      "  passed down to XGBoost core.  Or some parameters are not used but slip through this\n",
      "  verification. Please open an issue if you find above cases.\n",
      "\n",
      "\n",
      "[00:10:08] WARNING: /workspace/src/learner.cc:480: \n",
      "Parameters: { silent } might not be used.\n",
      "\n",
      "  This may not be accurate due to some parameters are only used in language bindings but\n",
      "  passed down to XGBoost core.  Or some parameters are not used but slip through this\n",
      "  verification. Please open an issue if you find above cases.\n",
      "\n",
      "\n",
      "[00:10:08] WARNING: /workspace/src/learner.cc:480: \n",
      "Parameters: { silent } might not be used.\n",
      "\n",
      "  This may not be accurate due to some parameters are only used in language bindings but\n",
      "  passed down to XGBoost core.  Or some parameters are not used but slip through this\n",
      "  verification. Please open an issue if you find above cases.\n",
      "\n",
      "\n",
      "[00:10:09] WARNING: /workspace/src/learner.cc:480: \n",
      "Parameters: { silent } might not be used.\n",
      "\n",
      "  This may not be accurate due to some parameters are only used in language bindings but\n",
      "  passed down to XGBoost core.  Or some parameters are not used but slip through this\n",
      "  verification. Please open an issue if you find above cases.\n",
      "\n",
      "\n",
      "[00:10:10] WARNING: /workspace/src/learner.cc:480: \n",
      "Parameters: { silent } might not be used.\n",
      "\n",
      "  This may not be accurate due to some parameters are only used in language bindings but\n",
      "  passed down to XGBoost core.  Or some parameters are not used but slip through this\n",
      "  verification. Please open an issue if you find above cases.\n",
      "\n",
      "\n",
      "[00:10:12] WARNING: /workspace/src/learner.cc:480: \n",
      "Parameters: { silent } might not be used.\n",
      "\n",
      "  This may not be accurate due to some parameters are only used in language bindings but\n",
      "  passed down to XGBoost core.  Or some parameters are not used but slip through this\n",
      "  verification. Please open an issue if you find above cases.\n",
      "\n",
      "\n",
      "[00:10:15] WARNING: /workspace/src/learner.cc:480: \n",
      "Parameters: { silent } might not be used.\n",
      "\n",
      "  This may not be accurate due to some parameters are only used in language bindings but\n",
      "  passed down to XGBoost core.  Or some parameters are not used but slip through this\n",
      "  verification. Please open an issue if you find above cases.\n",
      "\n",
      "\n",
      "[00:10:19] WARNING: /workspace/src/learner.cc:480: \n",
      "Parameters: { silent } might not be used.\n",
      "\n",
      "  This may not be accurate due to some parameters are only used in language bindings but\n",
      "  passed down to XGBoost core.  Or some parameters are not used but slip through this\n",
      "  verification. Please open an issue if you find above cases.\n",
      "\n",
      "\n",
      "[00:10:19] WARNING: /workspace/src/learner.cc:480: \n",
      "Parameters: { silent } might not be used.\n",
      "\n",
      "  This may not be accurate due to some parameters are only used in language bindings but\n",
      "  passed down to XGBoost core.  Or some parameters are not used but slip through this\n",
      "  verification. Please open an issue if you find above cases.\n",
      "\n",
      "\n",
      "[00:10:20] WARNING: /workspace/src/learner.cc:480: \n",
      "Parameters: { silent } might not be used.\n",
      "\n",
      "  This may not be accurate due to some parameters are only used in language bindings but\n",
      "  passed down to XGBoost core.  Or some parameters are not used but slip through this\n",
      "  verification. Please open an issue if you find above cases.\n",
      "\n",
      "\n",
      "[00:10:20] WARNING: /workspace/src/learner.cc:480: \n",
      "Parameters: { silent } might not be used.\n",
      "\n",
      "  This may not be accurate due to some parameters are only used in language bindings but\n",
      "  passed down to XGBoost core.  Or some parameters are not used but slip through this\n",
      "  verification. Please open an issue if you find above cases.\n",
      "\n",
      "\n",
      "[00:10:20] WARNING: /workspace/src/learner.cc:480: \n",
      "Parameters: { silent } might not be used.\n",
      "\n",
      "  This may not be accurate due to some parameters are only used in language bindings but\n",
      "  passed down to XGBoost core.  Or some parameters are not used but slip through this\n",
      "  verification. Please open an issue if you find above cases.\n",
      "\n",
      "\n",
      "[00:10:21] WARNING: /workspace/src/learner.cc:480: \n",
      "Parameters: { silent } might not be used.\n",
      "\n",
      "  This may not be accurate due to some parameters are only used in language bindings but\n",
      "  passed down to XGBoost core.  Or some parameters are not used but slip through this\n",
      "  verification. Please open an issue if you find above cases.\n",
      "\n",
      "\n",
      "[00:10:21] WARNING: /workspace/src/learner.cc:480: \n",
      "Parameters: { silent } might not be used.\n",
      "\n",
      "  This may not be accurate due to some parameters are only used in language bindings but\n",
      "  passed down to XGBoost core.  Or some parameters are not used but slip through this\n",
      "  verification. Please open an issue if you find above cases.\n",
      "\n",
      "\n",
      "[00:10:22] WARNING: /workspace/src/learner.cc:480: \n",
      "Parameters: { silent } might not be used.\n",
      "\n",
      "  This may not be accurate due to some parameters are only used in language bindings but\n",
      "  passed down to XGBoost core.  Or some parameters are not used but slip through this\n",
      "  verification. Please open an issue if you find above cases.\n",
      "\n",
      "\n",
      "[00:10:22] WARNING: /workspace/src/learner.cc:480: \n",
      "Parameters: { silent } might not be used.\n",
      "\n",
      "  This may not be accurate due to some parameters are only used in language bindings but\n",
      "  passed down to XGBoost core.  Or some parameters are not used but slip through this\n",
      "  verification. Please open an issue if you find above cases.\n",
      "\n",
      "\n",
      "[00:10:23] WARNING: /workspace/src/learner.cc:480: \n",
      "Parameters: { silent } might not be used.\n",
      "\n",
      "  This may not be accurate due to some parameters are only used in language bindings but\n",
      "  passed down to XGBoost core.  Or some parameters are not used but slip through this\n",
      "  verification. Please open an issue if you find above cases.\n",
      "\n",
      "\n",
      "[00:10:23] WARNING: /workspace/src/learner.cc:480: \n",
      "Parameters: { silent } might not be used.\n",
      "\n",
      "  This may not be accurate due to some parameters are only used in language bindings but\n",
      "  passed down to XGBoost core.  Or some parameters are not used but slip through this\n",
      "  verification. Please open an issue if you find above cases.\n",
      "\n",
      "\n",
      "[00:10:24] WARNING: /workspace/src/learner.cc:480: \n",
      "Parameters: { silent } might not be used.\n",
      "\n",
      "  This may not be accurate due to some parameters are only used in language bindings but\n",
      "  passed down to XGBoost core.  Or some parameters are not used but slip through this\n",
      "  verification. Please open an issue if you find above cases.\n",
      "\n",
      "\n"
     ]
    }
   ],
   "source": [
    "# set model name\n",
    "model = 'XGBoost'\n",
    "\n",
    "# call machine learning class\n",
    "machine_learning = MachineLearning(train_data=os.path.join('../data','cleaned','procedure_data.tar.gz'), \n",
    "                                   label='UnpaidClaim',\n",
    "                                   log_file=os.path.join('../logs', f\"{model}\"),\n",
    "                                   imbalance=True)\n",
    "\n",
    "# perform pre-processing\n",
    "preprocessing = machine_learning.PreProcessing()\n",
    "\n",
    "# store results as a list of tuples\n",
    "results = []\n",
    "\n",
    "# loop through each paramter and parameter value\n",
    "for key, values in xgb_tune.items():\n",
    "    # loop through each\n",
    "    for value in values:\n",
    "\n",
    "        # set parameter and value to tune\n",
    "        parameter = {key: value}\n",
    "\n",
    "        # perform random forst\n",
    "        mse, score, report = machine_learning.XGboost(regressor=False, parameter_dict=parameter)\n",
    "\n",
    "        results.append((key, value, report['accuracy'], report['1']['precision'], \n",
    "                        report['1']['recall'], report['1']['f1-score']))"
   ]
  },
  {
   "cell_type": "markdown",
   "metadata": {},
   "source": [
    "### Show best results"
   ]
  },
  {
   "cell_type": "code",
   "execution_count": 7,
   "metadata": {
    "ExecuteTime": {
     "end_time": "2020-09-02T00:10:25.593402Z",
     "start_time": "2020-09-02T00:10:25.583138Z"
    }
   },
   "outputs": [
    {
     "name": "stdout",
     "output_type": "stream",
     "text": [
      "{'learning_rate': 0.6, 'max_depth': 10, 'n_estimators': 100}\n"
     ]
    }
   ],
   "source": [
    "# store best result to be used as parameter\n",
    "best_results_dict = {}\n",
    "\n",
    "# loop through all parameter keys\n",
    "for key in xgb_tune.keys():\n",
    "    \n",
    "    # get the values for current key\n",
    "    values = [val for val in results if val[0] == key]\n",
    "    \n",
    "    # get the score for current key\n",
    "    scores = [val[5] for val in values]\n",
    "    \n",
    "    # get parameter for current key and max score\n",
    "    best_score = [val for val in values if val[5] == max(scores)]\n",
    "    \n",
    "    # set diction with best parameter and parameter value\n",
    "    best_results_dict[best_score[0][0]] = best_score[0][1]\n",
    "    \n",
    "# print best result\n",
    "print(best_results_dict)\n",
    "    \n",
    "# write results to file\n",
    "file_name = f\"{model}_best_results_dict.json\"\n",
    "json_data = json.dumps(best_results_dict)\n",
    "SetDict(file_name,json_data)"
   ]
  },
  {
   "cell_type": "markdown",
   "metadata": {},
   "source": [
    "### Final, Tuned, XgBoost"
   ]
  },
  {
   "cell_type": "code",
   "execution_count": 8,
   "metadata": {
    "ExecuteTime": {
     "end_time": "2020-09-02T00:10:27.258272Z",
     "start_time": "2020-09-02T00:10:25.595959Z"
    }
   },
   "outputs": [
    {
     "name": "stdout",
     "output_type": "stream",
     "text": [
      "[00:10:25] WARNING: /workspace/src/learner.cc:480: \n",
      "Parameters: { silent } might not be used.\n",
      "\n",
      "  This may not be accurate due to some parameters are only used in language bindings but\n",
      "  passed down to XGBoost core.  Or some parameters are not used but slip through this\n",
      "  verification. Please open an issue if you find above cases.\n",
      "\n",
      "\n",
      "The accuracy is 0.9279650115770517 and precision is 0.940646528881823 and         recall is 0.940646528881823 and f1 is 0.926892950391645\n"
     ]
    }
   ],
   "source": [
    "# set model name\n",
    "model = 'XGBoost' \n",
    "\n",
    "# call machine learning class\n",
    "machine_learning = MachineLearning(train_data=os.path.join('../data','cleaned','procedure_data.tar.gz'), \n",
    "                                   label='UnpaidClaim',\n",
    "                                   log_file=os.path.join('../logs', f\"{model}\"),\n",
    "                                   imbalance=True)\n",
    " \n",
    "# setup pre processing\n",
    "preprocessing = machine_learning.PreProcessing()\n",
    "\n",
    "# get best_results_dict\n",
    "best_results_dict = GetDict(f\"{model}_best_results_dict.json\")\n",
    "\n",
    "\n",
    "# # perform random forest using best parameters\n",
    "mse, score, report = machine_learning.XGboost(regressor=False, parameter_dict=best_results_dict)\n",
    "        \n",
    "# # print final model score\n",
    "print(f\"The accuracy is {report['accuracy']} and precision is {report['1']['precision']} and \\\n",
    "        recall is {report['1']['precision']} and f1 is {report['1']['f1-score']}\")"
   ]
  },
  {
   "cell_type": "markdown",
   "metadata": {},
   "source": [
    "## LgBoost Tuning"
   ]
  },
  {
   "cell_type": "code",
   "execution_count": 9,
   "metadata": {
    "ExecuteTime": {
     "end_time": "2020-09-02T00:10:45.382510Z",
     "start_time": "2020-09-02T00:10:27.260019Z"
    }
   },
   "outputs": [],
   "source": [
    "# set model name\n",
    "model = 'LGBoost'\n",
    "\n",
    "# call machine learning class\n",
    "machine_learning = MachineLearning(train_data=os.path.join('../data','cleaned','procedure_data.tar.gz'), \n",
    "                                   label='UnpaidClaim',\n",
    "                                   log_file=os.path.join('../logs', f\"{model}\"),\n",
    "                                   imbalance=True)\n",
    " \n",
    "# set columns for preprocessing\n",
    "preprocessing = machine_learning.PreProcessing()\n",
    "\n",
    "# store results as a list of tuples\n",
    "results = []\n",
    "\n",
    "# loop through each paramter and parameter value\n",
    "for key, values in lgb_tune.items():\n",
    "    # loop through each \n",
    "    for value in values:\n",
    "        \n",
    "        # set parameter and value to tune\n",
    "        parameter = { key : value }\n",
    "        \n",
    "        # perform random forst\n",
    "        mse, score, report = machine_learning.LGboost(regressor=False, parameter_dict=parameter)\n",
    "        \n",
    "        results.append((key, value, report['accuracy'], report['1']['precision'], \n",
    "                        report['1']['recall'], report['1']['f1-score']))"
   ]
  },
  {
   "cell_type": "markdown",
   "metadata": {},
   "source": [
    "### Show best results"
   ]
  },
  {
   "cell_type": "code",
   "execution_count": 10,
   "metadata": {
    "ExecuteTime": {
     "end_time": "2020-09-02T00:10:45.394838Z",
     "start_time": "2020-09-02T00:10:45.384485Z"
    }
   },
   "outputs": [
    {
     "name": "stdout",
     "output_type": "stream",
     "text": [
      "{'learning_rate': 0.2, 'max_depth': 15, 'num_leaves': 31, 'n_estimators': 100, 'min_data_in_leaf': 100}\n"
     ]
    }
   ],
   "source": [
    "# store best result to be used as parameter\n",
    "best_results_dict = {}\n",
    "\n",
    "# loop through all parameter keys\n",
    "for key in lgb_tune.keys():\n",
    "\n",
    "    # get the values for current key\n",
    "    values = [val for val in results if val[0] == key]\n",
    "    \n",
    "    # get the score for current key\n",
    "    scores = [val[5] for val in values]\n",
    "    \n",
    "    # get parameter for current key and max score\n",
    "    best_score = [val for val in values if val[5] == max(scores)]\n",
    "    \n",
    "    # set diction with best parameter and parameter value\n",
    "    best_results_dict[best_score[0][0]] = best_score[0][1]\n",
    "\n",
    "# print out results\n",
    "print(best_results_dict)\n",
    "\n",
    "# write results to file\n",
    "file_name = f\"{model}_best_results_dict.json\"\n",
    "json_data = json.dumps(best_results_dict)\n",
    "SetDict(file_name,json_data)"
   ]
  },
  {
   "cell_type": "markdown",
   "metadata": {},
   "source": [
    "### Final, Tuned, LgBoost"
   ]
  },
  {
   "cell_type": "code",
   "execution_count": 11,
   "metadata": {
    "ExecuteTime": {
     "end_time": "2020-09-02T00:10:46.043765Z",
     "start_time": "2020-09-02T00:10:45.398427Z"
    }
   },
   "outputs": [
    {
     "name": "stdout",
     "output_type": "stream",
     "text": [
      "The accuracy is 0.9127862104450734 and precision is 0.9194560669456067 and         recall is 0.9194560669456067 and f1 is 0.9120622568093385\n"
     ]
    }
   ],
   "source": [
    "# set model name\n",
    "model = 'LGBoost' \n",
    "\n",
    "# call machine learning class\n",
    "machine_learning = MachineLearning(train_data=os.path.join('../data','cleaned','procedure_data.tar.gz'), \n",
    "                                   label='UnpaidClaim',\n",
    "                                   log_file=os.path.join('../logs', f\"{model}\"),\n",
    "                                   imbalance=True)\n",
    " \n",
    "# setup pre processing\n",
    "preprocessing = machine_learning.PreProcessing()\n",
    "\n",
    "# get best_results_dict\n",
    "best_results_dict = GetDict(f\"{model}_best_results_dict.json\")  \n",
    "\n",
    "\n",
    "# perform random forest using best parameters\n",
    "mse, score, report = machine_learning.LGboost(regressor=False, parameter_dict=best_results_dict)\n",
    "        \n",
    "# print final model score\n",
    "print(f\"The accuracy is {report['accuracy']} and precision is {report['1']['precision']} and \\\n",
    "        recall is {report['1']['precision']} and f1 is {report['1']['f1-score']}\")"
   ]
  },
  {
   "cell_type": "markdown",
   "metadata": {},
   "source": [
    "# ------ Test Models ------"
   ]
  },
  {
   "cell_type": "markdown",
   "metadata": {},
   "source": [
    "## Logistic Regression Cross Validation"
   ]
  },
  {
   "cell_type": "code",
   "execution_count": 12,
   "metadata": {
    "ExecuteTime": {
     "end_time": "2020-09-02T00:10:49.365491Z",
     "start_time": "2020-09-02T00:10:46.046078Z"
    }
   },
   "outputs": [],
   "source": [
    "# store name to be use in results\n",
    "model = 'LogisticRegression'\n",
    "\n",
    "# store results for all models\n",
    "cv_results = {}\n",
    "\n",
    "# load data\n",
    "machine_learning = MachineLearning(train_data=os.path.join('../data','cleaned','procedure_data.tar.gz'), \n",
    "                                   label='UnpaidClaim',\n",
    "                                   log_file=os.path.join('../logs', f\"{model}_CrossValidation\"),\n",
    "                                   imbalance=True)\n",
    "\n",
    "# setup pre processing\n",
    "preprocessing=machine_learning.PreProcessing()\n",
    "\n",
    "# perform random forest using best parameters\n",
    "info = machine_learning.LogisticRegression(cross_validation=True)\n",
    "\n",
    "# get max f1 score index\n",
    "index = np.argmax(info[4])\n",
    "\n",
    "# get minimum mse and corresponding accuracy\n",
    "accuracy = info[1][index]\n",
    "precision = info[2][index]\n",
    "recall = info[3][index]\n",
    "f1 = info[4][index]\n",
    "\n",
    "# store final model score\n",
    "cv_results[model] = accuracy, precision, recall, f1"
   ]
  },
  {
   "cell_type": "markdown",
   "metadata": {},
   "source": [
    "## Random Forest Cross Validation"
   ]
  },
  {
   "cell_type": "code",
   "execution_count": 13,
   "metadata": {
    "ExecuteTime": {
     "end_time": "2020-09-02T00:10:53.287560Z",
     "start_time": "2020-09-02T00:10:49.367667Z"
    }
   },
   "outputs": [],
   "source": [
    "# store name to be use in results\n",
    "model = 'RandomForest'\n",
    "\n",
    "# load data\n",
    "machine_learning = MachineLearning(train_data=os.path.join('../data','cleaned','procedure_data.tar.gz'), \n",
    "                                   label='UnpaidClaim',\n",
    "                                   log_file=os.path.join('../logs', f\"{model}_CrossValidation\"),\n",
    "                                   imbalance=True)\n",
    "\n",
    "# setup pre processing\n",
    "preprocessing = machine_learning.PreProcessing()\n",
    "\n",
    "# get best_results_dict\n",
    "best_results_dict = GetDict(f\"{model}_best_results_dict.json\")  \n",
    "\n",
    "# perform random forest using best parameters\n",
    "info = machine_learning.RandomForest(\n",
    "    parameter_dict=best_results_dict, regressor=False, cross_validation=True)\n",
    "\n",
    "# get max f1 score index\n",
    "index = np.argmax(info[4])\n",
    "\n",
    "# get minimum mse and corresponding accuracy\n",
    "accuracy = info[1][index]\n",
    "precision = info[2][index]\n",
    "recall = info[3][index]\n",
    "f1 = info[4][index]\n",
    "\n",
    "# store final model score\n",
    "cv_results[model] = accuracy, precision, recall, f1"
   ]
  },
  {
   "cell_type": "markdown",
   "metadata": {
    "ExecuteTime": {
     "end_time": "2020-07-15T04:29:53.743096Z",
     "start_time": "2020-07-15T04:29:53.740031Z"
    }
   },
   "source": [
    "## XgBoost Forest Cross Validation"
   ]
  },
  {
   "cell_type": "code",
   "execution_count": 14,
   "metadata": {
    "ExecuteTime": {
     "end_time": "2020-09-02T00:11:02.820836Z",
     "start_time": "2020-09-02T00:10:53.290164Z"
    }
   },
   "outputs": [
    {
     "name": "stdout",
     "output_type": "stream",
     "text": [
      "[00:10:53] WARNING: /workspace/src/learner.cc:480: \n",
      "Parameters: { silent } might not be used.\n",
      "\n",
      "  This may not be accurate due to some parameters are only used in language bindings but\n",
      "  passed down to XGBoost core.  Or some parameters are not used but slip through this\n",
      "  verification. Please open an issue if you find above cases.\n",
      "\n",
      "\n",
      "[00:10:54] WARNING: /workspace/src/learner.cc:480: \n",
      "Parameters: { silent } might not be used.\n",
      "\n",
      "  This may not be accurate due to some parameters are only used in language bindings but\n",
      "  passed down to XGBoost core.  Or some parameters are not used but slip through this\n",
      "  verification. Please open an issue if you find above cases.\n",
      "\n",
      "\n",
      "[00:10:56] WARNING: /workspace/src/learner.cc:480: \n",
      "Parameters: { silent } might not be used.\n",
      "\n",
      "  This may not be accurate due to some parameters are only used in language bindings but\n",
      "  passed down to XGBoost core.  Or some parameters are not used but slip through this\n",
      "  verification. Please open an issue if you find above cases.\n",
      "\n",
      "\n",
      "[00:10:58] WARNING: /workspace/src/learner.cc:480: \n",
      "Parameters: { silent } might not be used.\n",
      "\n",
      "  This may not be accurate due to some parameters are only used in language bindings but\n",
      "  passed down to XGBoost core.  Or some parameters are not used but slip through this\n",
      "  verification. Please open an issue if you find above cases.\n",
      "\n",
      "\n",
      "[00:10:59] WARNING: /workspace/src/learner.cc:480: \n",
      "Parameters: { silent } might not be used.\n",
      "\n",
      "  This may not be accurate due to some parameters are only used in language bindings but\n",
      "  passed down to XGBoost core.  Or some parameters are not used but slip through this\n",
      "  verification. Please open an issue if you find above cases.\n",
      "\n",
      "\n",
      "[00:11:01] WARNING: /workspace/src/learner.cc:480: \n",
      "Parameters: { silent } might not be used.\n",
      "\n",
      "  This may not be accurate due to some parameters are only used in language bindings but\n",
      "  passed down to XGBoost core.  Or some parameters are not used but slip through this\n",
      "  verification. Please open an issue if you find above cases.\n",
      "\n",
      "\n"
     ]
    }
   ],
   "source": [
    "# store name to be use in results\n",
    "model = 'XGBoost'\n",
    "\n",
    "# load data\n",
    "machine_learning = MachineLearning(train_data=os.path.join('../data','cleaned','procedure_data.tar.gz'), \n",
    "                                   label='UnpaidClaim',\n",
    "                                   log_file=os.path.join('../logs', f\"{model}_CrossValidation\"),\n",
    "                                   imbalance=True)\n",
    "\n",
    "# setup pre processing\n",
    "preprocessing = machine_learning.PreProcessing()\n",
    "\n",
    "# get best_results_dict\n",
    "best_results_dict = GetDict(f\"{model}_best_results_dict.json\")  \n",
    "\n",
    "# perform random forest using best parameters\n",
    "info = machine_learning.XGboost(\n",
    "    parameter_dict=best_results_dict, regressor=False, cross_validation=True)\n",
    "\n",
    "# get max f1 score index\n",
    "index = np.argmax(info[4])\n",
    "\n",
    "# get minimum mse and corresponding accuracy\n",
    "accuracy = info[1][index]\n",
    "precision = info[2][index]\n",
    "recall = info[3][index]\n",
    "f1 = info[4][index]\n",
    "\n",
    "# store final model score\n",
    "cv_results[model] = accuracy, precision, recall, f1"
   ]
  },
  {
   "cell_type": "markdown",
   "metadata": {},
   "source": [
    "## LgBoost Forest Cross Validation"
   ]
  },
  {
   "cell_type": "code",
   "execution_count": 15,
   "metadata": {
    "ExecuteTime": {
     "end_time": "2020-09-02T00:11:04.982575Z",
     "start_time": "2020-09-02T00:11:02.822923Z"
    }
   },
   "outputs": [],
   "source": [
    "# store name to be use in results\n",
    "model = 'LGBoost'\n",
    "\n",
    "# load data\n",
    "machine_learning = MachineLearning(train_data=os.path.join('../data','cleaned','procedure_data.tar.gz'), \n",
    "                                   label='UnpaidClaim',\n",
    "                                   log_file=os.path.join('../logs', f\"{model}_CrossValidation\"),\n",
    "                                   imbalance=True)\n",
    "\n",
    "# setup pre processing\n",
    "preprocessing = machine_learning.PreProcessing()\n",
    "\n",
    "# get best_results_dict\n",
    "best_results_dict = GetDict(f\"{model}_best_results_dict.json\")  \n",
    "\n",
    "# perform random forest using best parameters\n",
    "info = machine_learning.LGboost(\n",
    "    parameter_dict=best_results_dict, regressor=False, cross_validation=True)\n",
    "\n",
    "# get max f1 score index\n",
    "index = np.argmax(info[4])\n",
    "\n",
    "# get minimum mse and corresponding accuracy\n",
    "accuracy = info[1][index]\n",
    "precision = info[2][index]\n",
    "recall = info[3][index]\n",
    "f1 = info[4][index]\n",
    "\n",
    "# store final model score\n",
    "cv_results[model] = accuracy, precision, recall, f1"
   ]
  },
  {
   "cell_type": "markdown",
   "metadata": {},
   "source": [
    "## Show model results"
   ]
  },
  {
   "cell_type": "code",
   "execution_count": 16,
   "metadata": {
    "ExecuteTime": {
     "end_time": "2020-09-02T00:11:05.015492Z",
     "start_time": "2020-09-02T00:11:04.984615Z"
    }
   },
   "outputs": [
    {
     "data": {
      "text/html": [
       "<div>\n",
       "<style scoped>\n",
       "    .dataframe tbody tr th:only-of-type {\n",
       "        vertical-align: middle;\n",
       "    }\n",
       "\n",
       "    .dataframe tbody tr th {\n",
       "        vertical-align: top;\n",
       "    }\n",
       "\n",
       "    .dataframe thead th {\n",
       "        text-align: right;\n",
       "    }\n",
       "</style>\n",
       "<table border=\"1\" class=\"dataframe\">\n",
       "  <thead>\n",
       "    <tr style=\"text-align: right;\">\n",
       "      <th></th>\n",
       "      <th>Model</th>\n",
       "      <th>Accuracy</th>\n",
       "      <th>Precision</th>\n",
       "      <th>Recall</th>\n",
       "      <th>F1</th>\n",
       "    </tr>\n",
       "  </thead>\n",
       "  <tbody>\n",
       "    <tr>\n",
       "      <th>0</th>\n",
       "      <td>LogisticRegression</td>\n",
       "      <td>0.806452</td>\n",
       "      <td>0.756392</td>\n",
       "      <td>0.904075</td>\n",
       "      <td>0.823666</td>\n",
       "    </tr>\n",
       "    <tr>\n",
       "      <th>1</th>\n",
       "      <td>RandomForest</td>\n",
       "      <td>0.846350</td>\n",
       "      <td>0.809091</td>\n",
       "      <td>0.906621</td>\n",
       "      <td>0.855084</td>\n",
       "    </tr>\n",
       "    <tr>\n",
       "      <th>2</th>\n",
       "      <td>XGBoost</td>\n",
       "      <td>0.886624</td>\n",
       "      <td>0.871231</td>\n",
       "      <td>0.907470</td>\n",
       "      <td>0.888981</td>\n",
       "    </tr>\n",
       "    <tr>\n",
       "      <th>3</th>\n",
       "      <td>LGBoost</td>\n",
       "      <td>0.814516</td>\n",
       "      <td>0.764832</td>\n",
       "      <td>0.908319</td>\n",
       "      <td>0.830423</td>\n",
       "    </tr>\n",
       "  </tbody>\n",
       "</table>\n",
       "</div>"
      ],
      "text/plain": [
       "                Model  Accuracy  Precision    Recall        F1\n",
       "0  LogisticRegression  0.806452   0.756392  0.904075  0.823666\n",
       "1        RandomForest  0.846350   0.809091  0.906621  0.855084\n",
       "2             XGBoost  0.886624   0.871231  0.907470  0.888981\n",
       "3             LGBoost  0.814516   0.764832  0.908319  0.830423"
      ]
     },
     "execution_count": 16,
     "metadata": {},
     "output_type": "execute_result"
    }
   ],
   "source": [
    "# show model results\n",
    "model_dataframe = pd.DataFrame()\n",
    "model_dataframe['Model'] = cv_results.keys()\n",
    "model_dataframe['Accuracy'] = [v[0] for v in cv_results.values()]\n",
    "model_dataframe['Precision'] = [v[1] for v in cv_results.values()]\n",
    "model_dataframe['Recall'] = [v[2] for v in cv_results.values()]\n",
    "model_dataframe['F1'] = [v[3] for v in cv_results.values()]\n",
    "model_dataframe"
   ]
  },
  {
   "cell_type": "markdown",
   "metadata": {},
   "source": [
    "## Save results to file"
   ]
  },
  {
   "cell_type": "code",
   "execution_count": 17,
   "metadata": {
    "ExecuteTime": {
     "end_time": "2020-09-02T00:11:05.025836Z",
     "start_time": "2020-09-02T00:11:05.017733Z"
    }
   },
   "outputs": [],
   "source": [
    "# write dataframe to file\n",
    "model_dataframe.to_csv(os.path.join('../logs','FinalResults.csv'), index=False)"
   ]
  },
  {
   "cell_type": "markdown",
   "metadata": {
    "ExecuteTime": {
     "end_time": "2020-07-15T04:34:27.756703Z",
     "start_time": "2020-07-15T04:34:27.753878Z"
    }
   },
   "source": [
    "## Select best model"
   ]
  },
  {
   "cell_type": "code",
   "execution_count": 18,
   "metadata": {
    "ExecuteTime": {
     "end_time": "2020-09-02T00:11:05.049572Z",
     "start_time": "2020-09-02T00:11:05.028217Z"
    }
   },
   "outputs": [
    {
     "data": {
      "text/html": [
       "<div>\n",
       "<style scoped>\n",
       "    .dataframe tbody tr th:only-of-type {\n",
       "        vertical-align: middle;\n",
       "    }\n",
       "\n",
       "    .dataframe tbody tr th {\n",
       "        vertical-align: top;\n",
       "    }\n",
       "\n",
       "    .dataframe thead th {\n",
       "        text-align: right;\n",
       "    }\n",
       "</style>\n",
       "<table border=\"1\" class=\"dataframe\">\n",
       "  <thead>\n",
       "    <tr style=\"text-align: right;\">\n",
       "      <th></th>\n",
       "      <th>Model</th>\n",
       "      <th>Accuracy</th>\n",
       "      <th>Precision</th>\n",
       "      <th>Recall</th>\n",
       "      <th>F1</th>\n",
       "    </tr>\n",
       "  </thead>\n",
       "  <tbody>\n",
       "    <tr>\n",
       "      <th>2</th>\n",
       "      <td>XGBoost</td>\n",
       "      <td>0.886624</td>\n",
       "      <td>0.871231</td>\n",
       "      <td>0.90747</td>\n",
       "      <td>0.888981</td>\n",
       "    </tr>\n",
       "  </tbody>\n",
       "</table>\n",
       "</div>"
      ],
      "text/plain": [
       "     Model  Accuracy  Precision   Recall        F1\n",
       "2  XGBoost  0.886624   0.871231  0.90747  0.888981"
      ]
     },
     "execution_count": 18,
     "metadata": {},
     "output_type": "execute_result"
    }
   ],
   "source": [
    "#select the model with the lowest error as your \"production\" model\n",
    "model_dataframe = pd.read_csv(os.path.join('../logs', 'FinalResults.csv'), low_memory=False)\n",
    "best_model = model_dataframe.loc[model_dataframe['F1'] == max(model_dataframe['F1'])]\n",
    "best_model"
   ]
  },
  {
   "cell_type": "markdown",
   "metadata": {},
   "source": [
    "## Save Final Model"
   ]
  },
  {
   "cell_type": "code",
   "execution_count": 19,
   "metadata": {
    "ExecuteTime": {
     "end_time": "2020-09-02T00:11:06.722611Z",
     "start_time": "2020-09-02T00:11:05.051981Z"
    }
   },
   "outputs": [
    {
     "name": "stdout",
     "output_type": "stream",
     "text": [
      "[00:11:05] WARNING: /workspace/src/learner.cc:480: \n",
      "Parameters: { silent } might not be used.\n",
      "\n",
      "  This may not be accurate due to some parameters are only used in language bindings but\n",
      "  passed down to XGBoost core.  Or some parameters are not used but slip through this\n",
      "  verification. Please open an issue if you find above cases.\n",
      "\n",
      "\n"
     ]
    }
   ],
   "source": [
    "# store name to be use in results\n",
    "model = best_model['Model'].to_string(index=False).strip()\n",
    "\n",
    "# load data\n",
    "machine_learning = MachineLearning(train_data=os.path.join('../data','cleaned','procedure_data.tar.gz'), \n",
    "                                   label='UnpaidClaim',\n",
    "                                   log_file=os.path.join('../logs', f\"{model}_FinalModel\"),\n",
    "                                   imbalance=True)\n",
    "\n",
    "# setup pre processing\n",
    "preprocessing = machine_learning.PreProcessing()\n",
    "\n",
    "# choose the best model and save the model\n",
    "if model == 'LogisticRegression':\n",
    "    machine_learning.LogisticRegression(save_model=True)\n",
    "elif model == 'RandomForest':\n",
    "    best_results_dict = GetDict(f\"{model}_best_results_dict.json\")  \n",
    "    machine_learning.RandomForest(\n",
    "        parameter_dict=best_results_dict, regressor=False, save_model=True)\n",
    "elif model == 'XGBoost':\n",
    "    best_results_dict = GetDict(f\"{model}_best_results_dict.json\")  \n",
    "    machine_learning.XGboost(parameter_dict=best_results_dict, regressor=False, save_model=True)\n",
    "elif model == 'LGBoost':\n",
    "    best_results_dict = GetDict(f\"{model}_best_results_dict.json\")  \n",
    "    machine_learning.LGboost(parameter_dict=best_results_dict, regressor=False, save_model=True)\n",
    "else:\n",
    "    print(f'{model} not found')"
   ]
  },
  {
   "cell_type": "markdown",
   "metadata": {},
   "source": [
    "## Feature Importance for Best Model"
   ]
  },
  {
   "cell_type": "code",
   "execution_count": 20,
   "metadata": {
    "ExecuteTime": {
     "end_time": "2020-09-02T00:11:07.265270Z",
     "start_time": "2020-09-02T00:11:06.724812Z"
    },
    "code_folding": []
   },
   "outputs": [
    {
     "data": {
      "image/png": "[encoded data removed]",
      "text/plain": [
       "<Figure size 432x288 with 1 Axes>"
      ]
     },
     "metadata": {
      "needs_background": "light"
     },
     "output_type": "display_data"
    }
   ],
   "source": [
    "# store name to be use in results\n",
    "model_name = best_model['Model'].to_string(index=False).strip()\n",
    "\n",
    "# plot feature importance for the best model\n",
    "FeatureImportance(model=model_name);\n"
   ]
  },
  {
   "cell_type": "code",
   "execution_count": null,
   "metadata": {},
   "outputs": [],
   "source": []
  }
 ],
 "metadata": {
  "kernelspec": {
   "display_name": "Python 3",
   "language": "python",
   "name": "python3"
  },
  "language_info": {
   "codemirror_mode": {
    "name": "ipython",
    "version": 3
   },
   "file_extension": ".py",
   "mimetype": "text/x-python",
   "name": "python",
   "nbconvert_exporter": "python",
   "pygments_lexer": "ipython3",
   "version": "3.7.6"
  },
  "toc": {
   "base_numbering": 1,
   "nav_menu": {},
   "number_sections": true,
   "sideBar": true,
   "skip_h1_title": false,
   "title_cell": "Table of Contents",
   "title_sidebar": "Contents",
   "toc_cell": false,
   "toc_position": {
    "height": "calc(100% - 180px)",
    "left": "10px",
    "top": "150px",
    "width": "307.594px"
   },
   "toc_section_display": true,
   "toc_window_display": true
  }
 },
 "nbformat": 4,
 "nbformat_minor": 4
}
