{
 "cells": [
  {
   "cell_type": "markdown",
   "metadata": {},
   "source": [
    "# ------ Import Modules ------"
   ]
  },
  {
   "cell_type": "code",
   "execution_count": 1,
   "metadata": {
    "ExecuteTime": {
     "end_time": "2020-07-31T17:59:24.863193Z",
     "start_time": "2020-07-31T17:59:23.260789Z"
    }
   },
   "outputs": [],
   "source": [
    "# import necessary modules\n",
    "import os\n",
    "import pandas as pd\n",
    "import numpy as np\n",
    "import warnings\n",
    "import json\n",
    "from machine_learning import MachineLearning, random_tune, xgb_tune, lgb_tune, xgb, lgb\n",
    "from config import GetDict, SetDict\n",
    "from feature_importance import FeatureImportance\n",
    "import h2o\n",
    "from h2o.automl import H2OAutoML\n",
    "\n",
    "# suppress warnings\n",
    "warnings.filterwarnings('ignore')"
   ]
  },
  {
   "cell_type": "markdown",
   "metadata": {},
   "source": [
    "# ------ Create Models ------"
   ]
  },
  {
   "cell_type": "markdown",
   "metadata": {},
   "source": [
    "## Base Line Model (Logistic Regression)"
   ]
  },
  {
   "cell_type": "code",
   "execution_count": 2,
   "metadata": {
    "ExecuteTime": {
     "end_time": "2020-07-31T17:59:25.338522Z",
     "start_time": "2020-07-31T17:59:24.866408Z"
    }
   },
   "outputs": [
    {
     "name": "stdout",
     "output_type": "stream",
     "text": [
      "The mean squared error is 0.08695652173913043 and accuracy is 0.9130434782608695 and precision is 0.9378068739770867 and         recall is 0.9378068739770867 and f1 is 0.9104872881355932\n"
     ]
    }
   ],
   "source": [
    "# store name to be use in results\n",
    "model = 'LogisticRegression'\n",
    "\n",
    "machine_learning = MachineLearning(train_data=os.path.join('../data','cleaned','procedure_data.tar.gz'), \n",
    "                                   label='UnpaidClaim',\n",
    "                                   log_file=os.path.join('../logs', f\"{model}\"),\n",
    "                                   imbalance=True)\n",
    "\n",
    "# set up pre-processing\n",
    "preprocessing = machine_learning.PreProcessing()\n",
    "\n",
    "# perform logistic regression\n",
    "# print out mean squared error and accuracy\n",
    "mse, score, report = machine_learning.LogisticRegression()\n",
    "\n",
    "print(f\"The mean squared error is {mse} and accuracy is {report['accuracy']} and precision is {report['1']['precision']} and \\\n",
    "        recall is {report['1']['precision']} and f1 is {report['1']['f1-score']}\")"
   ]
  },
  {
   "cell_type": "markdown",
   "metadata": {
    "ExecuteTime": {
     "end_time": "2020-07-15T03:38:17.832362Z",
     "start_time": "2020-07-15T03:38:17.830038Z"
    }
   },
   "source": [
    "## Random Forest Classifier Tuning"
   ]
  },
  {
   "cell_type": "code",
   "execution_count": 3,
   "metadata": {
    "ExecuteTime": {
     "end_time": "2020-07-31T17:59:54.416778Z",
     "start_time": "2020-07-31T17:59:25.340753Z"
    }
   },
   "outputs": [],
   "source": [
    "# store name to be use in results\n",
    "model = 'RandomForest'\n",
    "\n",
    "machine_learning = MachineLearning(train_data=os.path.join('../data','cleaned','procedure_data.tar.gz'), \n",
    "                                   label='UnpaidClaim',\n",
    "                                   log_file=os.path.join('../logs', f\"{model}\"),\n",
    "                                   imbalance=True)\n",
    "\n",
    "# set up pre-processing\n",
    "preprocessing = machine_learning.PreProcessing()\n",
    "\n",
    "# store results as a list of tuples\n",
    "results = []\n",
    "\n",
    "# loop through each paramter and parameter value\n",
    "for key, values in random_tune.items():\n",
    "    # loop through each \n",
    "    for value in values:\n",
    "        \n",
    "        # set parameter and value to tune\n",
    "        parameter = { key : value }\n",
    "        \n",
    "        # perform random forest\n",
    "        score = machine_learning.RandomForest(parameter_dict=parameter, regressor=False)\n",
    "        \n",
    "        results.append((key, value, score))"
   ]
  },
  {
   "cell_type": "markdown",
   "metadata": {},
   "source": [
    "### Show best results"
   ]
  },
  {
   "cell_type": "code",
   "execution_count": 4,
   "metadata": {
    "ExecuteTime": {
     "end_time": "2020-07-31T17:59:54.431257Z",
     "start_time": "2020-07-31T17:59:54.418668Z"
    },
    "scrolled": true
   },
   "outputs": [
    {
     "name": "stdout",
     "output_type": "stream",
     "text": [
      "{'max_depth': 50, 'n_estimators': 25, 'max_features': 0.2, 'min_samples_leaf': 1}\n"
     ]
    }
   ],
   "source": [
    "# store best result to be used as parameter\n",
    "best_results_dict = {}\n",
    "\n",
    "# loop through all parameter keys\n",
    "for key in random_tune.keys():\n",
    "    \n",
    "    # get the values for current key\n",
    "    values = [val for val in results if val[0] == key]\n",
    "    # get the score for current key\n",
    "    scores = [val[2] for val in values]\n",
    "    # get parameter for current key and max score\n",
    "    best_score = [val for val in values if val[2] == min(scores)]\n",
    "    # set diction with best parameter and parameter value\n",
    "    best_results_dict[best_score[0][0]] = best_score[0][1]\n",
    "    \n",
    "# print best result\n",
    "print(best_results_dict)\n",
    "    \n",
    "# write results to file\n",
    "file_name = f\"{model}_best_results_dict.json\"\n",
    "json_data = json.dumps(best_results_dict)\n",
    "SetDict(file_name,json_data)"
   ]
  },
  {
   "cell_type": "markdown",
   "metadata": {
    "ExecuteTime": {
     "end_time": "2020-07-15T03:49:27.925265Z",
     "start_time": "2020-07-15T03:49:27.916470Z"
    }
   },
   "source": [
    "### Final, Tuned, Random Forest"
   ]
  },
  {
   "cell_type": "code",
   "execution_count": 5,
   "metadata": {
    "ExecuteTime": {
     "end_time": "2020-07-31T17:59:55.251436Z",
     "start_time": "2020-07-31T17:59:54.434444Z"
    }
   },
   "outputs": [
    {
     "name": "stdout",
     "output_type": "stream",
     "text": [
      "The mean squared error is 0.07074864934396707 and accuracy is 0.9292513506560329 and precision is 0.9498381877022654 and         recall is 0.9498381877022654 and f1 is 0.9275744008427707\n"
     ]
    }
   ],
   "source": [
    "# store name to be use in results\n",
    "model = 'RandomForest'\n",
    "\n",
    "# call machine learning class\n",
    "machine_learning = MachineLearning(train_data=os.path.join('../data','cleaned','procedure_data.tar.gz'), \n",
    "                                   label='UnpaidClaim',\n",
    "                                   log_file=os.path.join('../logs', f\"{model}\"),\n",
    "                                   imbalance=True)\n",
    "# setup pre processing\n",
    "preprocessing = machine_learning.PreProcessing()\n",
    "\n",
    "# get best_results_dict\n",
    "best_results_dict = GetDict(f\"{model}_best_results_dict.json\")  \n",
    "\n",
    "# perform random forest using best parameters\n",
    "mse, score, report = machine_learning.RandomForest(regressor=False, parameter_dict=best_results_dict)\n",
    "\n",
    "# print final model score\n",
    "print(f\"The mean squared error is {mse} and accuracy is {report['accuracy']} and precision is {report['1']['precision']} and \\\n",
    "        recall is {report['1']['precision']} and f1 is {report['1']['f1-score']}\")"
   ]
  },
  {
   "cell_type": "markdown",
   "metadata": {},
   "source": [
    "## XgBoost Tuning"
   ]
  },
  {
   "cell_type": "code",
   "execution_count": 6,
   "metadata": {
    "ExecuteTime": {
     "end_time": "2020-07-31T18:00:19.893794Z",
     "start_time": "2020-07-31T17:59:55.253338Z"
    }
   },
   "outputs": [
    {
     "name": "stdout",
     "output_type": "stream",
     "text": [
      "[12:59:55] WARNING: /workspace/src/learner.cc:480: \n",
      "Parameters: { silent } might not be used.\n",
      "\n",
      "  This may not be accurate due to some parameters are only used in language bindings but\n",
      "  passed down to XGBoost core.  Or some parameters are not used but slip through this\n",
      "  verification. Please open an issue if you find above cases.\n",
      "\n",
      "\n",
      "[12:59:56] WARNING: /workspace/src/learner.cc:480: \n",
      "Parameters: { silent } might not be used.\n",
      "\n",
      "  This may not be accurate due to some parameters are only used in language bindings but\n",
      "  passed down to XGBoost core.  Or some parameters are not used but slip through this\n",
      "  verification. Please open an issue if you find above cases.\n",
      "\n",
      "\n",
      "[12:59:57] WARNING: /workspace/src/learner.cc:480: \n",
      "Parameters: { silent } might not be used.\n",
      "\n",
      "  This may not be accurate due to some parameters are only used in language bindings but\n",
      "  passed down to XGBoost core.  Or some parameters are not used but slip through this\n",
      "  verification. Please open an issue if you find above cases.\n",
      "\n",
      "\n",
      "[12:59:58] WARNING: /workspace/src/learner.cc:480: \n",
      "Parameters: { silent } might not be used.\n",
      "\n",
      "  This may not be accurate due to some parameters are only used in language bindings but\n",
      "  passed down to XGBoost core.  Or some parameters are not used but slip through this\n",
      "  verification. Please open an issue if you find above cases.\n",
      "\n",
      "\n",
      "[12:59:59] WARNING: /workspace/src/learner.cc:480: \n",
      "Parameters: { silent } might not be used.\n",
      "\n",
      "  This may not be accurate due to some parameters are only used in language bindings but\n",
      "  passed down to XGBoost core.  Or some parameters are not used but slip through this\n",
      "  verification. Please open an issue if you find above cases.\n",
      "\n",
      "\n",
      "[13:00:00] WARNING: /workspace/src/learner.cc:480: \n",
      "Parameters: { silent } might not be used.\n",
      "\n",
      "  This may not be accurate due to some parameters are only used in language bindings but\n",
      "  passed down to XGBoost core.  Or some parameters are not used but slip through this\n",
      "  verification. Please open an issue if you find above cases.\n",
      "\n",
      "\n",
      "[13:00:01] WARNING: /workspace/src/learner.cc:480: \n",
      "Parameters: { silent } might not be used.\n",
      "\n",
      "  This may not be accurate due to some parameters are only used in language bindings but\n",
      "  passed down to XGBoost core.  Or some parameters are not used but slip through this\n",
      "  verification. Please open an issue if you find above cases.\n",
      "\n",
      "\n",
      "[13:00:02] WARNING: /workspace/src/learner.cc:480: \n",
      "Parameters: { silent } might not be used.\n",
      "\n",
      "  This may not be accurate due to some parameters are only used in language bindings but\n",
      "  passed down to XGBoost core.  Or some parameters are not used but slip through this\n",
      "  verification. Please open an issue if you find above cases.\n",
      "\n",
      "\n",
      "[13:00:02] WARNING: /workspace/src/learner.cc:480: \n",
      "Parameters: { silent } might not be used.\n",
      "\n",
      "  This may not be accurate due to some parameters are only used in language bindings but\n",
      "  passed down to XGBoost core.  Or some parameters are not used but slip through this\n",
      "  verification. Please open an issue if you find above cases.\n",
      "\n",
      "\n",
      "[13:00:03] WARNING: /workspace/src/learner.cc:480: \n",
      "Parameters: { silent } might not be used.\n",
      "\n",
      "  This may not be accurate due to some parameters are only used in language bindings but\n",
      "  passed down to XGBoost core.  Or some parameters are not used but slip through this\n",
      "  verification. Please open an issue if you find above cases.\n",
      "\n",
      "\n",
      "[13:00:04] WARNING: /workspace/src/learner.cc:480: \n",
      "Parameters: { silent } might not be used.\n",
      "\n",
      "  This may not be accurate due to some parameters are only used in language bindings but\n",
      "  passed down to XGBoost core.  Or some parameters are not used but slip through this\n",
      "  verification. Please open an issue if you find above cases.\n",
      "\n",
      "\n",
      "[13:00:04] WARNING: /workspace/src/learner.cc:480: \n",
      "Parameters: { silent } might not be used.\n",
      "\n",
      "  This may not be accurate due to some parameters are only used in language bindings but\n",
      "  passed down to XGBoost core.  Or some parameters are not used but slip through this\n",
      "  verification. Please open an issue if you find above cases.\n",
      "\n",
      "\n",
      "[13:00:05] WARNING: /workspace/src/learner.cc:480: \n",
      "Parameters: { silent } might not be used.\n",
      "\n",
      "  This may not be accurate due to some parameters are only used in language bindings but\n",
      "  passed down to XGBoost core.  Or some parameters are not used but slip through this\n",
      "  verification. Please open an issue if you find above cases.\n",
      "\n",
      "\n",
      "[13:00:07] WARNING: /workspace/src/learner.cc:480: \n",
      "Parameters: { silent } might not be used.\n",
      "\n",
      "  This may not be accurate due to some parameters are only used in language bindings but\n",
      "  passed down to XGBoost core.  Or some parameters are not used but slip through this\n",
      "  verification. Please open an issue if you find above cases.\n",
      "\n",
      "\n",
      "[13:00:11] WARNING: /workspace/src/learner.cc:480: \n",
      "Parameters: { silent } might not be used.\n",
      "\n",
      "  This may not be accurate due to some parameters are only used in language bindings but\n",
      "  passed down to XGBoost core.  Or some parameters are not used but slip through this\n",
      "  verification. Please open an issue if you find above cases.\n",
      "\n",
      "\n",
      "[13:00:15] WARNING: /workspace/src/learner.cc:480: \n",
      "Parameters: { silent } might not be used.\n",
      "\n",
      "  This may not be accurate due to some parameters are only used in language bindings but\n",
      "  passed down to XGBoost core.  Or some parameters are not used but slip through this\n",
      "  verification. Please open an issue if you find above cases.\n",
      "\n",
      "\n",
      "[13:00:15] WARNING: /workspace/src/learner.cc:480: \n",
      "Parameters: { silent } might not be used.\n",
      "\n",
      "  This may not be accurate due to some parameters are only used in language bindings but\n",
      "  passed down to XGBoost core.  Or some parameters are not used but slip through this\n",
      "  verification. Please open an issue if you find above cases.\n",
      "\n",
      "\n",
      "[13:00:16] WARNING: /workspace/src/learner.cc:480: \n",
      "Parameters: { silent } might not be used.\n",
      "\n",
      "  This may not be accurate due to some parameters are only used in language bindings but\n",
      "  passed down to XGBoost core.  Or some parameters are not used but slip through this\n",
      "  verification. Please open an issue if you find above cases.\n",
      "\n",
      "\n",
      "[13:00:16] WARNING: /workspace/src/learner.cc:480: \n",
      "Parameters: { silent } might not be used.\n",
      "\n",
      "  This may not be accurate due to some parameters are only used in language bindings but\n",
      "  passed down to XGBoost core.  Or some parameters are not used but slip through this\n",
      "  verification. Please open an issue if you find above cases.\n",
      "\n",
      "\n",
      "[13:00:16] WARNING: /workspace/src/learner.cc:480: \n",
      "Parameters: { silent } might not be used.\n",
      "\n",
      "  This may not be accurate due to some parameters are only used in language bindings but\n",
      "  passed down to XGBoost core.  Or some parameters are not used but slip through this\n",
      "  verification. Please open an issue if you find above cases.\n",
      "\n",
      "\n",
      "[13:00:16] WARNING: /workspace/src/learner.cc:480: \n",
      "Parameters: { silent } might not be used.\n",
      "\n",
      "  This may not be accurate due to some parameters are only used in language bindings but\n",
      "  passed down to XGBoost core.  Or some parameters are not used but slip through this\n",
      "  verification. Please open an issue if you find above cases.\n",
      "\n",
      "\n",
      "[13:00:16] WARNING: /workspace/src/learner.cc:480: \n",
      "Parameters: { silent } might not be used.\n",
      "\n",
      "  This may not be accurate due to some parameters are only used in language bindings but\n",
      "  passed down to XGBoost core.  Or some parameters are not used but slip through this\n",
      "  verification. Please open an issue if you find above cases.\n",
      "\n",
      "\n",
      "[13:00:17] WARNING: /workspace/src/learner.cc:480: \n",
      "Parameters: { silent } might not be used.\n",
      "\n",
      "  This may not be accurate due to some parameters are only used in language bindings but\n",
      "  passed down to XGBoost core.  Or some parameters are not used but slip through this\n",
      "  verification. Please open an issue if you find above cases.\n",
      "\n",
      "\n",
      "[13:00:17] WARNING: /workspace/src/learner.cc:480: \n",
      "Parameters: { silent } might not be used.\n",
      "\n",
      "  This may not be accurate due to some parameters are only used in language bindings but\n",
      "  passed down to XGBoost core.  Or some parameters are not used but slip through this\n",
      "  verification. Please open an issue if you find above cases.\n",
      "\n",
      "\n",
      "[13:00:18] WARNING: /workspace/src/learner.cc:480: \n",
      "Parameters: { silent } might not be used.\n",
      "\n",
      "  This may not be accurate due to some parameters are only used in language bindings but\n",
      "  passed down to XGBoost core.  Or some parameters are not used but slip through this\n",
      "  verification. Please open an issue if you find above cases.\n",
      "\n"
     ]
    },
    {
     "name": "stdout",
     "output_type": "stream",
     "text": [
      "\n",
      "[13:00:18] WARNING: /workspace/src/learner.cc:480: \n",
      "Parameters: { silent } might not be used.\n",
      "\n",
      "  This may not be accurate due to some parameters are only used in language bindings but\n",
      "  passed down to XGBoost core.  Or some parameters are not used but slip through this\n",
      "  verification. Please open an issue if you find above cases.\n",
      "\n",
      "\n",
      "[13:00:19] WARNING: /workspace/src/learner.cc:480: \n",
      "Parameters: { silent } might not be used.\n",
      "\n",
      "  This may not be accurate due to some parameters are only used in language bindings but\n",
      "  passed down to XGBoost core.  Or some parameters are not used but slip through this\n",
      "  verification. Please open an issue if you find above cases.\n",
      "\n",
      "\n"
     ]
    }
   ],
   "source": [
    "# set model name\n",
    "model = 'XGBoost'\n",
    "\n",
    "# call machine learning class\n",
    "machine_learning = MachineLearning(train_data=os.path.join('../data','cleaned','procedure_data.tar.gz'), \n",
    "                                   label='UnpaidClaim',\n",
    "                                   log_file=os.path.join('../logs', f\"{model}\"),\n",
    "                                   imbalance=True)\n",
    "\n",
    "# perform pre-processing\n",
    "preprocessing = machine_learning.PreProcessing()\n",
    "\n",
    "# store results as a list of tuples\n",
    "results = []\n",
    "\n",
    "# loop through each paramter and parameter value\n",
    "for key, values in xgb_tune.items():\n",
    "    # loop through each\n",
    "    for value in values:\n",
    "\n",
    "        # set parameter and value to tune\n",
    "        parameter = {key: value}\n",
    "\n",
    "        # perform random forst\n",
    "        score = machine_learning.XGboost(regressor=False, parameter_dict=parameter)\n",
    "\n",
    "        results.append((key, value, score))"
   ]
  },
  {
   "cell_type": "markdown",
   "metadata": {},
   "source": [
    "### Show best results"
   ]
  },
  {
   "cell_type": "code",
   "execution_count": 7,
   "metadata": {
    "ExecuteTime": {
     "end_time": "2020-07-31T18:00:19.916735Z",
     "start_time": "2020-07-31T18:00:19.897087Z"
    }
   },
   "outputs": [
    {
     "name": "stdout",
     "output_type": "stream",
     "text": [
      "{'learning_rate': 0.4, 'max_depth': 10, 'n_estimators': 100}\n"
     ]
    }
   ],
   "source": [
    "# store best result to be used as parameter\n",
    "best_results_dict = {}\n",
    "\n",
    "# loop through all parameter keys\n",
    "for key in xgb_tune.keys():\n",
    "\n",
    "    # get the values for current key\n",
    "    values = [val for val in results if val[0] == key]\n",
    "    # get the score for current key\n",
    "    scores = [val[2] for val in values]\n",
    "    # get parameter for current key and max score\n",
    "    best_score = [val for val in values if val[2] == min(scores)]\n",
    "    # set diction with best parameter and parameter value\n",
    "    best_results_dict[best_score[0][0]] = best_score[0][1]\n",
    "\n",
    "# print out results\n",
    "print(best_results_dict)\n",
    "\n",
    "# write results to file\n",
    "file_name = f\"{model}_best_results_dict.json\"\n",
    "json_data = json.dumps(best_results_dict)\n",
    "SetDict(file_name,json_data)"
   ]
  },
  {
   "cell_type": "markdown",
   "metadata": {},
   "source": [
    "### Final, Tuned, XgBoost"
   ]
  },
  {
   "cell_type": "code",
   "execution_count": 8,
   "metadata": {
    "ExecuteTime": {
     "end_time": "2020-07-31T18:00:21.437736Z",
     "start_time": "2020-07-31T18:00:19.920933Z"
    }
   },
   "outputs": [
    {
     "name": "stdout",
     "output_type": "stream",
     "text": [
      "[13:00:20] WARNING: /workspace/src/learner.cc:480: \n",
      "Parameters: { silent } might not be used.\n",
      "\n",
      "  This may not be accurate due to some parameters are only used in language bindings but\n",
      "  passed down to XGBoost core.  Or some parameters are not used but slip through this\n",
      "  verification. Please open an issue if you find above cases.\n",
      "\n",
      "\n",
      "The mean squared error is 0.06869050681759711 and accuracy is 0.9313094931824029 and precision is 0.9419831223628692 and         recall is 0.9419831223628692 and f1 is 0.9304506381870279\n"
     ]
    }
   ],
   "source": [
    "# set model name\n",
    "model = 'XGBoost' \n",
    "\n",
    "# call machine learning class\n",
    "machine_learning = MachineLearning(train_data=os.path.join('../data','cleaned','procedure_data.tar.gz'), \n",
    "                                   label='UnpaidClaim',\n",
    "                                   log_file=os.path.join('../logs', f\"{model}\"),\n",
    "                                   imbalance=True)\n",
    " \n",
    "# setup pre processing\n",
    "preprocessing = machine_learning.PreProcessing()\n",
    "\n",
    "# get best_results_dict\n",
    "best_results_dict = GetDict(f\"{model}_best_results_dict.json\")\n",
    "\n",
    "\n",
    "# # perform random forest using best parameters\n",
    "mse, score, report = machine_learning.XGboost(regressor=False, parameter_dict=best_results_dict)\n",
    "        \n",
    "# # print final model score\n",
    "print(f\"The mean squared error is {mse} and accuracy is {report['accuracy']} and precision is {report['1']['precision']} and \\\n",
    "        recall is {report['1']['precision']} and f1 is {report['1']['f1-score']}\")"
   ]
  },
  {
   "cell_type": "markdown",
   "metadata": {},
   "source": [
    "## LgBoost Tuning"
   ]
  },
  {
   "cell_type": "code",
   "execution_count": 9,
   "metadata": {
    "ExecuteTime": {
     "end_time": "2020-07-31T18:00:37.317617Z",
     "start_time": "2020-07-31T18:00:21.440878Z"
    }
   },
   "outputs": [],
   "source": [
    "# set model name\n",
    "model = 'LGBoost'\n",
    "\n",
    "# call machine learning class\n",
    "machine_learning = MachineLearning(train_data=os.path.join('../data','cleaned','procedure_data.tar.gz'), \n",
    "                                   label='UnpaidClaim',\n",
    "                                   log_file=os.path.join('../logs', f\"{model}\"),\n",
    "                                   imbalance=True)\n",
    " \n",
    "# set columns for preprocessing\n",
    "preprocessing = machine_learning.PreProcessing()\n",
    "\n",
    "# store results as a list of tuples\n",
    "results = []\n",
    "\n",
    "# loop through each paramter and parameter value\n",
    "for key, values in lgb_tune.items():\n",
    "    # loop through each \n",
    "    for value in values:\n",
    "        \n",
    "        # set parameter and value to tune\n",
    "        parameter = { key : value }\n",
    "        \n",
    "        # perform random forst\n",
    "        score = machine_learning.LGboost(regressor=False, parameter_dict=parameter)\n",
    "        \n",
    "        results.append((key, value, score))"
   ]
  },
  {
   "cell_type": "markdown",
   "metadata": {},
   "source": [
    "### Show best results"
   ]
  },
  {
   "cell_type": "code",
   "execution_count": 10,
   "metadata": {
    "ExecuteTime": {
     "end_time": "2020-07-31T18:00:37.331486Z",
     "start_time": "2020-07-31T18:00:37.319691Z"
    }
   },
   "outputs": [
    {
     "name": "stdout",
     "output_type": "stream",
     "text": [
      "{'learning_rate': 0.2, 'max_depth': 13, 'num_leaves': 31, 'n_estimators': 70, 'min_data_in_leaf': 100}\n"
     ]
    }
   ],
   "source": [
    "# store best result to be used as parameter\n",
    "best_results_dict = {}\n",
    "\n",
    "# loop through all parameter keys\n",
    "for key in lgb_tune.keys():\n",
    "\n",
    "    # get the values for current key\n",
    "    values = [val for val in results if val[0] == key]\n",
    "    # get the score for current key\n",
    "    scores = [val[2] for val in values]\n",
    "    # get parameter for current key and max score\n",
    "    best_score = [val for val in values if val[2] == min(scores)]\n",
    "    # set diction with best parameter and parameter value\n",
    "    best_results_dict[best_score[0][0]] = best_score[0][1]\n",
    "\n",
    "# print out results\n",
    "print(best_results_dict)\n",
    "\n",
    "# write results to file\n",
    "file_name = f\"{model}_best_results_dict.json\"\n",
    "json_data = json.dumps(best_results_dict)\n",
    "SetDict(file_name,json_data)"
   ]
  },
  {
   "cell_type": "markdown",
   "metadata": {},
   "source": [
    "### Final, Tuned, LgBoost"
   ]
  },
  {
   "cell_type": "code",
   "execution_count": 11,
   "metadata": {
    "ExecuteTime": {
     "end_time": "2020-07-31T18:00:37.834763Z",
     "start_time": "2020-07-31T18:00:37.334091Z"
    }
   },
   "outputs": [
    {
     "name": "stdout",
     "output_type": "stream",
     "text": [
      "The mean squared error is 0.08618471829174171 and accuracy is 0.9138152817082583 and precision is 0.9178794178794178 and         recall is 0.9178794178794178 and f1 is 0.9133695371088699\n"
     ]
    }
   ],
   "source": [
    "# set model name\n",
    "model = 'LGBoost' \n",
    "\n",
    "# call machine learning class\n",
    "machine_learning = MachineLearning(train_data=os.path.join('../data','cleaned','procedure_data.tar.gz'), \n",
    "                                   label='UnpaidClaim',\n",
    "                                   log_file=os.path.join('../logs', f\"{model}\"),\n",
    "                                   imbalance=True)\n",
    " \n",
    "# setup pre processing\n",
    "preprocessing = machine_learning.PreProcessing()\n",
    "\n",
    "# get best_results_dict\n",
    "best_results_dict = GetDict(f\"{model}_best_results_dict.json\")  \n",
    "\n",
    "\n",
    "# perform random forest using best parameters\n",
    "mse, score, report = machine_learning.LGboost(regressor=False, parameter_dict=best_results_dict)\n",
    "        \n",
    "# print final model score\n",
    "print(f\"The mean squared error is {mse} and accuracy is {report['accuracy']} and precision is {report['1']['precision']} and \\\n",
    "        recall is {report['1']['precision']} and f1 is {report['1']['f1-score']}\")"
   ]
  },
  {
   "cell_type": "markdown",
   "metadata": {},
   "source": [
    "# ------ Test Models ------"
   ]
  },
  {
   "cell_type": "markdown",
   "metadata": {},
   "source": [
    "## Logistic Regression Cross Validation"
   ]
  },
  {
   "cell_type": "code",
   "execution_count": 23,
   "metadata": {
    "ExecuteTime": {
     "end_time": "2020-07-31T18:02:06.262167Z",
     "start_time": "2020-07-31T18:02:04.754591Z"
    }
   },
   "outputs": [],
   "source": [
    "# store name to be use in results\n",
    "model = 'LogisticRegression'\n",
    "\n",
    "# store results for all models\n",
    "cv_results = {}\n",
    "\n",
    "# load data\n",
    "machine_learning = MachineLearning(train_data=os.path.join('../data','cleaned','procedure_data.tar.gz'), \n",
    "                                   label='UnpaidClaim',\n",
    "                                   log_file=os.path.join('../logs', f\"{model}_CrossValidation\"),\n",
    "                                   imbalance=True)\n",
    "\n",
    "# setup pre processing\n",
    "preprocessing=machine_learning.PreProcessing()\n",
    "\n",
    "# perform random forest using best parameters\n",
    "mse = machine_learning.LogisticRegression(cross_validation=True)\n",
    "\n",
    "# get max f1 score index\n",
    "index = np.argmax(mse[4])\n",
    "\n",
    "# get minimum mse and corresponding accuracy\n",
    "min_mse = mse[0][index]\n",
    "accuracy = mse[1][index]\n",
    "precision = mse[2][index]\n",
    "recall = mse[3][index]\n",
    "f1 = mse[4][index]\n",
    "\n",
    "# store final model score\n",
    "cv_results[model] = min_mse, accuracy, precision, recall, f1"
   ]
  },
  {
   "cell_type": "markdown",
   "metadata": {},
   "source": [
    "## Random Forest Cross Validation"
   ]
  },
  {
   "cell_type": "code",
   "execution_count": 24,
   "metadata": {
    "ExecuteTime": {
     "end_time": "2020-07-31T18:02:11.501091Z",
     "start_time": "2020-07-31T18:02:08.789912Z"
    }
   },
   "outputs": [],
   "source": [
    "# store name to be use in results\n",
    "model = 'RandomForest'\n",
    "\n",
    "# load data\n",
    "machine_learning = MachineLearning(train_data=os.path.join('../data','cleaned','procedure_data.tar.gz'), \n",
    "                                   label='UnpaidClaim',\n",
    "                                   log_file=os.path.join('../logs', f\"{model}_CrossValidation\"),\n",
    "                                   imbalance=True)\n",
    "\n",
    "# setup pre processing\n",
    "preprocessing = machine_learning.PreProcessing()\n",
    "\n",
    "# get best_results_dict\n",
    "best_results_dict = GetDict(f\"{model}_best_results_dict.json\")  \n",
    "\n",
    "# perform random forest using best parameters\n",
    "mse = machine_learning.RandomForest(\n",
    "    parameter_dict=best_results_dict, regressor=False, cross_validation=True)\n",
    "\n",
    "# get max f1 score index\n",
    "index = np.argmax(mse[4])\n",
    "\n",
    "# get minimum mse and corresponding accuracy\n",
    "min_mse = mse[0][index]\n",
    "accuracy = mse[1][index]\n",
    "precision = mse[2][index]\n",
    "recall = mse[3][index]\n",
    "f1 = mse[4][index]\n",
    "\n",
    "# store final model score\n",
    "cv_results[model] = min_mse, accuracy, precision, recall, f1"
   ]
  },
  {
   "cell_type": "markdown",
   "metadata": {
    "ExecuteTime": {
     "end_time": "2020-07-15T04:29:53.743096Z",
     "start_time": "2020-07-15T04:29:53.740031Z"
    }
   },
   "source": [
    "## XgBoost Forest Cross Validation"
   ]
  },
  {
   "cell_type": "code",
   "execution_count": 25,
   "metadata": {
    "ExecuteTime": {
     "end_time": "2020-07-31T18:02:19.492996Z",
     "start_time": "2020-07-31T18:02:11.503616Z"
    }
   },
   "outputs": [
    {
     "name": "stdout",
     "output_type": "stream",
     "text": [
      "[13:02:11] WARNING: /workspace/src/learner.cc:480: \n",
      "Parameters: { silent } might not be used.\n",
      "\n",
      "  This may not be accurate due to some parameters are only used in language bindings but\n",
      "  passed down to XGBoost core.  Or some parameters are not used but slip through this\n",
      "  verification. Please open an issue if you find above cases.\n",
      "\n",
      "\n",
      "[13:02:13] WARNING: /workspace/src/learner.cc:480: \n",
      "Parameters: { silent } might not be used.\n",
      "\n",
      "  This may not be accurate due to some parameters are only used in language bindings but\n",
      "  passed down to XGBoost core.  Or some parameters are not used but slip through this\n",
      "  verification. Please open an issue if you find above cases.\n",
      "\n",
      "\n",
      "[13:02:14] WARNING: /workspace/src/learner.cc:480: \n",
      "Parameters: { silent } might not be used.\n",
      "\n",
      "  This may not be accurate due to some parameters are only used in language bindings but\n",
      "  passed down to XGBoost core.  Or some parameters are not used but slip through this\n",
      "  verification. Please open an issue if you find above cases.\n",
      "\n",
      "\n",
      "[13:02:15] WARNING: /workspace/src/learner.cc:480: \n",
      "Parameters: { silent } might not be used.\n",
      "\n",
      "  This may not be accurate due to some parameters are only used in language bindings but\n",
      "  passed down to XGBoost core.  Or some parameters are not used but slip through this\n",
      "  verification. Please open an issue if you find above cases.\n",
      "\n",
      "\n",
      "[13:02:17] WARNING: /workspace/src/learner.cc:480: \n",
      "Parameters: { silent } might not be used.\n",
      "\n",
      "  This may not be accurate due to some parameters are only used in language bindings but\n",
      "  passed down to XGBoost core.  Or some parameters are not used but slip through this\n",
      "  verification. Please open an issue if you find above cases.\n",
      "\n",
      "\n",
      "[13:02:18] WARNING: /workspace/src/learner.cc:480: \n",
      "Parameters: { silent } might not be used.\n",
      "\n",
      "  This may not be accurate due to some parameters are only used in language bindings but\n",
      "  passed down to XGBoost core.  Or some parameters are not used but slip through this\n",
      "  verification. Please open an issue if you find above cases.\n",
      "\n",
      "\n"
     ]
    }
   ],
   "source": [
    "# store name to be use in results\n",
    "model = 'XGBoost'\n",
    "\n",
    "# load data\n",
    "machine_learning = MachineLearning(train_data=os.path.join('../data','cleaned','procedure_data.tar.gz'), \n",
    "                                   label='UnpaidClaim',\n",
    "                                   log_file=os.path.join('../logs', f\"{model}_CrossValidation\"),\n",
    "                                   imbalance=True)\n",
    "\n",
    "# setup pre processing\n",
    "preprocessing = machine_learning.PreProcessing()\n",
    "\n",
    "# get best_results_dict\n",
    "best_results_dict = GetDict(f\"{model}_best_results_dict.json\")  \n",
    "\n",
    "# perform random forest using best parameters\n",
    "mse = machine_learning.XGboost(\n",
    "    parameter_dict=best_results_dict, regressor=False, cross_validation=True)\n",
    "\n",
    "# get max f1 score index\n",
    "index = np.argmax(mse[4])\n",
    "\n",
    "# get minimum mse and corresponding accuracy\n",
    "min_mse = mse[0][index]\n",
    "accuracy = mse[1][index]\n",
    "precision = mse[2][index]\n",
    "recall = mse[3][index]\n",
    "f1 = mse[4][index]\n",
    "\n",
    "# store final model score\n",
    "cv_results[model] = min_mse, accuracy, precision, recall, f1"
   ]
  },
  {
   "cell_type": "markdown",
   "metadata": {},
   "source": [
    "## LgBoost Forest Cross Validation"
   ]
  },
  {
   "cell_type": "code",
   "execution_count": 26,
   "metadata": {
    "ExecuteTime": {
     "end_time": "2020-07-31T18:02:21.027962Z",
     "start_time": "2020-07-31T18:02:19.495517Z"
    }
   },
   "outputs": [],
   "source": [
    "# store name to be use in results\n",
    "model = 'LGBoost'\n",
    "\n",
    "# load data\n",
    "machine_learning = MachineLearning(train_data=os.path.join('../data','cleaned','procedure_data.tar.gz'), \n",
    "                                   label='UnpaidClaim',\n",
    "                                   log_file=os.path.join('../logs', f\"{model}_CrossValidation\"),\n",
    "                                   imbalance=True)\n",
    "\n",
    "# setup pre processing\n",
    "preprocessing = machine_learning.PreProcessing()\n",
    "\n",
    "# get best_results_dict\n",
    "best_results_dict = GetDict(f\"{model}_best_results_dict.json\")  \n",
    "\n",
    "# perform random forest using best parameters\n",
    "mse = machine_learning.LGboost(\n",
    "    parameter_dict=best_results_dict, regressor=False, cross_validation=True)\n",
    "\n",
    "# get max f1 score index\n",
    "index = np.argmax(mse[4])\n",
    "\n",
    "# get minimum mse and corresponding accuracy\n",
    "min_mse = mse[0][index]\n",
    "accuracy = mse[1][index]\n",
    "precision = mse[2][index]\n",
    "recall = mse[3][index]\n",
    "f1 = mse[4][index]\n",
    "\n",
    "# store final model score\n",
    "cv_results[model] = min_mse, accuracy, precision, recall, f1"
   ]
  },
  {
   "cell_type": "markdown",
   "metadata": {},
   "source": [
    "## Show model results"
   ]
  },
  {
   "cell_type": "code",
   "execution_count": 27,
   "metadata": {
    "ExecuteTime": {
     "end_time": "2020-07-31T18:02:21.057753Z",
     "start_time": "2020-07-31T18:02:21.030299Z"
    }
   },
   "outputs": [
    {
     "data": {
      "text/html": [
       "<div>\n",
       "<style scoped>\n",
       "    .dataframe tbody tr th:only-of-type {\n",
       "        vertical-align: middle;\n",
       "    }\n",
       "\n",
       "    .dataframe tbody tr th {\n",
       "        vertical-align: top;\n",
       "    }\n",
       "\n",
       "    .dataframe thead th {\n",
       "        text-align: right;\n",
       "    }\n",
       "</style>\n",
       "<table border=\"1\" class=\"dataframe\">\n",
       "  <thead>\n",
       "    <tr style=\"text-align: right;\">\n",
       "      <th></th>\n",
       "      <th>Model</th>\n",
       "      <th>MeanSquaredError</th>\n",
       "      <th>Accuracy</th>\n",
       "      <th>Precision</th>\n",
       "      <th>Recall</th>\n",
       "      <th>F1</th>\n",
       "    </tr>\n",
       "  </thead>\n",
       "  <tbody>\n",
       "    <tr>\n",
       "      <th>0</th>\n",
       "      <td>LogisticRegression</td>\n",
       "      <td>0.195246</td>\n",
       "      <td>0.804754</td>\n",
       "      <td>0.754610</td>\n",
       "      <td>0.903226</td>\n",
       "      <td>0.822257</td>\n",
       "    </tr>\n",
       "    <tr>\n",
       "      <th>1</th>\n",
       "      <td>RandomForest</td>\n",
       "      <td>0.171477</td>\n",
       "      <td>0.828523</td>\n",
       "      <td>0.782482</td>\n",
       "      <td>0.910017</td>\n",
       "      <td>0.841444</td>\n",
       "    </tr>\n",
       "    <tr>\n",
       "      <th>2</th>\n",
       "      <td>XGBoost</td>\n",
       "      <td>0.170628</td>\n",
       "      <td>0.829372</td>\n",
       "      <td>0.774788</td>\n",
       "      <td>0.928693</td>\n",
       "      <td>0.844788</td>\n",
       "    </tr>\n",
       "    <tr>\n",
       "      <th>3</th>\n",
       "      <td>LGBoost</td>\n",
       "      <td>0.092569</td>\n",
       "      <td>0.907431</td>\n",
       "      <td>0.920315</td>\n",
       "      <td>0.892190</td>\n",
       "      <td>0.906034</td>\n",
       "    </tr>\n",
       "  </tbody>\n",
       "</table>\n",
       "</div>"
      ],
      "text/plain": [
       "                Model  MeanSquaredError  Accuracy  Precision    Recall  \\\n",
       "0  LogisticRegression          0.195246  0.804754   0.754610  0.903226   \n",
       "1        RandomForest          0.171477  0.828523   0.782482  0.910017   \n",
       "2             XGBoost          0.170628  0.829372   0.774788  0.928693   \n",
       "3             LGBoost          0.092569  0.907431   0.920315  0.892190   \n",
       "\n",
       "         F1  \n",
       "0  0.822257  \n",
       "1  0.841444  \n",
       "2  0.844788  \n",
       "3  0.906034  "
      ]
     },
     "execution_count": 27,
     "metadata": {},
     "output_type": "execute_result"
    }
   ],
   "source": [
    "# show model results\n",
    "model_dataframe = pd.DataFrame()\n",
    "model_dataframe['Model'] = cv_results.keys()\n",
    "model_dataframe['MeanSquaredError'] = [v[0] for v in cv_results.values()]\n",
    "model_dataframe['Accuracy'] = [v[1] for v in cv_results.values()]\n",
    "model_dataframe['Precision'] = [v[2] for v in cv_results.values()]\n",
    "model_dataframe['Recall'] = [v[3] for v in cv_results.values()]\n",
    "model_dataframe['F1'] = [v[4] for v in cv_results.values()]\n",
    "model_dataframe"
   ]
  },
  {
   "cell_type": "markdown",
   "metadata": {},
   "source": [
    "## Save results to file"
   ]
  },
  {
   "cell_type": "code",
   "execution_count": 28,
   "metadata": {
    "ExecuteTime": {
     "end_time": "2020-07-31T18:02:31.074817Z",
     "start_time": "2020-07-31T18:02:31.069555Z"
    }
   },
   "outputs": [],
   "source": [
    "# write dataframe to file\n",
    "model_dataframe.to_csv(os.path.join('../logs','FinalResults.csv'), index=False)"
   ]
  },
  {
   "cell_type": "markdown",
   "metadata": {
    "ExecuteTime": {
     "end_time": "2020-07-15T04:34:27.756703Z",
     "start_time": "2020-07-15T04:34:27.753878Z"
    }
   },
   "source": [
    "## Select best model"
   ]
  },
  {
   "cell_type": "code",
   "execution_count": 29,
   "metadata": {
    "ExecuteTime": {
     "end_time": "2020-07-31T18:02:32.133505Z",
     "start_time": "2020-07-31T18:02:32.120905Z"
    }
   },
   "outputs": [
    {
     "data": {
      "text/html": [
       "<div>\n",
       "<style scoped>\n",
       "    .dataframe tbody tr th:only-of-type {\n",
       "        vertical-align: middle;\n",
       "    }\n",
       "\n",
       "    .dataframe tbody tr th {\n",
       "        vertical-align: top;\n",
       "    }\n",
       "\n",
       "    .dataframe thead th {\n",
       "        text-align: right;\n",
       "    }\n",
       "</style>\n",
       "<table border=\"1\" class=\"dataframe\">\n",
       "  <thead>\n",
       "    <tr style=\"text-align: right;\">\n",
       "      <th></th>\n",
       "      <th>Model</th>\n",
       "      <th>MeanSquaredError</th>\n",
       "      <th>Accuracy</th>\n",
       "      <th>Precision</th>\n",
       "      <th>Recall</th>\n",
       "      <th>F1</th>\n",
       "    </tr>\n",
       "  </thead>\n",
       "  <tbody>\n",
       "    <tr>\n",
       "      <th>3</th>\n",
       "      <td>LGBoost</td>\n",
       "      <td>0.092569</td>\n",
       "      <td>0.907431</td>\n",
       "      <td>0.920315</td>\n",
       "      <td>0.89219</td>\n",
       "      <td>0.906034</td>\n",
       "    </tr>\n",
       "  </tbody>\n",
       "</table>\n",
       "</div>"
      ],
      "text/plain": [
       "     Model  MeanSquaredError  Accuracy  Precision   Recall        F1\n",
       "3  LGBoost          0.092569  0.907431   0.920315  0.89219  0.906034"
      ]
     },
     "execution_count": 29,
     "metadata": {},
     "output_type": "execute_result"
    }
   ],
   "source": [
    "#select the model with the lowest error as your \"production\" model\n",
    "model_dataframe = pd.read_csv(os.path.join('../logs', 'FinalResults.csv'), low_memory=False)\n",
    "best_model = model_dataframe.loc[model_dataframe['MeanSquaredError'] == min(model_dataframe['MeanSquaredError'])]\n",
    "best_model"
   ]
  },
  {
   "cell_type": "markdown",
   "metadata": {},
   "source": [
    "## Save Final Model"
   ]
  },
  {
   "cell_type": "code",
   "execution_count": 30,
   "metadata": {
    "ExecuteTime": {
     "end_time": "2020-07-31T18:02:36.758739Z",
     "start_time": "2020-07-31T18:02:36.494696Z"
    }
   },
   "outputs": [],
   "source": [
    "# store name to be use in results\n",
    "model = best_model['Model'].to_string(index=False).strip()\n",
    "\n",
    "# load data\n",
    "machine_learning = MachineLearning(train_data=os.path.join('../data','cleaned','procedure_data.tar.gz'), \n",
    "                                   label='UnpaidClaim',\n",
    "                                   log_file=os.path.join('../logs', f\"{model}_FinalModel\"),\n",
    "                                   imbalance=True)\n",
    "\n",
    "# setup pre processing\n",
    "preprocessing = machine_learning.PreProcessing()\n",
    "\n",
    "if model == 'LogisticRegression':\n",
    "    machine_learning.LogisticRegression(save_model=True)\n",
    "elif model == 'RandomForest':\n",
    "    best_results_dict = GetDict(f\"{model}_best_results_dict.json\")  \n",
    "    machine_learning.RandomForest(\n",
    "        parameter_dict=best_results_dict, regressor=False, save_model=True)\n",
    "elif model == 'XGBoost':\n",
    "    best_results_dict = GetDict(f\"{model}_best_results_dict.json\")  \n",
    "    machine_learning.XGboost(parameter_dict=best_results_dict, regressor=False, save_model=True)\n",
    "elif model == 'LGBoost':\n",
    "    best_results_dict = GetDict(f\"{model}_best_results_dict.json\")  \n",
    "    machine_learning.LGboost(parameter_dict=best_results_dict, regressor=False, save_model=True)\n",
    "else:\n",
    "    print(f'{model} not found')"
   ]
  },
  {
   "cell_type": "markdown",
   "metadata": {},
   "source": [
    "## Feature Importance for Best Model"
   ]
  },
  {
   "cell_type": "code",
   "execution_count": 31,
   "metadata": {
    "ExecuteTime": {
     "end_time": "2020-07-31T18:04:38.923774Z",
     "start_time": "2020-07-31T18:04:38.713146Z"
    }
   },
   "outputs": [
    {
     "data": {
      "image/png": "[encoded data removed]",
      "text/plain": [
       "<Figure size 432x288 with 1 Axes>"
      ]
     },
     "metadata": {
      "needs_background": "light"
     },
     "output_type": "display_data"
    }
   ],
   "source": [
    "# store name to be use in results\n",
    "model_name = best_model['Model'].to_string(index=False).strip()\n",
    "\n",
    "# plot feature importance for the best model\n",
    "FeatureImportance(model=model_name);\n",
    "\n"
   ]
  },
  {
   "cell_type": "markdown",
   "metadata": {},
   "source": [
    "## h2o Auto ML"
   ]
  },
  {
   "cell_type": "code",
   "execution_count": 21,
   "metadata": {
    "ExecuteTime": {
     "end_time": "2020-07-31T18:00:57.993086Z",
     "start_time": "2020-07-31T18:00:57.989845Z"
    }
   },
   "outputs": [],
   "source": [
    "# # initiate h2o\n",
    "# h2o.init()\n",
    "\n",
    "# # Import claims data (same split used in above modeling) set into H2O\n",
    "# train = h2o.import_file(os.path.join('../data', 'train_test_split', 'procedure_train_data.csv'))\n",
    "# test = h2o.import_file(os.path.join('../data', 'train_test_split', 'procedure_test_data.csv'))\n",
    "\n",
    "# # Identify predictors and response\n",
    "# x = train.columns\n",
    "# y = \"UnpaidClaim\"\n",
    "# x.remove(y)\n",
    "\n",
    "# # Run AutoML for 20 base models (limited to 1 hour max runtime by default)\n",
    "# # Exclude Stacked Ensemble models as they will not include Feature Importance\n",
    "# aml = H2OAutoML(max_models=20, seed=1, exclude_algos=['StackedEnsemble'])\n",
    "# aml.train(x=x, y=y, training_frame=train)\n",
    "\n",
    "# # View the AutoML Leaderboard\n",
    "# lb = aml.leaderboard\n",
    "# lb.head(rows=lb.nrows)  # Print all rows instead of default (10 rows)"
   ]
  },
  {
   "cell_type": "code",
   "execution_count": 22,
   "metadata": {
    "ExecuteTime": {
     "end_time": "2020-07-31T18:00:58.058292Z",
     "start_time": "2020-07-31T18:00:57.995973Z"
    },
    "scrolled": false
   },
   "outputs": [],
   "source": [
    "# The leader model is stored here\n",
    "# aml.leader"
   ]
  }
 ],
 "metadata": {
  "kernelspec": {
   "display_name": "Python (claims)",
   "language": "python",
   "name": "claims"
  },
  "language_info": {
   "codemirror_mode": {
    "name": "ipython",
    "version": 3
   },
   "file_extension": ".py",
   "mimetype": "text/x-python",
   "name": "python",
   "nbconvert_exporter": "python",
   "pygments_lexer": "ipython3",
   "version": "3.7.7"
  },
  "toc": {
   "base_numbering": 1,
   "nav_menu": {},
   "number_sections": true,
   "sideBar": true,
   "skip_h1_title": false,
   "title_cell": "Table of Contents",
   "title_sidebar": "Contents",
   "toc_cell": false,
   "toc_position": {
    "height": "calc(100% - 180px)",
    "left": "10px",
    "top": "150px",
    "width": "307.594px"
   },
   "toc_section_display": true,
   "toc_window_display": true
  }
 },
 "nbformat": 4,
 "nbformat_minor": 4
}
